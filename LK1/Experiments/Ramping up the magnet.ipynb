{
 "cells": [
  {
   "cell_type": "markdown",
   "metadata": {},
   "source": [
    "# Status\n",
    "\n",
    "## Things we need to do\n",
    "\n",
    "* talk to magnet\n",
    "* get data with the alazar, rather than VNA\n",
    "* plot the data as we measure/ramp\n"
   ]
  },
  {
   "cell_type": "code",
   "execution_count": 1,
   "metadata": {
    "ExecuteTime": {
     "end_time": "2018-10-30T10:02:56.830086Z",
     "start_time": "2018-10-30T10:02:55.115843Z"
    }
   },
   "outputs": [],
   "source": [
    "import qcodes as qc\n",
    "import broadbean as bb\n",
    "from pytopo.qctools import instruments as instools\n",
    "from pytopo.qctools.instruments import create_inst, add2station\n",
    "from pytopo.cQED import softwarespec as ss"
   ]
  },
  {
   "cell_type": "code",
   "execution_count": 2,
   "metadata": {
    "ExecuteTime": {
     "end_time": "2018-10-30T10:02:57.378876Z",
     "start_time": "2018-10-30T10:02:57.178745Z"
    }
   },
   "outputs": [
    {
     "name": "stdout",
     "output_type": "stream",
     "text": [
      "Connected to: OXFORD INSTRUMENTS MERCURY IPS (serial:124050266, firmware:2.6.04.000) in 0.19s\n"
     ]
    }
   ],
   "source": []
  },
  {
   "cell_type": "code",
   "execution_count": 3,
   "metadata": {
    "ExecuteTime": {
     "end_time": "2018-10-30T10:03:00.634882Z",
     "start_time": "2018-10-30T10:03:00.620870Z"
    }
   },
   "outputs": [
    {
     "name": "stdout",
     "output_type": "stream",
     "text": [
      "PS A/T: 59.335 59.335 18.33\n"
     ]
    }
   ],
   "source": [
    "print(\"PS A/T:\", mgnt.GRPX.ATOB(), mgnt.GRPY.ATOB(), mgnt.GRPZ.ATOB())"
   ]
  },
  {
   "cell_type": "code",
   "execution_count": 10,
   "metadata": {
    "ExecuteTime": {
     "end_time": "2018-10-30T10:04:00.883966Z",
     "start_time": "2018-10-30T10:04:00.788218Z"
    }
   },
   "outputs": [
    {
     "name": "stdout",
     "output_type": "stream",
     "text": [
      "FieldVector(r=2.26, phi=-0.0, theta=0.0)\n"
     ]
    }
   ],
   "source": [
    "print(mgnt.field_measured().repr_spherical())"
   ]
  },
  {
   "cell_type": "code",
   "execution_count": 9,
   "metadata": {
    "ExecuteTime": {
     "end_time": "2018-10-30T10:03:56.389582Z",
     "start_time": "2018-10-30T10:03:56.380559Z"
    }
   },
   "outputs": [],
   "source": [
    "mgnt.GRPY.field_target(0.0)\n",
    "\n"
   ]
  },
  {
   "cell_type": "code",
   "execution_count": null,
   "metadata": {
    "ExecuteTime": {
     "end_time": "2018-10-29T17:16:17.451649Z",
     "start_time": "2018-10-29T17:16:17.249006Z"
    }
   },
   "outputs": [],
   "source": [
    "print(f'Magnet reached {mgnt.field_measured().repr_spherical()}', end='\\r')"
   ]
  },
  {
   "cell_type": "code",
   "execution_count": null,
   "metadata": {
    "ExecuteTime": {
     "end_time": "2018-10-30T10:02:08.982639Z",
     "start_time": "2018-10-30T10:02:08.972631Z"
    }
   },
   "outputs": [],
   "source": [
    "setup_single_averaged_IQpoint(time_bin, integration_time, setup_awg=True)\n",
    "get_single_averaged_IQpoint_chanA()"
   ]
  },
  {
   "cell_type": "code",
   "execution_count": null,
   "metadata": {},
   "outputs": [],
   "source": []
  }
 ],
 "metadata": {
  "kernelspec": {
   "display_name": "Python 3",
   "language": "python",
   "name": "python3"
  },
  "language_info": {
   "codemirror_mode": {
    "name": "ipython",
    "version": 3
   },
   "file_extension": ".py",
   "mimetype": "text/x-python",
   "name": "python",
   "nbconvert_exporter": "python",
   "pygments_lexer": "ipython3",
   "version": "3.6.6"
  },
  "toc": {
   "base_numbering": 1,
   "nav_menu": {},
   "number_sections": true,
   "sideBar": true,
   "skip_h1_title": false,
   "title_cell": "Table of Contents",
   "title_sidebar": "Contents",
   "toc_cell": false,
   "toc_position": {},
   "toc_section_display": true,
   "toc_window_display": false
  }
 },
 "nbformat": 4,
 "nbformat_minor": 2
}

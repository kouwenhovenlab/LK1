{
 "cells": [
  {
   "cell_type": "code",
   "execution_count": 1,
   "metadata": {
    "ExecuteTime": {
     "end_time": "2018-11-12T17:52:45.073424Z",
     "start_time": "2018-11-12T17:52:42.806924Z"
    }
   },
   "outputs": [],
   "source": [
    "%matplotlib notebook\n",
    "\n",
    "import logging\n",
    "import time\n",
    "from importlib import reload\n",
    "\n",
    "from matplotlib import pyplot as plt\n",
    "from matplotlib import colors, cm\n",
    "import numpy as np\n",
    "\n",
    "import qcodes\n",
    "import qcodes as qc\n",
    "from qcodes.instrument.parameter import Parameter\n",
    "from qcodes.dataset.measurements import Measurement\n",
    "from qcodes.dataset.experiment_container import new_experiment"
   ]
  },
  {
   "cell_type": "code",
   "execution_count": 2,
   "metadata": {
    "ExecuteTime": {
     "end_time": "2018-11-12T17:24:28.083533Z",
     "start_time": "2018-11-12T17:24:28.081532Z"
    }
   },
   "outputs": [],
   "source": [
    "# %qtconsole"
   ]
  },
  {
   "cell_type": "markdown",
   "metadata": {},
   "source": [
    "# Custom imports"
   ]
  },
  {
   "cell_type": "code",
   "execution_count": 2,
   "metadata": {
    "ExecuteTime": {
     "end_time": "2018-11-12T17:52:45.132468Z",
     "start_time": "2018-11-12T17:52:45.076429Z"
    }
   },
   "outputs": [],
   "source": [
    "from pytopo.awg_sequencing import broadbean as bbtools; reload(bbtools)\n",
    "from pytopo.awg_sequencing import awg_tools; reload(awg_tools)\n",
    "from pytopo.rf.alazar import acquisition_tools; reload(acquisition_tools)\n",
    "from pytopo.rf.alazar import awg_sequences; reload(awg_sequences)\n",
    "from pytopo.rf.alazar import acquisition_controllers; reload(acquisition_controllers)\n",
    "\n",
    "from plottr import qcodes_dataset; reload(qcodes_dataset)\n",
    "from plottr.qcodes_dataset import QcodesDatasetSubscriber"
   ]
  },
  {
   "cell_type": "code",
   "execution_count": 3,
   "metadata": {
    "ExecuteTime": {
     "end_time": "2018-11-12T17:52:45.532756Z",
     "start_time": "2018-11-12T17:52:45.134468Z"
    }
   },
   "outputs": [],
   "source": [
    "from qcodes.instrument.parameter import Parameter\n",
    "from qcodes.dataset.plotting import plot_by_id\n",
    "from qcodes.dataset.data_export import get_data_by_id\n",
    "\n",
    "from pytopo.sweep.base import Nest, Chain \n",
    "from pytopo.sweep.decorators import getter, setter\n",
    "from pytopo.sweep import sweep, do_experiment, hardsweep, measure\n",
    "\n",
    "from qcodes.math.field_vector import FieldVector\n",
    "from pytopo.field_optimization.movement import FieldOptimizationProblem \n",
    "from pytopo.cQED import softwarespec as ss"
   ]
  },
  {
   "cell_type": "markdown",
   "metadata": {},
   "source": [
    "# Measurement functions"
   ]
  },
  {
   "cell_type": "markdown",
   "metadata": {
    "heading_collapsed": true
   },
   "source": [
    "## Qubit measurements"
   ]
  },
  {
   "cell_type": "code",
   "execution_count": 19,
   "metadata": {
    "ExecuteTime": {
     "end_time": "2018-11-12T17:59:13.207557Z",
     "start_time": "2018-11-12T17:59:13.199571Z"
    },
    "hidden": true
   },
   "outputs": [],
   "source": [
    "from lmfit.models import LorentzianModel\n",
    "def fit_lorentzian(x,y):\n",
    "    mod = LorentzianModel()\n",
    "\n",
    "    pars = mod.guess(y, x=x)\n",
    "    out = mod.fit(y, pars, x=x)\n",
    "    return out\n",
    "\n",
    "# xtest=np.arange(-100,100.,1)\n",
    "# ytest=1.0/np.pi*(2.0/((xtest-3)**2+2.0**2))\n",
    "\n",
    "# plt.plot(xtest,ytest,'.')\n",
    "# output=fit_lorentzian(xtest,ytest)\n",
    "# output.plot_fit()\n",
    "# output.best_values['sigma']\n",
    "# output.best_values['center']\n",
    "\n",
    "def get_resonator_spec_and_fit(frequencies):\n",
    "    mag, phase = ss.get_soft_sweep_trace()\n",
    "    out = fit_lorentzian(frequencies, mag**2)\n",
    "    return mag, phase, out\n",
    "\n",
    "@hardsweep(\n",
    "    ind=[('frequency', 'Hz', 'array')], \n",
    "    dep=[('signal_magnitude', 'V', 'array'), ('signal_phase', 'deg', 'array'), ('peak_frq', 'Hz', 'array')]\n",
    ")\n",
    "def measure_qubit_spec_optimize_resonator(resonator_frequencies, resonator_src, \n",
    "                                          qubit_frequencies, qubit_src, integration_time=10e-3,\n",
    "                                          *arg, **kw):\n",
    "    \"\"\"\n",
    "    Use the softspec controller to measure a software-controlled spectrum.\n",
    "    time_bin is the time per buffer, integration_time sets how many buffers we'll average per \n",
    "    frequency point.\n",
    "    \"\"\"    \n",
    "    ctl = ss.setup_soft_sweep(resonator_frequencies, resonator_src.frequency, \n",
    "                           integration_time=integration_time, setup_awg=False, **kw)\n",
    "    \n",
    "    _, _, fitout = get_resonator_spec_and_fit(resonator_frequencies)\n",
    "    peak_frequency = fitout.best_values['center']\n",
    "    resonator_src.frequency(peak_frequency)\n",
    "    print(f'Found resonator peak frequency: {peak_frequency:1.5e}')\n",
    "    \n",
    "    ctl = ss.setup_soft_sweep(qubit_frequencies, qubit_src.frequency, \n",
    "                           integration_time=integration_time, setup_awg=False, **kw)    \n",
    "    mag, phase = ss.get_soft_sweep_trace(ctl)\n",
    "       \n",
    "    \n",
    "    return (qubit_frequencies.reshape(-1), \n",
    "            np.vstack((mag.reshape(-1), phase.reshape(-1), np.ones(qubit_frequencies.size) * peak_frequency)))"
   ]
  },
  {
   "cell_type": "markdown",
   "metadata": {},
   "source": [
    "## Get resonator trace and plot"
   ]
  },
  {
   "cell_type": "code",
   "execution_count": 17,
   "metadata": {
    "ExecuteTime": {
     "end_time": "2018-11-12T17:55:30.506986Z",
     "start_time": "2018-11-12T17:55:30.502983Z"
    }
   },
   "outputs": [],
   "source": [
    "from functools import partial\n",
    "from qcodes.math.field_vector import FieldVector\n",
    "\n",
    "def get_resonator_freq(): #helper function to pass variables into resonator spec\n",
    "    global xvals\n",
    "    return get_resonator_spec_and_fit(xvals)\n",
    "\n",
    "def get_resonator_FWHM(): #helper function to pass variables into resonator spec\n",
    "    global xvals\n",
    "    _,_,fitout=get_resonator_spec_and_fit(xvals)\n",
    "    return 2*fitout.params['sigma'].value\n",
    "\n",
    "def measure_and_plot_resonator(ax, line): #plots the trace\n",
    "    liney, phasey, fitout = get_resonator_freq()\n",
    "    time.sleep(0.5)\n",
    "    \n",
    "    line.set_ydata(liney)\n",
    "    ax.relim()\n",
    "    ax.autoscale_view(True, True, True)\n",
    "    ax.get_figure().canvas.draw()\n",
    "    \n",
    "    return fitout.params['center'].value"
   ]
  },
  {
   "cell_type": "markdown",
   "metadata": {},
   "source": [
    "# Init"
   ]
  },
  {
   "cell_type": "markdown",
   "metadata": {},
   "source": [
    "## Configurables"
   ]
  },
  {
   "cell_type": "code",
   "execution_count": 5,
   "metadata": {
    "ExecuteTime": {
     "end_time": "2018-11-12T17:52:49.896054Z",
     "start_time": "2018-11-12T17:52:49.893050Z"
    }
   },
   "outputs": [],
   "source": [
    "SAMPLE = \"20170926_20nm_37_d2_CD20181017\""
   ]
  },
  {
   "cell_type": "markdown",
   "metadata": {},
   "source": [
    "## Initialize instruments"
   ]
  },
  {
   "cell_type": "code",
   "execution_count": 6,
   "metadata": {
    "ExecuteTime": {
     "end_time": "2018-11-12T17:52:55.272899Z",
     "start_time": "2018-11-12T17:52:50.579943Z"
    }
   },
   "outputs": [
    {
     "name": "stdout",
     "output_type": "stream",
     "text": [
      "Connected to: TEKTRONIX AWG5014C (serial:B010125, firmware:SCPI:99.0 FW:4.1.1.5) in 0.10s\n",
      "Connected to: Rohde&Schwarz SGS100A (serial:1416.0505k02/110435, firmware:3.1.19.15-3.50.124.67) in 0.03s\n",
      "Connected to: Rohde&Schwarz SGS100A (serial:1416.0505k02/110869, firmware:3.1.19.26-3.50.124.73) in 0.04s\n",
      "Connected to: Rohde&Schwarz SGS100A (serial:1416.0505k02/110430, firmware:3.1.19.15-3.50.124.67) in 0.04s\n",
      "Connected to: Agilent Technologies E8267D (serial:US50350091, firmware:C.06.10) in 0.09s\n",
      "Connected to: OXFORD INSTRUMENTS MERCURY IPS (serial:124050266, firmware:2.6.04.000) in 0.16s\n"
     ]
    }
   ],
   "source": [
    "%run -i D:/OneDrive/Setups/LK1/LK1_code/Code/LK1/LK1/init_station_cqed.py"
   ]
  },
  {
   "cell_type": "code",
   "execution_count": 8,
   "metadata": {
    "ExecuteTime": {
     "end_time": "2018-11-12T17:52:58.404024Z",
     "start_time": "2018-11-12T17:52:58.341979Z"
    }
   },
   "outputs": [
    {
     "name": "stdout",
     "output_type": "stream",
     "text": [
      "Instrument ivvi already exists.\n",
      "Initialized IVVI-rack in 0.03s\n"
     ]
    },
    {
     "name": "stderr",
     "output_type": "stream",
     "text": [
      "d:\\onedrive\\setups\\lk1\\lk1_code\\code\\qcodes\\qcodes\\instrument\\parameter.py:585: UserWarning: set_step is deprecated use step property as in `inst.step = stepvalue` instead\n",
      "  \"set_step is deprecated use step property as in `inst.step = \"\n",
      "d:\\onedrive\\setups\\lk1\\lk1_code\\code\\qcodes\\qcodes\\instrument\\parameter.py:597: UserWarning: set_delay is deprecated use inter_delay or post_delay property as in `inst.inter_delay = delayvalue` instead\n",
      "  \"set_delay is deprecated use inter_delay or post_delay property \"\n"
     ]
    }
   ],
   "source": [
    "from qcodes.instrument_drivers.QuTech.IVVI import IVVI\n",
    "ivvi = create_inst(IVVI, 'ivvi', address='ASRL1', numdacs=16, force_new_instance=True)\n",
    "add2station(station, ivvi)\n",
    "\n",
    "numdacs = int(ivvi._numdacs)\n",
    "for i in range(1, numdacs+1):\n",
    "    station.ivvi.parameters['dac{}'.format(i)].set_step(10)\n",
    "    station.ivvi.parameters['dac{}'.format(i)].set_delay(0.001)"
   ]
  },
  {
   "cell_type": "code",
   "execution_count": 9,
   "metadata": {
    "ExecuteTime": {
     "end_time": "2018-11-12T17:52:59.949663Z",
     "start_time": "2018-11-12T17:52:59.557393Z"
    }
   },
   "outputs": [
    {
     "data": {
      "text/plain": [
       "(5475000000.0, 5500000000.0, 8020000000.0)"
      ]
     },
     "execution_count": 9,
     "metadata": {},
     "output_type": "execute_result"
    }
   ],
   "source": [
    "with station.alazar.syncing():\n",
    "    station.alazar.channel_range1(0.4)\n",
    "    station.alazar.channel_range2(0.4)\n",
    "    station.alazar.sample_rate(int(2.0e8))\n",
    "    \n",
    "station.hetsrc.RF.power(-70)\n",
    "station.hetsrc.IF(25e6)\n",
    "station.hetsrc.frequency(5.5e9)\n",
    "\n",
    "#station.TWPA.power(8.5)\n",
    "#station.TWPA.frequency(8.0123e9)\n",
    "\n",
    "station.LO.frequency(), station.RF.frequency(), station.TWPA.frequency()"
   ]
  },
  {
   "cell_type": "markdown",
   "metadata": {},
   "source": [
    "## Setting up Alazar acquisition controllers"
   ]
  },
  {
   "cell_type": "code",
   "execution_count": 10,
   "metadata": {
    "ExecuteTime": {
     "end_time": "2018-11-12T17:53:04.011429Z",
     "start_time": "2018-11-12T17:53:00.987338Z"
    }
   },
   "outputs": [
    {
     "name": "stdout",
     "output_type": "stream",
     "text": [
      "Allocating 500000000 elements (2000.0 MB, dtype: <class 'numpy.int32'>)\n",
      "Allocating 500000000 elements (2000.0 MB, dtype: <class 'numpy.int32'>)\n"
     ]
    }
   ],
   "source": [
    "# regular post-measurement IQ demod controller\n",
    "post_iq_acq = instools.create_inst(acquisition_controllers.PostIQCtl, \n",
    "                                   'post_iq_acq', 'alazar',\n",
    "                                   allocate_samples=5e8, \n",
    "                                   force_new_instance=True)\n",
    "add2station(station, post_iq_acq)\n",
    "post_iq_acq.demod_frq(2.5e7)\n",
    "\n",
    "# controller that can step frequencies during acquisition.\n",
    "softsweep_ctl = instools.create_inst(ss.SoftSweepCtl,\n",
    "                                     'softsweep_ctl', 'alazar',\n",
    "                                     allocate_samples=5e8, \n",
    "                                     force_new_instance=True)\n",
    "add2station(station, softsweep_ctl)\n",
    "softsweep_ctl.demod_frq(2.5e7)"
   ]
  },
  {
   "cell_type": "markdown",
   "metadata": {},
   "source": [
    "## Essential AWG Sequences"
   ]
  },
  {
   "cell_type": "code",
   "execution_count": 11,
   "metadata": {
    "ExecuteTime": {
     "end_time": "2018-11-12T17:53:19.233987Z",
     "start_time": "2018-11-12T17:53:19.228982Z"
    }
   },
   "outputs": [],
   "source": [
    "from pytopo.rf.alazar.awg_sequences import TriggerSequence\n",
    "\n",
    "TriggerSequence.chan_map = {\n",
    "    1 : ['pulse', 'ats_trigger', 'ro_trigger'],\n",
    "    2 : [None, 'qb_trigger', None],\n",
    "}\n",
    "TriggerSequence.chan_settings = {\n",
    "    1 : {\n",
    "        'marker_hi' : [1.5, 1.5],\n",
    "        'marker_lo' : [-0.3, -0.3],\n",
    "        },\n",
    "    2 : {\n",
    "        'marker_hi' : [1.5, 1.5],\n",
    "        'marker_lo' : [-0.3, -0.3],\n",
    "        },\n",
    "}"
   ]
  },
  {
   "cell_type": "markdown",
   "metadata": {},
   "source": [
    "# Setup and expt. specific tools"
   ]
  },
  {
   "cell_type": "code",
   "execution_count": 12,
   "metadata": {
    "ExecuteTime": {
     "end_time": "2018-11-12T17:53:20.849466Z",
     "start_time": "2018-11-12T17:53:20.845463Z"
    }
   },
   "outputs": [],
   "source": [
    "dac_cutter = station.ivvi.dac1\n",
    "dac_leftplunger = station.ivvi.dac11\n",
    "dac_rightplunger = station.ivvi.dac13\n",
    "dac_leftplunger_fine = station.ivvi.dac12\n",
    "dac_rightplunger_fine = station.ivvi.dac14\n",
    "\n",
    "@setter(('plungers', 'mV'),)\n",
    "def set_plungers(val):\n",
    "    \"\"\"\n",
    "    Set both plungers (left and right) to val (in mV).\n",
    "    \"\"\"\n",
    "    dac_leftplunger(val)\n",
    "    dac_rightplunger(val)\n",
    "    return val"
   ]
  },
  {
   "cell_type": "code",
   "execution_count": 13,
   "metadata": {
    "ExecuteTime": {
     "end_time": "2018-11-12T17:53:21.544333Z",
     "start_time": "2018-11-12T17:53:21.540329Z"
    }
   },
   "outputs": [],
   "source": [
    "@setter(('magnet_r', 'T'),) ##could be combined into a single one, but we generally want to sweep them individually and not touch the others\n",
    "def set_magnet_r(val):\n",
    "    \"\"\"\n",
    "    Set magnet r\n",
    "    \"\"\"\n",
    "    station.mgnt.r_target(val)\n",
    "    station.mgnt.ramp(mode='safe')\n",
    "    return val\n",
    "\n",
    "@setter(('magnet_phi', 'degrees'),)\n",
    "def set_magnet_phi(val):\n",
    "    \"\"\"\n",
    "    Set magnet phi\n",
    "    \"\"\"\n",
    "    station.mgnt.phi_target(val)\n",
    "    station.mgnt.ramp(mode='safe')\n",
    "    return val\n",
    "\n",
    "@setter(('magnet_theta', 'degrees'),)\n",
    "def set_magnet_theta(val):\n",
    "    \"\"\"\n",
    "    Set magnet theta\n",
    "    \"\"\"\n",
    "    station.mgnt.theta_target(val)\n",
    "    station.mgnt.ramp(mode='safe')\n",
    "    return val"
   ]
  },
  {
   "cell_type": "markdown",
   "metadata": {},
   "source": [
    "# EVERYTHING ABOVE HERE SHOULD BE RUN FOR INITIALIZATION"
   ]
  },
  {
   "cell_type": "markdown",
   "metadata": {},
   "source": [
    "# Resonator spec"
   ]
  },
  {
   "cell_type": "code",
   "execution_count": 14,
   "metadata": {
    "ExecuteTime": {
     "end_time": "2018-11-12T17:53:45.225447Z",
     "start_time": "2018-11-12T17:53:28.526630Z"
    }
   },
   "outputs": [
    {
     "name": "stdout",
     "output_type": "stream",
     "text": [
      "Starting experimental run with id: 325\n"
     ]
    }
   ],
   "source": [
    "ss.setup_single_averaged_IQpoint(0.1e-3, 30e-3, setup_awg=True)\n",
    "# station.TWPA.on() #we don't have a BNC T at the moment, we can remove this once we split the marker for the cavity\n",
    "so = sweep(station.hetsrc.frequency, np.arange(5.30e9, 5.33e9, 1e6))(\n",
    "    measure(ss.get_single_averaged_IQpoint_chanA),\n",
    ")\n",
    "\n",
    "result = do_experiment(f\"resonator_spec/{SAMPLE}\", so, live_plot=True)\n",
    "# station.TWPA.off()"
   ]
  },
  {
   "cell_type": "markdown",
   "metadata": {
    "ExecuteTime": {
     "end_time": "2018-10-26T17:29:17.806944Z",
     "start_time": "2018-10-26T17:29:17.803943Z"
    }
   },
   "source": [
    "## Standard resonator spec"
   ]
  },
  {
   "cell_type": "code",
   "execution_count": 15,
   "metadata": {
    "ExecuteTime": {
     "end_time": "2018-11-12T17:54:44.406549Z",
     "start_time": "2018-11-12T17:54:13.013243Z"
    }
   },
   "outputs": [
    {
     "name": "stdout",
     "output_type": "stream",
     "text": [
      "Starting experimental run with id: 326\n",
      "Done! 100 (5.32000e+09)\r"
     ]
    }
   ],
   "source": [
    "station = qcodes.Station.default #standard resonator spec\n",
    "station.hetsrc.RF.power(-65)\n",
    "\n",
    "\n",
    "ctl = ss.setup_soft_sweep(np.linspace(5.29e9, 5.32e9, 101), station.hetsrc.frequency, \n",
    "                          time_bin=0.2e-3, integration_time=100e-3)\n",
    "ctl.settling_time = 100e-3\n",
    "station.alazar.allocated_buffers(10)\n",
    "so = ss.measure_soft_time_avg_spec(np.linspace(5.29e9, 5.32e9, 101), station.hetsrc, \n",
    "                                   setup=False)\n",
    "\n",
    "\n",
    "result = do_experiment(f'resonator_spec/{SAMPLE}', so, live_plot=True)\n"
   ]
  },
  {
   "cell_type": "code",
   "execution_count": 111,
   "metadata": {
    "ExecuteTime": {
     "end_time": "2018-11-14T09:04:00.601320Z",
     "start_time": "2018-11-14T09:03:41.092383Z"
    }
   },
   "outputs": [
    {
     "name": "stdout",
     "output_type": "stream",
     "text": [
      "Done! 100 (5.32000e+09)\r"
     ]
    },
    {
     "data": {
      "application/javascript": [
       "/* Put everything inside the global mpl namespace */\n",
       "window.mpl = {};\n",
       "\n",
       "\n",
       "mpl.get_websocket_type = function() {\n",
       "    if (typeof(WebSocket) !== 'undefined') {\n",
       "        return WebSocket;\n",
       "    } else if (typeof(MozWebSocket) !== 'undefined') {\n",
       "        return MozWebSocket;\n",
       "    } else {\n",
       "        alert('Your browser does not have WebSocket support.' +\n",
       "              'Please try Chrome, Safari or Firefox ≥ 6. ' +\n",
       "              'Firefox 4 and 5 are also supported but you ' +\n",
       "              'have to enable WebSockets in about:config.');\n",
       "    };\n",
       "}\n",
       "\n",
       "mpl.figure = function(figure_id, websocket, ondownload, parent_element) {\n",
       "    this.id = figure_id;\n",
       "\n",
       "    this.ws = websocket;\n",
       "\n",
       "    this.supports_binary = (this.ws.binaryType != undefined);\n",
       "\n",
       "    if (!this.supports_binary) {\n",
       "        var warnings = document.getElementById(\"mpl-warnings\");\n",
       "        if (warnings) {\n",
       "            warnings.style.display = 'block';\n",
       "            warnings.textContent = (\n",
       "                \"This browser does not support binary websocket messages. \" +\n",
       "                    \"Performance may be slow.\");\n",
       "        }\n",
       "    }\n",
       "\n",
       "    this.imageObj = new Image();\n",
       "\n",
       "    this.context = undefined;\n",
       "    this.message = undefined;\n",
       "    this.canvas = undefined;\n",
       "    this.rubberband_canvas = undefined;\n",
       "    this.rubberband_context = undefined;\n",
       "    this.format_dropdown = undefined;\n",
       "\n",
       "    this.image_mode = 'full';\n",
       "\n",
       "    this.root = $('<div/>');\n",
       "    this._root_extra_style(this.root)\n",
       "    this.root.attr('style', 'display: inline-block');\n",
       "\n",
       "    $(parent_element).append(this.root);\n",
       "\n",
       "    this._init_header(this);\n",
       "    this._init_canvas(this);\n",
       "    this._init_toolbar(this);\n",
       "\n",
       "    var fig = this;\n",
       "\n",
       "    this.waiting = false;\n",
       "\n",
       "    this.ws.onopen =  function () {\n",
       "            fig.send_message(\"supports_binary\", {value: fig.supports_binary});\n",
       "            fig.send_message(\"send_image_mode\", {});\n",
       "            if (mpl.ratio != 1) {\n",
       "                fig.send_message(\"set_dpi_ratio\", {'dpi_ratio': mpl.ratio});\n",
       "            }\n",
       "            fig.send_message(\"refresh\", {});\n",
       "        }\n",
       "\n",
       "    this.imageObj.onload = function() {\n",
       "            if (fig.image_mode == 'full') {\n",
       "                // Full images could contain transparency (where diff images\n",
       "                // almost always do), so we need to clear the canvas so that\n",
       "                // there is no ghosting.\n",
       "                fig.context.clearRect(0, 0, fig.canvas.width, fig.canvas.height);\n",
       "            }\n",
       "            fig.context.drawImage(fig.imageObj, 0, 0);\n",
       "        };\n",
       "\n",
       "    this.imageObj.onunload = function() {\n",
       "        fig.ws.close();\n",
       "    }\n",
       "\n",
       "    this.ws.onmessage = this._make_on_message_function(this);\n",
       "\n",
       "    this.ondownload = ondownload;\n",
       "}\n",
       "\n",
       "mpl.figure.prototype._init_header = function() {\n",
       "    var titlebar = $(\n",
       "        '<div class=\"ui-dialog-titlebar ui-widget-header ui-corner-all ' +\n",
       "        'ui-helper-clearfix\"/>');\n",
       "    var titletext = $(\n",
       "        '<div class=\"ui-dialog-title\" style=\"width: 100%; ' +\n",
       "        'text-align: center; padding: 3px;\"/>');\n",
       "    titlebar.append(titletext)\n",
       "    this.root.append(titlebar);\n",
       "    this.header = titletext[0];\n",
       "}\n",
       "\n",
       "\n",
       "\n",
       "mpl.figure.prototype._canvas_extra_style = function(canvas_div) {\n",
       "\n",
       "}\n",
       "\n",
       "\n",
       "mpl.figure.prototype._root_extra_style = function(canvas_div) {\n",
       "\n",
       "}\n",
       "\n",
       "mpl.figure.prototype._init_canvas = function() {\n",
       "    var fig = this;\n",
       "\n",
       "    var canvas_div = $('<div/>');\n",
       "\n",
       "    canvas_div.attr('style', 'position: relative; clear: both; outline: 0');\n",
       "\n",
       "    function canvas_keyboard_event(event) {\n",
       "        return fig.key_event(event, event['data']);\n",
       "    }\n",
       "\n",
       "    canvas_div.keydown('key_press', canvas_keyboard_event);\n",
       "    canvas_div.keyup('key_release', canvas_keyboard_event);\n",
       "    this.canvas_div = canvas_div\n",
       "    this._canvas_extra_style(canvas_div)\n",
       "    this.root.append(canvas_div);\n",
       "\n",
       "    var canvas = $('<canvas/>');\n",
       "    canvas.addClass('mpl-canvas');\n",
       "    canvas.attr('style', \"left: 0; top: 0; z-index: 0; outline: 0\")\n",
       "\n",
       "    this.canvas = canvas[0];\n",
       "    this.context = canvas[0].getContext(\"2d\");\n",
       "\n",
       "    var backingStore = this.context.backingStorePixelRatio ||\n",
       "\tthis.context.webkitBackingStorePixelRatio ||\n",
       "\tthis.context.mozBackingStorePixelRatio ||\n",
       "\tthis.context.msBackingStorePixelRatio ||\n",
       "\tthis.context.oBackingStorePixelRatio ||\n",
       "\tthis.context.backingStorePixelRatio || 1;\n",
       "\n",
       "    mpl.ratio = (window.devicePixelRatio || 1) / backingStore;\n",
       "\n",
       "    var rubberband = $('<canvas/>');\n",
       "    rubberband.attr('style', \"position: absolute; left: 0; top: 0; z-index: 1;\")\n",
       "\n",
       "    var pass_mouse_events = true;\n",
       "\n",
       "    canvas_div.resizable({\n",
       "        start: function(event, ui) {\n",
       "            pass_mouse_events = false;\n",
       "        },\n",
       "        resize: function(event, ui) {\n",
       "            fig.request_resize(ui.size.width, ui.size.height);\n",
       "        },\n",
       "        stop: function(event, ui) {\n",
       "            pass_mouse_events = true;\n",
       "            fig.request_resize(ui.size.width, ui.size.height);\n",
       "        },\n",
       "    });\n",
       "\n",
       "    function mouse_event_fn(event) {\n",
       "        if (pass_mouse_events)\n",
       "            return fig.mouse_event(event, event['data']);\n",
       "    }\n",
       "\n",
       "    rubberband.mousedown('button_press', mouse_event_fn);\n",
       "    rubberband.mouseup('button_release', mouse_event_fn);\n",
       "    // Throttle sequential mouse events to 1 every 20ms.\n",
       "    rubberband.mousemove('motion_notify', mouse_event_fn);\n",
       "\n",
       "    rubberband.mouseenter('figure_enter', mouse_event_fn);\n",
       "    rubberband.mouseleave('figure_leave', mouse_event_fn);\n",
       "\n",
       "    canvas_div.on(\"wheel\", function (event) {\n",
       "        event = event.originalEvent;\n",
       "        event['data'] = 'scroll'\n",
       "        if (event.deltaY < 0) {\n",
       "            event.step = 1;\n",
       "        } else {\n",
       "            event.step = -1;\n",
       "        }\n",
       "        mouse_event_fn(event);\n",
       "    });\n",
       "\n",
       "    canvas_div.append(canvas);\n",
       "    canvas_div.append(rubberband);\n",
       "\n",
       "    this.rubberband = rubberband;\n",
       "    this.rubberband_canvas = rubberband[0];\n",
       "    this.rubberband_context = rubberband[0].getContext(\"2d\");\n",
       "    this.rubberband_context.strokeStyle = \"#000000\";\n",
       "\n",
       "    this._resize_canvas = function(width, height) {\n",
       "        // Keep the size of the canvas, canvas container, and rubber band\n",
       "        // canvas in synch.\n",
       "        canvas_div.css('width', width)\n",
       "        canvas_div.css('height', height)\n",
       "\n",
       "        canvas.attr('width', width * mpl.ratio);\n",
       "        canvas.attr('height', height * mpl.ratio);\n",
       "        canvas.attr('style', 'width: ' + width + 'px; height: ' + height + 'px;');\n",
       "\n",
       "        rubberband.attr('width', width);\n",
       "        rubberband.attr('height', height);\n",
       "    }\n",
       "\n",
       "    // Set the figure to an initial 600x600px, this will subsequently be updated\n",
       "    // upon first draw.\n",
       "    this._resize_canvas(600, 600);\n",
       "\n",
       "    // Disable right mouse context menu.\n",
       "    $(this.rubberband_canvas).bind(\"contextmenu\",function(e){\n",
       "        return false;\n",
       "    });\n",
       "\n",
       "    function set_focus () {\n",
       "        canvas.focus();\n",
       "        canvas_div.focus();\n",
       "    }\n",
       "\n",
       "    window.setTimeout(set_focus, 100);\n",
       "}\n",
       "\n",
       "mpl.figure.prototype._init_toolbar = function() {\n",
       "    var fig = this;\n",
       "\n",
       "    var nav_element = $('<div/>')\n",
       "    nav_element.attr('style', 'width: 100%');\n",
       "    this.root.append(nav_element);\n",
       "\n",
       "    // Define a callback function for later on.\n",
       "    function toolbar_event(event) {\n",
       "        return fig.toolbar_button_onclick(event['data']);\n",
       "    }\n",
       "    function toolbar_mouse_event(event) {\n",
       "        return fig.toolbar_button_onmouseover(event['data']);\n",
       "    }\n",
       "\n",
       "    for(var toolbar_ind in mpl.toolbar_items) {\n",
       "        var name = mpl.toolbar_items[toolbar_ind][0];\n",
       "        var tooltip = mpl.toolbar_items[toolbar_ind][1];\n",
       "        var image = mpl.toolbar_items[toolbar_ind][2];\n",
       "        var method_name = mpl.toolbar_items[toolbar_ind][3];\n",
       "\n",
       "        if (!name) {\n",
       "            // put a spacer in here.\n",
       "            continue;\n",
       "        }\n",
       "        var button = $('<button/>');\n",
       "        button.addClass('ui-button ui-widget ui-state-default ui-corner-all ' +\n",
       "                        'ui-button-icon-only');\n",
       "        button.attr('role', 'button');\n",
       "        button.attr('aria-disabled', 'false');\n",
       "        button.click(method_name, toolbar_event);\n",
       "        button.mouseover(tooltip, toolbar_mouse_event);\n",
       "\n",
       "        var icon_img = $('<span/>');\n",
       "        icon_img.addClass('ui-button-icon-primary ui-icon');\n",
       "        icon_img.addClass(image);\n",
       "        icon_img.addClass('ui-corner-all');\n",
       "\n",
       "        var tooltip_span = $('<span/>');\n",
       "        tooltip_span.addClass('ui-button-text');\n",
       "        tooltip_span.html(tooltip);\n",
       "\n",
       "        button.append(icon_img);\n",
       "        button.append(tooltip_span);\n",
       "\n",
       "        nav_element.append(button);\n",
       "    }\n",
       "\n",
       "    var fmt_picker_span = $('<span/>');\n",
       "\n",
       "    var fmt_picker = $('<select/>');\n",
       "    fmt_picker.addClass('mpl-toolbar-option ui-widget ui-widget-content');\n",
       "    fmt_picker_span.append(fmt_picker);\n",
       "    nav_element.append(fmt_picker_span);\n",
       "    this.format_dropdown = fmt_picker[0];\n",
       "\n",
       "    for (var ind in mpl.extensions) {\n",
       "        var fmt = mpl.extensions[ind];\n",
       "        var option = $(\n",
       "            '<option/>', {selected: fmt === mpl.default_extension}).html(fmt);\n",
       "        fmt_picker.append(option)\n",
       "    }\n",
       "\n",
       "    // Add hover states to the ui-buttons\n",
       "    $( \".ui-button\" ).hover(\n",
       "        function() { $(this).addClass(\"ui-state-hover\");},\n",
       "        function() { $(this).removeClass(\"ui-state-hover\");}\n",
       "    );\n",
       "\n",
       "    var status_bar = $('<span class=\"mpl-message\"/>');\n",
       "    nav_element.append(status_bar);\n",
       "    this.message = status_bar[0];\n",
       "}\n",
       "\n",
       "mpl.figure.prototype.request_resize = function(x_pixels, y_pixels) {\n",
       "    // Request matplotlib to resize the figure. Matplotlib will then trigger a resize in the client,\n",
       "    // which will in turn request a refresh of the image.\n",
       "    this.send_message('resize', {'width': x_pixels, 'height': y_pixels});\n",
       "}\n",
       "\n",
       "mpl.figure.prototype.send_message = function(type, properties) {\n",
       "    properties['type'] = type;\n",
       "    properties['figure_id'] = this.id;\n",
       "    this.ws.send(JSON.stringify(properties));\n",
       "}\n",
       "\n",
       "mpl.figure.prototype.send_draw_message = function() {\n",
       "    if (!this.waiting) {\n",
       "        this.waiting = true;\n",
       "        this.ws.send(JSON.stringify({type: \"draw\", figure_id: this.id}));\n",
       "    }\n",
       "}\n",
       "\n",
       "\n",
       "mpl.figure.prototype.handle_save = function(fig, msg) {\n",
       "    var format_dropdown = fig.format_dropdown;\n",
       "    var format = format_dropdown.options[format_dropdown.selectedIndex].value;\n",
       "    fig.ondownload(fig, format);\n",
       "}\n",
       "\n",
       "\n",
       "mpl.figure.prototype.handle_resize = function(fig, msg) {\n",
       "    var size = msg['size'];\n",
       "    if (size[0] != fig.canvas.width || size[1] != fig.canvas.height) {\n",
       "        fig._resize_canvas(size[0], size[1]);\n",
       "        fig.send_message(\"refresh\", {});\n",
       "    };\n",
       "}\n",
       "\n",
       "mpl.figure.prototype.handle_rubberband = function(fig, msg) {\n",
       "    var x0 = msg['x0'] / mpl.ratio;\n",
       "    var y0 = (fig.canvas.height - msg['y0']) / mpl.ratio;\n",
       "    var x1 = msg['x1'] / mpl.ratio;\n",
       "    var y1 = (fig.canvas.height - msg['y1']) / mpl.ratio;\n",
       "    x0 = Math.floor(x0) + 0.5;\n",
       "    y0 = Math.floor(y0) + 0.5;\n",
       "    x1 = Math.floor(x1) + 0.5;\n",
       "    y1 = Math.floor(y1) + 0.5;\n",
       "    var min_x = Math.min(x0, x1);\n",
       "    var min_y = Math.min(y0, y1);\n",
       "    var width = Math.abs(x1 - x0);\n",
       "    var height = Math.abs(y1 - y0);\n",
       "\n",
       "    fig.rubberband_context.clearRect(\n",
       "        0, 0, fig.canvas.width, fig.canvas.height);\n",
       "\n",
       "    fig.rubberband_context.strokeRect(min_x, min_y, width, height);\n",
       "}\n",
       "\n",
       "mpl.figure.prototype.handle_figure_label = function(fig, msg) {\n",
       "    // Updates the figure title.\n",
       "    fig.header.textContent = msg['label'];\n",
       "}\n",
       "\n",
       "mpl.figure.prototype.handle_cursor = function(fig, msg) {\n",
       "    var cursor = msg['cursor'];\n",
       "    switch(cursor)\n",
       "    {\n",
       "    case 0:\n",
       "        cursor = 'pointer';\n",
       "        break;\n",
       "    case 1:\n",
       "        cursor = 'default';\n",
       "        break;\n",
       "    case 2:\n",
       "        cursor = 'crosshair';\n",
       "        break;\n",
       "    case 3:\n",
       "        cursor = 'move';\n",
       "        break;\n",
       "    }\n",
       "    fig.rubberband_canvas.style.cursor = cursor;\n",
       "}\n",
       "\n",
       "mpl.figure.prototype.handle_message = function(fig, msg) {\n",
       "    fig.message.textContent = msg['message'];\n",
       "}\n",
       "\n",
       "mpl.figure.prototype.handle_draw = function(fig, msg) {\n",
       "    // Request the server to send over a new figure.\n",
       "    fig.send_draw_message();\n",
       "}\n",
       "\n",
       "mpl.figure.prototype.handle_image_mode = function(fig, msg) {\n",
       "    fig.image_mode = msg['mode'];\n",
       "}\n",
       "\n",
       "mpl.figure.prototype.updated_canvas_event = function() {\n",
       "    // Called whenever the canvas gets updated.\n",
       "    this.send_message(\"ack\", {});\n",
       "}\n",
       "\n",
       "// A function to construct a web socket function for onmessage handling.\n",
       "// Called in the figure constructor.\n",
       "mpl.figure.prototype._make_on_message_function = function(fig) {\n",
       "    return function socket_on_message(evt) {\n",
       "        if (evt.data instanceof Blob) {\n",
       "            /* FIXME: We get \"Resource interpreted as Image but\n",
       "             * transferred with MIME type text/plain:\" errors on\n",
       "             * Chrome.  But how to set the MIME type?  It doesn't seem\n",
       "             * to be part of the websocket stream */\n",
       "            evt.data.type = \"image/png\";\n",
       "\n",
       "            /* Free the memory for the previous frames */\n",
       "            if (fig.imageObj.src) {\n",
       "                (window.URL || window.webkitURL).revokeObjectURL(\n",
       "                    fig.imageObj.src);\n",
       "            }\n",
       "\n",
       "            fig.imageObj.src = (window.URL || window.webkitURL).createObjectURL(\n",
       "                evt.data);\n",
       "            fig.updated_canvas_event();\n",
       "            fig.waiting = false;\n",
       "            return;\n",
       "        }\n",
       "        else if (typeof evt.data === 'string' && evt.data.slice(0, 21) == \"data:image/png;base64\") {\n",
       "            fig.imageObj.src = evt.data;\n",
       "            fig.updated_canvas_event();\n",
       "            fig.waiting = false;\n",
       "            return;\n",
       "        }\n",
       "\n",
       "        var msg = JSON.parse(evt.data);\n",
       "        var msg_type = msg['type'];\n",
       "\n",
       "        // Call the  \"handle_{type}\" callback, which takes\n",
       "        // the figure and JSON message as its only arguments.\n",
       "        try {\n",
       "            var callback = fig[\"handle_\" + msg_type];\n",
       "        } catch (e) {\n",
       "            console.log(\"No handler for the '\" + msg_type + \"' message type: \", msg);\n",
       "            return;\n",
       "        }\n",
       "\n",
       "        if (callback) {\n",
       "            try {\n",
       "                // console.log(\"Handling '\" + msg_type + \"' message: \", msg);\n",
       "                callback(fig, msg);\n",
       "            } catch (e) {\n",
       "                console.log(\"Exception inside the 'handler_\" + msg_type + \"' callback:\", e, e.stack, msg);\n",
       "            }\n",
       "        }\n",
       "    };\n",
       "}\n",
       "\n",
       "// from http://stackoverflow.com/questions/1114465/getting-mouse-location-in-canvas\n",
       "mpl.findpos = function(e) {\n",
       "    //this section is from http://www.quirksmode.org/js/events_properties.html\n",
       "    var targ;\n",
       "    if (!e)\n",
       "        e = window.event;\n",
       "    if (e.target)\n",
       "        targ = e.target;\n",
       "    else if (e.srcElement)\n",
       "        targ = e.srcElement;\n",
       "    if (targ.nodeType == 3) // defeat Safari bug\n",
       "        targ = targ.parentNode;\n",
       "\n",
       "    // jQuery normalizes the pageX and pageY\n",
       "    // pageX,Y are the mouse positions relative to the document\n",
       "    // offset() returns the position of the element relative to the document\n",
       "    var x = e.pageX - $(targ).offset().left;\n",
       "    var y = e.pageY - $(targ).offset().top;\n",
       "\n",
       "    return {\"x\": x, \"y\": y};\n",
       "};\n",
       "\n",
       "/*\n",
       " * return a copy of an object with only non-object keys\n",
       " * we need this to avoid circular references\n",
       " * http://stackoverflow.com/a/24161582/3208463\n",
       " */\n",
       "function simpleKeys (original) {\n",
       "  return Object.keys(original).reduce(function (obj, key) {\n",
       "    if (typeof original[key] !== 'object')\n",
       "        obj[key] = original[key]\n",
       "    return obj;\n",
       "  }, {});\n",
       "}\n",
       "\n",
       "mpl.figure.prototype.mouse_event = function(event, name) {\n",
       "    var canvas_pos = mpl.findpos(event)\n",
       "\n",
       "    if (name === 'button_press')\n",
       "    {\n",
       "        this.canvas.focus();\n",
       "        this.canvas_div.focus();\n",
       "    }\n",
       "\n",
       "    var x = canvas_pos.x * mpl.ratio;\n",
       "    var y = canvas_pos.y * mpl.ratio;\n",
       "\n",
       "    this.send_message(name, {x: x, y: y, button: event.button,\n",
       "                             step: event.step,\n",
       "                             guiEvent: simpleKeys(event)});\n",
       "\n",
       "    /* This prevents the web browser from automatically changing to\n",
       "     * the text insertion cursor when the button is pressed.  We want\n",
       "     * to control all of the cursor setting manually through the\n",
       "     * 'cursor' event from matplotlib */\n",
       "    event.preventDefault();\n",
       "    return false;\n",
       "}\n",
       "\n",
       "mpl.figure.prototype._key_event_extra = function(event, name) {\n",
       "    // Handle any extra behaviour associated with a key event\n",
       "}\n",
       "\n",
       "mpl.figure.prototype.key_event = function(event, name) {\n",
       "\n",
       "    // Prevent repeat events\n",
       "    if (name == 'key_press')\n",
       "    {\n",
       "        if (event.which === this._key)\n",
       "            return;\n",
       "        else\n",
       "            this._key = event.which;\n",
       "    }\n",
       "    if (name == 'key_release')\n",
       "        this._key = null;\n",
       "\n",
       "    var value = '';\n",
       "    if (event.ctrlKey && event.which != 17)\n",
       "        value += \"ctrl+\";\n",
       "    if (event.altKey && event.which != 18)\n",
       "        value += \"alt+\";\n",
       "    if (event.shiftKey && event.which != 16)\n",
       "        value += \"shift+\";\n",
       "\n",
       "    value += 'k';\n",
       "    value += event.which.toString();\n",
       "\n",
       "    this._key_event_extra(event, name);\n",
       "\n",
       "    this.send_message(name, {key: value,\n",
       "                             guiEvent: simpleKeys(event)});\n",
       "    return false;\n",
       "}\n",
       "\n",
       "mpl.figure.prototype.toolbar_button_onclick = function(name) {\n",
       "    if (name == 'download') {\n",
       "        this.handle_save(this, null);\n",
       "    } else {\n",
       "        this.send_message(\"toolbar_button\", {name: name});\n",
       "    }\n",
       "};\n",
       "\n",
       "mpl.figure.prototype.toolbar_button_onmouseover = function(tooltip) {\n",
       "    this.message.textContent = tooltip;\n",
       "};\n",
       "mpl.toolbar_items = [[\"Home\", \"Reset original view\", \"fa fa-home icon-home\", \"home\"], [\"Back\", \"Back to  previous view\", \"fa fa-arrow-left icon-arrow-left\", \"back\"], [\"Forward\", \"Forward to next view\", \"fa fa-arrow-right icon-arrow-right\", \"forward\"], [\"\", \"\", \"\", \"\"], [\"Pan\", \"Pan axes with left mouse, zoom with right\", \"fa fa-arrows icon-move\", \"pan\"], [\"Zoom\", \"Zoom to rectangle\", \"fa fa-square-o icon-check-empty\", \"zoom\"], [\"\", \"\", \"\", \"\"], [\"Download\", \"Download plot\", \"fa fa-floppy-o icon-save\", \"download\"]];\n",
       "\n",
       "mpl.extensions = [\"eps\", \"jpeg\", \"pdf\", \"png\", \"ps\", \"raw\", \"svg\", \"tif\"];\n",
       "\n",
       "mpl.default_extension = \"png\";var comm_websocket_adapter = function(comm) {\n",
       "    // Create a \"websocket\"-like object which calls the given IPython comm\n",
       "    // object with the appropriate methods. Currently this is a non binary\n",
       "    // socket, so there is still some room for performance tuning.\n",
       "    var ws = {};\n",
       "\n",
       "    ws.close = function() {\n",
       "        comm.close()\n",
       "    };\n",
       "    ws.send = function(m) {\n",
       "        //console.log('sending', m);\n",
       "        comm.send(m);\n",
       "    };\n",
       "    // Register the callback with on_msg.\n",
       "    comm.on_msg(function(msg) {\n",
       "        //console.log('receiving', msg['content']['data'], msg);\n",
       "        // Pass the mpl event to the overridden (by mpl) onmessage function.\n",
       "        ws.onmessage(msg['content']['data'])\n",
       "    });\n",
       "    return ws;\n",
       "}\n",
       "\n",
       "mpl.mpl_figure_comm = function(comm, msg) {\n",
       "    // This is the function which gets called when the mpl process\n",
       "    // starts-up an IPython Comm through the \"matplotlib\" channel.\n",
       "\n",
       "    var id = msg.content.data.id;\n",
       "    // Get hold of the div created by the display call when the Comm\n",
       "    // socket was opened in Python.\n",
       "    var element = $(\"#\" + id);\n",
       "    var ws_proxy = comm_websocket_adapter(comm)\n",
       "\n",
       "    function ondownload(figure, format) {\n",
       "        window.open(figure.imageObj.src);\n",
       "    }\n",
       "\n",
       "    var fig = new mpl.figure(id, ws_proxy,\n",
       "                           ondownload,\n",
       "                           element.get(0));\n",
       "\n",
       "    // Call onopen now - mpl needs it, as it is assuming we've passed it a real\n",
       "    // web socket which is closed, not our websocket->open comm proxy.\n",
       "    ws_proxy.onopen();\n",
       "\n",
       "    fig.parent_element = element.get(0);\n",
       "    fig.cell_info = mpl.find_output_cell(\"<div id='\" + id + \"'></div>\");\n",
       "    if (!fig.cell_info) {\n",
       "        console.error(\"Failed to find cell for figure\", id, fig);\n",
       "        return;\n",
       "    }\n",
       "\n",
       "    var output_index = fig.cell_info[2]\n",
       "    var cell = fig.cell_info[0];\n",
       "\n",
       "};\n",
       "\n",
       "mpl.figure.prototype.handle_close = function(fig, msg) {\n",
       "    var width = fig.canvas.width/mpl.ratio\n",
       "    fig.root.unbind('remove')\n",
       "\n",
       "    // Update the output cell to use the data from the current canvas.\n",
       "    fig.push_to_output();\n",
       "    var dataURL = fig.canvas.toDataURL();\n",
       "    // Re-enable the keyboard manager in IPython - without this line, in FF,\n",
       "    // the notebook keyboard shortcuts fail.\n",
       "    IPython.keyboard_manager.enable()\n",
       "    $(fig.parent_element).html('<img src=\"' + dataURL + '\" width=\"' + width + '\">');\n",
       "    fig.close_ws(fig, msg);\n",
       "}\n",
       "\n",
       "mpl.figure.prototype.close_ws = function(fig, msg){\n",
       "    fig.send_message('closing', msg);\n",
       "    // fig.ws.close()\n",
       "}\n",
       "\n",
       "mpl.figure.prototype.push_to_output = function(remove_interactive) {\n",
       "    // Turn the data on the canvas into data in the output cell.\n",
       "    var width = this.canvas.width/mpl.ratio\n",
       "    var dataURL = this.canvas.toDataURL();\n",
       "    this.cell_info[1]['text/html'] = '<img src=\"' + dataURL + '\" width=\"' + width + '\">';\n",
       "}\n",
       "\n",
       "mpl.figure.prototype.updated_canvas_event = function() {\n",
       "    // Tell IPython that the notebook contents must change.\n",
       "    IPython.notebook.set_dirty(true);\n",
       "    this.send_message(\"ack\", {});\n",
       "    var fig = this;\n",
       "    // Wait a second, then push the new image to the DOM so\n",
       "    // that it is saved nicely (might be nice to debounce this).\n",
       "    setTimeout(function () { fig.push_to_output() }, 1000);\n",
       "}\n",
       "\n",
       "mpl.figure.prototype._init_toolbar = function() {\n",
       "    var fig = this;\n",
       "\n",
       "    var nav_element = $('<div/>')\n",
       "    nav_element.attr('style', 'width: 100%');\n",
       "    this.root.append(nav_element);\n",
       "\n",
       "    // Define a callback function for later on.\n",
       "    function toolbar_event(event) {\n",
       "        return fig.toolbar_button_onclick(event['data']);\n",
       "    }\n",
       "    function toolbar_mouse_event(event) {\n",
       "        return fig.toolbar_button_onmouseover(event['data']);\n",
       "    }\n",
       "\n",
       "    for(var toolbar_ind in mpl.toolbar_items){\n",
       "        var name = mpl.toolbar_items[toolbar_ind][0];\n",
       "        var tooltip = mpl.toolbar_items[toolbar_ind][1];\n",
       "        var image = mpl.toolbar_items[toolbar_ind][2];\n",
       "        var method_name = mpl.toolbar_items[toolbar_ind][3];\n",
       "\n",
       "        if (!name) { continue; };\n",
       "\n",
       "        var button = $('<button class=\"btn btn-default\" href=\"#\" title=\"' + name + '\"><i class=\"fa ' + image + ' fa-lg\"></i></button>');\n",
       "        button.click(method_name, toolbar_event);\n",
       "        button.mouseover(tooltip, toolbar_mouse_event);\n",
       "        nav_element.append(button);\n",
       "    }\n",
       "\n",
       "    // Add the status bar.\n",
       "    var status_bar = $('<span class=\"mpl-message\" style=\"text-align:right; float: right;\"/>');\n",
       "    nav_element.append(status_bar);\n",
       "    this.message = status_bar[0];\n",
       "\n",
       "    // Add the close button to the window.\n",
       "    var buttongrp = $('<div class=\"btn-group inline pull-right\"></div>');\n",
       "    var button = $('<button class=\"btn btn-mini btn-primary\" href=\"#\" title=\"Stop Interaction\"><i class=\"fa fa-power-off icon-remove icon-large\"></i></button>');\n",
       "    button.click(function (evt) { fig.handle_close(fig, {}); } );\n",
       "    button.mouseover('Stop Interaction', toolbar_mouse_event);\n",
       "    buttongrp.append(button);\n",
       "    var titlebar = this.root.find($('.ui-dialog-titlebar'));\n",
       "    titlebar.prepend(buttongrp);\n",
       "}\n",
       "\n",
       "mpl.figure.prototype._root_extra_style = function(el){\n",
       "    var fig = this\n",
       "    el.on(\"remove\", function(){\n",
       "\tfig.close_ws(fig, {});\n",
       "    });\n",
       "}\n",
       "\n",
       "mpl.figure.prototype._canvas_extra_style = function(el){\n",
       "    // this is important to make the div 'focusable\n",
       "    el.attr('tabindex', 0)\n",
       "    // reach out to IPython and tell the keyboard manager to turn it's self\n",
       "    // off when our div gets focus\n",
       "\n",
       "    // location in version 3\n",
       "    if (IPython.notebook.keyboard_manager) {\n",
       "        IPython.notebook.keyboard_manager.register_events(el);\n",
       "    }\n",
       "    else {\n",
       "        // location in version 2\n",
       "        IPython.keyboard_manager.register_events(el);\n",
       "    }\n",
       "\n",
       "}\n",
       "\n",
       "mpl.figure.prototype._key_event_extra = function(event, name) {\n",
       "    var manager = IPython.notebook.keyboard_manager;\n",
       "    if (!manager)\n",
       "        manager = IPython.keyboard_manager;\n",
       "\n",
       "    // Check for shift+enter\n",
       "    if (event.shiftKey && event.which == 13) {\n",
       "        this.canvas_div.blur();\n",
       "        event.shiftKey = false;\n",
       "        // Send a \"J\" for go to next cell\n",
       "        event.which = 74;\n",
       "        event.keyCode = 74;\n",
       "        manager.command_mode();\n",
       "        manager.handle_keydown(event);\n",
       "    }\n",
       "}\n",
       "\n",
       "mpl.figure.prototype.handle_save = function(fig, msg) {\n",
       "    fig.ondownload(fig, null);\n",
       "}\n",
       "\n",
       "\n",
       "mpl.find_output_cell = function(html_output) {\n",
       "    // Return the cell and output element which can be found *uniquely* in the notebook.\n",
       "    // Note - this is a bit hacky, but it is done because the \"notebook_saving.Notebook\"\n",
       "    // IPython event is triggered only after the cells have been serialised, which for\n",
       "    // our purposes (turning an active figure into a static one), is too late.\n",
       "    var cells = IPython.notebook.get_cells();\n",
       "    var ncells = cells.length;\n",
       "    for (var i=0; i<ncells; i++) {\n",
       "        var cell = cells[i];\n",
       "        if (cell.cell_type === 'code'){\n",
       "            for (var j=0; j<cell.output_area.outputs.length; j++) {\n",
       "                var data = cell.output_area.outputs[j];\n",
       "                if (data.data) {\n",
       "                    // IPython >= 3 moved mimebundle to data attribute of output\n",
       "                    data = data.data;\n",
       "                }\n",
       "                if (data['text/html'] == html_output) {\n",
       "                    return [cell, data, j];\n",
       "                }\n",
       "            }\n",
       "        }\n",
       "    }\n",
       "}\n",
       "\n",
       "// Register the function which deals with the matplotlib target/channel.\n",
       "// The kernel may be null if the page has been refreshed.\n",
       "if (IPython.notebook.kernel != null) {\n",
       "    IPython.notebook.kernel.comm_manager.register_target('matplotlib', mpl.mpl_figure_comm);\n",
       "}\n"
      ],
      "text/plain": [
       "<IPython.core.display.Javascript object>"
      ]
     },
     "metadata": {},
     "output_type": "display_data"
    },
    {
     "data": {
      "text/html": [
       "<img src=\"data:image/png;base64,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\" width=\"675\">"
      ],
      "text/plain": [
       "<IPython.core.display.HTML object>"
      ]
     },
     "metadata": {},
     "output_type": "display_data"
    },
    {
     "data": {
      "text/plain": [
       "Text(0.5,1,'Center = 5.3017 GHz, FWHM = 2.29 MHz, Q = 2311.51')"
      ]
     },
     "execution_count": 111,
     "metadata": {},
     "output_type": "execute_result"
    }
   ],
   "source": [
    "station.hetsrc.RF.power(-70)\n",
    "hetfreqs = np.linspace(5.295e9, 5.32e9, 101)\n",
    "#station.TWPA.on()\n",
    "ctl = ss.setup_soft_sweep(hetfreqs, station.hetsrc.frequency, integration_time=30e-3)\n",
    "testout = get_resonator_spec_and_fit(hetfreqs)\n",
    "#station.TWPA.off()\n",
    "\n",
    "plt.figure()\n",
    "plt.plot(hetfreqs,testout[0]**2,'o')\n",
    "plt.plot(hetfreqs,testout[2].best_fit)\n",
    "plt.xlabel('Frequency [GHz]')\n",
    "plt.ylabel('Magnitude**2 [a.u.]')\n",
    "plt.title('Center = %.4f GHz, FWHM = %.2f MHz, Q = %.2f' % (testout[2].params['center'].value*1e-9, 2*testout[2].params['sigma'].value*1e-6, testout[2].params['center'].value/(2*testout[2].params['sigma'].value)))"
   ]
  },
  {
   "cell_type": "markdown",
   "metadata": {
    "heading_collapsed": true
   },
   "source": [
    "## Live-monitor of resonator spec"
   ]
  },
  {
   "cell_type": "code",
   "execution_count": null,
   "metadata": {
    "ExecuteTime": {
     "end_time": "2018-10-31T09:12:05.625664Z",
     "start_time": "2018-10-31T09:12:05.607651Z"
    },
    "hidden": true,
    "scrolled": false
   },
   "outputs": [],
   "source": [
    "fvals = np.linspace(5.29e9, 5.33e9, 51)\n",
    "ctl = ss.setup_soft_sweep(fvals, station.hetsrc.frequency, integration_time=30e-3)\n",
    "\n",
    "def monitor_resonator_spec(ax, fvals, data_line=None):\n",
    "    mag, phase, fitout = get_resonator_spec_and_fit(fvals)\n",
    "    \n",
    "    if data_line is None:\n",
    "        data_line = ax.plot(fvals, mag**2)[0]\n",
    "    else:\n",
    "        data_line.set_ydata(mag**2)\n",
    "    \n",
    "    ax.relim()\n",
    "    ax.autoscale_view(True, True, True)\n",
    "    ax.get_figure().canvas.draw()\n",
    "    \n",
    "    return data_line\n",
    "    \n",
    "\n",
    "fig, ax = plt.subplots(1,1)\n",
    "\n",
    "data_line = None\n",
    "ax.set_xlabel('Frequency')\n",
    "ax.set_ylabel('Magnitude')\n",
    "\n",
    "for i in range(10):\n",
    "    data_line = monitor_resonator_spec(ax, fvals, data_line=data_line)"
   ]
  },
  {
   "cell_type": "code",
   "execution_count": null,
   "metadata": {
    "hidden": true
   },
   "outputs": [],
   "source": []
  },
  {
   "cell_type": "markdown",
   "metadata": {},
   "source": [
    "## Resonator spec vs power"
   ]
  },
  {
   "cell_type": "code",
   "execution_count": null,
   "metadata": {
    "ExecuteTime": {
     "end_time": "2018-11-07T10:28:52.720442Z",
     "start_time": "2018-11-07T10:26:39.169199Z"
    }
   },
   "outputs": [],
   "source": [
    "station = qcodes.Station.default #resonator spec vs power\n",
    "spec_frequencies=np.linspace(5.295e9, 5.31e9, 61)\n",
    "spec_src=station.hetsrc.frequency\n",
    "spec_powers=np.linspace(-70,-30,17)\n",
    "\n",
    "ctl = ss.setup_soft_sweep(spec_frequencies, spec_src)\n",
    "\n",
    "#station.TWPA.on()\n",
    "station.TWPA.off()\n",
    "so = sweep(station.hetsrc.RF.power,spec_powers)(\n",
    "    ss.measure_soft_time_avg_spec(spec_frequencies, station.hetsrc, integration_time=100e-3, setup=False))\n",
    "\n",
    "result = do_experiment(f'resonator_specvspower/{SAMPLE}', so, live_plot=True)\n"
   ]
  },
  {
   "cell_type": "code",
   "execution_count": null,
   "metadata": {
    "ExecuteTime": {
     "end_time": "2018-11-07T10:28:56.585682Z",
     "start_time": "2018-11-07T10:28:56.522637Z"
    }
   },
   "outputs": [],
   "source": [
    "from matplotlib.colors import LogNorm\n",
    "data = qc.dataset.data_export.load_by_id(151)\n",
    "freqs = data.get_data('frequency')\n",
    "powers = data.get_data('RF_power')\n",
    "signal = data.get_data('signal_magnitude')\n",
    "\n",
    "x = freqs[0][0]\n",
    "y = np.array(powers)[:,0].T\n",
    "X,Y = np.meshgrid(x,y)\n",
    "Z = np.array(signal)[:,0,:]\n",
    "\n",
    "Znorm = Z\n",
    "for i in range(len(X[:,0])):\n",
    "    Znorm[i,:] = Z[i,:]/np.mean(Z[i,-15:-1])\n",
    "\n",
    "plt.figure(figsize=(3, 3))\n",
    "plt.pcolor(X,Y,Z,cmap='viridis', norm=LogNorm(vmin=Z.min(), vmax=Z.max()))\n",
    "plt.xlabel('Frequency (GHz)')\n",
    "plt.ylabel('Power (dBm)')\n",
    "#plt.axis([x.min(),x.max(),y.min(), y.max()])\n",
    "\n"
   ]
  },
  {
   "cell_type": "code",
   "execution_count": null,
   "metadata": {
    "ExecuteTime": {
     "end_time": "2018-11-05T17:48:38.486621Z",
     "start_time": "2018-11-05T17:48:38.482619Z"
    }
   },
   "outputs": [],
   "source": []
  },
  {
   "cell_type": "markdown",
   "metadata": {},
   "source": [
    "# TWPA tuning"
   ]
  },
  {
   "cell_type": "code",
   "execution_count": null,
   "metadata": {
    "ExecuteTime": {
     "end_time": "2018-11-04T09:45:28.339222Z",
     "start_time": "2018-11-04T09:45:28.335219Z"
    }
   },
   "outputs": [],
   "source": [
    "np.linspace(4.0, 8, 41)[::-1]"
   ]
  },
  {
   "cell_type": "code",
   "execution_count": null,
   "metadata": {
    "ExecuteTime": {
     "end_time": "2018-11-03T09:53:56.473544Z",
     "start_time": "2018-11-03T09:53:56.468542Z"
    }
   },
   "outputs": [],
   "source": [
    "station.TWPA.power(6.75)\n",
    "station.TWPA.frequency(8.004e9)"
   ]
  },
  {
   "cell_type": "code",
   "execution_count": null,
   "metadata": {},
   "outputs": [],
   "source": [
    "# station.hetsrc.RF.power(-60)\n",
    "# so = sweep(station.TWPA.power, np.arange(9, 11, 0.1))(\n",
    "#     softspec(np.linspace(5.3e9, 5.326e9, 27), station.hetsrc, navgs=10, setup_awg=False)\n",
    "# )\n",
    "\n",
    "# result = do_experiment(f'TWPA_resonator_spec/{SAMPLE}', so, live_plot=True)"
   ]
  },
  {
   "cell_type": "code",
   "execution_count": null,
   "metadata": {
    "ExecuteTime": {
     "end_time": "2018-11-05T08:21:26.026783Z",
     "start_time": "2018-11-04T23:09:56.887229Z"
    }
   },
   "outputs": [],
   "source": [
    "def get_snr_from_max(trace, background_range=(0, 30)):\n",
    "    idx0, idx1 = background_range\n",
    "    S = np.abs(trace).max()\n",
    "    N = np.abs(np.std(trace[idx0:idx1]))\n",
    "    return S, N\n",
    "\n",
    "@getter(('SNR', ''))\n",
    "def SNR():\n",
    "    mag, phase = ss.get_soft_sweep_trace()\n",
    "    trace = mag * np.exp(-1j*phase)\n",
    "    s, n = get_snr_from_max(trace)\n",
    "    return s/n\n",
    "\n",
    "spec_frequencies = np.linspace(5.27e9, 5.31e9, 101)\n",
    "spec_src = station.hetsrc\n",
    "integration_time = 20e-3\n",
    "\n",
    "#pump_amps = np.linspace(8.0, 11, 32)\n",
    "pump_amps = np.linspace(4.0, 8, 41)[::-1]\n",
    "#pump_frqs = np.linspace(7.99e9, 8.02e9, 31)\n",
    "pump_frqs = np.arange(7.91e9, 8.05e9, 1e6)\n",
    "\n",
    "ctl = ss.setup_soft_sweep(spec_frequencies, spec_src.frequency, integration_time=integration_time)\n",
    "\n",
    "station.TWPA.on()\n",
    "so = sweep(station.TWPA.power, pump_amps)(\n",
    "    sweep(station.TWPA.frequency, pump_frqs)(\n",
    "#         measure_soft_time_avg_spec(spec_frequencies, spec_src, integration_time=integration_time, setup=False),\n",
    "        measure(SNR),\n",
    "    )\n",
    ")\n",
    "\n",
    "result = do_experiment(f'tune_TWPA_resonator_spec/{SAMPLE}', so, live_plot=True)\n",
    "station.TWPA.off() #the TWPA power seems to warm up the fridge so let's turn it off when we are not measuring"
   ]
  },
  {
   "cell_type": "code",
   "execution_count": null,
   "metadata": {
    "ExecuteTime": {
     "end_time": "2018-11-05T10:42:28.352598Z",
     "start_time": "2018-11-05T10:42:28.317571Z"
    }
   },
   "outputs": [],
   "source": [
    "station.RF.power()"
   ]
  },
  {
   "cell_type": "code",
   "execution_count": null,
   "metadata": {},
   "outputs": [],
   "source": []
  },
  {
   "cell_type": "code",
   "execution_count": null,
   "metadata": {},
   "outputs": [],
   "source": []
  },
  {
   "cell_type": "markdown",
   "metadata": {},
   "source": [
    "# Resonator vs Gate Response"
   ]
  },
  {
   "cell_type": "markdown",
   "metadata": {},
   "source": [
    "## Measure at a single frequency"
   ]
  },
  {
   "cell_type": "markdown",
   "metadata": {},
   "source": [
    "### Vs cutter"
   ]
  },
  {
   "cell_type": "code",
   "execution_count": null,
   "metadata": {
    "ExecuteTime": {
     "end_time": "2018-11-05T16:36:08.287946Z",
     "start_time": "2018-11-05T16:35:26.096683Z"
    }
   },
   "outputs": [],
   "source": [
    "dac_rightplunger(-1999)\n",
    "dac_leftplunger(-1999)"
   ]
  },
  {
   "cell_type": "code",
   "execution_count": null,
   "metadata": {
    "ExecuteTime": {
     "end_time": "2018-11-05T13:49:45.697679Z",
     "start_time": "2018-11-05T13:47:45.066900Z"
    }
   },
   "outputs": [],
   "source": [
    "#setup_single_averaged_IQpoint(0.1e-3, 10e-3, setup_awg=True)\n",
    "\n",
    "cur_cutter = dac_cutter()\n",
    "#station.hetsrc.frequency(5.31347e9)\n",
    "#station.TWPA.on() #we don't have a BNC T at the moment, we can remove this once we split the marker for the cavity\n",
    "so = sweep(dac_cutter, np.arange(cur_cutter, 1800, 1))(\n",
    "    measure(ss.get_single_averaged_IQpoint_chanA),\n",
    ")\n",
    "\n",
    "result = do_experiment(f\"resonator_gate_response/{SAMPLE}\", so, live_plot=True)\n",
    "station.TWPA.off()"
   ]
  },
  {
   "cell_type": "code",
   "execution_count": null,
   "metadata": {},
   "outputs": [],
   "source": [
    "station.hetsrc.frequency(5.310e9)\n",
    "station.hetsrc.RF.power(-70)\n",
    "\n",
    "cur_cutter = dac_cutter()\n",
    "\n",
    "so = ss.measure_soft_gate_sweep(\n",
    "    np.arange(cur_cutter, cur_cutter+5, 0.1), dac_cutter,\n",
    "    integration_time=10e-3, setup=True,\n",
    ")\n",
    "\n",
    "station.TWPA.on()\n",
    "result = do_experiment(f\"soft_sweep_gate/{SAMPLE}\", so, live_plot=True)\n",
    "station.TWPA.off()"
   ]
  },
  {
   "cell_type": "markdown",
   "metadata": {},
   "source": [
    "### Vs plungers"
   ]
  },
  {
   "cell_type": "code",
   "execution_count": null,
   "metadata": {
    "ExecuteTime": {
     "end_time": "2018-11-05T13:47:21.688610Z",
     "start_time": "2018-11-05T13:33:13.133256Z"
    }
   },
   "outputs": [],
   "source": [
    "station.hetsrc.frequency(5.305e9)\n",
    "cur_plunger = dac_leftplunger()\n",
    "\n",
    "ss.setup_single_averaged_IQpoint(0.1e-3, 30e-3, setup_awg=True)\n",
    "so = sweep(set_plungers, np.arange(cur_plunger,-400,1))(\n",
    "    measure(ss.get_single_averaged_IQpoint_chanA),\n",
    ")\n",
    "\n",
    "#station.TWPA.on()\n",
    "result = do_experiment(f\"resonator_gate_response/{SAMPLE}\", so, live_plot=True)\n",
    "#station.TWPA.off()"
   ]
  },
  {
   "cell_type": "code",
   "execution_count": null,
   "metadata": {
    "ExecuteTime": {
     "end_time": "2018-10-26T12:42:10.481249Z",
     "start_time": "2018-10-26T12:42:01.141109Z"
    }
   },
   "outputs": [],
   "source": [
    "# station.hetsrc.frequency(5.305e9)\n",
    "# station.hetsrc.RF.power(-70)\n",
    "\n",
    "# cur_plunger = dac_leftplunger()\n",
    "\n",
    "# so = ss.measure_soft_gate_sweep(\n",
    "#     np.arange(cur_plunger, cur_plunger+5, 0.1), dac_cutter,\n",
    "#     integration_time=10e-3, setup=True,\n",
    "# )\n",
    "\n",
    "# station.TWPA.on()\n",
    "# result = do_experiment(f\"soft_sweep_gate/{SAMPLE}\", so, live_plot=True)\n",
    "# station.TWPA.off()"
   ]
  },
  {
   "cell_type": "markdown",
   "metadata": {},
   "source": [
    "### Fixed frequency scans (view each point)"
   ]
  },
  {
   "cell_type": "code",
   "execution_count": null,
   "metadata": {
    "ExecuteTime": {
     "end_time": "2018-11-01T17:03:05.689118Z",
     "start_time": "2018-11-01T17:03:05.684131Z"
    }
   },
   "outputs": [],
   "source": [
    "station.TWPA.frequency()"
   ]
  },
  {
   "cell_type": "code",
   "execution_count": null,
   "metadata": {
    "ExecuteTime": {
     "end_time": "2018-11-01T20:26:31.313637Z",
     "start_time": "2018-11-01T20:26:31.277627Z"
    }
   },
   "outputs": [],
   "source": [
    "%%time\n",
    "#Fixed frequency scan if you want to see each point individually\n",
    "\n",
    "station.hetsrc.frequency(5.31347e9+4e6)\n",
    "cur_plunger = dac_leftplunger()\n",
    "cur_cutter = dac_cutter()\n",
    "cutter_vals = np.arange(300,1500.,5)\n",
    "plunger_vals = np.arange(-300,100.,10)\n",
    "\n",
    "\n",
    "setup_single_averaged_IQpoint(0.1e-3, 30e-3, setup_awg=True)\n",
    "so = sweep(dac_cutter, cutter_vals)(sweep(set_plungers, plunger_vals)(\n",
    "    measure(get_single_averaged_IQpoint_chanA),\n",
    "))\n",
    "\n",
    "station.TWPA.on()\n",
    "result = do_experiment(f\"fixed_frequency/{SAMPLE}\", so, live_plot=True)\n",
    "station.TWPA.off()"
   ]
  },
  {
   "cell_type": "markdown",
   "metadata": {},
   "source": [
    "### Fixed frequency scan (only see 1d, faster)"
   ]
  },
  {
   "cell_type": "code",
   "execution_count": null,
   "metadata": {
    "ExecuteTime": {
     "end_time": "2018-11-14T06:22:07.189411Z",
     "start_time": "2018-11-13T17:09:24.173904Z"
    },
    "scrolled": false
   },
   "outputs": [],
   "source": [
    "%%time\n",
    "#Fast Fixed frequency scan if not seeing each 1d line is ok with you\n",
    "\n",
    "station.hetsrc.frequency(5.301e9+4e6)\n",
    "cur_plunger = dac_leftplunger()\n",
    "cur_cutter = dac_cutter()\n",
    "cutter_vals = np.arange(300,2000.,5)[::-1]\n",
    "plunger_vals = np.arange(-2000,200.,5)\n",
    "\n",
    "\n",
    "ss.setup_soft_sweep(plunger_vals, set_plungers, time_bin=0.2e-3, integration_time=20e-3, setup_awg=True, ctl=None)\n",
    "so = sweep(dac_cutter, cutter_vals)(ss.measure_soft_gate_sweep(\n",
    "    plunger_vals, set_plungers,\n",
    "    integration_time=20e-3, setup=False))\n",
    "\n",
    "result = do_experiment(f\"fixed_frequency/{SAMPLE}\", so, live_plot=True)\n"
   ]
  },
  {
   "cell_type": "markdown",
   "metadata": {},
   "source": []
  },
  {
   "cell_type": "markdown",
   "metadata": {},
   "source": [
    "## Take full resonator scan vs gate"
   ]
  },
  {
   "cell_type": "markdown",
   "metadata": {},
   "source": [
    "### Vs cutter"
   ]
  },
  {
   "cell_type": "code",
   "execution_count": 106,
   "metadata": {
    "ExecuteTime": {
     "end_time": "2018-11-14T08:09:21.074460Z",
     "start_time": "2018-11-14T08:09:11.695429Z"
    }
   },
   "outputs": [],
   "source": [
    "station.ivvi.set_dacs_zero()"
   ]
  },
  {
   "cell_type": "code",
   "execution_count": null,
   "metadata": {
    "ExecuteTime": {
     "end_time": "2018-11-07T15:19:38.819118Z",
     "start_time": "2018-11-07T15:19:23.121434Z"
    },
    "scrolled": false
   },
   "outputs": [],
   "source": [
    "cur_cutter = dac_cutter()\n",
    "station.hetsrc.RF.power(-65)\n",
    "spec_frequencies=np.linspace(5.295e9, 5.304e9, 81)\n",
    "spec_src=station.hetsrc\n",
    "\n",
    "ctl = ss.setup_soft_sweep(spec_frequencies, spec_src.frequency)\n",
    "\n",
    "#station.TWPA.on()\n",
    "so = sweep(dac_cutter, np.arange(cur_cutter, cur_cutter+50, 1))(\n",
    "    ss.measure_soft_time_avg_spec(spec_frequencies, spec_src, integration_time=30e-3)\n",
    ")\n",
    "\n",
    "result = do_experiment(f\"resonator_gate_response/{SAMPLE}\", so, live_plot=True)\n",
    "station.TWPA.off()"
   ]
  },
  {
   "cell_type": "markdown",
   "metadata": {},
   "source": [
    "### Vs plungers"
   ]
  },
  {
   "cell_type": "code",
   "execution_count": null,
   "metadata": {
    "ExecuteTime": {
     "end_time": "2018-10-25T13:29:47.197953Z",
     "start_time": "2018-10-25T13:20:01.390762Z"
    }
   },
   "outputs": [],
   "source": [
    "cur_plunger = dac_leftplunger()\n",
    "station.hetsrc.RF.power(-70)\n",
    "spec_frequencies=np.linspace(5.305e9, 5.32e9, 151)\n",
    "spec_src=station.hetsrc\n",
    "\n",
    "ctl = ss.setup_soft_time_avg_spec(spec_frequencies, spec_src)\n",
    "\n",
    "station.TWPA.on()\n",
    "so = sweep(set_plungers, np.arange(cur_plunger,-250.0,-1))(\n",
    "    ss.measure_soft_time_avg_spec(spec_frequencies, spec_src)\n",
    ")\n",
    "\n",
    "result = do_experiment(f\"resonator_gate_response/{SAMPLE}\", so, live_plot=True)\n",
    "station.TWPA.off()"
   ]
  },
  {
   "cell_type": "code",
   "execution_count": null,
   "metadata": {},
   "outputs": [],
   "source": []
  },
  {
   "cell_type": "code",
   "execution_count": null,
   "metadata": {},
   "outputs": [],
   "source": []
  },
  {
   "cell_type": "code",
   "execution_count": null,
   "metadata": {},
   "outputs": [],
   "source": []
  },
  {
   "cell_type": "markdown",
   "metadata": {},
   "source": [
    "# Qubit spec"
   ]
  },
  {
   "cell_type": "markdown",
   "metadata": {},
   "source": [
    "## Spec vs power"
   ]
  },
  {
   "cell_type": "code",
   "execution_count": null,
   "metadata": {
    "ExecuteTime": {
     "end_time": "2018-11-07T10:41:24.568248Z",
     "start_time": "2018-11-07T10:39:30.343010Z"
    }
   },
   "outputs": [],
   "source": [
    "station = qcodes.Station.default #spec at one power\n",
    "station.hetsrc.RF.power(-65)\n",
    "station.hetsrc.frequency(5.2992e9)\n",
    "station.qubsrc.power(-15)\n",
    "qubit_frequencies = np.arange(6e9, 7.5e9, 2e6)\n",
    "spec_src=station.qubsrc\n",
    "\n",
    "ctl = ss.setup_soft_sweep(qubit_frequencies, spec_src.frequency)\n",
    "\n",
    "#station.TWPA.on()\n",
    "spec_src.output_rf('ON')\n",
    "so = ss.measure_soft_time_avg_spec(qubit_frequencies, spec_src, integration_time=30e-3, setup=True)\n",
    "\n",
    "result = do_experiment(f'qubit_spec/{SAMPLE}', so, live_plot=True)\n",
    "station.TWPA.off()"
   ]
  },
  {
   "cell_type": "code",
   "execution_count": null,
   "metadata": {
    "ExecuteTime": {
     "end_time": "2018-11-07T10:51:17.624793Z",
     "start_time": "2018-11-07T10:49:25.905788Z"
    }
   },
   "outputs": [],
   "source": [
    "station = qcodes.Station.default ##spec vs power\n",
    "station.hetsrc.RF.power(-60)\n",
    "station.hetsrc.frequency(5.2992e9)\n",
    "station.qubsrc.power(-15)\n",
    "qubit_frequencies = np.arange(6e9, 7.2e9, 15e6)\n",
    "qubit_powers = np.linspace(-25,-10,4)\n",
    "spec_src=station.qubsrc\n",
    "\n",
    "ctl = ss.setup_soft_sweep(qubit_frequencies, spec_src.frequency)\n",
    "\n",
    "#station.TWPA.on()\n",
    "spec_src.output_rf('ON')\n",
    "so = sweep(station.qubsrc.power,qubit_powers)(\n",
    "    ss.measure_soft_time_avg_spec(qubit_frequencies, spec_src, integration_time=100e-3))\n",
    "\n",
    "result = do_experiment(f'qubit_spec_vs_power/{SAMPLE}', so, live_plot=True)\n",
    "#station.TWPA.off()"
   ]
  },
  {
   "cell_type": "markdown",
   "metadata": {},
   "source": [
    "## Spec vs gates"
   ]
  },
  {
   "cell_type": "markdown",
   "metadata": {},
   "source": [
    "### Coarse scans (requiring resonator frequency change)"
   ]
  },
  {
   "cell_type": "code",
   "execution_count": null,
   "metadata": {
    "ExecuteTime": {
     "end_time": "2018-11-07T15:50:09.253987Z",
     "start_time": "2018-11-07T15:20:29.873876Z"
    }
   },
   "outputs": [],
   "source": [
    "station = qcodes.Station.default\n",
    "station.hetsrc.RF.power(-60)\n",
    "station.qubsrc.power(-10)\n",
    "het_freqs = np.arange(5.295e9,5.304e9,0.5e6)\n",
    "qub_freqs = np.arange(6.2e9, 8.0e9, 8e6)\n",
    "cur_cutter = dac_cutter()\n",
    "cutter_voltages = np.arange(cur_cutter, cur_cutter+10, 0.2)\n",
    "\n",
    "ctl = ss.setup_soft_sweep(het_freqs, station.hetsrc.frequency, integration_time=30e-3)\n",
    "so = sweep(dac_cutter, cutter_voltages)(\n",
    "    measure_qubit_spec_optimize_resonator(het_freqs, station.hetsrc, \n",
    "                                           qub_freqs, station.qubsrc, integration_time=30e-3)) \n",
    "\n",
    "#note that the two integration times must match!!\n",
    "\n",
    "result = do_experiment(f'optimizedqubit_spec/{SAMPLE}', so, live_plot=True)"
   ]
  },
  {
   "cell_type": "code",
   "execution_count": null,
   "metadata": {
    "ExecuteTime": {
     "end_time": "2018-11-08T01:11:26.006190Z",
     "start_time": "2018-11-07T17:14:53.112045Z"
    }
   },
   "outputs": [],
   "source": [
    "station = qcodes.Station.default\n",
    "station.hetsrc.RF.power(-60)\n",
    "station.qubsrc.power(-10)\n",
    "het_freqs = np.arange(5.295e9,5.304e9,0.5e6)\n",
    "qub_freqs = np.arange(6.2e9, 8.0e9, 8e6)\n",
    "cur_plunger = dac_leftplunger()\n",
    "plunger_voltages = np.arange(cur_plunger, cur_plunger+160, 0.2)\n",
    "\n",
    "ctl = ss.setup_soft_sweep(het_freqs, station.hetsrc.frequency, integration_time=30e-3)\n",
    "so = sweep(set_plungers, plunger_voltages)(\n",
    "    measure_qubit_spec_optimize_resonator(het_freqs, station.hetsrc, \n",
    "                                           qub_freqs, station.qubsrc, integration_time=30e-3)) \n",
    "\n",
    "#note that the two integration times must match!!\n",
    "\n",
    "result = do_experiment(f'optimizedqubit_spec/{SAMPLE}', so, live_plot=True)"
   ]
  },
  {
   "cell_type": "markdown",
   "metadata": {},
   "source": [
    "### Fine scans (resonator does not change)"
   ]
  },
  {
   "cell_type": "code",
   "execution_count": null,
   "metadata": {
    "ExecuteTime": {
     "end_time": "2018-11-07T11:17:16.842794Z",
     "start_time": "2018-11-07T11:10:13.788236Z"
    }
   },
   "outputs": [],
   "source": [
    "station = qcodes.Station.default #charge dispersions\n",
    "station.hetsrc.RF.power(-60)\n",
    "station.hetsrc.frequency(5.2992e9)\n",
    "station.qubsrc.power(-15)\n",
    "qubit_frequencies = np.arange(6.0e9, 7.0e9, 5e6)\n",
    "# cur_plunger = dac_leftplunger_fine()\n",
    "plunger_voltages = np.arange(0., 60., 2)\n",
    "spec_src=station.qubsrc\n",
    "\n",
    "ctl = ss.setup_soft_sweep(qubit_frequencies, spec_src.frequency, integration_time=30e-3)\n",
    "\n",
    "station.TWPA.off()\n",
    "spec_src.output_rf('ON')\n",
    "so = sweep(dac_leftplunger_fine, plunger_voltages)(\n",
    "    ss.measure_soft_time_avg_spec(qubit_frequencies, spec_src, setup=False))\n",
    "\n",
    "result = do_experiment(f'charge_dispersions/{SAMPLE}', so, live_plot=True)\n",
    "#station.TWPA.off()"
   ]
  },
  {
   "cell_type": "code",
   "execution_count": null,
   "metadata": {
    "ExecuteTime": {
     "end_time": "2018-11-07T11:50:02.560902Z",
     "start_time": "2018-11-07T11:23:16.520048Z"
    }
   },
   "outputs": [],
   "source": [
    "station = qcodes.Station.default #charge dispersions with phase information\n",
    "station.hetsrc.RF.power(-60)\n",
    "station.hetsrc.frequency(5.2992e9)\n",
    "station.qubsrc.power(-15)\n",
    "qubit_frequencies = np.arange(6.0e9, 7.0e9, 5e6)\n",
    "cur_plunger = dac_leftplunger_fine()\n",
    "plunger_voltages = np.arange(0., 60., 2)\n",
    "spec_src=station.qubsrc\n",
    "\n",
    "ctl = ss.setup_single_averaged_IQpoint(0.2e-3, 30e-3, setup_awg=True)\n",
    "\n",
    "station.TWPA.off()\n",
    "spec_src.output_rf('ON')\n",
    "so = sweep(dac_leftplunger_fine, plunger_voltages)(sweep(station.qubsrc.frequency, qubit_frequencies)(\n",
    "    measure(ss.get_single_averaged_IQpoint_chanA),\n",
    "))\n",
    "    \n",
    "result = do_experiment(f'charge_dispersions/{SAMPLE}', so, live_plot=True)"
   ]
  },
  {
   "cell_type": "code",
   "execution_count": null,
   "metadata": {
    "ExecuteTime": {
     "end_time": "2018-11-05T19:01:16.729281Z",
     "start_time": "2018-11-05T18:54:05.337837Z"
    }
   },
   "outputs": [],
   "source": [
    "res_powers = np.arange(-70,-45,5)\n",
    "spec_powers = np.arange(-30,-15,5)\n",
    "\n",
    "for res_power in res_powers:\n",
    "    for spec_power in spec_powers:\n",
    "        station = qcodes.Station.default ##spec vs cutter\n",
    "        station.hetsrc.RF.power(res_power)\n",
    "        station.hetsrc.frequency(5.30e9)\n",
    "        station.qubsrc.power(spec_power)\n",
    "        qubit_frequencies = np.arange(6.0e9, 7.2e9, 10e6)\n",
    "        cur_plunger = dac_leftplunger_fine()\n",
    "        plunger_voltages = np.arange(cur_plunger, cur_plunger+60, 2)\n",
    "        spec_src=station.qubsrc\n",
    "\n",
    "        ctl = ss.setup_soft_sweep(qubit_frequencies, spec_src.frequency, integration_time=30e-3)\n",
    "\n",
    "        station.TWPA.off()\n",
    "        spec_src.output_rf('ON')\n",
    "        so = sweep(dac_leftplunger_fine, plunger_voltages)(\n",
    "            ss.measure_soft_time_avg_spec(qubit_frequencies, spec_src, setup=False))\n",
    "\n",
    "        result = do_experiment(f'charge_dispersions/{SAMPLE}', so, live_plot=True)\n",
    "        #station.TWPA.off()"
   ]
  },
  {
   "cell_type": "code",
   "execution_count": null,
   "metadata": {
    "ExecuteTime": {
     "end_time": "2018-10-26T17:27:17.490434Z",
     "start_time": "2018-10-26T17:26:33.149232Z"
    }
   },
   "outputs": [],
   "source": []
  },
  {
   "cell_type": "markdown",
   "metadata": {},
   "source": [
    "# Magnetic Field Sweeps"
   ]
  },
  {
   "cell_type": "markdown",
   "metadata": {},
   "source": [
    "## TESTING UNDER DEVELOPMENT DO NOT USE UNLESS YOU ARE SURE"
   ]
  },
  {
   "cell_type": "code",
   "execution_count": 80,
   "metadata": {
    "ExecuteTime": {
     "end_time": "2018-11-13T16:13:30.037737Z",
     "start_time": "2018-11-13T16:13:29.812690Z"
    }
   },
   "outputs": [
    {
     "name": "stdout",
     "output_type": "stream",
     "text": [
      "Measured field = FieldVector(r=0.23822426408743505, phi=-180.0, theta=0.817768354831408)\n",
      "Target field = FieldVector(r=0.23822201997048786, phi=-180.0, theta=0.8061599454702341)\n"
     ]
    }
   ],
   "source": [
    "print('Measured field = ' + station.mgnt.field_measured().repr_spherical())\n",
    "#print('Measured field = ' + station.mgnt.field_measured().repr_cartesian())\n",
    "print('Target field = ' + station.mgnt.field_target().repr_spherical())\n",
    "#print('Target field = ' + station.mgnt.field_target().repr_cartesian())"
   ]
  },
  {
   "cell_type": "markdown",
   "metadata": {},
   "source": [
    "### Get resonator trace and plot"
   ]
  },
  {
   "cell_type": "code",
   "execution_count": null,
   "metadata": {
    "ExecuteTime": {
     "end_time": "2018-11-08T09:03:14.565689Z",
     "start_time": "2018-11-08T09:03:14.559685Z"
    }
   },
   "outputs": [],
   "source": [
    "\n",
    "\n",
    "\n",
    "#ctl = ss.setup_soft_sweep(het_freqs, station.hetsrc.frequency, integration_time=30e-3)\n",
    "#testout = get_resonator_spec_and_fit(het_freqs)\n",
    "#testout.params['center'].value, testout.params['center'].stderr\n"
   ]
  },
  {
   "cell_type": "markdown",
   "metadata": {},
   "source": [
    "## Manual Magnet Sweeps"
   ]
  },
  {
   "cell_type": "code",
   "execution_count": 99,
   "metadata": {
    "ExecuteTime": {
     "end_time": "2018-11-13T16:55:17.813686Z",
     "start_time": "2018-11-13T16:55:17.785670Z"
    }
   },
   "outputs": [
    {
     "data": {
      "text/plain": [
       "0.36523471905064014"
      ]
     },
     "execution_count": 99,
     "metadata": {},
     "output_type": "execute_result"
    }
   ],
   "source": [
    "station.mgnt.r_measured()"
   ]
  },
  {
   "cell_type": "code",
   "execution_count": null,
   "metadata": {
    "ExecuteTime": {
     "start_time": "2018-11-14T09:18:13.339Z"
    }
   },
   "outputs": [
    {
     "name": "stdout",
     "output_type": "stream",
     "text": [
      "Starting experimental run with id: 365\n",
      "Point 1 (5.29350e+09))\r"
     ]
    }
   ],
   "source": [
    "#station.mgnt.field_ramp_rate(FieldVector(x=1e-3, y=1e-3, z=1e-3)) ##sweep r\n",
    "\n",
    "\n",
    "cur_r = station.mgnt.r_measured()\n",
    "station.hetsrc.RF.power(-30)\n",
    "spec_frequencies=np.arange(5.293e9, 5.315e9, 0.5e6)\n",
    "spec_src=station.hetsrc\n",
    "\n",
    "ctl = ss.setup_soft_sweep(spec_frequencies, spec_src.frequency, integration_time=30e-3)\n",
    "\n",
    "\n",
    "so = sweep(set_magnet_r, np.arange(cur_r,cur_r+500e-3,2.5e-3))(\n",
    "    ss.measure_soft_time_avg_spec(spec_frequencies, spec_src.frequency, setup=False)\n",
    ")\n",
    "\n",
    "result = do_experiment(f\"resonator_magnet_r/{SAMPLE}\", so, live_plot=True)\n",
    "\n",
    "\n"
   ]
  },
  {
   "cell_type": "code",
   "execution_count": 116,
   "metadata": {
    "ExecuteTime": {
     "end_time": "2018-11-14T09:18:04.732798Z",
     "start_time": "2018-11-14T09:16:54.406867Z"
    }
   },
   "outputs": [
    {
     "name": "stdout",
     "output_type": "stream",
     "text": [
      "Starting experimental run with id: 364\n",
      "Done! 49 (5.31450e+09)\r"
     ]
    },
    {
     "ename": "KeyboardInterrupt",
     "evalue": "",
     "output_type": "error",
     "traceback": [
      "\u001b[1;31m---------------------------------------------------------------------------\u001b[0m",
      "\u001b[1;31mKeyboardInterrupt\u001b[0m                         Traceback (most recent call last)",
      "\u001b[1;32mD:/OneDrive/Setups/LK1/LK1_code/Code/LK1/LK1/init_station_cqed.py\u001b[0m in \u001b[0;36m<module>\u001b[1;34m()\u001b[0m\n\u001b[0;32m     15\u001b[0m )\n\u001b[0;32m     16\u001b[0m \u001b[1;33m\u001b[0m\u001b[0m\n\u001b[1;32m---> 17\u001b[1;33m \u001b[0mresult\u001b[0m \u001b[1;33m=\u001b[0m \u001b[0mdo_experiment\u001b[0m\u001b[1;33m(\u001b[0m\u001b[1;34mf\"resonator_magnet_theta/{SAMPLE}\"\u001b[0m\u001b[1;33m,\u001b[0m \u001b[0mso\u001b[0m\u001b[1;33m,\u001b[0m \u001b[0mlive_plot\u001b[0m\u001b[1;33m=\u001b[0m\u001b[1;32mTrue\u001b[0m\u001b[1;33m)\u001b[0m\u001b[1;33m\u001b[0m\u001b[0m\n\u001b[0m",
      "\u001b[1;32md:\\onedrive\\setups\\lk1\\lk1_code\\code\\pytopo\\pytopo\\sweep\\do_experiment.py\u001b[0m in \u001b[0;36mdo_experiment\u001b[1;34m(experiment_name, sweep_object, setup, cleanup, station, live_plot)\u001b[0m\n\u001b[0;32m     92\u001b[0m             )\n\u001b[0;32m     93\u001b[0m \u001b[1;33m\u001b[0m\u001b[0m\n\u001b[1;32m---> 94\u001b[1;33m         \u001b[1;32mfor\u001b[0m \u001b[0mdata\u001b[0m \u001b[1;32min\u001b[0m \u001b[0msweep_object\u001b[0m\u001b[1;33m:\u001b[0m\u001b[1;33m\u001b[0m\u001b[0m\n\u001b[0m\u001b[0;32m     95\u001b[0m             \u001b[0mdatasaver\u001b[0m\u001b[1;33m.\u001b[0m\u001b[0madd_result\u001b[0m\u001b[1;33m(\u001b[0m\u001b[1;33m*\u001b[0m\u001b[0mdata\u001b[0m\u001b[1;33m.\u001b[0m\u001b[0mitems\u001b[0m\u001b[1;33m(\u001b[0m\u001b[1;33m)\u001b[0m\u001b[1;33m)\u001b[0m\u001b[1;33m\u001b[0m\u001b[0m\n\u001b[0;32m     96\u001b[0m \u001b[1;33m\u001b[0m\u001b[0m\n",
      "\u001b[1;32md:\\onedrive\\setups\\lk1\\lk1_code\\code\\pytopo\\pytopo\\sweep\\base.py\u001b[0m in \u001b[0;36m__next__\u001b[1;34m(self)\u001b[0m\n\u001b[0;32m     36\u001b[0m             \u001b[0mself\u001b[0m\u001b[1;33m.\u001b[0m\u001b[0m_start_iter\u001b[0m\u001b[1;33m(\u001b[0m\u001b[1;33m)\u001b[0m\u001b[1;33m\u001b[0m\u001b[0m\n\u001b[0;32m     37\u001b[0m \u001b[1;33m\u001b[0m\u001b[0m\n\u001b[1;32m---> 38\u001b[1;33m         \u001b[1;32mreturn\u001b[0m \u001b[0mnext\u001b[0m\u001b[1;33m(\u001b[0m\u001b[0mself\u001b[0m\u001b[1;33m.\u001b[0m\u001b[0m_generator\u001b[0m\u001b[1;33m)\u001b[0m\u001b[1;33m\u001b[0m\u001b[0m\n\u001b[0m\u001b[0;32m     39\u001b[0m \u001b[1;33m\u001b[0m\u001b[0m\n\u001b[0;32m     40\u001b[0m     \u001b[1;32mdef\u001b[0m \u001b[0m__call__\u001b[0m\u001b[1;33m(\u001b[0m\u001b[0mself\u001b[0m\u001b[1;33m,\u001b[0m \u001b[1;33m*\u001b[0m\u001b[0msweep_objects\u001b[0m\u001b[1;33m)\u001b[0m\u001b[1;33m:\u001b[0m\u001b[1;33m\u001b[0m\u001b[0m\n",
      "\u001b[1;32md:\\onedrive\\setups\\lk1\\lk1_code\\code\\pytopo\\pytopo\\sweep\\base.py\u001b[0m in \u001b[0;36m__next__\u001b[1;34m(self)\u001b[0m\n\u001b[0;32m     36\u001b[0m             \u001b[0mself\u001b[0m\u001b[1;33m.\u001b[0m\u001b[0m_start_iter\u001b[0m\u001b[1;33m(\u001b[0m\u001b[1;33m)\u001b[0m\u001b[1;33m\u001b[0m\u001b[0m\n\u001b[0;32m     37\u001b[0m \u001b[1;33m\u001b[0m\u001b[0m\n\u001b[1;32m---> 38\u001b[1;33m         \u001b[1;32mreturn\u001b[0m \u001b[0mnext\u001b[0m\u001b[1;33m(\u001b[0m\u001b[0mself\u001b[0m\u001b[1;33m.\u001b[0m\u001b[0m_generator\u001b[0m\u001b[1;33m)\u001b[0m\u001b[1;33m\u001b[0m\u001b[0m\n\u001b[0m\u001b[0;32m     39\u001b[0m \u001b[1;33m\u001b[0m\u001b[0m\n\u001b[0;32m     40\u001b[0m     \u001b[1;32mdef\u001b[0m \u001b[0m__call__\u001b[0m\u001b[1;33m(\u001b[0m\u001b[0mself\u001b[0m\u001b[1;33m,\u001b[0m \u001b[1;33m*\u001b[0m\u001b[0msweep_objects\u001b[0m\u001b[1;33m)\u001b[0m\u001b[1;33m:\u001b[0m\u001b[1;33m\u001b[0m\u001b[0m\n",
      "\u001b[1;32md:\\onedrive\\setups\\lk1\\lk1_code\\code\\pytopo\\pytopo\\sweep\\base.py\u001b[0m in \u001b[0;36m_generator_factory\u001b[1;34m(self)\u001b[0m\n\u001b[0;32m     79\u001b[0m \u001b[1;33m\u001b[0m\u001b[0m\n\u001b[0;32m     80\u001b[0m     \u001b[1;32mdef\u001b[0m \u001b[0m_generator_factory\u001b[0m\u001b[1;33m(\u001b[0m\u001b[0mself\u001b[0m\u001b[1;33m)\u001b[0m \u001b[1;33m->\u001b[0m\u001b[0mIterator\u001b[0m\u001b[1;33m:\u001b[0m\u001b[1;33m\u001b[0m\u001b[0m\n\u001b[1;32m---> 81\u001b[1;33m         \u001b[1;32mfor\u001b[0m \u001b[0mvalue\u001b[0m \u001b[1;32min\u001b[0m \u001b[0mself\u001b[0m\u001b[1;33m.\u001b[0m\u001b[0m_iterator_function\u001b[0m\u001b[1;33m(\u001b[0m\u001b[1;33m)\u001b[0m\u001b[1;33m:\u001b[0m\u001b[1;33m\u001b[0m\u001b[0m\n\u001b[0m\u001b[0;32m     82\u001b[0m             \u001b[1;32myield\u001b[0m \u001b[0mvalue\u001b[0m\u001b[1;33m\u001b[0m\u001b[0m\n\u001b[0;32m     83\u001b[0m \u001b[1;33m\u001b[0m\u001b[0m\n",
      "\u001b[1;32md:\\onedrive\\setups\\lk1\\lk1_code\\code\\pytopo\\pytopo\\sweep\\base.py\u001b[0m in \u001b[0;36minner\u001b[1;34m()\u001b[0m\n\u001b[0;32m    121\u001b[0m                      sweep_object2: BaseSweepObject) ->IteratorSweep:\n\u001b[0;32m    122\u001b[0m         \u001b[1;32mdef\u001b[0m \u001b[0minner\u001b[0m\u001b[1;33m(\u001b[0m\u001b[1;33m)\u001b[0m\u001b[1;33m:\u001b[0m\u001b[1;33m\u001b[0m\u001b[0m\n\u001b[1;32m--> 123\u001b[1;33m             \u001b[1;32mfor\u001b[0m \u001b[0mresult2\u001b[0m \u001b[1;32min\u001b[0m \u001b[0msweep_object2\u001b[0m\u001b[1;33m:\u001b[0m\u001b[1;33m\u001b[0m\u001b[0m\n\u001b[0m\u001b[0;32m    124\u001b[0m                 \u001b[1;32mfor\u001b[0m \u001b[0mresult1\u001b[0m \u001b[1;32min\u001b[0m \u001b[0msweep_object1\u001b[0m\u001b[1;33m:\u001b[0m\u001b[1;33m\u001b[0m\u001b[0m\n\u001b[0;32m    125\u001b[0m                     \u001b[0mresult1\u001b[0m\u001b[1;33m.\u001b[0m\u001b[0mupdate\u001b[0m\u001b[1;33m(\u001b[0m\u001b[0mresult2\u001b[0m\u001b[1;33m)\u001b[0m\u001b[1;33m\u001b[0m\u001b[0m\n",
      "\u001b[1;32md:\\onedrive\\setups\\lk1\\lk1_code\\code\\pytopo\\pytopo\\sweep\\base.py\u001b[0m in \u001b[0;36m__next__\u001b[1;34m(self)\u001b[0m\n\u001b[0;32m     36\u001b[0m             \u001b[0mself\u001b[0m\u001b[1;33m.\u001b[0m\u001b[0m_start_iter\u001b[0m\u001b[1;33m(\u001b[0m\u001b[1;33m)\u001b[0m\u001b[1;33m\u001b[0m\u001b[0m\n\u001b[0;32m     37\u001b[0m \u001b[1;33m\u001b[0m\u001b[0m\n\u001b[1;32m---> 38\u001b[1;33m         \u001b[1;32mreturn\u001b[0m \u001b[0mnext\u001b[0m\u001b[1;33m(\u001b[0m\u001b[0mself\u001b[0m\u001b[1;33m.\u001b[0m\u001b[0m_generator\u001b[0m\u001b[1;33m)\u001b[0m\u001b[1;33m\u001b[0m\u001b[0m\n\u001b[0m\u001b[0;32m     39\u001b[0m \u001b[1;33m\u001b[0m\u001b[0m\n\u001b[0;32m     40\u001b[0m     \u001b[1;32mdef\u001b[0m \u001b[0m__call__\u001b[0m\u001b[1;33m(\u001b[0m\u001b[0mself\u001b[0m\u001b[1;33m,\u001b[0m \u001b[1;33m*\u001b[0m\u001b[0msweep_objects\u001b[0m\u001b[1;33m)\u001b[0m\u001b[1;33m:\u001b[0m\u001b[1;33m\u001b[0m\u001b[0m\n",
      "\u001b[1;32md:\\onedrive\\setups\\lk1\\lk1_code\\code\\pytopo\\pytopo\\sweep\\base.py\u001b[0m in \u001b[0;36m_generator_factory\u001b[1;34m(self)\u001b[0m\n\u001b[0;32m    193\u001b[0m     \u001b[1;32mdef\u001b[0m \u001b[0m_generator_factory\u001b[0m\u001b[1;33m(\u001b[0m\u001b[0mself\u001b[0m\u001b[1;33m)\u001b[0m\u001b[1;33m->\u001b[0m\u001b[0mIterator\u001b[0m\u001b[1;33m:\u001b[0m\u001b[1;33m\u001b[0m\u001b[0m\n\u001b[0;32m    194\u001b[0m         \u001b[1;32mfor\u001b[0m \u001b[0mset_value\u001b[0m \u001b[1;32min\u001b[0m \u001b[0mself\u001b[0m\u001b[1;33m.\u001b[0m\u001b[0m_point_function\u001b[0m\u001b[1;33m(\u001b[0m\u001b[1;33m)\u001b[0m\u001b[1;33m:\u001b[0m\u001b[1;33m\u001b[0m\u001b[0m\n\u001b[1;32m--> 195\u001b[1;33m             \u001b[1;32myield\u001b[0m \u001b[0mself\u001b[0m\u001b[1;33m.\u001b[0m\u001b[0m_set_function\u001b[0m\u001b[1;33m(\u001b[0m\u001b[1;33m*\u001b[0m\u001b[0mnp\u001b[0m\u001b[1;33m.\u001b[0m\u001b[0matleast_1d\u001b[0m\u001b[1;33m(\u001b[0m\u001b[0mset_value\u001b[0m\u001b[1;33m)\u001b[0m\u001b[1;33m)\u001b[0m\u001b[1;33m\u001b[0m\u001b[0m\n\u001b[0m\u001b[0;32m    196\u001b[0m \u001b[1;33m\u001b[0m\u001b[0m\n\u001b[0;32m    197\u001b[0m \u001b[1;33m\u001b[0m\u001b[0m\n",
      "\u001b[1;32md:\\onedrive\\setups\\lk1\\lk1_code\\code\\pytopo\\pytopo\\sweep\\decorators.py\u001b[0m in \u001b[0;36m__call__\u001b[1;34m(self, *args, **kwargs)\u001b[0m\n\u001b[0;32m     15\u001b[0m \u001b[1;33m\u001b[0m\u001b[0m\n\u001b[0;32m     16\u001b[0m     \u001b[1;32mdef\u001b[0m \u001b[0m__call__\u001b[0m\u001b[1;33m(\u001b[0m\u001b[0mself\u001b[0m\u001b[1;33m,\u001b[0m \u001b[1;33m*\u001b[0m\u001b[0margs\u001b[0m\u001b[1;33m,\u001b[0m \u001b[1;33m**\u001b[0m\u001b[0mkwargs\u001b[0m\u001b[1;33m)\u001b[0m\u001b[1;33m:\u001b[0m\u001b[1;33m\u001b[0m\u001b[0m\n\u001b[1;32m---> 17\u001b[1;33m         \u001b[1;32mreturn\u001b[0m \u001b[0mself\u001b[0m\u001b[1;33m.\u001b[0m\u001b[0m_caller\u001b[0m\u001b[1;33m(\u001b[0m\u001b[1;33m*\u001b[0m\u001b[0margs\u001b[0m\u001b[1;33m,\u001b[0m \u001b[1;33m**\u001b[0m\u001b[0mkwargs\u001b[0m\u001b[1;33m)\u001b[0m\u001b[1;33m\u001b[0m\u001b[0m\n\u001b[0m\u001b[0;32m     18\u001b[0m \u001b[1;33m\u001b[0m\u001b[0m\n\u001b[0;32m     19\u001b[0m     \u001b[1;33m@\u001b[0m\u001b[0mproperty\u001b[0m\u001b[1;33m\u001b[0m\u001b[0m\n",
      "\u001b[1;32md:\\onedrive\\setups\\lk1\\lk1_code\\code\\pytopo\\pytopo\\sweep\\decorators.py\u001b[0m in \u001b[0;36minner\u001b[1;34m(*set_values)\u001b[0m\n\u001b[0;32m    119\u001b[0m     \u001b[1;32mdef\u001b[0m \u001b[0mdecorator\u001b[0m\u001b[1;33m(\u001b[0m\u001b[0mfunc\u001b[0m\u001b[1;33m:\u001b[0m \u001b[0mCallable\u001b[0m\u001b[1;33m)\u001b[0m \u001b[1;33m->\u001b[0m\u001b[0mSweepFunction\u001b[0m\u001b[1;33m:\u001b[0m\u001b[1;33m\u001b[0m\u001b[0m\n\u001b[0;32m    120\u001b[0m         \u001b[1;32mdef\u001b[0m \u001b[0minner\u001b[0m\u001b[1;33m(\u001b[0m\u001b[1;33m*\u001b[0m\u001b[0mset_values\u001b[0m\u001b[1;33m)\u001b[0m \u001b[1;33m->\u001b[0m\u001b[0mdict\u001b[0m\u001b[1;33m:\u001b[0m\u001b[1;33m\u001b[0m\u001b[0m\n\u001b[1;32m--> 121\u001b[1;33m             \u001b[0mfunc\u001b[0m\u001b[1;33m(\u001b[0m\u001b[1;33m*\u001b[0m\u001b[0mset_values\u001b[0m\u001b[1;33m)\u001b[0m\u001b[1;33m\u001b[0m\u001b[0m\n\u001b[0m\u001b[0;32m    122\u001b[0m             \u001b[1;32mreturn\u001b[0m \u001b[1;33m{\u001b[0m\u001b[0mk\u001b[0m\u001b[1;33m[\u001b[0m\u001b[1;36m0\u001b[0m\u001b[1;33m]\u001b[0m\u001b[1;33m:\u001b[0m \u001b[0mv\u001b[0m \u001b[1;32mfor\u001b[0m \u001b[0mk\u001b[0m\u001b[1;33m,\u001b[0m \u001b[0mv\u001b[0m \u001b[1;32min\u001b[0m \u001b[0mzip\u001b[0m\u001b[1;33m(\u001b[0m\u001b[0mnames_units\u001b[0m\u001b[1;33m,\u001b[0m \u001b[0mset_values\u001b[0m\u001b[1;33m)\u001b[0m\u001b[1;33m}\u001b[0m\u001b[1;33m\u001b[0m\u001b[0m\n\u001b[0;32m    123\u001b[0m \u001b[1;33m\u001b[0m\u001b[0m\n",
      "\u001b[1;32mD:/OneDrive/Setups/LK1/LK1_code/Code/LK1/LK1/init_station_cqed.py\u001b[0m in \u001b[0;36mset_magnet_theta\u001b[1;34m(val)\u001b[0m\n\u001b[0;32m     23\u001b[0m     \"\"\"\n\u001b[0;32m     24\u001b[0m     \u001b[0mstation\u001b[0m\u001b[1;33m.\u001b[0m\u001b[0mmgnt\u001b[0m\u001b[1;33m.\u001b[0m\u001b[0mtheta_target\u001b[0m\u001b[1;33m(\u001b[0m\u001b[0mval\u001b[0m\u001b[1;33m)\u001b[0m\u001b[1;33m\u001b[0m\u001b[0m\n\u001b[1;32m---> 25\u001b[1;33m     \u001b[0mstation\u001b[0m\u001b[1;33m.\u001b[0m\u001b[0mmgnt\u001b[0m\u001b[1;33m.\u001b[0m\u001b[0mramp\u001b[0m\u001b[1;33m(\u001b[0m\u001b[0mmode\u001b[0m\u001b[1;33m=\u001b[0m\u001b[1;34m'safe'\u001b[0m\u001b[1;33m)\u001b[0m\u001b[1;33m\u001b[0m\u001b[0m\n\u001b[0m\u001b[0;32m     26\u001b[0m     \u001b[1;32mreturn\u001b[0m \u001b[0mval\u001b[0m\u001b[1;33m\u001b[0m\u001b[0m\n",
      "\u001b[1;32md:\\onedrive\\setups\\lk1\\lk1_code\\code\\qcodes\\qcodes\\instrument_drivers\\oxford\\MercuryiPS_VISA.py\u001b[0m in \u001b[0;36mramp\u001b[1;34m(self, mode)\u001b[0m\n\u001b[0;32m    452\u001b[0m         \u001b[1;31m# then the actual ramp\u001b[0m\u001b[1;33m\u001b[0m\u001b[1;33m\u001b[0m\u001b[0m\n\u001b[0;32m    453\u001b[0m         {'simul': self._ramp_simultaneously,\n\u001b[1;32m--> 454\u001b[1;33m          'safe': self._ramp_safely}[mode]()\n\u001b[0m\u001b[0;32m    455\u001b[0m \u001b[1;33m\u001b[0m\u001b[0m\n\u001b[0;32m    456\u001b[0m     \u001b[1;32mdef\u001b[0m \u001b[0mask\u001b[0m\u001b[1;33m(\u001b[0m\u001b[0mself\u001b[0m\u001b[1;33m,\u001b[0m \u001b[0mcmd\u001b[0m\u001b[1;33m:\u001b[0m \u001b[0mstr\u001b[0m\u001b[1;33m)\u001b[0m \u001b[1;33m->\u001b[0m \u001b[0mstr\u001b[0m\u001b[1;33m:\u001b[0m\u001b[1;33m\u001b[0m\u001b[0m\n",
      "\u001b[1;32md:\\onedrive\\setups\\lk1\\lk1_code\\code\\qcodes\\qcodes\\instrument_drivers\\oxford\\MercuryiPS_VISA.py\u001b[0m in \u001b[0;36m_ramp_safely\u001b[1;34m(self)\u001b[0m\n\u001b[0;32m    405\u001b[0m             \u001b[1;32melse\u001b[0m\u001b[1;33m:\u001b[0m\u001b[1;33m\u001b[0m\u001b[0m\n\u001b[0;32m    406\u001b[0m                 \u001b[1;32mwhile\u001b[0m \u001b[0mslave\u001b[0m\u001b[1;33m.\u001b[0m\u001b[0mramp_status\u001b[0m\u001b[1;33m(\u001b[0m\u001b[1;33m)\u001b[0m \u001b[1;33m==\u001b[0m \u001b[1;34m'TO SET'\u001b[0m\u001b[1;33m:\u001b[0m\u001b[1;33m\u001b[0m\u001b[0m\n\u001b[1;32m--> 407\u001b[1;33m                     \u001b[0mtime\u001b[0m\u001b[1;33m.\u001b[0m\u001b[0msleep\u001b[0m\u001b[1;33m(\u001b[0m\u001b[1;36m0.1\u001b[0m\u001b[1;33m)\u001b[0m\u001b[1;33m\u001b[0m\u001b[0m\n\u001b[0m\u001b[0;32m    408\u001b[0m \u001b[1;33m\u001b[0m\u001b[0m\n\u001b[0;32m    409\u001b[0m     \u001b[1;32mdef\u001b[0m \u001b[0mset_new_field_limits\u001b[0m\u001b[1;33m(\u001b[0m\u001b[0mself\u001b[0m\u001b[1;33m,\u001b[0m \u001b[0mlimit_func\u001b[0m\u001b[1;33m:\u001b[0m \u001b[0mCallable\u001b[0m\u001b[1;33m)\u001b[0m \u001b[1;33m->\u001b[0m \u001b[1;32mNone\u001b[0m\u001b[1;33m:\u001b[0m\u001b[1;33m\u001b[0m\u001b[0m\n",
      "\u001b[1;31mKeyboardInterrupt\u001b[0m: "
     ]
    }
   ],
   "source": [
    "if station.mgnt.r_measured() > 0.015:\n",
    "    cur_theta = station.mgnt.theta_measured() ##makes sure you don't get jumps if you are not exactly @ setpoint\n",
    "else:\n",
    "    cur_theta = station.mgnt.theta_target() #makes sure theta doesn't change sign when phi is not well defined\n",
    "\n",
    "station.hetsrc.RF.power(-30)\n",
    "spec_frequencies=np.arange(5.290e9, 5.315e9, 0.5e6)\n",
    "spec_src=station.hetsrc\n",
    "\n",
    "ctl = ss.setup_soft_sweep(spec_frequencies, spec_src.frequency, integration_time=30e-3)\n",
    "\n",
    "\n",
    "so = sweep(set_magnet_theta, np.arange(cur_theta,cur_theta+0.1, 0.0025))(\n",
    "    ss.measure_soft_time_avg_spec(spec_frequencies, spec_src.frequency, setup=False)\n",
    ")\n",
    "\n",
    "result = do_experiment(f\"resonator_magnet_theta/{SAMPLE}\", so, live_plot=True)\n",
    "\n"
   ]
  },
  {
   "cell_type": "code",
   "execution_count": 88,
   "metadata": {
    "ExecuteTime": {
     "end_time": "2018-11-13T16:23:31.053944Z",
     "start_time": "2018-11-13T16:20:36.863373Z"
    }
   },
   "outputs": [
    {
     "name": "stdout",
     "output_type": "stream",
     "text": [
      "Starting experimental run with id: 349\n",
      "Done! 49 (5.31450e+09)\r"
     ]
    }
   ],
   "source": [
    "if station.mgnt.r_measured() > 0.015:\n",
    "    cur_phi = station.mgnt.phi_measured() ##makes sure you don't get jumps if you are not exactly @ setpoint\n",
    "else:\n",
    "    cur_phi = station.mgnt.phi_target() #makes sure theta doesn't change sign when phi is not well defined\n",
    "\n",
    "station.hetsrc.RF.power(-30)\n",
    "spec_frequencies=np.arange(5.290e9, 5.315e9, 0.5e6)\n",
    "spec_src=station.hetsrc\n",
    "\n",
    "ctl = ss.setup_soft_sweep(spec_frequencies, spec_src.frequency, integration_time=30e-3)\n",
    "\n",
    "\n",
    "so = sweep(set_magnet_phi, np.arange(cur_phi,cur_phi+6, 0.5))(\n",
    "    ss.measure_soft_time_avg_spec(spec_frequencies, spec_src.frequency, setup=False)\n",
    ")\n",
    "\n",
    "result = do_experiment(f\"resonator_magnet_phi/{SAMPLE}\", so, live_plot=True)\n",
    "\n"
   ]
  },
  {
   "cell_type": "markdown",
   "metadata": {
    "ExecuteTime": {
     "end_time": "2018-11-01T12:33:25.214315Z",
     "start_time": "2018-11-01T12:33:25.212314Z"
    }
   },
   "source": [
    "## Automated Magnet Sweeps"
   ]
  },
  {
   "cell_type": "code",
   "execution_count": 49,
   "metadata": {
    "ExecuteTime": {
     "end_time": "2018-11-13T12:33:50.896577Z",
     "start_time": "2018-11-13T12:33:50.893575Z"
    }
   },
   "outputs": [],
   "source": [
    "from pytopo.field_optimization.movement import FieldOptimizationProblem ##optimize at fixed mag"
   ]
  },
  {
   "cell_type": "code",
   "execution_count": null,
   "metadata": {
    "ExecuteTime": {
     "end_time": "2018-11-01T15:24:32.533471Z",
     "start_time": "2018-11-01T15:20:19.087052Z"
    }
   },
   "outputs": [],
   "source": [
    "xvals = np.arange(5.29e9,5.32e9,0.5e6)\n",
    "    \n",
    "fig = plt.figure()\n",
    "ax = fig.add_subplot(111)\n",
    "ax.set_xlabel('X values')\n",
    "ax.set_ylabel('Y values')\n",
    "line = ax.plot(xvals, np.zeros_like(xvals), '.-')[0]\n",
    "\n",
    "ctl = ss.setup_soft_sweep(xvals, station.hetsrc.frequency, integration_time=30e-3)\n",
    "\n",
    "# now we wrap the measure function such that it doesn't need arguments anymore\n",
    "# of course this requires that we have already good constant values for ax and line\n",
    "measure_trace = partial(measure_and_plot_resonator, ax, line)\n",
    "\n",
    "# now we just have to call the new function wrapper without arguments\n",
    "\n",
    "\n",
    "field_opt = FieldOptimizationProblem(station.mgnt, measure_trace, get_resonator_FWHM)\n",
    "\n",
    "\n",
    "\n",
    "cur_r = station.mgnt.r_target()\n",
    "cur_theta = station.mgnt.theta_target()\n",
    "cur_phi = station.mgnt.phi_target()\n",
    "\n",
    "with station.TWPA():\n",
    "    opt, extra = field_opt.optimize_at_fixed_magnitude(\n",
    "        cur_r, (cur_phi-3, cur_phi+3), 2,(cur_theta-0.1, cur_theta+0.1), 2,\n",
    "        plot=True, return_extra=True, verbose=True, ramp_rate=1e-3, n_steps=3\n",
    "    )\n",
    "# station.TWPA.off()"
   ]
  },
  {
   "cell_type": "code",
   "execution_count": 110,
   "metadata": {
    "ExecuteTime": {
     "end_time": "2018-11-14T08:55:00.086584Z",
     "start_time": "2018-11-14T08:54:59.909348Z"
    }
   },
   "outputs": [
    {
     "data": {
      "text/plain": [
       "0.36523471905064014"
      ]
     },
     "execution_count": 110,
     "metadata": {},
     "output_type": "execute_result"
    }
   ],
   "source": [
    "station.mgnt.r_measured()"
   ]
  },
  {
   "cell_type": "code",
   "execution_count": 115,
   "metadata": {
    "ExecuteTime": {
     "end_time": "2018-11-14T09:16:29.350073Z",
     "start_time": "2018-11-14T09:06:59.447503Z"
    },
    "scrolled": false
   },
   "outputs": [
    {
     "data": {
      "application/javascript": [
       "/* Put everything inside the global mpl namespace */\n",
       "window.mpl = {};\n",
       "\n",
       "\n",
       "mpl.get_websocket_type = function() {\n",
       "    if (typeof(WebSocket) !== 'undefined') {\n",
       "        return WebSocket;\n",
       "    } else if (typeof(MozWebSocket) !== 'undefined') {\n",
       "        return MozWebSocket;\n",
       "    } else {\n",
       "        alert('Your browser does not have WebSocket support.' +\n",
       "              'Please try Chrome, Safari or Firefox ≥ 6. ' +\n",
       "              'Firefox 4 and 5 are also supported but you ' +\n",
       "              'have to enable WebSockets in about:config.');\n",
       "    };\n",
       "}\n",
       "\n",
       "mpl.figure = function(figure_id, websocket, ondownload, parent_element) {\n",
       "    this.id = figure_id;\n",
       "\n",
       "    this.ws = websocket;\n",
       "\n",
       "    this.supports_binary = (this.ws.binaryType != undefined);\n",
       "\n",
       "    if (!this.supports_binary) {\n",
       "        var warnings = document.getElementById(\"mpl-warnings\");\n",
       "        if (warnings) {\n",
       "            warnings.style.display = 'block';\n",
       "            warnings.textContent = (\n",
       "                \"This browser does not support binary websocket messages. \" +\n",
       "                    \"Performance may be slow.\");\n",
       "        }\n",
       "    }\n",
       "\n",
       "    this.imageObj = new Image();\n",
       "\n",
       "    this.context = undefined;\n",
       "    this.message = undefined;\n",
       "    this.canvas = undefined;\n",
       "    this.rubberband_canvas = undefined;\n",
       "    this.rubberband_context = undefined;\n",
       "    this.format_dropdown = undefined;\n",
       "\n",
       "    this.image_mode = 'full';\n",
       "\n",
       "    this.root = $('<div/>');\n",
       "    this._root_extra_style(this.root)\n",
       "    this.root.attr('style', 'display: inline-block');\n",
       "\n",
       "    $(parent_element).append(this.root);\n",
       "\n",
       "    this._init_header(this);\n",
       "    this._init_canvas(this);\n",
       "    this._init_toolbar(this);\n",
       "\n",
       "    var fig = this;\n",
       "\n",
       "    this.waiting = false;\n",
       "\n",
       "    this.ws.onopen =  function () {\n",
       "            fig.send_message(\"supports_binary\", {value: fig.supports_binary});\n",
       "            fig.send_message(\"send_image_mode\", {});\n",
       "            if (mpl.ratio != 1) {\n",
       "                fig.send_message(\"set_dpi_ratio\", {'dpi_ratio': mpl.ratio});\n",
       "            }\n",
       "            fig.send_message(\"refresh\", {});\n",
       "        }\n",
       "\n",
       "    this.imageObj.onload = function() {\n",
       "            if (fig.image_mode == 'full') {\n",
       "                // Full images could contain transparency (where diff images\n",
       "                // almost always do), so we need to clear the canvas so that\n",
       "                // there is no ghosting.\n",
       "                fig.context.clearRect(0, 0, fig.canvas.width, fig.canvas.height);\n",
       "            }\n",
       "            fig.context.drawImage(fig.imageObj, 0, 0);\n",
       "        };\n",
       "\n",
       "    this.imageObj.onunload = function() {\n",
       "        fig.ws.close();\n",
       "    }\n",
       "\n",
       "    this.ws.onmessage = this._make_on_message_function(this);\n",
       "\n",
       "    this.ondownload = ondownload;\n",
       "}\n",
       "\n",
       "mpl.figure.prototype._init_header = function() {\n",
       "    var titlebar = $(\n",
       "        '<div class=\"ui-dialog-titlebar ui-widget-header ui-corner-all ' +\n",
       "        'ui-helper-clearfix\"/>');\n",
       "    var titletext = $(\n",
       "        '<div class=\"ui-dialog-title\" style=\"width: 100%; ' +\n",
       "        'text-align: center; padding: 3px;\"/>');\n",
       "    titlebar.append(titletext)\n",
       "    this.root.append(titlebar);\n",
       "    this.header = titletext[0];\n",
       "}\n",
       "\n",
       "\n",
       "\n",
       "mpl.figure.prototype._canvas_extra_style = function(canvas_div) {\n",
       "\n",
       "}\n",
       "\n",
       "\n",
       "mpl.figure.prototype._root_extra_style = function(canvas_div) {\n",
       "\n",
       "}\n",
       "\n",
       "mpl.figure.prototype._init_canvas = function() {\n",
       "    var fig = this;\n",
       "\n",
       "    var canvas_div = $('<div/>');\n",
       "\n",
       "    canvas_div.attr('style', 'position: relative; clear: both; outline: 0');\n",
       "\n",
       "    function canvas_keyboard_event(event) {\n",
       "        return fig.key_event(event, event['data']);\n",
       "    }\n",
       "\n",
       "    canvas_div.keydown('key_press', canvas_keyboard_event);\n",
       "    canvas_div.keyup('key_release', canvas_keyboard_event);\n",
       "    this.canvas_div = canvas_div\n",
       "    this._canvas_extra_style(canvas_div)\n",
       "    this.root.append(canvas_div);\n",
       "\n",
       "    var canvas = $('<canvas/>');\n",
       "    canvas.addClass('mpl-canvas');\n",
       "    canvas.attr('style', \"left: 0; top: 0; z-index: 0; outline: 0\")\n",
       "\n",
       "    this.canvas = canvas[0];\n",
       "    this.context = canvas[0].getContext(\"2d\");\n",
       "\n",
       "    var backingStore = this.context.backingStorePixelRatio ||\n",
       "\tthis.context.webkitBackingStorePixelRatio ||\n",
       "\tthis.context.mozBackingStorePixelRatio ||\n",
       "\tthis.context.msBackingStorePixelRatio ||\n",
       "\tthis.context.oBackingStorePixelRatio ||\n",
       "\tthis.context.backingStorePixelRatio || 1;\n",
       "\n",
       "    mpl.ratio = (window.devicePixelRatio || 1) / backingStore;\n",
       "\n",
       "    var rubberband = $('<canvas/>');\n",
       "    rubberband.attr('style', \"position: absolute; left: 0; top: 0; z-index: 1;\")\n",
       "\n",
       "    var pass_mouse_events = true;\n",
       "\n",
       "    canvas_div.resizable({\n",
       "        start: function(event, ui) {\n",
       "            pass_mouse_events = false;\n",
       "        },\n",
       "        resize: function(event, ui) {\n",
       "            fig.request_resize(ui.size.width, ui.size.height);\n",
       "        },\n",
       "        stop: function(event, ui) {\n",
       "            pass_mouse_events = true;\n",
       "            fig.request_resize(ui.size.width, ui.size.height);\n",
       "        },\n",
       "    });\n",
       "\n",
       "    function mouse_event_fn(event) {\n",
       "        if (pass_mouse_events)\n",
       "            return fig.mouse_event(event, event['data']);\n",
       "    }\n",
       "\n",
       "    rubberband.mousedown('button_press', mouse_event_fn);\n",
       "    rubberband.mouseup('button_release', mouse_event_fn);\n",
       "    // Throttle sequential mouse events to 1 every 20ms.\n",
       "    rubberband.mousemove('motion_notify', mouse_event_fn);\n",
       "\n",
       "    rubberband.mouseenter('figure_enter', mouse_event_fn);\n",
       "    rubberband.mouseleave('figure_leave', mouse_event_fn);\n",
       "\n",
       "    canvas_div.on(\"wheel\", function (event) {\n",
       "        event = event.originalEvent;\n",
       "        event['data'] = 'scroll'\n",
       "        if (event.deltaY < 0) {\n",
       "            event.step = 1;\n",
       "        } else {\n",
       "            event.step = -1;\n",
       "        }\n",
       "        mouse_event_fn(event);\n",
       "    });\n",
       "\n",
       "    canvas_div.append(canvas);\n",
       "    canvas_div.append(rubberband);\n",
       "\n",
       "    this.rubberband = rubberband;\n",
       "    this.rubberband_canvas = rubberband[0];\n",
       "    this.rubberband_context = rubberband[0].getContext(\"2d\");\n",
       "    this.rubberband_context.strokeStyle = \"#000000\";\n",
       "\n",
       "    this._resize_canvas = function(width, height) {\n",
       "        // Keep the size of the canvas, canvas container, and rubber band\n",
       "        // canvas in synch.\n",
       "        canvas_div.css('width', width)\n",
       "        canvas_div.css('height', height)\n",
       "\n",
       "        canvas.attr('width', width * mpl.ratio);\n",
       "        canvas.attr('height', height * mpl.ratio);\n",
       "        canvas.attr('style', 'width: ' + width + 'px; height: ' + height + 'px;');\n",
       "\n",
       "        rubberband.attr('width', width);\n",
       "        rubberband.attr('height', height);\n",
       "    }\n",
       "\n",
       "    // Set the figure to an initial 600x600px, this will subsequently be updated\n",
       "    // upon first draw.\n",
       "    this._resize_canvas(600, 600);\n",
       "\n",
       "    // Disable right mouse context menu.\n",
       "    $(this.rubberband_canvas).bind(\"contextmenu\",function(e){\n",
       "        return false;\n",
       "    });\n",
       "\n",
       "    function set_focus () {\n",
       "        canvas.focus();\n",
       "        canvas_div.focus();\n",
       "    }\n",
       "\n",
       "    window.setTimeout(set_focus, 100);\n",
       "}\n",
       "\n",
       "mpl.figure.prototype._init_toolbar = function() {\n",
       "    var fig = this;\n",
       "\n",
       "    var nav_element = $('<div/>')\n",
       "    nav_element.attr('style', 'width: 100%');\n",
       "    this.root.append(nav_element);\n",
       "\n",
       "    // Define a callback function for later on.\n",
       "    function toolbar_event(event) {\n",
       "        return fig.toolbar_button_onclick(event['data']);\n",
       "    }\n",
       "    function toolbar_mouse_event(event) {\n",
       "        return fig.toolbar_button_onmouseover(event['data']);\n",
       "    }\n",
       "\n",
       "    for(var toolbar_ind in mpl.toolbar_items) {\n",
       "        var name = mpl.toolbar_items[toolbar_ind][0];\n",
       "        var tooltip = mpl.toolbar_items[toolbar_ind][1];\n",
       "        var image = mpl.toolbar_items[toolbar_ind][2];\n",
       "        var method_name = mpl.toolbar_items[toolbar_ind][3];\n",
       "\n",
       "        if (!name) {\n",
       "            // put a spacer in here.\n",
       "            continue;\n",
       "        }\n",
       "        var button = $('<button/>');\n",
       "        button.addClass('ui-button ui-widget ui-state-default ui-corner-all ' +\n",
       "                        'ui-button-icon-only');\n",
       "        button.attr('role', 'button');\n",
       "        button.attr('aria-disabled', 'false');\n",
       "        button.click(method_name, toolbar_event);\n",
       "        button.mouseover(tooltip, toolbar_mouse_event);\n",
       "\n",
       "        var icon_img = $('<span/>');\n",
       "        icon_img.addClass('ui-button-icon-primary ui-icon');\n",
       "        icon_img.addClass(image);\n",
       "        icon_img.addClass('ui-corner-all');\n",
       "\n",
       "        var tooltip_span = $('<span/>');\n",
       "        tooltip_span.addClass('ui-button-text');\n",
       "        tooltip_span.html(tooltip);\n",
       "\n",
       "        button.append(icon_img);\n",
       "        button.append(tooltip_span);\n",
       "\n",
       "        nav_element.append(button);\n",
       "    }\n",
       "\n",
       "    var fmt_picker_span = $('<span/>');\n",
       "\n",
       "    var fmt_picker = $('<select/>');\n",
       "    fmt_picker.addClass('mpl-toolbar-option ui-widget ui-widget-content');\n",
       "    fmt_picker_span.append(fmt_picker);\n",
       "    nav_element.append(fmt_picker_span);\n",
       "    this.format_dropdown = fmt_picker[0];\n",
       "\n",
       "    for (var ind in mpl.extensions) {\n",
       "        var fmt = mpl.extensions[ind];\n",
       "        var option = $(\n",
       "            '<option/>', {selected: fmt === mpl.default_extension}).html(fmt);\n",
       "        fmt_picker.append(option)\n",
       "    }\n",
       "\n",
       "    // Add hover states to the ui-buttons\n",
       "    $( \".ui-button\" ).hover(\n",
       "        function() { $(this).addClass(\"ui-state-hover\");},\n",
       "        function() { $(this).removeClass(\"ui-state-hover\");}\n",
       "    );\n",
       "\n",
       "    var status_bar = $('<span class=\"mpl-message\"/>');\n",
       "    nav_element.append(status_bar);\n",
       "    this.message = status_bar[0];\n",
       "}\n",
       "\n",
       "mpl.figure.prototype.request_resize = function(x_pixels, y_pixels) {\n",
       "    // Request matplotlib to resize the figure. Matplotlib will then trigger a resize in the client,\n",
       "    // which will in turn request a refresh of the image.\n",
       "    this.send_message('resize', {'width': x_pixels, 'height': y_pixels});\n",
       "}\n",
       "\n",
       "mpl.figure.prototype.send_message = function(type, properties) {\n",
       "    properties['type'] = type;\n",
       "    properties['figure_id'] = this.id;\n",
       "    this.ws.send(JSON.stringify(properties));\n",
       "}\n",
       "\n",
       "mpl.figure.prototype.send_draw_message = function() {\n",
       "    if (!this.waiting) {\n",
       "        this.waiting = true;\n",
       "        this.ws.send(JSON.stringify({type: \"draw\", figure_id: this.id}));\n",
       "    }\n",
       "}\n",
       "\n",
       "\n",
       "mpl.figure.prototype.handle_save = function(fig, msg) {\n",
       "    var format_dropdown = fig.format_dropdown;\n",
       "    var format = format_dropdown.options[format_dropdown.selectedIndex].value;\n",
       "    fig.ondownload(fig, format);\n",
       "}\n",
       "\n",
       "\n",
       "mpl.figure.prototype.handle_resize = function(fig, msg) {\n",
       "    var size = msg['size'];\n",
       "    if (size[0] != fig.canvas.width || size[1] != fig.canvas.height) {\n",
       "        fig._resize_canvas(size[0], size[1]);\n",
       "        fig.send_message(\"refresh\", {});\n",
       "    };\n",
       "}\n",
       "\n",
       "mpl.figure.prototype.handle_rubberband = function(fig, msg) {\n",
       "    var x0 = msg['x0'] / mpl.ratio;\n",
       "    var y0 = (fig.canvas.height - msg['y0']) / mpl.ratio;\n",
       "    var x1 = msg['x1'] / mpl.ratio;\n",
       "    var y1 = (fig.canvas.height - msg['y1']) / mpl.ratio;\n",
       "    x0 = Math.floor(x0) + 0.5;\n",
       "    y0 = Math.floor(y0) + 0.5;\n",
       "    x1 = Math.floor(x1) + 0.5;\n",
       "    y1 = Math.floor(y1) + 0.5;\n",
       "    var min_x = Math.min(x0, x1);\n",
       "    var min_y = Math.min(y0, y1);\n",
       "    var width = Math.abs(x1 - x0);\n",
       "    var height = Math.abs(y1 - y0);\n",
       "\n",
       "    fig.rubberband_context.clearRect(\n",
       "        0, 0, fig.canvas.width, fig.canvas.height);\n",
       "\n",
       "    fig.rubberband_context.strokeRect(min_x, min_y, width, height);\n",
       "}\n",
       "\n",
       "mpl.figure.prototype.handle_figure_label = function(fig, msg) {\n",
       "    // Updates the figure title.\n",
       "    fig.header.textContent = msg['label'];\n",
       "}\n",
       "\n",
       "mpl.figure.prototype.handle_cursor = function(fig, msg) {\n",
       "    var cursor = msg['cursor'];\n",
       "    switch(cursor)\n",
       "    {\n",
       "    case 0:\n",
       "        cursor = 'pointer';\n",
       "        break;\n",
       "    case 1:\n",
       "        cursor = 'default';\n",
       "        break;\n",
       "    case 2:\n",
       "        cursor = 'crosshair';\n",
       "        break;\n",
       "    case 3:\n",
       "        cursor = 'move';\n",
       "        break;\n",
       "    }\n",
       "    fig.rubberband_canvas.style.cursor = cursor;\n",
       "}\n",
       "\n",
       "mpl.figure.prototype.handle_message = function(fig, msg) {\n",
       "    fig.message.textContent = msg['message'];\n",
       "}\n",
       "\n",
       "mpl.figure.prototype.handle_draw = function(fig, msg) {\n",
       "    // Request the server to send over a new figure.\n",
       "    fig.send_draw_message();\n",
       "}\n",
       "\n",
       "mpl.figure.prototype.handle_image_mode = function(fig, msg) {\n",
       "    fig.image_mode = msg['mode'];\n",
       "}\n",
       "\n",
       "mpl.figure.prototype.updated_canvas_event = function() {\n",
       "    // Called whenever the canvas gets updated.\n",
       "    this.send_message(\"ack\", {});\n",
       "}\n",
       "\n",
       "// A function to construct a web socket function for onmessage handling.\n",
       "// Called in the figure constructor.\n",
       "mpl.figure.prototype._make_on_message_function = function(fig) {\n",
       "    return function socket_on_message(evt) {\n",
       "        if (evt.data instanceof Blob) {\n",
       "            /* FIXME: We get \"Resource interpreted as Image but\n",
       "             * transferred with MIME type text/plain:\" errors on\n",
       "             * Chrome.  But how to set the MIME type?  It doesn't seem\n",
       "             * to be part of the websocket stream */\n",
       "            evt.data.type = \"image/png\";\n",
       "\n",
       "            /* Free the memory for the previous frames */\n",
       "            if (fig.imageObj.src) {\n",
       "                (window.URL || window.webkitURL).revokeObjectURL(\n",
       "                    fig.imageObj.src);\n",
       "            }\n",
       "\n",
       "            fig.imageObj.src = (window.URL || window.webkitURL).createObjectURL(\n",
       "                evt.data);\n",
       "            fig.updated_canvas_event();\n",
       "            fig.waiting = false;\n",
       "            return;\n",
       "        }\n",
       "        else if (typeof evt.data === 'string' && evt.data.slice(0, 21) == \"data:image/png;base64\") {\n",
       "            fig.imageObj.src = evt.data;\n",
       "            fig.updated_canvas_event();\n",
       "            fig.waiting = false;\n",
       "            return;\n",
       "        }\n",
       "\n",
       "        var msg = JSON.parse(evt.data);\n",
       "        var msg_type = msg['type'];\n",
       "\n",
       "        // Call the  \"handle_{type}\" callback, which takes\n",
       "        // the figure and JSON message as its only arguments.\n",
       "        try {\n",
       "            var callback = fig[\"handle_\" + msg_type];\n",
       "        } catch (e) {\n",
       "            console.log(\"No handler for the '\" + msg_type + \"' message type: \", msg);\n",
       "            return;\n",
       "        }\n",
       "\n",
       "        if (callback) {\n",
       "            try {\n",
       "                // console.log(\"Handling '\" + msg_type + \"' message: \", msg);\n",
       "                callback(fig, msg);\n",
       "            } catch (e) {\n",
       "                console.log(\"Exception inside the 'handler_\" + msg_type + \"' callback:\", e, e.stack, msg);\n",
       "            }\n",
       "        }\n",
       "    };\n",
       "}\n",
       "\n",
       "// from http://stackoverflow.com/questions/1114465/getting-mouse-location-in-canvas\n",
       "mpl.findpos = function(e) {\n",
       "    //this section is from http://www.quirksmode.org/js/events_properties.html\n",
       "    var targ;\n",
       "    if (!e)\n",
       "        e = window.event;\n",
       "    if (e.target)\n",
       "        targ = e.target;\n",
       "    else if (e.srcElement)\n",
       "        targ = e.srcElement;\n",
       "    if (targ.nodeType == 3) // defeat Safari bug\n",
       "        targ = targ.parentNode;\n",
       "\n",
       "    // jQuery normalizes the pageX and pageY\n",
       "    // pageX,Y are the mouse positions relative to the document\n",
       "    // offset() returns the position of the element relative to the document\n",
       "    var x = e.pageX - $(targ).offset().left;\n",
       "    var y = e.pageY - $(targ).offset().top;\n",
       "\n",
       "    return {\"x\": x, \"y\": y};\n",
       "};\n",
       "\n",
       "/*\n",
       " * return a copy of an object with only non-object keys\n",
       " * we need this to avoid circular references\n",
       " * http://stackoverflow.com/a/24161582/3208463\n",
       " */\n",
       "function simpleKeys (original) {\n",
       "  return Object.keys(original).reduce(function (obj, key) {\n",
       "    if (typeof original[key] !== 'object')\n",
       "        obj[key] = original[key]\n",
       "    return obj;\n",
       "  }, {});\n",
       "}\n",
       "\n",
       "mpl.figure.prototype.mouse_event = function(event, name) {\n",
       "    var canvas_pos = mpl.findpos(event)\n",
       "\n",
       "    if (name === 'button_press')\n",
       "    {\n",
       "        this.canvas.focus();\n",
       "        this.canvas_div.focus();\n",
       "    }\n",
       "\n",
       "    var x = canvas_pos.x * mpl.ratio;\n",
       "    var y = canvas_pos.y * mpl.ratio;\n",
       "\n",
       "    this.send_message(name, {x: x, y: y, button: event.button,\n",
       "                             step: event.step,\n",
       "                             guiEvent: simpleKeys(event)});\n",
       "\n",
       "    /* This prevents the web browser from automatically changing to\n",
       "     * the text insertion cursor when the button is pressed.  We want\n",
       "     * to control all of the cursor setting manually through the\n",
       "     * 'cursor' event from matplotlib */\n",
       "    event.preventDefault();\n",
       "    return false;\n",
       "}\n",
       "\n",
       "mpl.figure.prototype._key_event_extra = function(event, name) {\n",
       "    // Handle any extra behaviour associated with a key event\n",
       "}\n",
       "\n",
       "mpl.figure.prototype.key_event = function(event, name) {\n",
       "\n",
       "    // Prevent repeat events\n",
       "    if (name == 'key_press')\n",
       "    {\n",
       "        if (event.which === this._key)\n",
       "            return;\n",
       "        else\n",
       "            this._key = event.which;\n",
       "    }\n",
       "    if (name == 'key_release')\n",
       "        this._key = null;\n",
       "\n",
       "    var value = '';\n",
       "    if (event.ctrlKey && event.which != 17)\n",
       "        value += \"ctrl+\";\n",
       "    if (event.altKey && event.which != 18)\n",
       "        value += \"alt+\";\n",
       "    if (event.shiftKey && event.which != 16)\n",
       "        value += \"shift+\";\n",
       "\n",
       "    value += 'k';\n",
       "    value += event.which.toString();\n",
       "\n",
       "    this._key_event_extra(event, name);\n",
       "\n",
       "    this.send_message(name, {key: value,\n",
       "                             guiEvent: simpleKeys(event)});\n",
       "    return false;\n",
       "}\n",
       "\n",
       "mpl.figure.prototype.toolbar_button_onclick = function(name) {\n",
       "    if (name == 'download') {\n",
       "        this.handle_save(this, null);\n",
       "    } else {\n",
       "        this.send_message(\"toolbar_button\", {name: name});\n",
       "    }\n",
       "};\n",
       "\n",
       "mpl.figure.prototype.toolbar_button_onmouseover = function(tooltip) {\n",
       "    this.message.textContent = tooltip;\n",
       "};\n",
       "mpl.toolbar_items = [[\"Home\", \"Reset original view\", \"fa fa-home icon-home\", \"home\"], [\"Back\", \"Back to  previous view\", \"fa fa-arrow-left icon-arrow-left\", \"back\"], [\"Forward\", \"Forward to next view\", \"fa fa-arrow-right icon-arrow-right\", \"forward\"], [\"\", \"\", \"\", \"\"], [\"Pan\", \"Pan axes with left mouse, zoom with right\", \"fa fa-arrows icon-move\", \"pan\"], [\"Zoom\", \"Zoom to rectangle\", \"fa fa-square-o icon-check-empty\", \"zoom\"], [\"\", \"\", \"\", \"\"], [\"Download\", \"Download plot\", \"fa fa-floppy-o icon-save\", \"download\"]];\n",
       "\n",
       "mpl.extensions = [\"eps\", \"jpeg\", \"pdf\", \"png\", \"ps\", \"raw\", \"svg\", \"tif\"];\n",
       "\n",
       "mpl.default_extension = \"png\";var comm_websocket_adapter = function(comm) {\n",
       "    // Create a \"websocket\"-like object which calls the given IPython comm\n",
       "    // object with the appropriate methods. Currently this is a non binary\n",
       "    // socket, so there is still some room for performance tuning.\n",
       "    var ws = {};\n",
       "\n",
       "    ws.close = function() {\n",
       "        comm.close()\n",
       "    };\n",
       "    ws.send = function(m) {\n",
       "        //console.log('sending', m);\n",
       "        comm.send(m);\n",
       "    };\n",
       "    // Register the callback with on_msg.\n",
       "    comm.on_msg(function(msg) {\n",
       "        //console.log('receiving', msg['content']['data'], msg);\n",
       "        // Pass the mpl event to the overridden (by mpl) onmessage function.\n",
       "        ws.onmessage(msg['content']['data'])\n",
       "    });\n",
       "    return ws;\n",
       "}\n",
       "\n",
       "mpl.mpl_figure_comm = function(comm, msg) {\n",
       "    // This is the function which gets called when the mpl process\n",
       "    // starts-up an IPython Comm through the \"matplotlib\" channel.\n",
       "\n",
       "    var id = msg.content.data.id;\n",
       "    // Get hold of the div created by the display call when the Comm\n",
       "    // socket was opened in Python.\n",
       "    var element = $(\"#\" + id);\n",
       "    var ws_proxy = comm_websocket_adapter(comm)\n",
       "\n",
       "    function ondownload(figure, format) {\n",
       "        window.open(figure.imageObj.src);\n",
       "    }\n",
       "\n",
       "    var fig = new mpl.figure(id, ws_proxy,\n",
       "                           ondownload,\n",
       "                           element.get(0));\n",
       "\n",
       "    // Call onopen now - mpl needs it, as it is assuming we've passed it a real\n",
       "    // web socket which is closed, not our websocket->open comm proxy.\n",
       "    ws_proxy.onopen();\n",
       "\n",
       "    fig.parent_element = element.get(0);\n",
       "    fig.cell_info = mpl.find_output_cell(\"<div id='\" + id + \"'></div>\");\n",
       "    if (!fig.cell_info) {\n",
       "        console.error(\"Failed to find cell for figure\", id, fig);\n",
       "        return;\n",
       "    }\n",
       "\n",
       "    var output_index = fig.cell_info[2]\n",
       "    var cell = fig.cell_info[0];\n",
       "\n",
       "};\n",
       "\n",
       "mpl.figure.prototype.handle_close = function(fig, msg) {\n",
       "    var width = fig.canvas.width/mpl.ratio\n",
       "    fig.root.unbind('remove')\n",
       "\n",
       "    // Update the output cell to use the data from the current canvas.\n",
       "    fig.push_to_output();\n",
       "    var dataURL = fig.canvas.toDataURL();\n",
       "    // Re-enable the keyboard manager in IPython - without this line, in FF,\n",
       "    // the notebook keyboard shortcuts fail.\n",
       "    IPython.keyboard_manager.enable()\n",
       "    $(fig.parent_element).html('<img src=\"' + dataURL + '\" width=\"' + width + '\">');\n",
       "    fig.close_ws(fig, msg);\n",
       "}\n",
       "\n",
       "mpl.figure.prototype.close_ws = function(fig, msg){\n",
       "    fig.send_message('closing', msg);\n",
       "    // fig.ws.close()\n",
       "}\n",
       "\n",
       "mpl.figure.prototype.push_to_output = function(remove_interactive) {\n",
       "    // Turn the data on the canvas into data in the output cell.\n",
       "    var width = this.canvas.width/mpl.ratio\n",
       "    var dataURL = this.canvas.toDataURL();\n",
       "    this.cell_info[1]['text/html'] = '<img src=\"' + dataURL + '\" width=\"' + width + '\">';\n",
       "}\n",
       "\n",
       "mpl.figure.prototype.updated_canvas_event = function() {\n",
       "    // Tell IPython that the notebook contents must change.\n",
       "    IPython.notebook.set_dirty(true);\n",
       "    this.send_message(\"ack\", {});\n",
       "    var fig = this;\n",
       "    // Wait a second, then push the new image to the DOM so\n",
       "    // that it is saved nicely (might be nice to debounce this).\n",
       "    setTimeout(function () { fig.push_to_output() }, 1000);\n",
       "}\n",
       "\n",
       "mpl.figure.prototype._init_toolbar = function() {\n",
       "    var fig = this;\n",
       "\n",
       "    var nav_element = $('<div/>')\n",
       "    nav_element.attr('style', 'width: 100%');\n",
       "    this.root.append(nav_element);\n",
       "\n",
       "    // Define a callback function for later on.\n",
       "    function toolbar_event(event) {\n",
       "        return fig.toolbar_button_onclick(event['data']);\n",
       "    }\n",
       "    function toolbar_mouse_event(event) {\n",
       "        return fig.toolbar_button_onmouseover(event['data']);\n",
       "    }\n",
       "\n",
       "    for(var toolbar_ind in mpl.toolbar_items){\n",
       "        var name = mpl.toolbar_items[toolbar_ind][0];\n",
       "        var tooltip = mpl.toolbar_items[toolbar_ind][1];\n",
       "        var image = mpl.toolbar_items[toolbar_ind][2];\n",
       "        var method_name = mpl.toolbar_items[toolbar_ind][3];\n",
       "\n",
       "        if (!name) { continue; };\n",
       "\n",
       "        var button = $('<button class=\"btn btn-default\" href=\"#\" title=\"' + name + '\"><i class=\"fa ' + image + ' fa-lg\"></i></button>');\n",
       "        button.click(method_name, toolbar_event);\n",
       "        button.mouseover(tooltip, toolbar_mouse_event);\n",
       "        nav_element.append(button);\n",
       "    }\n",
       "\n",
       "    // Add the status bar.\n",
       "    var status_bar = $('<span class=\"mpl-message\" style=\"text-align:right; float: right;\"/>');\n",
       "    nav_element.append(status_bar);\n",
       "    this.message = status_bar[0];\n",
       "\n",
       "    // Add the close button to the window.\n",
       "    var buttongrp = $('<div class=\"btn-group inline pull-right\"></div>');\n",
       "    var button = $('<button class=\"btn btn-mini btn-primary\" href=\"#\" title=\"Stop Interaction\"><i class=\"fa fa-power-off icon-remove icon-large\"></i></button>');\n",
       "    button.click(function (evt) { fig.handle_close(fig, {}); } );\n",
       "    button.mouseover('Stop Interaction', toolbar_mouse_event);\n",
       "    buttongrp.append(button);\n",
       "    var titlebar = this.root.find($('.ui-dialog-titlebar'));\n",
       "    titlebar.prepend(buttongrp);\n",
       "}\n",
       "\n",
       "mpl.figure.prototype._root_extra_style = function(el){\n",
       "    var fig = this\n",
       "    el.on(\"remove\", function(){\n",
       "\tfig.close_ws(fig, {});\n",
       "    });\n",
       "}\n",
       "\n",
       "mpl.figure.prototype._canvas_extra_style = function(el){\n",
       "    // this is important to make the div 'focusable\n",
       "    el.attr('tabindex', 0)\n",
       "    // reach out to IPython and tell the keyboard manager to turn it's self\n",
       "    // off when our div gets focus\n",
       "\n",
       "    // location in version 3\n",
       "    if (IPython.notebook.keyboard_manager) {\n",
       "        IPython.notebook.keyboard_manager.register_events(el);\n",
       "    }\n",
       "    else {\n",
       "        // location in version 2\n",
       "        IPython.keyboard_manager.register_events(el);\n",
       "    }\n",
       "\n",
       "}\n",
       "\n",
       "mpl.figure.prototype._key_event_extra = function(event, name) {\n",
       "    var manager = IPython.notebook.keyboard_manager;\n",
       "    if (!manager)\n",
       "        manager = IPython.keyboard_manager;\n",
       "\n",
       "    // Check for shift+enter\n",
       "    if (event.shiftKey && event.which == 13) {\n",
       "        this.canvas_div.blur();\n",
       "        event.shiftKey = false;\n",
       "        // Send a \"J\" for go to next cell\n",
       "        event.which = 74;\n",
       "        event.keyCode = 74;\n",
       "        manager.command_mode();\n",
       "        manager.handle_keydown(event);\n",
       "    }\n",
       "}\n",
       "\n",
       "mpl.figure.prototype.handle_save = function(fig, msg) {\n",
       "    fig.ondownload(fig, null);\n",
       "}\n",
       "\n",
       "\n",
       "mpl.find_output_cell = function(html_output) {\n",
       "    // Return the cell and output element which can be found *uniquely* in the notebook.\n",
       "    // Note - this is a bit hacky, but it is done because the \"notebook_saving.Notebook\"\n",
       "    // IPython event is triggered only after the cells have been serialised, which for\n",
       "    // our purposes (turning an active figure into a static one), is too late.\n",
       "    var cells = IPython.notebook.get_cells();\n",
       "    var ncells = cells.length;\n",
       "    for (var i=0; i<ncells; i++) {\n",
       "        var cell = cells[i];\n",
       "        if (cell.cell_type === 'code'){\n",
       "            for (var j=0; j<cell.output_area.outputs.length; j++) {\n",
       "                var data = cell.output_area.outputs[j];\n",
       "                if (data.data) {\n",
       "                    // IPython >= 3 moved mimebundle to data attribute of output\n",
       "                    data = data.data;\n",
       "                }\n",
       "                if (data['text/html'] == html_output) {\n",
       "                    return [cell, data, j];\n",
       "                }\n",
       "            }\n",
       "        }\n",
       "    }\n",
       "}\n",
       "\n",
       "// Register the function which deals with the matplotlib target/channel.\n",
       "// The kernel may be null if the page has been refreshed.\n",
       "if (IPython.notebook.kernel != null) {\n",
       "    IPython.notebook.kernel.comm_manager.register_target('matplotlib', mpl.mpl_figure_comm);\n",
       "}\n"
      ],
      "text/plain": [
       "<IPython.core.display.Javascript object>"
      ]
     },
     "metadata": {},
     "output_type": "display_data"
    },
    {
     "data": {
      "text/html": [
       "<img src=\"data:image/png;base64,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\" width=\"675\">"
      ],
      "text/plain": [
       "<IPython.core.display.HTML object>"
      ]
     },
     "metadata": {},
     "output_type": "display_data"
    },
    {
     "name": "stdout",
     "output_type": "stream",
     "text": [
      "Moving to initial field vector...\n",
      "Step threshold met, stopping move early.\n",
      "Move complete.\n",
      "Optimizing at |B| = 0.3652333637552846...\n",
      "Step threshold met, stopping move early.\n",
      "Move complete.\n",
      "Evaluating at phi = -173.0189425931702, theta = 0.774449633045663\n",
      "Step threshold met, stopping move early.\n",
      "Move complete.\n",
      "Evaluating at phi = -173.0189425931702, theta = 0.7731996330456631\n",
      "Move complete. (r, phi, theta) = (0.3652333637552846, -173.0189425931702, 0.774449633045663)\n",
      "Evaluating at phi = -173.0189425931702, theta = 0.775699633045663\n",
      "Move complete. (r, phi, theta) = (0.3652333637552846, -173.0189425931702, 0.774449633045663)\n",
      "Found optimum for |B| = 0.3652333637552846 at (-173.0189425931702, 0.774449633045663).\n",
      "Step threshold met, stopping move early.\n",
      "Move complete.\n",
      "Optimizing at |B| = 0.3673563290938957...\n",
      "Move complete. (r, phi, theta) = (0.3673331730187188, -173.0189425931702, 0.770022331542453)))\n",
      "Within 4.0 line widths, not re-optimizing yet.\n",
      "Optimizing at |B| = 0.36947929443250677...\n",
      "Move complete. (r, phi, theta) = (0.36943298445049544, -173.0189425931702, 0.7656453584827716)\n",
      "Within 4.0 line widths, not re-optimizing yet.\n",
      "Optimizing at |B| = 0.3716022597711179...\n",
      "Move complete. (r, phi, theta) = (0.3716327891884676, -173.0189425931702, 0.7611130090546476))\n",
      "Within 4.0 line widths, not re-optimizing yet.\n",
      "Optimizing at |B| = 0.37372522510972894...\n",
      "Move complete. (r, phi, theta) = (0.37373260494637073, -173.0189425931702, 0.7568364479737708)\n",
      "Point 13 (5.30020e+09)\r"
     ]
    },
    {
     "ename": "KeyboardInterrupt",
     "evalue": "",
     "output_type": "error",
     "traceback": [
      "\u001b[1;31m---------------------------------------------------------------------------\u001b[0m",
      "\u001b[1;31mKeyboardInterrupt\u001b[0m                         Traceback (most recent call last)",
      "\u001b[1;32mD:/OneDrive/Setups/LK1/LK1_code/Code/LK1/LK1/init_station_cqed.py\u001b[0m in \u001b[0;36m<module>\u001b[1;34m()\u001b[0m\n\u001b[0;32m     34\u001b[0m     \u001b[0mramp_rate\u001b[0m\u001b[1;33m=\u001b[0m\u001b[1;36m3e-3\u001b[0m\u001b[1;33m,\u001b[0m\u001b[1;33m\u001b[0m\u001b[0m\n\u001b[0;32m     35\u001b[0m     \u001b[0mn_steps\u001b[0m\u001b[1;33m=\u001b[0m\u001b[1;36m7\u001b[0m\u001b[1;33m,\u001b[0m\u001b[1;33m\u001b[0m\u001b[0m\n\u001b[1;32m---> 36\u001b[1;33m     \u001b[0mreturn_extra\u001b[0m\u001b[1;33m=\u001b[0m\u001b[1;32mTrue\u001b[0m\u001b[1;33m\u001b[0m\u001b[0m\n\u001b[0m\u001b[0;32m     37\u001b[0m     )\n\u001b[0;32m     38\u001b[0m \u001b[1;33m\u001b[0m\u001b[0m\n",
      "\u001b[1;32md:\\onedrive\\setups\\lk1\\lk1_code\\code\\pytopo\\pytopo\\field_optimization\\movement.py\u001b[0m in \u001b[0;36moptimize_and_ramp_magnitude\u001b[1;34m(self, initial_r, final_r, n_r_steps, initial_phi, phi_window, n_phis, initial_theta, theta_window, n_thetas, reoptimization_threshold, n_steps, ramp_rate, return_extra, verbose)\u001b[0m\n\u001b[0;32m    310\u001b[0m \u001b[1;33m\u001b[0m\u001b[0m\n\u001b[0;32m    311\u001b[0m             \u001b[0mcurrent_objective\u001b[0m \u001b[1;33m=\u001b[0m \u001b[0mself\u001b[0m\u001b[1;33m.\u001b[0m\u001b[0mobjective\u001b[0m\u001b[1;33m(\u001b[0m\u001b[1;33m)\u001b[0m\u001b[1;33m\u001b[0m\u001b[0m\n\u001b[1;32m--> 312\u001b[1;33m             \u001b[0mcurrent_uncertainty\u001b[0m \u001b[1;33m=\u001b[0m \u001b[0mself\u001b[0m\u001b[1;33m.\u001b[0m\u001b[0mobjective_uncertainty\u001b[0m\u001b[1;33m(\u001b[0m\u001b[1;33m)\u001b[0m\u001b[1;33m\u001b[0m\u001b[0m\n\u001b[0m\u001b[0;32m    313\u001b[0m \u001b[1;33m\u001b[0m\u001b[0m\n\u001b[0;32m    314\u001b[0m             \u001b[0mobjective_history\u001b[0m\u001b[1;33m.\u001b[0m\u001b[0mappend\u001b[0m\u001b[1;33m(\u001b[0m\u001b[0mcurrent_objective\u001b[0m\u001b[1;33m)\u001b[0m\u001b[1;33m\u001b[0m\u001b[0m\n",
      "\u001b[1;32mD:/OneDrive/Setups/LK1/LK1_code/Code/LK1/LK1/init_station_cqed.py\u001b[0m in \u001b[0;36mget_resonator_FWHM\u001b[1;34m()\u001b[0m\n\u001b[0;32m      8\u001b[0m \u001b[1;32mdef\u001b[0m \u001b[0mget_resonator_FWHM\u001b[0m\u001b[1;33m(\u001b[0m\u001b[1;33m)\u001b[0m\u001b[1;33m:\u001b[0m \u001b[1;31m#helper function to pass variables into resonator spec\u001b[0m\u001b[1;33m\u001b[0m\u001b[0m\n\u001b[0;32m      9\u001b[0m     \u001b[1;32mglobal\u001b[0m \u001b[0mxvals\u001b[0m\u001b[1;33m\u001b[0m\u001b[0m\n\u001b[1;32m---> 10\u001b[1;33m     \u001b[0m_\u001b[0m\u001b[1;33m,\u001b[0m\u001b[0m_\u001b[0m\u001b[1;33m,\u001b[0m\u001b[0mfitout\u001b[0m\u001b[1;33m=\u001b[0m\u001b[0mget_resonator_spec_and_fit\u001b[0m\u001b[1;33m(\u001b[0m\u001b[0mxvals\u001b[0m\u001b[1;33m)\u001b[0m\u001b[1;33m\u001b[0m\u001b[0m\n\u001b[0m\u001b[0;32m     11\u001b[0m     \u001b[1;32mreturn\u001b[0m \u001b[1;36m2\u001b[0m\u001b[1;33m*\u001b[0m\u001b[0mfitout\u001b[0m\u001b[1;33m.\u001b[0m\u001b[0mparams\u001b[0m\u001b[1;33m[\u001b[0m\u001b[1;34m'sigma'\u001b[0m\u001b[1;33m]\u001b[0m\u001b[1;33m.\u001b[0m\u001b[0mvalue\u001b[0m\u001b[1;33m\u001b[0m\u001b[0m\n\u001b[0;32m     12\u001b[0m \u001b[1;33m\u001b[0m\u001b[0m\n",
      "\u001b[1;32mD:/OneDrive/Setups/LK1/LK1_code/Code/LK1/LK1/init_station_cqed.py\u001b[0m in \u001b[0;36mget_resonator_spec_and_fit\u001b[1;34m(frequencies)\u001b[0m\n\u001b[0;32m     17\u001b[0m \u001b[1;33m\u001b[0m\u001b[0m\n\u001b[0;32m     18\u001b[0m \u001b[1;32mdef\u001b[0m \u001b[0mget_resonator_spec_and_fit\u001b[0m\u001b[1;33m(\u001b[0m\u001b[0mfrequencies\u001b[0m\u001b[1;33m)\u001b[0m\u001b[1;33m:\u001b[0m\u001b[1;33m\u001b[0m\u001b[0m\n\u001b[1;32m---> 19\u001b[1;33m     \u001b[0mmag\u001b[0m\u001b[1;33m,\u001b[0m \u001b[0mphase\u001b[0m \u001b[1;33m=\u001b[0m \u001b[0mss\u001b[0m\u001b[1;33m.\u001b[0m\u001b[0mget_soft_sweep_trace\u001b[0m\u001b[1;33m(\u001b[0m\u001b[1;33m)\u001b[0m\u001b[1;33m\u001b[0m\u001b[0m\n\u001b[0m\u001b[0;32m     20\u001b[0m     \u001b[0mout\u001b[0m \u001b[1;33m=\u001b[0m \u001b[0mfit_lorentzian\u001b[0m\u001b[1;33m(\u001b[0m\u001b[0mfrequencies\u001b[0m\u001b[1;33m,\u001b[0m \u001b[0mmag\u001b[0m\u001b[1;33m**\u001b[0m\u001b[1;36m2\u001b[0m\u001b[1;33m)\u001b[0m\u001b[1;33m\u001b[0m\u001b[0m\n\u001b[0;32m     21\u001b[0m     \u001b[1;32mreturn\u001b[0m \u001b[0mmag\u001b[0m\u001b[1;33m,\u001b[0m \u001b[0mphase\u001b[0m\u001b[1;33m,\u001b[0m \u001b[0mout\u001b[0m\u001b[1;33m\u001b[0m\u001b[0m\n",
      "\u001b[1;32md:\\onedrive\\setups\\lk1\\lk1_code\\code\\pytopo\\pytopo\\cQED\\softwarespec.py\u001b[0m in \u001b[0;36mget_soft_sweep_trace\u001b[1;34m(ctl)\u001b[0m\n\u001b[0;32m    125\u001b[0m     \u001b[1;32mif\u001b[0m \u001b[0mctl\u001b[0m \u001b[1;32mis\u001b[0m \u001b[1;32mNone\u001b[0m\u001b[1;33m:\u001b[0m\u001b[1;33m\u001b[0m\u001b[0m\n\u001b[0;32m    126\u001b[0m         \u001b[0mctl\u001b[0m \u001b[1;33m=\u001b[0m \u001b[0mqcodes\u001b[0m\u001b[1;33m.\u001b[0m\u001b[0mStation\u001b[0m\u001b[1;33m.\u001b[0m\u001b[0mdefault\u001b[0m\u001b[1;33m.\u001b[0m\u001b[0msoftsweep_ctl\u001b[0m\u001b[1;33m\u001b[0m\u001b[0m\n\u001b[1;32m--> 127\u001b[1;33m     \u001b[0mdata\u001b[0m \u001b[1;33m=\u001b[0m \u001b[0mnp\u001b[0m\u001b[1;33m.\u001b[0m\u001b[0msqueeze\u001b[0m\u001b[1;33m(\u001b[0m\u001b[0mctl\u001b[0m\u001b[1;33m.\u001b[0m\u001b[0macquisition\u001b[0m\u001b[1;33m(\u001b[0m\u001b[1;33m)\u001b[0m\u001b[1;33m)\u001b[0m\u001b[1;33m[\u001b[0m\u001b[1;33m...\u001b[0m\u001b[1;33m,\u001b[0m \u001b[1;36m0\u001b[0m\u001b[1;33m]\u001b[0m\u001b[1;33m\u001b[0m\u001b[0m\n\u001b[0m\u001b[0;32m    128\u001b[0m     \u001b[0mmag\u001b[0m\u001b[1;33m,\u001b[0m \u001b[0mphase\u001b[0m \u001b[1;33m=\u001b[0m \u001b[0mnp\u001b[0m\u001b[1;33m.\u001b[0m\u001b[0mabs\u001b[0m\u001b[1;33m(\u001b[0m\u001b[0mdata\u001b[0m\u001b[1;33m)\u001b[0m\u001b[1;33m,\u001b[0m \u001b[0mnp\u001b[0m\u001b[1;33m.\u001b[0m\u001b[0mangle\u001b[0m\u001b[1;33m(\u001b[0m\u001b[0mdata\u001b[0m\u001b[1;33m,\u001b[0m \u001b[0mdeg\u001b[0m\u001b[1;33m=\u001b[0m\u001b[1;32mTrue\u001b[0m\u001b[1;33m)\u001b[0m\u001b[1;33m\u001b[0m\u001b[0m\n\u001b[0;32m    129\u001b[0m     \u001b[1;32mreturn\u001b[0m \u001b[0mmag\u001b[0m\u001b[1;33m,\u001b[0m \u001b[0mphase\u001b[0m\u001b[1;33m\u001b[0m\u001b[0m\n",
      "\u001b[1;32md:\\onedrive\\setups\\lk1\\lk1_code\\code\\qcodes\\qcodes\\instrument\\parameter.py\u001b[0m in \u001b[0;36m__call__\u001b[1;34m(self, *args, **kwargs)\u001b[0m\n\u001b[0;32m    285\u001b[0m         \u001b[1;32mif\u001b[0m \u001b[0mlen\u001b[0m\u001b[1;33m(\u001b[0m\u001b[0margs\u001b[0m\u001b[1;33m)\u001b[0m \u001b[1;33m==\u001b[0m \u001b[1;36m0\u001b[0m\u001b[1;33m:\u001b[0m\u001b[1;33m\u001b[0m\u001b[0m\n\u001b[0;32m    286\u001b[0m             \u001b[1;32mif\u001b[0m \u001b[0mhasattr\u001b[0m\u001b[1;33m(\u001b[0m\u001b[0mself\u001b[0m\u001b[1;33m,\u001b[0m \u001b[1;34m'get'\u001b[0m\u001b[1;33m)\u001b[0m\u001b[1;33m:\u001b[0m\u001b[1;33m\u001b[0m\u001b[0m\n\u001b[1;32m--> 287\u001b[1;33m                 \u001b[1;32mreturn\u001b[0m \u001b[0mself\u001b[0m\u001b[1;33m.\u001b[0m\u001b[0mget\u001b[0m\u001b[1;33m(\u001b[0m\u001b[1;33m)\u001b[0m\u001b[1;33m\u001b[0m\u001b[0m\n\u001b[0m\u001b[0;32m    288\u001b[0m             \u001b[1;32melse\u001b[0m\u001b[1;33m:\u001b[0m\u001b[1;33m\u001b[0m\u001b[0m\n\u001b[0;32m    289\u001b[0m                 raise NotImplementedError('no get cmd found in' +\n",
      "\u001b[1;32md:\\onedrive\\setups\\lk1\\lk1_code\\code\\qcodes\\qcodes\\instrument\\parameter.py\u001b[0m in \u001b[0;36mget_wrapper\u001b[1;34m(*args, **kwargs)\u001b[0m\n\u001b[0;32m    364\u001b[0m             \u001b[1;32mtry\u001b[0m\u001b[1;33m:\u001b[0m\u001b[1;33m\u001b[0m\u001b[0m\n\u001b[0;32m    365\u001b[0m                 \u001b[1;31m# There might be cases where a .get also has args/kwargs\u001b[0m\u001b[1;33m\u001b[0m\u001b[1;33m\u001b[0m\u001b[0m\n\u001b[1;32m--> 366\u001b[1;33m                 \u001b[0mvalue\u001b[0m \u001b[1;33m=\u001b[0m \u001b[0mget_function\u001b[0m\u001b[1;33m(\u001b[0m\u001b[1;33m*\u001b[0m\u001b[0margs\u001b[0m\u001b[1;33m,\u001b[0m \u001b[1;33m**\u001b[0m\u001b[0mkwargs\u001b[0m\u001b[1;33m)\u001b[0m\u001b[1;33m\u001b[0m\u001b[0m\n\u001b[0m\u001b[0;32m    367\u001b[0m                 \u001b[0mself\u001b[0m\u001b[1;33m.\u001b[0m\u001b[0mraw_value\u001b[0m \u001b[1;33m=\u001b[0m \u001b[0mvalue\u001b[0m\u001b[1;33m\u001b[0m\u001b[0m\n\u001b[0;32m    368\u001b[0m \u001b[1;33m\u001b[0m\u001b[0m\n",
      "\u001b[1;32md:\\onedrive\\setups\\lk1\\lk1_code\\code\\qcodes\\qcodes\\utils\\command.py\u001b[0m in \u001b[0;36m__call__\u001b[1;34m(self, *args)\u001b[0m\n\u001b[0;32m    175\u001b[0m             raise TypeError(\n\u001b[0;32m    176\u001b[0m                 'command takes exactly {} args'.format(self.arg_count))\n\u001b[1;32m--> 177\u001b[1;33m         \u001b[1;32mreturn\u001b[0m \u001b[0mself\u001b[0m\u001b[1;33m.\u001b[0m\u001b[0mexec_function\u001b[0m\u001b[1;33m(\u001b[0m\u001b[1;33m*\u001b[0m\u001b[0margs\u001b[0m\u001b[1;33m)\u001b[0m\u001b[1;33m\u001b[0m\u001b[0m\n\u001b[0m",
      "\u001b[1;32md:\\onedrive\\setups\\lk1\\lk1_code\\code\\pytopo\\pytopo\\rf\\alazar\\acquisition_controllers.py\u001b[0m in \u001b[0;36mdo_acquisition\u001b[1;34m(self)\u001b[0m\n\u001b[0;32m    225\u001b[0m     \u001b[1;32mdef\u001b[0m \u001b[0mdo_acquisition\u001b[0m\u001b[1;33m(\u001b[0m\u001b[0mself\u001b[0m\u001b[1;33m)\u001b[0m\u001b[1;33m:\u001b[0m\u001b[1;33m\u001b[0m\u001b[0m\n\u001b[0;32m    226\u001b[0m         \u001b[1;32mif\u001b[0m \u001b[0mself\u001b[0m\u001b[1;33m.\u001b[0m\u001b[0m_alazar\u001b[0m \u001b[1;32mis\u001b[0m \u001b[1;32mnot\u001b[0m \u001b[1;32mNone\u001b[0m\u001b[1;33m:\u001b[0m\u001b[1;33m\u001b[0m\u001b[0m\n\u001b[1;32m--> 227\u001b[1;33m             \u001b[0mvalue\u001b[0m \u001b[1;33m=\u001b[0m \u001b[0mself\u001b[0m\u001b[1;33m.\u001b[0m\u001b[0m_alazar\u001b[0m\u001b[1;33m.\u001b[0m\u001b[0macquire\u001b[0m\u001b[1;33m(\u001b[0m\u001b[0macquisition_controller\u001b[0m\u001b[1;33m=\u001b[0m\u001b[0mself\u001b[0m\u001b[1;33m)\u001b[0m\u001b[1;33m\u001b[0m\u001b[0m\n\u001b[0m\u001b[0;32m    228\u001b[0m         \u001b[1;32melse\u001b[0m\u001b[1;33m:\u001b[0m\u001b[1;33m\u001b[0m\u001b[0m\n\u001b[0;32m    229\u001b[0m             \u001b[0mvalue\u001b[0m \u001b[1;33m=\u001b[0m \u001b[1;32mNone\u001b[0m\u001b[1;33m\u001b[0m\u001b[0m\n",
      "\u001b[1;32md:\\onedrive\\setups\\lk1\\lk1_code\\code\\qcodes\\qcodes\\instrument_drivers\\AlazarTech\\ATS.py\u001b[0m in \u001b[0;36macquire\u001b[1;34m(self, mode, samples_per_record, records_per_buffer, buffers_per_acquisition, channel_selection, transfer_offset, external_startcapture, enable_record_headers, alloc_buffers, fifo_only_streaming, interleave_samples, get_processed_data, allocated_buffers, buffer_timeout, acquisition_controller)\u001b[0m\n\u001b[0;32m    787\u001b[0m                                self._handle, ctypes.cast(buf.addr, ctypes.c_void_p), buffer_timeout)\n\u001b[0;32m    788\u001b[0m \u001b[1;33m\u001b[0m\u001b[0m\n\u001b[1;32m--> 789\u001b[1;33m                 \u001b[0macquisition_controller\u001b[0m\u001b[1;33m.\u001b[0m\u001b[0mbuffer_done_callback\u001b[0m\u001b[1;33m(\u001b[0m\u001b[0mbuffers_completed\u001b[0m\u001b[1;33m)\u001b[0m\u001b[1;33m\u001b[0m\u001b[0m\n\u001b[0m\u001b[0;32m    790\u001b[0m \u001b[1;33m\u001b[0m\u001b[0m\n\u001b[0;32m    791\u001b[0m                 \u001b[1;31m# if buffers must be recycled, extract data and repost them\u001b[0m\u001b[1;33m\u001b[0m\u001b[1;33m\u001b[0m\u001b[0m\n",
      "\u001b[1;32md:\\onedrive\\setups\\lk1\\lk1_code\\code\\pytopo\\pytopo\\cQED\\softwarespec.py\u001b[0m in \u001b[0;36mbuffer_done_callback\u001b[1;34m(self, buffernum)\u001b[0m\n\u001b[0;32m     92\u001b[0m         \"\"\"\n\u001b[0;32m     93\u001b[0m         \u001b[0mnextstep\u001b[0m \u001b[1;33m=\u001b[0m \u001b[0mbuffernum\u001b[0m\u001b[1;33m\u001b[0m\u001b[0m\n\u001b[1;32m---> 94\u001b[1;33m         \u001b[0mself\u001b[0m\u001b[1;33m.\u001b[0m\u001b[0m_perform_step\u001b[0m\u001b[1;33m(\u001b[0m\u001b[0mnextstep\u001b[0m\u001b[1;33m)\u001b[0m\u001b[1;33m\u001b[0m\u001b[0m\n\u001b[0m\u001b[0;32m     95\u001b[0m \u001b[1;33m\u001b[0m\u001b[0m\n\u001b[0;32m     96\u001b[0m \u001b[1;33m\u001b[0m\u001b[0m\n",
      "\u001b[1;32md:\\onedrive\\setups\\lk1\\lk1_code\\code\\pytopo\\pytopo\\cQED\\softwarespec.py\u001b[0m in \u001b[0;36m_perform_step\u001b[1;34m(self, num)\u001b[0m\n\u001b[0;32m     69\u001b[0m                 \u001b[0mprint\u001b[0m\u001b[1;33m(\u001b[0m\u001b[1;34mf'Point {self._step} ({self.values[self._step]:1.5e})'\u001b[0m \u001b[1;33m+\u001b[0m \u001b[1;36m10\u001b[0m \u001b[1;33m*\u001b[0m \u001b[1;34m\"\"\u001b[0m\u001b[1;33m,\u001b[0m \u001b[0mend\u001b[0m\u001b[1;33m=\u001b[0m\u001b[1;34m'\\r'\u001b[0m\u001b[1;33m)\u001b[0m\u001b[1;33m\u001b[0m\u001b[0m\n\u001b[0;32m     70\u001b[0m                 \u001b[0mself\u001b[0m\u001b[1;33m.\u001b[0m\u001b[0mparam\u001b[0m\u001b[1;33m(\u001b[0m\u001b[0mself\u001b[0m\u001b[1;33m.\u001b[0m\u001b[0mvalues\u001b[0m\u001b[1;33m[\u001b[0m\u001b[0mself\u001b[0m\u001b[1;33m.\u001b[0m\u001b[0m_step\u001b[0m\u001b[1;33m]\u001b[0m\u001b[1;33m)\u001b[0m\u001b[1;33m\u001b[0m\u001b[0m\n\u001b[1;32m---> 71\u001b[1;33m                 \u001b[0mself\u001b[0m\u001b[1;33m.\u001b[0m\u001b[0m_settle\u001b[0m\u001b[1;33m(\u001b[0m\u001b[1;33m)\u001b[0m\u001b[1;33m\u001b[0m\u001b[0m\n\u001b[0m\u001b[0;32m     72\u001b[0m             \u001b[1;32melse\u001b[0m\u001b[1;33m:\u001b[0m\u001b[1;33m\u001b[0m\u001b[0m\n\u001b[0;32m     73\u001b[0m                 \u001b[0mprint\u001b[0m\u001b[1;33m(\u001b[0m\u001b[1;34m'Done!'\u001b[0m\u001b[1;33m,\u001b[0m \u001b[0mend\u001b[0m\u001b[1;33m=\u001b[0m\u001b[1;34m'\\r'\u001b[0m\u001b[1;33m)\u001b[0m\u001b[1;33m\u001b[0m\u001b[0m\n",
      "\u001b[1;32md:\\onedrive\\setups\\lk1\\lk1_code\\code\\pytopo\\pytopo\\cQED\\softwarespec.py\u001b[0m in \u001b[0;36m_settle\u001b[1;34m(self)\u001b[0m\n\u001b[0;32m     52\u001b[0m     \u001b[1;32mdef\u001b[0m \u001b[0m_settle\u001b[0m\u001b[1;33m(\u001b[0m\u001b[0mself\u001b[0m\u001b[1;33m)\u001b[0m\u001b[1;33m:\u001b[0m\u001b[1;33m\u001b[0m\u001b[0m\n\u001b[0;32m     53\u001b[0m         \u001b[1;32mif\u001b[0m \u001b[0mself\u001b[0m\u001b[1;33m.\u001b[0m\u001b[0msettling_time\u001b[0m \u001b[1;33m>\u001b[0m \u001b[1;36m0\u001b[0m\u001b[1;33m:\u001b[0m\u001b[1;33m\u001b[0m\u001b[0m\n\u001b[1;32m---> 54\u001b[1;33m             \u001b[0mtime\u001b[0m\u001b[1;33m.\u001b[0m\u001b[0msleep\u001b[0m\u001b[1;33m(\u001b[0m\u001b[0mself\u001b[0m\u001b[1;33m.\u001b[0m\u001b[0msettling_time\u001b[0m\u001b[1;33m)\u001b[0m\u001b[1;33m\u001b[0m\u001b[0m\n\u001b[0m\u001b[0;32m     55\u001b[0m \u001b[1;33m\u001b[0m\u001b[0m\n\u001b[0;32m     56\u001b[0m     \u001b[1;32mdef\u001b[0m \u001b[0m_perform_step\u001b[0m\u001b[1;33m(\u001b[0m\u001b[0mself\u001b[0m\u001b[1;33m,\u001b[0m \u001b[0mnum\u001b[0m\u001b[1;33m)\u001b[0m\u001b[1;33m:\u001b[0m\u001b[1;33m\u001b[0m\u001b[0m\n",
      "\u001b[1;31mKeyboardInterrupt\u001b[0m: "
     ]
    }
   ],
   "source": [
    "station.RF.power(-30)\n",
    "xvals = np.arange(5.295e9,5.317e9,0.4e6)\n",
    "    \n",
    "fig = plt.figure()\n",
    "ax = fig.add_subplot(111)\n",
    "ax.set_xlabel('X values')\n",
    "ax.set_ylabel('Y values')\n",
    "line = ax.plot(xvals, np.zeros_like(xvals), '.-')[0]\n",
    "\n",
    "ctl = ss.setup_soft_sweep(xvals, station.hetsrc.frequency, integration_time=30e-3)\n",
    "\n",
    "# now we wrap the measure function such that it doesn't need arguments anymore\n",
    "# of course this requires that we have already good constant values for ax and line\n",
    "measure_trace = partial(measure_and_plot_resonator, ax, line)\n",
    "\n",
    "# now we just have to call the new function wrapper without arguments\n",
    "\n",
    "\n",
    "field_opt = FieldOptimizationProblem(station.mgnt, measure_trace, get_resonator_FWHM)\n",
    "\n",
    "\n",
    "\n",
    "cur_r = station.mgnt.r_measured()\n",
    "cur_theta = station.mgnt.theta_measured()\n",
    "cur_phi = station.mgnt.phi_measured()\n",
    "\n",
    "\n",
    "#with station.TWPA():\n",
    "optimum, extra = field_opt.optimize_and_ramp_magnitude(\n",
    "    cur_r, 1000e-3, 300,\n",
    "    cur_phi, 0, 1,\n",
    "    cur_theta, 0.0025, 3,\n",
    "    reoptimization_threshold=4.,\n",
    "    ramp_rate=3e-3,\n",
    "    n_steps=7,\n",
    "    return_extra=True\n",
    "    )\n",
    "\n",
    "# # station.TWPA.off()"
   ]
  },
  {
   "cell_type": "code",
   "execution_count": null,
   "metadata": {
    "ExecuteTime": {
     "end_time": "2018-11-02T13:48:34.559065Z",
     "start_time": "2018-11-02T13:48:34.472003Z"
    }
   },
   "outputs": [],
   "source": [
    "plt.figure()\n",
    "plt.plot(\n",
    "    [field.phi for field in extra['history']['optima']],\n",
    "    [field.theta for field in extra['history']['optima']],\n",
    "    zorder=-10\n",
    ")\n",
    "plt.scatter(\n",
    "    [field.phi for field in extra['history']['optima']],\n",
    "    [field.theta for field in extra['history']['optima']],\n",
    "    c=[field.r for field in extra['history']['optima']]\n",
    ")\n",
    "plt.colorbar()"
   ]
  },
  {
   "cell_type": "code",
   "execution_count": null,
   "metadata": {
    "ExecuteTime": {
     "end_time": "2018-11-02T13:49:00.805914Z",
     "start_time": "2018-11-02T13:49:00.779954Z"
    }
   },
   "outputs": [],
   "source": [
    "plt.figure()\n",
    "plt.plot(extra['history']['objectives'])"
   ]
  },
  {
   "cell_type": "markdown",
   "metadata": {
    "heading_collapsed": true
   },
   "source": [
    "# OLD STUFF BELOW - ONLY REFERENCE"
   ]
  },
  {
   "cell_type": "code",
   "execution_count": null,
   "metadata": {
    "hidden": true,
    "scrolled": false
   },
   "outputs": [],
   "source": [
    "frqs, data = soft_resonator_spec(5.6e9, 5.7e9, 1e6, RF_power=-70)"
   ]
  },
  {
   "cell_type": "markdown",
   "metadata": {
    "heading_collapsed": true,
    "hidden": true
   },
   "source": [
    "## Resonator vs time"
   ]
  },
  {
   "cell_type": "code",
   "execution_count": null,
   "metadata": {
    "hidden": true
   },
   "outputs": [],
   "source": [
    "start, stop, step = 5.6e9, 5.7e9, 2e6\n",
    "integration_time = 10e-3\n",
    "trigger_interval = 1e-3\n",
    "\n",
    "exp = new_experiment(name='resonator_spec_vs_time', sample_name=qc.config.user.experiment.sample_name)\n",
    "\n",
    "# set basic RF stuff\n",
    "station.hetsrc.RF.power(-70)\n",
    "\n",
    "ctl = station.post_iq_acq\n",
    "ctl.average_buffers(True)\n",
    "ctl.demod_frq(station.hetsrc.IF())\n",
    "\n",
    "SR = station.alazar.sample_rate()\n",
    "t_buf = trigger_interval - 10e-6\n",
    "nbufs = int(integration_time // trigger_interval)\n",
    "\n",
    "acq_size = 2 * integration_time * SR * 1e-6 # in MB\n",
    "buf_size = 2 * t_buf * SR * 1e-6\n",
    "print(f'acquisition size: {acq_size} MB; {buf_size} MB/buffer.')  \n",
    "print(f'acquisition time/buffer: {t_buf*1e6} us; {nbufs} buffers.')\n",
    "\n",
    "ctl.setup_acquisition(\n",
    "    samples=int(t_buf * SR // 64 * 64),\n",
    "    records=1,\n",
    "    buffers=nbufs,\n",
    "    allocated_buffers=10,\n",
    ")\n",
    "\n",
    "tvals = np.arange(100)\n",
    "frqs = np.arange(start, stop+step, step)\n",
    "data = np.zeros((frqs.size, 2), dtype=np.complex64)\n",
    "\n",
    "m = acquisition_tools.AlazarMeasurement(\n",
    "    station=station, exp=exp, \n",
    "    soft_params=['iteration', station.hetsrc.frequency],\n",
    "    hard_axes=[\n",
    "        ('channel', np.array([1,2])),\n",
    "    ],\n",
    "    imag=False, real=False, mag=True, phase=True,\n",
    ")\n",
    "\n",
    "with m.run() as datasaver:\n",
    "\n",
    "    datasaver.dataset.subscribe(\n",
    "        QcodesDatasetSubscriber(datasaver.dataset), \n",
    "        state=[], min_wait=0, min_count=1,\n",
    "    )\n",
    "\n",
    "    for j, it in enumerate(tvals):\n",
    "        for i, f in enumerate(frqs):\n",
    "            print(f'Current iteration: {it}. Current frequency: {f*1e-6:.2f} MHz', end='\\r')\n",
    "            station.hetsrc.frequency(f)\n",
    "            time.sleep(0.01)\n",
    "\n",
    "            _data = ctl.acquisition()[0,0,0,:]\n",
    "            data[i,:] = _data\n",
    "            mag, phase = np.abs(_data), np.angle(_data, deg=True)\n",
    "\n",
    "            result = m.get_result(_data, (station.hetsrc.frequency, f), ('iteration', it))\n",
    "            datasaver.add_result(*result)"
   ]
  },
  {
   "cell_type": "markdown",
   "metadata": {
    "heading_collapsed": true
   },
   "source": [
    "# Gate response"
   ]
  },
  {
   "cell_type": "code",
   "execution_count": null,
   "metadata": {
    "hidden": true
   },
   "outputs": [],
   "source": [
    "station.hetsrc.frequency(5.647e9)\n",
    "station.hetsrc.RF.power(-70)\n",
    "SR = station.alazar.sample_rate()\n",
    "dac = station.ivvi.dac1\n",
    "dacl = station.ivvi.dac11\n",
    "dacr = station.ivvi.dac13\n",
    "\n",
    "station = qc.Station.default\n",
    "exp = new_experiment(name='gate_response', sample_name=qc.config.user.experiment.sample_name)\n",
    "\n",
    "ctl = station.post_iq_acq\n",
    "ctl.average_buffers(True)\n",
    "ctl.demod_frq(station.hetsrc.IF())\n",
    "\n",
    "ctl.setup_acquisition(\n",
    "        samples=int(980e-6 * SR // 64 * 64),\n",
    "        records=1,\n",
    "        buffers=10,\n",
    "        allocated_buffers=10,\n",
    "    )\n",
    "\n",
    "gatevals = np.arange(0, 1000, 0.5)\n",
    "\n",
    "m = acquisition_tools.AlazarMeasurement(\n",
    "        station=station, exp=exp, \n",
    "        soft_params=[dacl],\n",
    "        hard_axes=[\n",
    "            ('channel', np.array([1,2])),\n",
    "        ],\n",
    "        imag=False, real=False, mag=True, phase=True,\n",
    "    )\n",
    "\n",
    "with m.run() as datasaver:\n",
    "        \n",
    "    datasaver.dataset.subscribe(\n",
    "        QcodesDatasetSubscriber(datasaver.dataset), \n",
    "        state=[], min_wait=0, min_count=1,\n",
    "    )\n",
    "\n",
    "    for i, g in enumerate(gatevals):\n",
    "        print(f'Current gate voltage: {g} mV', end='\\r')\n",
    "        dacl(int(g))\n",
    "        dacr(int(g))\n",
    "        dac(int(g))\n",
    "\n",
    "        _data = ctl.acquisition()[0,0,0,:]\n",
    "        mag, phase = np.abs(_data), np.angle(_data, deg=True)\n",
    "\n",
    "        result = m.get_result(_data, (dacl, g))\n",
    "        datasaver.add_result(*result)"
   ]
  },
  {
   "cell_type": "code",
   "execution_count": null,
   "metadata": {
    "hidden": true
   },
   "outputs": [],
   "source": []
  },
  {
   "cell_type": "markdown",
   "metadata": {},
   "source": [
    "# Qubit spec"
   ]
  },
  {
   "cell_type": "code",
   "execution_count": null,
   "metadata": {},
   "outputs": [],
   "source": []
  },
  {
   "cell_type": "markdown",
   "metadata": {},
   "source": [
    "# Scribble"
   ]
  },
  {
   "cell_type": "code",
   "execution_count": null,
   "metadata": {},
   "outputs": [],
   "source": []
  },
  {
   "cell_type": "code",
   "execution_count": null,
   "metadata": {
    "ExecuteTime": {
     "end_time": "2018-10-26T12:13:22.761287Z",
     "start_time": "2018-10-26T12:13:22.755300Z"
    }
   },
   "outputs": [],
   "source": [
    "f\"{123456:1.3e}\""
   ]
  },
  {
   "cell_type": "code",
   "execution_count": null,
   "metadata": {},
   "outputs": [],
   "source": []
  }
 ],
 "metadata": {
  "kernelspec": {
   "display_name": "Python 3",
   "language": "python",
   "name": "python3"
  },
  "language_info": {
   "codemirror_mode": {
    "name": "ipython",
    "version": 3
   },
   "file_extension": ".py",
   "mimetype": "text/x-python",
   "name": "python",
   "nbconvert_exporter": "python",
   "pygments_lexer": "ipython3",
   "version": "3.6.6"
  },
  "toc": {
   "base_numbering": 1,
   "nav_menu": {},
   "number_sections": true,
   "sideBar": true,
   "skip_h1_title": false,
   "title_cell": "Table of Contents",
   "title_sidebar": "Contents",
   "toc_cell": false,
   "toc_position": {
    "height": "calc(100% - 180px)",
    "left": "10px",
    "top": "150px",
    "width": "324.766px"
   },
   "toc_section_display": true,
   "toc_window_display": true
  }
 },
 "nbformat": 4,
 "nbformat_minor": 2
}

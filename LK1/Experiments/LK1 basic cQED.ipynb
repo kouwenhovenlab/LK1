{
 "cells": [
  {
   "cell_type": "code",
   "execution_count": null,
   "metadata": {
    "ExecuteTime": {
     "end_time": "2018-11-09T15:29:47.958305Z",
     "start_time": "2018-11-09T15:29:42.698713Z"
    }
   },
   "outputs": [],
   "source": [
    "%matplotlib notebook\n",
    "\n",
    "import logging\n",
    "import time\n",
    "from importlib import reload\n",
    "\n",
    "from matplotlib import pyplot as plt\n",
    "from matplotlib import colors, cm\n",
    "import numpy as np\n",
    "\n",
    "import qcodes\n",
    "import qcodes as qc\n",
    "from qcodes.instrument.parameter import Parameter\n",
    "from qcodes.dataset.measurements import Measurement\n",
    "from qcodes.dataset.experiment_container import new_experiment"
   ]
  },
  {
   "cell_type": "code",
   "execution_count": null,
   "metadata": {
    "ExecuteTime": {
     "end_time": "2018-10-31T14:05:28.383006Z",
     "start_time": "2018-10-31T14:05:28.378021Z"
    }
   },
   "outputs": [],
   "source": [
    "# %qtconsole"
   ]
  },
  {
   "cell_type": "markdown",
   "metadata": {},
   "source": [
    "# Custom imports"
   ]
  },
  {
   "cell_type": "code",
   "execution_count": null,
   "metadata": {
    "ExecuteTime": {
     "end_time": "2018-11-09T15:29:49.568534Z",
     "start_time": "2018-11-09T15:29:47.958305Z"
    }
   },
   "outputs": [],
   "source": [
    "from pytopo.awg_sequencing import broadbean as bbtools; reload(bbtools)\n",
    "from pytopo.awg_sequencing import awg_tools; reload(awg_tools)\n",
    "from pytopo.rf.alazar import acquisition_tools; reload(acquisition_tools)\n",
    "from pytopo.rf.alazar import awg_sequences; reload(awg_sequences)\n",
    "from pytopo.rf.alazar import acquisition_controllers; reload(acquisition_controllers)\n",
    "\n",
    "from plottr import qcodes_dataset; reload(qcodes_dataset)\n",
    "from plottr.qcodes_dataset import QcodesDatasetSubscriber"
   ]
  },
  {
   "cell_type": "code",
   "execution_count": null,
   "metadata": {
    "ExecuteTime": {
     "end_time": "2018-11-09T15:29:49.596536Z",
     "start_time": "2018-11-09T15:29:49.569518Z"
    }
   },
   "outputs": [],
   "source": [
    "from qcodes.instrument.parameter import Parameter\n",
    "from qcodes.dataset.plotting import plot_by_id\n",
    "from qcodes.dataset.data_export import get_data_by_id\n",
    "\n",
    "from pytopo.sweep.base import Nest, Chain \n",
    "from pytopo.sweep.decorators import getter, setter\n",
    "from pytopo.sweep import sweep, do_experiment, hardsweep, measure\n",
    "\n",
    "from qcodes.math.field_vector import FieldVector\n",
    "from pytopo.field_optimization.movement import FieldOptimizationProblem \n",
    "from pytopo.cQED import softwarespec as ss"
   ]
  },
  {
   "cell_type": "markdown",
   "metadata": {},
   "source": [
    "# Measurement functions"
   ]
  },
  {
   "cell_type": "markdown",
   "metadata": {},
   "source": [
    "## Qubit measurements"
   ]
  },
  {
   "cell_type": "code",
   "execution_count": null,
   "metadata": {
    "ExecuteTime": {
     "end_time": "2018-11-09T15:29:51.878383Z",
     "start_time": "2018-11-09T15:29:49.597537Z"
    }
   },
   "outputs": [],
   "source": [
    "\n",
    "\n",
    "\n",
    "# xtest=np.arange(-100,100.,1)\n",
    "# ytest=1.0/np.pi*(2.0/((xtest-3)**2+2.0**2))\n",
    "\n",
    "# plt.plot(xtest,ytest,'.')\n",
    "# output=fit_lorentzian(xtest,ytest)\n",
    "# output.plot_fit()\n",
    "# output.best_values['sigma']\n",
    "# output.best_values['center']\n",
    "\n"
   ]
  },
  {
   "cell_type": "markdown",
   "metadata": {},
   "source": [
    "## Get resonator trace and plot"
   ]
  },
  {
   "cell_type": "code",
   "execution_count": null,
   "metadata": {
    "ExecuteTime": {
     "end_time": "2018-11-09T15:29:51.883386Z",
     "start_time": "2018-11-09T15:29:51.879383Z"
    }
   },
   "outputs": [],
   "source": [
    "from functools import partial\n",
    "from qcodes.math.field_vector import FieldVector\n",
    "\n",
    "def get_resonator_freq(): #helper function to pass variables into resonator spec\n",
    "    global xvals\n",
    "    return get_resonator_spec_and_fit(xvals)\n",
    "\n",
    "def get_resonator_FWHM(): #helper function to pass variables into resonator spec\n",
    "    global xvals\n",
    "    _,_,fitout=get_resonator_spec_and_fit(xvals)\n",
    "    return 2*fitout.params['sigma'].value\n",
    "\n",
    "def measure_and_plot_resonator(ax, line): #plots the trace\n",
    "    liney, phasey, fitout = get_resonator_freq()\n",
    "    time.sleep(0.5)\n",
    "    \n",
    "    line.set_ydata(liney)\n",
    "    ax.relim()\n",
    "    ax.autoscale_view(True, True, True)\n",
    "    ax.get_figure().canvas.draw()\n",
    "    \n",
    "    return fitout.params['center'].value"
   ]
  },
  {
   "cell_type": "markdown",
   "metadata": {},
   "source": [
    "# Init"
   ]
  },
  {
   "cell_type": "markdown",
   "metadata": {},
   "source": [
    "## Configurables"
   ]
  },
  {
   "cell_type": "code",
   "execution_count": null,
   "metadata": {
    "ExecuteTime": {
     "end_time": "2018-11-09T15:29:51.895395Z",
     "start_time": "2018-11-09T15:29:51.885405Z"
    }
   },
   "outputs": [],
   "source": [
    "SAMPLE = \"20170926_20nm_37_d2_CD20181017\""
   ]
  },
  {
   "cell_type": "markdown",
   "metadata": {},
   "source": [
    "## Initialize instruments"
   ]
  },
  {
   "cell_type": "code",
   "execution_count": null,
   "metadata": {
    "ExecuteTime": {
     "end_time": "2018-11-09T15:29:58.941064Z",
     "start_time": "2018-11-09T15:29:54.197138Z"
    }
   },
   "outputs": [],
   "source": [
    "%run -i D:/OneDrive/Setups/LK1/LK1_code/Code/LK1/LK1/init_station_cqed.py"
   ]
  },
  {
   "cell_type": "code",
   "execution_count": null,
   "metadata": {
    "ExecuteTime": {
     "end_time": "2018-11-09T15:29:59.003092Z",
     "start_time": "2018-11-09T15:29:58.942050Z"
    }
   },
   "outputs": [],
   "source": [
    "from qcodes.instrument_drivers.QuTech.IVVI import IVVI\n",
    "ivvi = create_inst(IVVI, 'ivvi', address='ASRL1', numdacs=16, force_new_instance=True)\n",
    "add2station(station, ivvi)\n",
    "\n",
    "numdacs = int(ivvi._numdacs)\n",
    "for i in range(1, numdacs+1):\n",
    "    station.ivvi.parameters['dac{}'.format(i)].set_step(10)\n",
    "    station.ivvi.parameters['dac{}'.format(i)].set_delay(0.001)"
   ]
  },
  {
   "cell_type": "code",
   "execution_count": null,
   "metadata": {
    "ExecuteTime": {
     "end_time": "2018-11-09T15:30:02.660199Z",
     "start_time": "2018-11-09T15:30:02.258733Z"
    }
   },
   "outputs": [],
   "source": [
    "with station.alazar.syncing():\n",
    "    station.alazar.channel_range1(0.4)\n",
    "    station.alazar.channel_range2(0.4)\n",
    "    station.alazar.sample_rate(int(2.0e8))\n",
    "    \n",
    "station.hetsrc.RF.power(-70)\n",
    "station.hetsrc.IF(25e6)\n",
    "station.hetsrc.frequency(5.5e9)\n",
    "\n",
    "#station.TWPA.power(8.5)\n",
    "#station.TWPA.frequency(8.0123e9)\n",
    "\n",
    "station.LO.frequency(), station.RF.frequency(), station.TWPA.frequency()"
   ]
  },
  {
   "cell_type": "markdown",
   "metadata": {},
   "source": [
    "## Setting up Alazar acquisition controllers"
   ]
  },
  {
   "cell_type": "code",
   "execution_count": null,
   "metadata": {
    "ExecuteTime": {
     "end_time": "2018-11-09T15:30:07.342634Z",
     "start_time": "2018-11-09T15:30:04.026745Z"
    }
   },
   "outputs": [],
   "source": [
    "# regular post-measurement IQ demod controller\n",
    "post_iq_acq = instools.create_inst(acquisition_controllers.PostIQCtl, \n",
    "                                   'post_iq_acq', 'alazar',\n",
    "                                   allocate_samples=5e8, \n",
    "                                   force_new_instance=True)\n",
    "add2station(station, post_iq_acq)\n",
    "post_iq_acq.demod_frq(2.5e7)\n",
    "\n",
    "# controller that can step frequencies during acquisition.\n",
    "softsweep_ctl = instools.create_inst(ss.SoftSweepCtl,\n",
    "                                     'softsweep_ctl', 'alazar',\n",
    "                                     allocate_samples=5e8, \n",
    "                                     force_new_instance=True)\n",
    "add2station(station, softsweep_ctl)\n",
    "softsweep_ctl.demod_frq(2.5e7)"
   ]
  },
  {
   "cell_type": "markdown",
   "metadata": {},
   "source": [
    "## Essential AWG Sequences"
   ]
  },
  {
   "cell_type": "code",
   "execution_count": null,
   "metadata": {
    "ExecuteTime": {
     "end_time": "2018-11-09T15:30:07.347962Z",
     "start_time": "2018-11-09T15:30:07.342634Z"
    }
   },
   "outputs": [],
   "source": [
    "from pytopo.rf.alazar.awg_sequences import TriggerSequence\n",
    "\n",
    "TriggerSequence.chan_map = {\n",
    "    1 : ['pulse', 'ats_trigger', 'ro_trigger'],\n",
    "    2 : [None, 'qb_trigger', None],\n",
    "}\n",
    "TriggerSequence.chan_settings = {\n",
    "    1 : {\n",
    "        'marker_hi' : [1.5, 1.5],\n",
    "        'marker_lo' : [-0.3, -0.3],\n",
    "        },\n",
    "    2 : {\n",
    "        'marker_hi' : [1.5, 1.5],\n",
    "        'marker_lo' : [-0.3, -0.3],\n",
    "        },\n",
    "}"
   ]
  },
  {
   "cell_type": "markdown",
   "metadata": {},
   "source": [
    "# Setup and expt. specific tools"
   ]
  },
  {
   "cell_type": "code",
   "execution_count": null,
   "metadata": {
    "ExecuteTime": {
     "end_time": "2018-11-09T15:30:10.057090Z",
     "start_time": "2018-11-09T15:30:10.051084Z"
    }
   },
   "outputs": [],
   "source": [
    "dac_cutter = station.ivvi.dac1\n",
    "dac_leftplunger = station.ivvi.dac11\n",
    "dac_rightplunger = station.ivvi.dac13\n",
    "dac_leftplunger_fine = station.ivvi.dac12\n",
    "dac_rightplunger_fine = station.ivvi.dac14\n",
    "\n",
    "@setter(('plungers', 'mV'),)\n",
    "def set_plungers(val):\n",
    "    \"\"\"\n",
    "    Set both plungers (left and right) to val (in mV).\n",
    "    \"\"\"\n",
    "    dac_leftplunger(val)\n",
    "    dac_rightplunger(val)\n",
    "    return val"
   ]
  },
  {
   "cell_type": "code",
   "execution_count": null,
   "metadata": {
    "ExecuteTime": {
     "end_time": "2018-11-09T15:30:10.734160Z",
     "start_time": "2018-11-09T15:30:10.730157Z"
    }
   },
   "outputs": [],
   "source": [
    "@setter(('magnet_r', 'T'),) ##could be combined into a single one, but we generally want to sweep them individually and not touch the others\n",
    "def set_magnet_r(val):\n",
    "    \"\"\"\n",
    "    Set magnet r\n",
    "    \"\"\"\n",
    "    station.mgnt.r_target(val)\n",
    "    station.mgnt.ramp(mode='safe')\n",
    "    return val\n",
    "\n",
    "@setter(('magnet_phi', 'degrees'),)\n",
    "def set_magnet_phi(val):\n",
    "    \"\"\"\n",
    "    Set magnet phi\n",
    "    \"\"\"\n",
    "    station.mgnt.phi_target(val)\n",
    "    station.mgnt.ramp(mode='safe')\n",
    "    return val\n",
    "\n",
    "@setter(('magnet_theta', 'degrees'),)\n",
    "def set_magnet_theta(val):\n",
    "    \"\"\"\n",
    "    Set magnet theta\n",
    "    \"\"\"\n",
    "    station.mgnt.theta_target(val)\n",
    "    station.mgnt.ramp(mode='safe')\n",
    "    return val"
   ]
  },
  {
   "cell_type": "markdown",
   "metadata": {},
   "source": [
    "# EVERYTHING ABOVE HERE SHOULD BE RUN FOR INITIALIZATION"
   ]
  },
  {
   "cell_type": "markdown",
   "metadata": {},
   "source": [
    "# Resonator spec"
   ]
  },
  {
   "cell_type": "code",
   "execution_count": null,
   "metadata": {
    "ExecuteTime": {
     "end_time": "2018-11-09T15:33:29.380533Z",
     "start_time": "2018-11-09T15:33:13.909161Z"
    }
   },
   "outputs": [],
   "source": [
    "ss.setup_single_averaged_IQpoint(0.1e-3, 30e-3, setup_awg=True)\n",
    "# station.TWPA.on() #we don't have a BNC T at the moment, we can remove this once we split the marker for the cavity\n",
    "so = sweep(station.hetsrc.frequency, np.arange(5.30e9, 5.33e9, 1e6))(\n",
    "    measure(ss.get_single_averaged_IQpoint_chanA),\n",
    ")\n",
    "\n",
    "result = do_experiment(f\"resonator_spec/{SAMPLE}\", so, live_plot=True)\n",
    "# station.TWPA.off()"
   ]
  },
  {
   "cell_type": "markdown",
   "metadata": {
    "ExecuteTime": {
     "end_time": "2018-10-26T17:29:17.806944Z",
     "start_time": "2018-10-26T17:29:17.803943Z"
    }
   },
   "source": [
    "## Standard resonator spec"
   ]
  },
  {
   "cell_type": "code",
   "execution_count": null,
   "metadata": {
    "ExecuteTime": {
     "end_time": "2018-11-09T15:33:58.258184Z",
     "start_time": "2018-11-09T15:33:39.118644Z"
    }
   },
   "outputs": [],
   "source": [
    "station = qcodes.Station.default #standard resonator spec\n",
    "station.hetsrc.RF.power(-65)\n",
    "\n",
    "\n",
    "ctl = ss.setup_soft_sweep(np.linspace(5.29e9, 5.32e9, 101), station.hetsrc.frequency, \n",
    "                          time_bin=0.2e-3, integration_time=30e-3)\n",
    "ctl.settling_time = 100e-3\n",
    "station.alazar.allocated_buffers(10)\n",
    "so = ss.measure_soft_time_avg_spec(np.linspace(5.29e9, 5.32e9, 101), station.hetsrc, \n",
    "                                   setup=False)\n",
    "\n",
    "\n",
    "result = do_experiment(f'resonator_spec/{SAMPLE}', so, live_plot=True)\n"
   ]
  },
  {
   "cell_type": "code",
   "execution_count": null,
   "metadata": {
    "ExecuteTime": {
     "end_time": "2018-11-09T17:00:41.364364Z",
     "start_time": "2018-11-09T17:00:21.274968Z"
    }
   },
   "outputs": [],
   "source": [
    "station.hetsrc.RF.power(-65)\n",
    "hetfreqs = np.linspace(5.29e9, 5.32e9, 101)\n",
    "#station.TWPA.on()\n",
    "ctl = ss.setup_soft_sweep(hetfreqs, station.hetsrc.frequency, integration_time=30e-3)\n",
    "testout = get_resonator_spec_and_fit(hetfreqs)\n",
    "#station.TWPA.off()\n",
    "\n",
    "plt.figure()\n",
    "plt.plot(hetfreqs,testout[0]**2,'o')\n",
    "plt.plot(hetfreqs,testout[2].best_fit)\n",
    "plt.xlabel('Frequency [GHz]')\n",
    "plt.ylabel('Magnitude**2 [a.u.]')\n",
    "plt.title('Center = %.4f GHz, FWHM = %.2f MHz, Q = %.2f' % (testout[2].params['center'].value*1e-9, 2*testout[2].params['sigma'].value*1e-6, testout[2].params['center'].value/(2*testout[2].params['sigma'].value)))"
   ]
  },
  {
   "cell_type": "markdown",
   "metadata": {
    "heading_collapsed": true
   },
   "source": [
    "## Live-monitor of resonator spec"
   ]
  },
  {
   "cell_type": "code",
   "execution_count": null,
   "metadata": {
    "ExecuteTime": {
     "end_time": "2018-10-31T09:12:05.625664Z",
     "start_time": "2018-10-31T09:12:05.607651Z"
    },
    "hidden": true,
    "scrolled": false
   },
   "outputs": [],
   "source": [
    "fvals = np.linspace(5.29e9, 5.33e9, 51)\n",
    "ctl = ss.setup_soft_sweep(fvals, station.hetsrc.frequency, integration_time=30e-3)\n",
    "\n",
    "def monitor_resonator_spec(ax, fvals, data_line=None):\n",
    "    mag, phase, fitout = get_resonator_spec_and_fit(fvals)\n",
    "    \n",
    "    if data_line is None:\n",
    "        data_line = ax.plot(fvals, mag**2)[0]\n",
    "    else:\n",
    "        data_line.set_ydata(mag**2)\n",
    "    \n",
    "    ax.relim()\n",
    "    ax.autoscale_view(True, True, True)\n",
    "    ax.get_figure().canvas.draw()\n",
    "    \n",
    "    return data_line\n",
    "    \n",
    "\n",
    "fig, ax = plt.subplots(1,1)\n",
    "\n",
    "data_line = None\n",
    "ax.set_xlabel('Frequency')\n",
    "ax.set_ylabel('Magnitude')\n",
    "\n",
    "for i in range(10):\n",
    "    data_line = monitor_resonator_spec(ax, fvals, data_line=data_line)"
   ]
  },
  {
   "cell_type": "code",
   "execution_count": null,
   "metadata": {
    "hidden": true
   },
   "outputs": [],
   "source": []
  },
  {
   "cell_type": "markdown",
   "metadata": {},
   "source": [
    "## Resonator spec vs power"
   ]
  },
  {
   "cell_type": "code",
   "execution_count": null,
   "metadata": {
    "ExecuteTime": {
     "end_time": "2018-11-07T10:28:52.720442Z",
     "start_time": "2018-11-07T10:26:39.169199Z"
    }
   },
   "outputs": [],
   "source": [
    "station = qcodes.Station.default #resonator spec vs power\n",
    "spec_frequencies=np.linspace(5.295e9, 5.31e9, 61)\n",
    "spec_src=station.hetsrc.frequency\n",
    "spec_powers=np.linspace(-70,-30,17)\n",
    "\n",
    "ctl = ss.setup_soft_sweep(spec_frequencies, spec_src)\n",
    "\n",
    "#station.TWPA.on()\n",
    "station.TWPA.off()\n",
    "so = sweep(station.hetsrc.RF.power,spec_powers)(\n",
    "    ss.measure_soft_time_avg_spec(spec_frequencies, station.hetsrc, integration_time=100e-3, setup=False))\n",
    "\n",
    "result = do_experiment(f'resonator_specvspower/{SAMPLE}', so, live_plot=True)\n"
   ]
  },
  {
   "cell_type": "code",
   "execution_count": null,
   "metadata": {
    "ExecuteTime": {
     "end_time": "2018-11-07T10:28:56.585682Z",
     "start_time": "2018-11-07T10:28:56.522637Z"
    }
   },
   "outputs": [],
   "source": [
    "from matplotlib.colors import LogNorm\n",
    "data = qc.dataset.data_export.load_by_id(151)\n",
    "freqs = data.get_data('frequency')\n",
    "powers = data.get_data('RF_power')\n",
    "signal = data.get_data('signal_magnitude')\n",
    "\n",
    "x = freqs[0][0]\n",
    "y = np.array(powers)[:,0].T\n",
    "X,Y = np.meshgrid(x,y)\n",
    "Z = np.array(signal)[:,0,:]\n",
    "\n",
    "Znorm = Z\n",
    "for i in range(len(X[:,0])):\n",
    "    Znorm[i,:] = Z[i,:]/np.mean(Z[i,-15:-1])\n",
    "\n",
    "plt.figure(figsize=(3, 3))\n",
    "plt.pcolor(X,Y,Z,cmap='viridis', norm=LogNorm(vmin=Z.min(), vmax=Z.max()))\n",
    "plt.xlabel('Frequency (GHz)')\n",
    "plt.ylabel('Power (dBm)')\n",
    "#plt.axis([x.min(),x.max(),y.min(), y.max()])\n",
    "\n"
   ]
  },
  {
   "cell_type": "code",
   "execution_count": null,
   "metadata": {
    "ExecuteTime": {
     "end_time": "2018-11-05T17:48:38.486621Z",
     "start_time": "2018-11-05T17:48:38.482619Z"
    }
   },
   "outputs": [],
   "source": []
  },
  {
   "cell_type": "markdown",
   "metadata": {},
   "source": [
    "# TWPA tuning"
   ]
  },
  {
   "cell_type": "code",
   "execution_count": null,
   "metadata": {
    "ExecuteTime": {
     "end_time": "2018-11-04T09:45:28.339222Z",
     "start_time": "2018-11-04T09:45:28.335219Z"
    }
   },
   "outputs": [],
   "source": [
    "np.linspace(4.0, 8, 41)[::-1]"
   ]
  },
  {
   "cell_type": "code",
   "execution_count": null,
   "metadata": {
    "ExecuteTime": {
     "end_time": "2018-11-03T09:53:56.473544Z",
     "start_time": "2018-11-03T09:53:56.468542Z"
    }
   },
   "outputs": [],
   "source": [
    "station.TWPA.power(6.75)\n",
    "station.TWPA.frequency(8.004e9)"
   ]
  },
  {
   "cell_type": "code",
   "execution_count": null,
   "metadata": {},
   "outputs": [],
   "source": [
    "# station.hetsrc.RF.power(-60)\n",
    "# so = sweep(station.TWPA.power, np.arange(9, 11, 0.1))(\n",
    "#     softspec(np.linspace(5.3e9, 5.326e9, 27), station.hetsrc, navgs=10, setup_awg=False)\n",
    "# )\n",
    "\n",
    "# result = do_experiment(f'TWPA_resonator_spec/{SAMPLE}', so, live_plot=True)"
   ]
  },
  {
   "cell_type": "code",
   "execution_count": null,
   "metadata": {
    "ExecuteTime": {
     "end_time": "2018-11-05T08:21:26.026783Z",
     "start_time": "2018-11-04T23:09:56.887229Z"
    }
   },
   "outputs": [],
   "source": [
    "def get_snr_from_max(trace, background_range=(0, 30)):\n",
    "    idx0, idx1 = background_range\n",
    "    S = np.abs(trace).max()\n",
    "    N = np.abs(np.std(trace[idx0:idx1]))\n",
    "    return S, N\n",
    "\n",
    "@getter(('SNR', ''))\n",
    "def SNR():\n",
    "    mag, phase = ss.get_soft_sweep_trace()\n",
    "    trace = mag * np.exp(-1j*phase)\n",
    "    s, n = get_snr_from_max(trace)\n",
    "    return s/n\n",
    "\n",
    "spec_frequencies = np.linspace(5.27e9, 5.31e9, 101)\n",
    "spec_src = station.hetsrc\n",
    "integration_time = 20e-3\n",
    "\n",
    "#pump_amps = np.linspace(8.0, 11, 32)\n",
    "pump_amps = np.linspace(4.0, 8, 41)[::-1]\n",
    "#pump_frqs = np.linspace(7.99e9, 8.02e9, 31)\n",
    "pump_frqs = np.arange(7.91e9, 8.05e9, 1e6)\n",
    "\n",
    "ctl = ss.setup_soft_sweep(spec_frequencies, spec_src.frequency, integration_time=integration_time)\n",
    "\n",
    "station.TWPA.on()\n",
    "so = sweep(station.TWPA.power, pump_amps)(\n",
    "    sweep(station.TWPA.frequency, pump_frqs)(\n",
    "#         measure_soft_time_avg_spec(spec_frequencies, spec_src, integration_time=integration_time, setup=False),\n",
    "        measure(SNR),\n",
    "    )\n",
    ")\n",
    "\n",
    "result = do_experiment(f'tune_TWPA_resonator_spec/{SAMPLE}', so, live_plot=True)\n",
    "station.TWPA.off() #the TWPA power seems to warm up the fridge so let's turn it off when we are not measuring"
   ]
  },
  {
   "cell_type": "code",
   "execution_count": null,
   "metadata": {
    "ExecuteTime": {
     "end_time": "2018-11-05T10:42:28.352598Z",
     "start_time": "2018-11-05T10:42:28.317571Z"
    }
   },
   "outputs": [],
   "source": [
    "station.RF.power()"
   ]
  },
  {
   "cell_type": "code",
   "execution_count": null,
   "metadata": {},
   "outputs": [],
   "source": []
  },
  {
   "cell_type": "code",
   "execution_count": null,
   "metadata": {},
   "outputs": [],
   "source": []
  },
  {
   "cell_type": "markdown",
   "metadata": {},
   "source": [
    "# Resonator vs Gate Response"
   ]
  },
  {
   "cell_type": "markdown",
   "metadata": {},
   "source": [
    "## Measure at a single frequency"
   ]
  },
  {
   "cell_type": "markdown",
   "metadata": {},
   "source": [
    "### Vs cutter"
   ]
  },
  {
   "cell_type": "code",
   "execution_count": null,
   "metadata": {
    "ExecuteTime": {
     "end_time": "2018-11-05T16:36:08.287946Z",
     "start_time": "2018-11-05T16:35:26.096683Z"
    }
   },
   "outputs": [],
   "source": [
    "dac_rightplunger(-1999)\n",
    "dac_leftplunger(-1999)"
   ]
  },
  {
   "cell_type": "code",
   "execution_count": null,
   "metadata": {
    "ExecuteTime": {
     "end_time": "2018-11-05T13:49:45.697679Z",
     "start_time": "2018-11-05T13:47:45.066900Z"
    }
   },
   "outputs": [],
   "source": [
    "#setup_single_averaged_IQpoint(0.1e-3, 10e-3, setup_awg=True)\n",
    "\n",
    "cur_cutter = dac_cutter()\n",
    "#station.hetsrc.frequency(5.31347e9)\n",
    "#station.TWPA.on() #we don't have a BNC T at the moment, we can remove this once we split the marker for the cavity\n",
    "so = sweep(dac_cutter, np.arange(cur_cutter, 1800, 1))(\n",
    "    measure(ss.get_single_averaged_IQpoint_chanA),\n",
    ")\n",
    "\n",
    "result = do_experiment(f\"resonator_gate_response/{SAMPLE}\", so, live_plot=True)\n",
    "station.TWPA.off()"
   ]
  },
  {
   "cell_type": "code",
   "execution_count": null,
   "metadata": {},
   "outputs": [],
   "source": [
    "station.hetsrc.frequency(5.310e9)\n",
    "station.hetsrc.RF.power(-70)\n",
    "\n",
    "cur_cutter = dac_cutter()\n",
    "\n",
    "so = ss.measure_soft_gate_sweep(\n",
    "    np.arange(cur_cutter, cur_cutter+5, 0.1), dac_cutter,\n",
    "    integration_time=10e-3, setup=True,\n",
    ")\n",
    "\n",
    "station.TWPA.on()\n",
    "result = do_experiment(f\"soft_sweep_gate/{SAMPLE}\", so, live_plot=True)\n",
    "station.TWPA.off()"
   ]
  },
  {
   "cell_type": "markdown",
   "metadata": {},
   "source": [
    "### Vs plungers"
   ]
  },
  {
   "cell_type": "code",
   "execution_count": null,
   "metadata": {
    "ExecuteTime": {
     "end_time": "2018-11-05T13:47:21.688610Z",
     "start_time": "2018-11-05T13:33:13.133256Z"
    }
   },
   "outputs": [],
   "source": [
    "station.hetsrc.frequency(5.305e9)\n",
    "cur_plunger = dac_leftplunger()\n",
    "\n",
    "ss.setup_single_averaged_IQpoint(0.1e-3, 30e-3, setup_awg=True)\n",
    "so = sweep(set_plungers, np.arange(cur_plunger,-400,1))(\n",
    "    measure(ss.get_single_averaged_IQpoint_chanA),\n",
    ")\n",
    "\n",
    "#station.TWPA.on()\n",
    "result = do_experiment(f\"resonator_gate_response/{SAMPLE}\", so, live_plot=True)\n",
    "#station.TWPA.off()"
   ]
  },
  {
   "cell_type": "code",
   "execution_count": null,
   "metadata": {
    "ExecuteTime": {
     "end_time": "2018-10-26T12:42:10.481249Z",
     "start_time": "2018-10-26T12:42:01.141109Z"
    }
   },
   "outputs": [],
   "source": [
    "# station.hetsrc.frequency(5.305e9)\n",
    "# station.hetsrc.RF.power(-70)\n",
    "\n",
    "# cur_plunger = dac_leftplunger()\n",
    "\n",
    "# so = ss.measure_soft_gate_sweep(\n",
    "#     np.arange(cur_plunger, cur_plunger+5, 0.1), dac_cutter,\n",
    "#     integration_time=10e-3, setup=True,\n",
    "# )\n",
    "\n",
    "# station.TWPA.on()\n",
    "# result = do_experiment(f\"soft_sweep_gate/{SAMPLE}\", so, live_plot=True)\n",
    "# station.TWPA.off()"
   ]
  },
  {
   "cell_type": "markdown",
   "metadata": {},
   "source": [
    "### Fixed frequency scans (view each point)"
   ]
  },
  {
   "cell_type": "code",
   "execution_count": null,
   "metadata": {
    "ExecuteTime": {
     "end_time": "2018-11-01T17:03:05.689118Z",
     "start_time": "2018-11-01T17:03:05.684131Z"
    }
   },
   "outputs": [],
   "source": [
    "station.TWPA.frequency()"
   ]
  },
  {
   "cell_type": "code",
   "execution_count": null,
   "metadata": {
    "ExecuteTime": {
     "end_time": "2018-11-01T20:26:31.313637Z",
     "start_time": "2018-11-01T20:26:31.277627Z"
    }
   },
   "outputs": [],
   "source": [
    "%%time\n",
    "#Fixed frequency scan if you want to see each point individually\n",
    "\n",
    "station.hetsrc.frequency(5.31347e9+4e6)\n",
    "cur_plunger = dac_leftplunger()\n",
    "cur_cutter = dac_cutter()\n",
    "cutter_vals = np.arange(300,1500.,5)\n",
    "plunger_vals = np.arange(-300,100.,10)\n",
    "\n",
    "\n",
    "setup_single_averaged_IQpoint(0.1e-3, 30e-3, setup_awg=True)\n",
    "so = sweep(dac_cutter, cutter_vals)(sweep(set_plungers, plunger_vals)(\n",
    "    measure(get_single_averaged_IQpoint_chanA),\n",
    "))\n",
    "\n",
    "station.TWPA.on()\n",
    "result = do_experiment(f\"fixed_frequency/{SAMPLE}\", so, live_plot=True)\n",
    "station.TWPA.off()"
   ]
  },
  {
   "cell_type": "markdown",
   "metadata": {},
   "source": [
    "### Fixed frequency scan (only see 1d, faster)"
   ]
  },
  {
   "cell_type": "code",
   "execution_count": null,
   "metadata": {
    "ExecuteTime": {
     "end_time": "2018-11-04T09:31:31.128724Z",
     "start_time": "2018-11-03T09:59:43.049986Z"
    }
   },
   "outputs": [],
   "source": [
    "%%time\n",
    "#Fast Fixed frequency scan if not seeing each 1d line is ok with you\n",
    "\n",
    "station.hetsrc.frequency(5.305e9+4e6)\n",
    "cur_plunger = dac_leftplunger()\n",
    "cur_cutter = dac_cutter()\n",
    "cutter_vals = np.arange(300,2000.,2.5)[::-1]\n",
    "plunger_vals = np.arange(-2000,200.,5)\n",
    "\n",
    "\n",
    "ss.setup_soft_sweep(plunger_vals, set_plungers, time_bin=0.2e-3, integration_time=20e-3, setup_awg=True, ctl=None)\n",
    "so = sweep(dac_cutter, cutter_vals)(ss.measure_soft_gate_sweep(\n",
    "    plunger_vals, set_plungers,\n",
    "    integration_time=20e-3, setup=False))\n",
    "\n",
    "station.TWPA.on()\n",
    "result = do_experiment(f\"fixed_frequency/{SAMPLE}\", so, live_plot=True)\n",
    "station.TWPA.off()"
   ]
  },
  {
   "cell_type": "markdown",
   "metadata": {},
   "source": []
  },
  {
   "cell_type": "markdown",
   "metadata": {},
   "source": [
    "## Take full resonator scan vs gate"
   ]
  },
  {
   "cell_type": "markdown",
   "metadata": {},
   "source": [
    "### Vs cutter"
   ]
  },
  {
   "cell_type": "code",
   "execution_count": null,
   "metadata": {
    "ExecuteTime": {
     "end_time": "2018-11-07T10:35:58.104672Z",
     "start_time": "2018-11-07T10:35:58.076634Z"
    }
   },
   "outputs": [],
   "source": [
    "dac_cutter(1800.9)"
   ]
  },
  {
   "cell_type": "code",
   "execution_count": null,
   "metadata": {
    "ExecuteTime": {
     "end_time": "2018-11-07T15:19:38.819118Z",
     "start_time": "2018-11-07T15:19:23.121434Z"
    },
    "scrolled": false
   },
   "outputs": [],
   "source": [
    "cur_cutter = dac_cutter()\n",
    "station.hetsrc.RF.power(-65)\n",
    "spec_frequencies=np.linspace(5.295e9, 5.304e9, 81)\n",
    "spec_src=station.hetsrc\n",
    "\n",
    "ctl = ss.setup_soft_sweep(spec_frequencies, spec_src.frequency)\n",
    "\n",
    "#station.TWPA.on()\n",
    "so = sweep(dac_cutter, np.arange(cur_cutter, cur_cutter+50, 1))(\n",
    "    ss.measure_soft_time_avg_spec(spec_frequencies, spec_src, integration_time=30e-3)\n",
    ")\n",
    "\n",
    "result = do_experiment(f\"resonator_gate_response/{SAMPLE}\", so, live_plot=True)\n",
    "station.TWPA.off()"
   ]
  },
  {
   "cell_type": "markdown",
   "metadata": {},
   "source": [
    "### Vs plungers"
   ]
  },
  {
   "cell_type": "code",
   "execution_count": null,
   "metadata": {
    "ExecuteTime": {
     "end_time": "2018-10-25T13:29:47.197953Z",
     "start_time": "2018-10-25T13:20:01.390762Z"
    }
   },
   "outputs": [],
   "source": [
    "cur_plunger = dac_leftplunger()\n",
    "station.hetsrc.RF.power(-70)\n",
    "spec_frequencies=np.linspace(5.305e9, 5.32e9, 151)\n",
    "spec_src=station.hetsrc\n",
    "\n",
    "ctl = ss.setup_soft_time_avg_spec(spec_frequencies, spec_src)\n",
    "\n",
    "station.TWPA.on()\n",
    "so = sweep(set_plungers, np.arange(cur_plunger,-250.0,-1))(\n",
    "    ss.measure_soft_time_avg_spec(spec_frequencies, spec_src)\n",
    ")\n",
    "\n",
    "result = do_experiment(f\"resonator_gate_response/{SAMPLE}\", so, live_plot=True)\n",
    "station.TWPA.off()"
   ]
  },
  {
   "cell_type": "code",
   "execution_count": null,
   "metadata": {},
   "outputs": [],
   "source": []
  },
  {
   "cell_type": "code",
   "execution_count": null,
   "metadata": {},
   "outputs": [],
   "source": []
  },
  {
   "cell_type": "code",
   "execution_count": null,
   "metadata": {},
   "outputs": [],
   "source": []
  },
  {
   "cell_type": "markdown",
   "metadata": {},
   "source": [
    "# Qubit spec"
   ]
  },
  {
   "cell_type": "markdown",
   "metadata": {},
   "source": [
    "## Spec vs power"
   ]
  },
  {
   "cell_type": "code",
   "execution_count": null,
   "metadata": {
    "ExecuteTime": {
     "end_time": "2018-11-07T10:41:24.568248Z",
     "start_time": "2018-11-07T10:39:30.343010Z"
    }
   },
   "outputs": [],
   "source": [
    "station = qcodes.Station.default #spec at one power\n",
    "station.hetsrc.RF.power(-65)\n",
    "station.hetsrc.frequency(5.2992e9)\n",
    "station.qubsrc.power(-15)\n",
    "qubit_frequencies = np.arange(6e9, 7.5e9, 2e6)\n",
    "spec_src=station.qubsrc\n",
    "\n",
    "ctl = ss.setup_soft_sweep(qubit_frequencies, spec_src.frequency)\n",
    "\n",
    "#station.TWPA.on()\n",
    "spec_src.output_rf('ON')\n",
    "so = ss.measure_soft_time_avg_spec(qubit_frequencies, spec_src, integration_time=30e-3, setup=True)\n",
    "\n",
    "result = do_experiment(f'qubit_spec/{SAMPLE}', so, live_plot=True)\n",
    "station.TWPA.off()"
   ]
  },
  {
   "cell_type": "code",
   "execution_count": null,
   "metadata": {
    "ExecuteTime": {
     "end_time": "2018-11-07T10:51:17.624793Z",
     "start_time": "2018-11-07T10:49:25.905788Z"
    }
   },
   "outputs": [],
   "source": [
    "station = qcodes.Station.default ##spec vs power\n",
    "station.hetsrc.RF.power(-60)\n",
    "station.hetsrc.frequency(5.2992e9)\n",
    "station.qubsrc.power(-15)\n",
    "qubit_frequencies = np.arange(6e9, 7.2e9, 15e6)\n",
    "qubit_powers = np.linspace(-25,-10,4)\n",
    "spec_src=station.qubsrc\n",
    "\n",
    "ctl = ss.setup_soft_sweep(qubit_frequencies, spec_src.frequency)\n",
    "\n",
    "#station.TWPA.on()\n",
    "spec_src.output_rf('ON')\n",
    "so = sweep(station.qubsrc.power,qubit_powers)(\n",
    "    ss.measure_soft_time_avg_spec(qubit_frequencies, spec_src, integration_time=100e-3))\n",
    "\n",
    "result = do_experiment(f'qubit_spec_vs_power/{SAMPLE}', so, live_plot=True)\n",
    "#station.TWPA.off()"
   ]
  },
  {
   "cell_type": "markdown",
   "metadata": {},
   "source": [
    "## Spec vs gates"
   ]
  },
  {
   "cell_type": "markdown",
   "metadata": {},
   "source": [
    "### Coarse scans (requiring resonator frequency change)"
   ]
  },
  {
   "cell_type": "code",
   "execution_count": null,
   "metadata": {
    "ExecuteTime": {
     "end_time": "2018-11-07T15:50:09.253987Z",
     "start_time": "2018-11-07T15:20:29.873876Z"
    }
   },
   "outputs": [],
   "source": [
    "station = qcodes.Station.default\n",
    "station.hetsrc.RF.power(-60)\n",
    "station.qubsrc.power(-10)\n",
    "het_freqs = np.arange(5.295e9,5.304e9,0.5e6)\n",
    "qub_freqs = np.arange(6.2e9, 8.0e9, 8e6)\n",
    "cur_cutter = dac_cutter()\n",
    "cutter_voltages = np.arange(cur_cutter, cur_cutter+10, 0.2)\n",
    "\n",
    "ctl = ss.setup_soft_sweep(het_freqs, station.hetsrc.frequency, integration_time=30e-3)\n",
    "so = sweep(dac_cutter, cutter_voltages)(\n",
    "    measure_qubit_spec_optimize_resonator(het_freqs, station.hetsrc, \n",
    "                                           qub_freqs, station.qubsrc, integration_time=30e-3)) \n",
    "\n",
    "#note that the two integration times must match!!\n",
    "\n",
    "result = do_experiment(f'optimizedqubit_spec/{SAMPLE}', so, live_plot=True)"
   ]
  },
  {
   "cell_type": "code",
   "execution_count": null,
   "metadata": {
    "ExecuteTime": {
     "end_time": "2018-11-08T01:11:26.006190Z",
     "start_time": "2018-11-07T17:14:53.112045Z"
    }
   },
   "outputs": [],
   "source": [
    "station = qcodes.Station.default\n",
    "station.hetsrc.RF.power(-60)\n",
    "station.qubsrc.power(-10)\n",
    "het_freqs = np.arange(5.295e9,5.304e9,0.5e6)\n",
    "qub_freqs = np.arange(6.2e9, 8.0e9, 8e6)\n",
    "cur_plunger = dac_leftplunger()\n",
    "plunger_voltages = np.arange(cur_plunger, cur_plunger+160, 0.2)\n",
    "\n",
    "ctl = ss.setup_soft_sweep(het_freqs, station.hetsrc.frequency, integration_time=30e-3)\n",
    "so = sweep(set_plungers, plunger_voltages)(\n",
    "    measure_qubit_spec_optimize_resonator(het_freqs, station.hetsrc, \n",
    "                                           qub_freqs, station.qubsrc, integration_time=30e-3)) \n",
    "\n",
    "#note that the two integration times must match!!\n",
    "\n",
    "result = do_experiment(f'optimizedqubit_spec/{SAMPLE}', so, live_plot=True)"
   ]
  },
  {
   "cell_type": "markdown",
   "metadata": {},
   "source": [
    "### Fine scans (resonator does not change)"
   ]
  },
  {
   "cell_type": "code",
   "execution_count": null,
   "metadata": {
    "ExecuteTime": {
     "end_time": "2018-11-07T11:17:16.842794Z",
     "start_time": "2018-11-07T11:10:13.788236Z"
    }
   },
   "outputs": [],
   "source": [
    "station = qcodes.Station.default #charge dispersions\n",
    "station.hetsrc.RF.power(-60)\n",
    "station.hetsrc.frequency(5.2992e9)\n",
    "station.qubsrc.power(-15)\n",
    "qubit_frequencies = np.arange(6.0e9, 7.0e9, 5e6)\n",
    "# cur_plunger = dac_leftplunger_fine()\n",
    "plunger_voltages = np.arange(0., 60., 2)\n",
    "spec_src=station.qubsrc\n",
    "\n",
    "ctl = ss.setup_soft_sweep(qubit_frequencies, spec_src.frequency, integration_time=30e-3)\n",
    "\n",
    "station.TWPA.off()\n",
    "spec_src.output_rf('ON')\n",
    "so = sweep(dac_leftplunger_fine, plunger_voltages)(\n",
    "    ss.measure_soft_time_avg_spec(qubit_frequencies, spec_src, setup=False))\n",
    "\n",
    "result = do_experiment(f'charge_dispersions/{SAMPLE}', so, live_plot=True)\n",
    "#station.TWPA.off()"
   ]
  },
  {
   "cell_type": "code",
   "execution_count": null,
   "metadata": {
    "ExecuteTime": {
     "end_time": "2018-11-07T11:50:02.560902Z",
     "start_time": "2018-11-07T11:23:16.520048Z"
    }
   },
   "outputs": [],
   "source": [
    "station = qcodes.Station.default #charge dispersions with phase information\n",
    "station.hetsrc.RF.power(-60)\n",
    "station.hetsrc.frequency(5.2992e9)\n",
    "station.qubsrc.power(-15)\n",
    "qubit_frequencies = np.arange(6.0e9, 7.0e9, 5e6)\n",
    "cur_plunger = dac_leftplunger_fine()\n",
    "plunger_voltages = np.arange(0., 60., 2)\n",
    "spec_src=station.qubsrc\n",
    "\n",
    "ctl = ss.setup_single_averaged_IQpoint(0.2e-3, 30e-3, setup_awg=True)\n",
    "\n",
    "station.TWPA.off()\n",
    "spec_src.output_rf('ON')\n",
    "so = sweep(dac_leftplunger_fine, plunger_voltages)(sweep(station.qubsrc.frequency, qubit_frequencies)(\n",
    "    measure(ss.get_single_averaged_IQpoint_chanA),\n",
    "))\n",
    "    \n",
    "result = do_experiment(f'charge_dispersions/{SAMPLE}', so, live_plot=True)"
   ]
  },
  {
   "cell_type": "code",
   "execution_count": null,
   "metadata": {
    "ExecuteTime": {
     "end_time": "2018-11-05T19:01:16.729281Z",
     "start_time": "2018-11-05T18:54:05.337837Z"
    }
   },
   "outputs": [],
   "source": [
    "res_powers = np.arange(-70,-45,5)\n",
    "spec_powers = np.arange(-30,-15,5)\n",
    "\n",
    "for res_power in res_powers:\n",
    "    for spec_power in spec_powers:\n",
    "        station = qcodes.Station.default ##spec vs cutter\n",
    "        station.hetsrc.RF.power(res_power)\n",
    "        station.hetsrc.frequency(5.30e9)\n",
    "        station.qubsrc.power(spec_power)\n",
    "        qubit_frequencies = np.arange(6.0e9, 7.2e9, 10e6)\n",
    "        cur_plunger = dac_leftplunger_fine()\n",
    "        plunger_voltages = np.arange(cur_plunger, cur_plunger+60, 2)\n",
    "        spec_src=station.qubsrc\n",
    "\n",
    "        ctl = ss.setup_soft_sweep(qubit_frequencies, spec_src.frequency, integration_time=30e-3)\n",
    "\n",
    "        station.TWPA.off()\n",
    "        spec_src.output_rf('ON')\n",
    "        so = sweep(dac_leftplunger_fine, plunger_voltages)(\n",
    "            ss.measure_soft_time_avg_spec(qubit_frequencies, spec_src, setup=False))\n",
    "\n",
    "        result = do_experiment(f'charge_dispersions/{SAMPLE}', so, live_plot=True)\n",
    "        #station.TWPA.off()"
   ]
  },
  {
   "cell_type": "code",
   "execution_count": null,
   "metadata": {
    "ExecuteTime": {
     "end_time": "2018-10-26T17:27:17.490434Z",
     "start_time": "2018-10-26T17:26:33.149232Z"
    }
   },
   "outputs": [],
   "source": []
  },
  {
   "cell_type": "markdown",
   "metadata": {},
   "source": [
    "# Magnetic Field Sweeps"
   ]
  },
  {
   "cell_type": "markdown",
   "metadata": {},
   "source": [
    "## TESTING UNDER DEVELOPMENT DO NOT USE UNLESS YOU ARE SURE"
   ]
  },
  {
   "cell_type": "code",
   "execution_count": null,
   "metadata": {},
   "outputs": [],
   "source": [
    "station.mgnt.theta_target(0.0)\n",
    "station.mgnt.phi_target(0)"
   ]
  },
  {
   "cell_type": "code",
   "execution_count": null,
   "metadata": {
    "ExecuteTime": {
     "end_time": "2018-11-02T11:43:03.705451Z",
     "start_time": "2018-11-02T11:43:03.605380Z"
    }
   },
   "outputs": [],
   "source": [
    "print('Measured field = ' + station.mgnt.field_measured().repr_spherical())\n",
    "#print('Measured field = ' + station.mgnt.field_measured().repr_cartesian())\n",
    "print('Target field = ' + station.mgnt.field_target().repr_spherical())\n",
    "#print('Target field = ' + station.mgnt.field_target().repr_cartesian())"
   ]
  },
  {
   "cell_type": "markdown",
   "metadata": {},
   "source": [
    "### Get resonator trace and plot"
   ]
  },
  {
   "cell_type": "code",
   "execution_count": null,
   "metadata": {
    "ExecuteTime": {
     "end_time": "2018-11-08T09:03:14.565689Z",
     "start_time": "2018-11-08T09:03:14.559685Z"
    }
   },
   "outputs": [],
   "source": [
    "\n",
    "\n",
    "\n",
    "#ctl = ss.setup_soft_sweep(het_freqs, station.hetsrc.frequency, integration_time=30e-3)\n",
    "#testout = get_resonator_spec_and_fit(het_freqs)\n",
    "#testout.params['center'].value, testout.params['center'].stderr\n"
   ]
  },
  {
   "cell_type": "markdown",
   "metadata": {},
   "source": [
    "## Manual Magnet Sweeps"
   ]
  },
  {
   "cell_type": "code",
   "execution_count": null,
   "metadata": {
    "ExecuteTime": {
     "end_time": "2018-11-02T11:43:10.416953Z",
     "start_time": "2018-11-02T11:43:10.359911Z"
    }
   },
   "outputs": [],
   "source": [
    "station.mgnt.r_measured()"
   ]
  },
  {
   "cell_type": "code",
   "execution_count": null,
   "metadata": {
    "ExecuteTime": {
     "end_time": "2018-11-08T11:48:15.556358Z",
     "start_time": "2018-11-08T11:42:16.363184Z"
    }
   },
   "outputs": [],
   "source": [
    "#station.mgnt.field_ramp_rate(FieldVector(x=1e-3, y=1e-3, z=1e-3)) ##sweep r\n",
    "\n",
    "\n",
    "cur_r = station.mgnt.r_measured()\n",
    "station.hetsrc.RF.power(-30)\n",
    "spec_frequencies=np.arange(5.293e9, 5.315e9, 0.5e6)\n",
    "spec_src=station.hetsrc\n",
    "\n",
    "ctl = ss.setup_soft_sweep(spec_frequencies, spec_src.frequency, integration_time=30e-3)\n",
    "\n",
    "station.TWPA.on()\n",
    "so = sweep(set_magnet_r, np.arange(cur_r,0., -20e-3))(\n",
    "    ss.measure_soft_time_avg_spec(spec_frequencies, spec_src.frequency, setup=False)\n",
    ")\n",
    "\n",
    "result = do_experiment(f\"resonator_magnet_r/{SAMPLE}\", so, live_plot=True)\n",
    "station.TWPA.off()\n",
    "\n"
   ]
  },
  {
   "cell_type": "code",
   "execution_count": null,
   "metadata": {
    "ExecuteTime": {
     "end_time": "2018-11-08T11:37:10.630332Z",
     "start_time": "2018-11-08T11:37:04.335Z"
    }
   },
   "outputs": [],
   "source": [
    "station.mgnt.theta_measured()"
   ]
  },
  {
   "cell_type": "code",
   "execution_count": null,
   "metadata": {
    "ExecuteTime": {
     "end_time": "2018-11-08T11:42:10.110132Z",
     "start_time": "2018-11-08T11:41:15.635861Z"
    }
   },
   "outputs": [],
   "source": [
    "cur_theta = station.mgnt.theta_measured() ##sweep theta\n",
    "station.hetsrc.RF.power(-70)\n",
    "spec_frequencies=np.arange(5.290e9, 5.315e9, 0.5e6)\n",
    "spec_src=station.hetsrc\n",
    "\n",
    "ctl = ss.setup_soft_sweep(spec_frequencies, spec_src.frequency, integration_time=30e-3)\n",
    "\n",
    "station.TWPA.on()\n",
    "so = sweep(set_magnet_theta, np.arange(cur_theta,cur_theta+0.1, 0.005))(\n",
    "    ss.measure_soft_time_avg_spec(spec_frequencies, spec_src.frequency, setup=False)\n",
    ")\n",
    "\n",
    "result = do_experiment(f\"resonator_magnet_theta/{SAMPLE}\", so, live_plot=True)\n",
    "station.TWPA.off()\n",
    "\n"
   ]
  },
  {
   "cell_type": "code",
   "execution_count": null,
   "metadata": {
    "ExecuteTime": {
     "end_time": "2018-11-02T14:13:28.509937Z",
     "start_time": "2018-11-02T14:13:28.303528Z"
    }
   },
   "outputs": [],
   "source": [
    "station.mgnt.r_measured() > 0.05"
   ]
  },
  {
   "cell_type": "code",
   "execution_count": null,
   "metadata": {
    "ExecuteTime": {
     "end_time": "2018-11-02T14:22:27.093790Z",
     "start_time": "2018-11-02T14:21:10.524941Z"
    }
   },
   "outputs": [],
   "source": [
    "if station.mgnt.r_measured() > 0.05:\n",
    "    cur_phi = station.mgnt.phi_measured() ##makes sure you don't get jumps\n",
    "else:\n",
    "    cur_phi = station.mgnt.phi_target() #makes sure phi doesn't change sign when it is not well defined\n",
    "station.hetsrc.RF.power(-70)\n",
    "spec_frequencies=np.arange(5.295e9, 5.315e9, 0.5e6)\n",
    "spec_src=station.hetsrc\n",
    "\n",
    "ctl = ss.setup_soft_sweep(spec_frequencies, spec_src, integration_time=30e-3)\n",
    "\n",
    "station.TWPA.on()\n",
    "so = sweep(set_magnet_phi, np.arange(cur_phi,cur_phi-4, -0.6))(\n",
    "    ss.measure_soft_time_avg_spec(spec_frequencies, spec_src, setup=False)\n",
    ")\n",
    "\n",
    "result = do_experiment(f\"resonator_magnet_phi/{SAMPLE}\", so, live_plot=True)\n",
    "station.TWPA.off()\n",
    "\n"
   ]
  },
  {
   "cell_type": "markdown",
   "metadata": {
    "ExecuteTime": {
     "end_time": "2018-11-01T12:33:25.214315Z",
     "start_time": "2018-11-01T12:33:25.212314Z"
    }
   },
   "source": [
    "## Automated Magnet Sweeps"
   ]
  },
  {
   "cell_type": "code",
   "execution_count": null,
   "metadata": {
    "ExecuteTime": {
     "end_time": "2018-11-07T17:12:31.730505Z",
     "start_time": "2018-11-07T17:12:31.728521Z"
    }
   },
   "outputs": [],
   "source": [
    "from pytopo.field_optimization.movement import FieldOptimizationProblem ##optimize at fixed mag"
   ]
  },
  {
   "cell_type": "code",
   "execution_count": null,
   "metadata": {
    "ExecuteTime": {
     "end_time": "2018-11-01T15:24:32.533471Z",
     "start_time": "2018-11-01T15:20:19.087052Z"
    }
   },
   "outputs": [],
   "source": [
    "from pytopo.field_optimization.movement import FieldOptimizationProblem ##optimize at fixed mag\n",
    "\n",
    "\n",
    "xvals = np.arange(5.29e9,5.32e9,0.5e6)\n",
    "    \n",
    "fig = plt.figure()\n",
    "ax = fig.add_subplot(111)\n",
    "ax.set_xlabel('X values')\n",
    "ax.set_ylabel('Y values')\n",
    "line = ax.plot(xvals, np.zeros_like(xvals), '.-')[0]\n",
    "\n",
    "ctl = ss.setup_soft_sweep(xvals, station.hetsrc.frequency, integration_time=30e-3)\n",
    "\n",
    "# now we wrap the measure function such that it doesn't need arguments anymore\n",
    "# of course this requires that we have already good constant values for ax and line\n",
    "measure_trace = partial(measure_and_plot_resonator, ax, line)\n",
    "\n",
    "# now we just have to call the new function wrapper without arguments\n",
    "\n",
    "\n",
    "field_opt = FieldOptimizationProblem(station.mgnt, measure_trace, get_resonator_FWHM)\n",
    "\n",
    "\n",
    "\n",
    "cur_r = station.mgnt.r_target()\n",
    "cur_theta = station.mgnt.theta_target()\n",
    "cur_phi = station.mgnt.phi_target()\n",
    "\n",
    "with station.TWPA():\n",
    "    opt, extra = field_opt.optimize_at_fixed_magnitude(\n",
    "        cur_r, (cur_phi-3, cur_phi+3), 2,(cur_theta-0.1, cur_theta+0.1), 2,\n",
    "        plot=True, return_extra=True, verbose=True, ramp_rate=1e-3, n_steps=3\n",
    "    )\n",
    "# station.TWPA.off()"
   ]
  },
  {
   "cell_type": "code",
   "execution_count": null,
   "metadata": {
    "ExecuteTime": {
     "end_time": "2018-11-02T11:52:13.287565Z",
     "start_time": "2018-11-02T11:52:13.283563Z"
    }
   },
   "outputs": [],
   "source": [
    "0.4/50/2*1e3"
   ]
  },
  {
   "cell_type": "code",
   "execution_count": null,
   "metadata": {
    "ExecuteTime": {
     "end_time": "2018-11-08T11:04:54.803146Z",
     "start_time": "2018-11-08T09:04:57.599223Z"
    },
    "scrolled": false
   },
   "outputs": [],
   "source": [
    "station.RF.power(-30)\n",
    "xvals = np.arange(5.285e9,5.317e9,0.4e6)\n",
    "    \n",
    "fig = plt.figure()\n",
    "ax = fig.add_subplot(111)\n",
    "ax.set_xlabel('X values')\n",
    "ax.set_ylabel('Y values')\n",
    "line = ax.plot(xvals, np.zeros_like(xvals), '.-')[0]\n",
    "\n",
    "ctl = ss.setup_soft_sweep(xvals, station.hetsrc.frequency, integration_time=30e-3)\n",
    "\n",
    "# now we wrap the measure function such that it doesn't need arguments anymore\n",
    "# of course this requires that we have already good constant values for ax and line\n",
    "measure_trace = partial(measure_and_plot_resonator, ax, line)\n",
    "\n",
    "# now we just have to call the new function wrapper without arguments\n",
    "\n",
    "\n",
    "field_opt = FieldOptimizationProblem(station.mgnt, measure_trace, get_resonator_FWHM)\n",
    "\n",
    "\n",
    "\n",
    "cur_r = station.mgnt.r_measured()\n",
    "cur_theta = station.mgnt.theta_measured()\n",
    "cur_phi = station.mgnt.phi_measured()\n",
    "0.005\n",
    "\n",
    "#with station.TWPA():\n",
    "optimum, extra = field_opt.optimize_and_ramp_magnitude(\n",
    "    cur_r, 1e-3, 200,\n",
    "    cur_phi, 0, 1,\n",
    "    cur_theta, 0.01, 5,\n",
    "    reoptimization_threshold=4.5,\n",
    "    ramp_rate=3e-3,\n",
    "    n_steps=5,\n",
    "    return_extra=True\n",
    "    )\n",
    "\n",
    "# station.TWPA.off()"
   ]
  },
  {
   "cell_type": "code",
   "execution_count": null,
   "metadata": {
    "ExecuteTime": {
     "end_time": "2018-11-02T13:48:34.559065Z",
     "start_time": "2018-11-02T13:48:34.472003Z"
    }
   },
   "outputs": [],
   "source": [
    "plt.figure()\n",
    "plt.plot(\n",
    "    [field.phi for field in extra['history']['optima']],\n",
    "    [field.theta for field in extra['history']['optima']],\n",
    "    zorder=-10\n",
    ")\n",
    "plt.scatter(\n",
    "    [field.phi for field in extra['history']['optima']],\n",
    "    [field.theta for field in extra['history']['optima']],\n",
    "    c=[field.r for field in extra['history']['optima']]\n",
    ")\n",
    "plt.colorbar()"
   ]
  },
  {
   "cell_type": "code",
   "execution_count": null,
   "metadata": {
    "ExecuteTime": {
     "end_time": "2018-11-02T13:49:00.805914Z",
     "start_time": "2018-11-02T13:49:00.779954Z"
    }
   },
   "outputs": [],
   "source": [
    "plt.figure()\n",
    "plt.plot(extra['history']['objectives'])"
   ]
  },
  {
   "cell_type": "markdown",
   "metadata": {
    "heading_collapsed": true
   },
   "source": [
    "# OLD STUFF BELOW - ONLY REFERENCE"
   ]
  },
  {
   "cell_type": "code",
   "execution_count": null,
   "metadata": {
    "hidden": true,
    "scrolled": false
   },
   "outputs": [],
   "source": [
    "frqs, data = soft_resonator_spec(5.6e9, 5.7e9, 1e6, RF_power=-70)"
   ]
  },
  {
   "cell_type": "markdown",
   "metadata": {
    "heading_collapsed": true,
    "hidden": true
   },
   "source": [
    "## Resonator vs time"
   ]
  },
  {
   "cell_type": "code",
   "execution_count": null,
   "metadata": {
    "hidden": true
   },
   "outputs": [],
   "source": [
    "start, stop, step = 5.6e9, 5.7e9, 2e6\n",
    "integration_time = 10e-3\n",
    "trigger_interval = 1e-3\n",
    "\n",
    "exp = new_experiment(name='resonator_spec_vs_time', sample_name=qc.config.user.experiment.sample_name)\n",
    "\n",
    "# set basic RF stuff\n",
    "station.hetsrc.RF.power(-70)\n",
    "\n",
    "ctl = station.post_iq_acq\n",
    "ctl.average_buffers(True)\n",
    "ctl.demod_frq(station.hetsrc.IF())\n",
    "\n",
    "SR = station.alazar.sample_rate()\n",
    "t_buf = trigger_interval - 10e-6\n",
    "nbufs = int(integration_time // trigger_interval)\n",
    "\n",
    "acq_size = 2 * integration_time * SR * 1e-6 # in MB\n",
    "buf_size = 2 * t_buf * SR * 1e-6\n",
    "print(f'acquisition size: {acq_size} MB; {buf_size} MB/buffer.')  \n",
    "print(f'acquisition time/buffer: {t_buf*1e6} us; {nbufs} buffers.')\n",
    "\n",
    "ctl.setup_acquisition(\n",
    "    samples=int(t_buf * SR // 64 * 64),\n",
    "    records=1,\n",
    "    buffers=nbufs,\n",
    "    allocated_buffers=10,\n",
    ")\n",
    "\n",
    "tvals = np.arange(100)\n",
    "frqs = np.arange(start, stop+step, step)\n",
    "data = np.zeros((frqs.size, 2), dtype=np.complex64)\n",
    "\n",
    "m = acquisition_tools.AlazarMeasurement(\n",
    "    station=station, exp=exp, \n",
    "    soft_params=['iteration', station.hetsrc.frequency],\n",
    "    hard_axes=[\n",
    "        ('channel', np.array([1,2])),\n",
    "    ],\n",
    "    imag=False, real=False, mag=True, phase=True,\n",
    ")\n",
    "\n",
    "with m.run() as datasaver:\n",
    "\n",
    "    datasaver.dataset.subscribe(\n",
    "        QcodesDatasetSubscriber(datasaver.dataset), \n",
    "        state=[], min_wait=0, min_count=1,\n",
    "    )\n",
    "\n",
    "    for j, it in enumerate(tvals):\n",
    "        for i, f in enumerate(frqs):\n",
    "            print(f'Current iteration: {it}. Current frequency: {f*1e-6:.2f} MHz', end='\\r')\n",
    "            station.hetsrc.frequency(f)\n",
    "            time.sleep(0.01)\n",
    "\n",
    "            _data = ctl.acquisition()[0,0,0,:]\n",
    "            data[i,:] = _data\n",
    "            mag, phase = np.abs(_data), np.angle(_data, deg=True)\n",
    "\n",
    "            result = m.get_result(_data, (station.hetsrc.frequency, f), ('iteration', it))\n",
    "            datasaver.add_result(*result)"
   ]
  },
  {
   "cell_type": "markdown",
   "metadata": {
    "heading_collapsed": true
   },
   "source": [
    "# Gate response"
   ]
  },
  {
   "cell_type": "code",
   "execution_count": null,
   "metadata": {
    "hidden": true
   },
   "outputs": [],
   "source": [
    "station.hetsrc.frequency(5.647e9)\n",
    "station.hetsrc.RF.power(-70)\n",
    "SR = station.alazar.sample_rate()\n",
    "dac = station.ivvi.dac1\n",
    "dacl = station.ivvi.dac11\n",
    "dacr = station.ivvi.dac13\n",
    "\n",
    "station = qc.Station.default\n",
    "exp = new_experiment(name='gate_response', sample_name=qc.config.user.experiment.sample_name)\n",
    "\n",
    "ctl = station.post_iq_acq\n",
    "ctl.average_buffers(True)\n",
    "ctl.demod_frq(station.hetsrc.IF())\n",
    "\n",
    "ctl.setup_acquisition(\n",
    "        samples=int(980e-6 * SR // 64 * 64),\n",
    "        records=1,\n",
    "        buffers=10,\n",
    "        allocated_buffers=10,\n",
    "    )\n",
    "\n",
    "gatevals = np.arange(0, 1000, 0.5)\n",
    "\n",
    "m = acquisition_tools.AlazarMeasurement(\n",
    "        station=station, exp=exp, \n",
    "        soft_params=[dacl],\n",
    "        hard_axes=[\n",
    "            ('channel', np.array([1,2])),\n",
    "        ],\n",
    "        imag=False, real=False, mag=True, phase=True,\n",
    "    )\n",
    "\n",
    "with m.run() as datasaver:\n",
    "        \n",
    "    datasaver.dataset.subscribe(\n",
    "        QcodesDatasetSubscriber(datasaver.dataset), \n",
    "        state=[], min_wait=0, min_count=1,\n",
    "    )\n",
    "\n",
    "    for i, g in enumerate(gatevals):\n",
    "        print(f'Current gate voltage: {g} mV', end='\\r')\n",
    "        dacl(int(g))\n",
    "        dacr(int(g))\n",
    "        dac(int(g))\n",
    "\n",
    "        _data = ctl.acquisition()[0,0,0,:]\n",
    "        mag, phase = np.abs(_data), np.angle(_data, deg=True)\n",
    "\n",
    "        result = m.get_result(_data, (dacl, g))\n",
    "        datasaver.add_result(*result)"
   ]
  },
  {
   "cell_type": "code",
   "execution_count": null,
   "metadata": {
    "hidden": true
   },
   "outputs": [],
   "source": []
  },
  {
   "cell_type": "markdown",
   "metadata": {},
   "source": [
    "# Qubit spec"
   ]
  },
  {
   "cell_type": "code",
   "execution_count": null,
   "metadata": {},
   "outputs": [],
   "source": []
  },
  {
   "cell_type": "markdown",
   "metadata": {},
   "source": [
    "# Scribble"
   ]
  },
  {
   "cell_type": "code",
   "execution_count": null,
   "metadata": {},
   "outputs": [],
   "source": []
  },
  {
   "cell_type": "code",
   "execution_count": null,
   "metadata": {
    "ExecuteTime": {
     "end_time": "2018-10-26T12:13:22.761287Z",
     "start_time": "2018-10-26T12:13:22.755300Z"
    }
   },
   "outputs": [],
   "source": [
    "f\"{123456:1.3e}\""
   ]
  },
  {
   "cell_type": "code",
   "execution_count": null,
   "metadata": {},
   "outputs": [],
   "source": []
  }
 ],
 "metadata": {
  "kernelspec": {
   "display_name": "Python 3",
   "language": "python",
   "name": "python3"
  },
  "language_info": {
   "codemirror_mode": {
    "name": "ipython",
    "version": 3
   },
   "file_extension": ".py",
   "mimetype": "text/x-python",
   "name": "python",
   "nbconvert_exporter": "python",
   "pygments_lexer": "ipython3",
   "version": "3.6.6"
  },
  "toc": {
   "base_numbering": 1,
   "nav_menu": {},
   "number_sections": true,
   "sideBar": true,
   "skip_h1_title": false,
   "title_cell": "Table of Contents",
   "title_sidebar": "Contents",
   "toc_cell": false,
   "toc_position": {
    "height": "calc(100% - 180px)",
    "left": "10px",
    "top": "150px",
    "width": "324.766px"
   },
   "toc_section_display": true,
   "toc_window_display": true
  }
 },
 "nbformat": 4,
 "nbformat_minor": 2
}

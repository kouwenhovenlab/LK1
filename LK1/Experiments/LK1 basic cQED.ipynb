{
 "cells": [
  {
   "cell_type": "code",
   "execution_count": 1,
   "metadata": {
    "ExecuteTime": {
     "end_time": "2018-11-26T08:56:07.157950Z",
     "start_time": "2018-11-26T08:55:57.382259Z"
    }
   },
   "outputs": [],
   "source": [
    "%matplotlib notebook\n",
    "\n",
    "import logging\n",
    "import time\n",
    "from importlib import reload\n",
    "\n",
    "from matplotlib import pyplot as plt\n",
    "from matplotlib import colors, cm\n",
    "import numpy as np\n",
    "\n",
    "import qcodes\n",
    "import qcodes as qc\n",
    "from qcodes.instrument.parameter import Parameter\n",
    "from qcodes.dataset.measurements import Measurement\n",
    "from qcodes.dataset.experiment_container import new_experiment"
   ]
  },
  {
   "cell_type": "code",
   "execution_count": 2,
   "metadata": {
    "ExecuteTime": {
     "end_time": "2018-11-26T08:56:07.162957Z",
     "start_time": "2018-11-26T08:56:07.158954Z"
    }
   },
   "outputs": [],
   "source": [
    "# %qtconsole"
   ]
  },
  {
   "cell_type": "markdown",
   "metadata": {},
   "source": [
    "# Custom imports"
   ]
  },
  {
   "cell_type": "code",
   "execution_count": 3,
   "metadata": {
    "ExecuteTime": {
     "end_time": "2018-11-26T08:56:09.140289Z",
     "start_time": "2018-11-26T08:56:07.163957Z"
    }
   },
   "outputs": [],
   "source": [
    "from pytopo.awg_sequencing import broadbean as bbtools; reload(bbtools)\n",
    "from pytopo.awg_sequencing import awg_tools; reload(awg_tools)\n",
    "from pytopo.rf.alazar import acquisition_tools; reload(acquisition_tools)\n",
    "from pytopo.rf.alazar import awg_sequences; reload(awg_sequences)\n",
    "from pytopo.rf.alazar import acquisition_controllers; reload(acquisition_controllers)\n",
    "\n",
    "from plottr import qcodes_dataset; reload(qcodes_dataset)\n",
    "from plottr.qcodes_dataset import QcodesDatasetSubscriber"
   ]
  },
  {
   "cell_type": "code",
   "execution_count": 4,
   "metadata": {
    "ExecuteTime": {
     "end_time": "2018-11-26T08:56:11.594930Z",
     "start_time": "2018-11-26T08:56:09.141774Z"
    }
   },
   "outputs": [],
   "source": [
    "from qcodes.instrument.parameter import Parameter\n",
    "from qcodes.dataset.plotting import plot_by_id\n",
    "from qcodes.dataset.data_export import get_data_by_id\n",
    "\n",
    "from pytopo.sweep.base import Nest, Chain \n",
    "from pytopo.sweep.decorators import getter, setter\n",
    "from pytopo.sweep import sweep, do_experiment, hardsweep, measure\n",
    "\n",
    "from qcodes.math.field_vector import FieldVector\n",
    "from pytopo.field_optimization.movement import FieldOptimizationProblem \n",
    "from pytopo.cQED import softwarespec as ss"
   ]
  },
  {
   "cell_type": "markdown",
   "metadata": {},
   "source": [
    "# Measurement functions"
   ]
  },
  {
   "cell_type": "markdown",
   "metadata": {},
   "source": [
    "## Qubit measurements"
   ]
  },
  {
   "cell_type": "code",
   "execution_count": 5,
   "metadata": {
    "ExecuteTime": {
     "end_time": "2018-11-26T08:56:11.602919Z",
     "start_time": "2018-11-26T08:56:11.596431Z"
    }
   },
   "outputs": [],
   "source": [
    "from lmfit.models import LorentzianModel\n",
    "def fit_lorentzian(x,y):\n",
    "    mod = LorentzianModel()\n",
    "\n",
    "    pars = mod.guess(y, x=x)\n",
    "    out = mod.fit(y, pars, x=x)\n",
    "    return out\n",
    "\n",
    "# xtest=np.arange(-100,100.,1)\n",
    "# ytest=1.0/np.pi*(2.0/((xtest-3)**2+2.0**2))\n",
    "\n",
    "# plt.plot(xtest,ytest,'.')\n",
    "# output=fit_lorentzian(xtest,ytest)\n",
    "# output.plot_fit()\n",
    "# output.best_values['sigma']\n",
    "# output.best_values['center']\n",
    "\n",
    "def get_resonator_spec_and_fit(frequencies):\n",
    "    mag, phase = ss.get_soft_sweep_trace()\n",
    "    out = fit_lorentzian(frequencies, mag**2)\n",
    "    return mag, phase, out\n",
    "\n",
    "@hardsweep(\n",
    "    ind=[('frequency', 'Hz', 'array')], \n",
    "    dep=[('signal_magnitude', 'V', 'array'), ('signal_phase', 'deg', 'array'), ('peak_frq', 'Hz', 'array')]\n",
    ")\n",
    "def measure_qubit_spec_optimize_resonator(resonator_frequencies, resonator_src, \n",
    "                                          qubit_frequencies, qubit_src, integration_time=10e-3,\n",
    "                                          *arg, **kw):\n",
    "    \"\"\"\n",
    "    Use the softspec controller to measure a software-controlled spectrum.\n",
    "    time_bin is the time per buffer, integration_time sets how many buffers we'll average per \n",
    "    frequency point.\n",
    "    \"\"\"    \n",
    "    ctl = ss.setup_soft_sweep(resonator_frequencies, resonator_src.frequency, \n",
    "                           integration_time=integration_time, setup_awg=False, **kw)\n",
    "    \n",
    "    _, _, fitout = get_resonator_spec_and_fit(resonator_frequencies)\n",
    "    peak_frequency = fitout.best_values['center']\n",
    "    resonator_src.frequency(peak_frequency)\n",
    "    print(f'Found resonator peak frequency: {peak_frequency:1.5e}')\n",
    "    \n",
    "    ctl = ss.setup_soft_sweep(qubit_frequencies, qubit_src.frequency, \n",
    "                           integration_time=integration_time, setup_awg=False, **kw)    \n",
    "    mag, phase = ss.get_soft_sweep_trace(ctl)\n",
    "       \n",
    "    \n",
    "    return (qubit_frequencies.reshape(-1), \n",
    "            np.vstack((mag.reshape(-1), phase.reshape(-1), np.ones(qubit_frequencies.size) * peak_frequency)))"
   ]
  },
  {
   "cell_type": "markdown",
   "metadata": {},
   "source": [
    "## Get resonator trace and plot"
   ]
  },
  {
   "cell_type": "code",
   "execution_count": 6,
   "metadata": {
    "ExecuteTime": {
     "end_time": "2018-11-26T08:56:11.626440Z",
     "start_time": "2018-11-26T08:56:11.604420Z"
    }
   },
   "outputs": [],
   "source": [
    "from functools import partial\n",
    "from qcodes.math.field_vector import FieldVector\n",
    "\n",
    "def get_resonator_freq(): #helper function to pass variables into resonator spec\n",
    "    global xvals\n",
    "    return get_resonator_spec_and_fit(xvals)\n",
    "\n",
    "def get_resonator_FWHM(): #helper function to pass variables into resonator spec\n",
    "    global xvals\n",
    "    _,_,fitout=get_resonator_spec_and_fit(xvals)\n",
    "    return 2*fitout.params['sigma'].value\n",
    "\n",
    "def measure_and_plot_resonator(ax, line): #plots the trace\n",
    "    liney, phasey, fitout = get_resonator_freq()\n",
    "    time.sleep(0.5)\n",
    "    \n",
    "    line.set_ydata(liney)\n",
    "    ax.relim()\n",
    "    ax.autoscale_view(True, True, True)\n",
    "    ax.get_figure().canvas.draw()\n",
    "    \n",
    "    return fitout.params['center'].value"
   ]
  },
  {
   "cell_type": "markdown",
   "metadata": {},
   "source": [
    "# Init"
   ]
  },
  {
   "cell_type": "markdown",
   "metadata": {},
   "source": [
    "## Configurables"
   ]
  },
  {
   "cell_type": "code",
   "execution_count": 7,
   "metadata": {
    "ExecuteTime": {
     "end_time": "2018-11-26T08:56:11.642451Z",
     "start_time": "2018-11-26T08:56:11.627441Z"
    }
   },
   "outputs": [],
   "source": [
    "SAMPLE = \"20170926_20nm_37_d2_CD20181017\""
   ]
  },
  {
   "cell_type": "markdown",
   "metadata": {},
   "source": [
    "## Initialize instruments"
   ]
  },
  {
   "cell_type": "code",
   "execution_count": 8,
   "metadata": {
    "ExecuteTime": {
     "end_time": "2018-11-26T08:56:16.234345Z",
     "start_time": "2018-11-26T08:56:11.644452Z"
    }
   },
   "outputs": [
    {
     "name": "stdout",
     "output_type": "stream",
     "text": [
      "Connected to: TEKTRONIX AWG5014C (serial:B010125, firmware:SCPI:99.0 FW:4.1.1.5) in 0.36s\n",
      "Connected to: Rohde&Schwarz SGS100A (serial:1416.0505k02/110435, firmware:3.1.19.15-3.50.124.67) in 0.05s\n",
      "Connected to: Rohde&Schwarz SGS100A (serial:1416.0505k02/110512, firmware:3.1.19.15-3.50.124.67) in 0.04s\n",
      "Connected to: Rohde&Schwarz SGS100A (serial:1416.0505k02/110869, firmware:3.1.19.26-3.50.124.73) in 0.06s\n",
      "Connected to: Rohde&Schwarz SGS100A (serial:1416.0505k02/110430, firmware:3.1.19.15-3.50.124.67) in 0.05s\n",
      "Connected to: OXFORD INSTRUMENTS MERCURY IPS (serial:124050266, firmware:2.6.04.000) in 0.11s\n"
     ]
    }
   ],
   "source": [
    "%run -i D:/OneDrive/Setups/LK1/LK1_code/Code/LK1/LK1/init_station_cqed.py"
   ]
  },
  {
   "cell_type": "code",
   "execution_count": 9,
   "metadata": {
    "ExecuteTime": {
     "end_time": "2018-11-26T08:56:16.314989Z",
     "start_time": "2018-11-26T08:56:16.235847Z"
    }
   },
   "outputs": [
    {
     "name": "stdout",
     "output_type": "stream",
     "text": [
      "Initialized IVVI-rack in 0.03s\n"
     ]
    }
   ],
   "source": [
    "from qcodes.instrument_drivers.QuTech.IVVI import IVVI\n",
    "ivvi = create_inst(IVVI, 'ivvi', address='ASRL1', numdacs=16, force_new_instance=True)\n",
    "add2station(station, ivvi)\n",
    "\n",
    "numdacs = int(ivvi._numdacs)\n",
    "for i in range(1, numdacs+1):\n",
    "    station.ivvi.parameters['dac{}'.format(i)].step = 10\n",
    "    station.ivvi.parameters['dac{}'.format(i)].post_delay = 0.001"
   ]
  },
  {
   "cell_type": "code",
   "execution_count": 10,
   "metadata": {
    "ExecuteTime": {
     "end_time": "2018-11-26T08:56:16.715301Z",
     "start_time": "2018-11-26T08:56:16.315990Z"
    }
   },
   "outputs": [
    {
     "data": {
      "text/plain": [
       "(5475000000.0, 5500000000.0, 7964000000.0)"
      ]
     },
     "execution_count": 10,
     "metadata": {},
     "output_type": "execute_result"
    }
   ],
   "source": [
    "with station.alazar.syncing():\n",
    "    station.alazar.channel_range1(0.4)\n",
    "    station.alazar.channel_range2(0.4)\n",
    "    if False:\n",
    "        station.alazar.clock_source('EXTERNAL_CLOCK_10MHz_REF')\n",
    "        station.alazar.external_sample_rate(int(5.0e8))\n",
    "    if False:\n",
    "        station.alazar.clock_source('INTERNAL_CLOCK')\n",
    "    station.alazar.sample_rate(int(2.0e8))\n",
    "    \n",
    "\n",
    "station.hetsrc.RF.pulsemod_state('Off')  \n",
    "station.hetsrc.RF.power(-65)\n",
    "station.hetsrc.IF(25e6)\n",
    "station.hetsrc.frequency(5.5e9)\n",
    "\n",
    "station.TWPA.power(7.0)\n",
    "station.TWPA.frequency(7.964e9)\n",
    "\n",
    "\n",
    "station.qubsrc.power(-50)\n",
    "station.qubsrc.frequency(6e9)\n",
    "\n",
    "station.LO.frequency(), station.RF.frequency(), station.TWPA.frequency()"
   ]
  },
  {
   "cell_type": "markdown",
   "metadata": {},
   "source": [
    "## Setting up Alazar acquisition controllers"
   ]
  },
  {
   "cell_type": "code",
   "execution_count": 11,
   "metadata": {
    "ExecuteTime": {
     "end_time": "2018-11-26T08:56:19.844545Z",
     "start_time": "2018-11-26T08:56:16.716785Z"
    }
   },
   "outputs": [
    {
     "name": "stdout",
     "output_type": "stream",
     "text": [
      "Allocating 500000000 elements (2000.0 MB, dtype: <class 'numpy.int32'>)\n",
      "Allocating 500000000 elements (2000.0 MB, dtype: <class 'numpy.int32'>)\n"
     ]
    }
   ],
   "source": [
    "# regular post-measurement IQ demod controller\n",
    "post_iq_acq = instools.create_inst(acquisition_controllers.PostIQCtl, \n",
    "                                   'post_iq_acq', 'alazar',\n",
    "                                   allocate_samples=5e8, \n",
    "                                   force_new_instance=True)\n",
    "add2station(station, post_iq_acq)\n",
    "post_iq_acq.demod_frq(2.5e7)\n",
    "\n",
    "# controller that can step frequencies during acquisition.\n",
    "softsweep_ctl = instools.create_inst(ss.SoftSweepCtl,\n",
    "                                     'softsweep_ctl', 'alazar',\n",
    "                                     allocate_samples=5e8, \n",
    "                                     force_new_instance=True)\n",
    "add2station(station, softsweep_ctl)\n",
    "softsweep_ctl.demod_frq(2.5e7)"
   ]
  },
  {
   "cell_type": "markdown",
   "metadata": {
    "ExecuteTime": {
     "end_time": "2018-11-21T14:14:28.905072Z",
     "start_time": "2018-11-21T14:14:28.902086Z"
    }
   },
   "source": [
    "## Raw Acquisition controller"
   ]
  },
  {
   "cell_type": "code",
   "execution_count": 12,
   "metadata": {
    "ExecuteTime": {
     "end_time": "2018-11-26T08:56:22.463510Z",
     "start_time": "2018-11-26T08:56:19.846046Z"
    }
   },
   "outputs": [
    {
     "name": "stdout",
     "output_type": "stream",
     "text": [
      "Allocating 1000000000 elements (2000.0 MB, dtype: <class 'numpy.uint16'>)\n"
     ]
    },
    {
     "data": {
      "text/plain": [
       "<qcodes.station.Station at 0x28b945c4390>"
      ]
     },
     "execution_count": 12,
     "metadata": {},
     "output_type": "execute_result"
    }
   ],
   "source": [
    "\n",
    "\n",
    "raw_acq = instools.create_inst(acquisition_controllers.RawAcqCtl, \n",
    "                               'Qp_detector',\n",
    "                              'alazar',\n",
    "                              allocate_samples=10e8,\n",
    "                              force_new_instance=True)\n",
    "add2station(station, raw_acq)"
   ]
  },
  {
   "cell_type": "markdown",
   "metadata": {},
   "source": [
    "## Essential AWG Sequences"
   ]
  },
  {
   "cell_type": "code",
   "execution_count": 13,
   "metadata": {
    "ExecuteTime": {
     "end_time": "2018-11-26T08:56:22.471015Z",
     "start_time": "2018-11-26T08:56:22.465511Z"
    }
   },
   "outputs": [],
   "source": [
    "from pytopo.rf.alazar.awg_sequences import TriggerSequence\n",
    "\n",
    "TriggerSequence.chan_map = {\n",
    "    1 : ['pulse', 'ats_trigger', 'ro_trigger'],\n",
    "    2 : [None, 'qb_trigger', None],\n",
    "}\n",
    "TriggerSequence.chan_settings = {\n",
    "    1 : {\n",
    "        'marker_hi' : [1.5, 1.5],\n",
    "        'marker_lo' : [-0.3, -0.3],\n",
    "        },\n",
    "    2 : {\n",
    "        'marker_hi' : [1.5, 1.5],\n",
    "        'marker_lo' : [-0.3, -0.3],\n",
    "        },\n",
    "}"
   ]
  },
  {
   "cell_type": "markdown",
   "metadata": {},
   "source": [
    "# Setup and expt. specific tools"
   ]
  },
  {
   "cell_type": "code",
   "execution_count": 14,
   "metadata": {
    "ExecuteTime": {
     "end_time": "2018-11-26T08:56:22.488027Z",
     "start_time": "2018-11-26T08:56:22.473017Z"
    }
   },
   "outputs": [],
   "source": [
    "dac_cutter = station.ivvi.dac1\n",
    "dac_leftplunger = station.ivvi.dac11\n",
    "dac_rightplunger = station.ivvi.dac13\n",
    "dac_leftplunger_fine = station.ivvi.dac12\n",
    "dac_rightplunger_fine = station.ivvi.dac14\n",
    "\n",
    "@setter(('plungers', 'mV'),)\n",
    "def set_plungers(val):\n",
    "    \"\"\"\n",
    "    Set both plungers (left and right) to val (in mV).\n",
    "    \"\"\"\n",
    "    dac_leftplunger(val)\n",
    "    dac_rightplunger(val)\n",
    "    return val"
   ]
  },
  {
   "cell_type": "code",
   "execution_count": 15,
   "metadata": {
    "ExecuteTime": {
     "end_time": "2018-11-26T08:56:22.506541Z",
     "start_time": "2018-11-26T08:56:22.489529Z"
    }
   },
   "outputs": [],
   "source": [
    "@setter(('magnet_r', 'T'),) ##could be combined into a single one, but we generally want to sweep them individually and not touch the others\n",
    "def set_magnet_r(val):\n",
    "    \"\"\"\n",
    "    Set magnet r\n",
    "    \"\"\"\n",
    "    station.mgnt.r_target(val)\n",
    "    station.mgnt.ramp(mode='safe')\n",
    "    return val\n",
    "\n",
    "@setter(('magnet_phi', 'degrees'),)\n",
    "def set_magnet_phi(val):\n",
    "    \"\"\"\n",
    "    Set magnet phi\n",
    "    \"\"\"\n",
    "    station.mgnt.phi_target(val)\n",
    "    station.mgnt.ramp(mode='safe')\n",
    "    return val\n",
    "\n",
    "@setter(('magnet_theta', 'degrees'),)\n",
    "def set_magnet_theta(val):\n",
    "    \"\"\"\n",
    "    Set magnet theta\n",
    "    \"\"\"\n",
    "    station.mgnt.theta_target(val)\n",
    "    station.mgnt.ramp(mode='safe')\n",
    "    return val"
   ]
  },
  {
   "cell_type": "markdown",
   "metadata": {},
   "source": [
    "## Testing"
   ]
  },
  {
   "cell_type": "code",
   "execution_count": 16,
   "metadata": {
    "ExecuteTime": {
     "end_time": "2018-11-26T08:56:22.527056Z",
     "start_time": "2018-11-26T08:56:22.508042Z"
    }
   },
   "outputs": [],
   "source": [
    "# #clk_src = 'EXTERNAL_CLOCK_10MHz_REF'\n",
    "# #clk_src = 'INTERNAL_CLOCK'\n",
    "\n",
    "# #station.alazar.clock_source(clk_src)\n",
    "# station.alazar.sample_rate(int(200e6))\n",
    "# station.alazar.clock_source()\n",
    "\n",
    "# #station.alazar._set_sample_rate(int(200e6))\n",
    "# station.alazar.sample_rate()"
   ]
  },
  {
   "cell_type": "code",
   "execution_count": 17,
   "metadata": {
    "ExecuteTime": {
     "end_time": "2018-11-26T08:56:22.543568Z",
     "start_time": "2018-11-26T08:56:22.528556Z"
    }
   },
   "outputs": [],
   "source": [
    "# clk_src = 'INTERNAL_CLOCK'\n",
    "# station.alazar.clock_source(clk_src)\n",
    "# station.alazar.sample_rate()"
   ]
  },
  {
   "cell_type": "markdown",
   "metadata": {},
   "source": [
    "# EVERYTHING ABOVE HERE SHOULD BE RUN FOR INITIALIZATION"
   ]
  },
  {
   "cell_type": "markdown",
   "metadata": {},
   "source": [
    "# Resonator spec"
   ]
  },
  {
   "cell_type": "code",
   "execution_count": null,
   "metadata": {
    "ExecuteTime": {
     "end_time": "2018-11-23T11:12:21.711642Z",
     "start_time": "2018-11-23T11:11:54.848258Z"
    }
   },
   "outputs": [],
   "source": [
    "ss.setup_single_averaged_IQpoint(0.1e-3, 30e-3, setup_awg=True)\n",
    "# station.TWPA.on() #we don't have a BNC T at the moment, we can remove this once we split the marker for the cavity\n",
    "so = sweep(station.hetsrc.frequency, np.arange(5.30e9, 5.33e9, 0.5e6))(\n",
    "    measure(ss.get_single_averaged_IQpoint_chanA),\n",
    ")\n",
    "\n",
    "result = do_experiment(f\"resonator_spec/{SAMPLE}\", so, live_plot=True)\n",
    "# station.TWPA.off()"
   ]
  },
  {
   "cell_type": "code",
   "execution_count": null,
   "metadata": {
    "ExecuteTime": {
     "end_time": "2018-11-22T18:47:53.908761Z",
     "start_time": "2018-11-22T18:47:12.326629Z"
    }
   },
   "outputs": [],
   "source": []
  },
  {
   "cell_type": "code",
   "execution_count": null,
   "metadata": {
    "ExecuteTime": {
     "end_time": "2018-11-24T16:43:55.212117Z",
     "start_time": "2018-11-24T16:43:49.635731Z"
    }
   },
   "outputs": [],
   "source": [
    "dac_cutter(-400)"
   ]
  },
  {
   "cell_type": "code",
   "execution_count": null,
   "metadata": {
    "ExecuteTime": {
     "end_time": "2018-11-22T18:43:11.782468Z",
     "start_time": "2018-11-22T18:43:11.779467Z"
    }
   },
   "outputs": [],
   "source": [
    "station.softsweep_ctl.values = np.array([3.8e9])"
   ]
  },
  {
   "cell_type": "markdown",
   "metadata": {
    "ExecuteTime": {
     "end_time": "2018-10-26T17:29:17.806944Z",
     "start_time": "2018-10-26T17:29:17.803943Z"
    }
   },
   "source": [
    "## Standard resonator spec"
   ]
  },
  {
   "cell_type": "code",
   "execution_count": 22,
   "metadata": {
    "ExecuteTime": {
     "end_time": "2018-11-26T09:00:02.494856Z",
     "start_time": "2018-11-26T08:59:49.813087Z"
    }
   },
   "outputs": [
    {
     "name": "stdout",
     "output_type": "stream",
     "text": [
      "Starting experimental run with id: 725\n",
      "Done! 200 (5.32000e+09)\r"
     ]
    }
   ],
   "source": [
    "\n",
    "station = qcodes.Station.default #standard resonator spec\n",
    "station.hetsrc.RF.power(-65)\n",
    "\n",
    "station.TWPA.on()\n",
    "ctl = ss.setup_soft_sweep(np.linspace(5.285e9, 5.32e9, 201), station.hetsrc.frequency, \n",
    "                          time_bin=0.2e-3, integration_time=30e-3)\n",
    "#ctl.settling_time = 100e-3\n",
    "station.alazar.allocated_buffers(10)\n",
    "so = ss.measure_soft_time_avg_spec(np.linspace(5.285e9, 5.32e9, 201), station.hetsrc, \n",
    "                                   setup=False)\n",
    "\n",
    "\n",
    "result = do_experiment(f'resonator_spec/{SAMPLE}', so, live_plot=True)\n"
   ]
  },
  {
   "cell_type": "code",
   "execution_count": 27,
   "metadata": {
    "ExecuteTime": {
     "end_time": "2018-11-26T09:01:23.106226Z",
     "start_time": "2018-11-26T09:01:16.492352Z"
    }
   },
   "outputs": [
    {
     "name": "stdout",
     "output_type": "stream",
     "text": [
      "Done! 62 (5.31980e+09)\r"
     ]
    },
    {
     "data": {
      "application/javascript": [
       "/* Put everything inside the global mpl namespace */\n",
       "window.mpl = {};\n",
       "\n",
       "\n",
       "mpl.get_websocket_type = function() {\n",
       "    if (typeof(WebSocket) !== 'undefined') {\n",
       "        return WebSocket;\n",
       "    } else if (typeof(MozWebSocket) !== 'undefined') {\n",
       "        return MozWebSocket;\n",
       "    } else {\n",
       "        alert('Your browser does not have WebSocket support.' +\n",
       "              'Please try Chrome, Safari or Firefox ≥ 6. ' +\n",
       "              'Firefox 4 and 5 are also supported but you ' +\n",
       "              'have to enable WebSockets in about:config.');\n",
       "    };\n",
       "}\n",
       "\n",
       "mpl.figure = function(figure_id, websocket, ondownload, parent_element) {\n",
       "    this.id = figure_id;\n",
       "\n",
       "    this.ws = websocket;\n",
       "\n",
       "    this.supports_binary = (this.ws.binaryType != undefined);\n",
       "\n",
       "    if (!this.supports_binary) {\n",
       "        var warnings = document.getElementById(\"mpl-warnings\");\n",
       "        if (warnings) {\n",
       "            warnings.style.display = 'block';\n",
       "            warnings.textContent = (\n",
       "                \"This browser does not support binary websocket messages. \" +\n",
       "                    \"Performance may be slow.\");\n",
       "        }\n",
       "    }\n",
       "\n",
       "    this.imageObj = new Image();\n",
       "\n",
       "    this.context = undefined;\n",
       "    this.message = undefined;\n",
       "    this.canvas = undefined;\n",
       "    this.rubberband_canvas = undefined;\n",
       "    this.rubberband_context = undefined;\n",
       "    this.format_dropdown = undefined;\n",
       "\n",
       "    this.image_mode = 'full';\n",
       "\n",
       "    this.root = $('<div/>');\n",
       "    this._root_extra_style(this.root)\n",
       "    this.root.attr('style', 'display: inline-block');\n",
       "\n",
       "    $(parent_element).append(this.root);\n",
       "\n",
       "    this._init_header(this);\n",
       "    this._init_canvas(this);\n",
       "    this._init_toolbar(this);\n",
       "\n",
       "    var fig = this;\n",
       "\n",
       "    this.waiting = false;\n",
       "\n",
       "    this.ws.onopen =  function () {\n",
       "            fig.send_message(\"supports_binary\", {value: fig.supports_binary});\n",
       "            fig.send_message(\"send_image_mode\", {});\n",
       "            if (mpl.ratio != 1) {\n",
       "                fig.send_message(\"set_dpi_ratio\", {'dpi_ratio': mpl.ratio});\n",
       "            }\n",
       "            fig.send_message(\"refresh\", {});\n",
       "        }\n",
       "\n",
       "    this.imageObj.onload = function() {\n",
       "            if (fig.image_mode == 'full') {\n",
       "                // Full images could contain transparency (where diff images\n",
       "                // almost always do), so we need to clear the canvas so that\n",
       "                // there is no ghosting.\n",
       "                fig.context.clearRect(0, 0, fig.canvas.width, fig.canvas.height);\n",
       "            }\n",
       "            fig.context.drawImage(fig.imageObj, 0, 0);\n",
       "        };\n",
       "\n",
       "    this.imageObj.onunload = function() {\n",
       "        fig.ws.close();\n",
       "    }\n",
       "\n",
       "    this.ws.onmessage = this._make_on_message_function(this);\n",
       "\n",
       "    this.ondownload = ondownload;\n",
       "}\n",
       "\n",
       "mpl.figure.prototype._init_header = function() {\n",
       "    var titlebar = $(\n",
       "        '<div class=\"ui-dialog-titlebar ui-widget-header ui-corner-all ' +\n",
       "        'ui-helper-clearfix\"/>');\n",
       "    var titletext = $(\n",
       "        '<div class=\"ui-dialog-title\" style=\"width: 100%; ' +\n",
       "        'text-align: center; padding: 3px;\"/>');\n",
       "    titlebar.append(titletext)\n",
       "    this.root.append(titlebar);\n",
       "    this.header = titletext[0];\n",
       "}\n",
       "\n",
       "\n",
       "\n",
       "mpl.figure.prototype._canvas_extra_style = function(canvas_div) {\n",
       "\n",
       "}\n",
       "\n",
       "\n",
       "mpl.figure.prototype._root_extra_style = function(canvas_div) {\n",
       "\n",
       "}\n",
       "\n",
       "mpl.figure.prototype._init_canvas = function() {\n",
       "    var fig = this;\n",
       "\n",
       "    var canvas_div = $('<div/>');\n",
       "\n",
       "    canvas_div.attr('style', 'position: relative; clear: both; outline: 0');\n",
       "\n",
       "    function canvas_keyboard_event(event) {\n",
       "        return fig.key_event(event, event['data']);\n",
       "    }\n",
       "\n",
       "    canvas_div.keydown('key_press', canvas_keyboard_event);\n",
       "    canvas_div.keyup('key_release', canvas_keyboard_event);\n",
       "    this.canvas_div = canvas_div\n",
       "    this._canvas_extra_style(canvas_div)\n",
       "    this.root.append(canvas_div);\n",
       "\n",
       "    var canvas = $('<canvas/>');\n",
       "    canvas.addClass('mpl-canvas');\n",
       "    canvas.attr('style', \"left: 0; top: 0; z-index: 0; outline: 0\")\n",
       "\n",
       "    this.canvas = canvas[0];\n",
       "    this.context = canvas[0].getContext(\"2d\");\n",
       "\n",
       "    var backingStore = this.context.backingStorePixelRatio ||\n",
       "\tthis.context.webkitBackingStorePixelRatio ||\n",
       "\tthis.context.mozBackingStorePixelRatio ||\n",
       "\tthis.context.msBackingStorePixelRatio ||\n",
       "\tthis.context.oBackingStorePixelRatio ||\n",
       "\tthis.context.backingStorePixelRatio || 1;\n",
       "\n",
       "    mpl.ratio = (window.devicePixelRatio || 1) / backingStore;\n",
       "\n",
       "    var rubberband = $('<canvas/>');\n",
       "    rubberband.attr('style', \"position: absolute; left: 0; top: 0; z-index: 1;\")\n",
       "\n",
       "    var pass_mouse_events = true;\n",
       "\n",
       "    canvas_div.resizable({\n",
       "        start: function(event, ui) {\n",
       "            pass_mouse_events = false;\n",
       "        },\n",
       "        resize: function(event, ui) {\n",
       "            fig.request_resize(ui.size.width, ui.size.height);\n",
       "        },\n",
       "        stop: function(event, ui) {\n",
       "            pass_mouse_events = true;\n",
       "            fig.request_resize(ui.size.width, ui.size.height);\n",
       "        },\n",
       "    });\n",
       "\n",
       "    function mouse_event_fn(event) {\n",
       "        if (pass_mouse_events)\n",
       "            return fig.mouse_event(event, event['data']);\n",
       "    }\n",
       "\n",
       "    rubberband.mousedown('button_press', mouse_event_fn);\n",
       "    rubberband.mouseup('button_release', mouse_event_fn);\n",
       "    // Throttle sequential mouse events to 1 every 20ms.\n",
       "    rubberband.mousemove('motion_notify', mouse_event_fn);\n",
       "\n",
       "    rubberband.mouseenter('figure_enter', mouse_event_fn);\n",
       "    rubberband.mouseleave('figure_leave', mouse_event_fn);\n",
       "\n",
       "    canvas_div.on(\"wheel\", function (event) {\n",
       "        event = event.originalEvent;\n",
       "        event['data'] = 'scroll'\n",
       "        if (event.deltaY < 0) {\n",
       "            event.step = 1;\n",
       "        } else {\n",
       "            event.step = -1;\n",
       "        }\n",
       "        mouse_event_fn(event);\n",
       "    });\n",
       "\n",
       "    canvas_div.append(canvas);\n",
       "    canvas_div.append(rubberband);\n",
       "\n",
       "    this.rubberband = rubberband;\n",
       "    this.rubberband_canvas = rubberband[0];\n",
       "    this.rubberband_context = rubberband[0].getContext(\"2d\");\n",
       "    this.rubberband_context.strokeStyle = \"#000000\";\n",
       "\n",
       "    this._resize_canvas = function(width, height) {\n",
       "        // Keep the size of the canvas, canvas container, and rubber band\n",
       "        // canvas in synch.\n",
       "        canvas_div.css('width', width)\n",
       "        canvas_div.css('height', height)\n",
       "\n",
       "        canvas.attr('width', width * mpl.ratio);\n",
       "        canvas.attr('height', height * mpl.ratio);\n",
       "        canvas.attr('style', 'width: ' + width + 'px; height: ' + height + 'px;');\n",
       "\n",
       "        rubberband.attr('width', width);\n",
       "        rubberband.attr('height', height);\n",
       "    }\n",
       "\n",
       "    // Set the figure to an initial 600x600px, this will subsequently be updated\n",
       "    // upon first draw.\n",
       "    this._resize_canvas(600, 600);\n",
       "\n",
       "    // Disable right mouse context menu.\n",
       "    $(this.rubberband_canvas).bind(\"contextmenu\",function(e){\n",
       "        return false;\n",
       "    });\n",
       "\n",
       "    function set_focus () {\n",
       "        canvas.focus();\n",
       "        canvas_div.focus();\n",
       "    }\n",
       "\n",
       "    window.setTimeout(set_focus, 100);\n",
       "}\n",
       "\n",
       "mpl.figure.prototype._init_toolbar = function() {\n",
       "    var fig = this;\n",
       "\n",
       "    var nav_element = $('<div/>')\n",
       "    nav_element.attr('style', 'width: 100%');\n",
       "    this.root.append(nav_element);\n",
       "\n",
       "    // Define a callback function for later on.\n",
       "    function toolbar_event(event) {\n",
       "        return fig.toolbar_button_onclick(event['data']);\n",
       "    }\n",
       "    function toolbar_mouse_event(event) {\n",
       "        return fig.toolbar_button_onmouseover(event['data']);\n",
       "    }\n",
       "\n",
       "    for(var toolbar_ind in mpl.toolbar_items) {\n",
       "        var name = mpl.toolbar_items[toolbar_ind][0];\n",
       "        var tooltip = mpl.toolbar_items[toolbar_ind][1];\n",
       "        var image = mpl.toolbar_items[toolbar_ind][2];\n",
       "        var method_name = mpl.toolbar_items[toolbar_ind][3];\n",
       "\n",
       "        if (!name) {\n",
       "            // put a spacer in here.\n",
       "            continue;\n",
       "        }\n",
       "        var button = $('<button/>');\n",
       "        button.addClass('ui-button ui-widget ui-state-default ui-corner-all ' +\n",
       "                        'ui-button-icon-only');\n",
       "        button.attr('role', 'button');\n",
       "        button.attr('aria-disabled', 'false');\n",
       "        button.click(method_name, toolbar_event);\n",
       "        button.mouseover(tooltip, toolbar_mouse_event);\n",
       "\n",
       "        var icon_img = $('<span/>');\n",
       "        icon_img.addClass('ui-button-icon-primary ui-icon');\n",
       "        icon_img.addClass(image);\n",
       "        icon_img.addClass('ui-corner-all');\n",
       "\n",
       "        var tooltip_span = $('<span/>');\n",
       "        tooltip_span.addClass('ui-button-text');\n",
       "        tooltip_span.html(tooltip);\n",
       "\n",
       "        button.append(icon_img);\n",
       "        button.append(tooltip_span);\n",
       "\n",
       "        nav_element.append(button);\n",
       "    }\n",
       "\n",
       "    var fmt_picker_span = $('<span/>');\n",
       "\n",
       "    var fmt_picker = $('<select/>');\n",
       "    fmt_picker.addClass('mpl-toolbar-option ui-widget ui-widget-content');\n",
       "    fmt_picker_span.append(fmt_picker);\n",
       "    nav_element.append(fmt_picker_span);\n",
       "    this.format_dropdown = fmt_picker[0];\n",
       "\n",
       "    for (var ind in mpl.extensions) {\n",
       "        var fmt = mpl.extensions[ind];\n",
       "        var option = $(\n",
       "            '<option/>', {selected: fmt === mpl.default_extension}).html(fmt);\n",
       "        fmt_picker.append(option)\n",
       "    }\n",
       "\n",
       "    // Add hover states to the ui-buttons\n",
       "    $( \".ui-button\" ).hover(\n",
       "        function() { $(this).addClass(\"ui-state-hover\");},\n",
       "        function() { $(this).removeClass(\"ui-state-hover\");}\n",
       "    );\n",
       "\n",
       "    var status_bar = $('<span class=\"mpl-message\"/>');\n",
       "    nav_element.append(status_bar);\n",
       "    this.message = status_bar[0];\n",
       "}\n",
       "\n",
       "mpl.figure.prototype.request_resize = function(x_pixels, y_pixels) {\n",
       "    // Request matplotlib to resize the figure. Matplotlib will then trigger a resize in the client,\n",
       "    // which will in turn request a refresh of the image.\n",
       "    this.send_message('resize', {'width': x_pixels, 'height': y_pixels});\n",
       "}\n",
       "\n",
       "mpl.figure.prototype.send_message = function(type, properties) {\n",
       "    properties['type'] = type;\n",
       "    properties['figure_id'] = this.id;\n",
       "    this.ws.send(JSON.stringify(properties));\n",
       "}\n",
       "\n",
       "mpl.figure.prototype.send_draw_message = function() {\n",
       "    if (!this.waiting) {\n",
       "        this.waiting = true;\n",
       "        this.ws.send(JSON.stringify({type: \"draw\", figure_id: this.id}));\n",
       "    }\n",
       "}\n",
       "\n",
       "\n",
       "mpl.figure.prototype.handle_save = function(fig, msg) {\n",
       "    var format_dropdown = fig.format_dropdown;\n",
       "    var format = format_dropdown.options[format_dropdown.selectedIndex].value;\n",
       "    fig.ondownload(fig, format);\n",
       "}\n",
       "\n",
       "\n",
       "mpl.figure.prototype.handle_resize = function(fig, msg) {\n",
       "    var size = msg['size'];\n",
       "    if (size[0] != fig.canvas.width || size[1] != fig.canvas.height) {\n",
       "        fig._resize_canvas(size[0], size[1]);\n",
       "        fig.send_message(\"refresh\", {});\n",
       "    };\n",
       "}\n",
       "\n",
       "mpl.figure.prototype.handle_rubberband = function(fig, msg) {\n",
       "    var x0 = msg['x0'] / mpl.ratio;\n",
       "    var y0 = (fig.canvas.height - msg['y0']) / mpl.ratio;\n",
       "    var x1 = msg['x1'] / mpl.ratio;\n",
       "    var y1 = (fig.canvas.height - msg['y1']) / mpl.ratio;\n",
       "    x0 = Math.floor(x0) + 0.5;\n",
       "    y0 = Math.floor(y0) + 0.5;\n",
       "    x1 = Math.floor(x1) + 0.5;\n",
       "    y1 = Math.floor(y1) + 0.5;\n",
       "    var min_x = Math.min(x0, x1);\n",
       "    var min_y = Math.min(y0, y1);\n",
       "    var width = Math.abs(x1 - x0);\n",
       "    var height = Math.abs(y1 - y0);\n",
       "\n",
       "    fig.rubberband_context.clearRect(\n",
       "        0, 0, fig.canvas.width, fig.canvas.height);\n",
       "\n",
       "    fig.rubberband_context.strokeRect(min_x, min_y, width, height);\n",
       "}\n",
       "\n",
       "mpl.figure.prototype.handle_figure_label = function(fig, msg) {\n",
       "    // Updates the figure title.\n",
       "    fig.header.textContent = msg['label'];\n",
       "}\n",
       "\n",
       "mpl.figure.prototype.handle_cursor = function(fig, msg) {\n",
       "    var cursor = msg['cursor'];\n",
       "    switch(cursor)\n",
       "    {\n",
       "    case 0:\n",
       "        cursor = 'pointer';\n",
       "        break;\n",
       "    case 1:\n",
       "        cursor = 'default';\n",
       "        break;\n",
       "    case 2:\n",
       "        cursor = 'crosshair';\n",
       "        break;\n",
       "    case 3:\n",
       "        cursor = 'move';\n",
       "        break;\n",
       "    }\n",
       "    fig.rubberband_canvas.style.cursor = cursor;\n",
       "}\n",
       "\n",
       "mpl.figure.prototype.handle_message = function(fig, msg) {\n",
       "    fig.message.textContent = msg['message'];\n",
       "}\n",
       "\n",
       "mpl.figure.prototype.handle_draw = function(fig, msg) {\n",
       "    // Request the server to send over a new figure.\n",
       "    fig.send_draw_message();\n",
       "}\n",
       "\n",
       "mpl.figure.prototype.handle_image_mode = function(fig, msg) {\n",
       "    fig.image_mode = msg['mode'];\n",
       "}\n",
       "\n",
       "mpl.figure.prototype.updated_canvas_event = function() {\n",
       "    // Called whenever the canvas gets updated.\n",
       "    this.send_message(\"ack\", {});\n",
       "}\n",
       "\n",
       "// A function to construct a web socket function for onmessage handling.\n",
       "// Called in the figure constructor.\n",
       "mpl.figure.prototype._make_on_message_function = function(fig) {\n",
       "    return function socket_on_message(evt) {\n",
       "        if (evt.data instanceof Blob) {\n",
       "            /* FIXME: We get \"Resource interpreted as Image but\n",
       "             * transferred with MIME type text/plain:\" errors on\n",
       "             * Chrome.  But how to set the MIME type?  It doesn't seem\n",
       "             * to be part of the websocket stream */\n",
       "            evt.data.type = \"image/png\";\n",
       "\n",
       "            /* Free the memory for the previous frames */\n",
       "            if (fig.imageObj.src) {\n",
       "                (window.URL || window.webkitURL).revokeObjectURL(\n",
       "                    fig.imageObj.src);\n",
       "            }\n",
       "\n",
       "            fig.imageObj.src = (window.URL || window.webkitURL).createObjectURL(\n",
       "                evt.data);\n",
       "            fig.updated_canvas_event();\n",
       "            fig.waiting = false;\n",
       "            return;\n",
       "        }\n",
       "        else if (typeof evt.data === 'string' && evt.data.slice(0, 21) == \"data:image/png;base64\") {\n",
       "            fig.imageObj.src = evt.data;\n",
       "            fig.updated_canvas_event();\n",
       "            fig.waiting = false;\n",
       "            return;\n",
       "        }\n",
       "\n",
       "        var msg = JSON.parse(evt.data);\n",
       "        var msg_type = msg['type'];\n",
       "\n",
       "        // Call the  \"handle_{type}\" callback, which takes\n",
       "        // the figure and JSON message as its only arguments.\n",
       "        try {\n",
       "            var callback = fig[\"handle_\" + msg_type];\n",
       "        } catch (e) {\n",
       "            console.log(\"No handler for the '\" + msg_type + \"' message type: \", msg);\n",
       "            return;\n",
       "        }\n",
       "\n",
       "        if (callback) {\n",
       "            try {\n",
       "                // console.log(\"Handling '\" + msg_type + \"' message: \", msg);\n",
       "                callback(fig, msg);\n",
       "            } catch (e) {\n",
       "                console.log(\"Exception inside the 'handler_\" + msg_type + \"' callback:\", e, e.stack, msg);\n",
       "            }\n",
       "        }\n",
       "    };\n",
       "}\n",
       "\n",
       "// from http://stackoverflow.com/questions/1114465/getting-mouse-location-in-canvas\n",
       "mpl.findpos = function(e) {\n",
       "    //this section is from http://www.quirksmode.org/js/events_properties.html\n",
       "    var targ;\n",
       "    if (!e)\n",
       "        e = window.event;\n",
       "    if (e.target)\n",
       "        targ = e.target;\n",
       "    else if (e.srcElement)\n",
       "        targ = e.srcElement;\n",
       "    if (targ.nodeType == 3) // defeat Safari bug\n",
       "        targ = targ.parentNode;\n",
       "\n",
       "    // jQuery normalizes the pageX and pageY\n",
       "    // pageX,Y are the mouse positions relative to the document\n",
       "    // offset() returns the position of the element relative to the document\n",
       "    var x = e.pageX - $(targ).offset().left;\n",
       "    var y = e.pageY - $(targ).offset().top;\n",
       "\n",
       "    return {\"x\": x, \"y\": y};\n",
       "};\n",
       "\n",
       "/*\n",
       " * return a copy of an object with only non-object keys\n",
       " * we need this to avoid circular references\n",
       " * http://stackoverflow.com/a/24161582/3208463\n",
       " */\n",
       "function simpleKeys (original) {\n",
       "  return Object.keys(original).reduce(function (obj, key) {\n",
       "    if (typeof original[key] !== 'object')\n",
       "        obj[key] = original[key]\n",
       "    return obj;\n",
       "  }, {});\n",
       "}\n",
       "\n",
       "mpl.figure.prototype.mouse_event = function(event, name) {\n",
       "    var canvas_pos = mpl.findpos(event)\n",
       "\n",
       "    if (name === 'button_press')\n",
       "    {\n",
       "        this.canvas.focus();\n",
       "        this.canvas_div.focus();\n",
       "    }\n",
       "\n",
       "    var x = canvas_pos.x * mpl.ratio;\n",
       "    var y = canvas_pos.y * mpl.ratio;\n",
       "\n",
       "    this.send_message(name, {x: x, y: y, button: event.button,\n",
       "                             step: event.step,\n",
       "                             guiEvent: simpleKeys(event)});\n",
       "\n",
       "    /* This prevents the web browser from automatically changing to\n",
       "     * the text insertion cursor when the button is pressed.  We want\n",
       "     * to control all of the cursor setting manually through the\n",
       "     * 'cursor' event from matplotlib */\n",
       "    event.preventDefault();\n",
       "    return false;\n",
       "}\n",
       "\n",
       "mpl.figure.prototype._key_event_extra = function(event, name) {\n",
       "    // Handle any extra behaviour associated with a key event\n",
       "}\n",
       "\n",
       "mpl.figure.prototype.key_event = function(event, name) {\n",
       "\n",
       "    // Prevent repeat events\n",
       "    if (name == 'key_press')\n",
       "    {\n",
       "        if (event.which === this._key)\n",
       "            return;\n",
       "        else\n",
       "            this._key = event.which;\n",
       "    }\n",
       "    if (name == 'key_release')\n",
       "        this._key = null;\n",
       "\n",
       "    var value = '';\n",
       "    if (event.ctrlKey && event.which != 17)\n",
       "        value += \"ctrl+\";\n",
       "    if (event.altKey && event.which != 18)\n",
       "        value += \"alt+\";\n",
       "    if (event.shiftKey && event.which != 16)\n",
       "        value += \"shift+\";\n",
       "\n",
       "    value += 'k';\n",
       "    value += event.which.toString();\n",
       "\n",
       "    this._key_event_extra(event, name);\n",
       "\n",
       "    this.send_message(name, {key: value,\n",
       "                             guiEvent: simpleKeys(event)});\n",
       "    return false;\n",
       "}\n",
       "\n",
       "mpl.figure.prototype.toolbar_button_onclick = function(name) {\n",
       "    if (name == 'download') {\n",
       "        this.handle_save(this, null);\n",
       "    } else {\n",
       "        this.send_message(\"toolbar_button\", {name: name});\n",
       "    }\n",
       "};\n",
       "\n",
       "mpl.figure.prototype.toolbar_button_onmouseover = function(tooltip) {\n",
       "    this.message.textContent = tooltip;\n",
       "};\n",
       "mpl.toolbar_items = [[\"Home\", \"Reset original view\", \"fa fa-home icon-home\", \"home\"], [\"Back\", \"Back to  previous view\", \"fa fa-arrow-left icon-arrow-left\", \"back\"], [\"Forward\", \"Forward to next view\", \"fa fa-arrow-right icon-arrow-right\", \"forward\"], [\"\", \"\", \"\", \"\"], [\"Pan\", \"Pan axes with left mouse, zoom with right\", \"fa fa-arrows icon-move\", \"pan\"], [\"Zoom\", \"Zoom to rectangle\", \"fa fa-square-o icon-check-empty\", \"zoom\"], [\"\", \"\", \"\", \"\"], [\"Download\", \"Download plot\", \"fa fa-floppy-o icon-save\", \"download\"]];\n",
       "\n",
       "mpl.extensions = [\"eps\", \"jpeg\", \"pdf\", \"png\", \"ps\", \"raw\", \"svg\", \"tif\"];\n",
       "\n",
       "mpl.default_extension = \"png\";var comm_websocket_adapter = function(comm) {\n",
       "    // Create a \"websocket\"-like object which calls the given IPython comm\n",
       "    // object with the appropriate methods. Currently this is a non binary\n",
       "    // socket, so there is still some room for performance tuning.\n",
       "    var ws = {};\n",
       "\n",
       "    ws.close = function() {\n",
       "        comm.close()\n",
       "    };\n",
       "    ws.send = function(m) {\n",
       "        //console.log('sending', m);\n",
       "        comm.send(m);\n",
       "    };\n",
       "    // Register the callback with on_msg.\n",
       "    comm.on_msg(function(msg) {\n",
       "        //console.log('receiving', msg['content']['data'], msg);\n",
       "        // Pass the mpl event to the overridden (by mpl) onmessage function.\n",
       "        ws.onmessage(msg['content']['data'])\n",
       "    });\n",
       "    return ws;\n",
       "}\n",
       "\n",
       "mpl.mpl_figure_comm = function(comm, msg) {\n",
       "    // This is the function which gets called when the mpl process\n",
       "    // starts-up an IPython Comm through the \"matplotlib\" channel.\n",
       "\n",
       "    var id = msg.content.data.id;\n",
       "    // Get hold of the div created by the display call when the Comm\n",
       "    // socket was opened in Python.\n",
       "    var element = $(\"#\" + id);\n",
       "    var ws_proxy = comm_websocket_adapter(comm)\n",
       "\n",
       "    function ondownload(figure, format) {\n",
       "        window.open(figure.imageObj.src);\n",
       "    }\n",
       "\n",
       "    var fig = new mpl.figure(id, ws_proxy,\n",
       "                           ondownload,\n",
       "                           element.get(0));\n",
       "\n",
       "    // Call onopen now - mpl needs it, as it is assuming we've passed it a real\n",
       "    // web socket which is closed, not our websocket->open comm proxy.\n",
       "    ws_proxy.onopen();\n",
       "\n",
       "    fig.parent_element = element.get(0);\n",
       "    fig.cell_info = mpl.find_output_cell(\"<div id='\" + id + \"'></div>\");\n",
       "    if (!fig.cell_info) {\n",
       "        console.error(\"Failed to find cell for figure\", id, fig);\n",
       "        return;\n",
       "    }\n",
       "\n",
       "    var output_index = fig.cell_info[2]\n",
       "    var cell = fig.cell_info[0];\n",
       "\n",
       "};\n",
       "\n",
       "mpl.figure.prototype.handle_close = function(fig, msg) {\n",
       "    var width = fig.canvas.width/mpl.ratio\n",
       "    fig.root.unbind('remove')\n",
       "\n",
       "    // Update the output cell to use the data from the current canvas.\n",
       "    fig.push_to_output();\n",
       "    var dataURL = fig.canvas.toDataURL();\n",
       "    // Re-enable the keyboard manager in IPython - without this line, in FF,\n",
       "    // the notebook keyboard shortcuts fail.\n",
       "    IPython.keyboard_manager.enable()\n",
       "    $(fig.parent_element).html('<img src=\"' + dataURL + '\" width=\"' + width + '\">');\n",
       "    fig.close_ws(fig, msg);\n",
       "}\n",
       "\n",
       "mpl.figure.prototype.close_ws = function(fig, msg){\n",
       "    fig.send_message('closing', msg);\n",
       "    // fig.ws.close()\n",
       "}\n",
       "\n",
       "mpl.figure.prototype.push_to_output = function(remove_interactive) {\n",
       "    // Turn the data on the canvas into data in the output cell.\n",
       "    var width = this.canvas.width/mpl.ratio\n",
       "    var dataURL = this.canvas.toDataURL();\n",
       "    this.cell_info[1]['text/html'] = '<img src=\"' + dataURL + '\" width=\"' + width + '\">';\n",
       "}\n",
       "\n",
       "mpl.figure.prototype.updated_canvas_event = function() {\n",
       "    // Tell IPython that the notebook contents must change.\n",
       "    IPython.notebook.set_dirty(true);\n",
       "    this.send_message(\"ack\", {});\n",
       "    var fig = this;\n",
       "    // Wait a second, then push the new image to the DOM so\n",
       "    // that it is saved nicely (might be nice to debounce this).\n",
       "    setTimeout(function () { fig.push_to_output() }, 1000);\n",
       "}\n",
       "\n",
       "mpl.figure.prototype._init_toolbar = function() {\n",
       "    var fig = this;\n",
       "\n",
       "    var nav_element = $('<div/>')\n",
       "    nav_element.attr('style', 'width: 100%');\n",
       "    this.root.append(nav_element);\n",
       "\n",
       "    // Define a callback function for later on.\n",
       "    function toolbar_event(event) {\n",
       "        return fig.toolbar_button_onclick(event['data']);\n",
       "    }\n",
       "    function toolbar_mouse_event(event) {\n",
       "        return fig.toolbar_button_onmouseover(event['data']);\n",
       "    }\n",
       "\n",
       "    for(var toolbar_ind in mpl.toolbar_items){\n",
       "        var name = mpl.toolbar_items[toolbar_ind][0];\n",
       "        var tooltip = mpl.toolbar_items[toolbar_ind][1];\n",
       "        var image = mpl.toolbar_items[toolbar_ind][2];\n",
       "        var method_name = mpl.toolbar_items[toolbar_ind][3];\n",
       "\n",
       "        if (!name) { continue; };\n",
       "\n",
       "        var button = $('<button class=\"btn btn-default\" href=\"#\" title=\"' + name + '\"><i class=\"fa ' + image + ' fa-lg\"></i></button>');\n",
       "        button.click(method_name, toolbar_event);\n",
       "        button.mouseover(tooltip, toolbar_mouse_event);\n",
       "        nav_element.append(button);\n",
       "    }\n",
       "\n",
       "    // Add the status bar.\n",
       "    var status_bar = $('<span class=\"mpl-message\" style=\"text-align:right; float: right;\"/>');\n",
       "    nav_element.append(status_bar);\n",
       "    this.message = status_bar[0];\n",
       "\n",
       "    // Add the close button to the window.\n",
       "    var buttongrp = $('<div class=\"btn-group inline pull-right\"></div>');\n",
       "    var button = $('<button class=\"btn btn-mini btn-primary\" href=\"#\" title=\"Stop Interaction\"><i class=\"fa fa-power-off icon-remove icon-large\"></i></button>');\n",
       "    button.click(function (evt) { fig.handle_close(fig, {}); } );\n",
       "    button.mouseover('Stop Interaction', toolbar_mouse_event);\n",
       "    buttongrp.append(button);\n",
       "    var titlebar = this.root.find($('.ui-dialog-titlebar'));\n",
       "    titlebar.prepend(buttongrp);\n",
       "}\n",
       "\n",
       "mpl.figure.prototype._root_extra_style = function(el){\n",
       "    var fig = this\n",
       "    el.on(\"remove\", function(){\n",
       "\tfig.close_ws(fig, {});\n",
       "    });\n",
       "}\n",
       "\n",
       "mpl.figure.prototype._canvas_extra_style = function(el){\n",
       "    // this is important to make the div 'focusable\n",
       "    el.attr('tabindex', 0)\n",
       "    // reach out to IPython and tell the keyboard manager to turn it's self\n",
       "    // off when our div gets focus\n",
       "\n",
       "    // location in version 3\n",
       "    if (IPython.notebook.keyboard_manager) {\n",
       "        IPython.notebook.keyboard_manager.register_events(el);\n",
       "    }\n",
       "    else {\n",
       "        // location in version 2\n",
       "        IPython.keyboard_manager.register_events(el);\n",
       "    }\n",
       "\n",
       "}\n",
       "\n",
       "mpl.figure.prototype._key_event_extra = function(event, name) {\n",
       "    var manager = IPython.notebook.keyboard_manager;\n",
       "    if (!manager)\n",
       "        manager = IPython.keyboard_manager;\n",
       "\n",
       "    // Check for shift+enter\n",
       "    if (event.shiftKey && event.which == 13) {\n",
       "        this.canvas_div.blur();\n",
       "        event.shiftKey = false;\n",
       "        // Send a \"J\" for go to next cell\n",
       "        event.which = 74;\n",
       "        event.keyCode = 74;\n",
       "        manager.command_mode();\n",
       "        manager.handle_keydown(event);\n",
       "    }\n",
       "}\n",
       "\n",
       "mpl.figure.prototype.handle_save = function(fig, msg) {\n",
       "    fig.ondownload(fig, null);\n",
       "}\n",
       "\n",
       "\n",
       "mpl.find_output_cell = function(html_output) {\n",
       "    // Return the cell and output element which can be found *uniquely* in the notebook.\n",
       "    // Note - this is a bit hacky, but it is done because the \"notebook_saving.Notebook\"\n",
       "    // IPython event is triggered only after the cells have been serialised, which for\n",
       "    // our purposes (turning an active figure into a static one), is too late.\n",
       "    var cells = IPython.notebook.get_cells();\n",
       "    var ncells = cells.length;\n",
       "    for (var i=0; i<ncells; i++) {\n",
       "        var cell = cells[i];\n",
       "        if (cell.cell_type === 'code'){\n",
       "            for (var j=0; j<cell.output_area.outputs.length; j++) {\n",
       "                var data = cell.output_area.outputs[j];\n",
       "                if (data.data) {\n",
       "                    // IPython >= 3 moved mimebundle to data attribute of output\n",
       "                    data = data.data;\n",
       "                }\n",
       "                if (data['text/html'] == html_output) {\n",
       "                    return [cell, data, j];\n",
       "                }\n",
       "            }\n",
       "        }\n",
       "    }\n",
       "}\n",
       "\n",
       "// Register the function which deals with the matplotlib target/channel.\n",
       "// The kernel may be null if the page has been refreshed.\n",
       "if (IPython.notebook.kernel != null) {\n",
       "    IPython.notebook.kernel.comm_manager.register_target('matplotlib', mpl.mpl_figure_comm);\n",
       "}\n"
      ],
      "text/plain": [
       "<IPython.core.display.Javascript object>"
      ]
     },
     "metadata": {},
     "output_type": "display_data"
    },
    {
     "data": {
      "text/html": [
       "<img src=\"data:image/png;base64,iVBORw0KGgoAAAANSUhEUgAAAl8AAAGUCAYAAAALeEf3AAAgAElEQVR4XuydBXRURxuG3wgJ7m7FKU6B4u7S4lJKgdIiheJa3KE4FIoXaYGWOlDcrUiB4O4Edw+EJP9553Lzb5bdZHeTbHZzvzmHw2Z37shzvzvzzjdzZzxCQkJCIEEICAEhIASEgBAQAkLAKQQ8RHw5hbNkIgSEgBAQAkJACAgBRUDElxiCEBACQkAICAEhIAScSEDElxNhS1ZCQAgIASEgBISAEBDxJTYgBISAEBACQkAICAEnEhDx5UTYkpUQEAJCQAgIASEgBER8iQ0IASEgBISAEBACQsCJBER8ORG2ZCUEhIAQEAJCQAgIARFfYgNCQAgIASEgBISAEHAiARFfToQtWQkBISAEhIAQEAJCQMSX2IAQEAJCQAgIASEgBJxIQMSXE2FLVkJACAgBISAEhIAQEPElNiAEhIAQEAJCQAgIAScSEPHlRNiSlRAQAkJACAgBISAERHyJDQgBISAEhIAQEAJCwIkERHw5EbZkJQSEgBAQAkJACAgBEV9iA0JACAgBISAEhIAQcCIBEV9OhC1ZCQEhIASEgBAQAkJAxJfYgBAQAkJACAgBISAEnEhAxJcTYUtWQkAICAEhIASEgBAQ8SU2IASEgBAQAkJACAgBJxIQ8eVE2JKVEBACQkAICAEhIAREfIkNCAEhIASEgBAQAkLAiQREfDkRtmQlBISAEBACQkAICAERX2IDQkAICAEhIASEgBBwIgERX06ELVkJASEgBISAEBACQkDEl9iAEBACQkAICAEhIAScSEDElxNhS1ZCQAgIASEgBISAEBDxJTYgBISAEBACQkAICAEnEhDx5UTYkpUQEAJCQAgIASEgBER8iQ0IASEgBISAEBACQsCJBER8ORG2ZCUEhIAQEAJCQAgIARFfYgNCQAgIASEgBISAEHAiARFfToQtWQkBISAEhIAQEAJCQMSX2IAQEAJCQAgIASEgBJxIQMSXE2E7mtXTp08xd+5cLFu2DOfPn0dQUBDy5cuHdu3a4YsvvoCnp6ejSdt03a1bt5AwYUL1z1XDyZMnFRNLYe3atahZs6bVoj979gzDhg3DH3/8gTt37qBo0aLq78qVK1u95sKFC8ifPz+YdsWKFa3GCw4ORrly5XD9+nVcvnw50vHME6A9zJ49W5Xj2rVr6uecOXOiUaNG6NatGxIkSBDmEg8PD1SoUAHbtm2zWJbPP/8cixcvxqVLl5AlS5Yov91M88qVK1bTLVSoEHbu3IlkyZKhdu3aWLlyZZi4L1++VL+9evUKq1atwkcffRTm9ylTpqBnz57YtGkTqlSpEloHa+x5n4cPH46tW7eG3ke9jAUKFMDRo0ctlvXhw4dInTo13rx5g4ULF4Lcoiv07dsXEyZMeCf5NGnSgM9meKFp06b47bff3olSokQJ7N27N/T7u3fvgvmsWbMGZFypUiWQZbZs2cJNX+fHSAcPHkSRIkUsxqc9/vnnn2Fsb9GiRWjTpk24/CKy16hgznu4dOlSLFiwAKdOnUJAQICqd7NmzfDVV18pe4vuwHZi/Pjxqp2/efMmcuXKha5du+LLL798J+vNmzdj6NCh8PPzU2X7+OOPMXbsWCRNmjQ0bmTaQ9Z/yJAhismjR4/A56B///6oV69emLLQVurUqWMRDTm+//770Y3NrdMX8eXit+/MmTOoW7eu6rhbtGihhAEfjr///hu7du1C69atVePFRio6Ajv15s2b4/Dhw9HSGUdVmdnBsKOZNGmS6hRNAzvhdOnSWcwqJCRECTOKkS5duqhGd8mSJdi3b58SNNWrV3/nOjZI5cuXx7Fjx8J02pYy+O6775QIeu+998IVX7bGM82DdWanHzduXGUbFIPsSFgXCkk24PzMTloPEXVmzhBfz58/Vx27pZA8eXIluooXL65E2u3bt8NEo6iqVq0a4sSJg6+//vqddGgDK1asUJ1GvHjxIiW+mPHFixeRNWvWd4r6448/qmePIbrFFzs4iv1BgwaFKQfrR1ETXuCAhB00RYRpSJUqFWrUqKG+opAtU6YMzp07hx49eiBRokTqOeKg7siRI0iRIoXVLEzFFztsClnzQDHH/HjfTYW/K4gviujGjRtjy5Ytyu7IxNvbWwnTX375BRkyZMDq1auRN2/eqGqqLKbToUMHJbw4kOM9ZXv7ww8/4JtvvlHCSg8UPOwPPvjgAzXwpl1MmzZN3T/WQR+IR6Y9JId169ahfv36qFq1qmrj2J5wkMdy6oEDgn79+in79/LyClMvljFx4sTRyszdExfx5cJ3kCKrcOHCuHfvnupE2bmahk6dOmHWrFnqn3njGlXV0hvX6PKERFU5ORIcM2aMauB9fHxsTpYNK70nM2bMUJ05A7nnzp1bCTZT7wB/44iuYcOGOH36tIpr6jExz5SCmaPG169fq7SseV9sjWeaPj0yFOJshCkSzTvIDRs2qM6Ewvmnn34KvdQVxBcLE54XkL/37t1bCQBzuxswYIDqpD788EPlTTT3TGXKlEmJpR07dqg66947ez1f7MSYN0Vi9+7d37Endkz//vsv6DGKbvFF4c5OmR5Je0JgYKDyfNJrYUkU6WnNmzcP7du3B22GwpbhxIkToBeSnevo0aOtZqu3D2TOzpaiwTxwoNikSRPlOWeautfVFcQXn2V6UDmrwDKahkOHDikxFj9+fMUjujz/zIfPcq1atVRZdCFDtiNHjlRM2Y5wYJU9e3bl4dqzZ48qF8PUqVOVaKZHTPfWO9oeUmRRjNIe5syZE4qDgzL+RrGnD245+OC9DM+TbY+9Gi2uiC8XvuOTJ09Gr169VOf52WefvVPSFy9eIH369KqzoQs6OoK7iC82GPRE0VNoTyBbdvLsrE1HamyIKczIWA/s/Ngo0ZPAkR07rfDEFxtuCi9619j5WxMAtsYzrRe9eZyeO378uPJwWQqtWrXC8uXLlUDQ6+Yu4oudEBmz/PRm6YHTZRkzZgT/p1eA0256Z+Dv7w+KL1MPjKPii9c9fvxYdXS8x6aBNpEyZUp8+umnyjsRneKLSw6SJEmiBBBFlD2BtsFOm8KCItxaoC2xA+UUtmmg15edLf9ZC3r7QIFKEUAbp1g0DeykKZSZPrm6iviiWKFnx9y7ZFp22t8nn3yCwYMHY8SIEfbgtzkuhTE5UsyXKlUq9LonT54o+2MfQC/Txo0blSeeIoiiUQ8cnHOQwAEBByUMjraHnAamKL5x40aY2QK2rQULFgwzSC1WrJga9K1fv97mukrE/xMQ8eXC1sCpF3pYHjx4oFzhlgKnCtjYmXp72Clz5LN//37lhuaaI3qFOOrUAxtBTrfRXf3tt9+qBpYdFxtR3QOkT0Hp15hOGfBhHDhwoBItFBh86Nk4MY4eOFrnlBjXgXBajSM1NnjsEMxDRGuB2ICzUbAW8uTJo7xVHGWzPAz2eMBM0+WaOnoZuQ7DVMzRG3P//n21NoPCjA2VNfHFDpmeSXpmuDbPmviyNZ5p+bgmhAKEApFTI9YC7ylZkI0e7BVf5jZgnheFpT0hIjGkp8VpQzbstEeKYwZ2RpyWZCdP8cXng/Xn2hyGX3/9VX3m9AvXLDFElJ+1NV+8jmmMGjVKTX0yXz1w7RI7ZObXoEGDcMUXhYZeFmucwhPwnP4uWbIk/vrrL9W50rPL58iWZQa6cODAjB50rm205L1hB88BAOObBoo9tg1sf6yte9L5sZ583vmcc/peD/TWcNqbHhw+N5EVX+HVO6I2wpw/11NxnZe50DCPx2eN7Zi5ODWNF5n2i+3D/PnzQaFtfn/Iju0lp9vZppMjp0opyMNr5xxtD+n5pL1Q0JkGTh3T7siMZeVzz7Ky7HweOVvAPspaP2VPG2GUuCK+XPRO07gpHsqWLfvOyDu8InNNABdGUvBwZM5ROkfn9BBQlHGaSu+UmAcfeDaWadOmVW5mrvGgsOCUFV3bHHGx4efIiutH9IeTgo6NEh9Gusm5ToqCjAuk6T5nYGN84MAB5Z2jW5wChOsXLL0gQNHEzsFaoLvddFRoGo+NEKdXyIrrVyg6GThK5HRiRIuG9bTYsXFakWVkB2vucWQ+uqDTp0wsdZxkzTUiXMDMUTU5WBJftsYzZ6KLDN4veuLsCey8SpcurdZFWQq0BQoafbqPNmDu+eA0CAURF/qaL4iPqCzspChqOdViHmhHpp08BQPXH9FuGZgXbZtTQBTaFGf0inEakoFCjetSKNzYWep2bi0//k5BQBs3X3DPcnItDctgbgf0QtObSHFCYRWe54vCjR6L8AKfKdN1eaZx+ey2bdtWPWd8tim8yYjCnh4T87U2ptfSW0PxyLi8pxRRfM5Zbi7mZuAzR8Z8PulpNw3Tp09X8Xi/TQdupnFMPeMUorwnFAp64Gc+h/RK0u4siS/mQzFrKXCtmOmgj+2MeeD1fOZ///33CNfAmV5LG+IzTVsPL/B+c/F5eCItMu0X7Za2Zp4+7Zbr+nLkyKFsnu05bYBLITp37hy6xovtLdsCtrMMkWkPKfDpyWJbaNpO615l9gvsH9gmsFxsA9i20cvKdZi0Aba59AxLCJ+AiC8XtRC+dccGmY3Szz//bFMp6bHhA8FFotu3bw9tmDl9Qk8Of9OnUNgIXr16VTWsdCczUAzwAeYUBRsbBkvTjhRe7AQo1PS36fRFuxyVcYTITp6ig+VgY0FPRXQFepfYObDD5aJkjhRZtnHjxqkRIkdy5ovwLZWFC+M5cmeg257TjPq6CvP44YkvLphl40ThyZGgNfFlazzzvPXpaF0km/5uPmLlb+xcfX19VTRbPCaMZ22NH9PndAMbWtaPfO0J4XkIzF9KYMfPUTY9XuTITorPgr4In9OS7JR0cUgb4/0ynSaMyCOhl92S+KI3h8Kd63H0Nwa5joq2RI8QO++IxJc9bCzF5ZubHPjQpvv06aPuI8U3p550L4S1PDg1xYETn1d6s1l2enpYV3pQ+KzwOeYzTy82hZppIHt6Nnbv3q2Ek6Vg2j7weWEaFKb6m3fMl0KbIp73wpL4iohReG/n6gvLyYZC2p7A54LtIssWXtDfNg3vbU578jWPq3sozb2G//zzjxI3tEHaOIUP7wUFGT2VHIjwrUbOavDZYflo/5FpD9lmcsDIgQ7z1gMFFQdmXFPG2Qt9IESPMKf5eV/5Ahi9YHzLkWKY5ZRgnYCILxe1Do5SOYrk1BIbW1sCO0NO/3Ekb/7qO0e7bHgpjrj+hw8LHw56ekwDG2K6rPmAMZiLL3a+HI3yQeRDZxpmzpypXOMcBdFLRtHBh5Cj64i2w2C5KB6tBQorawteKSLZ8HMK1XR7CC4gZiPFNRMTJ06MECE7JXb0FIsUOPR6cFpVFy6mCVgTXxx9UzAzDYoUBkviy9Z4lgrNurCzYeNs+qq37sUwv8bUM0PxRbGtT+WZx6XtkJsl8cUpJHppeE9ZP0vTxxFBpt1xisKSB4P2yHuoB33xrz5txvxoV/pUq76tBLfY4EibQpAL8mmDeggvP8bhW4v0bFkTX/QIUYTQ7mkHZENPA9cwcUlAROKLgoeDn/ACy00xaynwZQquBaIIM/UKcoBEDuxord0H/n727Fm1aF63YX3rE3bU9GbQS8LBGoUYBZlp0MWX+Vok0zim7QPryWeGAzd6aehZ51IGimgKGGvii7Zs6a1i5kN7sya+OMCiKKTopncxPC+gJbYUX2TH+oUXyI/CjlPAnOq2FCLTfvEe8JmkHbPdIQsOiumx5LNCsc/lD1ybxyl1vuVIj6geaL9c36m/NBSZ9pB2Tq897x3TY305gKb98fnn7AM9Y2zjKXwp8E29ovTA8eUveiPpnZNgnYCIrxi2Dk4bsUFkQ2caaPzsjLjew9qeTOZF10dQ4VWJIoUPKhvCzJkzh74VZtpZmY5OzcWXvgYlvDzoGmcHRdHBEZu+/1R410TkobB3PYdpfShi2dnYE/RGhI0cGzvzYEl8sQGmcNX33dGv4QiVDOgBoIhkh2xLPGtikwuoubUEbcZ0HyCKV1OvDzsnrlMzF1+O7vPFxvT777+PcAF3RPeZv0f0tiPj0IPCjodTiWzk6QnmZ32qlfVjZ0+RwSlwTjuzo+A2IKb3P7z8wlvzxedOX7Ol7xXHjoUdD0f5+m/hTTtGds2XNZZ6uubeEltsXLddei9oCxR/lgYo+rSjPpiylLZ5+8CXfyiGeE8o0NlZc10qve7WxFd4/KytUaRI4ECTgoDPFQeE9gZbpx3ZXlLgWHqZwNTOwnvrL6L2i4Mdetv16XjOKNCjRY7sH8iS7QoHXOZimM892xVOGVra082UC+9BRO0h20qundQ9yvRu8bnjzACfrfDWmfJ+sN+iV5qDJwkivlzOBiiu9AWU1qYPKF74ILBTt7aQkdMF3IuIawboreKIk14udkp64MPLkS0faHZOnBIwbwhtFV900XO0yY7YfNM9PQ2OhNgYWptus3Qz6E7nok5rgR45R/ba4ciNI3J734IkczY6nDbhCNAW8WVLR8tGmF7JiBZhh9dYs5Hn/aMAs+RB0stqSRzYu+BeT0tfe8SpP2t7dNnykEW0AN48Dd5zesPoAWGHQE8ON5Fl4DNEOyMHii96Yrney9RTGVF+EYkvdmwUffRA07NLO6Snhp4AW8QX7Sgi4c9pTXs38tQ30WQHbe9bkPrmmPpbkGwP6EHVlxro98CeBfe6p5T2QTFF4cw1ZxSt+nYgUSW+2MHTO8Q2g+sBrXmjIrJHrqWjXXNgRPuxFGhjXG9KDxTXZFkLUdV+UehyHS6nQ+mZo1eS7SjvTceOHZUI4rIOlsk00Ea5npf7c4UXbG0P2WfQ+8aBIttzzlxQ4NEmwtt6hHlzwMSyyFuQ4VugeL4iekKj4XeKJQouPmico2fHYu75Yrb6xpvsYNnBmAcupmeDxg6V0yCcDmJHxXl3jlL0wHl8TikwD64z4hSHo+KLDRAbBEudMBtZTmVwdESvjT3iKzKY2SBxWoDbE5jucs+Ok50zGxxrjRKnT9kZsVM3nbag657rKOg5srS7uDXPl6WOll4FrlPifWTnzT2/bIkXntgkY46SaUO6wDBnGFXiiyNtikV6YSnwI/NGU0RiyLwO7HD+++8/ZdccSdO+TAPtmW+gctqRQkefLtfjRJRfROKL6VAsc+E4vQoceOgbr9oiviJj17xWP5nB3H75QgjrzjVwlhars9OkB4qdoOkUFdPU1wxyIMV7ynvL9Z7mSxAocFjX8N7yM/d86Uw4Pctni4JZ32MsqsSX7oF15IUT0/tBLzGXKZivF+NgiwKI06WczuQick6bsh2NjkDxx/vLwazp2lR9UTtFP58DfRqYL8vQs6QHLo6nUKOY5MsnkWkPOZXOATpt3nQQo2/Loc9qcKBDbyAFmum6T325DDdjZTkkWCcg4isGrIOjGM7dcwTBhpMueVPxxUaFa3IoADgCoUBjB2jaGVNY8AFhh65vBMkGl1OJ9HDpi+HZqDJ9Cgs+2BQZFGu2ii+KNj5obAj0twY5UmejzMaab08xcME9RQ5d8xRoLIOzxJe+6zkbe33BPMukbz6oT7VautXkTIFl/kabvvienYnp9hl6GuEtuDfPx1YOtsZj+nyzlGvKuGaFjTEFsWngQmoKfHoeIjPtSFHPfGg/FIzW3sqz9TGKSAyZp0NxwS09aPv0BnCNlmngNCgFAO2N9aW3xTRElJ8t4otvsrEDphDi86TvqecM8cU37ciA0/36GkKuEeIienpz2UZY20mc07BsB/hSAtsFBnqBub6Ib+3yeno0yJCChkKD+14x6JuscvG1+UJ8U77m4kv3FHJKkILC9E3JqBBfXLfK+0yhwX32Ihvo0eRLCfQC6vvJ0ZvIN545SKKgJytyjK43+HQvJl/i4PoyBnrcuK6P3iN6unmPOdXKASHtwHQQxLJyraM+NR6Z9lD3ippu4cK2nQ4CtikUZ2wLdCHI9pNeYD3ob26aT/9H9j7FxutFfMXwXWWHayq+OOriSJGjHW4XwYaX4ofeKq494IPHkT7Xd9HTRPFGMacvaOfifD60nJrhWiW+EccRLhtFNjL6iMlW8cXRC0ddXOvCdVy8nutd2Ehz7QB/4/QcBQ49b6Y7xdsjJiJ7G/Q3u+ghZKdDbwlFBztMMtDf8mMHQy+UvmktpxPoIaAo5RQj3fls8ChownubLKbFF3mxoWQ9OA3DjkM/V4/rQ+glomeU9sF7ou+Ab++0IwU1WdImuUaGAt806NskmHO1dj8jEkPm1+meVn7PjpdCzDSYnmHHKSje+6gWX/qmqpwWJwf9RRNniC+KK33ahwMCehk4UKDXk8+9vnkqvR98vk23ZOELOPTUcYCk771Fzwg9LbRxfVDBzpXLFNi50gvENTt8qYOig2mEJzosvQ2t7w2nv6Wn34/Iii+KXnrq2N5wmQXtnoNTPdDbru+FZs7Cmj1SjHKtFQULp175gg49Pnz++XwxcCkH2xJH9w20pW3jei4+Q7zH7A8o+Cmm2K62bNkyNAn2C2yn6PnmvWcfwDaa15tuH+Noe8jnm4w52Kao4oCdAx4OvMiDi/4ZGI/PGu2Qb8Tqe5HRIyteL1vuOCDiyzZO0RbLXHxx7QFHm6ZvinA0xFEeR2L0OFEwWApsPLggkw8xvWpsONko82HmQ6sfHcJrbRVfXEPD0SE7Ni6m1acmmDYbXn7PBpALyPmwmk6BOFN8sWPkJq8cwbIToSeIwoRr4vQ9n1hvffsL081BOaLUX69mfcmLYpMdlrWtGVxBfLE+FCe0DTbWXHdDrwjfMON0ChtF84OO7RVfEW1Nob8laImrJRu1V3wxDQ4kOPVlbfsLigu+pcp7Z95BRpSfLZ4vloGdOjs3ehz1Y76cIb6YN6eW6dmgN4GdHoUS13By6wE90OPM59N8rSAHShSL9JxxgMaOld5s/m8aaEecHmcHS88G7ycFWER75FkSX7qn0HwRf2TFl/7MWWuM9a1KrLGwdh1FHGcQOD2rH6zNtChoKDy5NpfLBSh6zblFVcdA+6XXluJFP8ya99z84HjmxwE2vWQceHBZBcUZ74Op7UemPaR3l9OsnDpmX8MBP9tW8+1GOMXI9pVCl59pKxReFJARvd0eVdzcOR0RXzF890zFl/52F8WC6fojNg78xxE4HyqKC0uBIz/ThaNsUPhmGD09XBMgQQhEJwFOSZofhB2d+UnaQsAaAd1zZHo+oaO0KOa4ppRi0nyhu6NpynVCQMRXDNuAqfjSz5KjJ4PfmweOLOwZUdBjRc+FrfuExTAKyd6NCXB6nN5VfTd6N66KFN3NCdD7y6lELmA33YrFzaslxY9lBER8xfANtTTtyDUTpotcZ82apRZ82vv2CKcp6Y6mK1iCEIhOAlybQls2P1Q5OvOUtIWAJQKcHeBAgMsgIpo2F4JCIKYIiPiKKfJv8zUXXxRYbDT4ph4XN3KxPKcOOQdPIWVr0I8NCe9oEFvTknhCQAgIASEgBIRA1BEQ8RV1LB1KyVx8MRG+ycM31PimExeOc+E0F4TbM4rjWyjcEoILSHnWlgQhIASEgBAQAkLANQiI+HKN+yClEAJCQAgIASEgBAxCQMSXQW60VFMICAEhIASEgBBwDQIivlzjPkgphIAQEAJCQAgIAYMQEPFlkBst1RQCQkAICAEhIARcg4CIL9e4D1IKISAEhIAQEAJCwCAERHw56UbzcFQew8Cja7gTvQQhIASEgBAQAkIAePbsmTpCjAfYG2WvQBFfTrJ87tvVo0cPJ+Um2QgBISAEhIAQcC8CU6ZMQffu3d2r0A6WVsSXg+DsvYwHXvOgVhoXD8aVIASEgBAQAkJACACHDx9WzolVq1ZZPEw8NjIS8eWku7pt2zZUqlQJW7dutXhuo5OKIdkIASEgBISAEHApAkbsH0V8OckEjWhcTkIr2QgBISAEhIAbEzBi/yjiy0kGa0TjchJayUYICAEhIATcmIAR+0dDiq+9e/eibNmy2LRpk9UpwAMHDqBbt27w8/NDunTpMGjQILRp08Zh8zaicTkMSy4UAkJACAgBwxAwYv9oOPH1/PlzteCdr7VaW3919+5d5M6dGy1btkTHjh2xceNG9OzZE6tXr0b16tUdeiCMaFwOgZKLhIAQEAJCwFAEjNg/Gk58dejQAWfPngVvtjXxNWbMGPzwww9KoHl4eKiHgF6v69evY8OGDQ49FEY0LodAyUVCQAgIASFgKAJG7B8NJb7WrFmD9u3bY+3atShYsKBV8VWrVi2kSZMGixYtCn0AFi9ejE6dOuHp06fw9PS0+8EwonHZDUkuEAJCQAgIAcMRMGL/aBjxde/ePSW4FixYgPz58yNTpkxWxRfjcU+u0aNHhz4EnHrklCOnJFOmTGn14bh8+TL4zzzo+5jIVhOGa1ekwkJACAgBIRAOARFfsdg8GjVqpETTnDlz4O/vH6744hFArVu3xuDBg0OJ7NixAxUqVMC1a9eQMWNGq6SGDRuG4cOHW/1dxFcsNjKpmhAQAkJACNhNQMSX3cjc4wJOGVIQHT16VJ2rGJH4KlCgAOrVq4dRo0a94/l68OABkiVLJp4v97j1UkohIASEQIQEQkJCsPLIDaw+ehPNPsyEKnnSRHiNRIg6AiK+oo6lS6XEneV3794NHx8fVS4+aC9evEDcuHGVh2v27Nlhylu7dm21vQQX3euBAq5z5854/PixrPlyqbsrhRECQkAIOE7g9pMADPzrGDaduqMSSZ3IF/sHVnU8QbnSbgIivuxG5h4X8C3Fly9fhhb21q1bKFeuHJYsWYJq1aohderUYSrCtx0XLlyo3orU33b8/PPPcfPmTaxfv96hShvRuBwCJRcJASEgBJxAgIPwPw9dx/BVJ/Ak4E2YHM+Mqglfby8nlEKyIAEj9o+GWXBvauLm046vX78GpxOTJ0+uvGO3b99W+3w1a9ZMnbDOzVh79eql3pKsUqWKQ0+LEY3LIVnE1sYAACAASURBVFBykRAQAkIgmgncehyAAX8dw5bTmrfLPOwbUAVpEseN5lJI8joBI/aPIr4qVrSourkLfteuXdU6scyZM2Po0KFo0aKFw0+LEY3LYVhyoRAQAkIgGgjQ2/X7QX+M+Ocknpp4u6rnTYOXgUHYee6eynVd93J4P23iaCiBJGmJgBH7R0OKr5gwfyMaV0xwljyFgBAQAtYIrDh8Hd1+ORz6c9L4cTC8bj7ULZQew1aewOI9V9RvP7criVLZUwhIJxEwYv8o4kuMy0kEJBshIASEQMwSGPT3MSzZe1UVomqeNBjbsABSJfJVf0/ZeBbTNp9Tn2e1KIJaBdLFbGENlLuILwPdbGdX1YjG5WzGkp8QEAJCIDwC7X88gA0nb6soW3tXRNaUCUKjL/73MoauPKH+HtOgAD4tkVlgOomAEftH8XyJcTmJgGQjBISAEIhZAg1m7obf1UeqEMeH10BCX+/QAplOSfapkRtfV8oRs4U1UO4ivgx0s51dVSMal7MZS35CQAjELgLn7zxF52V+yJkmEaY1KwxPT49IVbDMt1tw/dFLxPfxwskRNcOktePsXbRasF9917ZsVgz6KG+k8pKLbSdgxP5RPF+220ekYhrRuCIFTC4WAkLA8ASGrjgeugj+t69K4cMsyR1mwjcdcw9ah9dBwciSIj629akUJq1j/o/x8Yxd6rtGRTJiUtNCDuclF9pHwIj9o4gv+2zE4dhGNC6HYcmFQkAICAEAbRbux9YzdxWLSU0KoVFR6+fqRgTs8YtAFBqxQUUrniU5fv2qVJhLrj14gXLjt6rvqryfGj98/mFEScrvUUTAiP2jiK8oMp6IkjGicUXERH4XAkJACIRHoMaUHThz+6mK0qtaLnSpktNhYOduP0W1KTvU9XUKpMP3LYqESev5qzfIN1Q7waRI5qT4s1MZh/OSC+0jYMT+UcSXfTbicGwjGpfDsORCISAEhACAAkPX4+kr7eif5sUzYWzDgg5z2X3+HlrM36eu/7x0Fgyrmy9MWqbTknwLkm9DSnAOASP2jyK+nGNbhjy7ykloJRshIARiIYEnAYEoOEybJmQonysVfvyiuMM1/dvvOrov1zZY7VszNzpVfPdtxuKjN+HO01fg5quHh1R3OC+50D4CIr7s4yWx7SBgROOyA49EFQJCQAiEIXDm1lPUmKpNEzLkSJ0Qm3pWcJjS3B0XMGbNaXX9hMYF0aRYpnfS0qc5PTyA86NrwyuSb1c6XFiDXWjE/lE8X04yciMal5PQSjZCQAjEQgJbz9xBm4X/hdaM20OcGF4DHlRGDoRR/5zE/F2X1JWLvyiOCrlSvZNKszl7sO/SA/W93+BqSJbAx4Gc5BJ7CRixfxTxZa+VOBjfiMblICq5TAgIASGApfuuYOBfx8OQODykGpLGd0wQdf3ZDyuP3FDpre1WDnnSvXtwdsclB7H2+C0VZ0uvCsiWKqHcCScQMGL/KOLLCYbFLIxoXE5CK9kIASEQCwlMXH8GM7aeD1Oz1V3LIl/6JA7Vtvncvdhz8b669sCgqkiZUDvT0TT0//MYft6vnf34R8fSKPpeMofykovsI2DE/lHEl3024nBsIxqXw7DkQiEgBAxPoOfyw/jT73oYDvNaFUO1vGkcYlNl0jZcuPsc3p4eODuqlsXd8sevO42Z2y6o9Oe3KoaqDublUAENfJER+0cRX04yeCMal5PQSjZCQAjEQgKm66/06g2vmw+tS2dxqLYFhq3H04A3SJs4LvYOqGIxjXk7LmL0mlPqN2uL8h3KXC4Kl4AR+0cRX056KIxoXE5CK9kIASEQCwmUH78VVx+8CFOzDuWzoX/tPHbXNiAwCO8PXqeuK5gxCVZ2Lmsxjd8OXEOf34+q3wbWzoN25bPZnZdcYD8BI/aPIr7stxOHrjCicTkESi4SAkLA8ASCg0OQe/BaBAaFqO0egoJDFJOPCqbDjE/D7kxvCyxbjw7afOo2vlx8QCXZqWJ29K35vi3JS5xIEjBi/yjiK5JGY+vlRjQuW9lIPCEgBISAKYE7TwNQfPTmUE/VUf/H6rOjx/4cvPIAjWbtUWmEt1P+wSsP0WjWv2/jZcbYhgXkxjiBgBH7RxFfTjAsZmFE43ISWslGCAiBWEbg8LVHqP/9blWrxkUzYv3xW+qYofDWa4WHYO2xm+i49JCK0rVKTvSslsti9It3n6HypO3qt5r50mJ2y6KxjKxrVseI/aOILyfZohGNy0loJRshIARiGYE1x26ik4lYovjiAdvcX/XMyFrw8fa0q8Y/7rmMIStOqGtG1s+PliXfs3j9w+ev8cHIjeq3ElmTY3mHUnblI5EdI2DE/lHEl2O2YvdVRjQuuyHJBUJACAgBbvOw8yJGrdbeOvy2YQGsP3ELW8/cVX/v7FsJmZLHt4uT6Z5hc1oWRY18aS1ez7VlOQauQUgIkDtNIqzvUd6ufCSyYwSM2D8aSnz5+/ujR48e2Lx5M4KDg1GzZk1MnDgRGTNmtGgxpUqVwt69e8P89uWXX2L+/Pl2W5gRjctuSHKBEBACQgDAiFUnsWC3dhQQD9PecPIWluzVNj/9pX1JlMyWwi5OfX8/gl8P+Ktr/upUGh9ktr55auERG/DoRSBSJ/LF/oFV7cpHIjtGwIj9o2HEV0hICAoXLoxUqVJh0qRJykK6du2KJ0+ewM/P7x2LYfwkSZJg9uzZqFy5cujv8ePHR+LE7x5LEZHJGdG4ImIivwsBISAELBEwPeZnU8/y2HDyNsavO6OiTm5aCA2LWB4wW6PZZuH+UM/Zrn6VkDGZdc9Z5YnbcPHec/h4eeLMqJoOnyUpd9Z2AkbsHw0jvm7duoXu3btjzJgxyJZN27tlxYoVqF+/Ph48eIBkycKOhC5fvoysWbPi4sWL6v/IBiMaV2SZyfVCQAgYk0C9Gbtw5O0bjjxMe9Op2+j2y2EFo3f1XOhcOacGJuAJ4JMA8PQKF1Sd73bixI0nKg4Fla+39fgNZ+7GoauPVNzjw2sgoa+3MW+CE2ttxP7RMOLL3I6uXr2Kdu3a4f79+zhwQNvXxTSsWrUKzZo1w7Nnz+Dpad/iTks2a0TjcuKzK1kJASEQiwh8OHoT7j59haTx4+DwkOr47/IDNJmtbxWRGWMb5Af+6QEcXAh4egOJMwBJM2v/kmTS/k+dB8ig7Qlmnl54qL5c9B82n76jojiyviwW3QanVcWI/aMhxRe9XfR60dvFm16wYMF3jIweshkzZqBChQrYvn07UqZMCa736tKlS7hijB4z/jMPhw8fVuvNtm7diooVKzrNqCUjISAEhIA7EXj1Jgi5B2m70edJlxhru5XD9UcvUebbLeq7CrlSYXHeg8C6byKuVo0xCCrRCTkHrgH3ac2VJiE29KgQ7nW9fj2CPw5p68NWdS6LAhkdO8g74sJJDJ2AiC+D2MLRo0cREBCAUaNGYd++faAwSpcuXZjaf/rpp1i9ejWmTZuGokWLYvfu3ejTp4/6N2TIEKukhg0bhuHDh1v9XcSXQYxMqikEhIBDBK7cf44KE7apa6vmSY35rT/Em6Bg5Bq0VgmoRskvY9LLwUBIkJZ+sqzA05vAm4B38/Pywf2Wm1B0tiamyuRIgaVtS4ZbrlH/nMT8Xf9f7F8+VyqH6iEX2U5AxJftrGJFzBcvXiBTpkzo3bs3+vfvH6ZOQUFBeP78eZjF9ePGjVNrxh49emR1EaZ4vmKFaUglhIAQiCECey7cR/N52lvm3I+L+3IxlB67GUGPb2C170Ck9NB2vEfx9kDtCVB7Qzy/Czy6qv078SdwapWK8iJlQRTw74MgeKHBBxkwpVnhcGv2/dbzmLBeW9w/7ZPCqFc4QwyRME62Ir5i8b3mgnt6nZo3bx6mlsWLFwf/cYoxorBmzRrUqVMHDx8+RNKkSSOKHuZ3IxqXXYAkshAQAkIAwB8H/dHrtyOKRb+a76Njxezq8yczt6HvrV4o4nle45SpJNB6FeDt8y63V8+AWaWBR1fUbxMCm+L7oPqw5WDuZfuuYsBfx9R1w+vmQ+vSWeS+RDMBI/aPhlnztX//fpQoUUJNM1JsMTx+/BiZM2fG6NGj0blz5zDmxT2+GI/TjnoYMWKE2nrixo0bdpuiEY3LbkhygRAQAoYnMGPLOUzccFZxMPU87ZzaCuUerVDfB8ZLjTiddgKJLG+WqiJd3gUsqqM+vg7xQt3Xo9G4dg20Lae97W4tmB5F1K1KTvSwchSR4W9UFAIwYv9oGPHFTVW50J1ThvPmzYOPjw+++eYbnDt3DkeOHIG3t7cSY9wHzMvLS+0FNnDgQMydOxdlypRRC/O5L9jkyZPRoUMHu83OiMZlNyS5QAgIAcMT6P/nMfy8X9tQ9bevSuHDLMkBvyXAiq814RXihcNVluDD8rUjZrW2H7Bvtop3Ivg9XKi/EnWLhO/JMp32bF3qPQyvp017Sog+AkbsHw0jvmg29+7dU+u7OH348uVLVK9eHVOnTlXrvhYtWoQ2bdrg0qVLyJIlC7jJKn+bNWsWuC0FPWR8W7Fjx44OWaARjcshUHKREBAChibw+cL92Pb2KCG1IerLM8APNYCgV4rL4MDPkfOjHmhVyobpwNcvcH/Sh0jxSltwf61gN2RqOCJcvqdvPUHNqTtVnLqF0uO75h8Y+n44o/JG7B8NJb6cYUTW8jCiccUkb8lbCAgB9yRQfcp2nL39DJ48RHtACcSZXwl4rHnC/ggqi16BHdGhQnb0r5XHpgpOmLcYvfy7wdMjBCGe3vBouxlIb33R/Z0nASg+ZrNKu1zOlPjpyxI25SORHCdgxP5RxJfj9mLXlUY0LrsASWQhIASEAID8Q9fj2as3SJckLvYUWgfsn6u4BKTIh8LXeyMAvvi4UHpMt9Ej1WjWv6hxfQbae6/W+KbOB7TfCnj7WuT9+o22rQVDgQxJsKpLWbkv0UzAiP2jiK9oNio9eSMal5PQSjZCQAjEEgJPAgJRcNgGVZsyGX2w9MnnwOtngJcPnrT9FwWnaQvxi76XDH90LG1TrcuN34I7Dx5jje8AZPd4+7JUud5AlcFWr883ZB2evw5ChqTxsPub/5/ta1OGEsluAkbsH0V82W0mjl1gRONyjJRcJQSEgFEJmK63Gp9pL5re/U5DUfAThDSYjQLDNvzfK9a/SoSYuHY3z5B1CAgMRo0k/pjz+hsgJBjw8AI67QVS5bKYBnfT5676CXy8cGJEzQjzkQiRI2DE/lHEV+RsxuarjWhcNsORiEJACAgBAFtP30GbRf8BCMGBpAOQMkDbpwtttwAZi6LGlB04c/upth5sVC3E8Qr/3F1TT5rylmVfC/z7VtCV7ATUHGuR+0fTd+L4de0g7rOjasHHO/Ln+8oNtk7AiP2jiC8nPRFGNC4noZVshIAQiCUEluy9gkF/H0dpz+NY5jNGq1X6ItoaLQBtFu7HVtM3IZPFD7fm5+88Q9XJ21WcWvnTYla9jMCUvEDwGyBeMqDnaSBO3HfSaPnDPuw8d099v39AFaRO/G6cWILcJaphxP5RxJeTTM+IxuUktJKNEBACsYTAhPWn8f3WC5gTZzJqeB3QalV/NlBYO5lk4F/HsHSf9ubj8vYlUSJbinBr/u+Fe/h03j4VJ3TPruWfhR49hIbzgYJN3kmj689+WHlEWx+2vnt55E6bKJYQds1qGLF/FPHlJFs0onE5Ca1kIwSEQCwh0GP5Yez3O4wdvt3h5RECxE8B9DgZ6p0yPXdxSrNCaPBBxnBrvuLwdXT75bCK07t6LnSunBM4vwlY0ki77r2yQJu3b0GapDR0xXEs3qNNef7SviRKRiDyYgn+GKuGEftHEV9OMjcjGpeT0Eo2QkAIxBICTefsQcVrM9HJe6VWo7I9gKrDQmv3t991dF+uiak+NXLj60o5wq35/J0XMWr1KRVnfKOCaPphJiA4GJhWKHTvMHQ+AKTMGSadKRvPYtrmc+q7WS2KoFaBdLGEsGtWw4j9o4gvJ9miEY3LSWglGyEgBGIJgSrj1uHXF22RwuMpQjw84dHtCJA0c2jt9l96AAo0hk9LZMaYBgXCrfmYNacwd8dFFWdhmw9RKXdqLf72CcDWUdrn0l2A6m8/v01t0e5LGLbqpPqLeTAvCdFHwIj9o4iv6LOnMCkb0bichFayEQJCIBYQCA4OQb8h/THBe5ZWm/c/Aj5ZGqZm/g9foOw4bfF9xdypsKhN8XBrzmnMv/yuqziru5ZFvvRJtPhPbgBT8mnbTnBqs+epMJuumk5X2uJhiwX4Y7QKRuwfRXw5yeSMaFxOQivZCAEhEAsI8FifGxNLobCn5qlCqxVAtophahYYFIzcg9YiOATIlSYhNvSoEG7NW8zfi93n76s4+wdWQepEJm8t/twcOLNGu77xQiB/w9C0dpy9i1YL9qu/25XLioF18sYCwq5bBSP2jyK+nGSPRjQuJ6GVbISAEIgFBM4c3Ircq+qrmtz2yYw0/Y8CHh7v1KzU2M24+ThAbYB6fHgNeFiIo19UbfJ2nLujnRN5bnRtePGDHs6uB5Y11f7KWgFo/XadGYBj/o/x8Yxdmi4rmhETmxSKBYRdtwpG7B9FfDnJHo1oXE5CK9kIASEQCwj4L2iFjFdXqJpsydYHlVsNslgrntV48MpD9duRodWRJF4cq7UvPGIDHr0IROpEvtg/sGrYeMFBwNQCwBNtWhJd/YDk2dTHaw9eoNx4bXqzyvup8cPnH8YCwq5bBSP2jyK+nGSPRjQuJ6GVbISAEHB3As/vIWji+/AKCcSzkLhYX2MrGpW2PNXX5Wc/rHq7B9fabuWQJ11ii7V/9SYIuQetU7/lS58Yq7uWezfe1rHA9m+1703erOTB3jzgm6FI5qT4s1MZdyfs0uU3Yv8o4stJJmlE43ISWslGCAgBdyewcxKweYSqxeI31ZC11SyUz5XKYq3Grj2FOdu1dWE/tC6GKnnSWIxnuji/Uu5UWGhpcf6ja5r3CyFAgtRAz5OAVxzwTMhcg9YiMCgE2VImwJbeYdeeuTtuVyu/EftHEV9OskIjGpeT0Eo2QkAIuDOBoDfavltP/FUtqryagDk9PkWO1Akt1urHPZcxZMUJ9dvIevnQslQWi/EOXX2IhjP/Vb81K5YJ4xoXtExpaRPg3Abtt6Y/AXnrqo/FR2/CnaevkCx+HPgNqe7OhF2+7EbsH0V8OcksjWhcTkIr2QgBIeDOBM5tApZqO87vDsqHFoEDcXJEDcT38bZYq00nb6Ptj9rRQ19VyI5var1vMd76E7fQ4aeD6rculXOgV/Xclimd+gdY3kL7LXsVoOWf6qPpId7vLNZ3Z94uWHYj9o8ivpxkiEY0LiehlWyEgBBwZwIrvgb8lqgadH39NXbErYjD4XiaTt54gtrf7VTx6xZKj++af2Cx9j/tvYLBfx9Xv42olw+trHjIEBQITMkPPLsFwAPgxq7J3kOzOXuw79IDdb3f4GpIlsDHnSm7dNmN2D+K+HKSSRrRuJyEVrIRAkLAXQlQ+EzMCbx8iFchcVDk1Wy8ly4N1nSzsDj+bR0fvwxEoeHaNGGx95Lh946lLdZ+8oYz+G7LefXb7M+KoGb+cI4I2jwS2DlRS6d8H6DyIHz100GsO0FBBmzpVQHZUlmeBnVX9K5UbiP2jyK+nGSBRjQuJ6GVbISAEHBXAiaHXG8IKor2gb1QNU9qzG9tfWsHLoYvMGwD+EZi+iRx8W//KhZr3//Po/h5/zX12x8dS6Poe8msU3p4WVt3xpAoPdDjBPr/fdz2692Vv4uU24j9o6HEl7+/P3r06IHNmzcjODgYNWvWxMSJE5ExY0aLJrhhwwb07dsXZ86cQfbs2TFu3DjUqVPHIXM1onE5BEouEgJCwDgEVnYBDv2o6tvtdSesCC6LVqXew4h6+cNlUH3Kdpy9rW2eenZULXh7eb4T/8tF/2Hz6Tvq+519KyFT8vjhc138MXBphxbniw0YfzIJZm67oP4M761K49ys6KupEftHw4gvjpYKFy6MVKlSYdKkScqKunbtiidPnsDPz+8dqzpx4gSKFi2KoUOHokGDBli6dCnGjx+PQ4cOIV++fHZboRGNy25IcoEQEALGIaCmHHMBLx8gyDMOCr2YhWeIj34130fHitnD5fD5wv3YduauirP7m8rIkDTeO/E/nr4Lx64/Vt+fHlkTceN4hc/2v/nA6l5anFKdMS/elxi95pT6kzvcc6d7CdFDwIj9o2HE161bt9C9e3eMGTMG2bJpuxivWLEC9evXx4MHD5AsWViXdPv27XHu3Dls3artcsxQqVIl5MyZE3PnzrXbAo1oXHZDkguEgBAwDoELW4CfGqj6XkxeDpVvdFSfp31SGPUKZwiXw4C/jmHZvqsqzm9flcKHWZK/E7/EmE24/eQVEsf1xtFhNSLm+vQ2MIlvRIYASTLjt7Kr0eePY+q6QXXyoG05rd+QEPUEjNg/GkZ8mZvL1atX0a5dO9y/fx8HDmivLZuGPHnyoFmzZhg2bFjo18OHD8cvv/yCU6e00ZA9wYjGZQ8fiSsEhIDBCKzsChxarCr9a6aB6HtOm1H4/atSKGZBTJnS+X7reUxYf0Z9ZUmsBQeHIOegtQgKDkH2VAmwuZeNm6QuqAlc3aPS3Vf1TzT7J0B97lQxO/rWtLylhcHuWrRU14j9oyHFF71d9HrR28WbXrDgu5vvJU6cWE1PUqDpYd68eWrN2LNnz+w2QCMal92Q5AIhIASMQYAbq07KBby4D3jGwVfpf8O68y9U3a1NI5qC+cvPHz2WH1Ff9amRG19XyhGG271nr1Bs1Cb1XalsKfBz+5K2cd0zE1jfX8W9WbATSu0vqz43L54ZYxtyJ3wJ0UHAiP2jIcXX0aNHERAQgFGjRmHfvn04fPgw0qUL+xqyt7c3Fi5ciJYtW4ba2o8//ogvvvgCb968sWp/ly9fBv+ZB+ZB4cZpzIoVbRyFRYeVS5pCQAgIgZgmcHEb8GM9rRQ5a6Da7a9x7k74C+hNi7zv4n00m7tXfdWiRGaMbhBWGJnuBVavcHpM+8TyXmDvYFDHDWmL/V8nzYZct0aqvb9q5U+LWZ8VjWlqsTZ/EV+x9tZartiLFy+QKVMm9O7dG/37a6MdPSRKlAhTpkxB27ZtQ7+j54txHz/WFnFaCpym5PSktSDiy2BGJtUVAkLgXQKrugMHF6rvQ+rNRP6/UuD56yCkSxIXe6xsHWGayLUHL1BuvLYe19K5jdvP3kXrBfvV7+3KZcXAOpYP6bZ4a+ZWAm4cUj9VfzUOZ0MyoWS25PilfSm5k9FEQMRXNIF1hWS54J7Cp3nz5mGKU7x4cfDfjBkzwnyfN29eFXfw4MGh31NULV++HCdPnrRaJfF8ucLdljIIASHgsgSCg7S3HF/cU1OOj7ucQqFxmlDiXlzckyuiEBgUrA6+DgkBsnFNV88K8PDwCL3stwPX0Of3o+rvAbXfR/vy4b89GSa/nZOBzdoAesqbRpj2phHeT5sI67qXj6hY8ruDBER8OQjOHS7bv38/SpQooaYZKbYY6MHKnDkzRo8ejc6dO4epBt92vHjxIjZt0tYNMHC6MHfu3JgzZ47dVTaicdkNSS4QAkIg9hPgXlrcU4shRzWcqrIAtaZpxwV9VDAdZnxaxCYGlSZuw6V7z1Vc83VfpgvypzYrjPofhP/2ZJgM718ApmtlOIvMqB7wLVIn8sX+gVVtKpdEsp+AEftHl1rzxW0gHAkDBgyI8DJuqkrx9OjRI3D60MfHB998843aTuLIkSPgGi+KMe4D5uXlhWPHjql9vjgdSQ/YsmXLMGHCBBw8eBD0itkbjGhc9jKS+EJACBiAwD89gQM/aBWt9z1WeFRCt18Oqz+5vxf3+bIlrDh8PfQ6xjc9QmjYyhNY9K+29nZZ2xIonSOlLUn+P87M0sCdE+rviq8m4YZnBpwZVTOMd82+BCV2eASM2D+6lPjy9PRUu81T/NgSgoKCcP36dfB/W8K9e/fUmq01a9bg5cuXqF69OqZOnarWfS1atAht2rTBpUuXkCVLFpXc6tWr1Q73Fy5cUB4vii9e40gwonE5wkmuEQJCIBYT4JTjpPeB53cAT2+g9zkM2nAdS/Zqe3bNa1UM1fKmsRnAhPWn8f1WbRf6eHG81J5f+TMkwddLD2H1sZvq+409yiNnmkQ2p6kibvsW2DZWfRwX+AlmBdXFieE1kMDX2750JLZNBIzYP7qc+OLarNSpU9t0wxg3ffr06qggVw9GNC5XvydSPiEgBJxM4PIuYNHbI9qyVwFa/omaU3fg9K2nqiB+g6shWQIfmwvF/by+XnYIa49rB2CnSeyLlZ3LovOyQ/jv8kP13ZEh1ZEkfhyb01QRb58EZmkL7A8HZ0P916Owq18lZEwWwRFF9uUisd8SMGL/6FLii2cn8sifePHePSrCkpXybcXp06ejX79+Lm/ERjQul78pUkAhIAScS2B1b+C/eVqedafj8fvNUXjkBrVwPmfqhNjYs4Ld5Xnx+g2aztmD49efqGsLZEiC+89e4cbjAPh4e+LMSAemC1mgGcWA++dVmqUDvsPcLvWVV01C1BMwYv/oUuIr6m+p66RoRONyHfpSEiEgBGKcAKccJ+cBnt0GPLzUlOOWa2/wxSLthJHIbGR663EA6s7YhTtPX4WpJs985KatDoVNw4Fdk9WlIwJbomLroSifK5VDSclF4RMwYv/oduLr9u3baqrR1nVermL0RjQuV2Ev5RACQsAFCFz5F1hYSytItkpAq78xbt1pzNqmrdma3LQQGhZx/PDqo/6PlAcsIPD/y1A+yJwUf3Uq41jlb/gBc7UNsfcH58bNhn9FeOakYxnJVUbsH91OfD1//hwTJ07E0KFD3cpijWhcbnWDpLBCQAhEL4E1fYH9b7fp+XgaUPRzNJn9b+jarJ19KyFT8sitqVpz7CY6LdU2SGWo7OthNAAAIABJREFUkS8N5rQs5li9QkLwbHw+JHx5HcEhHvit4iY0q+RgWo6VwDBXGbF/dDvx5a7WaETjctd7JeUWAkIgignwpagpeYGnN99OOZ5FgE8yFBy2Aa+DgpE2MXe2rxwlWzlM33wOkzaeVRXoXCkHetfI7XBlLi3thqznFqnrt2Tvh8otI97WyOHMDHyhEftHlxVfN27cCNcUOfXoTsGIxuVO90fKKgSEQDQS8D8IzH+79ipLOeDzf/Df5QdoMnuPytSezVUjKmVISAiW7LuKC3eeoWuVnEhux9uT5mkf27MBBdY3UV9fTFQM2Xptjih7+d0BAkbsH11WfHHPL9PjIszvp6z5csDC5RIhIASEQEwQ2DwC2DlJy7nmOKDkV5i57TzGrzujvhpRLx9aldL2V3SlcPrmIySdXRhpPR4iCJ7w6nsBiJ/clYoYK8oi4suFbuP27dvDlCYwMFDtRj958mT17+OP3x5P4UJlDq8oRjQuN7k1UkwhIASim8D3JYG7p7Rcuh8DkmbGF4v+w5bTd9RXa7qWQ970iaO7FHanf/tJANaN/wytvTdq19adARRpaXc6ckH4BIzYP7qs58varVq3bh2GDRuGvXv3upU9G9G43OoGSWGFgBCIHgImZyUibQHgq13g5qiFR2zAk4A3SOTrjcNDq8PL8/8HY0dPQexP9dWbIHw+ZBJ+9hmtXZyzBtDiV/sTkivCJWDE/tHtxBcPu86XL586HsidghGNy53uj5RVCAiBaCLw73RgwyAt8QrfAJX64/StJ6g5VTtMu0KuVFj8RfFoyjzyyRYcshrbPdojmcczwMsX6HsR8E0Y+YQlhVACRuwfXVZ8WVpw/+TJE/Dw7QMHDuDkyZNuZbpGNC63ukFSWCEgBKKHwIJawNV/tbQ77ADSFcJPe69g8N/H1Vd9auTG15VyRE/eUZBqmW+3oOfzyWjkpYlFNP0JyFs3ClKWJHQCRuwfXVZ8WVpwz7dYEiZMiCVLlqBuXfcyfiMalzQtQkAIGJzA8/vAxBxASDCQJJO23svDA11/9sPKI9ob7cvbl0SJbClcFtRH03ciw81NmOMzVStjoeZAg9kuW153LJgR+0eXFV/mC+755qOPjw/y58+vBJi7BSMal7vdIymvEBACUUzAbymwopOWaPEOQO3x6mPpsZvV2YtxvDxwbFgNxI3jFcUZR11yLX/Yh4Pn/OHn2wG+HoFAvGRA7/OAl3fUZWLwlIzYP7qs+IpttmhE44pt91DqIwSEgJ0Efv4UOLNau6jVCiBbRVx/9BKcymMokjkp/nT0+B87i+Jo9C4/+2HVkRuYH2cCqnr5acm0/gfIWk59fPk6CJ6egK+36wpIR+vurOuM2D+6nfji8UKTJk3CkCFDnGUXUZKPEY0rSsBJIkJACLgngdcvgPHZgDcvgbhJgD4XAK84WHH4Orr9cljVqUOFbOhfK49L12/oiuNYvOcKmnltxbg487SyluyEN9VGq3Mpp289j2Tx42Bdt/JIFokNXV0aQjQXzoj9o9uJLx6snS5dOgTzuAo3CkY0Lje6PVJUISAEoprA6TXAL821VAs0BRppwmXgX8ewdN9V9Xl+q2KomjdNVOccpelN2XgW0zafQ0o8xn9xO8EDIQhMlBmNfGbi6PUnoXmNb1QQTT/MFKV5GyUxI/aPbie+3NUYjWhc7nqvpNxCQAhEAYG/vwYOL9ESarIIyNdAfawxZQfO3H6qPvsNruby3qJFuy9h2Crt7fr/0o5Hqkea167Gq29xJiRzKKi2ZbNi0Ed5owCc8ZIwYv8o4stJdm5E43ISWslGCAgBVyMQHARMzAW8uAd4+bzdGysRHr8IRKERG1Rpc6VJiA09Krhayd8pj+k0aReff9DLc5mKMymwMZbHb447T1+pv8vlTImfvizh8vVxxQIasX90WfEVEBCAuXPn4tixY9DPceRWE69evVL7fJ09q51a7y7BiMblLvdGyikEhEAUE7iyB1hYU0s0R1Xgsz/Ux82nbuPLxQfU509LZMaYBgWiOOOoT2772btovWC/Sjibxw1s8e2tPl+PlxuJu+1G8dGb8TIwCGkS+2LfgKpRXwADpGjE/tFlxdeXX36Jn3/+GcWLF8euXbtQvnx5XLhwAf7+/ujVqxfGj9deWXaXYETjcpd7I+UUAkIgiglwR3vubM/w0RSg2Bfq47drT2P29gvq85RmhdDgg4xRnHHUJ3fM/zE+nrErNOFt8fogS8h17e8eJ1Dvp8s44v9Y/Xl4SDUkje8T9YWI5SkasX90WfGVOnVqfP/992jSpAly5cqFVatWIUeOHGjevDlSpkyJmTNnupU5GtG43OoGSWGFgBCIGgIhIcD0IsCDi1p6PU8DidOpj41n/YsDVx6qzzv7VkKm5PGjJs9oTCUwKBi1pu3E+TvP0KhIRoxO9Dvi7vtOy7H2RPS5Uhy/HfRXf/7aoRSKZ00ejaWJnUkbsX90WfHl6+uLc+fOIXPmzGjQoAEaN26MFi1awM/PT/19+fJlu62Qb0r27dsXGzZsUGdDlihRQm1bwY1bLYVSpUq9c4A3PXLz58+3O28jGpfdkOQCISAE3J/AndPAzLdrnzIUBdppe3oFBAah4LANeB0UjHRJ4uLfbyqDm2e7Q3j9JhhPAwKRIqEvcG0/8EM1rdjZKmF+1skYtfqU+nNk/fxoWfI9d6iSS5XRiP2jy4qvLFmyqGlHCiAKJgZONfJg7QIFCoD7fdkTuDVF2bJl1cM+ZcoUtUv+yJEjsWXLFnVOZIoUYY+34PqyJEmSYPbs2ahcuXJoVvHjx0fixIntyVrFNaJx2Q1JLhACQsD9CeycBGweodWj8mCgvLZGav+lB2g6Z4/6/HGh9Jje/AP3rCu3OZqUG3h+B/CMg90N96PFEk18UXhRgEmwj4AR+0eXFV89e/bEmjVrsGjRIjx+/BitWrVSC/D//vtvHDx4EEePHrXr7tJjVqRIESW08uTRNvV7/fo1kiVLhlmzZqn0TQM9a1mzZlVij/9HNhjRuCLLTK4XAkLADQnMqwJc1xbVo9M+IPX76uP3W89jwvoz6vOIevnQqlQWN6zc2yKv7AocWqz+eFR7Ngr/qQ3IOeXIqUcJ9hEwYv/osuKLbzX27t1beb4+/fRTtG3bVgmxRIkS4ddff0W1am/dvjbe4/v376spxFq1aoGHdjMEBgYq79bYsWPRrVu3MClxjVmzZs3w7Nmz0Pg2ZmUxmhGNKzK85FohIATckMCTm8BkTWwheTagyyF1kDZDm4X7sfXMXfV5bbdyyJPO/hkElyFydj2wrKkqTki+hih8sjkevwxE0vhx1N5l7jKd6io8jdg/upT4ojeL6690cWRuGBRCcePGhbe3dqApt6A4ceIEChYs6JANcb1Xnz59VBq6N0xPaMyYMZgxYwYqVKgAHvLNRf5c79WlS5dwxRg9ZpbWox0+fBg9evTA1q1bUbFiRYfKKxcJASEgBFyawIEFwD89tCKW6gzUGK0++j98gSqTtuPVm2AkiuuNw0Oqw8vTPdZ7WeQdGKAdnRT4HPBNjOZJl2LPFW3j2P0DqiB14rgufZtcrXAivmL4jnh5eeHWrVtIlSqVTSXhAvr06dOH7gNm00VvI61cuVIt4u/atSsmTpz4zqX0tq1evRrTpk1D0aJFsXv3biXU+C+8cyWHDRuG4cOHWy2KiC977pLEFQJCwK0ILGkEnN+kFbnNWuC90upjxyUHsfb4LfX5s5KZMaq+6+/vFSH35S2BUytVtIXZJmP4ybTq85IvS6BszpQRXi4R/k9AxFcMWwM9XnyjMV68eDaVhG8sLlu2zG7xxenLdu3a4ZNPPsHixYsterLoVeOiftPF9ePGjQM9Yo8ePbLqVhbPl023TiIJASEQ2wi8fARMyAEEBwIJUgG9zgCeXth57i5a/qBtUpokXhxs613R5Y8UsunWHPkF+KuDino6UzPUPFdPfR78UV58WTby64RtKkMsiSTiK4ZvJKfjHJkrpzfJ1jB69GgMGjQInTt3xnfffWdXfnwBoE6dOnj48CGSJk1qa5YqnhGNyy5AElkICAH3JnD0V+DPdlodin4OfDwN3KKh1rQduHBXezs9Vm3F8OKBJjZDgvAqflrkfjAJgAeaFcuEcY0dWwrj3gbgeOmN2D+61Jovx2+dbVdyq4p+/fphxIgRGDx4cLgXcaE/d9fntKMeeB23nrhx44ZtGZrEMqJx2Q1JLhACQsB9CSz/DDi1Sis/jxPKURVzd1zAmDWn1Vd50yXGqi5l3Xutl/ndWfQRcHmn+vbjV6NwLCQbCmdKir+/LuO+9zEGSm7E/tEw4ouL+bnVROvWrUHvl2ngG5Sc8uSWFlxvxrVnXIw/cOBAtb1FmTJllOeK68MmT56MDh00V7M9wYjGZQ8fiSsEhIAbE3j9QluA/uYl4JsE6HMed14Eo9LEbXj+OkhV7PevSqFYlli2+/ve2cC6fqp+Cz0bYviLxkjg44Vjw2rA051fKHCyKRqxfzSM+BowYIDaUsJS4GarGTNmRJs2bXDp0iVwg1dusjp16lS1B9jVq1fVTvt8W7Fjx44OmaURjcshUHKREBAC7keAHi96vhgKNgMazkWP5Yfxl592BmLDDzJgcrPC7leviEr82B+Ykk/FuumdAaWe8cxhD7c5Oimi6jnrdyP2j4YRX84yImv5GNG4Ypq55C8EhICTCPzZHji6XMus2RL8F68MmszWdrNP6OuNLb0qxN7tF+ZVBq4fVHWt8epbnAnJjB9aF0OVPGmcBN/9szFi/yjiy0l2a0TjchJayUYICIGYJPDmtbbw/NVjIE58BPU+j49mH8Kpm09UqQbVyYO25bLFZAmjN+9dU4FNQ1UeU980xNQ3jdG3Zm50qpgjevONRakbsX90OfHFXef37dun3ijkWYw8/sc0cOf7P/74Q+16707BiMblTvdHyioEhICDBLivF/f3YshTFz9lHonBK06oP3OkTqh2s4/jpZ0qEivDg4vAd9o5laeDM6Hm63GoXzg9pn7ipmdXxsBNMmL/6FLi69q1a+r4H56/yJAgQQJ1mLbpOqvIbKwaAzYVmqURjSsmeUveQkAIOImAyTmHz+rMRpk1KdRROwyG2XB0Vlng9jFV50qvJiFu2txKdEqwjYAR+0eXEl9NmzbFgwcP1ManDN9++y1mzpwJLpbnongGEV+2GbPEEgJCQAhEO4HgIGBiLuDFPYR4xkHXTL9j1RltT6/aBdJiZoui0V4El8hg+3hgq/YW/fjAZpiPBjg5oga8Y7PHLwrBi/iKQpiOJJU6dWps3LgRhQoVCr2cbxt+/fXXmDBhAnr16iXiyxGwco0QEAJCIDoIXN4NLKqtUr6QpBSq3O6iPsf38cLGnhWQIaltp5VER9Gcmuad08DMEirLo8FZUff1aGzqWUFNu0qImICIr4gZRWsMii/ehLx584bJh/ty8TxFHgtUvXp1h89zjNbCR5C4EY0rJnlL3kJACDiBwNpvgH2zVEb9AttheVAleHgAsz8rihr5tLMODRNmfAjcO6uqW/bVNAz4tAZqF0hnmOpHpqJG7B9datqxYcOG6rifn376CfHjxw9zL7/66issWLBAHQ3Eg6t59qI7BSMalzvdHymrEBACdhIICQGm5Aee+CMoxAPFX83EfSRBv5rvo2PF7HYmFguibx4J7JyoKjIysAUSVeqO7lVzxYKKRX8VjNg/upT4unDhgvJs+fv7g+coVqlSJfSuc9NTTj/yeB8KNBFf0f9ASA5CQAgIAasErh8C5lVSP+8NzoNPXg9GoyIZMbFJQbvOzI01hG8eAeaUV9U5GJwTP+SeY5w1b5G8iSK+IgkwKi5/8eIFNmzYoM5VTJ8+/TtJUpQtXbpU/XOnYETjcqf7I2UVAkLAPgKv1g+F756p6qJhga1wPGNzLG1XAr7eXvYlFFtih4QgeFoheD66omrULMECLO/zdguO2FLHaKqHEftHl/J88b7ev38f8eLFe2faMZruudOSNaJxOQ2uZCQEhIBTCQQFBePO2AJI98Zf5dvQdx7mdamHFAl9nVoOl8tsw2Dg3+80Qfrmc3wzdDLixjGoGLXj5hixf3Q58VW/fn20aNEC3t7eauF97ty57biFrhvViMblundDSiYEhICjBIKDQzDr99X4+mQLlcSxkOzw6bgdudMmcjTJ2HOd/wFgvrZcZk9QXiTpuB550yeOPfWLppoYsX90KfG1fPlyHDt2DCtXrlRrBvh24wcfxI5dgo1oXNH0nEqyQkAIxBCBo/6PMHTlCZS5vhC94/ymSnGhYC9kbzgkhkrkYtkGB+Ppt7mR6PUd9RLC+lo7UbtkARcrpOsVx4j9o0uJL77RyGOF1q1bhyZNmqjd7ZMnT+56luJAiYxoXA5gkkuEgBBwQQL3nr3ChHVn8OvBa+BLjv/4DEB+z8taSTsfBFLKOYb6bbv8U2dkufCT+nNd1v6o2fobF7yjrlUkI/aPLiW+aA5t2rRB6dKlcfHiRVSuXBnVqlVzLStxsDRGNC4HUcllQkAIuAiBwKBg/LTnCqZsOounAW9UqTJ63MEu3+5aCVPlAb7e6yKldY1i+B/ehIx/awvtj8UthgLfbHaNgrlwKYzYP7qc+Nq0aRPy58+PtGlj1wZ9RjQuF37WpWhCQAhEQMDv6kP0++Mozt5+FhozXhwv/JB9J0pfnqF9V74vUHmgsDQh8CYwEI9GZUdKj8d4Ay9497sAxEsmjMIhYMT+0eXE15EjR5ApU6ZYM92o25sRjUtaGyEgBNyTAPdVLD5mM+4+fRVagY8KpsOA2nmQflkV4M4J7fuv9wOpYsdLUVF5p1aPaYY6r9epJAM++h5xi30WlcnHurSM2D+6nPhq2bIlatSoobacKFGiBEqWLBkrDM2IxhUrbpxUQggYkMC1By9QbvxWVXOezzipaSGUzJYCuH0CmFVaI5K2APDVLgPSibjKM3+Yh07XequIjzNVRZIv/4j4IgPHMGL/6FLia9y4cbhy5QpWrVqlph55qHaWLFlihUka0bhixY2TSggBAxLYdPI22v54QNX8y7JZMfijt+ftbhoG7JqiEak2AijTzYB0Iq7y7C2n8Mn2Kkjq8RxBnnHg1ec8EC9pxBcaNIYR+0eXEl/ffvstLl++jNWrVyvxNX36dOTIETveojGicRm0HZFqCwG3JzBjyzlM3KAdEj2+cUE0LZYJCA4GphUCHl8F4AH0OAEkyeD2dY2OCmw+dRt3lnZAc2/Ne4i604EiraIjq1iRphH7R5cSX7Sixo0bgxutPn/+HMWKFUPRokXFuGIFAamEEBAC7kKg87JD+OfoTVXclZ3LoGDGpMDVvcCCGloV3isLtFntLtVxejk5bdt7wkws9x2p5Z2lHPD5P04vh7tkKOLLBe7UqVOn1JuOyZJF/dsht2/fRt++fdXZkS9fvlRryiZNmqS8bJYC4zH+mTNnkD17dnBatE6dOg5RMqJxOQRKLhICQiDGCVSbvB3n7jyDhwdwcnhNxPPxAlb3Av6br5Xto6lAsTYxXk5XLQBPASg4bC3We3RGBo/7WjG7HweSZnLVIsdouYzYP7qc58vcAvbt2wcKskaNGuHatWvIlSuXOnrI3hAcHIyyZcuqnfOnTJmChAkTYuTIkdiyZQtOnjyJFClShEnyxIkTyus2dOhQNGjQQB3kzU1fDx06hHz58tmbPYxoXHZDkguEgBCIcQKv3gQh75D1CAoOQbaUCbCld0UgKBCYlBt4cR/wjAP0PgvEjx0bYEcX8Maz/kXl67PQyXullkXVYUDZHtGVnVuna8T+0WXF1+PHj5XgojiiYDp37hy6deuG8+fPY+PGjciYMaNdxubn54ciRYoooZUnTx517evXr5WHjQv7W7UKOx/fvn17lefWrW/n7AFUqlQJOXPmxNy5c+3Km5GNaFx2Q5ILhIAQiHECJ248Rp3vtLcYa+VPi1mfFQXObgCWNdHKlrs20PznGC+nqxdg2qZzWLV5Czb59tWKyg1pO+2BcidKCEPAiP2jy4ovHjVEj9eyZcvw/vvvg/t/UYR98sknyJo1K3755Re7zJdbV+zduxe1atWCp6enujYwMBBJkiTB2LFjlbAzDRRozZo1w7Bhw0K/Hj58uMqX5bI3GNG47GUk8YWAEIh5An8e8kfPX4+ognSvmhPdq+YC/mgHHPtVK1zjBUB+bQd3CdYJHPN/jI9n7Ap7FFOHnUC6goLNjIAR+0eXFV/caPWPP/5A8eLFkShRIiW+smXLhv/++w+1a9fG3bt3I23AXO/Vp08fcIpR94bpiSZOnFitB2vXrl1oPvPmzUOPHj3w7Nn/d3y2tRBGNC5b2Ug8ISAEXIfA2DWnMGfHRVWg2Z8VQc1ciYEJOYHA50CcBAC3TfCJ7zoFdtGScN0XN6qt9/JPDI6zVCtlqc5AjdEuWuKYK5YR+0eXFV8JEiRQgotbTZiKr+PHj6uNVx0RQKamtXLlSvVmZdeuXTFx4sR3rI7ryhYuXAhu+qqHH3/8EV988QXevNHOOLMUuFUG/5mHw4cPK+HGacyKFSvGnJVLzkJACAiBcAi0XrAf289qg9ttvSsiy821wB9falcUbAY0tH/ZhVGB9/ntCLYfPIY9vp3h5RECJEwL9DwJeHoZFYnFeov4ciFzqF69OgoVKoQJEyYo8XX06FFkzpwZrVu3Bt9a5LovR8OiRYuUR4tTmIsXLw6dhjRNj3lyYX7btm1Dv6bnq3fv3uB6NGuB05ScnrQWRHw5etfkOiEgBJxBoMSYTbj95BV4juOJ4TXg+csnwFntqBy0+APIWdUZxYgVeaw9dhMdlx7Cj3HGorzXMa1OLf8GsleKFfWLqkqI+IoqklGQDsUWPUT0fNFrRDHGtVYPHz4ED9/m4nlHwujRozFo0CB07twZ3333nVpHZinkzZsXzZs3x+DBg0N/pqhavny5WrRvLYjny5G7ItcIASHgCgQevXiNwiO0gW2hjEmw4ou8wMScQPAbIH5KoNdpwCuOKxTVLcrwJCAQRUZsRF1sx2Sf2VqZC30KNJjlFuV3ViFFfDmLtI35+Pv7qzcROf3o4+OjtnigaEqTJo2NKYSNxq0i+vXrhxEjRoQRVZYS49uOFy9eVEJPDxSDuXPnxpw5c+zO34jGZTckuUAICIEYJbD34n18MnevKkPTYhkx/r0DwOqeWpk+bAfUeXeJRowW2A0ybz53L45cvI4Dvh0R3+MV4JMQ6H1O1s2Z3Dsj9o8uu+Yrqp8petLoLeO0Jb1fpoFTjHwDktOJqVKlgpeXF44dO6b2+erfv7/ygPGtS06BHjx4EPSK2RuMaFz2MpL4QkAIRD2BkJAQ/LT3Cp4GvEGH8tng7aW97W0pLP73MoauPKF+GvJRXnxxthNw9V8t6hcbgMwlor6AsTzFeTsuYvSaU5gaZwbqe71l2egHoEDjWF5z26tnxP7RpcQXF7PbGhYsWGBrVBVvwIABaksJS4GbrXLfsDZt2uDSpUuhh3nzjEnucH/hwgXl8aL44vSnI8GIxuUIJ7lGCAiBqCWw69w9fPbDPpXoiHr50KpUFqsZ9P/zKH7ef039/nvzTCj2VzktbtLMQLejskeVA7fm/J2nqDp5Byp6HsYin/FaCjmrAy1+cyC12HmJEftHlxJf1apVC7WsoKAgtTFphgwZlMeK047cKPXKlSto2LChWnvlTsGIxuVO90fKKgRiK4HJG8/iu83nVPVKZUuBn9uXtFrVBjN3w+/qI/X7iWonkWDnKC1uuV5AlSGxFVG01ouex/ITtuLGg2fY5/s1Uno8ATy8gF5ngISpojVvd0nciP2jS4kvU0PhtgyPHj1Su8nHiaMt8KQRc80XD93mG4vuFIxoXO50f6SsQiC2Emi7+D9sOnVHVc/b0wN+Q6ohUdx3F81zX6oCw9bj+esgpEzggwMphgJ3tClIdNoLpNZOBpFgP4EhK47jxz1XMNR7Mdp4r9cSqDUeKNHB/sRi4RVG7B9dVnxx5/n9+/er6T7TcPbsWeUJi+w+X862XyMal7MZS35CQAi8S6D02M248Tgg9IdZLYqgVoF070S89uAFyo3XjlNrlfk+RtzposVJkx/ouFvQRoLA1jN30GbhfyjocQErfd++QZ+hKNBuSyRSjT2XGrF/dFnxlT59enz//ffqUGvTsGTJEgwcOFBNP7pTMKJxudP9kbIKgdhI4OHz1/hgZNg9EZsUzYgJTQq9U90NJ26h/U8H1fd/Z1yGwvf+0eKIhybSphEQGITCIzaA/2+N2wdZcUNLs/NBIGWOSKfv7gkYsX90WfE1dOhQTJ8+XR3/88EHH6gpxz179mDq1Klqq4ju3bu7lb0Z0bjc6gZJYYVALCSw+/w9tJivLbbXQ8qEvtg/oAo8PcPucTh98zlM2ngWifACfgm6wDvoJeAd73/tnQV4VEcXhr+4ewgElyAFgjsUh0LQ4sVpcS20BYpToBTKT3EKxYoVSpGW4lbc3d0JEIG4bTb/c+Zmk01IyG6yWck9w7NPlt17R9579s53Z86ckWJ72bnmQDr6bdKXa87j8J23GGqxHd9aJTrb1x0NNByv34oYYWly7B+NVnyR2Jo+fTqWLFkiItpTIud7EmO0JZCpJTkal6ldI64vE8hpBFRhDqhdFE86IUFq4T9Da6Nc/pSCasjGS9h1zR89LPZjmlWiT22F7kDbxTkNi0HaQ+E+Ju64gfxmb3HCJnHwwMkb+Pq67APXyrF/NFrxpf7rCAwMFJHoPTw8DPKj0UWhcjQuXXDjPJgAE8g8ga83XcaOK9IUV4ty3kJcUfq6cXF83bhEiowbzz0KCouw13osSplL4SbQ9xCQv0rmK8BnJhF48S4SdWZJPnXbHH9GJcVl6btO64DSrWVNSo79o9GKLwpq+rHUtWtXkzJWORqXSV0griwTyIEEmv5yFPfehIvbrUujAAAgAElEQVRRr3+H1UGLBSdEK8XWQUPrJLWYfJHKTN6H8gl3sc1mivR5bl9g4HGO7aVDu1Bdj6bm57Hc+hcp5yL1gF7/6LAU08tKjv2j0YovijifVrK1tRUBUWnVoyklORqXKV0frisTyGkEVIIqXpmAop4OOPxtfTSY8x8eB0aIpp4f3xi5nGzE+xsvQ9By4QnMsfoVHSyOSSha/A+o2jenYTFoe2buuY1lRx/BAvG45votHKIllxoMvQB4Fjdo3QxZuBz7R6MVX6kNQaFQ4P79+xg0aBAGDBggtvwxpSRH4zKl68N1ZQI5jcDV5+/RZrEUIqJlOW8s6loJP+y8hVUnH4vP5nQsjw6V84v3Wy++wNQtJ3HOZghszeIAKwfJ0d7WOadhMWh71PfOnOd9AG3frZbqU2Mw0CztHVgMWmE9FS7H/tFkxJfKBi5duoROnTrhwYMHejIL3RQjR+PSDTnOhQkwgcwQ+OPcM3y/7bo4dXSzkhhc3wfH7wegx8pz4rMWvt5Y3K2SeP/j7tuIPbkEU6zWSkVV6gm0XpiZYvmcjxCIi1ei0rQDYp/NgtZhOGo5BGZKBWDrAoy6I9vNtuXYP5qc+KINsmvUqIHIyEiT+pHL0bhM6gJxZZlADiMwYcd1rD/zTLRqTZ+qqF/SCzGKeFT84QAiY+PhZGOJS5OawMrCHD1WnMHEZ1+ihPlLiUK/I0A+SZhx0i2BIRsuYdd1aeHD+RLrkevZbqmA1ouASj10W5iJ5CbH/tFoxVdaDvehoaFYtmwZXF1dceSItGrEVJIcjctUrg3XkwnkRALtlpzEpcR9GtX9u/qvvYD9tyRfoz/61UDNYh7oP20BlsdLkdcTvMvDbECi31dOBGPgNv118QW+3XJV1GJUibcY/iwx7IR3eaD/UVkucJBj/2i04isth3vaXJtGvZYuXYpPPjGtfcbkaFwGvsdx8UxAtgTIyZ72aaQRLnKqJ/GlSpvOPcPYxOnI/nWLYlC9Yvjvp7b43CJxC6GW84AqfWTLLrsbHhQeg5o/HUasQklSF1c8J8E1/KFUbN/DQP7K2V0Fo8tfjv2j0Yovo7OOLFZIjsaVRWR8OhNgApkk8DAgHI3+d1ScXb9kLqzpUy0ppzeh0aj+4yHxfx8vR8xslg/lNteAjVkcYsztYDPmPmDjlMmS+TRNCKw7/QQT/5Y2Le9juR+TLVVBbbsBbZdokkWOOkaO/aPRiq+GDRti27ZtYopRPQUEBKBZs2a4eFHag8xUkhyNy1SuDdeTCeQ0AjuvvsKwP6QgnoPrF8PoZqVSNLHFguO4+SpUfLbc5wyavlgg3t/J1wGl+q3MaTiMrj20g8u47TdAiyJoO6eztkNhj2jA0hYYdRuwdze6OmdnheTYPxqV+Dp16lTSKsbevXtjwYIFcHZOudT51q1bYssh8v8ypSRH4zKl68N1ZQI5icBPe+7g16PSVNairhXRslzeFM373/67WHiYVown4LDNdyhqJkXBv9riH5SvWi8noTDattC0Y7cVZ3D+yTvMsFyJbpbSaCSaTgdqDTPaemdHxeTYPxqV+Dpz5gzq1q0rNtFWKpVI7fdFWww5OTlh7NixYo9HU0pyNC5Tuj5cVyaQkwj0XHUOx+4FiCYd+bY+ing6pGjexafv0H7pKdQwv4VN1tPFd1eUxVBwzBm4O1jnJBRG3ZbA8Bi0XngCLqF3scfme1HXBPeiMBt6EUgn0LhRNyiTlZNj/2hU4kv9uhUpUgTnz5+Hp6dnJi+ncZ0mR+MyrivAtWEC8iFQZfpBUMdub22BG1M+g7m5WYrGk0N+1RkHMT12NvwspLhf0ywGY+JE+Qb6NJR10O4CHX49hfVmk1DFPHHnlu7bAJ9GhqqS3suVY/9otOJL71c/mwuUo3FlM1LOngkwgTQIvA2NRrVEh/rKhdywdVCtNDn9uHYnxj7sAXOzBLxLcMR3+TdgRb/6zNQABMhH7+DmhZhvLTnbv83bCF79txmgJoYpUo79o1GJrxIlSoCmHt3d3UHvP5Z4b0fD/Ei4VCbABIybwJG7b9Fn9XlRyZ41C+GHNmXTrPDT1V+i0NOt4rt5inaIqPkdxrcobdyNy8G1m7vnGnqd8YOHWRjiE8wQ8NV55Ckoj/0eWXwZ2LCnTp0qfLns7e0xZcoUkI9Xemny5MkGrq12xcvRuLQjxEczASagCwKLjzzAz/vuiqx+aueLLtUKfpht6CskzCsHM2UcIhNsUDtmPsZ3/DRpr0dd1IPz0I6AUpmAvfMHwi9kkzjxav6uKN93qXaZmOjRcuwfjWrkS592079/f+HUv2LFinSLpc27N22Sfgiq1KhRIxw8eFDrqsrRuLSGxCcwASaQZQLq29fsHFoHvvldPsxz33jg9CLx+SpFM/yg6Il/h9VB2XxpHJvlGnEGmhJ48OAuCqyrBRszBWLMbGDzzU3AMZemp5vscXLsH41afJ08eVJMQ8bGxooVkKpEI2Lffy+tDNE2UT40ajZt2jR89dVXHxVfvr6+6N69O3r16pVUjI2NDdzc3LQtFnI0Lq0h8QlMgAlkmUCDOf/hcWAELMzNcHPqZ7C1skiZZ2QwMM8XiA2H0swSLc0WonCxkljctdJHZxuyXDHOIEMC1D/tmNYRnysPiGNja46A9Wc/ZHieqR8gx/7RaMUXiSMSSSR0Usf6IvH16NEjre2NziHBdePGDTG12aRJk3TFV1xcHBwcHLBv3z40aNBA67JSnyBH48oyNM6ACTABrQiExyhQdvI+cU7J3E7YN7Luh+cf/Rk4IoWXQIVuSGizmEWXVpSz9+CZG/bgu3tdYWmmhMLSAZY0+mWn/QN/9tZSt7nLsX80WvHl4+ODbt26gfzAdJU2bNiAw4cPY8aMGejSpQuojPSmHa9fv45y5crB398fefLkyXIV5GhcWYbGGTABJqAVgQtPgtHh19PinHYV82Fu5wopz4+NBOaVBSKDpM+HnANyldSqDD44ewnQysfYv/qjvcVxqaD644D6Y7K3UAPnLsf+0WjFF406Xb16VQik7Ej169f/qPjauHEj+vTpA4q0v2fPHjFS1qlTJ0yYMAG0wXd66cmTJ6BX6nTlyhWMHDkSR44cAZXNiQkwASagawK/n3qCyf9IewZOaPEJ+n5aNGURZ5cBe0ZLn5VqCXTZoOsqcH5ZJPAuIhYdZqzBAavRIgwIbF2BkTdy9H6bLL6yaDS6PL1Vq1Zo27atmCbMjpSR+Bo3bhzmzJmDWbNmoXHjxqCRsFGjRsHPzw+rVq1Kt0q0SvNjo3UsvrLjanKeTIAJEIExf13D5gvPBYyNfaujlo9akOr4OGBBRSBE+h59DwH5qzA4IyTQdvFJ9H09FS0tzkq1azwVqPO1EdZUN1Vi8aUbjjrJZe7cuZg0aRJat24tYn6lHm0icZSVlJH4opWQtH+k+sbemzdvFtOVgYGB8PDwSLN4HvnKylXhc5kAE8gKgVYLT+D6yxCRxZVJTeBqrzZKf3UTsH2AlH3hT4He/2alKD43GwnMPXAPBw8fwG6bxH7OIRfw9XXAyi4bSzVc1iy+DMf+g5Jpe6H0UmYd7tXzy0h8pVU2bepdpkwZXL58GRUqpPKlyICdHI3LiMyJq8IEcjyBuHglykzah9h4JfK52uHk2IbJbVYqgaU1gYA70mcy277G1C7+xafBaL/0NFZY/YzGFpel6jefDVRPFM+m1iDuHz8gYLQ+X9ltWxmJr86dOyMmJgY7duxIqsratWvRr18/BAUFwdHRUasqsvjSChcfzASYgJYE7rwORbN5kpN2k9K58VtPtSnFO7uBTV9IOeYpBww4BnwkiLWWRfPhOiagiFei0rQDKBZzG9ttEgOKO+cDhl8BLHPexudy7B+NVnw9e/YsTXOmUS+agsyVKxfMs7Dre2rxRbHEgoODxdZGlP/WrVvRsWNH4ffVpk0bMdo1ePBg4YM2c6b2m8/K0bh0fD/i7JgAE/gIga0XX+CbLVfFESMaFcfIJolbtFGMxJVNgBfSlkPouAYo8zmzNHICgzdcxO7rr7HeagbqWEiLKNBqAVA5Oe6kkTdB4+rJsX80WvFFwupj2wtRsFPyv1qyZAlsbW01vsiqA1OLr7Qu/vr16zF79mzcv39fiD0a9Ro/fnymRJ8cjUvri8InMAEmkGkC0/69hZUnHovzl/WojM/KJIbIefQfsLaNlK97UWDoBcA8VeDVTJfKJ2YXgU3nnmHstuuoYX4Lm6wT47K5FQaGXgQsLLOrWIPkK8f+0WjFF60oHDNmjNjjsU6dOsIgKNo9OeEPGTJEOOHTdy1bthSjU8ae5Ghcxn5NuH5MICcR+GL5GZx+JMXvOjGmAfK72QPk67W8HvD6Wo4eOclJ11HVllfvo1Drp8MAErDLYQbKxN+Svvp8OVC+c45qshz7R6MVX+TYTlHu27Vrl8LI/vnnHzH6RKEfjh49Krb/ef48cem0EZujHI3LiC8HV40J5AgCMYp4HLkTgO2XX+Dg7beIVybA2dYSVyc3lWYOrm4GtveX2upZAhh0OseNmuSIC5lOI5rMPYr7b8NR3/wK1ljPzrHXUY79o9GKLwpqSn5WJUumjL589+5dsdIwKipKiC76PjIy0uh/f3I0LqO/KFxBJmCCBGj/v0vP3gvBtfOqP0Ki4lK0ovEnXljRqyoQFwUsrAKEvpC+/2ITULK5CbZYvlVOnkpOwOXcM+AWkjj61WIuUDV7YmAagrYc+0ejFV+1a9cGbWy9dOnSJN8vuukMGjQIFy5cEK8///xTTEPeuZO4fNoQVqNhmXI0Lg3R8GFMgAloSODK8/cYtfkKHgVGfHCGi50VWpX3xvBGxeHlZAscnwscStyejeJ69drJKxw15Gwshx29F4Beq86J6nzr8wpDX3wrVc3eAxh2CbBzNZaqZqkecuwfjVZ8nT17Fk2bNhWO7lWrVgUFPb148SLevn2L3bt3C6f3hg0bgoKx0ipEY09yNC5jvyZcPyZgagTaLD6Jq8/fJ1XbysIMDUt54fOK+dGgVC7YWCY60kcEAvMrALFh0rH9/wPyVjS15sq+vtFx8Sg/dT9iFEq4O1jjYrGVMLu3R+JScyjw2YwcwUiO/aPRii+yqJcvX2L58uVi+tHS0lJsdE1Cy8vLCxTwlL5v0qSJSRifHI3LJC4MV5IJmAiBm69C0GLBCVFbLycbDGtUHC19veHmkEbcp13fAud/k1pWrjPQbrmJtJKrmZpAz1XncOxegPh4b4+8KLW1CaCMA8ytgCFnAY9iJg9Njv2jUYuv9CwqOjo6U+ElDGmhcjQuQ/LmsplATiMwcccNrDvzVDQrzU2zVQ0OvA8srg4kxAMWNsCwi4BrgZyGQzbtWXH8Eabvui3a+02TEhimWAOcXiS1v2QL4IuNJs9Cjv2j0YoviiI/Y8YMsaoxPj5eGBf5fFHUeRr1ev8+eejdFCxPjsZlCteF68gETIFAZKwC1WccQliMAtYW5jg7rlHaI17UmD+6And3Sc2qMxJoPMUUmsh1TIfA/TdhaPLLMfFt1cJu2NKrtLRBelSwdEbPv4Gi9U2anxz7R6MVXx06dMCJEyfQrFkzULBTCilBwU5Pnz6NWbNm4bvvvjMpY5OjcZnUBeLKMgEjJvDn+ecYvVWK1dWmQl7M75KO/9aTE8CaFlJLyCl7+GXA1sWIW8ZVy4gADTrU/ukwXoVEw8LcDJcnNYHz9d+BXd9Ip3qVAQYeN+nAuXLsH41WfLm5uWHTpk347LPPxKpHEmDly5fH0KFD8e7dO2zYsCEjmzWq7+VoXEZ1AbgyTMCECbRdfBK00pHSpv41UKOox4etoYCqKxoCrxI3YvabA1TrZ8Kt5qqrCIzdeg2bzkvxLH/tXhnNPvEEfq0DBEjTkWg5D6jSx2SBybF/NFrxRdsHPXjwAAUKFBB7LPr5+aFPnz64efOmEGQvXiTGrjERc5OjcZnIpeFqMgGjJnDrVSj8FkgbZhfN5YBDo+qlvfXatS3Atr5SWzx8gMFnAAsro24bV04zAruv+2Pwhkvi4C+qFcTMdr7Aw8PAusQ9Ou09geGXTHaUU479o9GKL9o+aPHixWI1I0W0Dw8Px/z580FBVitVqoSIiA/j3GhmxoY5So7GZRjSXCoTyFkENHK0jwkDFtdIDqjaZSNQKnH6MWfhkGVrKJBupWkHxA4G+VztxPZRYgeDjZ2Be3slJrWGA02nmSQfOfaPRiu+pk+fjoULF+L333+Hs7OzGO2i7Yb27dsnnO3J98uUkhyNy5SuD9eVCRgjgdSO9mfGNRLxnj5I6qElCtUGeu/igKrGeEGzUKcOS0/hwtN3IoedQ+vAN78LQCtbl9QAlAqTDj0hx/7RaMUXORlSANVSpUqhRYsWIDG2YMECEXR17dq1qFy5chbMWP+nytG49E+ZS2QCOYvAnxeeY/RfkqN96/J5seCLNBztn5wE1vhJDbewBgaeAHKl3JYtZ1GRZ2tWnngM2m6IUv+6RTHO7xMJxN7vgTNLpPc+jYFuf5mc8JZj/2i04iun/bzkaFw57Rpye5iAvgmoO9r/0a8GahZL5WgfGwksrQW8eyxVrdEk4NPEVXD6riyXl60E3oRGo8bMQ0hIALxdbHFyTEOYm5sBUe+AhZWByCCp/FYLgMq9srUuus5cjv2jUYmvjRs1DxbXtWtXXV//bM1PjsaVrUA5cyaQwwmkcLT3dMChb9JwtN83Pjngpnd5oO8hdrLPwXbxxfIzOP1IEll/DqiJakXcpdbe3A5s6S29t3YEBp0C3AqZDAk59o9GJb5ov0bhRJgYUDU9y6FjVIFXTcW65GhcpnJtuJ5MwBgJTPr7BtaeliLaj/f7BP3qFk1ZzefngZW0vVoCYG4p7d+Yx9cYm8J10hGBP849w/fbrovcutcoiOlt1a73lj7AzW1SSbSRes9/AHNzHZWcvdnIsX80KvFFAVXpIlSvXh1dunQBBVolH6+ckORoXDnhunEbmIAhCGToaB8XDSz7FAi8J1Wv3ligwfeGqCqXqUcC7yNjUXXGQcTFJ4iFF7TTgZVFosCKDJa2lYp4K9Wo+c9A9f56rF3mi5Jj/2hU4osuHQVQ3bZtG/78808cP34ctWvXFkKsXbt2oMCrpprkaFymeq243kzA0ATUHe1blc+Lhakd7Q9OBU7MlarpVRrofxSwTGMVpKEbwuXrnMBXa87j0B1JYK3pUxX1S3oll3F3D/BHF+n/VvbS4gsT2Hhbjv2j0YkvdUul/R1VQuzkyZOoX78+OnfujLZt28LFxbS2zJCjcen8rsMZMgGZEPh8yUlcfiZFtP/A0Z4i2P/WSNo428xc8vPKV0kmZLiZOy6/xNebrwgQ7Srlw9xOFVJC2TEYuJK4A0yB6kCfPUa/9ZAc+0ejFl/qFhUYGIh169Zh6tSpYnPtqKgok/oVytG4TOoCcWWZgJEQOHovAL1WnRO1KeLpgMPqjvaKWOC3BsCbG1Jta38NNJlqJDXnauiDQESMApWnH0B0nBKONpa4MKExbK0skouODgGW1ARCX0qfNZkG1B6uj6plugw59o9GL75CQ0Px999/Y+vWrSLAqru7O9q3by9ifmUl9e/fH0qlEitWrEg3mwsXLmDEiBG4fPkyvL29MWHCBLHFUWaSHI0rM5z4HCYgZwI7r77CqD+vCJ8eSh842h+aBhyfIyHyKC5NK1nZyhmZLNs+ZOMl7LrmL9q+tFslNPf1TsnhwSFgfTvpMwsbYMAxwKuU0bKSY/9olOIrODgYO3bswF9//YVDhw4Jp3sSXLTHI/mAqVZEZsaSKHjr5MmTRbT8r776Kl3xFRAQgJIlS6JHjx4YNGgQDhw4gFGjRmHXrl1o2rSp1kXL0bi0hsQnMAEZE1h98jF++PeWiONEqbaPB1b2qpo8qnF3L/BH50RCZsCX+4CC1WVMTL5N33fzNQasuygANC+bB0u7pxF0/N+RwIVVEqS8FYGvDgIWlkYJTY79o1GJr2XLlgnBdfToUeTJk0cILlrxSIJLF+nRo0dCcN24cQP29vZi38j0Rr5+/PFHrFy5UmzurRJ7NOr18uVL7N+/X+vqyNG4tIbEJzABGRKgB8LZ++5i6X8Pk1pP0ezndCwPa8vElWzBj4Hl9QCaUqJUdzTQcLwMaXGTiUCMIh5Vph9EWLRC2MjFCY3hZJtqE/WYcCkA73spXAlqDgU+m2GUAOXYPxqV+KI4X9bW1mjUqBFq1ar10RGucePGaW1EGzZswOHDhzFjxgyxgtLHxydd8dW8eXPkzp0ba9asSSqH9pkcPHgwwsLCQHXVJsnRuLThw8cyATkSiItXYszWa9h2KdE/B8CXtYtgQotPpOjllCiK/cqmwBspvhOKNQK6bTF6J2o5Xk99tvm7LVex5eILUeTcTuXRrlL+D4unrad+bwkkKKXv2v0GlOukz2pqVJYc+0ejEl+FCxfWaEqRRqJoFCsriVZOfkx8lStXDq1atRJCTZVo6pGmHGlK0tPTU6vi5WhcWgHig5mAzAhQLK/BGy7hv7sBSS0f51cK/T4tmnwfpDnIHYOAq39Ix7gUBAYcBewTI5vLjBk3N5nA8fsB6LFSWphRv2QurOlTLW08JxcAByZK31naStPVeVOtkDQwWDn2j0YlvvR5/TMSXyTMevXqhYkTE40WwLFjx1CvXj08f/4c+fOn8ZQB4MmTJ+KVOl25cgUjR47EkSNHRMgMTkyACciXAI14df3tDM4/eSf1ieZmmN2h3IejF+dXArtGSaDIcfor6jjT2Fxbvihl23JFvFLs9RgYHivs59z4xiLw6geJBPzWvsCNvxIFfAFpNwQH7QYQshM0i6/spGtkeWckvnx9fdGmTRtMnz49qeaqkS9aEJBewNcpU6aIcBjpJRZfRmYIXB0mYAAC8w/exy8Hpej09tYWwmG6XolUu3m8uACsagYo46Qatl4EVOphgNpykcZKYPLfN/B74hZU09uWRfca6eznSFPXq5oCrxOnrmn7oR7bjWYfUBZfxmph2VCvjMSXn5+fCC9BTveqRD5fQ4cORUhISLo+XzzylQ0Xi7NkAjmIwPUXIaAgqgplAmgr2w19q6NWsVSjEBGBwLK6ybGaKvUEWi/MQRS4KbogcPFpMNovPS2yok22abPtdNO7p8Dy+kBUsHRI9YFA81m6qEaW82DxlWWEppNBRuKLVjuuXr0a9+7dS/K/6N27N/z9/UW8MW2THI1LW0Z8PBPI6QSi4+LRetEJ3HsTLpra79MiGN+idMpmxyukGE2Pj0qfe1eQ/HQ4nldONw+t20crZevMOoKX76OEkD81tiG8XezSz+fRUWDd59LuCJTaLgUqdNW6XF2fIMf+kX2+EoOsxsbGgqYTKYgrrbh88+aNiPNF2xl9/fXXOHjwIL755hvs2bNHrMbUNsnRuLRlxMczgZxOYObu21h2TFos5OPliH+H1UkZnZz8c/4ZBlxeJ6Gwc5MCZLoWzOlouH2ZJPDTnjv49agUpoQWbPSvW+zjOZ1eAuxL3ISd/Ai/3APkSyNOWCbrk5nT5Ng/svhKFF9pXfwzZ85g+PDhuHbtGgoWLCiCs3br1i0ztgU5GlemQPFJTCCHErjwJBgdl50WQVQtzM2wfXAtlMvvmrK1+ycCpxJ376B9G7v9Bfho/7CXQxFys9IgcOtVKPwWHBffeDhYY//IuvBwtEmfFRng9gHAtc3SMU7e0v6P7kUMxleO/aNsxZe+rUyOxqVvxlweEzBWArQfH3WQT4MiRRWHNyqOUU1KpKzuiXnAwcnJn7VZAlTM3MOesXLgeumeAE099lp9HsfuSSFLWpTzxuKuGWy0HhcFrPoM8L8qVci1EPDlXsA5r+4rqEGOcuwfWXxpYBi6OESOxqULbpwHE8gJBCbsuI71Z56JppTJ64ztg2snR6+nDy/+DuxU2/y46Qyg1tCc0HRugx4IkM/XZ78cQ3iMQpS2pFsl+KXe7zF1PUL9gdXNgHeJoZE8SwC9dwOOqVbd6qH+cuwfWXzpwbCoCDkal57QcjFMwKgJ0IhEz1VSMExrC3PsHFYHJfM4Jdf51t/Alt7JUcjrjAIaq42AGXXruHLGQmDTuWcYu00KJaHR9CMdSCsgKZxJ2CupGXl8gV47JV9DPSY59o8svvRkYHI0Lj2h5WKYgNESCImKEyMSr0OjRR3HNi+FgfXUHKIfHgE2dgLiY6U2VO4NtJwHsXSNExPQgsAH04++3ljcLYPpR8o/8D6wujkQkbjTQv6qUgwwG7UHBC3qkZlD5dg/svjKjKVk4hw5GlcmMPEpTCDHEKCwEgPWXcTRRF+cyoXcRBwmcrYX6cVF4PdWQFyE9P/SbYEOq3jPxhxjAfpvyKvE6cewxOlH8v0iH7AMEwVfXdMieeN2CsJK+4dafSRsRYaZan6AHPtHFl+a20eWjpSjcWUJGJ/MBEyYAO3b2G/tBZx8ECRaYWdlgT0jPkVhTwepVc/OSCNe0SHS/4s2ALpuBiw/skrNhHlw1fVHYPP5ZxizVZp+pO2GaPWj58dWP6qqRjsqrG0DxEox6FC8KdB5A2CZxpZFOm6OHPtHFl86NqL0spOjcekJLRfDBIyKQFh0HL5acwHnnkiRxG0szbGsR2XUL+kl1fPePuDPXoAiSvp/vipAz78BG0ejagdXxjQJ0PRj79Xnk0Zc/XzzYEk3DeN4PTkBrG8PKKRpchT/DOi4GrBOfGjIJiRy7B9ZfGWTMaXOVo7GpSe0XAwTMBoC5OPVa9U5XHn+XtSJ9m1c0bMKavkkbh90dROwY3ByhPGCNYEvNgF2qeJ9GU2LuCKmSMA/JApN5x6DavpxUdeKaOHrjRiFEqFRcQiNViA0Og4xcUqUzecMJ1ur5GbePwD88UXynqL0cECjstm4Ebcc+0cWX3r6ZcnRuPSElothAkZBIDgiFj1WnsXNV6GiPo42lljTpyqqFHaX6kmAJWYAACAASURBVHd6MbBvXHJdSzQDOtCogr1R1J8rkbMI/Hn+OUZvvSYaZWluJtZwxMUnfNDIYrkcsGdE3ZShT+7tB7b0AuKkuHRwLwZ035ptgVjl2D+y+NLT702OxqUntFwMEzA4gYCwGHRfcRZ334SJurjYWWHtl9VQvoArREj7Q1OBE78k17P8F9JG2RZqIw4GbwVXICcRoOnHPmvO47+7iasYP9K45T0qo2mZPCmPoAUhGzsCkZLfIhy8JCf8vBV0jkmO/SOLL52bUdoZytG49ISWi2ECBiXwLiIW7X89hUcB0qpFcnJe/1V1lM7rDNAm2f9+nbxXIx1QcyjQZBpgbm7QenPhOZ/Am9BoDNlwCU+DI+FkawlnWyvpr50VYuLicfD2WwGBpiTTDEsR9FDa5F0ViNXaEei0VudbXsmxf2TxpaffnxyNS09ouRgmYFACP+y8hVUnH4s65HKywca+1VE8txMQGQxs7Qs8PJRcv8ZTgTpfG7S+XDgTIAIUCqXqjIMIi1aIKccLExoLcfZBCn8LbOgI+F+RvjK3BFovAip8oTOQcuwfWXzpzHw+npEcjUtPaLkYJmAwAjTdWGfWYeHIbGVhJnxnfLwcgVeXgc09gRBpSyHQJtmtFgCVehisrlwwE0hNYMxf17D5wnPx8ewO5dCpSoG0IcWESz5gDw4mf99oEkC7MeggILAc+0cWX3r6PcrRuPSElothAgYjMHP3bSw79kiU37V6Qfz4uS9waS2w61sgPkaql60L0O43oMRnBqsnF8wE0iJw+mEQvvjtjPiqVjEPbOxXI31Q8XHAzhHAlQ3SMdX6A81ns/jKpGmx+MokOG1PY/GlLTE+ngkYN4GgcBr1OoKouHixmuzI1zVQ4MxkSXypUm5foPNawL2ocTeGaydLAkplAmrPOgz/kGgxgHV6bCPkcbFNnwUtHjkyAwi4C3Rco7PdGOTYP7L40tNPTo7GpSe0XAwTMAiB2XvvYMl/D0XZA8pZ4fuwGcl+MfRh+a5Ai/9xKAmDXB0uVFMCM/fcxrKj0ujtOL9S6F9Xbe/R9DJRxutMeFERcuwfWXxpaqFZPE6OxpVFZHw6EzBaAu8jY8WoV3hMHFpbnsUvjutgEf1Oqq+5FeA3G6jcRydTMkYLgSuWIwjc9g9F8/nHRVtKeztj94hP9d4uOfaPLL70ZGZyNC49oeVimIDeCcw9cA8bDl3ANKvV8LM4l1y+cz5pKX7+KnqvExfIBDJLoNm8Y7jzWopRR3tBlqDVunpMcuwfWXzpycDkaFx6QsvFMAG9EgiNisUPs2ZgXMIKuJslbkJMNaCNiNsuzdZtWPTaUC5MNgSW/vcQs/beEe0dXL8YRjcrpde2y7F/ZPGlJxOTo3HpCS0XwwT0RyA8AA9W94dP0OHkMm1cgGY/AhW68TSj/q4El6RDAq/eR6HWT5JN53O1w/HRDWBubqbDEj6elRz7RxZfejIvORqXntByMUwg+wnQKq/rW5CwZwzMooKTyoso2AAO7RcDLvmyvw5cAhPIRgKdl53G2ceSbW/uXwPVi3pkY2kps5Zj/8jiS0/mJUfj0hNaLoYJZC+BlxeBvd8Dz88mlROaYI8duYeg56DxPNqVvfQ5dz0R2HTuGcZuuy5K+6JaQcxs56unknm1o95AG6qg+Ph4TJgwAWvWrEFoaCiaNm2KpUuXIk+eVBuKJlbwiy++wKZNm1JUt1GjRjh4UC3Kr4aNYfGlISg+jAkYC4FQf2lD7Kt/pKjRkfjy+D6uL1YNbyvt38iJCeQAAiFRcag6/SBi45VwtrXE+QmNYWNpoZeWybF/lNXIl0p4kfhyd3fH4MGDYWlpiRMnTqRpYL6+vujevTt69eqV9L2NjQ3c3Ny0Nkg5GpfWkPgEJmAMBOKigNOLgOO/AHHSZtmUwmzzYnRoR+xRVkPT0nmwvCevaDSGy8V10B2BgesuYu/N1yLDZT0q47MyaQ9M6K5EKSc59o+yEV8xMTHw9PTEokWLksTUkydPUKRIEZw8eRK1atVKYU9xcXFwcHDAvn370KBBgyzbmhyNK8vQOAMmoE8C8Qrg+p/AkZnJezICSLB2xG2fvuhxqwqCos1FjXYOrQPf/C76rB2XxQSyncDeG68xcP1FUU7zsnmwtHvlbC+TxZdeEBuukLNnz6JGjRp4/PgxChcunFQREl8DBw7EmDFjUlTu+vXrKFeuHPz9/dOdltSmNSy+tKHFxzIBPRKgPeuubQaOzQHePVYr2AwRpTtjQujn2P4gPunzxp94YUWvqnqsIBfFBPRDIEYRL6YeQ6MVsLY0x/nxjeFiZ5Xthcuxf5TNyNe2bdvQvn17xMbGwsoq2Zhq166NihUrihEx9bRx40b06dMHvXv3xp49e2Bvb49OnToJnzFra+t0jZFG0+iVOl25cgUjR47EkSNHUL9+/Ww3Zi6ACTCBDAgoYiV/ruP/A94/TXFwQoGa+DffcIw9ZY6I2GThVa9ELvzSuQLcHdK/BzB3JmDKBL7fdg1/nHsumvBTO190qVYw25vD4ivbERuugPXr14vpRnK6V08NGzZE0aJFsWLFihSfjxs3DnPmzMGsWbPQuHFj0EjYqFGj4Ofnh1WrVqXbkClTpmDq1Knpfs/iy3A2wCUzASLw2D8AB/6Yj9Zhm5En4W0KKDHeVRBQ6WuMOO+Oi8/eJ33nZm+Fya3KoE2FvDCjHYg5MYEcSuDMoyB0WX5GtM7RxhKz2pdDi3Le2dpaFl/ZitewmW/duhUdOnQA+XKRk70q0chXlSpVMH/+/BQVVCqVYkWkq6tr0uebN29Gly5dEBgYCA+PtGOg8MiXYa8zl84E0iXw/jmC/lsCiytr4Qq1yPQAzilLYr6iHU4qywJIKa7aVsiLiS1Lw8PRhuEygRxPQKlMQLulp3DlefLDR+9ahTHO7xMxFZkdicVXdlA1kjzPnTuH6tWr49mzZyhQoEBSrcjna9CgQRg9enSGNb116xbKlCmDy5cvo0KFChker36AHI1LK0B8MBPIDgIUHPXpKeDsr0i48y/MEpQpSjmrLIV5ivY4rSz9gejK62KLGe180aCkV3bUjPNkAkZLIDQ6Dt9tuYp9N98k1bFiQVcs7loJeV3tdF5vOfaPsvH5otWOuXLlwpIlS0T4CEqq1Y6nTp1CzZo1UxhU586dQefs2LEj6fO1a9eiX79+CAoKgqOjo1YGKEfj0goQH8wEdEkgOgS4sQ04vxJ4IwWOVKX4BDOcsq6JUm1HIyRXFTwJjMSToAjxehoUicDwWNQt7olhjYqLaRdOTECOBBISErDi+GP8tPcO4pUJAgFNv8/rUhHk+6jLJMf+UTbiiwxl7NixIsAqvby8vEScL3KeP3bsmHDEDw4OFvG/6DOapuzYsaPw+2rTpo0Y7aLjv/rqK8ycOVNru5OjcWkNiU9gAlkhoIwHHh8FrmwEbu8EFNEpcnuX4IhN8Q1wIVc7/K9fS7jas9N8VnDzufIgcP5JMIZsuIS3YTGiweTyOKxhcYxoVBwWOtr/UY79o6zEl0KhECElfv/9d+H7RRHuFy9eLIRYWhefnPRnz56N+/fvi1EzGvUaP348zM21n/eWo3HJ49bErTQkgX+uvsLfB4+irdlR1I8+BKfYlA70VLe7CQWwStEMf8fXQtlCebCqT1U422b/8nlDcuGymYAuCQSExWDEpss49TAoKdsmpXNjeY/KOlmAIsf+UVbiS5fGqG1ecjQubRnx8UxAYwJBD3H70HrE3diOcubqsbmkHCJhi4uODbDkfTWcVpQQ/ly1fTzwW88qsLfmqUSNOfOBTCCRAE09zjt4DwsPPxCfzO1UHu0q5dcJHzn2jyy+dGI6GWciR+PKmAofwQS0IBBwD7j1t/RK5cdFuSjJl0tZGn/F18M+ZRVEwTYp84alvLCkWyXYWulnrzotWsWHMgGTInDk7luceRiE7/0+0Vm95dg/svjSmfl8PCM5Gpee0HIxOZUARZ5/fha4vx+4tw8IuJNmS/2tC8OqfAecdWqKM8EOuPbiPW77h4kNgin5+ebBvM4Vs22ZfE7Fz+1iAvoiIMf+kcWXnqxLjsalJ7RcTE4iEPYaeHBQElwPjwAxoWm27rayAPbEV8e7ws0x6ct2sLJI6YdJ26TcfR2GiJh4VC/iDnMdOQbnJNTcFiZgLATk2D+y+NKT9cnRuPSElosxZQIUEoLicD0+Bjw+nuZ0oqp50Z5lsTzQFztiKuNRQl7UKuaBVb2r8lSiKV9/rjsTANJc8JbTwbD40tMVZvGlJ9BcjHETiA4FXpxLFlv+V4BUgU+TGmDtCBStDxRvimcetdBu/VMEhkvL3Sng4/qvqsOB43AZ9/Xm2jEBDQjIsX9k8aWBYejiEDkaly64cR4mTICiy797Ajw/J3y34p+egXnALZhBCtiYZvIsCRRvIr0K1gQsbXDrVSj6rb2Al++jxCml8jhhc/+acLHncBEmbB1cdSaQRECO/SOLLz39AORoXHpCy8UYC4HIYODV5eTXi/NAePL2JGlVM8qxIOxK1AeK1AMK1wGc8iQdFhUbj3mH7oko26oI20U8HfDngJrI5cT7LBrLZed6MIGsEpBj/8jiK6tWo+H5cjQuDdHwYaZIIDxA8s/yv5Ystt4/zbAlD5XeuKgsgbPKT8R+iq/giU5V8mN8i9JwsUseyTp+PwDjt9/As+DIpDxJeK3vWx35smFvuQwrzgcwASaQbQTk2D+y+Mo2c0qZsRyNS09ouZjsJKCIAYIeAK9vAG8SX/Q+4sNI8qmrEWdmg8vxRXBBWUK8Lit9UNqnCPp+WhQLD93HpWfvk07J7WyDGW19UamQG6b/ewvbLr9M+o62MOn3aVGxnYmdNcfpys7LzXkzAUMQkGP/yOJLT5YmR+PSE1ouRhcEYiOAwPtAwF0pnlbgPelv8GMgIT7jEswtgdxlEJ+nAi4pCmPxXWecDM2FOEjR5L2cbDCxZWm0LOcttiOhacQ1p57g5313EB0nxeOiZG9tgcjY5PLK53fBzHblUDqvc8Z14COYABMwSQJy7B9ZfOnJVOVoXHpCy8VoSkARC9DUII1kBT1M/PsACH4EhCaPNGWYnZWDEFrilacskLciYjxK4a+rgVhy5GGSYzzlQ6NWvWsVxteNi8Mpjf0UnwRGYMzWazj7ODhFsSTCvm1aEr1qFdbZ5r0ZtosPYAJMwCAE5Ng/svjSk6nJ0bj0hJaLURGg1YXhb4GQ59Iqw3ePE/8+lf6SwEovrENaFM0sAI9igGcJIHfZZLHlWhhI3Fw+Oi4ef154jqX/PYR/SHSKXKoVdsfUNmXwiffHR62UygRsOPsUM/fcEaNeDUrmwrS2ZZHfzZ6vLRNgAjIgIMf+kcWXngxbjsalJ7TyKYamBkP9JRFFr/fPJaFFL/H+BRAvxcHSJikt7fDaMh/eWBVAmLMPFO4lYJG7FBy9S8DLzRnuDtYIjY5DYFgsAiNiEBgWg8DwWLwNi8aua/54G5ayTIooT/5ZNYt5iClGTVNIZBzehEWjuJejVudpmj8fxwSYgHESkGP/yOJLT7YoR+PSE1rTL4b2MKQRK9paJ/w1EOYPhL1J/PsaCH0lia3oZAd1rRttaQe4FQbci0ijWe7FEOFUGMtvmGHRxQgkboOodbbqJ9T28cCwhsVRo6hHlvLhk5kAE5AXATn2jyy+9GTjcjQuPaE1zmLiooCIQCAiAIgMkv6SwBJ/36R8T/GxPhZ4VJMWmlsBLvkAlwLSi4SW+svRC0gchUpISMCOKy8xY9edpIjxmhSR3jH1SuTC8EY+qFzIPSvZ8LlMgAnIlIAc+0cWX3oydjkal57QZm8x5EdFQioqGIh6J71ILNH/SVRF0v/pb5D0GQkueh8brsN6mQGOuQHnvImvfNJfl/yS0HItIH1vnnEYhtv+oZj8902ce5Ls4G5lYSbCP7Tw9UZAWAxeh0bjjXjF4G1oNIIiYkUMLk9HG3g6Wkt/nazh4WCDQh72KOThoMO2clZMgAnIjYAc+0cWX3qycjkal57QZlxMvAKICQVoE2fVX9pjkN5HvZc+pyk98V71NyRZbGXCjyrjStFYlxkUth6wdPaCmZO3FN2dXo6Jf528keDohRBLT7yNVOJtaAwCwqOlv2ExiFbEi5ANivgE6a9S9VcJ0oy0iQ/9pXdK0pDxSpx6GJQULZ6++bS4J6a0LoNiuRw1qTIfwwSYABPQOQE59o8svnRuRmlnKEfjyhJa8oOi0SNyMqdXDL1PfNF7Ek70f/E+LPE9Caow6SXEVeL7uIgsVUWbkxMs7RBi7oJnMQ4IVDohKMEZQXDGezjjrdIZAXBFYIKLeAXDCfGwAAUYpQ2iSUCpXiohFR6jQKwiOQ6WNnX52LF5XWwxqVVpfFYmDzu36woq58MEmECmCMixf2TxlSlT0f6kHGdcJI5oOk4RDcRFSu+T/qq9J+GU9F0kEEvHkqCiv/T/RHGl/p4+y6bRJo2vnJk5YOsK2Lsj3sYVbxV2eBBmJV7vExzxDo54l+CEd3BCgr07rB1zwcbZE8efRCBCLUgoTel1qVoQQxr4QKFUYu+N19h93T9FdHeN66SDA20szdH30yKiPvbWUgBUTkyACTABQxLIcf2jBjBZfGkASReH6Ny4aD6Jtn4hkULBM8XfxJfqMxJG8bGSQBLf0V960WcknFSfxSQKKfp/4ucqYSXEFZ1Dgore0/dRgFKhCyzZlofSzBIxFo6ItnBAjLk9YOsCa0c3ODi7wcbRHbBxFp+Jl51r4nvXxPeuiLdywKlHwdh26aUQTFFxGkR5V2uNpbkZOlbJj6ENi6e5F6F/SBT2XJeE2LUXIeJMCkhK55kn/qX/03Y6FB3ey8lWbCbt5Zz83sHaIvEcc+mvhXQ+vRf/zCQfewr3QAEf6L2bvTVsrTL2Dcu2C8MZMwEmwARSEdB5/2gChGUlvuLj4zFhwgSsWbMGoaGhaNq0KZYuXYo8efKkeakuXLiAESNG4PLly/D29hbn9unTJ1OXVefGtXMEcHFNpupilCdRQE9rR8DaHrB2SHxP/6f3DoANvXdEgpU9wmCP5xHmeBJqjrvvgVtBSryOtkQ47BCWYC/+xoA2aU47xhQ5jJfI7YgSuZ2EI3lYtELEsQqLjkNolPT+dYjkaJ460abOTUrnRowiXgQVpePIQf19ZJw41NwMaFcpP4Y3LI6CHhwk1ChtjSvFBJiAURHQef9oVK1LuzKyEl8q4UXiy93dHYMHD4alpSVOnDjxAZ2AgACULFkSPXr0wKBBg3DgwAGMGjUKu3btEqJN26Rz49o9Gji3TNtqZO542reP4kRZ2QJWdmrv7QFLWyRY2UJhYYeoBBtEKK0QFm+NEIUlQhQWUFraw9nZBW6uLvBwc4ObiyssbBwAK0lkkZgKibfGsxAFnr+LxvN3kcKhnMRNjEIpveKk9xRN/VFghHA212eirW6al/VG+8r5UKOIhxiZSp2obiTESMy5OVjrs3pcFhNgAkzApAnovH80ARqyEV8xMTHw9PTEokWL0KtXL3Fpnjx5giJFiuDkyZOoVatWisv1448/YuXKlXjw4EGSQzKNer18+RL79+/X+tLq3LhOLwZubAUsbABLaygtbBCptEC4wgKhseYIU5jDysYO9vYOcHR0hLOjA+zs7GFmaQtY0jn0V/WykUSVhXWiuFKJLFvEW9jgcXA07r0JF6InMFyKbh4k/saI0SH6XH0z5I/BsbYwR343O+R1tRPnvgiORFhM1qYwnWwsUSafs8jT1c5aCCBXeyvx18WeRsCAh2/Dce9NmGjH/TdhKfyy0qovCa6KBV3RvlJ+NCubh/2jtLZ4PoEJMAEmoBkBnfePmhVr0KNkI77Onj2LGjVq4PHjxyhcuHASdBJfAwcOxJgxY1JciObNmyN37txiilKVfv/9dzFaFhYWBvPEve00vXq6Nq69N/zFZsS0MfHjwAg8fxeVIoRAWvUiHyHaL4/Ej5ezrVhllzvxL/kUkT8RjTrdehWKG69CcPNVqHivrb+Tpkwyc5ytlTnK5nVBufyuKJffBb75XVDEwyHN0aj08qcgo69CSFCGITo2Hs52VnC2tYKTraV4T3+tLMwzUz0+hwkwASbABLQkoOv+UcviDXK4bMTXtm3b0L59e8TGxsLKShoNoVS7dm1UrFhRjIipp3LlyqFVq1aYMWNG0sc09UhTjjQlSaNo2iRdG9eozVew7fJLbaqQLcfS6jnyoUoWcpKIE2LOyUYIt2dBkXgaHIGnQZF4FhyJF2pCkY4p4G6PAm52KOhuj/zu9vB2sQWNPNlYWoDEFv2lcuivo62lcCjnxASYABNgAjmDgK77R1OgIhvxtX79ejHdSE736qlhw4YoWrQoVqxYkeJzHx8fcfzEiROTPj927Bjq1auH58+fI3/+/GleX5rKpFfqdOXKFYwcORJHjhxB/fr1s2wbCw7dx9wD90Q+FM6ABExRTwcU9nBAkVwOyOtih4DwGCF0aGqPfKmeB0eJjYulwJuaJVphVzavM0rndUY+V3t4qCKcO1rDw9EGNJqmzebJVKoiXinqxivvNLsGfBQTYAJMICcTYPGVg6/u1q1b0aFDB8TFxQkne1Wika8qVapg/vz5KVrv6+uLNm3aYPr06Umfq0a+goOD4ebmliatKVOmYOrUqemS1JX4ehQQLkaRino6Iq+rLSw1nCYjR/Y3ITF4GyZtHyO2kQmToqbTZ042Viibzxll8rqgTF5nMT3JiQkwASbABJhAdhFg8ZVdZI0g33PnzqF69ep49uwZChQokFQj8vmi1YyjR49OUUs/Pz8RXoKc7lWJfL6GDh2KkJCQdH2+9DXyZQRIuQpMgAkwASbABLJMgMVXlhEabwa02jFXrlxYsmQJunfvLiqqWu146tQp1KxZM0XlabXj6tWrce/evaRptd69e8Pf3x/79u3TuqFyNC6tIfEJTIAJMAEmIDsCcuwfZePzRdY8duxYsXqRXl5eXmLlorW1NciXixzxaTqR4n/RZ2/evBFxvjp37oyvv/4aBw8exDfffIM9e/agUaNGWv845GhcWkPiE5gAE2ACTEB2BOTYP8pKfCkUChFSgqYPyfeLVi4uXrxYCLG0Lv6ZM2cwfPhwXLt2DQULFsTkyZPRrVu3TP0w5GhcmQLFJzEBJsAEmICsCMixf5SV+DKkNcvRuAzJm8tmAkyACTAB0yAgx/6RxZeebFOOxqUntFwME2ACTIAJmDABOfaPLL70ZLByNC49oeVimAATYAJMwIQJyLF/ZPGlJ4OVo3HpCS0XwwSYABNgAiZMQI79I4svPRmsHI1LT2i5GCbABJgAEzBhAnLsH1l86clg5WhcekLLxTABJsAEmIAJE5Bj/8jiS08G+++//4qNun/55RdUqFBBT6VyMUyACTABJsAEjJuAau/jnTt3omXLlsZdWR3VjsWXjkBmlM28efPExtqcmAATYAJMgAkwgQ8J0OAEBTWXQ2Lxpaer/PTpU2zfvh0+Pj5wdHTUSamqpwUeTcs6TmaZdYbqOTBP3fFklrpjSTkxT93x1BXL8PBwPHjwAJ9//jkKFSqkuwoacU4svoz44mRUNTnOk2fEJLPfM8vMkkv7POapO57MUncsKSfmqTuezDLzLFl8ZZ6dwc9kw9fdJWCWumPJHRyz1C0B3ebGv3Xd8WSWmWfJ4ivz7Ax+Jhu+7i4Bs9QdSxZfzFK3BHSbG//WdceTWWaeJYuvzLMz+Jls+Lq7BMxSdyxZfDFL3RLQbW78W9cdT2aZeZYsvjLPzuBnsuHr7hIwS92xZPHFLHVLQLe58W9ddzyZZeZZsvjKPDuDn/nkyROsWbMGvXv3RuHChQ1eH1OuALPU7dVjnrrjySx1x5JyYp6648ksM8+SxVfm2fGZTIAJMAEmwASYABPQmgCLL62R8QlMgAkwASbABJgAE8g8ARZfmWfHZzIBJsAEmAATYAJMQGsCLL60RsYnMAEmwASYABNgAkwg8wRYfGWeHZ/JBJgAE2ACTIAJMAGtCbD40hqZ7k64e/cuSpUq9UGGx48fR506dT74fPPmzZg5cybu378Pb29v9O3bF9999x0sLCzEsfQ5bUp68uRJsX9kr169MGXKFFhZWYnvo6KixOdKpTJF3uvWrUP37t111zAD5KQty1WrVuHnn3/G48ePUbRoUXz77bf48ssvk2r+9u1bDB06FPv37xf8evbsiVmzZsHS0jLpGNpTkzZMDwgIQI0aNfDrr7+iRIkSBmi97ovUN0+2zeRrmJFtqo6Mjo5G9erVxT0g9e+XbVN3PNk2NWd56dIljBkzBufPn4e9vT38/Pwwe/ZsuLu7i0zi4+MxYcIEsUo/NDQUTZs2xdKlS5EnTx7d38SMPEcWXwa8QFu3bsXAgQNx/fr1FLXw8PBIEkyqL/bs2YPWrVtj/vz5+Oyzz8TmsP369cPIkSMxceJEvHv3Dp988glKly6N//3vf6CNSvv37y9EwerVq0U2Fy9eRNWqVfHw4UPY2dkllenq6gpbW1sDksh60dqwpGO/+OILLF++HPXq1cOhQ4fEdfjrr7/Qtm1bUZlPP/1UiFri/fLlSxHOg3jPmDFDfL9ixQp88803oI6SBNf48eNx48YN3L59GzY2NllvkIFz0DdPtk3pgmtim3RcWFgYOnfuDLovpH54YttM/vHogifbpma2+erVK5QtWxYdO3YU/VJwcDAGDx4MT09PHDx4UGSiEl4kvkiQ0ff0QHvixAkD3/H0XzyLL/0zTyqRRqWOHDmCo0ePZliLNm3aCIFEo1+qNH36dNH5P3r0SIzATJo0CU+fPoWbm5s4hEbAaASNvi9SpIh42pg8ebI4JqclbVguW7YMQUFBGDduXBKGihUrom7dukJsnTp1CrVr1xajYqr4ab///juGDRsmRrlIXJHg6tatm+BJicQujUZS3l27djV5vPrm7RSISQAAEmVJREFUybYpmUxGtknHUEc2YMAA0EMTjTSkFl9sm8k/P13wZNvUzDZptHXOnDl49uxZ0mwMiSp6kKU+J3fu3EKILVq0SMzKUKI4YdQ3UV9Vq1Ytk79vatMAFl/a0NLxse3bt0euXLnEdFVGiYZxHRwcxMiWKtEoDBk7jXoNGTJE3IhPnz6d9H1kZKQ4h4QDTZvRSM3Nmzexd+/ejIozue+1YaneOIVCIUa86GawZcsWMbpI04s0FE43BlWimwcJsTNnzoi/NExOwrl+/fpJxzRo0EBMI9O5pp70yZOmztg2P7SYtGyTjho1ahRodJymyumBTF18vXnzhm0znR9fZnhSVmybmtkmzajQ6BeJLVVSDQDQTA1Nk9NMjPpDLR1H4otmHmi6Uk6JxZcBrzY9oRYrVkyIJ+rofX19hU9XlSpVMqwVzZeTECND/+OPP8R0GD3lUT7m5ubi/Fu3bqFMmTLCt4lu1DS/ToKMfJjoOx8fHzFyQ5+besoMywsXLoibAfkhkP/cb7/9JjAMHz5cTNHSjUOV4uLiYG1tLQQa+YhVrlwZ9+7dQ/HixZOOoZGwkJAQ/Pvvv6aOU4zsaWubmeXZoUMHts1UFpMey9SGZWZmlkJ80QMY2+aHP7/M8qSc+L6ZkqemLOksepglm6SH17///hv0UBcbG5vCrYZmGWjmgUbE5JRYfBnoatNTAI1K1axZUwgumsoi46NRmMuXL6NkyZLp1owEVMuWLXH16lVh2IUKFRLO9iTeaGps6tSpwieExABNadL/aYotb968cHFxEVNrNPy7ceNGzJ07F4cPH04xgmMgJJkuNrMsaerx+fPngveIESPEa9q0aUKI0dMZ+YKpJxK1a9euFSNfJHppeL1AgQJJh5DDPn2m8m/IdIMMfKK+eZKzONtmyouenm1mJL5U0zxsm7rhSbmwbWaO5dixY4Wz/Y4dO4QIW79+vZhhoIdd9dSwYUPxQEu+inJKLL4MeLXJT4hGU+hFiVYhkoBq1KgRFixYkGbNAgMDhSHTyNWBAweEA70q7dy5U/iC0NQDrWr84YcfxIgYjW7RtCR1qgkJCSmc7Zs3by6eQv755x8Dksh60ZlhqV4qTTWqRCutGCVBpu4Eqhr52rZtGwoWLChGJ0nw0uihKpHYpXrQE56pJ33y/Pzzz9k2P2Iw6rapWtmsOjz1yBeN2LJtfvzXpw1Pyonvm+nzTIsliStaKU4zMeSCQX0SJVr8QKPcdC9VXzVOI19kszQoIKfE4svIrnanTp3EsCw9LaRONKVIQ+A0qrVv3z6UK1cuzdr7+/sLnxC6adBIF62IatasWZrHjh49WoRToDn5nJbSY0kjfbTSpkKFCklN3r17N1q0aCEc6mkRA904yIdBlVQ+X2fPnhUjX+Q8euzYsRT+DeTzRStOlyxZktNQivZkF89q1aqxbSYSyMg2acRaPaUWXxQihW0zmVBWeab3Q+b7pkRG/b5Jtkl9Dt0nyK+YFiqoLz46d+6cCI2SelSWfL4GDRoEYiqnxOLLQFebpgvJWZuctslHgxI9MVDnTUt1VSENVNWjmyoZLj350ogXGax6olEaGuEiIaV6OqZhXnJkJCfImJgY4Z+0cuVKMe+uSjTkS6v0NmzYYCASWS9WW5YUe0Z141CVTqv7SDS9fv1aONXT05j6TYJuJOQLRiOPNFJJPlG0iIGWTlNSrXak8BUUxsKUk755kp8c26ZkMRnZpsqfU2VfqcUXfc62mfzryypPehhj29TMNukoWpVPgpdmCCgkknqiPogWmNF9VhWXTrXakVaYkwuOnBKLLwNdbRJaNNRKN1MyRpompCFcmjq8c+eOCBdBcVJohIY6exJk9DRBhq3uZ0Q3X3rSJVFAN4mvvvpKTDGSPxjFpqKnCVVIhVatWonVjjS3ni9fPiHEaKiXHChputNUk7YsSbzSjYF87UiIkl8c+crRwgRiR1OztOyZ2JIfHk3jEksaPqepXEq0QpUWMRBLim1DjCnGF/FVTSMzT815sm1Kv/OMbDO1TaUlvtg2k++buuDJtqmZbS5evFhMN9I9kWYR1JMqdiX5gdGDLL28vLxEnC+ye5pFkFti8WXAK04jUqrhaxo5odEWCpBK04n//fcfaBqLRsZoxCutyPRUdRrloiXUlGj0i5ZFU9BWchKlHwL5L6kSjTCQSKApTXLopRUmP/30kwg0aupJU5aq0BD0ZEY+XhTJncQsRQmnoLSqRCNgNBROI4lOTk5CfP34449JK0npOGJHvnm08pSuHd181H3ATJmpvnmybSaHLcnINtXtKi3xxbYp3Tc1/a1nxJNtUzOW9MCqHupInatq1xbqqyikBIU/It8vcqOh+yYJMbklFl9yu+LcXibABJgAE2ACTMCgBFh8GRQ/F84EmAATYAJMgAnIjQCLL7ldcW4vE2ACTIAJMAEmYFACLL4Mip8LZwJMgAkwASbABORGgMWX3K44t5cJMAEmwASYABMwKAEWXwbFz4UzASbABJgAE2ACciPA4ktuV5zbywSYABNgAkyACRiUAIsvg+LnwpkAE2ACTIAJMAG5EWDxJbcrzu1lAkyACTABJsAEDEqAxZdB8XPhTIAJMAEmwARMiwDtBqJUKsVWQpqm+/fvix1XTp48KXZs6dWrF2hPXSsrK02zyFHHsfjKUZeTG8MEmAATYAJMIHsI0L63kydPxrRp08Q+wpqKr3fv3uGTTz5B6dKlxRZ6tJ0eCbgaNWpg9erV2VNZI8+VxZeRXyCuHhMwFAHaG482HU8rLVy4UOwdykkiULhwYTx9+lS8p47G1dVVvN+3b5/YnP38+fPi8zx58ohN3SdMmICCBQsm4Utvj0Y6wNLSUnRytL/ox9LAgQOxbNkycci6devQvXt3vjxMQGcEHj16JATXjRs3YG9vjyZNmmgsvubNm4dJkyaJ34ibm5uoE42A1alTB5RvkSJFdFZPU8mIxZepXCmuJxPQMwESX/ny5RNPqqmTs7OzuAFzShZfXbp0EdMquXPnBompH374QYwQjBo1Cp07d4anpydo6mXGjBm4desWrly5IsQYJV2IL9rgPTIyEt7e3iy+2DB1TmDDhg04fPiwsF+ydR8fnxTii4Q/3SueP38uvvv222/F1CKlIUOG4NKlSyk23iZbdXBwEJts9+zZU+f1NfYMWXwZ+xXi+jEBAxEg8ZX6Bmugqhh9sTTy1bdvXzGiRenUqVPiqf7XX38V0yvqKS4uDmXLlkXr1q3x888/60x8qcr4mJAzepBcQZMgkPreQKO7U6dOxZIlS1CpUiUhsmhkfP78+UKAkWAjcfbkyROYm5uLNtIDSJkyZcRvgISa3BKLL7ldcW4vE9CQgCbii0RHhw4d8M8//4hpNZpmI7+O77//Hn/88YcYialYsSJmzZol/DtUiW7W9JT85s0btGzZUog8Eiz//fefuEHTNMTx48eFgKGU+jNy9qUb+m+//YagoCBRJt38/fz8xPFr1qzBTz/9hJEjR2LmzJkIDg5GlSpVsHjxYuF7QiksLAxjx47FX3/9JepZq1YtLFiwAO7u7mLEj570O3bsmFTnHj16IDo6Glu2bPmAYGrx1a1bN1y4cAF37twRo1qp07Nnz8QImY2NjVbiS316Uz1PclwmXxxKLL40NHA+LNMEUt8b8ufPL35L6q4I9Ptcu3Yt7t69K0Z8fX19MWzYMPE7pd8e/UbIrYH+P27cuEzXxVRPZPFlqleO680EspmApuLr7du32L17N+zs7FC1alV06tQJjx8/xi+//CKm1UiEkQC6evUqSpYsKW7I5DtCQqdBgwZCQJEoInGmqfiiJ+Xt27cLf6rixYtj79694umZ/lK9SXzRiFPNmjUxd+5cxMbGgsRToUKFcOjQIUGuadOmIBFET+sktqgDoKkR6ijat28vjvn777/F34iICCGWNm3aJMRi6pRafJE/V/PmzZN8sDK6VJpOOwYEBCA+Pj4pOxK51GYSetQGFl8ZkebvdUFA/d5ANunl5QVbW1tYWFgkZa9QKEAverCxtrbGzp07MWDAAPHARasdaVqeBBo9NNC0pNwSiy+5XXFuLxPQkADdYMkpVjU6ozqN/D1Uq5xIdJBoIlFCiYRLiRIlcP36dTG1pkrknFu0aFEhRqpVqyZGqkggqVL16tWFeNNEfFWoUEH4T9GIlboQ6tevnxBTNPpGeffp00dMbahGumgKhAQWCanbt2+LOhw5ckSINUqBgYFCJI4ZM0a0m/y0/P394eHhgfXr1+Obb77By5cvhQN8RuKLOiI6njoXVaJRAfU2kxC8efNmkmAizmnlTfWlFWGpHe7ps8GDBwtmxE+VeORLQwPnwzJNQF18hYSEiAUm9BCl+i2pZ0y/e9VUI32u+k3RKLKLiwv27NmDZs2aZboupnoiiy9TvXJcbyaQzQToRkpPtD/++GOKkpycnMQoECUSXzR9oBIZNCVHI1/kSKueYmJixCjUsWPHxHfk50HCQZW+++47sSJQE/FFIoUEHIk19Zs6+VJRvUiAkcj58ssvxYiXStDQZyTQ6DhVPUnYpLVwgI7JmzeveDofNGiQWKFI/ik0ipZWSj3yRaNQ5NO1dOnSpMNphIA6Kko02rZt2zYxnUqJBNOcOXPQpk2bD7IvVarUB6sdiaNqtRmN6KknFl/Z/MPg7IXIUvcHpWlHejiYPn16Eh2yfRrtJr/HEydOiBGu/fv3J42O0QMNrdB99eoVaAGP3BKLL7ldcW4vE9CQgKbTjuqO5jRN17ZtW1y7dk2II/VEoqlAgQLIlSuXCK6oPtVAjup0gybxRcvRScyo+3ypRtToMxJ/NPpFT8zUAagnmvYgfzESWlQvmvZQJfXPyEeNhE564ovOGTFihJiGJKFGncvFixdRvnx5jcQX+YrR6Boty08rUSdFo4fq4iu98BCpQ03Q0nwSnyQuZ8+e/UH2LL40NHA+LNMEUt8bSGDRql4KKdGoUSPhcE/T/qNHjxa/dRpVJvcAcjeg3z2JMhJr9L0c/b3EA1cCRU3jxASYABNIRSAz4uvBgwfiJnvgwAE0btw4KUca5aJpPpp6o5sz+YKRQ7sq0cgSjY6R+KJpCRp12rVrV5IDPQktcqYn8UWrqWiag0aPSGCpEt3kyRGfRqsyEl/37t0T/mc0gvTpp5+KLN6/f49ixYoJ3xRyvr98+bJw0ieHYJripNAQ6aXUI1+Ur8r3LK1l9PTET75a2oovGjmjulF5VE/1kT9V3Vh88U85uwmkdW+gaX3ywaSRZxr5pVFmcsJXLTihhyuaiieXBPp9072AQrPINbH4kuuV53YzgQwIZEZ8UZbkE3bu3DnhRE/+X+QLQtOMNOVAwotWONFfWu1ITulbt24VT7/16tUT4oueB8lPhIQQ5UHTdcOHDxfih0QNrYCkm/rKlSvF9ySQaCSLbuz0GT1RZyS+qJ6ff/658FGj6REajaPRNxqxo85B5edGI12q2Fy0clJT8UXH0QpPypOEZ9euXYXgpNEwClBLCxTIJ23VqlUiS00c7ml6sUWLFmJkkIQb+ZWpnp3JoZlWaWaUFxs9E2ACxkGAxZdxXAeuBRMwOgKZFV+0dYgqhAON1JDDO/l7qPszbd68GRMnThRPyeS7RFNrFKqCxBclekqmaT+atqOpRVo5SSNf9D2JL5pOVI1w0eopEmskvlQjYZqILxrpoqmSHTt2iBWEdevWFdMmJPpUiQQiteXFixdJfm5pXajUI1+qY2ikjsQWOfCTiKSFAjTSRiNftNJTlTQRX3Q90osErhKuLL6M7mfEFWICaRJg8cWGwQSYgMEJkGiiKUuV+DJ4hRIrQOEraIqSRtY+ltITX4ZoB087GoI6l8kEtCPA4ks7Xnw0E2AC2UDA2MQXjVjRFCGNjFE8MRqdy0h8pd5eKBswfTRL3l5I38S5PCaQeQIsvjLPjs9kAkxARwSMTXzRiBf5gpGvGcX+yiilt7F2Rufp8nveWFuXNDkvJpC9BFh8ZS9fzp0JMAEmwASYABNgAikIsPhig2ACTIAJMAEmwASYgB4JsPjSI2wuigkwASbABJgAE2ACLL7YBpgAE2ACTIAJMAEmoEcCLL70CJuLYgJMgAkwASbABJgAiy+2ASbABJgAE2ACTIAJ6JEAiy89wuaimAATYAJMgAkwASbA4ottgAkwASbABJgAE2ACeiTA4kuPsLkoJsAEmAATYAJMgAmw+GIbYAJMgAkwASbABJiAHgmw+NIjbC6KCTABJsAEmAATYAIsvtgGmAATYAJMgAkwASagRwL/B0tH4Xwy5fvbAAAAAElFTkSuQmCC\" width=\"674.4444623111211\">"
      ],
      "text/plain": [
       "<IPython.core.display.HTML object>"
      ]
     },
     "metadata": {},
     "output_type": "display_data"
    },
    {
     "data": {
      "text/plain": [
       "Text(0.5,1,'Center = 5.3144 GHz, FWHM = 5.50 MHz, Q = 965.95')"
      ]
     },
     "execution_count": 27,
     "metadata": {},
     "output_type": "execute_result"
    }
   ],
   "source": [
    "station.hetsrc.RF.power(-65)\n",
    "hetfreqs = np.arange(5.295e9, 5.32e9, 0.4e6)\n",
    "station.TWPA.on()\n",
    "ctl = ss.setup_soft_sweep(hetfreqs, station.hetsrc.frequency, integration_time=30e-3)\n",
    "testout = get_resonator_spec_and_fit(hetfreqs)\n",
    "\n",
    "plt.figure()\n",
    "plt.plot(hetfreqs,testout[0]**2,'-')\n",
    "plt.plot(hetfreqs,testout[2].best_fit)\n",
    "plt.xlabel('Frequency [GHz]')\n",
    "plt.ylabel('Magnitude**2 [a.u.]')\n",
    "plt.title('Center = %.4f GHz, FWHM = %.2f MHz, Q = %.2f' % (testout[2].params['center'].value*1e-9, 2*testout[2].params['sigma'].value*1e-6, testout[2].params['center'].value/(2*testout[2].params['sigma'].value)))"
   ]
  },
  {
   "cell_type": "code",
   "execution_count": 28,
   "metadata": {
    "ExecuteTime": {
     "end_time": "2018-11-26T09:01:29.886754Z",
     "start_time": "2018-11-26T09:01:23.109229Z"
    }
   },
   "outputs": [
    {
     "name": "stdout",
     "output_type": "stream",
     "text": [
      "Done! 62 (5.31980e+09)\r"
     ]
    },
    {
     "data": {
      "application/javascript": [
       "/* Put everything inside the global mpl namespace */\n",
       "window.mpl = {};\n",
       "\n",
       "\n",
       "mpl.get_websocket_type = function() {\n",
       "    if (typeof(WebSocket) !== 'undefined') {\n",
       "        return WebSocket;\n",
       "    } else if (typeof(MozWebSocket) !== 'undefined') {\n",
       "        return MozWebSocket;\n",
       "    } else {\n",
       "        alert('Your browser does not have WebSocket support.' +\n",
       "              'Please try Chrome, Safari or Firefox ≥ 6. ' +\n",
       "              'Firefox 4 and 5 are also supported but you ' +\n",
       "              'have to enable WebSockets in about:config.');\n",
       "    };\n",
       "}\n",
       "\n",
       "mpl.figure = function(figure_id, websocket, ondownload, parent_element) {\n",
       "    this.id = figure_id;\n",
       "\n",
       "    this.ws = websocket;\n",
       "\n",
       "    this.supports_binary = (this.ws.binaryType != undefined);\n",
       "\n",
       "    if (!this.supports_binary) {\n",
       "        var warnings = document.getElementById(\"mpl-warnings\");\n",
       "        if (warnings) {\n",
       "            warnings.style.display = 'block';\n",
       "            warnings.textContent = (\n",
       "                \"This browser does not support binary websocket messages. \" +\n",
       "                    \"Performance may be slow.\");\n",
       "        }\n",
       "    }\n",
       "\n",
       "    this.imageObj = new Image();\n",
       "\n",
       "    this.context = undefined;\n",
       "    this.message = undefined;\n",
       "    this.canvas = undefined;\n",
       "    this.rubberband_canvas = undefined;\n",
       "    this.rubberband_context = undefined;\n",
       "    this.format_dropdown = undefined;\n",
       "\n",
       "    this.image_mode = 'full';\n",
       "\n",
       "    this.root = $('<div/>');\n",
       "    this._root_extra_style(this.root)\n",
       "    this.root.attr('style', 'display: inline-block');\n",
       "\n",
       "    $(parent_element).append(this.root);\n",
       "\n",
       "    this._init_header(this);\n",
       "    this._init_canvas(this);\n",
       "    this._init_toolbar(this);\n",
       "\n",
       "    var fig = this;\n",
       "\n",
       "    this.waiting = false;\n",
       "\n",
       "    this.ws.onopen =  function () {\n",
       "            fig.send_message(\"supports_binary\", {value: fig.supports_binary});\n",
       "            fig.send_message(\"send_image_mode\", {});\n",
       "            if (mpl.ratio != 1) {\n",
       "                fig.send_message(\"set_dpi_ratio\", {'dpi_ratio': mpl.ratio});\n",
       "            }\n",
       "            fig.send_message(\"refresh\", {});\n",
       "        }\n",
       "\n",
       "    this.imageObj.onload = function() {\n",
       "            if (fig.image_mode == 'full') {\n",
       "                // Full images could contain transparency (where diff images\n",
       "                // almost always do), so we need to clear the canvas so that\n",
       "                // there is no ghosting.\n",
       "                fig.context.clearRect(0, 0, fig.canvas.width, fig.canvas.height);\n",
       "            }\n",
       "            fig.context.drawImage(fig.imageObj, 0, 0);\n",
       "        };\n",
       "\n",
       "    this.imageObj.onunload = function() {\n",
       "        fig.ws.close();\n",
       "    }\n",
       "\n",
       "    this.ws.onmessage = this._make_on_message_function(this);\n",
       "\n",
       "    this.ondownload = ondownload;\n",
       "}\n",
       "\n",
       "mpl.figure.prototype._init_header = function() {\n",
       "    var titlebar = $(\n",
       "        '<div class=\"ui-dialog-titlebar ui-widget-header ui-corner-all ' +\n",
       "        'ui-helper-clearfix\"/>');\n",
       "    var titletext = $(\n",
       "        '<div class=\"ui-dialog-title\" style=\"width: 100%; ' +\n",
       "        'text-align: center; padding: 3px;\"/>');\n",
       "    titlebar.append(titletext)\n",
       "    this.root.append(titlebar);\n",
       "    this.header = titletext[0];\n",
       "}\n",
       "\n",
       "\n",
       "\n",
       "mpl.figure.prototype._canvas_extra_style = function(canvas_div) {\n",
       "\n",
       "}\n",
       "\n",
       "\n",
       "mpl.figure.prototype._root_extra_style = function(canvas_div) {\n",
       "\n",
       "}\n",
       "\n",
       "mpl.figure.prototype._init_canvas = function() {\n",
       "    var fig = this;\n",
       "\n",
       "    var canvas_div = $('<div/>');\n",
       "\n",
       "    canvas_div.attr('style', 'position: relative; clear: both; outline: 0');\n",
       "\n",
       "    function canvas_keyboard_event(event) {\n",
       "        return fig.key_event(event, event['data']);\n",
       "    }\n",
       "\n",
       "    canvas_div.keydown('key_press', canvas_keyboard_event);\n",
       "    canvas_div.keyup('key_release', canvas_keyboard_event);\n",
       "    this.canvas_div = canvas_div\n",
       "    this._canvas_extra_style(canvas_div)\n",
       "    this.root.append(canvas_div);\n",
       "\n",
       "    var canvas = $('<canvas/>');\n",
       "    canvas.addClass('mpl-canvas');\n",
       "    canvas.attr('style', \"left: 0; top: 0; z-index: 0; outline: 0\")\n",
       "\n",
       "    this.canvas = canvas[0];\n",
       "    this.context = canvas[0].getContext(\"2d\");\n",
       "\n",
       "    var backingStore = this.context.backingStorePixelRatio ||\n",
       "\tthis.context.webkitBackingStorePixelRatio ||\n",
       "\tthis.context.mozBackingStorePixelRatio ||\n",
       "\tthis.context.msBackingStorePixelRatio ||\n",
       "\tthis.context.oBackingStorePixelRatio ||\n",
       "\tthis.context.backingStorePixelRatio || 1;\n",
       "\n",
       "    mpl.ratio = (window.devicePixelRatio || 1) / backingStore;\n",
       "\n",
       "    var rubberband = $('<canvas/>');\n",
       "    rubberband.attr('style', \"position: absolute; left: 0; top: 0; z-index: 1;\")\n",
       "\n",
       "    var pass_mouse_events = true;\n",
       "\n",
       "    canvas_div.resizable({\n",
       "        start: function(event, ui) {\n",
       "            pass_mouse_events = false;\n",
       "        },\n",
       "        resize: function(event, ui) {\n",
       "            fig.request_resize(ui.size.width, ui.size.height);\n",
       "        },\n",
       "        stop: function(event, ui) {\n",
       "            pass_mouse_events = true;\n",
       "            fig.request_resize(ui.size.width, ui.size.height);\n",
       "        },\n",
       "    });\n",
       "\n",
       "    function mouse_event_fn(event) {\n",
       "        if (pass_mouse_events)\n",
       "            return fig.mouse_event(event, event['data']);\n",
       "    }\n",
       "\n",
       "    rubberband.mousedown('button_press', mouse_event_fn);\n",
       "    rubberband.mouseup('button_release', mouse_event_fn);\n",
       "    // Throttle sequential mouse events to 1 every 20ms.\n",
       "    rubberband.mousemove('motion_notify', mouse_event_fn);\n",
       "\n",
       "    rubberband.mouseenter('figure_enter', mouse_event_fn);\n",
       "    rubberband.mouseleave('figure_leave', mouse_event_fn);\n",
       "\n",
       "    canvas_div.on(\"wheel\", function (event) {\n",
       "        event = event.originalEvent;\n",
       "        event['data'] = 'scroll'\n",
       "        if (event.deltaY < 0) {\n",
       "            event.step = 1;\n",
       "        } else {\n",
       "            event.step = -1;\n",
       "        }\n",
       "        mouse_event_fn(event);\n",
       "    });\n",
       "\n",
       "    canvas_div.append(canvas);\n",
       "    canvas_div.append(rubberband);\n",
       "\n",
       "    this.rubberband = rubberband;\n",
       "    this.rubberband_canvas = rubberband[0];\n",
       "    this.rubberband_context = rubberband[0].getContext(\"2d\");\n",
       "    this.rubberband_context.strokeStyle = \"#000000\";\n",
       "\n",
       "    this._resize_canvas = function(width, height) {\n",
       "        // Keep the size of the canvas, canvas container, and rubber band\n",
       "        // canvas in synch.\n",
       "        canvas_div.css('width', width)\n",
       "        canvas_div.css('height', height)\n",
       "\n",
       "        canvas.attr('width', width * mpl.ratio);\n",
       "        canvas.attr('height', height * mpl.ratio);\n",
       "        canvas.attr('style', 'width: ' + width + 'px; height: ' + height + 'px;');\n",
       "\n",
       "        rubberband.attr('width', width);\n",
       "        rubberband.attr('height', height);\n",
       "    }\n",
       "\n",
       "    // Set the figure to an initial 600x600px, this will subsequently be updated\n",
       "    // upon first draw.\n",
       "    this._resize_canvas(600, 600);\n",
       "\n",
       "    // Disable right mouse context menu.\n",
       "    $(this.rubberband_canvas).bind(\"contextmenu\",function(e){\n",
       "        return false;\n",
       "    });\n",
       "\n",
       "    function set_focus () {\n",
       "        canvas.focus();\n",
       "        canvas_div.focus();\n",
       "    }\n",
       "\n",
       "    window.setTimeout(set_focus, 100);\n",
       "}\n",
       "\n",
       "mpl.figure.prototype._init_toolbar = function() {\n",
       "    var fig = this;\n",
       "\n",
       "    var nav_element = $('<div/>')\n",
       "    nav_element.attr('style', 'width: 100%');\n",
       "    this.root.append(nav_element);\n",
       "\n",
       "    // Define a callback function for later on.\n",
       "    function toolbar_event(event) {\n",
       "        return fig.toolbar_button_onclick(event['data']);\n",
       "    }\n",
       "    function toolbar_mouse_event(event) {\n",
       "        return fig.toolbar_button_onmouseover(event['data']);\n",
       "    }\n",
       "\n",
       "    for(var toolbar_ind in mpl.toolbar_items) {\n",
       "        var name = mpl.toolbar_items[toolbar_ind][0];\n",
       "        var tooltip = mpl.toolbar_items[toolbar_ind][1];\n",
       "        var image = mpl.toolbar_items[toolbar_ind][2];\n",
       "        var method_name = mpl.toolbar_items[toolbar_ind][3];\n",
       "\n",
       "        if (!name) {\n",
       "            // put a spacer in here.\n",
       "            continue;\n",
       "        }\n",
       "        var button = $('<button/>');\n",
       "        button.addClass('ui-button ui-widget ui-state-default ui-corner-all ' +\n",
       "                        'ui-button-icon-only');\n",
       "        button.attr('role', 'button');\n",
       "        button.attr('aria-disabled', 'false');\n",
       "        button.click(method_name, toolbar_event);\n",
       "        button.mouseover(tooltip, toolbar_mouse_event);\n",
       "\n",
       "        var icon_img = $('<span/>');\n",
       "        icon_img.addClass('ui-button-icon-primary ui-icon');\n",
       "        icon_img.addClass(image);\n",
       "        icon_img.addClass('ui-corner-all');\n",
       "\n",
       "        var tooltip_span = $('<span/>');\n",
       "        tooltip_span.addClass('ui-button-text');\n",
       "        tooltip_span.html(tooltip);\n",
       "\n",
       "        button.append(icon_img);\n",
       "        button.append(tooltip_span);\n",
       "\n",
       "        nav_element.append(button);\n",
       "    }\n",
       "\n",
       "    var fmt_picker_span = $('<span/>');\n",
       "\n",
       "    var fmt_picker = $('<select/>');\n",
       "    fmt_picker.addClass('mpl-toolbar-option ui-widget ui-widget-content');\n",
       "    fmt_picker_span.append(fmt_picker);\n",
       "    nav_element.append(fmt_picker_span);\n",
       "    this.format_dropdown = fmt_picker[0];\n",
       "\n",
       "    for (var ind in mpl.extensions) {\n",
       "        var fmt = mpl.extensions[ind];\n",
       "        var option = $(\n",
       "            '<option/>', {selected: fmt === mpl.default_extension}).html(fmt);\n",
       "        fmt_picker.append(option)\n",
       "    }\n",
       "\n",
       "    // Add hover states to the ui-buttons\n",
       "    $( \".ui-button\" ).hover(\n",
       "        function() { $(this).addClass(\"ui-state-hover\");},\n",
       "        function() { $(this).removeClass(\"ui-state-hover\");}\n",
       "    );\n",
       "\n",
       "    var status_bar = $('<span class=\"mpl-message\"/>');\n",
       "    nav_element.append(status_bar);\n",
       "    this.message = status_bar[0];\n",
       "}\n",
       "\n",
       "mpl.figure.prototype.request_resize = function(x_pixels, y_pixels) {\n",
       "    // Request matplotlib to resize the figure. Matplotlib will then trigger a resize in the client,\n",
       "    // which will in turn request a refresh of the image.\n",
       "    this.send_message('resize', {'width': x_pixels, 'height': y_pixels});\n",
       "}\n",
       "\n",
       "mpl.figure.prototype.send_message = function(type, properties) {\n",
       "    properties['type'] = type;\n",
       "    properties['figure_id'] = this.id;\n",
       "    this.ws.send(JSON.stringify(properties));\n",
       "}\n",
       "\n",
       "mpl.figure.prototype.send_draw_message = function() {\n",
       "    if (!this.waiting) {\n",
       "        this.waiting = true;\n",
       "        this.ws.send(JSON.stringify({type: \"draw\", figure_id: this.id}));\n",
       "    }\n",
       "}\n",
       "\n",
       "\n",
       "mpl.figure.prototype.handle_save = function(fig, msg) {\n",
       "    var format_dropdown = fig.format_dropdown;\n",
       "    var format = format_dropdown.options[format_dropdown.selectedIndex].value;\n",
       "    fig.ondownload(fig, format);\n",
       "}\n",
       "\n",
       "\n",
       "mpl.figure.prototype.handle_resize = function(fig, msg) {\n",
       "    var size = msg['size'];\n",
       "    if (size[0] != fig.canvas.width || size[1] != fig.canvas.height) {\n",
       "        fig._resize_canvas(size[0], size[1]);\n",
       "        fig.send_message(\"refresh\", {});\n",
       "    };\n",
       "}\n",
       "\n",
       "mpl.figure.prototype.handle_rubberband = function(fig, msg) {\n",
       "    var x0 = msg['x0'] / mpl.ratio;\n",
       "    var y0 = (fig.canvas.height - msg['y0']) / mpl.ratio;\n",
       "    var x1 = msg['x1'] / mpl.ratio;\n",
       "    var y1 = (fig.canvas.height - msg['y1']) / mpl.ratio;\n",
       "    x0 = Math.floor(x0) + 0.5;\n",
       "    y0 = Math.floor(y0) + 0.5;\n",
       "    x1 = Math.floor(x1) + 0.5;\n",
       "    y1 = Math.floor(y1) + 0.5;\n",
       "    var min_x = Math.min(x0, x1);\n",
       "    var min_y = Math.min(y0, y1);\n",
       "    var width = Math.abs(x1 - x0);\n",
       "    var height = Math.abs(y1 - y0);\n",
       "\n",
       "    fig.rubberband_context.clearRect(\n",
       "        0, 0, fig.canvas.width, fig.canvas.height);\n",
       "\n",
       "    fig.rubberband_context.strokeRect(min_x, min_y, width, height);\n",
       "}\n",
       "\n",
       "mpl.figure.prototype.handle_figure_label = function(fig, msg) {\n",
       "    // Updates the figure title.\n",
       "    fig.header.textContent = msg['label'];\n",
       "}\n",
       "\n",
       "mpl.figure.prototype.handle_cursor = function(fig, msg) {\n",
       "    var cursor = msg['cursor'];\n",
       "    switch(cursor)\n",
       "    {\n",
       "    case 0:\n",
       "        cursor = 'pointer';\n",
       "        break;\n",
       "    case 1:\n",
       "        cursor = 'default';\n",
       "        break;\n",
       "    case 2:\n",
       "        cursor = 'crosshair';\n",
       "        break;\n",
       "    case 3:\n",
       "        cursor = 'move';\n",
       "        break;\n",
       "    }\n",
       "    fig.rubberband_canvas.style.cursor = cursor;\n",
       "}\n",
       "\n",
       "mpl.figure.prototype.handle_message = function(fig, msg) {\n",
       "    fig.message.textContent = msg['message'];\n",
       "}\n",
       "\n",
       "mpl.figure.prototype.handle_draw = function(fig, msg) {\n",
       "    // Request the server to send over a new figure.\n",
       "    fig.send_draw_message();\n",
       "}\n",
       "\n",
       "mpl.figure.prototype.handle_image_mode = function(fig, msg) {\n",
       "    fig.image_mode = msg['mode'];\n",
       "}\n",
       "\n",
       "mpl.figure.prototype.updated_canvas_event = function() {\n",
       "    // Called whenever the canvas gets updated.\n",
       "    this.send_message(\"ack\", {});\n",
       "}\n",
       "\n",
       "// A function to construct a web socket function for onmessage handling.\n",
       "// Called in the figure constructor.\n",
       "mpl.figure.prototype._make_on_message_function = function(fig) {\n",
       "    return function socket_on_message(evt) {\n",
       "        if (evt.data instanceof Blob) {\n",
       "            /* FIXME: We get \"Resource interpreted as Image but\n",
       "             * transferred with MIME type text/plain:\" errors on\n",
       "             * Chrome.  But how to set the MIME type?  It doesn't seem\n",
       "             * to be part of the websocket stream */\n",
       "            evt.data.type = \"image/png\";\n",
       "\n",
       "            /* Free the memory for the previous frames */\n",
       "            if (fig.imageObj.src) {\n",
       "                (window.URL || window.webkitURL).revokeObjectURL(\n",
       "                    fig.imageObj.src);\n",
       "            }\n",
       "\n",
       "            fig.imageObj.src = (window.URL || window.webkitURL).createObjectURL(\n",
       "                evt.data);\n",
       "            fig.updated_canvas_event();\n",
       "            fig.waiting = false;\n",
       "            return;\n",
       "        }\n",
       "        else if (typeof evt.data === 'string' && evt.data.slice(0, 21) == \"data:image/png;base64\") {\n",
       "            fig.imageObj.src = evt.data;\n",
       "            fig.updated_canvas_event();\n",
       "            fig.waiting = false;\n",
       "            return;\n",
       "        }\n",
       "\n",
       "        var msg = JSON.parse(evt.data);\n",
       "        var msg_type = msg['type'];\n",
       "\n",
       "        // Call the  \"handle_{type}\" callback, which takes\n",
       "        // the figure and JSON message as its only arguments.\n",
       "        try {\n",
       "            var callback = fig[\"handle_\" + msg_type];\n",
       "        } catch (e) {\n",
       "            console.log(\"No handler for the '\" + msg_type + \"' message type: \", msg);\n",
       "            return;\n",
       "        }\n",
       "\n",
       "        if (callback) {\n",
       "            try {\n",
       "                // console.log(\"Handling '\" + msg_type + \"' message: \", msg);\n",
       "                callback(fig, msg);\n",
       "            } catch (e) {\n",
       "                console.log(\"Exception inside the 'handler_\" + msg_type + \"' callback:\", e, e.stack, msg);\n",
       "            }\n",
       "        }\n",
       "    };\n",
       "}\n",
       "\n",
       "// from http://stackoverflow.com/questions/1114465/getting-mouse-location-in-canvas\n",
       "mpl.findpos = function(e) {\n",
       "    //this section is from http://www.quirksmode.org/js/events_properties.html\n",
       "    var targ;\n",
       "    if (!e)\n",
       "        e = window.event;\n",
       "    if (e.target)\n",
       "        targ = e.target;\n",
       "    else if (e.srcElement)\n",
       "        targ = e.srcElement;\n",
       "    if (targ.nodeType == 3) // defeat Safari bug\n",
       "        targ = targ.parentNode;\n",
       "\n",
       "    // jQuery normalizes the pageX and pageY\n",
       "    // pageX,Y are the mouse positions relative to the document\n",
       "    // offset() returns the position of the element relative to the document\n",
       "    var x = e.pageX - $(targ).offset().left;\n",
       "    var y = e.pageY - $(targ).offset().top;\n",
       "\n",
       "    return {\"x\": x, \"y\": y};\n",
       "};\n",
       "\n",
       "/*\n",
       " * return a copy of an object with only non-object keys\n",
       " * we need this to avoid circular references\n",
       " * http://stackoverflow.com/a/24161582/3208463\n",
       " */\n",
       "function simpleKeys (original) {\n",
       "  return Object.keys(original).reduce(function (obj, key) {\n",
       "    if (typeof original[key] !== 'object')\n",
       "        obj[key] = original[key]\n",
       "    return obj;\n",
       "  }, {});\n",
       "}\n",
       "\n",
       "mpl.figure.prototype.mouse_event = function(event, name) {\n",
       "    var canvas_pos = mpl.findpos(event)\n",
       "\n",
       "    if (name === 'button_press')\n",
       "    {\n",
       "        this.canvas.focus();\n",
       "        this.canvas_div.focus();\n",
       "    }\n",
       "\n",
       "    var x = canvas_pos.x * mpl.ratio;\n",
       "    var y = canvas_pos.y * mpl.ratio;\n",
       "\n",
       "    this.send_message(name, {x: x, y: y, button: event.button,\n",
       "                             step: event.step,\n",
       "                             guiEvent: simpleKeys(event)});\n",
       "\n",
       "    /* This prevents the web browser from automatically changing to\n",
       "     * the text insertion cursor when the button is pressed.  We want\n",
       "     * to control all of the cursor setting manually through the\n",
       "     * 'cursor' event from matplotlib */\n",
       "    event.preventDefault();\n",
       "    return false;\n",
       "}\n",
       "\n",
       "mpl.figure.prototype._key_event_extra = function(event, name) {\n",
       "    // Handle any extra behaviour associated with a key event\n",
       "}\n",
       "\n",
       "mpl.figure.prototype.key_event = function(event, name) {\n",
       "\n",
       "    // Prevent repeat events\n",
       "    if (name == 'key_press')\n",
       "    {\n",
       "        if (event.which === this._key)\n",
       "            return;\n",
       "        else\n",
       "            this._key = event.which;\n",
       "    }\n",
       "    if (name == 'key_release')\n",
       "        this._key = null;\n",
       "\n",
       "    var value = '';\n",
       "    if (event.ctrlKey && event.which != 17)\n",
       "        value += \"ctrl+\";\n",
       "    if (event.altKey && event.which != 18)\n",
       "        value += \"alt+\";\n",
       "    if (event.shiftKey && event.which != 16)\n",
       "        value += \"shift+\";\n",
       "\n",
       "    value += 'k';\n",
       "    value += event.which.toString();\n",
       "\n",
       "    this._key_event_extra(event, name);\n",
       "\n",
       "    this.send_message(name, {key: value,\n",
       "                             guiEvent: simpleKeys(event)});\n",
       "    return false;\n",
       "}\n",
       "\n",
       "mpl.figure.prototype.toolbar_button_onclick = function(name) {\n",
       "    if (name == 'download') {\n",
       "        this.handle_save(this, null);\n",
       "    } else {\n",
       "        this.send_message(\"toolbar_button\", {name: name});\n",
       "    }\n",
       "};\n",
       "\n",
       "mpl.figure.prototype.toolbar_button_onmouseover = function(tooltip) {\n",
       "    this.message.textContent = tooltip;\n",
       "};\n",
       "mpl.toolbar_items = [[\"Home\", \"Reset original view\", \"fa fa-home icon-home\", \"home\"], [\"Back\", \"Back to  previous view\", \"fa fa-arrow-left icon-arrow-left\", \"back\"], [\"Forward\", \"Forward to next view\", \"fa fa-arrow-right icon-arrow-right\", \"forward\"], [\"\", \"\", \"\", \"\"], [\"Pan\", \"Pan axes with left mouse, zoom with right\", \"fa fa-arrows icon-move\", \"pan\"], [\"Zoom\", \"Zoom to rectangle\", \"fa fa-square-o icon-check-empty\", \"zoom\"], [\"\", \"\", \"\", \"\"], [\"Download\", \"Download plot\", \"fa fa-floppy-o icon-save\", \"download\"]];\n",
       "\n",
       "mpl.extensions = [\"eps\", \"jpeg\", \"pdf\", \"png\", \"ps\", \"raw\", \"svg\", \"tif\"];\n",
       "\n",
       "mpl.default_extension = \"png\";var comm_websocket_adapter = function(comm) {\n",
       "    // Create a \"websocket\"-like object which calls the given IPython comm\n",
       "    // object with the appropriate methods. Currently this is a non binary\n",
       "    // socket, so there is still some room for performance tuning.\n",
       "    var ws = {};\n",
       "\n",
       "    ws.close = function() {\n",
       "        comm.close()\n",
       "    };\n",
       "    ws.send = function(m) {\n",
       "        //console.log('sending', m);\n",
       "        comm.send(m);\n",
       "    };\n",
       "    // Register the callback with on_msg.\n",
       "    comm.on_msg(function(msg) {\n",
       "        //console.log('receiving', msg['content']['data'], msg);\n",
       "        // Pass the mpl event to the overridden (by mpl) onmessage function.\n",
       "        ws.onmessage(msg['content']['data'])\n",
       "    });\n",
       "    return ws;\n",
       "}\n",
       "\n",
       "mpl.mpl_figure_comm = function(comm, msg) {\n",
       "    // This is the function which gets called when the mpl process\n",
       "    // starts-up an IPython Comm through the \"matplotlib\" channel.\n",
       "\n",
       "    var id = msg.content.data.id;\n",
       "    // Get hold of the div created by the display call when the Comm\n",
       "    // socket was opened in Python.\n",
       "    var element = $(\"#\" + id);\n",
       "    var ws_proxy = comm_websocket_adapter(comm)\n",
       "\n",
       "    function ondownload(figure, format) {\n",
       "        window.open(figure.imageObj.src);\n",
       "    }\n",
       "\n",
       "    var fig = new mpl.figure(id, ws_proxy,\n",
       "                           ondownload,\n",
       "                           element.get(0));\n",
       "\n",
       "    // Call onopen now - mpl needs it, as it is assuming we've passed it a real\n",
       "    // web socket which is closed, not our websocket->open comm proxy.\n",
       "    ws_proxy.onopen();\n",
       "\n",
       "    fig.parent_element = element.get(0);\n",
       "    fig.cell_info = mpl.find_output_cell(\"<div id='\" + id + \"'></div>\");\n",
       "    if (!fig.cell_info) {\n",
       "        console.error(\"Failed to find cell for figure\", id, fig);\n",
       "        return;\n",
       "    }\n",
       "\n",
       "    var output_index = fig.cell_info[2]\n",
       "    var cell = fig.cell_info[0];\n",
       "\n",
       "};\n",
       "\n",
       "mpl.figure.prototype.handle_close = function(fig, msg) {\n",
       "    var width = fig.canvas.width/mpl.ratio\n",
       "    fig.root.unbind('remove')\n",
       "\n",
       "    // Update the output cell to use the data from the current canvas.\n",
       "    fig.push_to_output();\n",
       "    var dataURL = fig.canvas.toDataURL();\n",
       "    // Re-enable the keyboard manager in IPython - without this line, in FF,\n",
       "    // the notebook keyboard shortcuts fail.\n",
       "    IPython.keyboard_manager.enable()\n",
       "    $(fig.parent_element).html('<img src=\"' + dataURL + '\" width=\"' + width + '\">');\n",
       "    fig.close_ws(fig, msg);\n",
       "}\n",
       "\n",
       "mpl.figure.prototype.close_ws = function(fig, msg){\n",
       "    fig.send_message('closing', msg);\n",
       "    // fig.ws.close()\n",
       "}\n",
       "\n",
       "mpl.figure.prototype.push_to_output = function(remove_interactive) {\n",
       "    // Turn the data on the canvas into data in the output cell.\n",
       "    var width = this.canvas.width/mpl.ratio\n",
       "    var dataURL = this.canvas.toDataURL();\n",
       "    this.cell_info[1]['text/html'] = '<img src=\"' + dataURL + '\" width=\"' + width + '\">';\n",
       "}\n",
       "\n",
       "mpl.figure.prototype.updated_canvas_event = function() {\n",
       "    // Tell IPython that the notebook contents must change.\n",
       "    IPython.notebook.set_dirty(true);\n",
       "    this.send_message(\"ack\", {});\n",
       "    var fig = this;\n",
       "    // Wait a second, then push the new image to the DOM so\n",
       "    // that it is saved nicely (might be nice to debounce this).\n",
       "    setTimeout(function () { fig.push_to_output() }, 1000);\n",
       "}\n",
       "\n",
       "mpl.figure.prototype._init_toolbar = function() {\n",
       "    var fig = this;\n",
       "\n",
       "    var nav_element = $('<div/>')\n",
       "    nav_element.attr('style', 'width: 100%');\n",
       "    this.root.append(nav_element);\n",
       "\n",
       "    // Define a callback function for later on.\n",
       "    function toolbar_event(event) {\n",
       "        return fig.toolbar_button_onclick(event['data']);\n",
       "    }\n",
       "    function toolbar_mouse_event(event) {\n",
       "        return fig.toolbar_button_onmouseover(event['data']);\n",
       "    }\n",
       "\n",
       "    for(var toolbar_ind in mpl.toolbar_items){\n",
       "        var name = mpl.toolbar_items[toolbar_ind][0];\n",
       "        var tooltip = mpl.toolbar_items[toolbar_ind][1];\n",
       "        var image = mpl.toolbar_items[toolbar_ind][2];\n",
       "        var method_name = mpl.toolbar_items[toolbar_ind][3];\n",
       "\n",
       "        if (!name) { continue; };\n",
       "\n",
       "        var button = $('<button class=\"btn btn-default\" href=\"#\" title=\"' + name + '\"><i class=\"fa ' + image + ' fa-lg\"></i></button>');\n",
       "        button.click(method_name, toolbar_event);\n",
       "        button.mouseover(tooltip, toolbar_mouse_event);\n",
       "        nav_element.append(button);\n",
       "    }\n",
       "\n",
       "    // Add the status bar.\n",
       "    var status_bar = $('<span class=\"mpl-message\" style=\"text-align:right; float: right;\"/>');\n",
       "    nav_element.append(status_bar);\n",
       "    this.message = status_bar[0];\n",
       "\n",
       "    // Add the close button to the window.\n",
       "    var buttongrp = $('<div class=\"btn-group inline pull-right\"></div>');\n",
       "    var button = $('<button class=\"btn btn-mini btn-primary\" href=\"#\" title=\"Stop Interaction\"><i class=\"fa fa-power-off icon-remove icon-large\"></i></button>');\n",
       "    button.click(function (evt) { fig.handle_close(fig, {}); } );\n",
       "    button.mouseover('Stop Interaction', toolbar_mouse_event);\n",
       "    buttongrp.append(button);\n",
       "    var titlebar = this.root.find($('.ui-dialog-titlebar'));\n",
       "    titlebar.prepend(buttongrp);\n",
       "}\n",
       "\n",
       "mpl.figure.prototype._root_extra_style = function(el){\n",
       "    var fig = this\n",
       "    el.on(\"remove\", function(){\n",
       "\tfig.close_ws(fig, {});\n",
       "    });\n",
       "}\n",
       "\n",
       "mpl.figure.prototype._canvas_extra_style = function(el){\n",
       "    // this is important to make the div 'focusable\n",
       "    el.attr('tabindex', 0)\n",
       "    // reach out to IPython and tell the keyboard manager to turn it's self\n",
       "    // off when our div gets focus\n",
       "\n",
       "    // location in version 3\n",
       "    if (IPython.notebook.keyboard_manager) {\n",
       "        IPython.notebook.keyboard_manager.register_events(el);\n",
       "    }\n",
       "    else {\n",
       "        // location in version 2\n",
       "        IPython.keyboard_manager.register_events(el);\n",
       "    }\n",
       "\n",
       "}\n",
       "\n",
       "mpl.figure.prototype._key_event_extra = function(event, name) {\n",
       "    var manager = IPython.notebook.keyboard_manager;\n",
       "    if (!manager)\n",
       "        manager = IPython.keyboard_manager;\n",
       "\n",
       "    // Check for shift+enter\n",
       "    if (event.shiftKey && event.which == 13) {\n",
       "        this.canvas_div.blur();\n",
       "        event.shiftKey = false;\n",
       "        // Send a \"J\" for go to next cell\n",
       "        event.which = 74;\n",
       "        event.keyCode = 74;\n",
       "        manager.command_mode();\n",
       "        manager.handle_keydown(event);\n",
       "    }\n",
       "}\n",
       "\n",
       "mpl.figure.prototype.handle_save = function(fig, msg) {\n",
       "    fig.ondownload(fig, null);\n",
       "}\n",
       "\n",
       "\n",
       "mpl.find_output_cell = function(html_output) {\n",
       "    // Return the cell and output element which can be found *uniquely* in the notebook.\n",
       "    // Note - this is a bit hacky, but it is done because the \"notebook_saving.Notebook\"\n",
       "    // IPython event is triggered only after the cells have been serialised, which for\n",
       "    // our purposes (turning an active figure into a static one), is too late.\n",
       "    var cells = IPython.notebook.get_cells();\n",
       "    var ncells = cells.length;\n",
       "    for (var i=0; i<ncells; i++) {\n",
       "        var cell = cells[i];\n",
       "        if (cell.cell_type === 'code'){\n",
       "            for (var j=0; j<cell.output_area.outputs.length; j++) {\n",
       "                var data = cell.output_area.outputs[j];\n",
       "                if (data.data) {\n",
       "                    // IPython >= 3 moved mimebundle to data attribute of output\n",
       "                    data = data.data;\n",
       "                }\n",
       "                if (data['text/html'] == html_output) {\n",
       "                    return [cell, data, j];\n",
       "                }\n",
       "            }\n",
       "        }\n",
       "    }\n",
       "}\n",
       "\n",
       "// Register the function which deals with the matplotlib target/channel.\n",
       "// The kernel may be null if the page has been refreshed.\n",
       "if (IPython.notebook.kernel != null) {\n",
       "    IPython.notebook.kernel.comm_manager.register_target('matplotlib', mpl.mpl_figure_comm);\n",
       "}\n"
      ],
      "text/plain": [
       "<IPython.core.display.Javascript object>"
      ]
     },
     "metadata": {},
     "output_type": "display_data"
    },
    {
     "data": {
      "text/html": [
       "<img src=\"data:image/png;base64,iVBORw0KGgoAAAANSUhEUgAAAl8AAAGUCAYAAAALeEf3AAAgAElEQVR4XuydBZQUxxaG/xXc3d2CSwju+iBACE6QYMGCu7NogAS3CB4ggkSwBBIIGtwhwT04wRdZeeevoTezw+zuzO5sM7N16xzOy9vpLvnqdtXft25VewUHBwdDkhAQAkJACAgBISAEhIApBLxEfJnCWQoRAkJACAgBISAEhIAiIOJLDEEICAEhIASEgBAQAiYSEPFlImwpSggIASEgBISAEBACIr7EBoSAEBACQkAICAEhYCIBEV8mwpaihIAQEAJCQAgIASEg4ktsQAgIASEgBISAEBACJhIQ8WUibClKCAgBISAEhIAQEAIivsQGhIAQEAJCQAgIASFgIgERXybClqKEgBAQAkJACAgBISDiS2xACAgBISAEhIAQEAImEhDxZSJsKUoICAEhIASEgBAQAiK+xAaEgBAQAkJACAgBIWAiARFfJsKWooSAEBACQkAICAEhIOJLbEAICAEhIASEgBAQAiYSEPFlImwpSggIASEgBISAEBACIr7EBoSAEBACQkAICAEhYCIBEV8mwpaihIAQEAJCQAgIASEg4ktsQAgIASEgBISAEBACJhIQ8WUibClKCAgBISAEhIAQEAIivsQGhIAQEAJCQAgIASFgIgERXybClqKEgBAQAkJACAgBISDiS2xACAgBISAEhIAQEAImEhDxZSJsKUoICAEhIASEgBAQAiK+xAaEgBAQAkJACAgBIWAiARFfJsKWooSAEBACQkAICAEhIOJLbEAICAEhIASEgBAQAiYSEPFlImwpSggIASEgBISAEBACIr7EBoSAEBACQkAICAEhYCIBEV8mwpaihIAQEAJCQAgIASEg4ktsQAgIASEgBISAEBACJhIQ8WUibClKCAgBISAEhIAQEAIivsQGhIAQEAJCQAgIASFgIgERXybClqKEgBAQAkJACAgBISDiS2xACAgBISAEhIAQEAImEhDxZSJsR4p69OgRvvzySyxfvhxnz55FYGAg8ufPj48++gjt2rWDt7e3I9lE+pobN24gYcKE6p+7ppMnTyom9tKGDRvwv//9L8yqP378GH5+fli1ahVu3bqFt99+W/3/KlWqhHnPuXPnUKBAATDvSpUqhbrO0fzWr1+Pd999124Zf/31F956660IcdMePv/8c1WPK1euqOtz5cqFhg0bomfPnkiQIEGoPLy8vFCxYkX88ccfdvNu06YNFi9ejAsXLiBr1qwRlu/sBczz0qVLYd5WuHBhbN++HcmSJUPt2rXx888/h7rW399f/fb8+XOsWbMGderUCfX71KlT0adPH/z222+oWrVqSBsuXrxot0z286hRo7Bly5aQfjTqWLBgQRw9etTuff/++y9Sp06NgIAALFy4EORmRlq2bBlatmyJ4OBgh4o7fvw4BgwYgG3btiF+/PioUaMGxo4d+1rf3r59W11HmyTjypUrgyyzZ88ebjkGP1504MABFCtWzO71tMfVq1eHsr1Fixahbdu24fKLyF4dghDBRexDcl2wYAH43D179ky1u2nTpujcubOyt+hOL168wLhx47B06VL1HKdMmRLvv/8+xo8fjyRJkqjirVnbq0+WLFlgbefz5s3DlClTcP78efC3Dh06qGfDx8dH3W7wD69t4dnZkydPkChRIru2OHfuXMWOiXlw/po5c6aqC5+v7t27o0uXLtGN1ePyF/HlRl126tQp1KtXTz1ULVq0UMKAg8OPP/6IHTt24MMPP1SDFwep6Eic1Js3b47Dhw9Hy2TsqjqvWLECTZo0weTJk9WkaJ04CadLl85uURwYKMwoRjggcNDlALhnzx4laDhZ2ab79++jQoUKOHbsWKhJ2xhoHM3v008/xcCBA1X/GQOiURb7PHHixOHiYZs56ceNG1fZBsUgJxK2hUIyd+7c6r/TpEkTkk9Ek5kZ4ouDNid2eyl58uRKdJUoUUKJtJs3b4a6jKKqevXqiBUrFj7++OPX8qEN/PTTT2AfxYsXL0riiwVzssiWLdtrVV2yZIl69pjMEl98BimcHz586JD4+vvvv1GyZEn1skYhniJFCnBSJP9du3aFsKGQLVu2LM6cOYPevXurCZXPEV/qjhw5ou4LK1kLghEjRigha5so5lKlSqXKtRb+7iC+KKIbNWqEzZs3K7urWbMmfH19sXv3bnz77bfIkCED1q1bh3z58rlqqLKbT/v27ZX443Ncrlw5nDhxQr1UFS1aFDt37lT2zhcBey8DW7duBYUWx68ZM2ao/D/55BMMGTJE3d+6dWtcvnxZiR+29ZtvvlHX0LZpB7aJL7K8ny82fMEJK+3bt089p4MHD36ND+2OL4FMFPvDhw9XZXMs5ssVHQlDhw5Vv0n6j4CILzexBoqsIkWK4M6dO2oS5eRqnbp27aoGU+u3DFdX3Rhco8sT4qr6jhw5Ur0lcoCPHTu2w9lyYOUgM2vWLDWZM5F7njx5lGDjIGyd+GbcoEEDcGJjsvaY8P87kx8nb/ZreJ6gsBrCQZhCnIMrRaLtBLlx40Y1mVA4f/311yHZuIP4YmXC8kQZFe3Xr58SALZ2xwmFb9HvvPMOrl279tpklClTJiWW6OlhMrx3znq+KDxYNkVir169XuuG+vXrq4mLHiMzxBcFJSdRCi8mRzxfdevWVfbIyY7iiunu3bvKtunV/f7779XfvvrqK3Ts2BG0GQpbJk7+9ELy5YAembCSMT6QOV8WKBBtE18UGzdurDznzNPwurqD+OKzTIFBMcA6WqeDBw8qMUaPIXlEl+efApfjPG2eL2RGMvqFL4MUZfYS7YEe2qRJk2Lv3r2IEycOuFJBT1fevHnx559/qpcQJoM3bYJjg73El7fSpUvjn3/+Uc9WeMKbds+Vl7BeUJg/xS1f/t577z3wZdFIfEmiV5t1Zd0lWQiI+HITS6DLuG/fvmry5FKDbXr69CnSp0+vJptDhw5FS609RXzxrYqeKHoKnUlky0mek7W1p4kDMQcpMjYSl+M4SXEZgp4pDo624suZ/IoXL64Gt19//dWZKqtrjTdILivRw2UvcbL+7rvvlEAw2uYp4osTIhmz/hyojcQ36owZMyqPzqBBg9TgbXg6r169Coovaw9MZMUX73vw4IGaGNjH1ok2wWWhDz74APPnz4928dWpU6cQwUnPIO0lIvHFZSx6sLgkbmtfHFPoIeFLHZe0aEt8AeAStnWi15fL6/wXVjLGBwrUadOmKVHNid868SWDQpn5k6u7iK/ff/8d1apVU3ZET4+9RPtr1qyZ8tyMHj3a6efUkRumT5+uBD6fZevQCcP++JI9e/Zsu1n1798fn332mRLY9JgxcZyiB5uCki9fRgoKClJCiDZhLYSsM2Y53bp1U97/sASfcT3FIq/nC29YoS+cl5gf7cQQ9rzfKIcrDPSeSbIQEPHlJpZAo6SH5d69e8oVbi9xqYCDnbW3hw8iPUF8E+JDUb58eeUV4lunkTgIcnmMb8QTJkxQAywnLg4ChgfIWIIy7rFeMqDQoduYooUDPT0RHJx4jZH4kHNJjHEgHOz5BskBj29qtimiWCAO4HxzCyvxLY9v9HzLZn2YnPGAWefLZRp6GTlYWYs5Djb0HEyaNEkJM8ar2Iove/Wzlx8nT75JM26Pkxa9bezjsPrZOt/r168rAUKByKWRsBL7lCzIxkjOii9bG7AtKyIRYK+f+beIPF9cNqQwpT1SHDPxLZ/ig7wovvh8sP2MzWGiJ4f/zSUkxiwxRUV8MQ8ui3Dpk+UaibFLnJBZHuNywvN8UWgYdQmrnyKyIS5x81nlREt74eQaEXeKHdoIhRYnZ+tETzkndGPCpsCkh4dCwzpxOYljA8efsOKeDPHFdvJ553PO5S8j0ZPCCX/MmDHquYmq+AovvCKiMcKWv7HURy9PWGEJvIccOY7ZilPr/KIyfjGml88qhReXF43Ev+XMmRM9evQABZptYr35O+NGrcUUPZXDhg1TL6O2qyV8bjiG2WsLXypy5Mih5gGKoohCWWrVqgWORfR2sp/5j5wcSbRjvrgwvo1Lu5IsBER8uYElcHCleODbjO2bd3jVY8AsXbwUPHwz5wNFI6eHgIMtl6mMSYll8MHnYJk2bVp88cUXKsbDcEvTZU03+A8//KCWXzg48O2FbzMUdByUOIAxXolvSnzY6UrmQ8nEwXj//v3KO8dYEk64fMO095ZE0cRA9bASBwW6w+0lCgwGlpMV41coOpn45s7lxIiCho08+QbHZUXWkROsrceR5RiCznDhhzdxhpefMbByaYhc+NbLgZeTOetMz0pYyRAZ7C964pxJHFDLlCmj4qLsJdoCBY2x3EcbsPV8cLClIGLdbQPiI6oLJymKWi7p2CbakfUkz6UYem9ot0wsi7bNJSAKbYozesW4DMlEocY4GQo3YxIIrzzeQ0FAG7cNuOd9nPBYB1s7oBea3kSKEwqr8MQXhdumTZvCxcJnyjouz/Zia7szxHBE4osMyJL2QTuxTkYMDu2IzyoZ8/mkp906MUaIEz/72/rFzfoaa884bZd9wrg8I/G/+RzSK0m7sye+WA7FrL3EWDHrlz6OM7aJ9/OZX7lypdpo4miiDZEtbT28xP5mQH54Ii0q41dYZRtL72G1i8HzHJdtPWZ8OWF/clncdsykWKNg4thkmyicGRu4du3aMDcCWd9DkcZxip5nPj8UX+xj9ocxz1hf//LlS7VESZa0Qc4dXD2Q9B8BEV9uYA3cdccBmYOSESAZUbXoYeHDxTcJBmEaQdx0X/MNiL8ZQo6DIIMwObAWKlRIZU2BRqFEVzUfECZ7y44UXnyAKdSM3XRG0C7X+PlWxUme4ov1YNwU37iiKzE2gZMDJ1y+8dGzxrpNnDhRLatQLNoG4durCwceI2CVy5j0MNBbZy85Ir7Cy88QEvSocJmM/cENFBw4ucuRk4kRq2FbvrEcbS92g0tJtomTK2NBmCJ6mzXuDSvGj/lzuZRCkcLa2InlaN+G5yGw3a3FiZ+BxPR40SNIccVnwQjC57IkhZghDmlj7C/rl5WIPBJGve2JL3pzKNwZW2d4FjiB0JboEeLkHZH4cpSLo9c5Kr6YHz2efKGh99bajumlZt9x0wCX3fjM2wt+Jnt6KBjwzUnVXrIeH/i8cFKlMDXieOhFp9CmiGdf2BNfEbU9vN25xkYbegUppJ1JfC44LrJu4SXuAqVAD283pzPlOnIt7ZGilSEFHN9sN+RwEwPHeT6LjNWzTvRalSpVSu1sNLzG/J358GWCYwDnCtvETQX8O1dbIhon+Ezy2eeLNL2rnBO4CsMXV3rxOX5Ze9xZFl/iGWPHxGeHLyUUcJL+IyDiyw2sga5+vkVyackIjI2oWhxQObByoLDd+s63dO6moThi/A8HQU7u9PRYJw7EfGi4PMhkK744+fJtlB4SigbrNGfOHLXcabyJUXzxIeQEENFxGKyXvQHByJ/CKqyAV4pIDvxcQrU+HoKDEpdT7C292GPJAY+DCsUiBQ4HKi6rGsLF+h5HxFd4+ZERJw4ORtZeBXopuEWbb4+MlbCXuIzEycb2DZWcOaHYJmvPDAdVim3rQdn6etoOudkTX3yzpZeGfUpG9paPI7JR2h0HZ3seDNqjERjOfLhjkyKY4pl9wfLofTWWWo1jJYyt+ZwMGJBPGzRSeOXxGgoQerbCEl/0IFCE0O5pB2RDbxGX9ThJRSS+KNb48hNeYr2tl5vCu9YZ8WXsyKTA4qRIAcZ+5yTI540xQRQ2nMT50sKlQetkiC97HhTjOuvxge1kP/HFjV53euc4uVJEU8CEJb5oy/Z2FbMM2ltY4osvWBSFFN2cyG0FSkS2yGeFNmVvx5/1vdx0QGEXXnxSVMYv23qyHPKgh5gvZPa8jnx+WrVqpbzB9EDbJo6DHLsYCkLvML3rXGqmHdPrxZdl68RyKKBsl43DYsj20stMcWjtbeTLEG2AHmp67KwTd1GePn1avfTTHjneU9gbuyIj6i8dfhfx5Qa9zIGLkxHfYMI6k8m2mkZwaHjV5wNAccWBMHPmzCG7wqwnK+u3U1vxZbxVhVcGlz45QVF80SthnD8V3j0ReSicjeewbg9FLN9anUmGCOKSLXf02CZHxJf1PRHlZ1xLgcN+p1eH4sNe4qTJYFhOjnTdG4mDmbXXh5MTly5sxVdkz/miGGSgrG0grzNcI4rBss6LHhR6mTjIU6TSE8z/NpZajV1iFGNcAueyMz2tjJGy7n/+t7O7HY1nwIjZMs6KozCmcOZkZfwW3TFf1kycEV+8j95filFjsqVYYawiPVpsE/8/xZ+9FxRj2dF2Wcu6PrbjAzf/UAyxTyjQuexFjwi97mGJr/D4hRWjSBHBF00+L/Ss8YXQ2eTosiM3rlCg29tMYG1n4e1adnT84vNL4cLlUAqrsEQpBRU3UvAZsRfbyrgurpoYS8C8hi8SrCPL4CqHdaI45ksdXyrCi39zhDHHfYagsA5hJUOkcZWFLwmSLAREfLmJJdCIKRr4lhFWIDaXC7iOzvgUeqv4xsk3WIo2e4l/pwfJdiC0HkTCE1900XPA5kTMQcJe4psaB0PWnwNWRMHVzINvQHSlh5XokYvMWTsMyuYbubO7IMmcS4JcNmEMlm1yVnxFlJ91/hQcjJkIaxckB1D2EQWYPQ+SkZc9ceBswL2RF0UoD2nk0l9YZ3Q58tg4I76YH/uc3jB6QBhMzzdn402ZLyi0M3Kg+KInlrFO1p7KiMoL65BV4xmgoKXooweanl3aIT01XNJxRHyx3yMS/lzWdPQgT2fFFxmSCQUU7YqeCuMIA4MllwgZtG2EGhj96EzAveEppX1QTFEUcIcgBZ5xNpWrxBcFF0UJxwzGA0Z2txzt2Qj6pv3YS7QxxpvSW8uYr7CSK8Yv7vClnXGVgDFkYQkvtp+xVjwugi9C4SUKX4aw8IWb45nhWWZ9rROXX7kiEpEX0JFn3Dhrz9a7Znsv5wk+X7RNSRYCIr7cxBKMAMiwtv0ymJ4DGidUvrFwOYgPF+OGGG9knSiauCxFQcQljsiKLw5AXKawNwlzkGVgLT0PFHjOiK+oIKc3hMsCHLyst2rzwebkzMH5l19+sVsEl0/pqeNEZL1sQdc4Y5Bsz94xMglLfDmaH4UC36YZc2cdN2UsN/N4AbYrrETGfOPnwGUIDNtrXSW+OCBzeY3CnQLfkR2ZYdU7IjFkex9PweZhjrRregJpX9aJSx58w+ZkRKFjLJcb10RUXkTii/lQ8NCDwGVivngY5xo5Ir6iYtf27nVGfPF54ERu+xUFLldxmY5xmxw72Lf0hNiGIHDyZ1vD2+Vn6/kymHB5ls8CBbNx8KqrxJfhgY3MhhNrpvQAcXnONl6ML1vciMTlUnLiRgJ6huhFjK5Eu+VqAcMr2G/Wu8ZtyzQ8vhTRFJC2iWMIxRvHCHocjcTxnwKc/WLdFuNIC2cOPaVXjt5Sekdtvx7CsAZ67rgsz7mLYyjtwYgtNurDeEquSvD5liTiy61sgG9bDL7mGwQfTmvPD4UFB2Iat3EQJONLuJTIIHjrYHg+jHyz4d8pMjjgOiq+6EWjUODyobFrkG/qHJQ5WHOXJBPrSJFDLxcFGssyS3wZp55bn/DMOhm7fhgPxqUDe4kxMBwcbHe0GcHynEzsDYRhiS9H8zPiaXg9vShGoqilF9N2+cy27nTrM9iWMSvcuWi7XZsTK5ck6XmIyrIjRT3LoTClBye8XXmOPDwRiSHbPBhgz2Uy2j5t2HaJgsugFAC0N7aX3hbrFFF5jogvTmScgDnJUKQYZ+q5u/iiB4J15LNrxAJSsFNAMjbOiNk0zlyi0GB8GJNxyCrPwArvFHJb8WV4CrkkyBce652SrhBfjFtlP1N0uGKnHD1NjIGjB8k4T47H8jAmictvFPRcsuN4Gt4OZEdsP6xr6CWkfVMc8ZiUsHZ1G/cb53gxxpdjsW1i3CpFDRnxWBEjUUByruAqgPUOcI41HKud2S1KjxqXbXlAtfWOZ+NZoeCmfXHM4PjBPuOYZyQj+J72Yx2jGRWOMeFe8Xy5US9yoOcbKIMkubxCQ+abPuO76Gniuj6XC4yAdgbncx2dSzOMVeLAQQ8KHxYaPGOJmBwVX7yX3gfGuvDNjPcz3oWDNB9w/kZ3NgcEet6sT4o3S3yxPYwJYvuMz3PwbYqigxMmdwUau3c4wXC3nHFoLQUuY1QoSrnEyCUGLvdR0NgOGNZmEZb4cjQ/CmXGKHEyZPwNRRRFJI+4iMjrZdSDHju2g8sQnDiM7+ox1oZeInpGaR/sE+OkameXHSmoyZKDKQdb1ts6Gcck2HIN6xGKSAzZ3md4Wvl3TrwUYtbJ+pue1gdNGtdEVJ4j4ss4VJXL4sakwvzdSXxxfKD9Wx/JwvhM2hjtgi9qHDe4kYQeXQZjG4KML04MkqZgpxeIMYeM/+HYwQk+PNFhbze04Z3jBG99TElUxRfHQnpfOd7wBYV2z6B0I9Hbzi8P2GMRlj3S68NNHXz26CHkBh0uW/P55/PFxFAOjiWRPTcwoumEApeeKI6vLMs22R6zwxcMCmIuJ4YV68YXUYpqjiUUaBRYfFHnyzQ3V1gnI6SA4zdFs71kfNrI+lgU46gLLn8y6J+eLi7N8yWJc4Sxw9Y4JJhjEecE49NJFJy8Lrq+HBARd3f8XcSXm/UKvQ/04nAw4HIYBxyul9Oo6dGx3RbMiZAH7XHg5BIRr+UDZ33CsKPii/EifDvkxMZgWmNpgnlz4OXfWR/GFPBhtD6vx0zxxYmRO3v4BstJhJ4gChO60q0P/jOOv7A+J4nBuxwA+QbH9tJVT7HJASysLdfhxXw5mh89kqwfJ03+Nycr9im9bhHtDjVMlOKEHgC+cTLuhu5+7jDjcgpFne2Hjp0VXxFtOTd2Cdrjau8xikgM2buHLxJc+grr+At6X/m2z76znSAjKs8R8cU6cVLnhGx9cKU7iS96nPl82gZ2cyygB4L1ZlwZ28E22342hnbEZSSOMfRysj8pwCI6I8+e+DK8H7ZB/FEVXxF9CNo4qiQsFmEN6xRxFCYUIcaHtZkXBQWFJz0zjPWjdzysWNqoTBnMk0I5rGTbp8Zn5fiiZ28nNvPhOEAPHj3FfNlkrB+96sb3SK3LYsgGd3RSPPEFy16y95zQy0nPPT1aZE5WDAOgwLP+ZBD5Ulzy5YnzlxFDyReZiL5fGxWunniviC9P7DWpsxB4wwQ4qNp+CPsNV0mK15QABSCX3G0PmI0MDgoLChSKSXqhJAmB6CIg4iu6yEq+QiCGEmBsFpccjNPoY2gzpVkeQIBeHy4lcje29VEsHlB1qaLmBER8aW4A0nwh4CwBxvxxqcr2o8rO5iPXC4GoEmAIAl8EGAYR0bJ5VMuS+4WAKwmI+HIlTclLCAgBISAEhIAQEAIREBDxJSYiBISAEBACQkAICAETCYj4MhG2FCUEhIAQEAJCQAgIARFfYgNCQAgIASEgBISAEDCRgIgvE2FLUUJACAgBISAEhIAQEPElNiAEhIAQEAJCQAgIARMJiPgyEbYUJQSEgBAQAkJACAgBEV8m2cClS5fUp2X4ORv5vpVJ0KUYISAEhIAQcHsC/NA4PyvGj9rrcn6giC+TzJLfa+zdu7dJpUkxQkAICAEhIAQ8i8DUqVPVdyl1SCK+TOrltWvXqo+30riKFCliUqlSjBAQAkJACAgB9yZw+PBh5ZxYs2YN6tSp496VdVHtRHy5CGRE2fzxxx+oXLkytmzZoj7NIkkICAEhIASEgBAAdJwfRXyZZPk6GpdJaKUYISAEhIAQ8GACOs6PIr5MMlgdjcsktFKMEBACQkAIeDABHedHEV8mGayOxmUSWilGCAgBISAEPJiAjvOjiC+TDFZH4zIJrRQjBISAEBACHkxAx/lRxJdJBqujcZmEVooRAkJACAgBDyag4/wo4sskg9XRuExCK8UIASEgBISABxPQcX4U8WWSwepoXCahlWKEgBAQAkLAgwnoOD+K+DLJYHU0LpPQSjFCQAgIASHgwQR0nB9FfJlksDoal0lopRghIAQ8mEBwcDCm/nYGl+8+wci6+ZEsQWwPbo1UPTIEdJwfRXxFxlIicY+OxhUJTHKLEBACmhE4cuU+3pu9U7W6XdlsGFE3n2YEpLk6zo8ivkyyex2NyyS0UowQEAIeTOCHQ1fR+7sjqgVZU8THH/0re3BrpOqRIaDj/CjiKzKWEol7dDSuSGCSW4SAENCMwOdbz2HChr9DWv1Hv0rImjKBZhT0bq6O86OIL5NsXkfjMgmtFCMEhIAHE/D7+QQW7boY0gK/uvnQpmw2D26RVN1ZAjrOjyK+nLWSSF6vo3FFEpXcJgSEgEYEui47gPXHboS0uFKeVFjUtoRGBKSpOs6PIr5MsnsdjcsktFKMEBACHkyg4eztaHh9CjJ63cbAlx1xzzcVjoysgbixfDy4VVJ1ZwjoOD+K+HLGQqJwrY7GFQVccqsQEAKaEOg6fhbmvBiqWrspsBg+etkPi9uVQMXcqTQhIM3UcX4U8WWS3etoXCahlWKEgBDwUAJBQcEYOmIAPvH9MqQF9Z6PwdtlqqozvyTpQUDH+VHEl0m2raNxmYRWihECQsBDCdx5/BxLJ3RGL9/VIS3YElgYY5KMxuZ+lTy0VVJtZwnoOD+K+HLWSiJ5vY7GFUlUcpsQEAKaEDh+7QFOzG2Npr5/hGpxg+d+mNavEzKniK8JCb2bqeP8KOLLJJvX0bhMQivFCAEh4KEENv99E7GWNUB5n+OhWrAtsCAu1l6K1qWzemjLpNrOENBxfhTx5YyFROFaHY0rCrjkViEgBDQgsHzPZZRcVwM5vK8jyMsXAfFSIvZTy7ETn6SdisGd22lAQZqo4/wo4ssku9fRuExCK8UIASHgoQSmbjyFLjvLIq7XSzyNnxFxK/aC94Z+qjW7g/OjyLDtcuSEh/atM9XWcX4U8eWMhUThWjdFo0UAACAASURBVB2NKwq45FYhIAQ0IDDmu60Y/lc91dJHaUsiUYc1uDehAJIH3FJ/O1J1KQqXr6sBCb2bqOP8KOLLJJvX0bhMQivFCAEh4KEERn6+FKNufKxq/+StRkjQbD4OrJ6Ct4+OUn+7lLAIsvT9A/Dy8tAWSrUdIaDj/CjiyxHLcME1OhqXC7BJFkJACMRgAmM+nYjhT8arFgaW7Quf6iNw+/4jPJtSFJm8b1ta3vonILscOxGDzQA6zo8ivkyyaB2NyyS0UowQEAIeSuDTUb3QP3ihpfZ1pgHF26r/nP7pcPR8MkP99/N07yBOx03i/fLQPnak2jrOjyK+HLEMF1yjo3G5AJtkIQSEQAwl8DwgEEv8WuIj3/WWFrZYBeSqpv5zyoYTaPDn+8jqfdPyW8tVQE7Lb5JiHgEd50cRXybZsY7GZRJaKUYICAEPJHDl3lMcnfoe3vXZa6l9191A6rzqP/dfvIflX07ElNifW37L8DbQ4XfxfnlgPztSZR3nRxFfjliGC67R0bhcgE2yEAJCIIYSoMDyXVANRbzPWVo46AoQN7H6z4DAILwz5hesDOqjzgBTqdN2IF2hGEpD72bpOD+K+DLJ5nU0LpPQSjFCQAh4IIF1R6/jnVWlkNrrPp75JELc4VdDteLj5QeR5+R09PD90fL3Jl8D+SzHUkiKWQR0nB9FfJlkwzoal0lopRghIAQ8kMDCbafQdnMJVfN/E+VGsr77QrXi+/1XcOSHKRgXa4Hl77U/A0p85IEtlSpHREDH+VHEV0RW4aLfdTQuF6GTbISAEIiBBOas/g1djzZULbuTvjJSdnzl4XrV1lsPn2HIhEmYF3uy5S/l+wJVR8RAEtIkHedHEV8m2b2OxmUSWilGCAgBDyQwc/4CdL/SW9X8Xr7WSN5k5mut6Dl5AaY/slzzJF9TJGjypQe2VKocEQEd50cRXxFZhYt+19G4XIROshECQiAGEpg9dQw+fvCZRViVH4YEVfu/1sopq7aizzFLnNe9tOWQvPO6GEhCmqTj/Og24iswMBDDhg3DokWL8PDhQ9SoUQNz585F2rRp7Vrm/v370bNnTxw6dAjp0qVT97Ztazmgj+np06fo1asXVq9ejZcvX6Jhw4aYPn06EiVK9Fp+y5cvx4gRI3D27NlQv/H/d+vWDTt27EDSpEnVfw8aNChST4qOxhUpUHKTEBACWhCYP74r2r9Yptoa3GAevAo1fq3d87eeRpvNJeDjFYz7iXIhad/9WrDRrZE6zo9uI74M4UXxlTx5cnTt2hW+vr5K+Nim27dvI0+ePGjVqhW6dOmCTZs2oU+fPli3bp0SbUwtW7bE4cOHMX/+fLx48QLt2rVDiRIlsGyZ5WE30tq1a9G4cWNkyJAhlPjiPXnz5kXx4sUxcuRIlddHH32EadOmqf91NuloXM4ykuuFgBDQg0BwcDBWjGyIJt6/Wxrc7lcgc6nXGv/T4Wso9UMZpOGOSN8kiDvssh6ANGuljvOjW4iv58+fI2XKlJg1axY+/PBDZXYXL15EtmzZsHPnTpQpUyaUKY4fP16JKnqmvF59cJVer2vXrmHjxo24evUqsmTJgs2bN6NixYrq3q1bt6Jy5cq4cuWKElr+/v7Kc0axR5H15MmTUOKL3rCOHTvi5s2bSJAggcpj1KhR4N9PnTrl9KOho3E5DUluEAJCQAsCD/xf4vD4Kqjoc9TS3t4ngCQZX2v77vN3EX9RVRTyvmD5behNIFZcLRjp1Egd50e3EF979uxBqVKlcOHCBWTNmjXE5ii+OnfujIEDB4ayw1q1aiFNmjRKOBlp8eLFylv26NEjrFixQnm+KLDoPWMKCAhAvHjxsHTpUjRt2hSXLl1S3rBJkyZhzZo16u/Wy470qP3111/qg59GooCrVKkSbty4ocp3JuloXM7wkWuFgBDQh8CZm4+A2SWRy/saAuENn+G3AR/LWG2dzt9+jPMz6qCazyHLn3seAZL9N0foQyxmt1TH+dEtxBfjshiTxaW+WLFihVhZ2bJlUbRoUeURs06FChVC3bp1MW7cuJA/c+mRS45cklyyZAkmT56sPGHWiR6v3r17o1+/fqH+7ufn95r4qlevnooPs16mPHPmDHLnzo19+/ap5Uh7iR47/rNNXLZk2Vu2bFECTpIQEAJCQFcC20/fQrFlBZDA6zkexEqDJENP20Xx+HkAfh7TGB/4brb83m4jkLmkrthibLtFfL2hrqXXicuNDLq3TlWqVEH27Nkxb968UH/PmTOnun748OEhf9+2bZtaYuSyIj1iCxcuxLlzrz5b8eoq5kVvF+PLrJM98VWtWjW1dMnlTSNdvnxZ/W379u0oV66cXVrMi8uTYSURX2/IyKRYISAE3IbAT38ex3u/llX1uZ6kCNL13hpm3WaP7ICPvVZYfm+8GMhf323aIRVxDQERX67h6HQuq1atQqNGjdSuRGOZkJnQ80UPE3cpWqeCBQvivffew9ixY0P+bHi+7t27hwULFmDq1Kkq9ss60fNFrxc9UBGJL3rWkiRJojxiRjI8XwcPHlQeOXtJPF9Od7/cIASEgGYEvluzDk0PfKBafTXju8jYYXmYBCZ/MgR9n89WvwfVnADv0l00oxXzmyvi6w318d69e1GyZEnQs5QpU6aQWjDmi7FXAwYMCFWz2rVrq+MlrL1SjPniURAPHjzAypUrQ2K+fHx81L1GzBeXEZs0aRKh+GL8GAPrf//91W6cV0H7XDJkEH7q1KmdoqWjcTkFSC4WAkJAGwLLFs9FiwuWY3uu5e+EDI0nhdn2iTOmYeC9kep3/xLdEa/2fy/d2gCL4Q3VcX50i5gv7nZMlSoV5syZo0QTk7HbcdeuXShdunQo0+NuRy4rnj59OmS3Y5s2bXD9+nX8+uuvKtaLIo5LkcbyIDu3atWqSuDRA2ad7C07clcjhR/zjB8/vrqc133zzTey2zGGDwTSPCEgBKKXwPKZw/DBXcuJ9ncqjkfKyh+HWeCkRd9jwEXL8T73czVE0havvvUYvVWU3E0kIOLLRNi2RfHwUsZq8R+9SvQ8xY4dWwkoBuJzOZHnf/Fv9DzxnC/uWuRBqr/99hv69u2LDRs2KIHF1KxZM3UAK5cgeaYMj6KgiGMwvm2yJ764UzJfvnwoXLiwWt48duwYOnTogJkzZ6q4MWeTjsblLCO5XggIAT0IrJrYDg39V6nGPmu8HHHzvxtmw6f9uAO9Dlt+/zdNGSTrskEPSBq1Usf50S08X7QxLgvySAkuHzL2izsXZ8+erYSYvY7ZvXs3evTogaNHjyJz5szqINQWLVqEmOvjx4/RvXt3dcI948gaNGigYscML5a1XdsTX/ydy470fv3555/KM0ehx8NcI5N0NK7IcJJ7hIAQiPkENo5+FzWCXh2g3XknkLZAmI2et+0s2vz+Dny9gvAgYXYk6ffq2ImYj0mbFuo4P7qN+IrpVqajccX0PpX2CQEh4DyBwKBgHPYrgbe9Xx0vMfASEC9pmBn9fOQfvLO6LNJ53cNzn4SIMzz0EULO10DucDcCOs6PIr5MskIdjcsktFKMEBACHkTg5sNnCJycF+m97sHfKz7ijfgHePWlEnvN4Cn3cRdVQxHv85afh1wHYlvicCXFDAI6zo8ivkyyXR2NyyS0UowQEAIeRODo5dvIPz+X+lj29TjZkG7w4XBrf+HOE5yZXhc1fA5YrutxCEie3YNaLFWNiICO86OIr4iswkW/62hcLkIn2QgBIRCDCGzbewAV1ldRLTqftDSy9/ol3NY9eR6A1WOaopXvb5br2m4AsoT+3m8MwqNlU3ScH0V8mWTqOhqXSWilGCEgBDyIwK/rV6Pm3raqxqcyNkKeDv99RSSsZswY2RE9vL6z/NxoAVCgoQe1WKoaEQEd50cRXxFZhYt+19G4XIROshECQiAGEVi3dDrePTtCtehMgV7I1Sjsz7EZzZ40YRgGPLOcCxZUYxy8y3SLQUSkKTrOjyK+TLJ7HY3LJLRSjBAQAh5EYP2c/qh960tV40sVpiJLlYjPTZwwYyYG3bN8k9e/eFfEq/OJB7VYqhoRAR3nRxFfEVmFi37X0bhchE6yEQJCIAYR+P3TFqj6ZK1q0d3GPyBFfkv8V3hp4qKVGHixvbrkQc76SNJycUS3yO8eREDH+VHEl0kGqqNxmYRWihECQsCDCOwZWxUlA/arGgd0OwzflNkirP20n3ah16Fa6rp/U5dEsq4bI7xHLvAcAjrOjyK+TLJPHY3LJLRSjBAQAh5E4LRfQeTGZQTBC97DbgG+sSOsPU+5b/17CcT2CsTDBNmQuH/4x1NEmKFc4FYEdJwfRXyZZII6GpdJaKUYISAEPISA/4tAvByXEYm9nuKudwqkGPHq4NQI6s9T7outLo+MXnfwwicBYg//x0NaLNV0hICO86OIL0cswwXX6GhcLsAmWQgBIRCDCFy6dh1ZvnpLtehcnLzIMXi3Q63bc/4uYi2qgWLeZy3XD74KxEnk0L1ykfsT0HF+FPFlkl3qaFwmoZVihIAQ8BACRw/sQqE1ltitY0mroGCvHxyq+cU7T/DX9PdQy2ef5fpuB4CUOR26Vy5yfwI6zo8ivkyySx2NyyS0UowQEAIeQuDPX5aj9O4uqrYHM7ZCsQ6zHKr50xcB+H50c7TxfRVo/+FaIFt5h+6Vi9yfgI7zo4gvk+xSR+MyCa0UIwSEgIcQ2P7NRJQ/Nd4ivvIPRrHGgxyu+bSRndHL6xvL9Q3mAYUaO3yvXOjeBHScH0V8mWSTOhqXSWilGCEgBDyEwI7Pu6PcjSWqticqzEX+Kh84XPOJE0Zg4LPp6vqgamPgXa6Hw/fKhe5NQMf5UcSXSTapo3GZhFaKEQJCwEMI7J3cECUeWT6QfanRL8hSoLTDNR8/YzaG3Buirvd/uxPi1Z3k8L1yoXsT0HF+FPFlkk3qaFwmoZVihIAQ8BACJ8eVRb6Xx1VtH3Y7hcQp0zpc8wmLV2HQBcuniB7kqIckrb52+F650L0J6Dg/ivgyySZ1NC6T0EoxQkAIeAiB66NyIl3wbfgHx0bckTfh5e3tcM2n/rwbvQ/WVNffT/UOkn5s8aBJ8nwCOs6PIr5MslsdjcsktFKMEBACHkAgODAAgaNTwdcrCJe8MiDLyJNO1XretnNo9XtJxPF6iUfxMyPRgGNO3S8Xuy8BHedHEV8m2aOOxmUSWilGCAgBDyBw/8YlJP28kKrpkdjFUHjIFqdqvebIPyi8qgIye9/GS++4iDX8BuDl5VQecrF7EtBxfhTxZZIt6mhcJqGVYoSAEPAAAhcPbUHWn+qrmv6ZpDZK9351bISDdd974R68FtbEO96nLXcMugzETeLg3XKZOxPQcX4U8WWSRepoXCahlWKEgBDwAAInNi5E/l29VE23pu+Aih0nO1VrnnJ/fPr7qOOzx3Lfx3uBVHmcykMudk8COs6PIr5MskUdjcsktFKMEBACHkDg8LejUOTvKRbxlXcUKja1CDFHE0+5/3Z0C7Tz/cVyS+ufgOyVHL1drnNjAjrOjyK+TDJIHY3LJLRSjBAQAh5A4PAXH6HI9e9VTXeVW4gy1Ro4Xespfl3RB8ss973/BVC4mdN5yA3uR0DH+VHEl0l2qKNxmYRWihECQsADCJyc8i7yPdyhanq0wRYUKlTM6Vp/MmEkBj+bpu4LqjoK3uWd8545XaDcYAoBHedHEV+mmBago3GZhFaKEQJCwAMIXB5fDJlfnFM1vdL1AjKlTu50rcfNnIuhdy3fg3xarCPi1/vU6TzkBvcjoOP8KOLLJDvU0bhMQivFCAEh4AEEHo7KiMTBj3A7ODESDbuIuLF8nK71J0t+xODzH6r7HmR/F0laL3c6D7nB/QjoOD+K+DLJDnU0LpPQSjFCQAi4O4GX/sA4y6eETiIb8vkdjlSNp/y8D30OVlP33k/5NpJ22xypfOQm9yKg4/wo4sskG9TRuExCK8UIASHg5gRe3D6P2LOLqlru9i2BUsM2RarG87efR/PfSiG+13M8jpcBCQc6d0p+pAqVm6KdgI7zo4ivaDcrSwE6GpdJaKUYISAE3JzAreObkXrl+6qWWxK+i8r9IrdcuPboP8i/shKyed9EgFds+I64Jafcu3nfO1I9HedHh8TX+PHjHeH32jVDhgyJ1H0x8SYdjSsm9qO0SQgIAecJnN+yBNm3dlc3bkrdDtW7TnU+EwA85T54YS2U9P7bcv+AC0B85wP3I1W43BRtBHScHx0SX97e3siYMSN8fBwLkAwMDMS1a9fA/5Ukni+xASEgBPQmcHLVJ8h3bIJFfOUchuot+0cKyKW7T3BkWkPU8/nTcn+XP4E0+SKVl9zkPgREfIXRFxRfN27cQOrUqR3qLV6bPn16BAUFOXS9DhfpaFw69Ku0UQgIgYgJHF3QDYUuf60u3Fp8DirWaRHxTXau8H8RiGWjW6CD7wbLr61+AHJUiVRecpP7ENBxfnTI8zVx4kT06NED8eLFc6i3nj59ipkzZ2LgwIEOXa/DRToalw79Km0UAkIgYgLHZzRCgXuWIPu9/1uDEqUqRHxTGFd85vcx+mGp5df6c4EiH0Q6L7nRPQjoOD86JL7M6B4uUQ4bNgyLFi3Cw4cPUaNGDcydOxdp01q2J9um/fv3o2fPnjh06BDSpUun7m3btm3IZRSAvXr1wurVq/Hy5Us0bNgQ06dPR6JEiUKuWbZsGUaPHo3Lly+jYMGCmDFjBkqVKhXy+8GDB9GnTx8cOHAASZMmRfPmzTFmzBjEiRPHaSQ6GpfTkOQGISAEYiSBMxMrIJf/EdW2Mx8eQa5sWSPdzvETR2OIv+Wj3EFVRsC7Qt9I5yU3ugcBHedHl4mvmzdvqqXGyMZ5GcKL4it58uTo2rUrfH19sWOH5XMU1un27dvIkycPWrVqhS5dumDTpk1KJK1bt06JNqaWLVvi8OHDmD9/Pl68eIF27dqhRIkSoOBi4j1169ZVHrpy5cphypQpWLlyJU6fPo1UqVLh3r17qoz3338f/fv3x4ULF9C6dWuV72effea0xepoXE5DkhuEgBCIkQSuj8mLdIH/4HmwL/wH/IOkCZx/gTXAjJ31BYbdGaD+r3+R9ohX3/KxbkmeS0DH+dFl4uvJkydKlIwcOdJpC3j+/DlSpkyJWbNm4cMPLacXX7x4EdmyZcPOnTtRpkyZUHly9yVF1dmzZ+Hl5aV+o9eLQf4bN27E1atXkSVLFmzevBkVK1ZUv2/duhWVK1fGlStXkCFDBiXS+L8LFy5UvzM+LVeuXGjfvj24S3Pt2rVKnNELZ3jLBgwYgA0bNuDYsWNOt1FH43IaktwgBIRAzCMQHIxno1IjLl7ganAqZPA7EzJuR6ax45eswZDzLdWtD7LWQpI230YmG7nHjQjoOD+6THxFpR/37NmjlvvoXcqa9T93NMVX586dX4sdq1WrFtKkSaOWKI20ePFi5S179OgRVqxYoTxU/v7+ynvGFBAQoGLWli5disaNGyNx4sRK7LVp0yYkDwo4bhagwDLqxHg3etWuX78Ollu6dGl89dVXTjdXR+NyGpLcIASEQIwjEOz/L7wmWsb1o955UWjE7ii1cfLa/ei7v6pFfKUogiTdt0YpP7n5zRPQcX50Wnz9888/4fYUlx6dTYzLYkwWlwdjxYoVcnvZsmVRtGhRJZKsU6FChZRXaty4cSF/5jIivVlcklyyZAkmT56sPGHWiZ6u3r17qyXIFClSKC9Z9erVQy4ZOnQofvrpJxw/flz9jUuhkyZNUl4xLqdWqFABv/76K+LGjRtmE+mx4z/bxCVQlr1lyxZUqlTJWURyvRAQAkLAIwncv3gESRdZAuz/jFsepQetjVI7Fuy4gMabSiORlz+exE2HBINenfkVpVzl5jdJQMSXA/R57ISx1Gfv8sjEfNEbxeVG23urVKmC7NmzY968eaGKypkzp7p++PDhIX/ftm2bWmLksiI9YlxOPHfuXKj7mBeFF71dmTJlAu8pX758yDUMvqdw43ImA/Z5HZccGVfGfBngz6VLetnCSn5+fhg1alSYv4v4csDI5BIhIARiDIGLe9cg63rLMuEfyRqiUs8FUWobT7nPu7IKcnhfR6CXL3xG3JFT7qNE9M3fLOLLgT5g7JR14k7CM2fOqIB1/qNHytm0atUqNGrUSO1KNJYJmQc9X8WLF1e7FK0Tdya+9957GDt2bMifDc8XA+UXLFiAqVOnqtgv60TPV79+/VTgPGPMeE+1apaPtDLR88VYryNHjigB9f3336v4LgpOJsaQVa1aVf1O75u9JJ4vZ3tfrhcCQiAmEzi5YS7y7RlkGUMzdUOV9v+tWESm3fsu3kPA/HdR2ufVdx37nwcSpIhMVnKPmxAQ8RWFjvjll19Ar8/u3c6v5+/duxclS5ZURz7QI2UkxnzR68RAd+tUu3ZtdbwEg+6NRG9Ut27d8ODBA7Vr0Yj5Mk7lN2K+uNuRMV/0aPEoC+6YNBJjvrhrc/369Xj33XeRLFkyFSNmJG4qSJgwoTq+grsgnUk6GpczfORaISAEYiaBw8uHo8jpGapxWwuMQ8VG3aLU0Mt3n+LgtIao77PLkk/nnUDaAlHKU25+swR0nB+djvkKq4vOnz+P/PnzqyB3ZxN3O/J4hzlz5ijRxGTsdty1a5cKcrdO3O3IZUUeC2EsgXKJkEHxjMlirJexrMhjJJjYufRaUeAZux0zZ84csqRp7Hbs0KEDBg8ejE6dOikhSS+XkYwgfHrDChRw7mHX0bictQO5XggIgZhH4PDnHVDkxgrVsD0VFqNklfpRauSzl4FYPKoVOvmus+TTYhWQ678VjChlLje/EQI6zo9Oiy97Afc8joGCiAefnjz5yhXsZBcOGjRIxWrxHz9jxJ2LsWPHVnFZDMTnciLP/+Lf6J3iGVxNmzZVB6n+9ttv6Nu3r9qlSIHF1KxZM3UAK5cgg4OD1VEUFHGM6WKip45LpNOmTQNjy7hkSo/WqVOn1JIkA+R5LljHjh1VrBcFHeuUI0cOrFmzxsnWWcQf48Uk5stpdHKDEBACHkzg+OQ6KPBou2rBiYabkb/g21FuzSS/7hgAy1iOerOAYv+tYEQ5c8nAdAI6zo9Oiy97AfcUN1yO4xJdvXr1ItVxXBbk54i4fMjYL+5cnD17thJi9jqGXil+8ujo0aOgB4vni7Vo8d/3wh4/fozu3bsrQcU4sgYNGqjYsfjx44fUj94znlhPjxl3VfKEe8aYGWn79u0qDoxCjEuQ9evXVyIzQYIETrdRR+NyGpLcIASEQIwjcG58SeR4YdmReOPjc0ibKmWU2zh24lgM8/9U5RNUaSi8K4UOTYlyAZKBqQR0nB+dFl+2Afdc9qM3istwFGCS7BPQ0bjEFoSAEBACt0dlR6rgu3gUHA/xRvwDXx/LBqaopNGzv8KI2/1UFk8Lt0H890NvyopK3nKv+QR0nB+dFl/md0vMKFFH44oZPSetEAJCINIEggIRMDolfBGEC8iAbH6RC0uxLX/c1+sw9Jzlg9oPs9RA4raWmDJJnklAx/nRZeKLOwF5sOmIESM8s/ejudY6Glc0I5XshYAQcHMCT+9dRfwZ+VUtj8QqjMJDt7mkxp+tPYx++y2fjnuYvCAS93j9G8AuKUgyMYWAjvOjy8QXg+B5/AN3DUp6nYCOxiV2IASEgN4Erp7YhYwraikIfyasjtL9VroECE+5b7ipDJJ4PcXTuKkRf9AZl+QrmbwZAjrOjy4TX2+myzynVB2Ny3N6R2oqBIRAdBD464/vkPePjirrbWlaokKX2S4pZt3R68i5shryeF9FELzhPfw24GP5jq8kzyOg4/wo4sskO9XRuExCK8UIASHgpgQOrZ6MokdHW8RXzv6o0HKYS2q6/+I9PJ5fH5V8Xp3D2PsEkCSjS/KWTMwnoOP86LT4evbsGb788kv12R3jW4w8aoIHpfKcLx58Kul1Ajoal9iBEBACehPYt7Av3rlk+Tbv7uLTUKpOW5cA4Sn3O6Z+gA98t1jya/crkLmUS/KWTMwnoOP86LT4at++Pb755ht1AOmOHTtQoUIF9QFrfkeRB51OmjTJ/J7zgBJ1NC4P6BapohAQAtFI4OCMFih2b60q4WjNlShUurpLSuMp97P9OqJvrFcxZA3nAwUbuSRvycR8AjrOj06LLx56ysNP+X3E3Llzq9Pec+bMiebNm6uT4fmJIEni+RIbEAJCQAgcn1gNBfz3KRAXW+9F1ux5XAZluN9gjMGr+ab6aKBsT5flLRmZS0DElwO848SJgzNnzqhT5flx6UaNGqmT5fkpH/5/fpNRkogvsQEhIASEwMUxhZE10DInPBlwAwnix3MZlMGfzcQnjy0xZAHFO8K3juXEe0meR0DElwN9ljVrVrXsyO8kDhhg+aQDlxr5Ye2CBQuC531JEvElNiAEhIAQuO+XEUnxCHeRBCn8LrsUyPD5P2DMlTYqz8fZaiLhh9+7NH/JzDwCIr4cYN2nTx+sX79efQD7wYMHaN26tQrA//HHH3HgwAH1rUVJIr7EBoSAENCbQMDzp/D9JJ2CcMY7O3KNOORSIJPWHMKAA5VUng+TFUDinjtdmr9kZh4BEV8OsOauxn79+inP1wcffIAOHTooIZYoUSJ8//33qF7dNQGVDlTFoy7R0bg8qoOkskJACLiUwO3Lp5BqQQmV56G4JVF00EaX5v/17kt4d0MZJPd6DP/YyRFvyAWX5i+ZmUdAx/nRoYB7erP44Wxvb/sfRH38+DHixo0LX1/LIXc8guLEiRMoVKiQeb3n5iXpaFxu3iVSPSEgBKKRwOl9m5B7nWUH4u5kdVGq51KXlrb19G2kXFoV+b0vWfIddgvwjePSMiQzcwjoOD86JL58fHxw48YNpEqVyqGe4KeG0qdPH3IOmEM3xfCLdDSuGN6l0jwhIATCIXB4wwIUhEvOlgAAIABJREFU2dNbXbEr00co0/4zl/K6eOcJzkyvg+o+By359jgEJM/u0jIkM3MI6Dg/OiS+6PHijsZ48RzbqeLv74/ly5eL+LKyWx2Ny5zHVkoRAkLAHQnsXT4GJU5bBNfuAiNRqlEfl1bzRUAQvhvVBK18Nlny/XAtkK28S8uQzMwhoOP86JD4qlSpEry8vJzuhS1bXp0+7PSdMe8GHY0r5vWitEgICAFHCez+oitKXV+mLj9c/ksUqdrU0Vsdvm7u2I/RJcCynBlc/3N4FWnu8L1yofsQ0HF+dEh8uU8XeW5NdDQuz+0tqbkQEAJRJbB/SkMUf/ibyuZsgw3IWahMVLN87f5Z08aj2/2J6u+Pyw5GwuqDXF6GZBj9BHScH0V8Rb9dqRJ0NC6T0EoxQkAIuCGBk+PLId+LY6pmd7ueRIrUGVxeyy+WLEGn891VvrfytEDq5vKFFZdDNiFDHedHEV8mGJaIL5MgSzFCQAi4DYEro/IiU/A/eBHsA98Rt+Ht4+Pyui1ZvxWt99ZT+V5PXRHpuv7s8jIkw+gnIOIr+hlrW4KOxqVtZ0vDhYDmBIKDguA/Ki3iez3Hda9USDfybLQQWXvoImr/WATeXsG4HT8XUg3YHy3lSKbRS0DH+VE8X9FrUyG562hcJqGVYoSAEHAzAg/+vYsk0y3HPpyKlRd5hu6OlhoevXofab8qjNRe9/HUOxHij7gaLeVIptFLQMf50WHx9fLlS+zZswf//vsvypUrh2TJkoXqDZ58v2rVKnXqvaTXCehoXGIHQkAI6Eng/F8HkP27KqrxBxNWRLF+0bMceP/pC1ycUApFvM9ZQA++BsRJqCd0D261jvOjQ+LrypUrqFWrFk6ePKm6N0GCBOpj2l26dAnpbjlYNXzL19G4PHgskKoLASEQBQJHtv6AwlssH73em7oJSnT9Kgq5hX1rcHAwNo2qiRrYY7no471AqjzRUpZkGn0EdJwfHRJfTZo0wb1797B48WJFf8KECZgzZw6GDBmCMWPGqL+J+BLxFX2PpuQsBISAJxHY88MslDwy1CK+cvZEiZajo636P37SGvWf/6Tyf95sJeK8Jd8XjjbY0ZSxiK8wwKZOnRqbNm1C4cKFQ66YO3cuPv74Y3z66afo27eviK8IjFJH44qm51SyFQJCwM0J7Fw4GGUvWY59OFR8IorW6RxtNV45axAa3Zmr8r9R6VOkrdQx2sqSjKOHgI7zo0OeL4ovwsmXL18o8uPGjcOIESOwaNEi1KhRQ77nGI5d6mhc0fOYSq5CQAi4O4FdM9uizN3Vqpqnai5DntJ1oq3KPyydhffPWrxs5/J1Q44m46KtLMk4egjoOD86JL4aNGigPi/09ddfI378+KHod+7cGQsWLMCwYcMwatQo+Z5jGLapo3FFz2MquQoBIeDuBA5MrI23/Xeqal5vtR3pchSKtir/8svP+N/uVhahl74+8nS0hMdI8hwCOs6PDomvc+fOKc/W1atXsX79elStWjWkVxnwyOXHzz//XAm0wMBAz+lxE2uqo3GZiFeKEgJCwI0I/D2mBN4KPKVq9KL/ZcROkCTaarf3yHGU+KGsyv9coneQo6/lk0aSPIeAjvOjQ+KLXfj06VNs3LgRJUqUUMuLtomibNmyZeqfpNcJ6GhcYgdCQAjoSeCGX3akxV08Rjwk9LsRrRAu336EdLOyIJZXIP7xzYT0w45Ha3mSuesJ6Dg/Oiy+7t69i3jx4r227Oj6boiZOepoXDGzJ6VVQkAIhEfg2YuX8B2XGr5eQbjinRGZRpyIVmAvA4Nwa3QuZPC6A3/ERbyRNwAvr2gtUzJ3LQEd50eHxVf9+vXRokUL+Pr6qsD7PHnkLBVnzE9H43KGj1wrBIRAzCBw9colZJxvifH6K25R5B30R7Q37OjokigU9LcqJ6j/RXgnCH0IeLRXQAqIEgEd50eHxNd3332HY8eO4eeff1ZxXdzdWLRo0SjB1u1mHY1Ltz6W9goBIQAc27cVBddZPnZ9KFlNFO35fbRj+XPieyjtbxF5d1puRsqcb0d7mVKA6wjoOD86JL64o5GfFfrll1/QuHFjdbp98uTJXUdeg5x0NC4NulWaKASEgA2B3b8sQ6ndXdVfD2T8EG93mBHtjLbO7oKKt5erck5VmYc8FRpHe5lSgOsI6Dg/OiS+iLht27YoU6YMzp8/jypVqqB6ddeeIsxdkjyugl61hw8fqt2VPMg1bdq0dnt4//796NmzJw4dOoR06dKpe1lHI3GDQK9evbB69Wrwu5QNGzbE9OnTkShRopBruDlg9OjRuHz5MgoWLIgZM2agVKlSIb9zdyfz+PXXX1W8W6NGjfDZZ59FKu5NR+Ny3aMpOQkBIeApBLZ/MxHlT41X1T2UfxCKNh4c7VXfvnQcyp+dZBF8BYfj7Yb9or1MKcB1BHScHx0WX7/99hsKFCgQphiKajcYwovii161rl27qviyHTt2vJb17du3VcxZq1at1Pclefp+nz59sG7dOiXamFq2bInDhw9j/vz5ePHiBdq1a6d2ahq7MXlP3bp1MXPmTPWh8ClTpmDlypU4ffo0UqVKBX4ovEiRIkiTJo0SZdxw0Lp1azD2jfc4m3Q0LmcZyfVCQAh4PoGtX/RGxesLVEP+Kj8Teau2jvZGHfjla7y9u5sqZ0+GNij50fRoL1MKcB0BHedHh8XXkSNHkClTpmhZbqTQSZkyJWbNmoUPP/xQ9ejFixeRLVs27Ny5U3ncrNP48eOVqDp79qyKQWOi1+vatWvqOAx6rLJkyYLNmzejYsWK6vetW7eicuXK4EfCM2TIoEQa/3fhwoXq96CgIOTKlQvt27dX36zkwbEUdBcuXECyZJbgTf6N37Sk183ZpKNxOctIrhcCQsDzCeyc0hxlH65XDbny/k/IVLhStDfq7OHtyPmj5RT9vYlroESfFdFephTgOgI6zo8Oiy96mWrWrKk8QCVLlgy1PBfVLtizZ4/Kj0Ina9asIdlRfDHebODAgaGKqFWrlvJI0UtmJH70m96yR48eYcWKFcrz5e/vr7xnTAEBAWrpcOnSpSpuLXHixErstWnTJiQPCrgbN25gw4YNaNq0qRJkzMsVSUfjcgU3yUMICAHPInBgfFW8/cLygvqoyyEkSpM92hvw8M4/SDwrryrnWKxCKDh0e7SXKQW4joCO86ND4mvixIm4dOkS1qxZo5YeGYtlLZKi2gWMy2JMFpcHY8WKFZJd2bJl1a5KiiTrVKhQIbVkyG9LGonLiPRmcUlyyZIlmDx5svKEWSd6unr37q2WIFOkSKG8ZNaxa0OHDsVPP/2E48ePo1ixYiq2jTFiFHZM/MzS2LFjETduXKebrKNxOQ1JbhACQsDjCZwZVQi5gi+pdgQPuwUv3zjR36bgYDwflQpx8BJXkBaZ/Cyn60vyDAI6zo8Oia8JEyaoZUDGVFF8MeYpZ86cLutVeqO43Gj7aSKKn+zZs2PevHmhymLZvH748OEhf9+2bZtaYuSyIj1iXE7kZ5GsE/Oi8KK3i0uovKd8+fIhlzD4nsKNy5ksg16+OnXqqMB+Crlu3bopQWaIMXsAyIn/bBPjzyj8tmzZgkqVot8N77LOkYyEgBAQAg4SCAoKxv1RmZDc6xH+9UqCZCMvO3hn1C+7PvotpAu6jufBvng5+DoSxo0d9UwlB1MIiPgKBzN3+jHY/MmTJyhevDjeftt156isWrVK7STkrkRjmZBVoeeLZXGXonXizsT33ntPeaGMZHi+7t27p2Kzpk6dqmK/rBM9X/369VOB84wx4z3VqlULuYSer7Vr14LxbXnz5lWeOAbg+/j4qGu4BNmkSRPcuXNHec7sJT8/P/WB8bCSiC9TnmUpRAgIgTdA4Na/D5B6emZV8sVYOZB16EHTanF6YkXk9j+syjvd6iBy58hhWtlSUNQIiPgKh99ff/2ldjoawedRQx367r1796o4Mh75QI+UkRjzxd2MAwYMCHVD7dq11fESDLo3Er1R9Ew9ePBA7Vo0Yr4M4WTEfHG3I2O+uJzI5VPGshmJMV83b95UHw/ncmScOHGUGDMSGfB0fwbchyU+xfPlSsuQvISAEPAkAn/9dQx5vyunqnwyQSnk6/+radU/PqsZCtzZoMr7s+pKlC7v2uOQTGuIhgWJ+HKi0xkkTzHCWC0u9eXOnTuU18qJrNSxDjzegTsJKZqYjN2Ou3btQunSpUNlx92OXFakV8rY7cilxOvXr6szubhEaCwr8hgJJnZu1apVlcAzdjtmzpw5ZEnT2O3YoUMHDB48WJ3/9dVXX6lzzYw4NHq+mjdvrgRaWJ6vsNqto3E5YwNyrRAQAp5PYM/W9Si5pblqyJHU76Fw1yWmNerE1/2Q/9xXqrxNBSejesMOppUtBUWNgI7zo0MxX9ZY6Vmi4OIxDhQ+Z86cUTFRjJPiMl7GjBkj1QuDBg1SsVr8lzp1arVzMXbs2Coui8t/XE7k+V/8G8UPz/nijkQegsozyPr27at2KVJgMTVr1kwdwMolyODgYHUUBUUcY7qYeFo/g/anTZum4rh4zhcD/0+dOqWWJG/duqXi27gsOWLECLWEyWMomD/zdDbpaFzOMpLrhYAQ8GwCW3/4EhWP9LeIrxydUbjVRNMadG79DOTYa4kDXpehF979KOzwD9MqJQU5REDH+dFp8cWjH+jxWr58Od566y0VH0URRrHDZcJvv/3WIdi2F3FZkEdKcPmQsV/cuTh79mwlxOx1zO7du9GjRw8cPXoU9GCNHDlSffjbSI8fP0b37t2VoGIcGXcqMnYsfvz4IdfQezZmzBjlMeOuSh6myhgzI/39999K3FEAJkyYUHnlPvnkE7Uc6WzS0bicZSTXCwEh4NkEfl/kh6oXp6pGnHh7NPLX7Wlag24fXINUP1tWTtYnaozafUNv1DKtIlKQ0wR0nB+dFl9czmOAPE+LZ9wUxRd3Ee7btw+MxeJRD5JeJ6CjcYkdCAEhoBeBzTM6oco9ywv4hRoLkK1MQ9MABPxzDL5fWsJMNvuWQ5Vh60wrWwqKGgEd50enxVeCBAmU4OJRDNbii2dj8aBUepwkifgSGxACQkA/Ajs+qYtyz7ephj/6cDMSZXPdrvgIafrfByZmUZcdCMqNIn574eNt+QKKJPcmIOLLgf7hcmDhwoXx6aefKvFlLPvx3C3GYjHuS5KIL7EBISAE9CPwt18RvIULloYPvgbESWgehOBg+I9Oh3jB/rgWnALofQIZksYzr3wpKdIERHw5gI5ii4eE0vPFg0MpxhgD9u+//6rAd54ML0nEl9iAEBACehF45P8C3hMyIoHXc9zxToGUI86bDuDWJ4WR+vlFBAR7Y1/LUyidK7XpdZACnScg4stBZtz5xzOyuPzI3Yf58+dXZ2zxe4uS7BPQ0bjEFoSAENCHwN+n/sZb35RUDT4dvyhyD/jD9MZfmV4Tmf7drcr9ucom1KtQwvQ6SIHOE9BxfnQ65st5rHIHCehoXNLzQkAI6ENgz+8/oOT2NqrBh9M0QJEuC01v/JVF7ZHp4kpV7rIC89CiUWPT6yAFOk9Ax/nRIfHF7yE6miJzBpajeXvydToalyf3l9RdCAgB5whsXfYJKp6ZYBFf+QeiSOMhzmXggqtvrfFD6gOWoy4WpBuJdp36uCBXySK6Ceg4PzokvvipHSPx49cExVPiGd/FZUceZnrp0iV1ltZ3330X3f3kkfnraFwe2VFSaSEgBCJFYMfMDih3d4W693S1BchdzrxjJowK++9ZhHgbLGeLLUjQAe36T45UW+QmcwnoOD86JL6su6F37964f/8+vvzyy5DP7vAEecZ88aPbPKFe0usEdDQusQMhIAT0IXDok2oo+nyfavDd9nuQItNb5jf+3Gbg6/dVuctQGy38vjG/DlKi0wR0nB+dFl9JkiQBP4TNz/tYJ35nkZ4wOefLvt3paFxOP4FygxAQAh5L4KpfbmTETbwI9kWsETfh5eNrfltunwZmv6PK3RD4DsoO3YDEcWOZXw8p0SkCOs6PTouv9OnTq8/+vP++5e3CSEuXLsXQoUPV8qOk1wnoaFxiB0JACOhB4Jn/U8SakB4+XsG45J0JWUYcfzMNf/EEGJ9elX0kKDt8O/+B/OmTvJm6SKkOE9BxfnRafPEbijNnzkT//v3V9xC55Pjnn3+qD1SPHj1afQtRkogvsQEhIAT0IXDxr/3I+l1V1eDDCcqiSP/1b6zx/mMyIV7gQ9wOToL9jfagVsF0b6wuUrBjBER8OcCJYmvs2LGYM2eOOtGeicH3FGP80LUk+wR0NC6xBSEgBPQgcHjj1yiyq5tq7J/pWqF0p1lvrOH3J7+DpI9Oq/K/qrgbH1XO+8bqIgU7RkDH+dFpz5c1yjt37sDLywspUqRwjLDGV+loXBp3tzRdCGhFYO/Xw1Di3EzV5t0FR6NUQ8uOwzeR/v2qPpJd26KKnpTnOwxo/r83UQ0p0wkCOs6PTouv5cuXh4v0gw8+cAK5PpfqaFz69K60VAjoTeDgjOYods+y1His5vcoWLrmGwPi/0MPxDuyWJU/LOlEjO3V+Y3VRQp2jICO86PT4svb29suzbhx4yJjxozgrkdJrxPQ0bjEDoSAENCDwOnxpZH7xUnV2OudTiBduoxvruHbPgM2j1HlDwruhvEjx8Lb2+vN1UdKjpCAjvOj0+LLlmJAQADOnDmDLl26oFOnTmjevHmEoHW8QEfj0rGfpc1CQEcC9/0yIike4d/ghEgy8uqbFTtHvgV+6KS6YdLLpmjedxoyJY+vY7d4TJt1nB+jLL6M3j148CCaNGmCs2fPekyHm1lRHY3LTL5SlhAQAm+GwIuHdxB7Sg5V+AnvPMg/Yu+bqYhR6sUdwKJ31f9bHlAFqT74HNXzpXmzdZLSwyWg4/zoMvF19OhRlCpVCk+fPhUzs0NAR+MSQxACQiDmE/jn2FakX1VPNXRnghoo29/yiaE3lh7dBCbnVsXvC8qNPZWWo1uVXG+sOlJwxAR0nB+dFl/2Au4fPnyIL774AkmTJsWWLZZdJpJCE9DRuMQGhIAQiPkE/t4wF2/tGaQa+nv6zqjaceKbbXRwMAImZofvs3t4GBwfg3OvxewWb7/ZOknp4RLQcX50WnzZC7jnx7Xp9Zo7dy7y5pUzVexZmY7GJeONEBACMZ/AscW9UfDCAtXQP4pMRqX6Hd54owMX1oHPpe2qHh8knI/l/Rq98TpJBcImoOP86LT4EgOKHAEdjStypOQuISAEPInAX9PqIe/9rarKe2uvR4kSZd989TcMBPZ8rurR/mV/zPYbjLixfN58vaQGdgnoOD86Lb6qVKmC1atXqyVG63T79m3873//w4EDB8S87BDQ0bjEEISAEIj5BK6OK4yMLy8iKNgLV7qcQ5a0bnDo9oHFwBrLF1cmvmyGd7tOQoEM8o1Hd7VGHedHh8TXrl27QnYxtmnTBjNmzEDixIlD9ePJkyfVJ4cY/yXpdQI6GpfYgRAQAjGcQFAgXoxOg9h4icvBqZFuxCnE8rF/FqSpJK7uB+ZZvjX5Y2AZBNT/Co3efoNnj5naeM8rTMf50SHxtXv3blSoUEF9RDsoKAi2cV/8xFCiRIkwaNAg9Y1HSSK+xAaEgBCI+QQC716Az8wiqqG7vYuh1Ag32XD1/DHwSQZVr7+CMmF1ye8x9N18Mb9DPLSFIr4c6Lhs2bJh3759SJkypQNXyyUGAR2NS3pfCAiBmE3g9qG1SPVTC9XIXxPWR81+ls/6uEN6OaUQYj28hBfBPuiYaQ0WdXCDWDR3AOOGddBxfnTI8+WGfeVxVdLRuDyuk6TCQkAIOEXgwtpPkW3/WHXPmox9UbfDCKfuj86Lg79pDq9Tlu9NNvOdim+HtYvO4iTvKBDQcX50SHzlzp0bXHpMnjw5+N/hJfm2o306OhpXFJ5FuVUICAEPIHB6QUfkvvydqun6op+j9ntu9Hm5zWOBbZ+quvV40Q0jh4xAioRxPICqflXUcX50SHyNGjVKxXLFjx8ffn5+YIxXWGnkyJH6WY4DLdbRuBzAIpcIASHgwQQuTKmKbA/3qxZsq7MNFYoXdp/WHF8NrGyr6jM7oB6KtpmKMjklXMZ9Oui/mug4PzokvtyxszytTjoal6f1kdRXCAgB5wjcG5MTyQNv42lwHFzrcga50rrRcQ63TwGzS6gG/RZYFJdqLkT7ctmca6BcbQoBHefHSImvnTt3qmXIFy9eqB2QRqJHbPDgwaZ0lqcVoqNxeVofSX2FgBBwgsCLJ8D49OqGE0FZkGP4Ifc6yDQwAEHj0sE76AWuBqfEjIKrMamRG3nmnEAd0y/VcX50WnyNGTMGXFpMlizZa2d9UXydP38+pttJpNqno3FFCpTcJASEgEcQCP7nMLy+rKjqusm7LKqPsAS3u1MKmFMWvreOqyo1S74C3/ao4U7Vk7q8IqDj/Oi0+MqZMydatGgBxoFJcpyAjsblOB25UggIAU8j8GDft0iyrpOq9sqELdCo3xz3a8LqTsDRb1W9mgeOwtJRPeHjHXbMsvs1QI8a6Tg/Oi2+EiRIgCNHjoAiTJLjBHQ0LsfpyJVCQAh4GoFrP/ohw+GpqtrfZhyOZh36uV8Tdk4HNlmOvxjysj0+6j0G2VImcL96al4jHedHp8VX3bp1Ub9+fbRv315zc3Gu+Toal3OE5GohIAQ8icClLz9Aln/WWTxfxZaiUb267lf9M78Byxqqei0OqI7UTWeiVsF07ldPzWuk4/zotPiaMmUKRowYgXr16qkzv2LHjh3KbIYMGRIpMwoMDMSwYcOwaNEi9X3IGjVqYO7cuUibNq3d/Pbv34+ePXvi0KFDSJcunbq3bVvLtmKmp0+folevXuoj4C9fvkTDhg0xffp09RkkIy1btgyjR4/G5cuXUbBgQfXNylKlStkt7+OPP8a6detw8eLFSLVPR+OKFCi5SQgIAY8gcOPTUkj75C9V14319qNGsVzuV++H/wBT8qp67Ql6C7vKf43e1cM/q9L9GhHza6Tj/Oi0+OLnhcJKUQm4N4QXxRcPc+3atSt8fX2xY8eO14q7ffs28uTJg1atWqFLly7YtGkT+vTpo8QRRRtTy5YtcfjwYcyfP1/tymzXrh1KlCgBCi4m3kMv3syZM1GuXDlQVK5cuRI8JDZVqlShyvz111/xv//9D1myZBHxFfPHAWmhEBACEREIDob/mPSIF/QUt4KT4nano8if3o2OmTDqHxyMwAlZ4PP8Ae4HJ8DAHD/hi9bvRNQ6+d1kAiK+TAZuFPf8+XP1rchZs2bhww8/VH+mh4lCj8dalClTJlTNxo8fr0TV2bNnQw58pdfr2rVr2LhxI65evaqE0ubNm1GxomU3ztatW1G5cmVcuXIFGTJkUCKN/7tw4UL1Oz8YnitXLrWcau29u3fvHgoVKqRi3Fgn8Xy9ISORYoWAEHAfAo9uAJPzqPrsDsqLAkN3IGEcX/epn1VNghbUgvflXeovjeLNx8qBjdyynjpXSsSXA73PJTp7iV4vLkHSa+Tt7e1ATv9dsmfPHrXcd+HCBWTNmjXkB4qvzp07Y+DAgaHyq1WrFtKkSaOWKI20ePFi5S179OgRVqxYoTxf/v7+ynvGFBAQgHjx4mHp0qVo3LixOiaDYq9NmzYheVDA3bhxAxs2bAj5W5MmTZQwTJ8+PebNmyfiy6melYuFgBCIiQSCL2yD12JLjNdqr+poMHKl+zZzXT9g31eqfh++GIi5fgMQP7Z7CkX3hRi9NRPx5QBfCqvwPi8UJ04cNGvWDHPmzEHcuHEdyBEqLosxWVwejBUrVsg9ZcuWRdGiRZVIsk70RHHJcNy4cSF/5jIivVlcklyyZAkmT56sPGHWiZ6u3r17qyXIFClSKC9Z9erVQy4ZOnQofvrpJxw/bjkXhkKNn1Pi7s6pU6eK+HKoN+UiISAEYjqBJ7vmIcHGvqqZixJ+hDb9PnPfJu9fAKztreo3/mVz1O48AUUyJXXf+mpYMxFfDnT6ggULlCeKooSxUkw87Z5B+AxKZxA+f6tTpw4++8yxB5Iih8uNDLq3TlWqVEH27NmV6LFOXALk9cOHDw/587Zt29QSI5cV6RHjcuK5c+dC3ce8KLzo7cqUKRN4T/ny5UOuYfA9hRuXM5lPkSJFlBhjO8eOHeuQ+ApraZLxZxR+W7ZsQaVKlRwgLZcIASEgBNyTwK2VfZH6uGVcnpfpE3Ro39U9K8paXd4DLLDEAq8KLIeXdeeiWYnM7ltfDWsm4suBTs+fPz94yn2DBg1CXf3zzz+DnqNjx46p+Cou+1HAOJJWrVqFRo0aqV2JxjIh76Pnq3jx4mqXonXizsT33ntPCSIjGZ4vxmhRINJTxdgv60TPV79+/dC6dWu1lMh7qlWrFnIJ67927VoVqM+/FytWDJ9++qn63VHxReEZ3gG0Ir4csQi5RggIAXcmcGNuPaS9uVVVcXHx1fiwTlX3re6zh8CETKp+/AzSiuLfwK9efvetr4Y1E/HlQKfHjx9fHe/A3YbW6dSpU8pTxDgrii7+zuMeHEl79+5FyZIl1ZEP9EgZiTFf3M04YMCAUNnUrl1bHS/BoHsjMearW7duePDggdq1aMR8+fj4qEuMmC/udmTMF4+c4FEW3DFpJMZ83bx5U/2dsWeMETPi1ygM+Y/tZ0yYtcfMunLi+XKkx+UaISAEPJnAvxMKItmzy3gZ7IMN7x1CvWJZ3Lo5AZPzw/fRVTwPjoV26X/Csk5l3bq+ulVOxJcDPU5vFD1PFChG7Bc/rk2RxLO3+O/7779Xy5B///23AzkC3O3IQH3GiVE0MRm7HXft2oXSpUuHyoe7HbmsyGMhjDpwKfH69evgsRCM9TKWFY2lUXZu1apVlcAzdjtmzpw5ZEnT2O3YoUMH9O/f/7XAetaN7WI+vJ/CzJmko3E5w0euFQJCwEOIuiC3AAAgAElEQVQIBLxA4Ni08EEgzgWlw6OPdrt9DFXw8ibwOv2rAtzAaypWjWgbbuyyh/REjKmmjvOj0+d8cWciA9splt555x11RMOBAwdw69YtrF+/XnmKGKvFc7O4+9DRNGjQIBWrxX+pU6dW93L3JOOyGIjP5USe/8W/0TtFz1rTpk3VQaq//fYb+vbtqzxSFFhMDPqnh45LkBSH9GpRxDGmi+mXX35RQfvTpk0LqS8D/+nB45KkbXJ02TGs9upoXI72vVwnBISABxG4fRqYbTkra1Pg23hn8C9IGj/0Ydtu15rfRgE7pqhqdXvRHSMGDUPqxI5tCHO7tsTACuk4Pzotvtjv9Cx9+eWXStwwRou7DymWKJpOnjypfrfeReiIrXBZkIH8XD7k8h4F3uzZs1We9jqGQf49evTA0aNHQQ/WyJEj1Qe/jfT48WN0795d7aRkHRmjxtgxLhsaid4zxq/RY8ZdlTzhnjFm9pKIL0d6Ua4RAkIgxhM48SOwwnIe40LUQ1u/r92/ycdWAqssn8SbGVAfhVp/hoq5Qx+m7f6NiLk1FPEVxb599uyZw8dLRLEoj7tdR+PyuE6SCgsBIRAhgRdr+iH2Acu5WRMSDcagvoMivOeNX3DzJDDXEr5Cb92F6l+hY4Ucb7xaUgELAR3nR6c9X3fv3lXna3FXo3E0BJf1GLdFr9f9+/fFnuwQ0NG4xBCEgBCIeQSezSiFuPcs33QcnOMHfNKqivs3MvAlgsalg3fQS1wOSoVp+VdiStMi7l9vTWqo4/zotPjikRD83iK/dcjzuRggf+bMGfz555+YOHGiClaX9DoBHY1L7EAICIEYRuDpPWCS5fu+Z4IyYE25H9CnRuid7+7a4sDZpeFz+6SqXsOk32NVr5ruWlXt6qXj/Oi0+EqWLBm+/fZb1KxZU+16pAArXLiwOubh33//DflwtXbWE0GDdTQusQEhIARiGIG/1gLfWWJrlwZURYaWn6PyW6k9o5GrOgDHVqi6Ng4Yg+WjuiGWj3OfwvOMhnpeLXWcH50WX/x8EE+A51EOPC+LZ25xJ+GJEyeUILM92NTzzCB6aqyjcUUPSclVCAiBN0bgl8HA7jmq+O4vu2HsMD8kifffJ+HeWL0cKXj7FOD3UerKQS87oF0PP+ROk8iRO+WaaCag4/zotPji54O4C5G7GXkiPHcVchchj2jgifBPnjyJ5m7yzOx1NC7P7CmptRAQAmERCJhTDr63jqmfP0i8GMv71PccWDzn6//tnQd4FMUbxt9cLgVCEgghNOkdBEGQjjRBBQSVqiBKFRBQioAIUkREpUgRLEhT8K8CCiIqVaqKSFFUqvTeWyDX9v+8c+xxhEAu4XJ3yX7zcM+Fu9mZ2d98t/PuN9/Mzmul2jvT9igyNR0rjxkKkN4z4viYYvHFLRcmT56stoSIiopS3i5u18DNTRlsz9gvSbcTMKJxiR0IASGQgQhcuwDtnYIIgqY2V51dcT5GNrs//ZzgxSPABOdjhX6xl8a80lMx+ZkK6af9GbilRhwfUyy+uLKRG6iWLFkSjRs3Vs885P5Y3HSVG5hWrFgxA5tI6k/NiMaVelpypBAQAgFHYNePwBetVbPm2eoiS8upaPpAnoBr5h0bpGnQxuRHUMIlnNOyoKF5Jn4f0kB2ug+AHjTi+Jhi8RUA/ZQum2BE40qXHSWNFgJCIGkCy4YAGyer71629MBrA4chV3Q62yV+xmPAIefszEPXP8BnrzRFyVxR0uN+JmDE8dEj8TVv3jyPu+bZZ5/1OK+RMhrRuIzUv3KuQiCjE7B/VAfBx7eq03w6/BMsHOSMn0pXaUlfYPOnqsmdLP1Qo9Fz6FjTuXWGJP8RMOL46JH44vMa3R+ifacuYh5941X/dWNg1mxE4wrMnpBWCQEhkGICCZehjSmAIM2Og444TCzzdfrcpNTtMUOzbQ2wrthATH/e+ZxKSf4jYMTx0SPxxQ1VCadKlSrqgdXcaJUxXpI8J2BE4/KcjuQUAkIgoAnsWQHMba6a+JWtNuxNp+CZyvkDuslJNi7+HLT3iiBIc+CwIwcaBU3B1jcawiz7ffm1L404Pnokvtgr3ECVD6n+6quvsG7dOtSoUUMJMT6wmhuvSro7ASMal9iEEBACGYTAiuHA+gnqZPpZuqH7K0NRNC5L+jy56Q2AI5tU2+snvIf3urfEg/llDPNnZxpxfPRYfLl3DJ/vqAuxDRs2oE6dOmjdujWefPJJREdH+7MPA7ZuIxpXwHaGNEwICIEUEXBMfwSmI7+rYxqbpmLJ0GfT7yrBNe8Bq0epc3nT2g7Z6r+CnvWKpYiHZPYuASOOj6kSX+7Yz5w5g88++wwjRoxQD9e+du2ad3slg5RmROPKIF0npyEEjE3AchXa2/kRpNlwRIvFyCJf4uP2ldIvk2NbgY/rqPavs9+PqfnG4YuuVdPv+WSAlhtxfEy1+Lp06RIWLVqEBQsWqA1WY2Ji0Lx5c7Xnl6TbCRjRuMQOhIAQyAAE9q0CPntKncgCe02cbzgZnWsVTr8n5nBAG1cCQVdPIUEzo4p9On4d1hThIcHp95zSecuNOD6mSHydO3cO3377LebPn4+VK1eqoHsKLj7jkTFg+orIdG4HadJ8IxpXmoCUQoWAEPAtgZVvAuvGqjoHWLvg2W5DUD5fVt+2wdu1fdMd2O7cQqmzpR9e6NADNYvFersWKc9DAkYcHz0SXx999JESXGvWrEGuXLmU4OKKRwouSZ4RMKJxeUZGcgkBIRDIBLQZjyHoxsakj9onYsnw9ghJ76sDdywE5ndQ2Ofa6uNIzdEY+FjJQO6GDN02I46PHokv7vMVGhqK+vXro3r16nf1cA0ePDhDG0lqT86IxpVaVnKcEBACAULAes0Z7+Ww4LgWg/73zcPcLtUCpHH30Ixr56G9yy0n7CqO7aXYWVjUq9Y9FCiH3gsBI46PHomvggULejSlyGnH//777176IMMea0TjyrCdKScmBIxCYP9aYPYT6my/tVfH/ocnok+D4hnj7N0eNfSo5V18NbQjojOFZIxzS2dnYcTx0SPxlc76MSCba0TjCsiOkEYJASHgOYHVbwNrxqj8r1k7oUmHwahRNIPERq0bB6wcqc5ttPUZVHx2OB4tk8tzNpLTawSMOD6K+PKa+dy9ICMal4/QSjVCQAikFYFZTYAD61Tpj1jGYfHwF5A51JxWtfm23ON/Ah85pxo32kvjp0qfYESz+33bBqlNETDi+Cjiy0fGb0Tj8hFaqUYICIG0IGBLcMZ72a/jtBaNzrFzM1ZclKbBMbYETFdPwqoFo3nUXCzu93hakJQykyFgxPFRxJePfhZGNC4foZVqhIAQSAsCBzcCM51iZIm9KrZVmYAhTUqnRU3+K3NRT2DrZ6r+Fy19MHLQIOSMCvdfewxasxHHRxFfPjJ2IxqXj9BKNUJACKQFAbfH8AyxdkCtZwdlvJiofxYBX7VX9L6w1UV48yl4qsJ9aUFTyrwLASOOjyK+fPSTMKJx+QitVCMEhEBaEJjTDPjvZ1Vyg4R38b/XX0D2LGFpUZP/yrx+EY53CsOk2dRWGuPKfIOxrcr7rz0GrdmI46OILx8ZuxGNy0dopRohIAS8TeD6RWhjSyDIdg1ntUi0ivwMK/vX9XYtAVGefUYjBB/aoNryXMh4zBnc0aOtlQKi8RmkEUYcH0V8+ch4jWhcPkIr1QgBIeBtAr9PB77vp0r9ylYbWx8chbefLuftWgKjvPXvAyuGqba8Y22DVn3Go1BsRGC0zSCtMOL4KOLLR8ZtROPyEVqpRggIAW8S0DTnFgwn/lKlPpUwAu1atEDzihk0FurkP8A05679vzlKYk+jr9CuagFvEpWykiFgxPFRxJePfhZGNC4foZVqhIAQ8CaBo1uAT5xTjDsd+fCYZQzWDaiHfDGZvVlL4JSlaUh4rxTC4o/DppkwsMi3GNe+duC0zwAtMeL4KOLLR4ZtROPyEVqpRggIAW8SWNwb2DJblTjM+jx+imiGX16rl6HjoOyLeiN4q/Oc+2l9MOy11xEVLo8a8qZZ3a0sI46PIr58ZF1GNC4foZVqhIAQ8BaBhMvA2BKA9SquayGonPABWtcqi9cbZ7D9vRLz+ncJ8GVb9Slj3I7WHptxnmHpLdtIw3KMOD6K+EpDg3Iv2ojG5SO0Uo0QEALeIvDHLOC7l1VpC+y18Jr2EtYPqIu4jL7xaMJlaO8UQpDDijNaFBpgGlYNaIhsEaHeIivl3IWAEcdHEV8++kkY0bh8hFaqEQJCwFsEPq4DHNuqSmuR8AZKVmmIUU+W9VbpgV3O3FbAnp9UGwdYuyBbzU547fFSgd3mDNI6I46PIr58ZLxGNC4foZVqhIAQ8AaBY9uAj52B5nscefGY7T383L9uxg20T8xs/1pg9hPq072OPHhCG4s1A+ojLlIeN+QN87pbGUYcHwNGfNntdgwZMgSzZs3CpUuX0LBhQ0ybNg25cuVKss82b96Ml19+GVu3bkXu3LnVsR06dHDljY+PxyuvvIKFCxfCarWiefPmmDhxIiIjI1155s6di5EjR+LQoUMoW7YsJk2ahKpVq7q+X7lyJYYOHYq//voLMTExaNWqlcqfKVOmFNuiEY0rxZDkACEgBPxHYEkfYPMMVf9I63O4+EAXjGv1gP/a4+uaucUGPX/Ht6maO1n6IV/V5hjetIyvW2K4+ow4PgaM+NKFF8UXhU6PHj1gNpuxfv362wzx9OnTKFGiBJ577jl0794dy5cvR9++ffH9998r0cbUrl07bNu2DZ9++iksFgs6duyIypUrg4KLicc88cQTmDx5MmrWrInx48dj/vz52L17N3LkyIHt27er/K+99hratm2L/fv3o2vXrqhfv74qM6XJiMaVUkaSXwgIAT8RsFyFNrY4gixXkKCFoKplCub3bYIiObL4qUF+qnbHQmC+8yZ+k6ME2tlH4OdX6yBP1pTfcPvpDNJltUYcHwNCfCUkJCA2NhZTpkzB888/r4znwIEDKFSoEDZs2IDq1avfYlCjR49WAmjv3r2u5c/0eh09ehTLli3DkSNHUKBAAaxatQq1azvd6GvWrEHdunVx+PBh5M2bV4k0vs+cOVN973A4UKxYMXTq1AmDBw9WXrVff/0Vv/32m6vuzz//XH1/5coVhISkbBmyEY0rXV4FpNFCwIgEtnwGLO6pzvxbe3UsL/kWPmj7oPFI2G3A5AeBCwfVuT+dMBwlHqqfcXf3D5AeNuL4GBDiiwKH0330LhUsWNBlDhRf3bp1w8CBA28xkccffxw5c+ZUU5R6mj17tvKWXb58GV9//bXyfF27dk15z5hsNpuaLqSAatmyJaKiopTYe+GFF1xlUMCdOHECP/zwA3bs2IHr16+jUqVKru/pNWO558+fR9asWVNktkY0rhQBksxCQAj4jYDj43owHftD1d86YSje6NUFZfJE+609fq140yfA0v6qCT/aH8JL9r5Y2bc2Csojh9KsW4w4PgaE+GJcFmOyOD3o7lGqUaMGKlSooESSeypXrpyaMnzrrbdcH3Makd4sTknOmTMH48aNU54w90RPV58+fdQUZPbs2ZWXrEGDBq4sr7/+OhYtWqSEV+LEuDEKxNDQUPzyyy93NEJ67PhKnDgFyrpXr16NOnXqpJkRS8FCQAgIgRQROLED+LCGOmSfIzfeKjQHMzpUTlERGSqzJR6YUAa4dg4OLQj1LWNRoXwljG9dPkOdZiCdjIgvP/UGvVGcbmTQvXuqV68eChcujOnTp9/yedGiRVV+BsPrae3atWqKkdOK9IhxOnHfvn23HMeyKLzo7cqXLx94TK1atVx5GExP4cbpTPfEdrVv3x4LFixQMWju3rDEyIYPH44RI0bckaSILz8ZmVQrBIRAkgTsS/ojePMn6rtR1rZ4vOtbqFggm7FprX4bWDNGMZhnq4fX7Z2x7JWHUSznzQVbxgbk3bMX8eVdnh6XRlHTokULtSpRnybkwfR8UehwlaJ74srEZs2aYdSoUa6Pdc/XuXPnMGPGDEyYMEHFfrkner769++vhBRjzHjMI4884spCz9eSJUtUsL2euGrymWeewU8//aQC8ps0aXLX8xLPl8fdLhmFgBDwNwFLPCzvFkeo7TIsWjB65pqHj7s/5u9W+b/+q2ec3i/bdbUAoUbCJFQuWwJT21b0f9syYAtEfPmpUzdt2oQqVaqoLR/okdITY764mnHAgAG3tKxRo0Zqewn3VYeM+erZsycuXryoRJIe8xUcHKyO1WO+GLfFmC9uOcGtLLhiUk+M+Tp58iSWLl2qPjp79iwaN26Mf/75B998841a6ZjaZETjSi0rOU4ICAHfEHBsnQvToh6qsu/sVRHz/FzUKBrrm8oDvZYlfYHNzpXtk2xPYrytFZb0qon78xo0Fi4N+8uI42NAxHxxtSO3d5g6daoSTUz6aseNGzeiWrVqt3Q7VztyWpHbQgQFBanvOJV4/Phx5aFirJc+rchtJJjYuRRPFHj6asf8+fO7pjT11Y6dO3dW20swWJ9Tksz/448/4sEH723ljxGNKw1/q1K0EBAC90rAEo+r7z+EiHjnDMHQ6NEY+UqPDP0A7RQhO7sPmFIJ0By4oEWgesJklC2UB//rWlUYpQhk8pmNOD4GhPhi1wwaNEjFavEVFxenVi4yuJ1xWQzE53Qi9//iZ/ROcZ+v1q1bq41UV6xYgX79+qlVirp3qk2bNmoDVk5BapqmNmCliGNMFxMFFYP233//fTC2jPt8MfB/165dakry1VdfVVOXixcvvk14sX0mkyl5i3LLYUTjShEgySwEhIBPCTiWj4Bpw3hV5xZHUZxrvQSPlMnt0zYEfGVftQf+WaSaOdzaHrPsj+HdFuXQqtLNGZqAP4d00EAjjo8BI744LcgtJTh9yNgvrlz84IMPlBBLqmO4B1fv3r3x559/gh6sYcOGqc1Q9cS9uHr16qUEFePInn76aRU7ljlzZlcees/efPNN5THjqkrucK8H0+fJk0d9nlRiUP99992XIpM2onGlCJBkFgJCwHcETu2EY1oNmDQbbJoJfbK+j0mvtBePTuIeOPoH8Ek99ekRLRa1EyYgMnO42noie5Yw3/VXBq/JiONjwIivDG5bSQrIjH7Ocn5CQAgEIAFNg2NmI5gObVSN+8TWCMXbT0Lt4jkCsLEB0KSZjYGDzietvGLpgW8dNfF0hbyy9YQXu0bElxdhSlG3EjCicYkNCAEhEIAEts0Dvu2uGnZMi8GgXNMxu1s98Xrdqat2LwPmtVTfntGi8WjCGJxFNOZ2riKLE7xk3kYcH8Xz5SXjSa4YIxpXckzkeyEgBHxMIP4ctMmVEHTtrKr4RUsfdOnaG5UKxvi4IemoOj5we04zYP8a1ejl9gfRxdoPBbNH4MdXHkZ4iHNFvaTUEzDi+CjiK/X2kqIjjWhcKQIkmYWAEEh7Aot7AVuci45W2CtgXuF3jb2bvafELx4FplUDrl9UR7xm7YQv7PXRq15R9GtYwtNSJN8dCBhxfBTx5aOfgxGNy0dopRohIAQ8IXDoV2DGoyrnNS0UDSzv4aNeTxn3GY6eMHPPs2MhML+D+iReC0Njy2gcMeXB0t61ZOf7lLJMlN+I46OIr3s0Gk8PN6JxecpG8gkBIZDGBOxW4KOHgVP/qIrGWNvg6P3dMPmZCmlccQYrfuGLwJ//Uye1zVEYLSzDUaFgDnzZtRpMJueek5JSTsCI46OIr5TbSaqOMKJxpQqUHCQEhID3CWyYBCx3Pgt3tyMvmtrGYGmfeiicI4v368rIJXLacVpN4OIhdZYTbU9jgq0FxjxdFm0q58/IZ56m52bE8VHEV5qa1M3CjWhcPkIr1QgBIXA3Aqd3Ax/XBqzxKlerhKEoXKkhxjQvJ9xSQ+DgRmBmIwAa7FoQWlqGYW9YaSzuWRMFYyNSU6LhjzHi+Cjiy0dmb0Tj8hFaqUYICIE7Ebh4BPi0IXDpqMrxla02hqA7fu5fB3myZhJuqSWwYjiwfoI6+qAjDo0sbyMiMivmdamConGRqS3VsMcZcXwU8eUjczeicfkIrVQjBIRAUgTizzkD7M/sVt/uceRFc8swtKxZFkOblBZm90LAZgGm1wdO/KlK+dJWBwNtXZE9IhSfdaqC0nmi7qV0wx1rxPFRxJePzNyIxuUjtFKNEBACiQkkXAHmNAX4eBwAR7VYNE8YhsuhcVg7oK48GscbFnN6l3MRg+26Ku1daytMtT+J6EwhmNOxMh7Il9UbtRiiDCOOjyK+fGTaRjQuH6GVaoSAEHAnQK/MF62BfavUp+e0SLSwDMN/Wh70rlcUfWVfKu/Zy6ZPgKX9XeVNtD2lAvCzhIVgVoeHZPNaD0kbcXwU8eWhcdxrNiMa170yk+OFgBBIIQGHHVjQGfh7oTrwqhaONpYh+EsrjKqFYzCrQ2XZkT2FSO+anbvfrx4NrH3Xle1D2xMYY2uDTCFmfPp8JVQvGuvNGjNkWUYcH0V8+ciUjWhcPkIr1QgBIUACFAL0wvw+XfGwaGa8YB2AjY77UblgDGZ1fAiZQ83CKi0IrB0LrHrTVfJM26MYYWuPMHMwprZ9EPVL5UyLWjNMmUYcH0V8+ch8jWhcPkIr1QgBIeBwAKtGulbgORCElyy98YOjCioVyIZZHSsjS5gIrzQ1lI1TgGWvu6qYa6uPIbYOQJAJ3WoXQd8GxRESbErTJqTXwo04Por48pG1GtG4fIRWqhECxibAVY0LuwJ7l7s4DLZ2wjx7fVTIn1UFf0eGhxibka/OPlEM2Hz7wxhg7QoHTKovJrWpgHwxmX3VmnRTjxHHRxFfPjJPIxqXj9BKNULAuAQO/w58/QJw6YiLAR8d9KG9KR64Lxqfda6CKBFevrUPPrh8cW+1CSvTMntFDLR2wXlEITLMjLebl0WTcnl826YAr82I46OILx8ZpRGNy0dopRohYDwCjO/67UNg2VDAYVXnf1GLQD9rN6xwVETZvNH4vHMVte2BJD8Q2P4l8G03QHOoys8iK161dMYqx4Pq/89Uzoc3mpRBptBgPzQu8Ko04vgo4stHdmhE4/IRWqlGCBiLAJ8vuKgn8O9i13lvdxTGS9beOKLFoXTuKLXTetbMocbiEmhn+89i4NsegOWyq2X/s9XBKFs7XEFmFI3LgoltyqNMnuhAa7nP22PE8VHEl4/MzIjG5SO0Uo0QMA6BAxuAxT2Bc/+5znmOrYEa0C0IQYuK9+GNJ0rLVGOgWMSFQ04BdmCdq0VHtFj0t3bDr47SMJuC8FLdouoVajZuML4Rx0cRXz76kRrRuHyEVqoRAhmfAB+OvWIYsGup61yvamEYZO2C7xzVkSsqXMUS1S0Rl/FZpLcz5ErUTR87++/Gbvg8hem2xzHe1hLxCEep3FEY27KcYb1gRhwfRXz56IdsROPyEVqpRghkXAJXTgE/vw38MRvQ7K7z3OnIp6YZ92l50eahfBjcuJR4uwLdCiigv3kROLbF1dJzWhZ8bGuCOfaGsJgyGdYLZsTxUcSXj36wRjQuH6GVaoRAxiNguQr88gGwYSJgueI6v7NaJN63NccX9nqIi86CMc3L4eHiOTLe+WfUM7LbnHuxrRkDOGxJirACuePwTvOyKHefcZ4NacTxUcSXj37kRjQuH6GVaoRAxiFw4TDwxyxgy2zg6mnXeV3XQjDd3gh8dM01UwSerZwfAx4rIft3pdeeP/m387FEO5fccgbunrCcsdlRr2Scej1UMCZDx4QZcXwU8eWjH68RjctHaKUaIZC+CfB5jHtXAps/hbZnGYJubE/Ak3JoQVhgr4VxtpY4FZQdT1W4D73rF0WB7BHp+5yl9U4Cx/8E1rxzmwi7pGXGYns1zLfXxjatiHpQd61isahbMg4NSuVEtoiMtZLViOOjiC8fXQSMaFw+QivVCIH0SeDScWD7PGibZyHo4qFbzoGia6WjggrI3okCaPpAHvSuXwxFcmRJn+cqrb47gRN/OUXYv9/dlm+vIw8W2B/GQntNnEQMQoKDUL9kTjSveB/qlMiRIR5ZZMTxUcSXjy4KRjQuH6GVaoRA+iDAjVHP7FZeDvs/SxB8/GbgtX4Cp7UofGWvgy/s9XFEy4HGZXPj5UeKoXjOyPRxjtLKeyNAEcaYMIowu+WWsuxaENY7ymKJoyp+tj+A08iG7BGhaFY+r9pipHSeqHur249HG3F8FPHlI4MzonH5CK1UIwQCl4DdChz9A9j5PbSd3yPo3L4k2/qroxT4IOZlWmWUzZ8D9UvlxKNlcqKweLoCt2/TsmV8XuffC4Ft85z2k0T621EAqx3llRDbqhVDsVxZVWxYmTxRuD9vNIrlzIIwc/rYQd+I46OIr7T8AbmVbUTj8hFaqUYIBA4B63XnYHlwI3BwA7TDmxBkvZpk+/5z5MIyRyUsDa6HfMUrqMBqxvTEZLB4nsDpnHTaklM71fQ0+MiiKyeSPImLWmasc5TFJkdJ/OEojp1afpiCzSgWF6nE2AP5sqqYsUCNFTTi+Cjiy0e/RyMal4/QSjVCwD8EOI14fj9wfLsKnLYd/AWmo3/A5Lh1usi9cdscRbDMXgnrgiujWOmKeKJCXtQoEpuhV7L5p3MyYK3cpuLgBmDPMmDvCuD0zjueZLwWhu2OIvhDK4YtjmLY5iiKc4hC/pjMqFksFg8Xi0W1IrEB8+xPI46PIr589Bs1onH5CK1UIwTSnkDCFeDsXuDUv9COb4flyDYEn/oLZuvNPbiSagS3DvjdUVJ5JVajEkqXKIlm5fOogGl5qHLad1uGroGPLtqz3Pnavwawxt/1dE9qWbHTkR87tXzqfRfyIyJvaZTJlwNFckSoxRyc5s4ZFYagoCCfojPi+Cjiy0cmZkTj8hFaqUYIeIcA47MuHgbOH1RCy3F6FxJO7ELQ2T0Ijz/uUR0c4H5zlFLTP3y3xxRDqeYQh18AACAASURBVDxZUaNoLBqVzSUPu/aIomRKMQFOdx/bChz+DTi8CTiy6ZZ94u5UnlULxiEtDvu1XDhw43U8OA+0mKKIjCuAPDERyBMdjtzRmZA7q/M9W+YQr4szI46PIr5SbOWpO8CIxpU6UnKUEEgDApwivH4B4PYOl4/BduEY4k8fgO3sAeDCIYRdOYxM10/BBIfHldOr9bejIP7WCmEnCuJyTFnE3FcCZfJGqxef15clzOxxeZJRCHiNgD4lTiHG14k/gZP/AHeIP0yq3gQtBMe0GBzVYnFUy4FjWnYcRSxOm3LAFnkfHqteEc/VLO6VJhtxfBTx5RXTSb4QIxpX8lQkhxC4BwIcYBIuAVwZdvUMrJdO4Nr5E7h+8QTsl05Bu3IapvhTCIs/iQjLaYRqCamqjPEz9Azs0/JgnyMP/gspAntcWeS6rwhK541G6dxRKBqXReK2UkVXDvIZAT7g+8IBgLvrn/wb2skdsB3/G8EXD8Lk9txQT9uzLV97lO802dPsd81nxPFRxJdXTCf5QoxoXMlTkRyGJ8CpvoTLrpd2/SKsVy/AcvU8rFfPwx5/AY748+DnWvx54No5mBPOI8x6EZlsl2DGzYdN3wtLCqzDWg714v5aB5EblyIKQostjuicBVAoRyQKxUaoV96smbw+7XIvbZdjhcA9EeBvkPFjZ/cB3Arl7F7YTu+F4+x/MF85DpNmTbL4P8sNQbmnX72nqvWDjTg+Boz4stvtGDJkCGbNmoVLly6hYcOGmDZtGnLlypVk527evBkvv/wytm7dity5c6tjO3To4MobHx+PV155BQsXLoTVakXz5s0xceJEREbe3Kxw7ty5GDlyJA4dOoSyZcti0qRJqFq1qquMvXv3omfPnli/fj2yZs2q/h40aFCqjM2IxpUqUHJQYBGgd8mW4AzmtV0HrNegWa/BmhCPhGtXYbl2FfaEeNgTrsJhuQqHeo9X+TXLVQTxZb0KkzUeJttVmG3x6hViv4ow+1WEandeGegtEAmaGSe1bDiBGJzSsuGiORbx4XGwZM4DW3Q+BMcUQJasOREXnQlxkWHIERkGxraEmk3eaoKUIwTSJwF6y66cBC4eAfgUBr5fOAzt4mHYq/aEuXAtr5yXEcfHgBFfuvCi+IqJiUGPHj1gNpuV8EmcTp8+jRIlSuC5555D9+7dsXz5cvTt2xfff/+9Em1M7dq1w7Zt2/Dpp5/CYrGgY8eOqFy5Mii4mHjME088gcmTJ6NmzZoYP3485s+fj927dyNHjhzqmFKlSqFSpUoYNmyYKqtLly54//331XtKkxGNK6WMDJOfFzSH7baXZrcqu3O+EmCxWGHjLtfqZQO/D3JYoNmcfztsFtisFthsCXBYE2C3WmC38XvmtyLIblH5g24cZ3LwswT1ObdDMN14D3ZYEOywwqxZEJLoFYqk73r92Vc2zYQLyIILWhacRxZcDorCFXNWXA+NQUJ4LByZskOLiIM5Mg6hWXMha4xTWHEVV2yWsAzxOBZ/8pe6hYC3CRhxfAwI8ZWQkIDY2FhMmTIFzz//vOrXAwcOoFChQtiwYQOqV69+S1+PHj1aiSp6pvQlsfR6HT16FMuWLcORI0dQoEABrFq1CrVr11bHrlmzBnXr1sXhw4eRN29eJdL4PnPmTPW9w+FAsWLF0KlTJwwePBjz5s1D165dcfLkSUREOB9iO2LECPX5rl27Umx73jYuehxslmvQNE29oDnUOUD93+H83Hli4F+aeuegr/6n/u9gHr477Cq/w8Fy7OqdZejvepl8Zz2ABhP/Zg03/q/KZ73qWJbhbANulO38ju3j56yPf9oRxDL4uWqbA0F8V3nc8uvH6XWwTpZhZznO4/iuHkh84zvnuwNBetmaXX2v53H+bXfm4Qv69/yMf2vqe8ZCOL935jfdOI5/u39vUsc78wbDeZx6hwPB6m+HmiLjZ8FBqmcMm65pobiCTLiihd94z4x4U2ZYgzPDEhyBhJAoWM2RsIZGwR4aBUdYNBAejZCIGERky4Go6OyIjQpHjixOMSVbNhjWlOTEMwgBb4+P6QFLQIiv3377TU337d+/HwULFnRxo/jq1q0bBg4ceAvLxx9/HDlz5lRTlHqaPXu28pZdvnwZX3/9tfJ8Xbt2TXnPmGw2GzJlyoTPP/8cLVu2RFRUlBJ7L7zwgqsMCrgTJ07ghx9+UB61f//9FzQKPVHA1alTR+Vh/SlJ3jau36Z0QJUzC1PSBMkrBO5KgNNzCQi58QoFVztZ3P5vNYXBagqHPTgMdlM4HOYwaMHhsAVnhsOcSb20kEzQzJmhhYQDoZEwhUXAFJYFpvAsMIdHwpwpC8JDQxEVblYbPEbxFR4iU3xim0LAwAS8PT6mB5QBIb4Yl8WYLE63hISEuLjVqFEDFSpUUCLJPZUrV05NGb711luujzmNSG8WpyTnzJmDcePGKU+Ye6Knq0+fPmoKMnv27MpL1qBBA1eW119/HYsWLcKOHTvQtGlTFR+mT1My0549e1C8eHH8/vvvajoyqUSPHV+JE6ctWffq1auVgLvX9NuUjqhyZsG9FiPHe4EAH3hrU74t+r/4CoY9SPm8bvwdTF8hbMr3ZYI9KFjlt2s3P3OYzNCCzND4bjIDN1782xGkv1huCBxBfDcDwaEIMofCZA5FUHAIgs1hMIXw/yEIMochKDgUcHtX+cyhMIeGwRwajpCQTDCHhSMkLBNC+B4cjGBT0O2voCCYgyX+yQumIkUIASGQBAERX34yC3qjON3IoHv3VK9ePRQuXBjTp0+/5fOiRYuq/EOHDnV9vnbtWjXFyGlFesQ4nbhv360PsWVZFF70duXLlw88platmwGDDL6ncON05iOPPKKmLjm9qScG5vOzdevWqTixpNLw4cPV9OSdkrfE1y/zRiFy/4+AmrgLgqZ2JHb+zX83/+ZnzoHT+Z2e58ZnQXwPUtO3zu9NKo86/sa7+szt/5yE4/8d6nO9XB5nUnWpqWB1rAkw3ShPlcv8+v9ZfvCN9tw8FiZn2TDxO5Z14zj1dxCC+LmJfwfDxLJNzveb35md9Zv4bkKQXj/FjCrjxvGu8oMRFBysyuWz0PiuXswbHAJTMMtw+zzYDJMpGGZzCEJCQhFqNiMkxKTiiMwmJ0dJQkAICAEh4DkBEV+es/JqzgULFqBFixZqVaI+TcgK6Pmih4mrFN0TVyY2a9YMo0aNcn2se77OnTuHGTNmYMKECSr2yz3R89W/f3+0b99exZjxGIosPdHztWTJEmzfvl151qKjo9U0pZ50z9eWLVuURy6p5CvPl1c7QAoTAkJACAgBIeAnAiK+/AR+06ZNqFKlitrygR4pPTHmi7FXAwYMuKVljRo1UttLuHulGPPFrSAuXryoVi3qMV/BwcHqWD3mi9OIjPnilCK3suCKST0x5osB9kuXLlXxYwysX7lypet7PeaLeeLi4lJEy4jGlSJAklkICAEhIAQMScCI42NAxHxxtSO3d5g6daoSTUz6aseNGzeiWrVqtxgkVztyWpHbQujTPJxKPH78OH766ScV66VPK+rTg+zc+vXrK4Gnr3bMnz+/a0pTX+3YuXNnvPbaa2pVI4Ufy8ycObOqn1OKX3zxRUCsdjTkL1ROWggIASEgBDIcARFffuxSbl7KWC2+6FWi5yk0NFTFZTEQn9OJ3P+Ln9HzxH2+WrdurTZSXbFiBfr166dWKVJgMbVp00ZtwMopSG55QK8WRRxjuph+/PFHNbXIfbsYW8Z9vhj4T28XpyS5UrJ06dJ44IEH1PTmX3/9BQoz7gvGuLGUJiMaV0oZSX4hIASEgBAwHgEjjo8B4fmiqXFakFtKcPqQsV9cufjBBx8oIZZUx/z666/o3bs3/vzzT9CDxY1Q27Zt67LaK1euoFevXkpQMY7s6aefVrFjuheLGek9e/PNN5V3izFc3OHefRUjhRi9X7/88ovyzFHocTPX1CQjGldqOMkxQkAICAEhYCwCRhwfA0Z8ZXRTM6JxZfQ+lfMTAkJACAiBeydgxPFRxNe9241HJRjRuDwCI5mEgBAQAkLA0ASMOD6K+PKRyRvRuHyEVqoRAkJACAiBdEzAiOOjiC8fGawRjctHaKUaISAEhIAQSMcEjDg+ivjykcEa0bh8hFaqEQJCQAgIgXRMwIjjo4gvHxksd87n1hbceb98+fI+qlWqEQJCQAgIASEQ2AT0Zx9/9913aNKkSWA31kutE/HlJZDJFcP9xPhgbUlCQAgIASEgBITA7QTonOCWTkZIIr581MsHDx7EN998Az4UPEuWLF6pVb9bEG/aveMUlvfO0L0E4ek9nsLSeyxZkvD0Hk9vseS+nHv37sVTTz2FAgUKeK+BAVySiK8A7pzkmmbEefLkmKT2e2GZWnJJHyc8vcdTWHqPJUsSnt7jKSxTz1LEV+rZ+f1IMXzvdYGw9B5LGeCEpXcJeLc0+a17j6ewTD1LEV+pZ+f3I8XwvdcFwtJ7LEV8CUvvEvBuafJb9x5PYZl6liK+Us/O70eK4XuvC4Sl91iK+BKW3iXg3dLkt+49nsIy9SxFfKWend+PFMP3XhcIS++xFPElLL1LwLulyW/dezyFZepZivhKPTu/H3ngwAHMmjULL7zwAgoWLOj39qTnBghL7/ae8PQeT2HpPZYsSXh6j6ewTD1LEV+pZydHCgEhIASEgBAQAkIgxQREfKUYmRwgBISAEBACQkAICIHUExDxlXp2cqQQEAJCQAgIASEgBFJMQMRXipHJAUJACAgBISAEhIAQSD0BEV+pZydHCgEhIASEgBAQAkIgxQREfKUYmfcO2LVrF0qWLHlbgevWrUPNmjVv+/zLL7/E22+/jT179iB37tzo3LkzXn31VQQHB6u8/JwPJd2wYYN6fuTzzz+P4cOHIyQkRH1/7do19bnD4bil7M8++wzt2rXz3on5oaSUspwxYwbee+897N+/H4ULF0b//v3RsWNHV8tPnTqFnj17YtmyZYpf+/bt8c4778BsNrvy8JmafGD66dOnUbVqVXz44YcoXry4H87e+1X6mqfY5s0+TM429ZzXr19HlSpV1DUg8e9XbNN7PMU2PWe5ZcsWDBw4EL///jsyZ86MRo0a4d1330VMTIwqxG63Y8iQIWqV/qVLl9CwYUNMmzYNuXLl8v5FLMBLFPHlxw5asGABunXrhr/++uuWVmTPnt0lmPQvfvjhBzRt2hQTJ07Eo48+qh4O26VLF/Tp0wdDhw7F+fPnUapUKZQuXRrjxo0DH1TatWtXJQpmzpypivnjjz/w0EMPYd++fciUKZOrzqxZsyI8PNyPJO696pSwZN5nnnkGH3/8MWrXro2VK1eqfpg/fz6efPJJ1ZhatWopUUveR48eVdt5kPdbb72lvp8+fTr69esHDpQUXK+//jp27NiBf//9F2FhYfd+Qn4uwdc8xTadHe6JbTLf5cuX0bp1a/C6kPjmSWzz5o/HGzzFNj2zzWPHjuH+++9Hy5Yt1bh07tw59OjRA7GxsVixYoUqRBdeFF8UZPyeN7Tr16/38xXP99WL+PI9c1eN9EqtXr0aa9asSbYVzZo1UwKJ3i89jRo1Sg3+//33n/LAvPHGGzh48CCyZcumstADRg8avy9UqJC62xg2bJjKk9FSSlh+9NFHOHv2LAYPHuzCUKFCBTz88MNKbG3cuBE1atRQXjF9/7TZs2ejV69eystFcUXB1bZtW8WTiWKX3kiW/eyzz6Z7vL7mKbbpNJnkbJN5OJC9+OKL4E0TPQ2JxZfY5s2fnzd4im16Zpv0to4dOxaHDh1yzcZQVPFGlmNOzpw5lRCbMmWKmpVh4j5hHJs4VlWvXj3dXzdTcgIivlJCy8t5mzdvjhw5cqjpquQS3bgRERHKs6UnemFo7PR6vfTSS+pC/Msvv7i+j4+PV8dQOHDajJ6av//+Gz/++GNy1aW771PC0v3kbDab8njxYvD1118r7yKnF+kK54VBT7x4UIj9+uuv6p1ucgrnOnXquPLUrVtXTSPz2PSefMmTU2dim7dbTFK2yVx9+/YFveOcKucNmbv4OnnypNjmHX58qeHJosQ2PbNNzqjQ+0WxpSfdAcCZGk6TcybG/aaW+Si+OPPA6UojJRFffuxt3qEWKVJEiScO9GXLllUxXZUqVUq2VZwvpxCjoX/xxRdqOox3eSzHZDKp4//55x+UKVNGxTbxQs35dQoyxjDxu6JFiyrPDT9P7yk1LDdv3qwuBoxDYPzcJ598ojD07t1bTdHywqEnq9WK0NBQJdAYI1axYkXs3r0bxYoVc+WhJ+zixYtYsmRJesepPHsptc3U8mzRooXYZiKLuRPLxIYVFBR0i/jiDZjY5u0/v9TyZEly3byVp6cseRRvZmmTvHldtGgReFNnsVhuCavhLANnHugRM1IS8eWn3uZdAL1S1apVU4KLU1k0Pnphtm7dihIlStyxZRRQTZo0wfbt25VhFyhQQAXbU7xxamzEiBEqJoRigFOa/D+n2PLkyYPo6Gg1tUb377x58zB+/HisWrXqFg+On5CkutrUsuTU4+HDhxXvl19+Wb3efPNNJcR4d8ZYMPdEUTtnzhzl+aLopXs9X758riwM2OdnenxDqk/Izwf6mieDxcU2b+30O9lmcuJLn+YR2/QOT5Yitpk6loMGDVLB9t9++60SYZ9//rmaYeDNrnuqV6+euqFlrKKRkogvP/Y244ToTeGLiasQKaDq16+PSZMmJdmyM2fOKEOm52r58uUqgF5P3333nYoF4dQDVzWOHDlSecTo3eK0JAdVTdNuCbZ//PHH1V3I4sWL/Uji3qtODUv3WjnVqItWrhilIHMPAtU9XwsXLkT+/PmVd5KCl95DPVHssh28w0vvyZc8n3rqKbHNuxiMu23qK5v17Ik9X/TYim3e/deXEp4sSa6bd+aZFEuKK64U50wMQzA4JjFx8QO93LyWuq8ap+eLNkungJGSiK8A6+1WrVoptyzvFhInTinSBU6v1k8//YRy5col2frjx4+rmBBeNOjp4oqoxx57LMm8AwYMUNspcE4+o6U7saSnjyttypcv7zrlpUuXonHjxiqgnosYeOFgDIOe9Jiv3377TXm+GDy6du3aW+IbGPPFFadTp07NaCjV+aQVz8qVK4tt3iCQnG3SY+2eEosvbpEitnmT0L3yvNMPWa6bTjLu103aJsccXicYV8yFCu6LjzZt2qS2RknslWXMV/fu3UGmRkoivvzU25wuZLA2g7YZo8HEOwYO3lyqq29poDePF1UaLu986fGiwbonemno4aKQ0u+O6eZlICODIBMSElR80qeffqrm3fVEly9X6c2dO9dPJO692pSy5N4z+oVDr52r+yiaTpw4oYLqeTfmfpHghYSxYPQ80lPJmCguYuDSaSZ9tSO3r+A2Fuk5+Zon4+TENp0Wk5xt6vGcun0lFl/8XGzz5q/vXnnyZkxs0zPbZC6uyqfg5QwBt0RyTxyDuMCM11l9Xzp9tSNXmDMEx0hJxJefeptCi65WXkxpjJwmpAuXU4c7d+5U20VwnxR6aDjYU5DxboKG7R5nxIsv73QpCniR6NSpk5piZDwY96bi3YS+pcITTzyhVjtybj1v3rxKiNHVywBKTnem15RSlhSvvDAw1o5ClHFxjJXjwgSy49Qslz2TLePwOI1LlnSfcyqXiStUuYiBLLm3DRlzjy/y1aeRhafnPMU2nb/z5GwzsU0lJb7ENm9eN73BU2zTM9v84IMP1HQjr4mcRXBP+t6VjAPjjSxfcXFxap8v2j1nEYyWRHz5scfpkdLd1/Sc0NvCDVI5nfjzzz+D01j0jNHjldTO9Gw6vVxcQs1E7xeXRXPTVgaJ8ofA+CU90cNAkcApTQb0coXJmDFj1Eaj6T15ylLfGoJ3Zozx4k7uFLPcJZyb0uqJHjC6wulJjIyMVOJr9OjRrpWkzEd2jM3jylP2HS8+7jFg6Zmpr3mKbd7ctiQ523S3q6TEl9im87rp6W89OZ5im56x5A2r+1ZH7lz1p7ZwrOKWEtz+iLFfDKPhdZNCzGhJxJfRelzOVwgIASEgBISAEPArARFffsUvlQsBISAEhIAQEAJGIyDiy2g9LucrBISAEBACQkAI+JWAiC+/4pfKhYAQEAJCQAgIAaMREPFltB6X8xUCQkAICAEhIAT8SkDEl1/xS+VCQAgIASEgBISA0QiI+DJaj8v5CgEhIASEgBAQAn4lIOLLr/ilciEgBISAEBACQsBoBER8Ga3H5XyFgBAQAkJACAgBvxIQ8eVX/FK5EBACQkAICIH0RYBPA3E4HOpRQp6mPXv2qCeubNiwQT2x5fnnnwefqRsSEuJpERkqn4ivDNWdcjJCQAgIASEgBNKGAJ97O2zYMLz55pvqOcKeiq/z58+jVKlSKF26tHqEHh+nRwFXtWpVzJw5M20aG+ClivgK8A6S5gkBfxHgs/H40PGk0uTJk9WzQyU5CRQsWBAHDx5Uf3OgyZo1q/r7p59+Ug9n//3339XnuXLlUg91HzJkCPLnz+/Cd6dnNDKD2WxWgxyfL3q31K1bN3z00Ucqy2effYZ27dpJ9wgBrxH477//lODasWMHMmfOjAYNGngsvt5//3288cYb6jeSLVs21SZ6wGrWrAmWW6hQIa+1M70UJOIrvfSUtFMI+JgAxVfevHnVnWriFBUVpS7Akm6KrzZt2qhplZw5c4JiauTIkcpD0LdvX7Ru3RqxsbHg1Mtbb72Ff/75B9u2bVNijMkb4osPeI+Pj0fu3LlFfIlhep3A3LlzsWrVKmW/tPWiRYveIr4o/HmtOHz4sPquf//+amqR6aWXXsKWLVtuefA2bTUiIkI9ZLt9+/Zeb2+gFyjiK9B7SNonBPxEgOIr8QXWT00J+Grp+ercubPyaDFt3LhR3dV/+OGHanrFPVmtVtx///1o2rQp3nvvPa+JL72Ouwm5gAcpDUwXBBJfG+jdHTFiBKZOnYoHH3xQiSx6xidOnKgEGAUbxdmBAwdgMpnUOfIGpEyZMuo3QKFmtCTiy2g9LucrBDwk4In4ouho0aIFFi9erKbVOM3GuI7XXnsNX3zxhfLEVKhQAe+8846K79ATL9a8Sz558iSaNGmiRB4Fy88//6wu0JyGWLdunRIwTIk/Y7AvL+iffPIJzp49q+rkxb9Ro0Yq/6xZszBmzBj06dMHb7/9Ns6dO4dKlSrhgw8+ULEnTJcvX8agQYMwf/581c7q1atj0qRJiImJUR4/3um3bNnS1ebnnnsO169fx9dff30bwcTiq23btti8eTN27typvFqJ06FDh5SHLCwsLEXiy316071MBi4zFodJxJeHBi7ZUk0g8bXhvvvuU78l91AE/j7nzJmDXbt2KY9v2bJl0atXL/U75W+PvxGGNfD/gwcPTnVb0uuBIr7Sa89Ju4VAGhPwVHydOnUKS5cuRaZMmfDQQw+hVatW2L9/PyZMmKCm1SjCKIC2b9+OEiVKqAsyY0codOrWrasEFEURxZmn4ot3yt98842KpypWrBh+/PFHdffMd7ab4osep2rVqmH8+PGwWCygeCpQoABWrlypyDVs2BAUQbxbp9jiAMCpEQ4UzZs3V3kWLVqk3q9evarE0v/+9z8lFhOnxOKL8VyPP/64KwYrua7ydNrx9OnTsNvtruIocnnOFHo8BxFfyZGW771BwP3aQJuMi4tDeHg4goODXcXbbDbwxRub0NBQfPfdd3jxxRfVDRdXO3JangKNNw2cljRaEvFltB6X8xUCHhLgBZZBsbp3Rj+M8R76KieKDoomihImCpfixYvjr7/+UlNremJwbuHChZUYqVy5svJUUSDpqUqVKkq8eSK+ypcvr+Kn6LFyF0JdunRRYoreN5bdoUMHNbWhe7o4BUKBRSH177//qjasXr1aiTWmM2fOKJE4cOBAdd6M0zp+/DiyZ8+Ozz//HP369cPRo0dVAHxy4osDEfNzcNETvQLu50wh+Pfff7sEEzknVTbbyxVhiQPu+VmPHj0UM/LTk3i+PDRwyZZqAu7i6+LFi2qBCW+i9N+Se8H83etTjfxc/03RixwdHY0ffvgBjz32WKrbkl4PFPGVXntO2i0E0pgAL6S8ox09evQtNUVGRiovEBPFF6cPdJHBKTl6vhhI654SEhKUF2rt2rXqO8Z5UDjo6dVXX1UrAj0RXxQpFHAUa+4XdcZSsV0UYBQ5HTt2VB4vXdDwMwo05tPbSWGT1MIB5smTJ4+6O+/evbtaocj4FHrRkkqJPV/0QjGma9q0aa7s9BBwoGKit23hwoVqOpWJgmns2LFo1qzZbcWXLFnyttWO5KivNqNHzz2J+ErjH4YUr0SWezwopx15czBq1CgXHdo+vd2Me1y/fr3ycC1btszlHeMNDVfoHjt2DFzAY7Qk4stoPS7nKwQ8JODptKN7oDmn6Z588kn8+eefShy5J4qmfPnyIUeOHGpzRfepBgaq8wJN8cXl6BQz7jFfukeNn1H80fvFO2YOAO6J0x6MF6PQYrs47aEn988Yo0ahcyfxxWNefvllNQ1JocbB5Y8//sADDzzgkfhirBi9a1yWn1TiIEXvobv4utP2EIm3muDSfIpPist33333tuJFfHlo4JIt1QQSXxsosLiql1tK1K9fXwXcc9p/wIAB6rdOrzLDAxhuwN89RRnFGr83YryXuuHSuGuaJCEgBIRAIgKpEV979+5VF9nly5fjkUcecZVILxen+Tj1xoszY8EY0K4nepboHaP44rQEvU7ff/+9K4CeQovB9BRfXE3FaQ56jyiw9MSLPAPx6a1KTnzt3r1bxZ/Rg1SrVi1VxIULF1CkSBEVm8Lg+61bt6ogfQYEc4qTW0PcKSX2fLFcPfYsqWX0vONnrFZKxRc9Z2wb62M73T1/ettEfMlPOa0JJHVt4LQ+YzDpeabnl15mBuHrC054c8Wp2ZK9RwAAAuNJREFUeIYk8PfNawG3ZjFqEvFl1J6X8xYCyRBIjfhikYwJ27RpkwqiZ/wXY0E4zcgpBwovrnDiO1c7Mih9wYIF6u63du3aSnzxfpBxIhRCLIPTdb1791bih6KGKyB5Uf/000/V9xRI9GTxws7PeEednPhiO5966ikVo8bpEXrj6H2jx46Dgx7nRk+XvjcXV056Kr6Yjys8WSaF57PPPqsEJ71h3KCWCxQYkzZjxgxVpCcB95xebNy4sfIMUrgxrky/d2ZAM1dpJleWGL0QEAKBQUDEV2D0g7RCCAQcgdSKLz46RN/CgZ4aBrwz3sM9nunLL7/E0KFD1V0yY5c4tcatKii+mHiXzGk/TttxapErJ+n54vcUX5xO1D1cXD1FsUbxpXvCPBFf9HRxquTbb79VKwgffvhhNW1C0acnCkSey5EjR1xxbkl1VGLPl56HnjqKLQbwU0RyoQA9bfR8caWnnjwRX+yPO+0ErgtXEV8B9zOSBgmBJAmI+BLDEAJCwO8EKJo4ZamLL7836EYDuH0FpyjpWbtbupP48sd5yLSjP6hLnUIgZQREfKWMl+QWAkIgDQgEmviix4pThPSMcT8xeueSE1+JHy+UBpjuWqQ8XsjXxKU+IZB6AiK+Us9OjhQCQsBLBAJNfNHjxVgwxppx76/k0p0erJ3ccd78Xh6s7U2aUpYQSFsCIr7Slq+ULgSEgBAQAkJACAiBWwiI+BKDEAJCQAgIASEgBISADwmI+PIhbKlKCAgBISAEhIAQEAIivsQGhIAQEAJCQAgIASHgQwIivnwIW6oSAkJACAgBISAEhICIL7EBISAEhIAQEAJCQAj4kICILx/ClqqEgBAQAkJACAgBISDiS2xACAgBISAEhIAQEAI+JCDiy4ewpSohIASEgBAQAkJACIj4EhsQAkJACAgBISAEhIAPCYj48iFsqUoICAEhIASEgBAQAiK+xAaEgBAQAkJACAgBIeBDAv8HAS5OT7+z4vEAAAAASUVORK5CYII=\" width=\"674.4444623111211\">"
      ],
      "text/plain": [
       "<IPython.core.display.HTML object>"
      ]
     },
     "metadata": {},
     "output_type": "display_data"
    },
    {
     "data": {
      "text/plain": [
       "Text(0.5,1,'Center = 5.3135 GHz, FWHM = 1.90 MHz, Q = 2797.53')"
      ]
     },
     "execution_count": 28,
     "metadata": {},
     "output_type": "execute_result"
    }
   ],
   "source": [
    "station.hetsrc.RF.power(-30)\n",
    "hetfreqs = np.arange(5.295e9, 5.32e9, 0.4e6)\n",
    "station.TWPA.off()\n",
    "ctl = ss.setup_soft_sweep(hetfreqs, station.hetsrc.frequency, integration_time=30e-3)\n",
    "testout = get_resonator_spec_and_fit(hetfreqs)\n",
    "\n",
    "plt.figure()\n",
    "plt.plot(hetfreqs,testout[0]**2,'-')\n",
    "plt.plot(hetfreqs,testout[2].best_fit)\n",
    "plt.xlabel('Frequency [GHz]')\n",
    "plt.ylabel('Magnitude**2 [a.u.]')\n",
    "plt.title('Center = %.4f GHz, FWHM = %.2f MHz, Q = %.2f' % (testout[2].params['center'].value*1e-9, 2*testout[2].params['sigma'].value*1e-6, testout[2].params['center'].value/(2*testout[2].params['sigma'].value)))"
   ]
  },
  {
   "cell_type": "code",
   "execution_count": null,
   "metadata": {
    "ExecuteTime": {
     "end_time": "2018-11-24T16:44:35.265354Z",
     "start_time": "2018-11-24T16:44:35.261348Z"
    }
   },
   "outputs": [],
   "source": [
    "qcodes.__file__"
   ]
  },
  {
   "cell_type": "markdown",
   "metadata": {
    "heading_collapsed": true
   },
   "source": [
    "## Live-monitor of resonator spec"
   ]
  },
  {
   "cell_type": "code",
   "execution_count": null,
   "metadata": {
    "ExecuteTime": {
     "end_time": "2018-11-22T14:14:42.844550Z",
     "start_time": "2018-11-22T14:14:40.486Z"
    },
    "hidden": true,
    "scrolled": false
   },
   "outputs": [],
   "source": [
    "fvals = np.linspace(5.29e9, 5.33e9, 51)\n",
    "ctl = ss.setup_soft_sweep(fvals, station.hetsrc.frequency, integration_time=30e-3)\n",
    "\n",
    "def monitor_resonator_spec(ax, fvals, data_line=None):\n",
    "    mag, phase, fitout = get_resonator_spec_and_fit(fvals)\n",
    "    \n",
    "    if data_line is None:\n",
    "        data_line = ax.plot(fvals, mag**2)[0]\n",
    "    else:\n",
    "        data_line.set_ydata(mag**2)\n",
    "    \n",
    "    ax.relim()\n",
    "    ax.autoscale_view(True, True, True)\n",
    "    ax.get_figure().canvas.draw()\n",
    "    \n",
    "    return data_line\n",
    "    \n",
    "\n",
    "fig, ax = plt.subplots(1,1)\n",
    "\n",
    "data_line = None\n",
    "ax.set_xlabel('Frequency')\n",
    "ax.set_ylabel('Magnitude')\n",
    "\n",
    "for i in range(10):\n",
    "    data_line = monitor_resonator_spec(ax, fvals, data_line=data_line)"
   ]
  },
  {
   "cell_type": "code",
   "execution_count": null,
   "metadata": {
    "hidden": true
   },
   "outputs": [],
   "source": []
  },
  {
   "cell_type": "markdown",
   "metadata": {},
   "source": [
    "## Resonator spec vs power"
   ]
  },
  {
   "cell_type": "code",
   "execution_count": null,
   "metadata": {
    "ExecuteTime": {
     "end_time": "2018-11-23T12:00:29.468379Z",
     "start_time": "2018-11-23T12:00:09.900356Z"
    }
   },
   "outputs": [],
   "source": [
    "station = qcodes.Station.default #resonator spec vs power\n",
    "spec_frequencies=np.linspace(5.295e9, 5.32e9, 61)\n",
    "spec_src=station.hetsrc.frequency\n",
    "spec_powers=np.linspace(-40,-10,6)[::-1]\n",
    "\n",
    "ctl = ss.setup_soft_sweep(spec_frequencies, spec_src)\n",
    "\n",
    "#station.TWPA.on()\n",
    "station.TWPA.off()\n",
    "so = sweep(station.hetsrc.RF.power,spec_powers)(\n",
    "    ss.measure_soft_time_avg_spec(spec_frequencies, station.hetsrc, integration_time=100e-3, setup=False))\n",
    "\n",
    "result = do_experiment(f'resonator_specvspower/{SAMPLE}', so, live_plot=True)\n"
   ]
  },
  {
   "cell_type": "code",
   "execution_count": null,
   "metadata": {
    "ExecuteTime": {
     "end_time": "2018-11-23T12:00:29.508407Z",
     "start_time": "2018-11-23T12:00:29.481389Z"
    }
   },
   "outputs": [],
   "source": []
  },
  {
   "cell_type": "code",
   "execution_count": null,
   "metadata": {
    "ExecuteTime": {
     "end_time": "2018-11-22T14:14:42.847553Z",
     "start_time": "2018-11-22T14:14:40.502Z"
    }
   },
   "outputs": [],
   "source": [
    "from matplotlib.colors import LogNorm\n",
    "data = qc.dataset.data_export.load_by_id(393)\n",
    "freqs = data.get_data('frequency')\n",
    "powers = data.get_data('RF_power')\n",
    "signal = data.get_data('signal_magnitude')\n",
    "\n",
    "x = freqs[0][0]\n",
    "y = np.array(powers)[:,0].T\n",
    "X,Y = np.meshgrid(x,y)\n",
    "Z = np.array(signal)[:,0,:]\n",
    "\n",
    "Znorm = np.copy(Z)\n",
    "for i in range(len(X[:,0])):\n",
    "    Znorm[i,:] = Znorm[i,:]/np.mean(Znorm[i,-15:-1])\n",
    "\n",
    "plt.figure(figsize=(3, 3))\n",
    "plt.pcolor(X,Y,Z,cmap='viridis', norm=LogNorm(vmin=Z.min(), vmax=Z.max()))\n",
    "plt.xlabel('Frequency (GHz)')\n",
    "plt.ylabel('Power (dBm)')\n",
    "#plt.axis([x.min(),x.max(),y.min(), y.max()])\n",
    "\n"
   ]
  },
  {
   "cell_type": "code",
   "execution_count": null,
   "metadata": {
    "ExecuteTime": {
     "end_time": "2018-11-22T14:14:42.847553Z",
     "start_time": "2018-11-22T14:14:40.505Z"
    }
   },
   "outputs": [],
   "source": [
    "station.ivvi.set_dacs_zero()"
   ]
  },
  {
   "cell_type": "markdown",
   "metadata": {},
   "source": [
    "# TWPA tuning"
   ]
  },
  {
   "cell_type": "code",
   "execution_count": null,
   "metadata": {
    "ExecuteTime": {
     "end_time": "2018-11-22T14:14:42.848553Z",
     "start_time": "2018-11-22T14:14:40.509Z"
    }
   },
   "outputs": [],
   "source": [
    "np.linspace(4.0, 8, 41)[::-1]"
   ]
  },
  {
   "cell_type": "code",
   "execution_count": null,
   "metadata": {
    "ExecuteTime": {
     "end_time": "2018-11-22T14:14:42.849555Z",
     "start_time": "2018-11-22T14:14:40.513Z"
    }
   },
   "outputs": [],
   "source": [
    "station.TWPA.power(6.75)\n",
    "station.TWPA.frequency(8.004e9)"
   ]
  },
  {
   "cell_type": "code",
   "execution_count": null,
   "metadata": {
    "ExecuteTime": {
     "end_time": "2018-11-22T14:14:42.849555Z",
     "start_time": "2018-11-22T14:14:40.515Z"
    }
   },
   "outputs": [],
   "source": [
    "# station.hetsrc.RF.power(-60)\n",
    "# so = sweep(station.TWPA.power, np.arange(9, 11, 0.1))(\n",
    "#     softspec(np.linspace(5.3e9, 5.326e9, 27), station.hetsrc, navgs=10, setup_awg=False)\n",
    "# )\n",
    "\n",
    "# result = do_experiment(f'TWPA_resonator_spec/{SAMPLE}', so, live_plot=True)"
   ]
  },
  {
   "cell_type": "code",
   "execution_count": null,
   "metadata": {
    "ExecuteTime": {
     "end_time": "2018-11-22T14:14:42.850555Z",
     "start_time": "2018-11-22T14:14:40.519Z"
    }
   },
   "outputs": [],
   "source": [
    "def get_snr_from_max(trace, background_range=(0, 30)):\n",
    "    idx0, idx1 = background_range\n",
    "    S = np.abs(trace).max()\n",
    "    N = np.abs(np.std(trace[idx0:idx1]))\n",
    "    return S, N\n",
    "\n",
    "@getter(('SNR', ''))\n",
    "def SNR():\n",
    "    mag, phase = ss.get_soft_sweep_trace()\n",
    "    trace = mag * np.exp(-1j*phase)\n",
    "    s, n = get_snr_from_max(trace)\n",
    "    return s/n\n",
    "\n",
    "spec_frequencies = np.linspace(5.27e9, 5.31e9, 101)\n",
    "spec_src = station.hetsrc\n",
    "integration_time = 20e-3\n",
    "\n",
    "#pump_amps = np.linspace(8.0, 11, 32)\n",
    "pump_amps = np.linspace(4.0, 8, 41)[::-1]\n",
    "#pump_frqs = np.linspace(7.99e9, 8.02e9, 31)\n",
    "pump_frqs = np.arange(7.91e9, 8.05e9, 1e6)\n",
    "\n",
    "ctl = ss.setup_soft_sweep(spec_frequencies, spec_src.frequency, integration_time=integration_time)\n",
    "\n",
    "station.TWPA.on()\n",
    "so = sweep(station.TWPA.power, pump_amps)(\n",
    "    sweep(station.TWPA.frequency, pump_frqs)(\n",
    "#         measure_soft_time_avg_spec(spec_frequencies, spec_src, integration_time=integration_time, setup=False),\n",
    "        measure(SNR),\n",
    "    )\n",
    ")\n",
    "\n",
    "result = do_experiment(f'tune_TWPA_resonator_spec/{SAMPLE}', so, live_plot=True)\n",
    "station.TWPA.off() #the TWPA power seems to warm up the fridge so let's turn it off when we are not measuring"
   ]
  },
  {
   "cell_type": "code",
   "execution_count": null,
   "metadata": {
    "ExecuteTime": {
     "end_time": "2018-11-22T14:14:42.851556Z",
     "start_time": "2018-11-22T14:14:40.522Z"
    }
   },
   "outputs": [],
   "source": [
    "station.RF.power()"
   ]
  },
  {
   "cell_type": "code",
   "execution_count": null,
   "metadata": {},
   "outputs": [],
   "source": []
  },
  {
   "cell_type": "code",
   "execution_count": null,
   "metadata": {},
   "outputs": [],
   "source": []
  },
  {
   "cell_type": "markdown",
   "metadata": {},
   "source": [
    "# Resonator vs Gate Response"
   ]
  },
  {
   "cell_type": "markdown",
   "metadata": {},
   "source": [
    "## Measure at a single frequency"
   ]
  },
  {
   "cell_type": "markdown",
   "metadata": {},
   "source": [
    "### Vs cutter"
   ]
  },
  {
   "cell_type": "code",
   "execution_count": null,
   "metadata": {
    "ExecuteTime": {
     "end_time": "2018-11-22T14:14:42.852557Z",
     "start_time": "2018-11-22T14:14:40.531Z"
    }
   },
   "outputs": [],
   "source": [
    "dac_cutter(0)"
   ]
  },
  {
   "cell_type": "code",
   "execution_count": null,
   "metadata": {
    "ExecuteTime": {
     "end_time": "2018-11-22T14:14:42.853557Z",
     "start_time": "2018-11-22T14:14:40.534Z"
    }
   },
   "outputs": [],
   "source": [
    "ss.setup_single_averaged_IQpoint(0.1e-3, 10e-3, setup_awg=True)\n",
    "\n",
    "cur_cutter = dac_cutter()\n",
    "station.hetsrc.frequency(5.3114e9)\n",
    "#station.TWPA.on() #we don't have a BNC T at the moment, we can remove this once we split the marker for the cavity\n",
    "so = sweep(dac_cutter, np.arange(-500., 0., 2))(\n",
    "    measure(ss.get_single_averaged_IQpoint_chanA),\n",
    ")\n",
    "\n",
    "result = do_experiment(f\"resonator_gate_response/{SAMPLE}\", so, live_plot=True)"
   ]
  },
  {
   "cell_type": "code",
   "execution_count": null,
   "metadata": {
    "ExecuteTime": {
     "end_time": "2018-11-22T14:14:42.854558Z",
     "start_time": "2018-11-22T14:14:40.537Z"
    }
   },
   "outputs": [],
   "source": [
    "station.hetsrc.frequency(5.3114e9)\n",
    "station.hetsrc.RF.power(-70)\n",
    "station.TWPA.off()\n",
    "cur_cutter = dac_cutter()\n",
    "\n",
    "so = ss.measure_soft_gate_sweep(\n",
    "    np.arange(0., 1000., 2.), dac_cutter,\n",
    "    integration_time=30e-3, setup=True,\n",
    ")\n",
    "\n",
    "\n",
    "result = do_experiment(f\"soft_sweep_gate/{SAMPLE}\", so, live_plot=True)"
   ]
  },
  {
   "cell_type": "markdown",
   "metadata": {},
   "source": [
    "### Vs plungers"
   ]
  },
  {
   "cell_type": "code",
   "execution_count": null,
   "metadata": {
    "ExecuteTime": {
     "end_time": "2018-11-22T14:14:42.854558Z",
     "start_time": "2018-11-22T14:14:40.540Z"
    }
   },
   "outputs": [],
   "source": [
    "station.hetsrc.frequency(5.305e9)\n",
    "cur_plunger = dac_leftplunger()\n",
    "\n",
    "ss.setup_single_averaged_IQpoint(0.1e-3, 30e-3, setup_awg=True)\n",
    "so = sweep(set_plungers, np.arange(cur_plunger,-400,1))(\n",
    "    measure(ss.get_single_averaged_IQpoint_chanA),\n",
    ")\n",
    "\n",
    "#station.TWPA.on()\n",
    "result = do_experiment(f\"resonator_gate_response/{SAMPLE}\", so, live_plot=True)\n",
    "#station.TWPA.off()"
   ]
  },
  {
   "cell_type": "code",
   "execution_count": null,
   "metadata": {
    "ExecuteTime": {
     "end_time": "2018-11-22T14:14:42.855559Z",
     "start_time": "2018-11-22T14:14:40.543Z"
    }
   },
   "outputs": [],
   "source": [
    "# station.hetsrc.frequency(5.305e9)\n",
    "# station.hetsrc.RF.power(-70)\n",
    "\n",
    "# cur_plunger = dac_leftplunger()\n",
    "\n",
    "# so = ss.measure_soft_gate_sweep(\n",
    "#     np.arange(cur_plunger, cur_plunger+5, 0.1), dac_cutter,\n",
    "#     integration_time=10e-3, setup=True,\n",
    "# )\n",
    "\n",
    "# station.TWPA.on()\n",
    "# result = do_experiment(f\"soft_sweep_gate/{SAMPLE}\", so, live_plot=True)\n",
    "# station.TWPA.off()"
   ]
  },
  {
   "cell_type": "markdown",
   "metadata": {},
   "source": [
    "### Fixed frequency scans (view each point)"
   ]
  },
  {
   "cell_type": "code",
   "execution_count": null,
   "metadata": {
    "ExecuteTime": {
     "end_time": "2018-11-22T14:14:42.856560Z",
     "start_time": "2018-11-22T14:14:40.547Z"
    }
   },
   "outputs": [],
   "source": [
    "station.TWPA.frequency()"
   ]
  },
  {
   "cell_type": "code",
   "execution_count": null,
   "metadata": {
    "ExecuteTime": {
     "end_time": "2018-11-22T14:14:42.857560Z",
     "start_time": "2018-11-22T14:14:40.550Z"
    }
   },
   "outputs": [],
   "source": [
    "%%time\n",
    "#Fixed frequency scan if you want to see each point individually\n",
    "\n",
    "station.hetsrc.frequency(5.31347e9+4e6)\n",
    "cur_plunger = dac_leftplunger()\n",
    "cur_cutter = dac_cutter()\n",
    "cutter_vals = np.arange(300,1500.,5)\n",
    "plunger_vals = np.arange(-300,100.,10)\n",
    "\n",
    "\n",
    "setup_single_averaged_IQpoint(0.1e-3, 30e-3, setup_awg=True)\n",
    "so = sweep(dac_cutter, cutter_vals)(sweep(set_plungers, plunger_vals)(\n",
    "    measure(get_single_averaged_IQpoint_chanA),\n",
    "))\n",
    "\n",
    "station.TWPA.on()\n",
    "result = do_experiment(f\"fixed_frequency/{SAMPLE}\", so, live_plot=True)\n",
    "station.TWPA.off()"
   ]
  },
  {
   "cell_type": "markdown",
   "metadata": {},
   "source": [
    "### Fixed frequency scan (only see 1d, faster)"
   ]
  },
  {
   "cell_type": "code",
   "execution_count": null,
   "metadata": {
    "ExecuteTime": {
     "end_time": "2018-11-26T08:21:27.416444Z",
     "start_time": "2018-11-25T15:25:19.130826Z"
    },
    "scrolled": false
   },
   "outputs": [],
   "source": [
    "%%time\n",
    "#Fast Fixed frequency scan if not seeing each 1d line is ok with you\n",
    "station.hetsrc.RF.power(-65)\n",
    "station.hetsrc.frequency(5.3135e9+4e6)\n",
    "cur_plunger = dac_leftplunger()\n",
    "cur_cutter = dac_cutter()\n",
    "cutter_vals = np.arange(-250.,100.,0.2)[::-1]\n",
    "plunger_vals = np.arange(-500.,50.,2.)\n",
    "\n",
    "\n",
    "ss.setup_soft_sweep(cutter_vals, dac_cutter, time_bin=0.2e-3, integration_time=30e-3, setup_awg=True, ctl=None)\n",
    "so = sweep(set_plungers, plunger_vals)(ss.measure_soft_gate_sweep(\n",
    "    cutter_vals, dac_cutter, setup=False))\n",
    "\n",
    "result = do_experiment(f\"fixed_frequency/{SAMPLE}\", so, live_plot=True)\n"
   ]
  },
  {
   "cell_type": "markdown",
   "metadata": {},
   "source": []
  },
  {
   "cell_type": "markdown",
   "metadata": {},
   "source": [
    "## Take full resonator scan vs gate"
   ]
  },
  {
   "cell_type": "markdown",
   "metadata": {},
   "source": [
    "### Vs cutter"
   ]
  },
  {
   "cell_type": "code",
   "execution_count": 31,
   "metadata": {
    "ExecuteTime": {
     "end_time": "2018-11-26T09:08:23.990892Z",
     "start_time": "2018-11-26T09:08:23.689435Z"
    }
   },
   "outputs": [],
   "source": [
    "dac_cutter(-200)"
   ]
  },
  {
   "cell_type": "code",
   "execution_count": null,
   "metadata": {
    "ExecuteTime": {
     "end_time": "2018-11-22T16:49:13.992795Z",
     "start_time": "2018-11-22T16:47:02.640978Z"
    },
    "scrolled": false
   },
   "outputs": [],
   "source": [
    "cur_cutter = station.ivvi.dac1()\n",
    "station.hetsrc.RF.power(-65)\n",
    "spec_frequencies=np.arange(5.285e9, 5.33e9, 0.4e6)\n",
    "spec_src=station.hetsrc\n",
    "\n",
    "ctl = ss.setup_soft_sweep(spec_frequencies, spec_src.frequency, integration_time=30e-3)\n",
    "\n",
    "so = sweep(dac_cutter, np.arange(cur_cutter, cur_cutter-5, -0.2))(\n",
    "    ss.measure_soft_time_avg_spec(spec_frequencies, spec_src, setup=False)\n",
    ")\n",
    "\n",
    "result = do_experiment(f\"resonator_gate_response/{SAMPLE}\", so, live_plot=True)"
   ]
  },
  {
   "cell_type": "markdown",
   "metadata": {},
   "source": [
    "### Vs plungers"
   ]
  },
  {
   "cell_type": "code",
   "execution_count": 32,
   "metadata": {
    "ExecuteTime": {
     "end_time": "2018-11-26T09:16:50.449073Z",
     "start_time": "2018-11-26T09:11:30.386242Z"
    }
   },
   "outputs": [
    {
     "name": "stdout",
     "output_type": "stream",
     "text": [
      "Starting experimental run with id: 727\n",
      "Done! 150 (5.32000e+09)\r"
     ]
    }
   ],
   "source": [
    "cur_plunger = dac_leftplunger()\n",
    "station.hetsrc.RF.power(-65)\n",
    "spec_frequencies=np.linspace(5.305e9, 5.32e9, 151)\n",
    "spec_src=station.hetsrc\n",
    "\n",
    "ctl = ss.setup_soft_sweep(spec_frequencies, spec_src.frequency, integration_time=30e-3)\n",
    "\n",
    "station.TWPA.on()\n",
    "so = sweep(set_plungers, np.arange(-200,-150.0,1))(\n",
    "    ss.measure_soft_time_avg_spec(spec_frequencies, spec_src)\n",
    ")\n",
    "\n",
    "result = do_experiment(f\"resonator_gate_response/{SAMPLE}\", so, live_plot=True)\n"
   ]
  },
  {
   "cell_type": "code",
   "execution_count": 29,
   "metadata": {
    "ExecuteTime": {
     "end_time": "2018-11-26T09:05:25.410264Z",
     "start_time": "2018-11-26T09:03:28.120155Z"
    }
   },
   "outputs": [
    {
     "name": "stdout",
     "output_type": "stream",
     "text": [
      "Starting experimental run with id: 726\n",
      "Done! 124 (5.32480e+09)\r"
     ]
    }
   ],
   "source": [
    "cur_plunger = dac_leftplunger_fine()\n",
    "station.hetsrc.RF.power(-65)\n",
    "spec_frequencies=np.arange(5.30e9, 5.325e9, 0.2e6)\n",
    "spec_src=station.hetsrc\n",
    "\n",
    "station.TWPA.on()\n",
    "\n",
    "ctl = ss.setup_soft_sweep(spec_frequencies, spec_src.frequency, integration_time=30e-3)\n",
    "\n",
    "so = sweep(dac_leftplunger_fine, np.arange(cur_plunger,cur_plunger+60,3))(\n",
    "    ss.measure_soft_time_avg_spec(spec_frequencies, spec_src, setup=False)\n",
    ")\n",
    "\n",
    "result = do_experiment(f\"resonator_gate_response/{SAMPLE}\", so, live_plot=True)\n",
    "\n"
   ]
  },
  {
   "cell_type": "code",
   "execution_count": null,
   "metadata": {
    "ExecuteTime": {
     "end_time": "2018-11-22T16:10:20.338235Z",
     "start_time": "2018-11-22T16:01:33.118448Z"
    }
   },
   "outputs": [],
   "source": [
    "cur_plunger = dac_leftplunger_fine()\n",
    "station.hetsrc.RF.power(-65)\n",
    "spec_frequencies=np.arange(5.300e9, 5.320e9, 0.2e6)\n",
    "spec_src=station.hetsrc\n",
    "\n",
    "ctl = ss.setup_single_averaged_IQpoint(0.2e-3, 30e-3, setup_awg=True)\n",
    "\n",
    "\n",
    "\n",
    "so = sweep(dac_leftplunger_fine, np.arange(cur_plunger,cur_plunger-60,-3))(sweep(spec_src.frequency, spec_frequencies)(\n",
    "    measure(ss.get_single_averaged_IQpoint_chanA),\n",
    "))\n",
    "    \n",
    "result = do_experiment(f'resonator_gate_response/{SAMPLE}', so, live_plot=True)"
   ]
  },
  {
   "cell_type": "markdown",
   "metadata": {},
   "source": [
    "# Qubit spec"
   ]
  },
  {
   "cell_type": "markdown",
   "metadata": {},
   "source": [
    "## Spec vs power"
   ]
  },
  {
   "cell_type": "code",
   "execution_count": null,
   "metadata": {
    "ExecuteTime": {
     "end_time": "2018-11-22T14:14:42.862580Z",
     "start_time": "2018-11-22T14:14:40.576Z"
    }
   },
   "outputs": [],
   "source": [
    "station.alazar.clock_source()"
   ]
  },
  {
   "cell_type": "code",
   "execution_count": null,
   "metadata": {
    "ExecuteTime": {
     "end_time": "2018-11-22T14:14:42.863564Z",
     "start_time": "2018-11-22T14:14:40.579Z"
    }
   },
   "outputs": [],
   "source": [
    "station = qcodes.Station.default #spec at one power\n",
    "station.hetsrc.RF.power(-60)\n",
    "station.hetsrc.frequency(5.3095e9)\n",
    "station.qubsrc.power(-5)\n",
    "qubit_frequencies = np.arange(4.2e9, 4.8e9, 10e6)\n",
    "spec_src=station.qubsrc\n",
    "\n",
    "ctl = ss.setup_soft_sweep(qubit_frequencies, spec_src.frequency, integration_time=100e-3)\n",
    "\n",
    "\n",
    "spec_src.output_rf('ON')\n",
    "so = ss.measure_soft_time_avg_spec(qubit_frequencies, spec_src, setup=False)\n",
    "\n",
    "result = do_experiment(f'qubit_spec/{SAMPLE}', so, live_plot=True)\n"
   ]
  },
  {
   "cell_type": "code",
   "execution_count": null,
   "metadata": {
    "ExecuteTime": {
     "end_time": "2018-11-22T14:14:42.864566Z",
     "start_time": "2018-11-22T14:14:40.582Z"
    }
   },
   "outputs": [],
   "source": [
    "\n",
    "station = qcodes.Station.default ##spec vs S1 power\n",
    "station.hetsrc.RF.power(-60)\n",
    "station.hetsrc.frequency(5.3095e9)\n",
    "station.qubsrc.power(-15)\n",
    "qubit_frequencies = np.arange(6.0e9, 7.2e9, 5e6)\n",
    "qubit_powers = np.linspace(-25,-5,6)\n",
    "spec_src=station.qubsrc\n",
    "\n",
    "ctl = ss.setup_soft_sweep(qubit_frequencies, spec_src.frequency, integration_time=30e-3)\n",
    "\n",
    "\n",
    "spec_src.output_rf('ON')\n",
    "so = sweep(station.qubsrc.power,qubit_powers)(\n",
    "    ss.measure_soft_time_avg_spec(qubit_frequencies, spec_src, setup=False))\n",
    "\n",
    "result = do_experiment(f'qubit_spec_vs_power/{SAMPLE}', so, live_plot=True)\n"
   ]
  },
  {
   "cell_type": "code",
   "execution_count": null,
   "metadata": {
    "ExecuteTime": {
     "end_time": "2018-11-22T14:14:42.864566Z",
     "start_time": "2018-11-22T14:14:40.586Z"
    }
   },
   "outputs": [],
   "source": [
    "station = qcodes.Station.default ##spec vs RF power\n",
    "station.hetsrc.RF.power(-60)\n",
    "station.hetsrc.frequency(5.3046e9)\n",
    "station.qubsrc.power(-5)\n",
    "qubit_frequencies = np.arange(4.4e9, 4.9e9, 10e6)\n",
    "RF_powers = np.linspace(-70,-40,5)\n",
    "spec_src=station.qubsrc\n",
    "\n",
    "ctl = ss.setup_soft_sweep(qubit_frequencies, spec_src.frequency, integration_time=100e-3)\n",
    "\n",
    "\n",
    "spec_src.output_rf('ON')\n",
    "so = sweep(station.hetsrc.RF.power,RF_powers)(\n",
    "    ss.measure_soft_time_avg_spec(qubit_frequencies, spec_src, integration_time=100e-3, setup=False))\n",
    "\n",
    "result = do_experiment(f'qubit_spec_vs_power/{SAMPLE}', so, live_plot=True)\n"
   ]
  },
  {
   "cell_type": "markdown",
   "metadata": {},
   "source": [
    "## Spec vs gates"
   ]
  },
  {
   "cell_type": "markdown",
   "metadata": {},
   "source": [
    "### Coarse scans (requiring resonator frequency change)"
   ]
  },
  {
   "cell_type": "code",
   "execution_count": null,
   "metadata": {
    "ExecuteTime": {
     "end_time": "2018-11-22T19:08:28.853349Z",
     "start_time": "2018-11-22T19:08:28.811315Z"
    }
   },
   "outputs": [],
   "source": [
    "station = qcodes.Station.default\n",
    "station.hetsrc.RF.power(-60)\n",
    "station.qubsrc.power(-20)\n",
    "het_freqs = np.arange(5.3e9,5.32e9,0.5e6)\n",
    "qub_freqs = np.arange(5.8e9, 7.0e9, 15e6)\n",
    "cur_cutter = dac_cutter()\n",
    "cutter_voltages = np.arange(-130., -100., 1)\n",
    "station.TWPA.on()\n",
    "spec_src=station.qubsrc\n",
    "spec_src.output_rf('ON')\n",
    "\n",
    "ctl = ss.setup_soft_sweep(het_freqs, station.hetsrc.frequency, integration_time=30e-3)\n",
    "so = sweep(dac_cutter, cutter_voltages)(\n",
    "    ss.measure_qubit_spec_optimize_resonator(het_freqs, station.hetsrc, \n",
    "                                           qub_freqs, spec_src, integration_time=30e-3)) \n",
    "\n",
    "#note that the two integration times must match!!\n",
    "\n",
    "result = do_experiment(f'optimizedqubit_spec/{SAMPLE}', so, live_plot=True)"
   ]
  },
  {
   "cell_type": "code",
   "execution_count": null,
   "metadata": {
    "ExecuteTime": {
     "end_time": "2018-11-23T20:13:18.726502Z",
     "start_time": "2018-11-23T17:34:06.448827Z"
    },
    "scrolled": false
   },
   "outputs": [],
   "source": [
    "station = qcodes.Station.default\n",
    "station.hetsrc.RF.power(-65)\n",
    "station.qubsrc.power(-20)\n",
    "het_freqs = np.arange(5.3e9,5.32e9,0.5e6)\n",
    "qub_freqs = np.arange(7.5e9, 10.5e9, 10e6)\n",
    "cur_cutter = dac_cutter()\n",
    "cutter_voltages = np.arange(-40., 80., 0.2)\n",
    "station.TWPA.on()\n",
    "\n",
    "ctl = ss.setup_soft_sweep(het_freqs, station.hetsrc.frequency, integration_time=30e-3)\n",
    "so = sweep(dac_cutter, cutter_voltages)(\n",
    "    ss.measure_qubit_spec_optimize_resonator(het_freqs, station.hetsrc, \n",
    "                                           qub_freqs, station.qubsrc, integration_time=30e-3)) \n",
    "\n",
    "#note that the two integration times must match!!\n",
    "\n",
    "result = do_experiment(f'optimizedqubit_spec/{SAMPLE}', so, live_plot=True)"
   ]
  },
  {
   "cell_type": "code",
   "execution_count": null,
   "metadata": {
    "ExecuteTime": {
     "end_time": "2018-11-24T00:38:34.937426Z",
     "start_time": "2018-11-23T20:13:18.728504Z"
    }
   },
   "outputs": [],
   "source": [
    "station = qcodes.Station.default\n",
    "station.hetsrc.RF.power(-65)\n",
    "station.qubsrc.power(-20)\n",
    "het_freqs = np.arange(5.3e9,5.335e9,0.5e6)\n",
    "qub_freqs = np.append(np.arange(3e9,4.9e9,10e6),np.arange(5.8e9, 6.8e9, 10e6))\n",
    "cur_cutter = dac_cutter()\n",
    "cutter_voltages = np.arange(-110., -300., -0.2)\n",
    "station.TWPA.on()\n",
    "\n",
    "ctl = ss.setup_soft_sweep(het_freqs, station.hetsrc.frequency, integration_time=30e-3)\n",
    "so = sweep(dac_cutter, cutter_voltages)(\n",
    "    ss.measure_qubit_spec_optimize_resonator(het_freqs, station.hetsrc, \n",
    "                                           qub_freqs, station.qubsrc, integration_time=30e-3)) \n",
    "\n",
    "#note that the two integration times must match!!\n",
    "\n",
    "result = do_experiment(f'optimizedqubit_spec/{SAMPLE}', so, live_plot=True)"
   ]
  },
  {
   "cell_type": "code",
   "execution_count": null,
   "metadata": {
    "ExecuteTime": {
     "end_time": "2018-11-24T06:02:14.515439Z",
     "start_time": "2018-11-24T00:38:34.938427Z"
    }
   },
   "outputs": [],
   "source": [
    "station = qcodes.Station.default\n",
    "station.hetsrc.RF.power(-65)\n",
    "station.qubsrc.power(-4)\n",
    "het_freqs = np.arange(5.3e9,5.32e9,0.5e6)\n",
    "qub_freqs = np.arange(6.0e9, 10.5e9, 10e6)\n",
    "cur_cutter = dac_cutter()\n",
    "cutter_voltages = np.arange(-130., 50., 0.2)\n",
    "station.TWPA.on()\n",
    "\n",
    "ctl = ss.setup_soft_sweep(het_freqs, station.hetsrc.frequency, integration_time=30e-3)\n",
    "so = sweep(dac_cutter, cutter_voltages)(\n",
    "    ss.measure_qubit_spec_optimize_resonator(het_freqs, station.hetsrc, \n",
    "                                           qub_freqs, station.qubsrc, integration_time=30e-3)) \n",
    "\n",
    "#note that the two integration times must match!!\n",
    "\n",
    "result = do_experiment(f'optimizedqubit_spec/{SAMPLE}', so, live_plot=True)"
   ]
  },
  {
   "cell_type": "markdown",
   "metadata": {},
   "source": [
    "### Fine scans (resonator does not change)"
   ]
  },
  {
   "cell_type": "code",
   "execution_count": null,
   "metadata": {
    "ExecuteTime": {
     "end_time": "2018-11-23T08:28:48.215040Z",
     "start_time": "2018-11-23T08:28:46.802600Z"
    }
   },
   "outputs": [],
   "source": [
    "dac_cutter(-110.)"
   ]
  },
  {
   "cell_type": "code",
   "execution_count": null,
   "metadata": {
    "ExecuteTime": {
     "end_time": "2018-11-23T08:29:08.657603Z",
     "start_time": "2018-11-23T08:29:01.933256Z"
    }
   },
   "outputs": [],
   "source": [
    "station.hetsrc.RF.power(-65)\n",
    "hetfreqs = np.arange(5.3e9, 5.325e9, 0.4e6)\n",
    "station.TWPA.on()\n",
    "ctl = ss.setup_soft_sweep(hetfreqs, station.hetsrc.frequency, integration_time=30e-3)\n",
    "testout = get_resonator_spec_and_fit(hetfreqs)\n",
    "\n",
    "plt.figure()\n",
    "plt.plot(hetfreqs,testout[0]**2,'-')\n",
    "plt.plot(hetfreqs,testout[2].best_fit)\n",
    "plt.xlabel('Frequency [GHz]')\n",
    "plt.ylabel('Magnitude**2 [a.u.]')\n",
    "plt.title('Center = %.4f GHz, FWHM = %.2f MHz, Q = %.2f' % (testout[2].params['center'].value*1e-9, 2*testout[2].params['sigma'].value*1e-6, testout[2].params['center'].value/(2*testout[2].params['sigma'].value)))"
   ]
  },
  {
   "cell_type": "code",
   "execution_count": null,
   "metadata": {
    "ExecuteTime": {
     "end_time": "2018-11-23T08:31:38.999765Z",
     "start_time": "2018-11-23T08:29:40.521692Z"
    }
   },
   "outputs": [],
   "source": [
    "station = qcodes.Station.default #charge dispersions\n",
    "station.hetsrc.RF.power(-65)\n",
    "station.hetsrc.frequency(5.3096e9)\n",
    "station.qubsrc.power(-25)\n",
    "qubit_frequencies = np.arange(5.8e9, 7.0e9, 10e6)\n",
    "# cur_plunger = dac_leftplunger_fine()\n",
    "plunger_voltages = np.arange(0., 60., 3)\n",
    "spec_src=station.qubsrc\n",
    "\n",
    "ctl = ss.setup_soft_sweep(qubit_frequencies, spec_src.frequency, integration_time=30e-3)\n",
    "\n",
    "station.TWPA.on()\n",
    "spec_src.on()\n",
    "so = sweep(dac_leftplunger_fine, plunger_voltages)(\n",
    "    ss.measure_soft_time_avg_spec(qubit_frequencies, spec_src, setup=False))\n",
    "\n",
    "result = do_experiment(f'charge_dispersions/{SAMPLE}', so, live_plot=True)\n"
   ]
  },
  {
   "cell_type": "code",
   "execution_count": null,
   "metadata": {
    "ExecuteTime": {
     "end_time": "2018-11-22T15:55:43.381510Z",
     "start_time": "2018-11-22T15:27:36.382254Z"
    }
   },
   "outputs": [],
   "source": [
    "for int_time in np.array([20e-3,30e-3,40e-3,50e-3]):\n",
    "    for S1_power in np.array([-40,-35,-25]):\n",
    "        station = qcodes.Station.default #charge dispersions\n",
    "        station.hetsrc.RF.power(-65)\n",
    "        station.hetsrc.frequency(5.3103e9)\n",
    "        station.qubsrc.power(S1_power)\n",
    "        qubit_frequencies = np.arange(5.8e9, 7.2e9, 10e6)\n",
    "        # cur_plunger = dac_leftplunger_fine()\n",
    "        plunger_voltages = np.arange(0., 60., 3)\n",
    "        spec_src=station.qubsrc\n",
    "\n",
    "        ctl = ss.setup_soft_sweep(qubit_frequencies, spec_src.frequency, integration_time=int_time)\n",
    "\n",
    "        station.TWPA.on()\n",
    "        spec_src.on()\n",
    "        so = sweep(dac_leftplunger_fine, plunger_voltages)(\n",
    "            ss.measure_soft_time_avg_spec(qubit_frequencies, spec_src, setup=False))\n",
    "\n",
    "        result = do_experiment(f'charge_dispersions/{SAMPLE}', so, live_plot=True)\n"
   ]
  },
  {
   "cell_type": "code",
   "execution_count": null,
   "metadata": {
    "ExecuteTime": {
     "end_time": "2018-11-22T14:14:42.870570Z",
     "start_time": "2018-11-22T14:14:40.609Z"
    }
   },
   "outputs": [],
   "source": [
    "station = qcodes.Station.default #charge dispersions with phase information\n",
    "station.hetsrc.RF.power(-50)\n",
    "station.hetsrc.frequency(5.3046e9)\n",
    "station.qubsrc.power(-5)\n",
    "qubit_frequencies = np.arange(4.0e9, 4.9e9, 10e6)\n",
    "cur_plunger = dac_leftplunger_fine()\n",
    "plunger_voltages = np.arange(0., 60., 2)\n",
    "spec_src=station.qubsrc\n",
    "\n",
    "ctl = ss.setup_single_averaged_IQpoint(0.2e-3, 100e-3, setup_awg=True)\n",
    "\n",
    "\n",
    "spec_src.output_rf('ON')\n",
    "so = sweep(dac_leftplunger_fine, plunger_voltages)(sweep(station.qubsrc.frequency, qubit_frequencies)(\n",
    "    measure(ss.get_single_averaged_IQpoint_chanA),\n",
    "))\n",
    "    \n",
    "result = do_experiment(f'charge_dispersions/{SAMPLE}', so, live_plot=True)"
   ]
  },
  {
   "cell_type": "markdown",
   "metadata": {},
   "source": [
    "# Quasiparticles"
   ]
  },
  {
   "cell_type": "code",
   "execution_count": null,
   "metadata": {},
   "outputs": [],
   "source": []
  },
  {
   "cell_type": "code",
   "execution_count": 36,
   "metadata": {
    "ExecuteTime": {
     "end_time": "2018-11-26T09:26:35.335442Z",
     "start_time": "2018-11-26T09:26:32.529336Z"
    }
   },
   "outputs": [
    {
     "name": "stderr",
     "output_type": "stream",
     "text": [
      "d:\\onedrive\\setups\\lk1\\lk1_code\\code\\qcodes\\qcodes\\instrument_drivers\\AlazarTech\\ATS.py:547: UserWarning: Using external 10 MHz Ref but parameter internal_sample_rate is set. This will have no effect and is ignored\n",
      "  warnings.warn(\"Using external 10 MHz Ref but parameter internal_sample_\"\n"
     ]
    },
    {
     "name": "stdout",
     "output_type": "stream",
     "text": [
      "Setup capture: 102.39999999999999 MB total\n",
      " * Buffers: 16 (6.3999999999999995 MB/buffer) | (Allocated buffers: 16 = 102.39999999999999 MB)\n",
      " * Records: 1 (6.3999999999999995 MB/record)\n",
      " * Samples: 1600000 (= 4000.0 us)\n",
      " * Channels: 2\n"
     ]
    }
   ],
   "source": [
    "from characterizations import quasiparticles as qpp\n",
    "from pytopo.awg_sequencing import awg_tools\n",
    "\n",
    "\n",
    "SR = 400e6\n",
    "IF = 25e6\n",
    "IF_per = int(SR/IF)\n",
    "t_max = 4e-3\n",
    "\n",
    "trig_seq = TriggerSequence(station.awg, SR=1e7)\n",
    "trig_seq.wait = 'off'\n",
    "trig_seq.setup_awg(cycle_time=t_max, debug_signal=False, ncycles=1, plot=False)\n",
    "\n",
    "npoints = t_max*SR\n",
    "ts = np.arange(npoints)/npoints*t_max\n",
    "\n",
    "#station.alazar.clock_source('INTERNAL_CLOCK')\n",
    "station.alazar.clock_source('EXTERNAL_CLOCK_10MHz_REF')\n",
    "station.alazar.sample_rate(int(SR))\n",
    "#station.alazar.sample_rate(SR)\n",
    "ctl = station.Qp_detector\n",
    "\n",
    "\n",
    "dIQ = np.exp(2.j*np.pi*np.arange(IF_per)/IF_per)\n",
    "#\n",
    "station.alazar.channel_range1(0.4)\n",
    "station.alazar.channel_range2(0.4)\n",
    "station.Qp_detector.setup_acquisition(npoints, 1, 16)\n",
    "awg = station.awg\n",
    "#awg_tools.trigger_awg_when_ready(awg)\n",
    "def take_data():\n",
    "    awg = station.awg\n",
    "    #awg_tools.trigger_awg_when_ready(awg)\n",
    "    \n",
    "    data = ctl.acquisition()\n",
    "    return data\n",
    "#plt.plot(dIQ)\n",
    "#station.awg.force_trigger()\n",
    "\n",
    "\n"
   ]
  },
  {
   "cell_type": "code",
   "execution_count": null,
   "metadata": {
    "ExecuteTime": {
     "end_time": "2018-11-23T13:18:26.671950Z",
     "start_time": "2018-11-23T13:18:26.667947Z"
    }
   },
   "outputs": [],
   "source": [
    "station.alazar.sample_rate()"
   ]
  },
  {
   "cell_type": "code",
   "execution_count": null,
   "metadata": {
    "ExecuteTime": {
     "end_time": "2018-11-23T13:23:55.622064Z",
     "start_time": "2018-11-23T13:23:54.850693Z"
    }
   },
   "outputs": [],
   "source": [
    "#station.hetsrc.frequency(5.314e9)\n",
    "station.TWPA.on()\n",
    "data = take_data()\n",
    "fake = np.cos(2*np.pi*ts*IF)\n",
    "t_dat = 1.*data[0,5,0,:,1]\n",
    "HIdat = 1.*data[0,0,0,:,0]\n",
    "HIdatl = 1.*data[0,0,0,:,1] \n",
    "fs, PSD = qpp.PSD(ts, t_dat)\n",
    "fs/=1e6\n",
    "plt.figure('A')\n",
    "plt.plot(fs[1:int(npoints/2)], PSD[1:int(npoints/2)])\n",
    "plt.yscale('log')\n",
    "t_dat = 1.*data[0,8,0,:,1]\n",
    "fs, PSD = qpp.PSD(ts, t_dat)\n",
    "fs/=1e6\n",
    "plt.figure('B')\n",
    "plt.plot(fs[1:int(npoints/2)], PSD[1:int(npoints/2)])\n",
    "plt.yscale('log')\n",
    "#plt.xscale('log')\n",
    "fs\n",
    "if 0:\n",
    "    station.TWPA.off()\n",
    "    data = take_data()\n",
    "    fake = np.cos(2*np.pi*ts*IF)\n",
    "    t_dat = 1.*data[0,0,0,:,0]\n",
    "    fs, PSD = qpp.PSD(ts, t_dat)\n",
    "    fs/=1e6\n",
    "    plt.figure('A')\n",
    "    plt.plot(fs[1:int(npoints/2)], PSD[1:int(npoints/2)])\n",
    "    plt.yscale('log')\n",
    "    t_dat = 1.*data[0,4,0,:,1]\n",
    "    fs, PSD = qpp.PSD(ts, t_dat)\n",
    "    fs/=1e6\n",
    "    plt.figure('B')\n",
    "    plt.plot(fs[1:int(npoints/2)], PSD[1:int(npoints/2)])\n",
    "    plt.yscale('log')\n",
    "    #plt.xscale('log')\n",
    "    fs"
   ]
  },
  {
   "cell_type": "code",
   "execution_count": null,
   "metadata": {
    "ExecuteTime": {
     "end_time": "2018-11-23T12:55:02.128712Z",
     "start_time": "2018-11-23T12:55:02.103105Z"
    },
    "scrolled": true
   },
   "outputs": [],
   "source": [
    "plt.figure()\n",
    "plt.plot(50000*HIdat[:5000]+33000)\n",
    "plt.plot(50000*HIdatl[:5000]+33000)\n",
    "plt.plot(ctl.data[:5000:2])\n",
    "plt.plot(ctl.data[1:5000:2])\n"
   ]
  },
  {
   "cell_type": "code",
   "execution_count": null,
   "metadata": {
    "ExecuteTime": {
     "end_time": "2018-11-23T12:50:58.904703Z",
     "start_time": "2018-11-23T12:50:58.900717Z"
    }
   },
   "outputs": [],
   "source": [
    "station.LO.frequency(5289000000.0+50e6)"
   ]
  },
  {
   "cell_type": "code",
   "execution_count": null,
   "metadata": {
    "ExecuteTime": {
     "end_time": "2018-11-23T13:31:56.871204Z",
     "start_time": "2018-11-23T13:31:56.439836Z"
    }
   },
   "outputs": [],
   "source": [
    "reload(qpp)\n",
    "t_dat = data[0,:,0,:,0]\n",
    "ref = data[0,:,0,:,1]\n",
    "len(dIQ)\n",
    "#t_dat = np.cos(2*np.pi*IF*ts)\n",
    "ind =15\n",
    "demod_trace = qpp.demod(t_dat[ind,:], dIQ, 20)\n",
    "plt.figure()\n",
    "plt.plot(demod_trace.real)\n",
    "plt.plot(demod_trace.imag)\n",
    "\n",
    "demod_trace = qpp.demod(t_dat[4,:], dIQ, 200, reference = ref[4,:])\n",
    "plt.plot(demod_trace.real)\n",
    "plt.plot(demod_trace.imag)\n",
    "\n",
    "plt.figure()\n",
    "plt.plot(ref[ind,:])\n",
    "plt.plot(t_dat[ind,:])"
   ]
  },
  {
   "cell_type": "code",
   "execution_count": null,
   "metadata": {
    "ExecuteTime": {
     "start_time": "2018-11-23T13:33:11.265Z"
    }
   },
   "outputs": [],
   "source": [
    "plt.figur\n",
    "plt.plot(ctl.data[::2])"
   ]
  },
  {
   "cell_type": "code",
   "execution_count": null,
   "metadata": {
    "ExecuteTime": {
     "end_time": "2018-11-23T09:43:47.614538Z",
     "start_time": "2018-11-23T09:43:01.513292Z"
    }
   },
   "outputs": [],
   "source": [
    "SR = 400e6\n",
    "IF = 25e6\n",
    "IF_per = int(SR/IF)\n",
    "t_max = 1e-3\n",
    "\n",
    "#station.alazar.clock_source('INTERNAL_CLOCK')\n",
    "station.alazar.clock_source('EXTERNAL_CLOCK_10MHz_REF')\n",
    "station.alazar.external_sample_rate(int(SR))\n",
    "#station.alazar.sample_rate(SR)\n",
    "ctl = station.Qp_detector\n",
    "\n",
    "npoints = t_max*SR\n",
    "dIQ = np.exp(2.j*np.pi*np.arange(IF_per)/IF_per)\n",
    "#\n",
    "station.alazar.channel_range1(0.4)\n",
    "station.alazar.channel_range2(0.4)\n",
    "station.Qp_detector.setup_acquisition(npoints, 1, 32)\n",
    "\n",
    "freqs = np.linspace(5.,5.4, 201)\n",
    "def get_IQ():\n",
    "    data = take_data()\n",
    "    avg_dat = np.average(data[0,:,0,:,0], axis = 0)\n",
    "    IQ = np.average(qpp.demod(avg_dat, dIQ, 1))\n",
    "    return IQ\n",
    "    \n",
    "IQs = []\n",
    "for freq in freqs:\n",
    "    station.hetsrc.frequency(freq*1e9)\n",
    "    IQs += [get_IQ()]\n",
    "plt.figure()\n",
    "plt.subplot(211)\n",
    "plt.plot(freqs, np.abs(IQs)**2)\n",
    "plt.subplot(212)\n",
    "plt.plot(freqs, np.angle(IQs, deg = True))\n"
   ]
  },
  {
   "cell_type": "code",
   "execution_count": null,
   "metadata": {
    "ExecuteTime": {
     "end_time": "2018-11-23T10:55:54.318520Z",
     "start_time": "2018-11-23T10:55:49.265766Z"
    }
   },
   "outputs": [],
   "source": [
    "from pytopo.qctools import instruments as instools\n",
    "from qcodes.instrument_drivers.rigol.DG1062 import DG1062\n",
    "FG = instools.create_inst(DG1062, 'FG', address='USB0::0x1AB1::0x0588::DG1D131502496::INSTR', force_new_instance=True)"
   ]
  },
  {
   "cell_type": "code",
   "execution_count": null,
   "metadata": {},
   "outputs": [],
   "source": [
    "from characterizations import quasiparticles as qpp\n",
    "ctl = station.softsweep_ctl\n",
    "plt.figure()\n",
    "for kk in range(10):\n",
    "    ctl.acquisition()\n",
    "    dat = ctl.data\n",
    "    plt.plot(dat[:100:2])\n",
    "    plt.plot(dat[1:100+1:2])\n",
    "IF_per = ctl.sample_rate()/25e6\n"
   ]
  },
  {
   "cell_type": "code",
   "execution_count": null,
   "metadata": {},
   "outputs": [],
   "source": [
    "from characterizations import quasiparticles as qpp\n",
    "ctl = station.softsweep_ctl\n",
    "plt.figure()\n",
    "ctl.acquisition()\n",
    "dat = ctl.data\n",
    "plt.plot(dat[:100:2])\n",
    "plt.plot(dat[1:100+1:2])\n",
    "IF_per = ctl.sample_rate()/25e6\n"
   ]
  },
  {
   "cell_type": "code",
   "execution_count": null,
   "metadata": {
    "ExecuteTime": {
     "end_time": "2018-11-22T14:14:42.874572Z",
     "start_time": "2018-11-22T14:14:40.626Z"
    }
   },
   "outputs": [],
   "source": [
    "station.hetsrc.IF(25e6)\n",
    "station.hetsrc.frequency(5*1e9)\n",
    "station.LO.frequency(5.1e9)\n"
   ]
  },
  {
   "cell_type": "markdown",
   "metadata": {},
   "source": [
    "# Magnetic Field Sweeps"
   ]
  },
  {
   "cell_type": "markdown",
   "metadata": {},
   "source": [
    "## TESTING UNDER DEVELOPMENT DO NOT USE UNLESS YOU ARE SURE"
   ]
  },
  {
   "cell_type": "code",
   "execution_count": null,
   "metadata": {
    "ExecuteTime": {
     "end_time": "2018-11-22T14:14:42.875573Z",
     "start_time": "2018-11-22T14:14:40.630Z"
    }
   },
   "outputs": [],
   "source": [
    "print('Measured field = ' + station.mgnt.field_measured().repr_spherical())\n",
    "#print('Measured field = ' + station.mgnt.field_measured().repr_cartesian())\n",
    "print('Target field = ' + station.mgnt.field_target().repr_spherical())\n",
    "#print('Target field = ' + station.mgnt.field_target().repr_cartesian())"
   ]
  },
  {
   "cell_type": "markdown",
   "metadata": {},
   "source": [
    "### Get resonator trace and plot"
   ]
  },
  {
   "cell_type": "code",
   "execution_count": null,
   "metadata": {
    "ExecuteTime": {
     "end_time": "2018-11-22T14:14:42.876574Z",
     "start_time": "2018-11-22T14:14:40.634Z"
    }
   },
   "outputs": [],
   "source": [
    "station.hetsrc.frequency(5.3e9)\n",
    "\n",
    "\n",
    "#ctl = ss.setup_soft_sweep(het_freqs, station.hetsrc.frequency, integration_time=30e-3)\n",
    "#testout = get_resonator_spec_and_fit(het_freqs)\n",
    "#testout.params['center'].value, testout.params['center'].stderr\n"
   ]
  },
  {
   "cell_type": "markdown",
   "metadata": {},
   "source": [
    "## Manual Magnet Sweeps"
   ]
  },
  {
   "cell_type": "code",
   "execution_count": null,
   "metadata": {
    "ExecuteTime": {
     "end_time": "2018-11-22T14:14:42.876574Z",
     "start_time": "2018-11-22T14:14:40.637Z"
    }
   },
   "outputs": [],
   "source": [
    "station.mgnt.ramp()"
   ]
  },
  {
   "cell_type": "code",
   "execution_count": null,
   "metadata": {
    "ExecuteTime": {
     "end_time": "2018-11-22T14:14:42.877574Z",
     "start_time": "2018-11-22T14:14:40.641Z"
    },
    "scrolled": true
   },
   "outputs": [],
   "source": [
    "#station.mgnt.field_ramp_rate(FieldVector(x=1e-3, y=1e-3, z=1e-3)) ##sweep r\n",
    "\n",
    "\n",
    "cur_r = station.mgnt.r_measured()\n",
    "station.hetsrc.RF.power(-30)\n",
    "spec_frequencies=np.arange(5.28e9, 5.316e9, 0.5e6)\n",
    "spec_src=station.hetsrc\n",
    "\n",
    "ctl = ss.setup_soft_sweep(spec_frequencies, spec_src.frequency, integration_time=30e-3)\n",
    "\n",
    "\n",
    "so = sweep(set_magnet_r, np.arange(cur_r,0.1e-3,-10e-3))(\n",
    "    ss.measure_soft_time_avg_spec(spec_frequencies, spec_src.frequency, setup=False)\n",
    ")\n",
    "\n",
    "result = do_experiment(f\"resonator_magnet_r/{SAMPLE}\", so, live_plot=True)\n",
    "\n",
    "\n"
   ]
  },
  {
   "cell_type": "code",
   "execution_count": null,
   "metadata": {
    "ExecuteTime": {
     "end_time": "2018-11-22T14:14:42.878575Z",
     "start_time": "2018-11-22T14:14:40.644Z"
    }
   },
   "outputs": [],
   "source": [
    "if station.mgnt.r_measured() > 0.015:\n",
    "    cur_theta = station.mgnt.theta_measured() ##makes sure you don't get jumps if you are not exactly @ setpoint\n",
    "else:\n",
    "    cur_theta = station.mgnt.theta_target() #makes sure theta doesn't change sign when phi is not well defined\n",
    "\n",
    "station.hetsrc.RF.power(-30)\n",
    "spec_frequencies=np.arange(5.2850e9, 5.310e9, 0.5e6)\n",
    "spec_src=station.hetsrc\n",
    "\n",
    "ctl = ss.setup_soft_sweep(spec_frequencies, spec_src.frequency, integration_time=30e-3)\n",
    "\n",
    "\n",
    "so = sweep(set_magnet_theta, np.arange(cur_theta,cur_theta-0.01, -0.0005))(\n",
    "    ss.measure_soft_time_avg_spec(spec_frequencies, spec_src.frequency, setup=False)\n",
    ")\n",
    "\n",
    "result = do_experiment(f\"resonator_magnet_theta/{SAMPLE}\", so, live_plot=True)\n",
    "\n"
   ]
  },
  {
   "cell_type": "code",
   "execution_count": null,
   "metadata": {
    "ExecuteTime": {
     "end_time": "2018-11-22T14:14:42.879576Z",
     "start_time": "2018-11-22T14:14:40.647Z"
    }
   },
   "outputs": [],
   "source": [
    "if station.mgnt.r_measured() > 0.015:\n",
    "    cur_phi = station.mgnt.phi_measured() ##makes sure you don't get jumps if you are not exactly @ setpoint\n",
    "else:\n",
    "    cur_phi = station.mgnt.phi_target() #makes sure theta doesn't change sign when phi is not well defined\n",
    "\n",
    "station.hetsrc.RF.power(-30)\n",
    "spec_frequencies=np.arange(5.290e9, 5.315e9, 0.5e6)\n",
    "spec_src=station.hetsrc\n",
    "\n",
    "ctl = ss.setup_soft_sweep(spec_frequencies, spec_src.frequency, integration_time=30e-3)\n",
    "\n",
    "\n",
    "so = sweep(set_magnet_phi, np.arange(cur_phi,cur_phi+6, 0.5))(\n",
    "    ss.measure_soft_time_avg_spec(spec_frequencies, spec_src.frequency, setup=False)\n",
    ")\n",
    "\n",
    "result = do_experiment(f\"resonator_magnet_phi/{SAMPLE}\", so, live_plot=True)\n",
    "\n"
   ]
  },
  {
   "cell_type": "markdown",
   "metadata": {
    "ExecuteTime": {
     "end_time": "2018-11-01T12:33:25.214315Z",
     "start_time": "2018-11-01T12:33:25.212314Z"
    }
   },
   "source": [
    "## Automated Magnet Sweeps"
   ]
  },
  {
   "cell_type": "code",
   "execution_count": null,
   "metadata": {
    "ExecuteTime": {
     "end_time": "2018-11-22T14:14:42.879576Z",
     "start_time": "2018-11-22T14:14:40.650Z"
    }
   },
   "outputs": [],
   "source": [
    "from pytopo.field_optimization.movement import FieldOptimizationProblem ##optimize at fixed mag"
   ]
  },
  {
   "cell_type": "code",
   "execution_count": null,
   "metadata": {
    "ExecuteTime": {
     "end_time": "2018-11-22T14:14:42.880577Z",
     "start_time": "2018-11-22T14:14:40.654Z"
    }
   },
   "outputs": [],
   "source": [
    "xvals = np.arange(5.29e9,5.32e9,0.5e6)\n",
    "    \n",
    "fig = plt.figure()\n",
    "ax = fig.add_subplot(111)\n",
    "ax.set_xlabel('X values')\n",
    "ax.set_ylabel('Y values')\n",
    "line = ax.plot(xvals, np.zeros_like(xvals), '.-')[0]\n",
    "\n",
    "ctl = ss.setup_soft_sweep(xvals, station.hetsrc.frequency, integration_time=30e-3)\n",
    "\n",
    "# now we wrap the measure function such that it doesn't need arguments anymore\n",
    "# of course this requires that we have already good constant values for ax and line\n",
    "measure_trace = partial(measure_and_plot_resonator, ax, line)\n",
    "\n",
    "# now we just have to call the new function wrapper without arguments\n",
    "\n",
    "\n",
    "field_opt = FieldOptimizationProblem(station.mgnt, measure_trace, get_resonator_FWHM)\n",
    "\n",
    "\n",
    "\n",
    "cur_r = station.mgnt.r_target()\n",
    "cur_theta = station.mgnt.theta_target()\n",
    "cur_phi = station.mgnt.phi_target()\n",
    "\n",
    "with station.TWPA():\n",
    "    opt, extra = field_opt.optimize_at_fixed_magnitude(\n",
    "        cur_r, (cur_phi-3, cur_phi+3), 2,(cur_theta-0.1, cur_theta+0.1), 2,\n",
    "        plot=True, return_extra=True, verbose=True, ramp_rate=1e-3, n_steps=3\n",
    "    )\n",
    "# station.TWPA.off()"
   ]
  },
  {
   "cell_type": "code",
   "execution_count": null,
   "metadata": {
    "ExecuteTime": {
     "end_time": "2018-11-22T14:14:42.881578Z",
     "start_time": "2018-11-22T14:14:40.657Z"
    }
   },
   "outputs": [],
   "source": [
    "station.mgnt.r_measured()"
   ]
  },
  {
   "cell_type": "code",
   "execution_count": null,
   "metadata": {
    "ExecuteTime": {
     "end_time": "2018-11-22T14:14:42.881578Z",
     "start_time": "2018-11-22T14:14:40.660Z"
    },
    "scrolled": false
   },
   "outputs": [],
   "source": [
    "station.RF.power(-30)\n",
    "xvals = np.arange(5.295e9,5.317e9,0.4e6)\n",
    "    \n",
    "fig = plt.figure()\n",
    "ax = fig.add_subplot(111)\n",
    "ax.set_xlabel('X values')\n",
    "ax.set_ylabel('Y values')\n",
    "line = ax.plot(xvals, np.zeros_like(xvals), '.-')[0]\n",
    "\n",
    "ctl = ss.setup_soft_sweep(xvals, station.hetsrc.frequency, integration_time=30e-3)\n",
    "\n",
    "# now we wrap the measure function such that it doesn't need arguments anymore\n",
    "# of course this requires that we have already good constant values for ax and line\n",
    "measure_trace = partial(measure_and_plot_resonator, ax, line)\n",
    "\n",
    "# now we just have to call the new function wrapper without arguments\n",
    "\n",
    "\n",
    "field_opt = FieldOptimizationProblem(station.mgnt, measure_trace, get_resonator_FWHM)\n",
    "\n",
    "\n",
    "\n",
    "cur_r = station.mgnt.r_measured()\n",
    "cur_theta = station.mgnt.theta_measured()\n",
    "cur_phi = station.mgnt.phi_measured()\n",
    "\n",
    "\n",
    "#with station.TWPA():\n",
    "optimum, extra = field_opt.optimize_and_ramp_magnitude(\n",
    "    cur_r, 1000e-3, 300,\n",
    "    cur_phi, 0, 1,\n",
    "    cur_theta, 0.0025, 3,\n",
    "    reoptimization_threshold=4.,\n",
    "    ramp_rate=3e-3,\n",
    "    n_steps=7,\n",
    "    return_extra=True\n",
    "    )\n",
    "\n",
    "# # station.TWPA.off()"
   ]
  },
  {
   "cell_type": "code",
   "execution_count": null,
   "metadata": {
    "ExecuteTime": {
     "end_time": "2018-11-22T14:14:42.882578Z",
     "start_time": "2018-11-22T14:14:40.663Z"
    }
   },
   "outputs": [],
   "source": [
    "plt.figure()\n",
    "plt.plot(\n",
    "    [field.phi for field in extra['history']['optima']],\n",
    "    [field.theta for field in extra['history']['optima']],\n",
    "    zorder=-10\n",
    ")\n",
    "plt.scatter(\n",
    "    [field.phi for field in extra['history']['optima']],\n",
    "    [field.theta for field in extra['history']['optima']],\n",
    "    c=[field.r for field in extra['history']['optima']]\n",
    ")\n",
    "plt.colorbar()"
   ]
  },
  {
   "cell_type": "code",
   "execution_count": null,
   "metadata": {
    "ExecuteTime": {
     "end_time": "2018-11-22T14:14:42.883579Z",
     "start_time": "2018-11-22T14:14:40.666Z"
    }
   },
   "outputs": [],
   "source": [
    "plt.figure()\n",
    "plt.plot(extra['history']['objectives'])"
   ]
  },
  {
   "cell_type": "markdown",
   "metadata": {
    "heading_collapsed": true
   },
   "source": [
    "# OLD STUFF BELOW - ONLY REFERENCE"
   ]
  },
  {
   "cell_type": "code",
   "execution_count": null,
   "metadata": {
    "ExecuteTime": {
     "end_time": "2018-11-22T14:14:42.884580Z",
     "start_time": "2018-11-22T14:14:40.670Z"
    },
    "hidden": true,
    "scrolled": false
   },
   "outputs": [],
   "source": [
    "frqs, data = soft_resonator_spec(5.6e9, 5.7e9, 1e6, RF_power=-70)"
   ]
  },
  {
   "cell_type": "markdown",
   "metadata": {
    "heading_collapsed": true,
    "hidden": true
   },
   "source": [
    "## Resonator vs time"
   ]
  },
  {
   "cell_type": "code",
   "execution_count": null,
   "metadata": {
    "ExecuteTime": {
     "end_time": "2018-11-22T14:14:42.885581Z",
     "start_time": "2018-11-22T14:14:40.674Z"
    },
    "hidden": true
   },
   "outputs": [],
   "source": [
    "start, stop, step = 5.6e9, 5.7e9, 2e6\n",
    "integration_time = 10e-3\n",
    "trigger_interval = 1e-3\n",
    "\n",
    "exp = new_experiment(name='resonator_spec_vs_time', sample_name=qc.config.user.experiment.sample_name)\n",
    "\n",
    "# set basic RF stuff\n",
    "station.hetsrc.RF.power(-70)\n",
    "\n",
    "ctl = station.post_iq_acq\n",
    "ctl.average_buffers(True)\n",
    "ctl.demod_frq(station.hetsrc.IF())\n",
    "\n",
    "SR = station.alazar.sample_rate()\n",
    "t_buf = trigger_interval - 10e-6\n",
    "nbufs = int(integration_time // trigger_interval)\n",
    "\n",
    "acq_size = 2 * integration_time * SR * 1e-6 # in MB\n",
    "buf_size = 2 * t_buf * SR * 1e-6\n",
    "print(f'acquisition size: {acq_size} MB; {buf_size} MB/buffer.')  \n",
    "print(f'acquisition time/buffer: {t_buf*1e6} us; {nbufs} buffers.')\n",
    "\n",
    "ctl.setup_acquisition(\n",
    "    samples=int(t_buf * SR // 64 * 64),\n",
    "    records=1,\n",
    "    buffers=nbufs,\n",
    "    allocated_buffers=10,\n",
    ")\n",
    "\n",
    "tvals = np.arange(100)\n",
    "frqs = np.arange(start, stop+step, step)\n",
    "data = np.zeros((frqs.size, 2), dtype=np.complex64)\n",
    "\n",
    "m = acquisition_tools.AlazarMeasurement(\n",
    "    station=station, exp=exp, \n",
    "    soft_params=['iteration', station.hetsrc.frequency],\n",
    "    hard_axes=[\n",
    "        ('channel', np.array([1,2])),\n",
    "    ],\n",
    "    imag=False, real=False, mag=True, phase=True,\n",
    ")\n",
    "\n",
    "with m.run() as datasaver:\n",
    "\n",
    "    datasaver.dataset.subscribe(\n",
    "        QcodesDatasetSubscriber(datasaver.dataset), \n",
    "        state=[], min_wait=0, min_count=1,\n",
    "    )\n",
    "\n",
    "    for j, it in enumerate(tvals):\n",
    "        for i, f in enumerate(frqs):\n",
    "            print(f'Current iteration: {it}. Current frequency: {f*1e-6:.2f} MHz', end='\\r')\n",
    "            station.hetsrc.frequency(f)\n",
    "            time.sleep(0.01)\n",
    "\n",
    "            _data = ctl.acquisition()[0,0,0,:]\n",
    "            data[i,:] = _data\n",
    "            mag, phase = np.abs(_data), np.angle(_data, deg=True)\n",
    "\n",
    "            result = m.get_result(_data, (station.hetsrc.frequency, f), ('iteration', it))\n",
    "            datasaver.add_result(*result)"
   ]
  },
  {
   "cell_type": "markdown",
   "metadata": {
    "heading_collapsed": true
   },
   "source": [
    "# Gate response"
   ]
  },
  {
   "cell_type": "code",
   "execution_count": null,
   "metadata": {
    "ExecuteTime": {
     "end_time": "2018-11-22T14:14:42.885581Z",
     "start_time": "2018-11-22T14:14:40.677Z"
    },
    "hidden": true
   },
   "outputs": [],
   "source": [
    "station.hetsrc.frequency(5.647e9)\n",
    "station.hetsrc.RF.power(-70)\n",
    "SR = station.alazar.sample_rate()\n",
    "dac = station.ivvi.dac1\n",
    "dacl = station.ivvi.dac11\n",
    "dacr = station.ivvi.dac13\n",
    "\n",
    "station = qc.Station.default\n",
    "exp = new_experiment(name='gate_response', sample_name=qc.config.user.experiment.sample_name)\n",
    "\n",
    "ctl = station.post_iq_acq\n",
    "ctl.average_buffers(True)\n",
    "ctl.demod_frq(station.hetsrc.IF())\n",
    "\n",
    "ctl.setup_acquisition(\n",
    "        samples=int(980e-6 * SR // 64 * 64),\n",
    "        records=1,\n",
    "        buffers=10,\n",
    "        allocated_buffers=10,\n",
    "    )\n",
    "\n",
    "gatevals = np.arange(0, 1000, 0.5)\n",
    "\n",
    "m = acquisition_tools.AlazarMeasurement(\n",
    "        station=station, exp=exp, \n",
    "        soft_params=[dacl],\n",
    "        hard_axes=[\n",
    "            ('channel', np.array([1,2])),\n",
    "        ],\n",
    "        imag=False, real=False, mag=True, phase=True,\n",
    "    )\n",
    "\n",
    "with m.run() as datasaver:\n",
    "        \n",
    "    datasaver.dataset.subscribe(\n",
    "        QcodesDatasetSubscriber(datasaver.dataset), \n",
    "        state=[], min_wait=0, min_count=1,\n",
    "    )\n",
    "\n",
    "    for i, g in enumerate(gatevals):\n",
    "        print(f'Current gate voltage: {g} mV', end='\\r')\n",
    "        dacl(int(g))\n",
    "        dacr(int(g))\n",
    "        dac(int(g))\n",
    "\n",
    "        _data = ctl.acquisition()[0,0,0,:]\n",
    "        mag, phase = np.abs(_data), np.angle(_data, deg=True)\n",
    "\n",
    "        result = m.get_result(_data, (dacl, g))\n",
    "        datasaver.add_result(*result)"
   ]
  },
  {
   "cell_type": "code",
   "execution_count": null,
   "metadata": {
    "hidden": true
   },
   "outputs": [],
   "source": []
  },
  {
   "cell_type": "markdown",
   "metadata": {},
   "source": [
    "# Qubit spec"
   ]
  },
  {
   "cell_type": "code",
   "execution_count": null,
   "metadata": {},
   "outputs": [],
   "source": []
  },
  {
   "cell_type": "markdown",
   "metadata": {},
   "source": [
    "# Scribble"
   ]
  },
  {
   "cell_type": "code",
   "execution_count": null,
   "metadata": {},
   "outputs": [],
   "source": []
  },
  {
   "cell_type": "code",
   "execution_count": null,
   "metadata": {
    "ExecuteTime": {
     "end_time": "2018-11-22T14:14:42.886581Z",
     "start_time": "2018-11-22T14:14:40.687Z"
    }
   },
   "outputs": [],
   "source": [
    "f\"{123456:1.3e}\""
   ]
  },
  {
   "cell_type": "code",
   "execution_count": null,
   "metadata": {},
   "outputs": [],
   "source": []
  }
 ],
 "metadata": {
  "kernelspec": {
   "display_name": "Python 3",
   "language": "python",
   "name": "python3"
  },
  "language_info": {
   "codemirror_mode": {
    "name": "ipython",
    "version": 3
   },
   "file_extension": ".py",
   "mimetype": "text/x-python",
   "name": "python",
   "nbconvert_exporter": "python",
   "pygments_lexer": "ipython3",
   "version": "3.6.6"
  },
  "toc": {
   "base_numbering": 1,
   "nav_menu": {},
   "number_sections": true,
   "sideBar": true,
   "skip_h1_title": false,
   "title_cell": "Table of Contents",
   "title_sidebar": "Contents",
   "toc_cell": false,
   "toc_position": {
    "height": "calc(100% - 180px)",
    "left": "10px",
    "top": "150px",
    "width": "324.74px"
   },
   "toc_section_display": true,
   "toc_window_display": true
  }
 },
 "nbformat": 4,
 "nbformat_minor": 2
}

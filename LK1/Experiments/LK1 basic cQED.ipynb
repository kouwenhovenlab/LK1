{
 "cells": [
  {
   "cell_type": "code",
   "execution_count": null,
   "metadata": {
    "ExecuteTime": {
     "end_time": "2018-11-26T08:56:07.157950Z",
     "start_time": "2018-11-26T08:55:57.382259Z"
    },
    "init_cell": true
   },
   "outputs": [],
   "source": [
    "%matplotlib notebook\n",
    "\n",
    "import logging\n",
    "import time\n",
    "from importlib import reload\n",
    "\n",
    "from matplotlib import pyplot as plt\n",
    "from matplotlib import colors, cm\n",
    "import numpy as np\n",
    "\n",
    "import qcodes\n",
    "import qcodes as qc\n",
    "from qcodes.instrument.parameter import Parameter\n",
    "from qcodes.dataset.measurements import Measurement\n",
    "from qcodes.dataset.experiment_container import new_experiment"
   ]
  },
  {
   "cell_type": "code",
   "execution_count": null,
   "metadata": {},
   "outputs": [],
   "source": []
  },
  {
   "cell_type": "code",
   "execution_count": null,
   "metadata": {
    "ExecuteTime": {
     "end_time": "2018-11-26T08:56:07.162957Z",
     "start_time": "2018-11-26T08:56:07.158954Z"
    }
   },
   "outputs": [],
   "source": [
    "# %qtconsole"
   ]
  },
  {
   "cell_type": "markdown",
   "metadata": {},
   "source": [
    "# Custom imports"
   ]
  },
  {
   "cell_type": "code",
   "execution_count": null,
   "metadata": {
    "ExecuteTime": {
     "end_time": "2018-11-26T08:56:09.140289Z",
     "start_time": "2018-11-26T08:56:07.163957Z"
    },
    "init_cell": true
   },
   "outputs": [],
   "source": [
    "from pytopo.awg_sequencing import broadbean as bbtools; reload(bbtools)\n",
    "from pytopo.awg_sequencing import awg_tools; reload(awg_tools)\n",
    "from pytopo.rf.alazar import acquisition_tools; reload(acquisition_tools)\n",
    "from pytopo.rf.alazar import awg_sequences; reload(awg_sequences)\n",
    "from pytopo.rf.alazar import acquisition_controllers; reload(acquisition_controllers)\n",
    "\n",
    "#from plottr import qcodes_dataset; reload(qcodes_dataset)\n",
    "#from plottr.qcodes_dataset import QcodesDatasetSubscriber"
   ]
  },
  {
   "cell_type": "code",
   "execution_count": null,
   "metadata": {
    "ExecuteTime": {
     "end_time": "2018-11-26T08:56:11.594930Z",
     "start_time": "2018-11-26T08:56:09.141774Z"
    },
    "init_cell": true
   },
   "outputs": [],
   "source": [
    "from qcodes.instrument.parameter import Parameter\n",
    "from qcodes.dataset.plotting import plot_by_id\n",
    "from qcodes.dataset.data_export import get_data_by_id\n",
    "\n",
    "from pytopo.sweep.base import Nest, Chain \n",
    "from pytopo.sweep.decorators import getter, setter\n",
    "from pytopo.sweep import sweep, do_experiment, hardsweep, measure\n",
    "\n",
    "from qcodes.math.field_vector import FieldVector\n",
    "from pytopo.field_optimization.movement import FieldOptimizationProblem \n",
    "from pytopo.cQED import softwarespec as ss"
   ]
  },
  {
   "cell_type": "markdown",
   "metadata": {},
   "source": [
    "# Measurement functions"
   ]
  },
  {
   "cell_type": "markdown",
   "metadata": {},
   "source": [
    "## Qubit measurements"
   ]
  },
  {
   "cell_type": "code",
   "execution_count": null,
   "metadata": {
    "ExecuteTime": {
     "end_time": "2018-11-26T08:56:11.602919Z",
     "start_time": "2018-11-26T08:56:11.596431Z"
    },
    "init_cell": true
   },
   "outputs": [],
   "source": [
    "from lmfit.models import LorentzianModel\n",
    "def fit_lorentzian(x,y):\n",
    "    mod = LorentzianModel()\n",
    "\n",
    "    pars = mod.guess(y, x=x)\n",
    "    out = mod.fit(y, pars, x=x)\n",
    "    return out\n",
    "\n",
    "# xtest=np.arange(-100,100.,1)\n",
    "# ytest=1.0/np.pi*(2.0/((xtest-3)**2+2.0**2))\n",
    "\n",
    "# plt.plot(xtest,ytest,'.')\n",
    "# output=fit_lorentzian(xtest,ytest)\n",
    "# output.plot_fit()\n",
    "# output.best_values['sigma']\n",
    "# output.best_values['center']\n",
    "\n",
    "def get_resonator_spec_and_fit(frequencies):\n",
    "    mag, phase, re, im = ss.get_soft_sweep_trace()\n",
    "    out = fit_lorentzian(frequencies, mag**2)\n",
    "    return mag, phase, out\n",
    "\n",
    "@hardsweep(\n",
    "    ind=[('frequency', 'Hz', 'array')], \n",
    "    dep=[('signal_magnitude', 'V', 'array'), ('signal_phase', 'deg', 'array'), ('peak_frq', 'Hz', 'array')]\n",
    ")\n",
    "def measure_qubit_spec_optimize_resonator(resonator_frequencies, resonator_src, \n",
    "                                          qubit_frequencies, qubit_src, integration_time=10e-3,\n",
    "                                          *arg, **kw):\n",
    "    \"\"\"\n",
    "    Use the softspec controller to measure a software-controlled spectrum.\n",
    "    time_bin is the time per buffer, integration_time sets how many buffers we'll average per \n",
    "    frequency point.\n",
    "    \"\"\"    \n",
    "    ctl = ss.setup_soft_sweep(resonator_frequencies, resonator_src.frequency, \n",
    "                           integration_time=integration_time, setup_awg=False, **kw)\n",
    "    \n",
    "    _, _, fitout = get_resonator_spec_and_fit(resonator_frequencies)\n",
    "    peak_frequency = fitout.best_values['center']\n",
    "    resonator_src.frequency(peak_frequency)\n",
    "    print(f'Found resonator peak frequency: {peak_frequency:1.5e}')\n",
    "    \n",
    "    ctl = ss.setup_soft_sweep(qubit_frequencies, qubit_src.frequency, \n",
    "                           integration_time=integration_time, setup_awg=False, **kw)    \n",
    "    mag, phase, re, im = ss.get_soft_sweep_trace(ctl)\n",
    "       \n",
    "    \n",
    "    return (qubit_frequencies.reshape(-1), \n",
    "            np.vstack((mag.reshape(-1), phase.reshape(-1), np.ones(qubit_frequencies.size) * peak_frequency)))"
   ]
  },
  {
   "cell_type": "markdown",
   "metadata": {},
   "source": [
    "## Get resonator trace and plot"
   ]
  },
  {
   "cell_type": "code",
   "execution_count": null,
   "metadata": {
    "ExecuteTime": {
     "end_time": "2018-11-26T08:56:11.626440Z",
     "start_time": "2018-11-26T08:56:11.604420Z"
    },
    "init_cell": true
   },
   "outputs": [],
   "source": [
    "from functools import partial\n",
    "from qcodes.math.field_vector import FieldVector\n",
    "\n",
    "def get_resonator_freq(): #helper function to pass variables into resonator spec\n",
    "    global xvals\n",
    "    return get_resonator_spec_and_fit(xvals)\n",
    "\n",
    "def get_resonator_FWHM(): #helper function to pass variables into resonator spec\n",
    "    global xvals\n",
    "    _,_,fitout=get_resonator_spec_and_fit(xvals)\n",
    "    return 2*fitout.params['sigma'].value\n",
    "\n",
    "def measure_and_plot_resonator(ax, line): #plots the trace\n",
    "    liney, phasey, fitout = get_resonator_freq()\n",
    "    time.sleep(0.5)\n",
    "    \n",
    "    line.set_ydata(liney)\n",
    "    ax.relim()\n",
    "    ax.autoscale_view(True, True, True)\n",
    "    ax.get_figure().canvas.draw()\n",
    "    \n",
    "    return fitout.params['center'].value"
   ]
  },
  {
   "cell_type": "markdown",
   "metadata": {},
   "source": [
    "# Init"
   ]
  },
  {
   "cell_type": "markdown",
   "metadata": {},
   "source": [
    "## Configurables"
   ]
  },
  {
   "cell_type": "code",
   "execution_count": null,
   "metadata": {
    "ExecuteTime": {
     "end_time": "2018-11-26T08:56:11.642451Z",
     "start_time": "2018-11-26T08:56:11.627441Z"
    },
    "init_cell": true
   },
   "outputs": [],
   "source": [
    "SAMPLE = \"180126_20nm_49_d2_CD20181229\""
   ]
  },
  {
   "cell_type": "markdown",
   "metadata": {},
   "source": [
    "## Initialize instruments"
   ]
  },
  {
   "cell_type": "code",
   "execution_count": null,
   "metadata": {
    "ExecuteTime": {
     "end_time": "2018-11-26T08:56:16.234345Z",
     "start_time": "2018-11-26T08:56:11.644452Z"
    },
    "init_cell": true
   },
   "outputs": [],
   "source": [
    "%run -i D:/OneDrive/Setups/LK1/LK1_code/Code/LK1/LK1/init_station_cqed.py"
   ]
  },
  {
   "cell_type": "code",
   "execution_count": null,
   "metadata": {
    "ExecuteTime": {
     "end_time": "2018-11-26T08:56:16.314989Z",
     "start_time": "2018-11-26T08:56:16.235847Z"
    },
    "init_cell": true
   },
   "outputs": [],
   "source": [
    "from qcodes.instrument_drivers.QuTech.IVVI import IVVI\n",
    "ivvi = create_inst(IVVI, 'ivvi', address='ASRL1', numdacs=16, force_new_instance=True)\n",
    "add2station(station, ivvi)\n",
    "\n",
    "numdacs = int(ivvi._numdacs)\n",
    "for i in range(1, numdacs+1):\n",
    "    station.ivvi.parameters['dac{}'.format(i)].step = 10\n",
    "    station.ivvi.parameters['dac{}'.format(i)].post_delay = 0.001"
   ]
  },
  {
   "cell_type": "code",
   "execution_count": null,
   "metadata": {
    "ExecuteTime": {
     "end_time": "2018-11-26T08:56:16.715301Z",
     "start_time": "2018-11-26T08:56:16.315990Z"
    },
    "init_cell": true
   },
   "outputs": [],
   "source": [
    "with station.alazar.syncing():\n",
    "    station.alazar.channel_range1(0.4)\n",
    "    station.alazar.channel_range2(0.4)\n",
    "    if True:\n",
    "        station.alazar.clock_source('EXTERNAL_CLOCK_10MHz_REF')\n",
    "        station.alazar.external_sample_rate(int(5.0e8))\n",
    "    else:\n",
    "        station.alazar.clock_source('INTERNAL_CLOCK')\n",
    "        station.alazar.sample_rate(int(2.0e8))\n",
    "    \n",
    "\n",
    "station.hetsrc.RF.pulsemod_state('Off')  \n",
    "station.hetsrc.RF.power(-65)\n",
    "station.hetsrc.IF(25e6)\n",
    "station.hetsrc.frequency(5.5e9)\n",
    "\n",
    "station.TWPA.power(6.2)\n",
    "station.TWPA.frequency(7.9185e9)\n",
    "\n",
    "\n",
    "station.qubsrc.power(-50)\n",
    "station.qubsrc.frequency(6e9)\n",
    "\n",
    "station.LO.frequency(), station.RF.frequency(), station.TWPA.frequency()"
   ]
  },
  {
   "cell_type": "markdown",
   "metadata": {},
   "source": [
    "## Setting up Alazar acquisition controllers"
   ]
  },
  {
   "cell_type": "code",
   "execution_count": null,
   "metadata": {
    "ExecuteTime": {
     "end_time": "2018-11-26T08:56:19.844545Z",
     "start_time": "2018-11-26T08:56:16.716785Z"
    },
    "init_cell": true
   },
   "outputs": [],
   "source": [
    "# regular post-measurement IQ demod controller\n",
    "post_iq_acq = instools.create_inst(acquisition_controllers.PostIQCtl, \n",
    "                                   'post_iq_acq', 'alazar',\n",
    "                                   allocate_samples=5e8, \n",
    "                                   force_new_instance=True)\n",
    "add2station(station, post_iq_acq)\n",
    "post_iq_acq.demod_frq(2.5e7)\n",
    "\n",
    "# controller that can step frequencies during acquisition.\n",
    "softsweep_ctl = instools.create_inst(ss.SoftSweepCtl,\n",
    "                                     'softsweep_ctl', 'alazar',\n",
    "                                     allocate_samples=5e8, \n",
    "                                     force_new_instance=True)\n",
    "add2station(station, softsweep_ctl)\n",
    "softsweep_ctl.demod_frq(2.5e7)"
   ]
  },
  {
   "cell_type": "markdown",
   "metadata": {
    "ExecuteTime": {
     "end_time": "2018-11-21T14:14:28.905072Z",
     "start_time": "2018-11-21T14:14:28.902086Z"
    }
   },
   "source": [
    "## Raw Acquisition controller"
   ]
  },
  {
   "cell_type": "code",
   "execution_count": null,
   "metadata": {
    "ExecuteTime": {
     "end_time": "2018-11-26T08:56:22.463510Z",
     "start_time": "2018-11-26T08:56:19.846046Z"
    },
    "init_cell": true
   },
   "outputs": [],
   "source": [
    "awg = station.awg\n",
    "class QPAcqCtl(acquisition_controllers.RawAcqCtl):\n",
    "    def pre_acquire(self):\n",
    "        awg_tools.trigger_awg_when_ready(awg)\n",
    "\n",
    "\n",
    "raw_acq = instools.create_inst(QPAcqCtl, \n",
    "                               'Qp_detector',\n",
    "                              'alazar',\n",
    "                              allocate_samples=30e8,\n",
    "                              force_new_instance=True)\n",
    "add2station(station, raw_acq)"
   ]
  },
  {
   "cell_type": "markdown",
   "metadata": {},
   "source": [
    "## Essential AWG Sequences"
   ]
  },
  {
   "cell_type": "code",
   "execution_count": null,
   "metadata": {
    "ExecuteTime": {
     "end_time": "2018-11-26T08:56:22.471015Z",
     "start_time": "2018-11-26T08:56:22.465511Z"
    },
    "init_cell": true
   },
   "outputs": [],
   "source": [
    "\n",
    "from pytopo.rf.alazar.awg_sequences import TriggerSequence\n",
    "\n",
    "TriggerSequence.chan_map = {\n",
    "    1 : ['pulse', 'ats_trigger', 'ro_trigger'],\n",
    "    2 : [None, 'qb_trigger', None],\n",
    "}\n",
    "TriggerSequence.chan_settings = {\n",
    "    1 : {\n",
    "        'marker_hi' : [1.5, 1.5],\n",
    "        'marker_lo' : [-0.3, -0.3],\n",
    "        },\n",
    "    2 : {\n",
    "        'marker_hi' : [1.5, 1.5],\n",
    "        'marker_lo' : [-0.3, -0.3],\n",
    "        },\n",
    "}\n",
    "\n"
   ]
  },
  {
   "cell_type": "markdown",
   "metadata": {},
   "source": [
    "# Setup and expt. specific tools"
   ]
  },
  {
   "cell_type": "code",
   "execution_count": null,
   "metadata": {
    "ExecuteTime": {
     "end_time": "2018-11-26T08:56:22.488027Z",
     "start_time": "2018-11-26T08:56:22.473017Z"
    },
    "init_cell": true
   },
   "outputs": [],
   "source": [
    "dac_cutter = station.ivvi.dac1\n",
    "dac_backgate = station.ivvi.dac2\n",
    "dac_backgate2 = station.ivvi.dac3\n",
    "dac_leftplunger = station.ivvi.dac11\n",
    "dac_rightplunger = station.ivvi.dac13\n",
    "dac_leftplunger_fine = station.ivvi.dac12\n",
    "dac_rightplunger_fine = station.ivvi.dac14\n",
    "\n",
    "@setter(('plungers', 'mV'),)\n",
    "def set_plungers(val):\n",
    "    \"\"\"\n",
    "    Set both plungers (left and right) to val (in mV).\n",
    "    \"\"\"\n",
    "    dac_leftplunger(val)\n",
    "    dac_rightplunger(val)\n",
    "    return val"
   ]
  },
  {
   "cell_type": "code",
   "execution_count": null,
   "metadata": {
    "init_cell": true
   },
   "outputs": [],
   "source": [
    "@setter(('repetition', '[]'),)\n",
    "def set_repetition(val):\n",
    "    \"\"\"\n",
    "\n",
    "    Set repetition (to repeat identical sweeps)\n",
    "    \"\"\"\n",
    "    \n",
    "    time.sleep(0.1)\n",
    "    return val"
   ]
  },
  {
   "cell_type": "code",
   "execution_count": null,
   "metadata": {
    "ExecuteTime": {
     "end_time": "2018-11-26T08:56:22.506541Z",
     "start_time": "2018-11-26T08:56:22.489529Z"
    },
    "init_cell": true
   },
   "outputs": [],
   "source": [
    "@setter(('magnet_r', 'T'),) ##could be combined into a single one, but we generally want to sweep them individually and not touch the others\n",
    "def set_magnet_r(val):\n",
    "    \"\"\"\n",
    "    Set magnet r\n",
    "    \"\"\"\n",
    "    station.mgnt.r_target(val)\n",
    "    station.mgnt.ramp(mode='safe')\n",
    "    return val\n",
    "\n",
    "@setter(('magnet_phi', 'degrees'),)\n",
    "def set_magnet_phi(val):\n",
    "    \"\"\"\n",
    "    Set magnet phi\n",
    "    \"\"\"\n",
    "    station.mgnt.phi_target(val)\n",
    "    station.mgnt.ramp(mode='safe')\n",
    "    return val\n",
    "\n",
    "@setter(('magnet_theta', 'degrees'),)\n",
    "def set_magnet_theta(val):\n",
    "    \"\"\"\n",
    "    Set magnet theta\n",
    "    \"\"\"\n",
    "    station.mgnt.theta_target(val)\n",
    "    station.mgnt.ramp(mode='safe')\n",
    "    return val\n",
    "\n",
    "@setter(('magnet_x', 'T'),)\n",
    "def set_magnet_x(val):\n",
    "    \"\"\"\n",
    "    Set magnet x\n",
    "    \"\"\"\n",
    "    station.mgnt.x_target(val)\n",
    "    station.mgnt.ramp(mode='safe')\n",
    "    return val\n",
    "\n",
    "@setter(('magnet_y', 'T'),)\n",
    "def set_magnet_y(val):\n",
    "    \"\"\"\n",
    "    Set magnet y\n",
    "    \"\"\"\n",
    "    station.mgnt.y_target(val)\n",
    "    station.mgnt.ramp(mode='safe')\n",
    "    return val\n",
    "\n",
    "@setter(('magnet_z', 'T'),)\n",
    "def set_magnet_z(val):\n",
    "    \"\"\"\n",
    "    Set magnet z\n",
    "    \"\"\"\n",
    "    station.mgnt.z_target(val)\n",
    "    station.mgnt.ramp(mode='safe')\n",
    "    return val"
   ]
  },
  {
   "cell_type": "code",
   "execution_count": null,
   "metadata": {
    "init_cell": true
   },
   "outputs": [],
   "source": [
    "phase_reference_arm_delay = qc.config['user']['setup_constants']['phase_reference_arm_delay']"
   ]
  },
  {
   "cell_type": "markdown",
   "metadata": {},
   "source": [
    "## Testing"
   ]
  },
  {
   "cell_type": "code",
   "execution_count": null,
   "metadata": {
    "ExecuteTime": {
     "end_time": "2018-11-26T08:56:22.527056Z",
     "start_time": "2018-11-26T08:56:22.508042Z"
    },
    "init_cell": true
   },
   "outputs": [],
   "source": [
    "# #clk_src = 'EXTERNAL_CLOCK_10MHz_REF'\n",
    "# #clk_src = 'INTERNAL_CLOCK'\n",
    "\n",
    "# #station.alazar.clock_source(clk_src)\n",
    "# station.alazar.sample_rate(int(200e6))\n",
    "# station.alazar.clock_source()\n",
    "\n",
    "# #station.alazar._set_sample_rate(int(200e6))\n",
    "# station.alazar.sample_rate()"
   ]
  },
  {
   "cell_type": "code",
   "execution_count": null,
   "metadata": {
    "ExecuteTime": {
     "end_time": "2018-11-26T08:56:22.543568Z",
     "start_time": "2018-11-26T08:56:22.528556Z"
    },
    "init_cell": true
   },
   "outputs": [],
   "source": [
    "# clk_src = 'INTERNAL_CLOCK'\n",
    "# station.alazar.clock_source(clk_src)\n",
    "# station.alazar.sample_rate()"
   ]
  },
  {
   "cell_type": "markdown",
   "metadata": {},
   "source": [
    "# EVERYTHING ABOVE HERE SHOULD BE RUN FOR INITIALIZATION"
   ]
  },
  {
   "cell_type": "markdown",
   "metadata": {},
   "source": [
    "# Resonator spec"
   ]
  },
  {
   "cell_type": "code",
   "execution_count": null,
   "metadata": {
    "ExecuteTime": {
     "end_time": "2018-11-23T11:12:21.711642Z",
     "start_time": "2018-11-23T11:11:54.848258Z"
    }
   },
   "outputs": [],
   "source": [
    "ss.setup_single_averaged_IQpoint(0.1e-3, 30e-3, setup_awg=True)\n",
    "# station.TWPA.on() #we don't have a BNC T at the moment, we can remove this once we split the marker for the cavity\n",
    "so = sweep(station.hetsrc.frequency, np.arange(5.30e9, 5.33e9, 0.5e6))(\n",
    "    measure(ss.get_single_averaged_IQpoint_chanA),\n",
    ")\n",
    "station.hetsrc.RF.power(-65)\n",
    "result = do_experiment(f\"resonator_spec/{SAMPLE}\", so, live_plot=True)\n",
    "# station.TWPA.off()"
   ]
  },
  {
   "cell_type": "code",
   "execution_count": null,
   "metadata": {
    "ExecuteTime": {
     "end_time": "2018-11-22T18:47:53.908761Z",
     "start_time": "2018-11-22T18:47:12.326629Z"
    }
   },
   "outputs": [],
   "source": []
  },
  {
   "cell_type": "code",
   "execution_count": null,
   "metadata": {
    "ExecuteTime": {
     "end_time": "2018-11-24T16:43:55.212117Z",
     "start_time": "2018-11-24T16:43:49.635731Z"
    }
   },
   "outputs": [],
   "source": [
    "dac_cutter(-400)"
   ]
  },
  {
   "cell_type": "code",
   "execution_count": null,
   "metadata": {
    "ExecuteTime": {
     "end_time": "2018-11-22T18:43:11.782468Z",
     "start_time": "2018-11-22T18:43:11.779467Z"
    }
   },
   "outputs": [],
   "source": [
    "station.softsweep_ctl.values = np.array([3.8e9])"
   ]
  },
  {
   "cell_type": "markdown",
   "metadata": {
    "ExecuteTime": {
     "end_time": "2018-10-26T17:29:17.806944Z",
     "start_time": "2018-10-26T17:29:17.803943Z"
    }
   },
   "source": [
    "## Standard resonator spec"
   ]
  },
  {
   "cell_type": "code",
   "execution_count": null,
   "metadata": {
    "ExecuteTime": {
     "end_time": "2018-11-26T09:00:02.494856Z",
     "start_time": "2018-11-26T08:59:49.813087Z"
    }
   },
   "outputs": [],
   "source": [
    "station.alazar.clear_buffers()\n",
    "station.hetsrc.RF.power(-62.5)\n",
    "station.TWPA.on()\n",
    "station.RF.on()\n",
    "station.LO.on()\n",
    "\n",
    "spec_frequencies=np.arange(5.328e9, 5.365e9, 0.2e6)\n",
    "spec_src=station.hetsrc\n",
    "\n",
    "ctl = ss.setup_soft_sweep(spec_frequencies, spec_src.frequency, time_bin=0.2e-3, integration_time=30e-3, setup_awg=True,\n",
    "                          post_integration_delay=0.02e-3, waiting_time_per_value=30e-3)\n",
    "ctl.settling_time = 1e-3\n",
    "\n",
    "\n",
    "so = ss.measure_soft_time_avg_spec(spec_frequencies, spec_src, setup=False, \n",
    "                                  setup_awg=False)\n",
    "\n",
    "\n",
    "result = do_experiment(f'resonator_spec/{SAMPLE}', so, live_plot=False)\n"
   ]
  },
  {
   "cell_type": "code",
   "execution_count": null,
   "metadata": {
    "ExecuteTime": {
     "end_time": "2018-11-26T09:01:23.106226Z",
     "start_time": "2018-11-26T09:01:16.492352Z"
    }
   },
   "outputs": [],
   "source": [
    "station.alazar.clear_buffers()\n",
    "station.hetsrc.RF.power(-20)\n",
    "station.TWPA.off()\n",
    "\n",
    "spec_frequencies=np.arange(5.325e9, 5.365e9, 0.2e6)\n",
    "spec_src=station.hetsrc\n",
    "ctl = ss.setup_soft_sweep(spec_frequencies, spec_src.frequency, time_bin=0.2e-3, integration_time=30e-3, setup_awg=True,\n",
    "                          post_integration_delay=0.02e-3, waiting_time_per_value=30e-3)\n",
    "ctl.settling_time = 1e-3\n",
    "\n",
    "\n",
    "so = ss.measure_soft_time_avg_spec(spec_frequencies, spec_src, setup=False, \n",
    "                                  setup_awg=False,\n",
    "                                   phase_reference_arm_delay=phase_reference_arm_delay, \n",
    "                                   phase_reference_arm=True\n",
    "                                 )\n",
    "\n",
    "\n",
    "result = do_experiment(f'resonator_spec/{SAMPLE}', so, live_plot=True)\n"
   ]
  },
  {
   "cell_type": "code",
   "execution_count": null,
   "metadata": {},
   "outputs": [],
   "source": [
    "station.hetsrc.RF.power(-20)\n",
    "hetfreqs = np.arange(5.34e9, 5.365e9, 0.2e6)\n",
    "station.TWPA.off()\n",
    "ctl = ss.setup_soft_sweep(hetfreqs, station.hetsrc.frequency, time_bin=0.2e-3, integration_time=20e-3, setup_awg=True,\n",
    "                          post_integration_delay=0.02e-3, waiting_time_per_value=30e-3)\n",
    "ctl.settling_time = 1e-3\n",
    "testout = get_resonator_spec_and_fit(hetfreqs)\n",
    "\n",
    "plt.figure()\n",
    "plt.plot(hetfreqs,testout[0]**2,'-')\n",
    "plt.plot(hetfreqs,testout[2].best_fit)\n",
    "plt.xlabel('Frequency [GHz]')\n",
    "plt.ylabel('Magnitude**2 [a.u.]')\n",
    "plt.title('Center = %.4f GHz, FWHM = %.2f MHz, Q = %.2f' % (testout[2].params['center'].value*1e-9, 2*testout[2].params['sigma'].value*1e-6, testout[2].params['center'].value/(2*testout[2].params['sigma'].value)))"
   ]
  },
  {
   "cell_type": "code",
   "execution_count": null,
   "metadata": {
    "ExecuteTime": {
     "end_time": "2018-11-26T09:01:29.886754Z",
     "start_time": "2018-11-26T09:01:23.109229Z"
    }
   },
   "outputs": [],
   "source": [
    "station.hetsrc.RF.power(-62.5)\n",
    "hetfreqs = np.arange(5.335e9, 5.365e9, 0.2e6)\n",
    "station.TWPA.on()\n",
    "ctl = ss.setup_soft_sweep(hetfreqs, station.hetsrc.frequency, time_bin=0.2e-3, integration_time=20e-3, setup_awg=True,\n",
    "                          post_integration_delay=0.02e-3, waiting_time_per_value=40e-3)\n",
    "ctl.settling_time = 1e-3\n",
    "testout = get_resonator_spec_and_fit(hetfreqs)\n",
    "\n",
    "plt.figure()\n",
    "plt.plot(hetfreqs,testout[0]**2,'-')\n",
    "plt.plot(hetfreqs,testout[2].best_fit)\n",
    "plt.xlabel('Frequency [GHz]')\n",
    "plt.ylabel('Magnitude**2 [a.u.]')\n",
    "plt.title('Center = %.4f GHz, FWHM = %.2f MHz, Q = %.2f' % (testout[2].params['center'].value*1e-9, 2*testout[2].params['sigma'].value*1e-6, testout[2].params['center'].value/(2*testout[2].params['sigma'].value)))"
   ]
  },
  {
   "cell_type": "code",
   "execution_count": null,
   "metadata": {},
   "outputs": [],
   "source": [
    "from ipywidgets import interactive"
   ]
  },
  {
   "cell_type": "code",
   "execution_count": null,
   "metadata": {},
   "outputs": [],
   "source": [
    "def plot_dataset_complex_plane(data, delay=349):\n",
    "    datA = np.squeeze(data)[..., 0]\n",
    "    datB = np.squeeze(data)[..., 1]\n",
    "    plt.figure()\n",
    "    dat = datA*np.exp(-1.j*(np.angle(datB)+delay*1e-9*freqs+np.pi))\n",
    "    plt.plot(np.angle(dat.conj()))\n",
    "    plt.show()"
   ]
  },
  {
   "cell_type": "code",
   "execution_count": null,
   "metadata": {
    "ExecuteTime": {
     "end_time": "2018-11-24T16:44:35.265354Z",
     "start_time": "2018-11-24T16:44:35.261348Z"
    }
   },
   "outputs": [],
   "source": [
    "%matplotlib inline"
   ]
  },
  {
   "cell_type": "code",
   "execution_count": null,
   "metadata": {},
   "outputs": [],
   "source": [
    "station.TWPA.on()\n",
    "data = ctl.acquisition()"
   ]
  },
  {
   "cell_type": "code",
   "execution_count": null,
   "metadata": {},
   "outputs": [],
   "source": [
    "f = lambda delay: plot_dataset_complex_plane(data, delay)\n",
    "interactive_plot = interactive(f, delay = (1, 500, 1));\n",
    "interactive_plot"
   ]
  },
  {
   "cell_type": "code",
   "execution_count": null,
   "metadata": {},
   "outputs": [],
   "source": []
  },
  {
   "cell_type": "markdown",
   "metadata": {},
   "source": [
    "## Live-monitor of resonator spec"
   ]
  },
  {
   "cell_type": "code",
   "execution_count": null,
   "metadata": {
    "ExecuteTime": {
     "end_time": "2018-11-22T14:14:42.844550Z",
     "start_time": "2018-11-22T14:14:40.486Z"
    },
    "scrolled": false
   },
   "outputs": [],
   "source": [
    "fvals = np.linspace(5.29e9, 5.33e9, 51)\n",
    "ctl = ss.setup_soft_sweep(fvals, station.hetsrc.frequency, integration_time=30e-3)\n",
    "\n",
    "def monitor_resonator_spec(ax, fvals, data_line=None):\n",
    "    mag, phase, fitout = get_resonator_spec_and_fit(fvals)\n",
    "    \n",
    "    if data_line is None:\n",
    "        data_line = ax.plot(fvals, mag**2)[0]\n",
    "    else:\n",
    "        data_line.set_ydata(mag**2)\n",
    "    \n",
    "    ax.relim()\n",
    "    ax.autoscale_view(True, True, True)\n",
    "    ax.get_figure().canvas.draw()\n",
    "    \n",
    "    return data_line\n",
    "    \n",
    "\n",
    "fig, ax = plt.subplots(1,1)\n",
    "\n",
    "data_line = None\n",
    "ax.set_xlabel('Frequency')\n",
    "ax.set_ylabel('Magnitude')\n",
    "\n",
    "for i in range(10):\n",
    "    data_line = monitor_resonator_spec(ax, fvals, data_line=data_line)"
   ]
  },
  {
   "cell_type": "code",
   "execution_count": null,
   "metadata": {},
   "outputs": [],
   "source": []
  },
  {
   "cell_type": "markdown",
   "metadata": {},
   "source": [
    "## Resonator spec vs power"
   ]
  },
  {
   "cell_type": "code",
   "execution_count": null,
   "metadata": {
    "ExecuteTime": {
     "end_time": "2018-11-23T12:00:29.468379Z",
     "start_time": "2018-11-23T12:00:09.900356Z"
    }
   },
   "outputs": [],
   "source": [
    "station = qcodes.Station.default #resonator spec vs power\n",
    "spec_frequencies=np.arange(5.335e9, 5.355e9, 0.2e6)\n",
    "spec_src=station.hetsrc.frequency\n",
    "spec_powers=np.linspace(-70,-20,10)[::-1]\n",
    "\n",
    "ctl = ss.setup_soft_sweep(spec_frequencies, spec_src, time_bin=0.2e-3, integration_time=40e-3, setup_awg=True,\n",
    "                          post_integration_delay=0.02e-3, waiting_time_per_value=40e-3)\n",
    "\n",
    "#station.TWPA.on()\n",
    "station.TWPA.off()\n",
    "so = sweep(station.hetsrc.RF.power,spec_powers)(\n",
    "    ss.measure_soft_time_avg_spec(spec_frequencies, spec_src, setup=False, phase_reference_arm_delay=0, \n",
    "                                   phase_reference_arm=True))\n",
    "\n",
    "result = do_experiment(f'resonator_specvspower/{SAMPLE}', so, live_plot=False)\n"
   ]
  },
  {
   "cell_type": "code",
   "execution_count": null,
   "metadata": {
    "ExecuteTime": {
     "end_time": "2018-11-23T12:00:29.508407Z",
     "start_time": "2018-11-23T12:00:29.481389Z"
    }
   },
   "outputs": [],
   "source": [
    "def normalize_data_v2(a, axis=-1, order=2):\n",
    "    l2 = np.atleast_1d(np.linalg.norm(a, order, axis))\n",
    "    l2[l2 == 0] = 1\n",
    "    return a / np.expand_dims(l2, axis)"
   ]
  },
  {
   "cell_type": "code",
   "execution_count": null,
   "metadata": {
    "ExecuteTime": {
     "end_time": "2018-11-22T14:14:42.847553Z",
     "start_time": "2018-11-22T14:14:40.502Z"
    }
   },
   "outputs": [],
   "source": [
    "from matplotlib.colors import LogNorm\n",
    "data = qc.load_by_id(154)\n",
    "freqs = data.get_data('frequency')\n",
    "powers = data.get_data('RF_power')\n",
    "signal = data.get_data('signal_magnitude')\n",
    "\n",
    "x = freqs[0][0]\n",
    "y = np.array(powers)[:,0].T\n",
    "X,Y = np.meshgrid(x,y)\n",
    "Z = np.array(signal)[:,0,:]\n",
    "\n",
    "Znorm1 = np.copy(Z)\n",
    "for i in range(len(X[:,0])):\n",
    "    Znorm1[i,:] = Znorm1[i,:]/np.max(Znorm1[i,:])\n",
    "Znorm2 = normalize_data_v2(Z)    \n",
    "\n",
    "plt.figure(figsize=(3, 3))\n",
    "plt.pcolor(X,Y,Znorm2,cmap='viridis')#, norm=LogNorm(vmin=Znorm2.min(), vmax=Znorm2.max()))\n",
    "plt.xlabel('Frequency (GHz)')\n",
    "plt.ylabel('Power (dBm)')\n",
    "#plt.axis([x.min(),x.max(),y.min(), y.max()])\n",
    "\n"
   ]
  },
  {
   "cell_type": "code",
   "execution_count": null,
   "metadata": {
    "ExecuteTime": {
     "end_time": "2018-11-22T14:14:42.847553Z",
     "start_time": "2018-11-22T14:14:40.505Z"
    }
   },
   "outputs": [],
   "source": [
    "station.ivvi.set_dacs_zero()"
   ]
  },
  {
   "cell_type": "markdown",
   "metadata": {},
   "source": [
    "# TWPA tuning"
   ]
  },
  {
   "cell_type": "code",
   "execution_count": null,
   "metadata": {
    "ExecuteTime": {
     "end_time": "2018-11-22T14:14:42.848553Z",
     "start_time": "2018-11-22T14:14:40.509Z"
    }
   },
   "outputs": [],
   "source": [
    "np.linspace(4.0, 8, 41)[::-1]"
   ]
  },
  {
   "cell_type": "code",
   "execution_count": null,
   "metadata": {
    "ExecuteTime": {
     "end_time": "2018-11-22T14:14:42.849555Z",
     "start_time": "2018-11-22T14:14:40.513Z"
    }
   },
   "outputs": [],
   "source": [
    "station.TWPA.power(6.75)\n",
    "station.TWPA.frequency(8.004e9)"
   ]
  },
  {
   "cell_type": "code",
   "execution_count": null,
   "metadata": {
    "ExecuteTime": {
     "end_time": "2018-11-22T14:14:42.849555Z",
     "start_time": "2018-11-22T14:14:40.515Z"
    }
   },
   "outputs": [],
   "source": [
    "# station.hetsrc.RF.power(-60)\n",
    "# so = sweep(station.TWPA.power, np.arange(9, 11, 0.1))(\n",
    "#     softspec(np.linspace(5.3e9, 5.326e9, 27), station.hetsrc, navgs=10, setup_awg=False)\n",
    "# )\n",
    "\n",
    "# result = do_experiment(f'TWPA_resonator_spec/{SAMPLE}', so, live_plot=True)"
   ]
  },
  {
   "cell_type": "code",
   "execution_count": null,
   "metadata": {
    "ExecuteTime": {
     "end_time": "2018-11-22T14:14:42.850555Z",
     "start_time": "2018-11-22T14:14:40.519Z"
    }
   },
   "outputs": [],
   "source": [
    "def get_snr_from_max(trace, background_range=(0, 30)):\n",
    "    idx0, idx1 = background_range\n",
    "    S = np.abs(trace).max()\n",
    "    N = np.abs(np.std(trace[idx0:idx1]))\n",
    "    return S, N\n",
    "\n",
    "@getter(('SNR', ''))\n",
    "def SNR():\n",
    "    mag, phase, re, im = ss.get_soft_sweep_trace()\n",
    "    trace = mag * np.exp(-1j*phase)\n",
    "    s, n = get_snr_from_max(trace)\n",
    "    return s/n\n",
    "\n",
    "spec_frequencies = np.linspace(5.27e9, 5.31e9, 101)\n",
    "spec_src = station.hetsrc\n",
    "integration_time = 20e-3\n",
    "\n",
    "#pump_amps = np.linspace(8.0, 11, 32)\n",
    "pump_amps = np.linspace(4.0, 8, 41)[::-1]\n",
    "#pump_frqs = np.linspace(7.99e9, 8.02e9, 31)\n",
    "pump_frqs = np.arange(7.91e9, 8.05e9, 1e6)\n",
    "\n",
    "ctl = ss.setup_soft_sweep(spec_frequencies, spec_src.frequency, integration_time=integration_time)\n",
    "\n",
    "station.TWPA.on()\n",
    "so = sweep(station.TWPA.power, pump_amps)(\n",
    "    sweep(station.TWPA.frequency, pump_frqs)(\n",
    "#         measure_soft_time_avg_spec(spec_frequencies, spec_src, integration_time=integration_time, setup=False),\n",
    "        measure(SNR),\n",
    "    )\n",
    ")\n",
    "\n",
    "result = do_experiment(f'tune_TWPA_resonator_spec/{SAMPLE}', so, live_plot=True)\n",
    "station.TWPA.off() #the TWPA power seems to warm up the fridge so let's turn it off when we are not measuring"
   ]
  },
  {
   "cell_type": "code",
   "execution_count": null,
   "metadata": {
    "ExecuteTime": {
     "end_time": "2018-11-22T14:14:42.851556Z",
     "start_time": "2018-11-22T14:14:40.522Z"
    }
   },
   "outputs": [],
   "source": [
    "## NOT YET TESTED!\n",
    "\n",
    "@getter(('signal', 'dB'), ('noise', 'dB'), ('SNR', 'dB'))\n",
    "def SNR():\n",
    "    mag, phase, re, im = ss.get_soft_sweep_trace()\n",
    "    sig = mag * np.exp(-1j*phase)\n",
    "    lin_mean = np.abs(sig.mean())\n",
    "    lin_std = np.abs(sig.std())\n",
    "    return 20*np.log10(lin_mean), 20*np.log10(lin_std), 20*np.log10(lin_mean/lin_std)\n",
    "\n",
    "repetitions = 100\n",
    "\n",
    "pump_amps = np.arange(5.0, 9.0, .1)\n",
    "pump_frqs = np.arange(7.9e9, 8.02e9, 0.5e6)\n",
    "\n",
    "ctl = ss.setup_soft_sweep(np.arange(repetitions), set_repetition, time_bin=0.2e-3, integration_time=40e-3, setup_awg=True,\n",
    "                          post_integration_delay=0.02e-3, waiting_time_per_value=50e-3)\n",
    "ctl.settling_time = 1e-3\n",
    "\n",
    "station.TWPA.on()\n",
    "so = sweep(station.TWPA.power, pump_amps)(\n",
    "    sweep(station.TWPA.frequency, pump_frqs)(\n",
    "#         measure_soft_time_avg_spec(spec_frequencies, spec_src, integration_time=integration_time, setup=False),\n",
    "        measure(SNR),\n",
    "    )\n",
    ")\n",
    "\n",
    "station.TWPA.off()"
   ]
  },
  {
   "cell_type": "code",
   "execution_count": null,
   "metadata": {},
   "outputs": [],
   "source": []
  },
  {
   "cell_type": "code",
   "execution_count": null,
   "metadata": {},
   "outputs": [],
   "source": []
  },
  {
   "cell_type": "markdown",
   "metadata": {},
   "source": [
    "# Resonator vs Gate Response"
   ]
  },
  {
   "cell_type": "markdown",
   "metadata": {},
   "source": [
    "## Measure at a single frequency"
   ]
  },
  {
   "cell_type": "markdown",
   "metadata": {},
   "source": [
    "### Vs cutter"
   ]
  },
  {
   "cell_type": "code",
   "execution_count": null,
   "metadata": {
    "ExecuteTime": {
     "end_time": "2018-11-22T14:14:42.853557Z",
     "start_time": "2018-11-22T14:14:40.534Z"
    }
   },
   "outputs": [],
   "source": [
    "ss.setup_single_averaged_IQpoint(0.1e-3, 10e-3, setup_awg=True)\n",
    "\n",
    "cur_cutter = dac_cutter()\n",
    "station.hetsrc.frequency(5.3114e9)\n",
    "#station.TWPA.on() #we don't have a BNC T at the moment, we can remove this once we split the marker for the cavity\n",
    "so = sweep(dac_cutter, np.arange(-500., 0., 2))(\n",
    "    measure(ss.get_single_averaged_IQpoint_chanA),\n",
    ")\n",
    "\n",
    "result = do_experiment(f\"resonator_gate_response/{SAMPLE}\", so, live_plot=True)"
   ]
  },
  {
   "cell_type": "code",
   "execution_count": null,
   "metadata": {
    "ExecuteTime": {
     "end_time": "2018-11-22T14:14:42.854558Z",
     "start_time": "2018-11-22T14:14:40.537Z"
    }
   },
   "outputs": [],
   "source": [
    "station.hetsrc.frequency(5.34310e9)\n",
    "station.hetsrc.RF.power(-62.5)\n",
    "station.TWPA.on()\n",
    "cur_cutter = dac_cutter()\n",
    "cutter_vals = np.arange(1000., 1700., 2.)\n",
    "\n",
    "ctl = ss.setup_soft_sweep(cutter_vals, dac_cutter, time_bin=0.2e-3, integration_time=40e-3, setup_awg=True,\n",
    "                          post_integration_delay=0.02e-3, waiting_time_per_value=50e-3)\n",
    "ctl.settling_time = 1e-3\n",
    "\n",
    "so = ss.measure_soft_gate_sweep(\n",
    "    cutter_vals, dac_cutter, setup=False, phase_reference_arm=True)\n",
    "\n",
    "\n",
    "result = do_experiment(f\"soft_sweep_gate/{SAMPLE}\", so, live_plot=False)"
   ]
  },
  {
   "cell_type": "markdown",
   "metadata": {},
   "source": [
    "### Vs plungers"
   ]
  },
  {
   "cell_type": "code",
   "execution_count": null,
   "metadata": {
    "ExecuteTime": {
     "end_time": "2018-11-22T14:14:42.854558Z",
     "start_time": "2018-11-22T14:14:40.540Z"
    }
   },
   "outputs": [],
   "source": [
    "station.hetsrc.frequency(5.305e9)\n",
    "cur_plunger = dac_leftplunger()\n",
    "\n",
    "ss.setup_single_averaged_IQpoint(0.1e-3, 30e-3, setup_awg=True)\n",
    "so = sweep(set_plungers, np.arange(cur_plunger,-400,1))(\n",
    "    measure(ss.get_single_averaged_IQpoint_chanA),\n",
    ")\n",
    "\n",
    "#station.TWPA.on()\n",
    "result = do_experiment(f\"resonator_gate_response/{SAMPLE}\", so, live_plot=True)\n",
    "#station.TWPA.off()"
   ]
  },
  {
   "cell_type": "code",
   "execution_count": null,
   "metadata": {
    "ExecuteTime": {
     "end_time": "2018-11-22T14:14:42.855559Z",
     "start_time": "2018-11-22T14:14:40.543Z"
    }
   },
   "outputs": [],
   "source": [
    "# station.hetsrc.frequency(5.305e9)\n",
    "# station.hetsrc.RF.power(-70)\n",
    "\n",
    "# cur_plunger = dac_leftplunger()\n",
    "\n",
    "# so = ss.measure_soft_gate_sweep(\n",
    "#     np.arange(cur_plunger, cur_plunger+5, 0.1), dac_cutter,\n",
    "#     integration_time=10e-3, setup=True,\n",
    "# )\n",
    "\n",
    "# station.TWPA.on()\n",
    "# result = do_experiment(f\"soft_sweep_gate/{SAMPLE}\", so, live_plot=True)\n",
    "# station.TWPA.off()"
   ]
  },
  {
   "cell_type": "markdown",
   "metadata": {},
   "source": [
    "### Fixed frequency scans (view each point)"
   ]
  },
  {
   "cell_type": "code",
   "execution_count": null,
   "metadata": {
    "ExecuteTime": {
     "end_time": "2018-11-22T14:14:42.856560Z",
     "start_time": "2018-11-22T14:14:40.547Z"
    }
   },
   "outputs": [],
   "source": [
    "station.TWPA.frequency()"
   ]
  },
  {
   "cell_type": "code",
   "execution_count": null,
   "metadata": {
    "ExecuteTime": {
     "end_time": "2018-11-22T14:14:42.857560Z",
     "start_time": "2018-11-22T14:14:40.550Z"
    }
   },
   "outputs": [],
   "source": [
    "%%time\n",
    "#Fixed frequency scan if you want to see each point individually\n",
    "\n",
    "station.hetsrc.frequency(5.31347e9+4e6)\n",
    "cur_plunger = dac_leftplunger()\n",
    "cur_cutter = dac_cutter()\n",
    "cutter_vals = np.arange(300,1500.,5)\n",
    "plunger_vals = np.arange(-300,100.,10)\n",
    "\n",
    "\n",
    "setup_single_averaged_IQpoint(0.1e-3, 30e-3, setup_awg=True)\n",
    "so = sweep(dac_cutter, cutter_vals)(sweep(set_plungers, plunger_vals)(\n",
    "    measure(get_single_averaged_IQpoint_chanA),\n",
    "))\n",
    "\n",
    "station.TWPA.on()\n",
    "result = do_experiment(f\"fixed_frequency/{SAMPLE}\", so, live_plot=True)\n",
    "station.TWPA.off()"
   ]
  },
  {
   "cell_type": "markdown",
   "metadata": {},
   "source": [
    "### Fixed frequency scan (only see 1d, faster)"
   ]
  },
  {
   "cell_type": "code",
   "execution_count": null,
   "metadata": {
    "ExecuteTime": {
     "end_time": "2018-11-26T08:21:27.416444Z",
     "start_time": "2018-11-25T15:25:19.130826Z"
    },
    "scrolled": false
   },
   "outputs": [],
   "source": [
    "#%%time\n",
    "for backgate_voltage in np.arange(0.,200.,50.):\n",
    "    station.ivvi.dac2(backgate_voltage)\n",
    "\n",
    "    #Fast Fixed frequency scan if not seeing each 1d line is ok with you\n",
    "    #station.alazar.clear_buffers()\n",
    "    station.TWPA.on()\n",
    "    station.hetsrc.RF.power(-62.5)\n",
    "    station.hetsrc.frequency(5.35086e9+4e6)\n",
    "    cur_plunger = dac_leftplunger()\n",
    "    cur_cutter = dac_cutter()\n",
    "    cutter_vals = np.arange(-700.,2000.,3.5)\n",
    "    plunger_vals = np.arange(0.,-800.,-8.5)\n",
    "\n",
    "\n",
    "    ctl = ss.setup_soft_sweep(plunger_vals, set_plungers, time_bin=0.2e-3, integration_time=20e-3, setup_awg=True,\n",
    "                              post_integration_delay=0.02e-3, waiting_time_per_value=40e-3)\n",
    "    ctl.settling_time = 1e-3\n",
    "    so = sweep(dac_cutter, cutter_vals)(ss.measure_soft_gate_sweep(\n",
    "        plunger_vals, dac_rightplunger, setup=False, phase_reference_arm=True))\n",
    "\n",
    "    result = do_experiment(f\"fixed_frequency/{SAMPLE}\", so, live_plot=True)\n"
   ]
  },
  {
   "cell_type": "markdown",
   "metadata": {},
   "source": []
  },
  {
   "cell_type": "markdown",
   "metadata": {},
   "source": [
    "## Take full resonator scan vs gate"
   ]
  },
  {
   "cell_type": "markdown",
   "metadata": {},
   "source": [
    "### Vs cutter"
   ]
  },
  {
   "cell_type": "code",
   "execution_count": null,
   "metadata": {
    "ExecuteTime": {
     "end_time": "2018-11-26T09:08:23.990892Z",
     "start_time": "2018-11-26T09:08:23.689435Z"
    }
   },
   "outputs": [],
   "source": [
    "dac_cutter(-200)"
   ]
  },
  {
   "cell_type": "code",
   "execution_count": null,
   "metadata": {
    "ExecuteTime": {
     "end_time": "2018-11-22T16:49:13.992795Z",
     "start_time": "2018-11-22T16:47:02.640978Z"
    },
    "scrolled": false
   },
   "outputs": [],
   "source": [
    "station.alazar.clear_buffers()\n",
    "cur_cutter = station.ivvi.dac1()\n",
    "station.hetsrc.RF.power(-62)\n",
    "spec_frequencies=np.arange(5.338e9, 5.375e9, 0.2e6)\n",
    "spec_src=station.hetsrc\n",
    "\n",
    "station.TWPA.on()\n",
    "\n",
    "ctl = ss.setup_soft_sweep(spec_frequencies, spec_src.frequency, time_bin=0.2e-3, integration_time=20e-3, setup_awg=True,\n",
    "                          post_integration_delay=0.02e-3, waiting_time_per_value=40e-3)\n",
    "\n",
    "ctl.settling_time = 1e-3\n",
    "so = sweep(dac_cutter, np.arange(0.,1000.,2.0))(\n",
    "    ss.measure_soft_time_avg_spec(spec_frequencies, spec_src, setup=False, \n",
    "                                  setup_awg=False,\n",
    "                                   phase_reference_arm_delay=phase_reference_arm_delay, \n",
    "                                   phase_reference_arm=True\n",
    "                                 ))\n",
    "\n",
    "result = do_experiment(f\"resonator_gate_response/{SAMPLE}\", so, live_plot=False)"
   ]
  },
  {
   "cell_type": "code",
   "execution_count": null,
   "metadata": {},
   "outputs": [],
   "source": [
    "station.alazar.clear_buffers()\n",
    "cur_cutter = station.ivvi.dac1()\n",
    "station.hetsrc.RF.power(-62)\n",
    "spec_frequencies=np.arange(5.344e9, 5.36e9, 0.5e6)\n",
    "spec_src=station.hetsrc\n",
    "\n",
    "station.TWPA.on()\n",
    "\n",
    "ctl = ss.setup_soft_sweep(spec_frequencies, spec_src.frequency, time_bin=0.2e-3, integration_time=20e-3, setup_awg=True,\n",
    "                          post_integration_delay=0.02e-3, waiting_time_per_value=40e-3)\n",
    "\n",
    "ctl.settling_time = 1e-3\n",
    "so = sweep(dac_cutter, np.arange(cur_cutter-2.5,cur_cutter+2.5,0.2))(\n",
    "    ss.measure_soft_time_avg_spec(spec_frequencies, spec_src, setup=False, \n",
    "                                  setup_awg=False,\n",
    "                                   phase_reference_arm_delay=phase_reference_arm_delay, \n",
    "                                   phase_reference_arm=True\n",
    "                                 ))\n",
    "\n",
    "result = do_experiment(f\"resonator_gate_response/{SAMPLE}\", so, live_plot=False)"
   ]
  },
  {
   "cell_type": "code",
   "execution_count": null,
   "metadata": {},
   "outputs": [],
   "source": [
    "station.alazar.clear_buffers()\n",
    "cur_cutter = station.ivvi.dac1()\n",
    "station.hetsrc.RF.power(-62)\n",
    "spec_frequencies=np.arange(5.33e9, 5.365e9, 0.2e6)\n",
    "spec_src=station.hetsrc\n",
    "\n",
    "station.TWPA.on()\n",
    "\n",
    "ctl = ss.setup_soft_sweep(spec_frequencies, spec_src.frequency, time_bin=0.2e-3, integration_time=20e-3, setup_awg=True,\n",
    "                          post_integration_delay=0.02e-3, waiting_time_per_value=40e-3)\n",
    "\n",
    "ctl.settling_time = 1e-3\n",
    "so = sweep(dac_backgate, np.arange(0.,1000.,2.))(\n",
    "    ss.measure_soft_time_avg_spec(spec_frequencies, spec_src, setup=False, \n",
    "                                  setup_awg=False,\n",
    "                                   phase_reference_arm_delay=phase_reference_arm_delay, \n",
    "                                   phase_reference_arm=True\n",
    "                                 ))\n",
    "\n",
    "result = do_experiment(f\"resonator_gate_response/{SAMPLE}\", so, live_plot=True)"
   ]
  },
  {
   "cell_type": "code",
   "execution_count": null,
   "metadata": {},
   "outputs": [],
   "source": [
    "station.ivvi.dac13(-200)\n",
    "station.ivvi.dac11(-200)\n",
    "station.alazar.clear_buffers()\n",
    "cur_cutter = station.ivvi.dac1()\n",
    "station.hetsrc.RF.power(-60)\n",
    "spec_frequencies=np.arange(5.294e9, 5.32e9, 0.4e6)\n",
    "spec_src=station.hetsrc\n",
    "\n",
    "station.TWPA.on()\n",
    "\n",
    "ctl = ss.setup_soft_sweep(spec_frequencies, spec_src.frequency, time_bin=0.2e-3, integration_time=20e-3, setup_awg=True,\n",
    "                          post_integration_delay=0.02e-3, waiting_time_per_value=30e-3)\n",
    "\n",
    "ctl.settling_time = 1e-3\n",
    "so = sweep(dac_cutter, np.arange(1340,1240.,-2))(\n",
    "    ss.measure_soft_time_avg_spec(spec_frequencies, spec_src, setup=False, \n",
    "                                  setup_awg=False,\n",
    "                                   phase_reference_arm_delay=phase_reference_arm_delay, \n",
    "                                   phase_reference_arm=True\n",
    "                                 ))\n",
    "\n",
    "result = do_experiment(f\"resonator_gate_response/{SAMPLE}\", so, live_plot=True)"
   ]
  },
  {
   "cell_type": "markdown",
   "metadata": {},
   "source": [
    "### Vs plungers"
   ]
  },
  {
   "cell_type": "code",
   "execution_count": null,
   "metadata": {
    "ExecuteTime": {
     "end_time": "2018-11-26T09:16:50.449073Z",
     "start_time": "2018-11-26T09:11:30.386242Z"
    }
   },
   "outputs": [],
   "source": [
    "cur_plunger = dac_leftplunger()\n",
    "station.hetsrc.RF.power(-70)\n",
    "spec_frequencies=np.linspace(5.305e9, 5.32e9, 151)\n",
    "spec_src=station.hetsrc\n",
    "\n",
    "ctl = ss.setup_soft_time_avg_spec(spec_frequencies, spec_src)\n",
    "\n",
    "station.TWPA.on()\n",
    "so = sweep(set_plungers, np.arange(cur_plunger,-250.0,-1))(\n",
    "    ss.measure_soft_time_avg_spec(spec_frequencies, spec_src)\n",
    ")\n",
    "\n",
    "result = do_experiment(f\"resonator_gate_response/{SAMPLE}\", so, live_plot=True)\n",
    "station.TWPA.off()"
   ]
  },
  {
   "cell_type": "code",
   "execution_count": null,
   "metadata": {
    "ExecuteTime": {
     "end_time": "2018-11-26T09:05:25.410264Z",
     "start_time": "2018-11-26T09:03:28.120155Z"
    }
   },
   "outputs": [],
   "source": [
    "station.alazar.clear_buffers()\n",
    "cur_plunger = dac_leftplunger_fine()\n",
    "station.hetsrc.RF.power(-60)\n",
    "spec_frequencies=np.arange(5.338e9, 5.355e9, 0.2e6)\n",
    "spec_src=station.hetsrc\n",
    "\n",
    "station.TWPA.on()\n",
    "\n",
    "ctl = ss.setup_soft_sweep(spec_frequencies, spec_src.frequency, time_bin=0.2e-3, integration_time=20e-3, setup_awg=True,\n",
    "                          post_integration_delay=0.02e-3, waiting_time_per_value=40e-3)\n",
    "ctl.settling_time = 1e-3\n",
    "so = sweep(dac_leftplunger_fine, np.arange(cur_plunger,cur_plunger+60,3))(\n",
    "    ss.measure_soft_time_avg_spec(spec_frequencies, spec_src, setup=False, \n",
    "                                  setup_awg=False,\n",
    "                                   phase_reference_arm_delay=phase_reference_arm_delay, \n",
    "                                   phase_reference_arm=True\n",
    "                                 )\n",
    ")\n",
    "\n",
    "result = do_experiment(f\"resonator_gate_response/{SAMPLE}\", so, live_plot=False)\n",
    "\n"
   ]
  },
  {
   "cell_type": "code",
   "execution_count": null,
   "metadata": {
    "ExecuteTime": {
     "end_time": "2018-11-22T16:10:20.338235Z",
     "start_time": "2018-11-22T16:01:33.118448Z"
    }
   },
   "outputs": [],
   "source": [
    "station.alazar.clear_buffers()\n",
    "cur_plunger = dac_leftplunger_fine()\n",
    "station.hetsrc.RF.power(-60)\n",
    "spec_frequencies=np.arange(5.34e9, 5.365e9, 0.2e6)\n",
    "spec_src=station.hetsrc\n",
    "\n",
    "station.TWPA.on()\n",
    "\n",
    "ctl = ss.setup_soft_sweep(spec_frequencies, spec_src.frequency, time_bin=0.2e-3, integration_time=20e-3, setup_awg=True,\n",
    "                          post_integration_delay=0.02e-3, waiting_time_per_value=40e-3)\n",
    "ctl.settling_time = 1e-3\n",
    "so = sweep(dac_rightplunger_fine, np.arange(cur_plunger,cur_plunger-480,-12))(\n",
    "    ss.measure_soft_time_avg_spec(spec_frequencies, spec_src, setup=False, \n",
    "                                  setup_awg=False,\n",
    "                                   phase_reference_arm_delay=phase_reference_arm_delay, \n",
    "                                   phase_reference_arm=True\n",
    "                                 )\n",
    ")\n",
    "\n",
    "result = do_experiment(f\"resonator_gate_response/{SAMPLE}\", so, live_plot=False)\n",
    "\n"
   ]
  },
  {
   "cell_type": "code",
   "execution_count": null,
   "metadata": {},
   "outputs": [],
   "source": [
    "cur_plunger = dac_leftplunger_fine()\n",
    "station.hetsrc.RF.power(-65)\n",
    "spec_frequencies=np.arange(5.300e9, 5.320e9, 0.2e6)\n",
    "spec_src=station.hetsrc\n",
    "\n",
    "ctl = ss.setup_single_averaged_IQpoint(0.2e-3, 30e-3, setup_awg=True)\n",
    "\n",
    "\n",
    "\n",
    "so = sweep(dac_leftplunger_fine, np.arange(cur_plunger,cur_plunger-60,-3))(sweep(spec_src.frequency, spec_frequencies)(\n",
    "    measure(ss.get_single_averaged_IQpoint_chanA),\n",
    "))\n",
    "    \n",
    "result = do_experiment(f'resonator_gate_response/{SAMPLE}', so, live_plot=True)"
   ]
  },
  {
   "cell_type": "markdown",
   "metadata": {},
   "source": [
    "### Vs Backgate"
   ]
  },
  {
   "cell_type": "code",
   "execution_count": null,
   "metadata": {},
   "outputs": [],
   "source": [
    "station.alazar.clear_buffers()\n",
    "cur_backgate = station.ivvi.dac2()\n",
    "station.hetsrc.RF.power(-62)\n",
    "spec_frequencies=np.arange(5.338e9, 5.365e9, 0.2e6)\n",
    "spec_src=station.hetsrc\n",
    "\n",
    "station.TWPA.on()\n",
    "\n",
    "ctl = ss.setup_soft_sweep(spec_frequencies, spec_src.frequency, time_bin=0.2e-3, integration_time=20e-3, setup_awg=True,\n",
    "                          post_integration_delay=0.02e-3, waiting_time_per_value=40e-3)\n",
    "\n",
    "ctl.settling_time = 1e-3\n",
    "so = sweep(dac_backgate, np.arange(cur_backgate,cur_backgate+20.,.5))(\n",
    "    ss.measure_soft_time_avg_spec(spec_frequencies, spec_src, setup=False, \n",
    "                                  setup_awg=False,\n",
    "                                   phase_reference_arm_delay=phase_reference_arm_delay, \n",
    "                                   phase_reference_arm=True\n",
    "                                 ))\n",
    "\n",
    "result = do_experiment(f\"resonator_gate_response/{SAMPLE}\", so, live_plot=False)"
   ]
  },
  {
   "cell_type": "markdown",
   "metadata": {},
   "source": [
    "### Vs Repetition"
   ]
  },
  {
   "cell_type": "code",
   "execution_count": null,
   "metadata": {},
   "outputs": [],
   "source": [
    "station.alazar.clear_buffers()\n",
    "station.hetsrc.RF.power(-62.5)\n",
    "spec_frequencies=np.arange(5.3375e9, 5.3425e9, 0.1e6)\n",
    "spec_src=station.hetsrc\n",
    "station.TWPA.off()\n",
    "\n",
    "ctl = ss.setup_soft_sweep(spec_frequencies, spec_src.frequency, time_bin=0.2e-3, integration_time=20e-3, setup_awg=True,\n",
    "                          post_integration_delay=0.02e-3, waiting_time_per_value=40e-3)\n",
    "\n",
    "ctl.settling_time = 1e-3\n",
    "so = sweep(set_none, np.linspace(1,20,20))(\n",
    "    ss.measure_soft_time_avg_spec(spec_frequencies, spec_src, setup=False, \n",
    "                                  setup_awg=False,\n",
    "                                   phase_reference_arm_delay=phase_reference_arm_delay, \n",
    "                                   phase_reference_arm=True\n",
    "                                 ))\n",
    "\n",
    "result = do_experiment(f\"resonator_repetition_response/{SAMPLE}\", so, live_plot=False)"
   ]
  },
  {
   "cell_type": "code",
   "execution_count": null,
   "metadata": {},
   "outputs": [],
   "source": [
    "station.alazar.clear_buffers()\n",
    "#station.hetsrc.RF.power(-62.5)\n",
    "station.hetsrc.frequency(5.3506e9)\n",
    "spec_src=station.hetsrc\n",
    "spec_powers = np.linspace(-70,-20,10)\n",
    "station.TWPA.off()\n",
    "\n",
    "ctl = ss.setup_soft_sweep(np.linspace(1,200,200), set_repetition, time_bin=0.2e-3, integration_time=40e-3, setup_awg=True,\n",
    "                          post_integration_delay=0.02e-3, waiting_time_per_value=50e-3)\n",
    "ctl.settling_time = 1e-3\n",
    "\n",
    "so = sweep(station.hetsrc.RF.power,spec_powers)(ss.measure_soft_gate_sweep(\n",
    "    np.linspace(1,200,200), set_repetition, setup=False, phase_reference_arm=False))\n",
    "\n",
    "\n",
    "result = do_experiment(f\"resonator_1D_repetition_power_response/{SAMPLE}\", so, live_plot=False)"
   ]
  },
  {
   "cell_type": "code",
   "execution_count": null,
   "metadata": {},
   "outputs": [],
   "source": [
    "station.alazar.clear_buffers()\n",
    "station.hetsrc.RF.power(-62.5)\n",
    "spec_frequencies=np.arange(5.347e9, 5.353e9, 0.1e6)\n",
    "spec_src=station.hetsrc\n",
    "spec_powers = np.linspace(-70,-20,10)\n",
    "station.TWPA.off()\n",
    "\n",
    "ctl = ss.setup_soft_sweep(spec_frequencies, spec_src.frequency, time_bin=0.2e-3, integration_time=20e-3, setup_awg=True,\n",
    "                          post_integration_delay=0.02e-3, waiting_time_per_value=40e-3)\n",
    "\n",
    "ctl.settling_time = 1e-3\n",
    "so = sweep(station.hetsrc.RF.power,spec_powers)(sweep(set_none, np.linspace(1,20,20))(\n",
    "    ss.measure_soft_time_avg_spec(spec_frequencies, spec_src, setup=False, \n",
    "                                  setup_awg=False,\n",
    "                                   phase_reference_arm_delay=0, \n",
    "                                   phase_reference_arm=False\n",
    "                                 )))\n",
    "\n",
    "result = do_experiment(f\"resonator_repetition_response_vs_power/{SAMPLE}\", so, live_plot=False)"
   ]
  },
  {
   "cell_type": "markdown",
   "metadata": {},
   "source": [
    "# Qubit spec"
   ]
  },
  {
   "cell_type": "markdown",
   "metadata": {},
   "source": [
    "## Spec vs power"
   ]
  },
  {
   "cell_type": "code",
   "execution_count": null,
   "metadata": {
    "ExecuteTime": {
     "end_time": "2018-11-22T14:14:42.862580Z",
     "start_time": "2018-11-22T14:14:40.576Z"
    }
   },
   "outputs": [],
   "source": [
    "station.alazar.clock_source()"
   ]
  },
  {
   "cell_type": "code",
   "execution_count": null,
   "metadata": {
    "ExecuteTime": {
     "end_time": "2018-11-22T14:14:42.863564Z",
     "start_time": "2018-11-22T14:14:40.579Z"
    }
   },
   "outputs": [],
   "source": [
    "station = qcodes.Station.default #spec at one power\n",
    "station.hetsrc.RF.power(-62.5)\n",
    "station.hetsrc.frequency(5.347e9)\n",
    "station.qubsrc.power(-10)\n",
    "station.TWPA.on()\n",
    "qubit_frequencies = np.arange(2.8e9, 4.9e9, 10e6)\n",
    "spec_src=station.qubsrc\n",
    "\n",
    "ctl = ss.setup_soft_sweep(qubit_frequencies, spec_src.frequency, time_bin=0.2e-3, integration_time=30e-3, setup_awg=True,\n",
    "                          post_integration_delay=0.02e-3, waiting_time_per_value=40e-3)\n",
    "\n",
    "\n",
    "#spec_src.output_rf('ON')\n",
    "so = ss.measure_soft_time_avg_spec(qubit_frequencies, spec_src, setup=False, \n",
    "                                  setup_awg=False,\n",
    "                                   phase_reference_arm_delay=0, \n",
    "                                   phase_reference_arm=False\n",
    "                                 )\n",
    "\n",
    "result = do_experiment(f'qubit_spec/{SAMPLE}', so, live_plot=False)\n"
   ]
  },
  {
   "cell_type": "code",
   "execution_count": null,
   "metadata": {
    "ExecuteTime": {
     "end_time": "2018-11-22T14:14:42.864566Z",
     "start_time": "2018-11-22T14:14:40.586Z"
    }
   },
   "outputs": [],
   "source": [
    "station = qcodes.Station.default ##spec vs RF power\n",
    "station.hetsrc.RF.power(-60)\n",
    "station.hetsrc.frequency(5.3046e9)\n",
    "station.qubsrc.power(-5)\n",
    "qubit_frequencies = np.arange(4.4e9, 4.9e9, 10e6)\n",
    "RF_powers = np.linspace(-70,-40,5)\n",
    "spec_src=station.qubsrc\n",
    "\n",
    "ctl = ss.setup_soft_sweep(qubit_frequencies, spec_src.frequency, integration_time=100e-3)\n",
    "\n",
    "\n",
    "spec_src.output_rf('ON')\n",
    "so = sweep(station.hetsrc.RF.power,RF_powers)(\n",
    "    ss.measure_soft_time_avg_spec(qubit_frequencies, spec_src, integration_time=100e-3, setup=False))\n",
    "\n",
    "result = do_experiment(f'qubit_spec_vs_power/{SAMPLE}', so, live_plot=True)\n"
   ]
  },
  {
   "cell_type": "markdown",
   "metadata": {},
   "source": [
    "## Spec vs gates"
   ]
  },
  {
   "cell_type": "markdown",
   "metadata": {},
   "source": [
    "### Coarse scans (requiring resonator frequency change)"
   ]
  },
  {
   "cell_type": "code",
   "execution_count": null,
   "metadata": {
    "ExecuteTime": {
     "end_time": "2018-11-22T19:08:28.853349Z",
     "start_time": "2018-11-22T19:08:28.811315Z"
    }
   },
   "outputs": [],
   "source": [
    "station.alazar.clear_buffers()\n",
    "station = qcodes.Station.default\n",
    "station.hetsrc.RF.power(-60.)\n",
    "station.qubsrc.power(-12)\n",
    "het_freqs = np.arange(5.34e9, 5.352e9, 0.95e6)\n",
    "qub_freqs = np.arange(6.1e9, 8.5e9, 12.5e6)\n",
    "cur_cutter = dac_cutter()\n",
    "cutter_voltages = np.arange(120., 400., 2.0)\n",
    "station.TWPA.on()\n",
    "spec_src=station.qubsrc\n",
    "spec_src.on()\n",
    "\n",
    "ctl = ss.setup_soft_sweep(het_freqs, station.hetsrc.frequency, time_bin=0.2e-3, integration_time=30e-3, setup_awg=True,\n",
    "                          post_integration_delay=0.02e-3, waiting_time_per_value=40e-3)\n",
    "ctl.settling_time = 1e-3\n",
    "so = sweep(dac_cutter, cutter_voltages)(\n",
    "    ss.measure_qubit_spec_optimize_resonator(het_freqs, station.hetsrc, \n",
    "                                             qub_freqs, spec_src, time_bin=0.2e-3, integration_time=30e-3, \n",
    "                                             post_integration_delay=0.02e-3, waiting_time_per_value=40e-3, \n",
    "                                             phase_reference_arm=False)) \n",
    "\n",
    "#note that the two integration times must match!!\n",
    "\n",
    "\n",
    "result = do_experiment(f'optimizedqubit_spec/{SAMPLE}', so, live_plot=True)"
   ]
  },
  {
   "cell_type": "code",
   "execution_count": null,
   "metadata": {
    "ExecuteTime": {
     "end_time": "2018-11-23T20:13:18.726502Z",
     "start_time": "2018-11-23T17:34:06.448827Z"
    },
    "scrolled": false
   },
   "outputs": [],
   "source": [
    "station = qcodes.Station.default\n",
    "station.hetsrc.RF.power(-62.5)\n",
    "station.qubsrc.power(-10)\n",
    "het_freqs = np.arange(5.285e9, 5.32e9, 0.8e6)\n",
    "qub_freqs = np.arange(2.8e9, 4.9e9, 15e6)\n",
    "cur_cutter = dac_cutter()\n",
    "cutter_voltages = np.arange(520., 320., -0.4)\n",
    "station.TWPA.on()\n",
    "spec_src=station.qubsrc\n",
    "spec_src.on()\n",
    "\n",
    "ctl = ss.setup_soft_sweep(het_freqs, station.hetsrc.frequency, time_bin=0.2e-3, integration_time=30e-3, setup_awg=True,\n",
    "                          post_integration_delay=0.02e-3, waiting_time_per_value=40e-3)\n",
    "ctl.settling_time = 1e-3\n",
    "so = sweep(dac_cutter, cutter_voltages)(\n",
    "    ss.measure_qubit_spec_optimize_resonator(het_freqs, station.hetsrc, \n",
    "                                             qub_freqs, spec_src, time_bin=0.2e-3, integration_time=30e-3, \n",
    "                                             post_integration_delay=0.02e-3, waiting_time_per_value=40e-3, \n",
    "                                             phase_reference_arm=False)) \n",
    "\n",
    "#note that the two integration times must match!!\n",
    "\n",
    "\n",
    "result = do_experiment(f'optimizedqubit_spec/{SAMPLE}', so, live_plot=True)"
   ]
  },
  {
   "cell_type": "code",
   "execution_count": null,
   "metadata": {
    "ExecuteTime": {
     "end_time": "2018-11-24T00:38:34.937426Z",
     "start_time": "2018-11-23T20:13:18.728504Z"
    }
   },
   "outputs": [],
   "source": [
    "station = qcodes.Station.default\n",
    "station.hetsrc.RF.power(-65)\n",
    "station.qubsrc.power(-20)\n",
    "het_freqs = np.arange(5.285e9, 5.32e9, 0.8e6)\n",
    "qub_freqs = np.arange(5.8e9, 9.5e9, 15e6)\n",
    "cur_cutter = dac_cutter()\n",
    "cutter_voltages = np.arange(cur_cutter, cur_cutter+120., 0.2)\n",
    "station.TWPA.on()\n",
    "spec_src=station.qubsrc\n",
    "spec_src.on()\n",
    "\n",
    "ctl = ss.setup_soft_sweep(het_freqs, station.hetsrc.frequency, time_bin=0.2e-3, integration_time=30e-3, setup_awg=True,\n",
    "                          post_integration_delay=0.02e-3, waiting_time_per_value=40e-3)\n",
    "ctl.settling_time = 1e-3\n",
    "so = sweep(dac_cutter, cutter_voltages)(\n",
    "    ss.measure_qubit_spec_optimize_resonator(het_freqs, station.hetsrc, \n",
    "                                             qub_freqs, spec_src, time_bin=0.2e-3, integration_time=30e-3, \n",
    "                                             post_integration_delay=0.02e-3, waiting_time_per_value=40e-3, \n",
    "                                             phase_reference_arm=False)) \n",
    "\n",
    "#note that the two integration times must match!!\n",
    "\n",
    "result = do_experiment(f'optimizedqubit_spec/{SAMPLE}', so, live_plot=True)"
   ]
  },
  {
   "cell_type": "code",
   "execution_count": null,
   "metadata": {
    "ExecuteTime": {
     "end_time": "2018-11-24T06:02:14.515439Z",
     "start_time": "2018-11-24T00:38:34.938427Z"
    }
   },
   "outputs": [],
   "source": [
    "station = qcodes.Station.default\n",
    "station.hetsrc.RF.power(-65)\n",
    "station.qubsrc.power(-20)\n",
    "het_freqs = np.arange(5.3e9,5.32e9,0.5e6)\n",
    "qub_freqs = np.arange(5.8e9, 9.5e9, 10e6)\n",
    "cur_cutter = dac_cutter()\n",
    "cutter_voltages = np.arange(0., 50., 0.2)\n",
    "station.TWPA.on()\n",
    "\n",
    "ctl = ss.setup_soft_sweep(het_freqs, station.hetsrc.frequency, integration_time=30e-3)\n",
    "so = sweep(dac_cutter, cutter_voltages)(\n",
    "    ss.measure_qubit_spec_optimize_resonator(het_freqs, station.hetsrc, \n",
    "                                           qub_freqs, station.qubsrc, integration_time=30e-3)) \n",
    "\n",
    "#note that the two integration times must match!!\n",
    "\n",
    "result = do_experiment(f'optimizedqubit_spec/{SAMPLE}', so, live_plot=True)"
   ]
  },
  {
   "cell_type": "markdown",
   "metadata": {},
   "source": [
    "### Fine scans (resonator does not change)"
   ]
  },
  {
   "cell_type": "code",
   "execution_count": null,
   "metadata": {
    "ExecuteTime": {
     "end_time": "2018-11-23T08:28:48.215040Z",
     "start_time": "2018-11-23T08:28:46.802600Z"
    }
   },
   "outputs": [],
   "source": [
    "dac_cutter(-110.)"
   ]
  },
  {
   "cell_type": "code",
   "execution_count": null,
   "metadata": {
    "ExecuteTime": {
     "end_time": "2018-11-23T08:29:08.657603Z",
     "start_time": "2018-11-23T08:29:01.933256Z"
    }
   },
   "outputs": [],
   "source": [
    "station.hetsrc.RF.power(-60)\n",
    "hetfreqs = np.arange(5.29e9, 5.325e9, 0.4e6)\n",
    "station.TWPA.on()\n",
    "ctl = ss.setup_soft_sweep(hetfreqs, station.hetsrc.frequency, integration_time=30e-3, setup_awg = True)\n",
    "testout = get_resonator_spec_and_fit(hetfreqs)\n",
    "\n",
    "plt.figure()\n",
    "plt.plot(hetfreqs,testout[0]**2,'-')\n",
    "plt.plot(hetfreqs,testout[2].best_fit)\n",
    "plt.xlabel('Frequency [GHz]')\n",
    "plt.ylabel('Magnitude**2 [a.u.]')\n",
    "plt.title('Center = %.4f GHz, FWHM = %.2f MHz, Q = %.2f' % (testout[2].params['center'].value*1e-9, 2*testout[2].params['sigma'].value*1e-6, testout[2].params['center'].value/(2*testout[2].params['sigma'].value)))"
   ]
  },
  {
   "cell_type": "code",
   "execution_count": null,
   "metadata": {
    "ExecuteTime": {
     "end_time": "2018-11-23T08:31:38.999765Z",
     "start_time": "2018-11-23T08:29:40.521692Z"
    }
   },
   "outputs": [],
   "source": [
    "station = qcodes.Station.default #charge dispersions\n",
    "\n",
    "station.hetsrc.RF.power(-62.)\n",
    "station.hetsrc.frequency(5.347e9)\n",
    "station.qubsrc.power(-8)\n",
    "qubit_frequencies = np.arange(5.8e9, 9.5e9, 15e6)\n",
    "cur_plunger = dac_rightplunger_fine()\n",
    "plunger_voltages = np.arange(cur_plunger,cur_plunger-480,-12)\n",
    "spec_src=station.qubsrc\n",
    "\n",
    "ctl = ss.setup_soft_sweep(qubit_frequencies, spec_src.frequency, time_bin=0.2e-3, integration_time=40e-3, setup_awg=True,\n",
    "                          post_integration_delay=0.02e-3, waiting_time_per_value=40e-3)\n",
    "station.TWPA.on()\n",
    "spec_src.on()\n",
    "so = sweep(dac_rightplunger_fine, plunger_voltages)(\n",
    "    ss.measure_soft_time_avg_spec(qubit_frequencies, spec_src, setup=False, \n",
    "                                   phase_reference_arm=True))\n",
    "\n",
    "result = do_experiment(f'charge_dispersions/{SAMPLE}', so, live_plot=False)\n"
   ]
  },
  {
   "cell_type": "code",
   "execution_count": null,
   "metadata": {
    "ExecuteTime": {
     "end_time": "2018-11-22T15:55:43.381510Z",
     "start_time": "2018-11-22T15:27:36.382254Z"
    }
   },
   "outputs": [],
   "source": [
    "for int_time in np.array([20e-3,30e-3,40e-3,50e-3]):\n",
    "    for S1_power in np.array([-40,-35,-25]):\n",
    "        station = qcodes.Station.default #charge dispersions\n",
    "        station.hetsrc.RF.power(-65)\n",
    "        station.hetsrc.frequency(5.3103e9)\n",
    "        station.qubsrc.power(S1_power)\n",
    "        qubit_frequencies = np.arange(5.8e9, 7.2e9, 10e6)\n",
    "        # cur_plunger = dac_leftplunger_fine()\n",
    "        plunger_voltages = np.arange(0., 60., 3)\n",
    "        spec_src=station.qubsrc\n",
    "\n",
    "        ctl = ss.setup_soft_sweep(qubit_frequencies, spec_src.frequency, integration_time=int_time)\n",
    "\n",
    "        station.TWPA.on()\n",
    "        spec_src.on()\n",
    "        so = sweep(dac_leftplunger_fine, plunger_voltages)(\n",
    "            ss.measure_soft_time_avg_spec(qubit_frequencies, spec_src, setup=False))\n",
    "\n",
    "        result = do_experiment(f'charge_dispersions/{SAMPLE}', so, live_plot=True)\n"
   ]
  },
  {
   "cell_type": "code",
   "execution_count": null,
   "metadata": {
    "ExecuteTime": {
     "end_time": "2018-11-22T14:14:42.870570Z",
     "start_time": "2018-11-22T14:14:40.609Z"
    }
   },
   "outputs": [],
   "source": [
    "station = qcodes.Station.default #charge dispersions with phase information\n",
    "station.hetsrc.RF.power(-50)\n",
    "station.hetsrc.frequency(5.3046e9)\n",
    "station.qubsrc.power(-5)\n",
    "qubit_frequencies = np.arange(4.0e9, 4.9e9, 10e6)\n",
    "cur_plunger = dac_leftplunger_fine()\n",
    "plunger_voltages = np.arange(0., 60., 2)\n",
    "spec_src=station.qubsrc\n",
    "\n",
    "ctl = ss.setup_single_averaged_IQpoint(0.2e-3, 100e-3, setup_awg=True)\n",
    "\n",
    "\n",
    "spec_src.output_rf('ON')\n",
    "so = sweep(dac_leftplunger_fine, plunger_voltages)(sweep(station.qubsrc.frequency, qubit_frequencies)(\n",
    "    measure(ss.get_single_averaged_IQpoint_chanA),\n",
    "))\n",
    "    \n",
    "result = do_experiment(f'charge_dispersions/{SAMPLE}', so, live_plot=True)"
   ]
  },
  {
   "cell_type": "markdown",
   "metadata": {},
   "source": [
    "# Quasiparticles"
   ]
  },
  {
   "cell_type": "code",
   "execution_count": null,
   "metadata": {},
   "outputs": [],
   "source": [
    "station.awg.set_sqel_event_jump_type(1000,'INDEX')\n",
    "station.awg.set_sqel_event_target_index(1000,1)\n",
    "station.awg.set_sqel_loopcnt_to_inf(1000)\n"
   ]
  },
  {
   "cell_type": "code",
   "execution_count": null,
   "metadata": {
    "ExecuteTime": {
     "end_time": "2018-11-26T09:26:35.335442Z",
     "start_time": "2018-11-26T09:26:32.529336Z"
    }
   },
   "outputs": [],
   "source": [
    "import pytopo\n",
    "reload(pytopo.rf.alazar.awg_sequences)\n",
    "\n"
   ]
  },
  {
   "cell_type": "code",
   "execution_count": null,
   "metadata": {
    "ExecuteTime": {
     "end_time": "2018-11-23T13:18:26.671950Z",
     "start_time": "2018-11-23T13:18:26.667947Z"
    }
   },
   "outputs": [],
   "source": [
    "station.TWPA.power(7.0)\n",
    "station.TWPA.frequency(7.964e9)"
   ]
  },
  {
   "cell_type": "code",
   "execution_count": null,
   "metadata": {
    "ExecuteTime": {
     "end_time": "2018-11-23T13:23:55.622064Z",
     "start_time": "2018-11-23T13:23:54.850693Z"
    }
   },
   "outputs": [],
   "source": [
    "from characterizations import quasiparticles as qpp\n",
    "from pytopo.awg_sequencing import awg_tools\n",
    "import pytopo.rf.alazar.awg_sequences\n",
    "from pytopo.rf.alazar.awg_sequences import QPTriggerSequence\n",
    "\n",
    "reload(pytopo.rf.alazar.awg_sequences)\n",
    "\n",
    "station.alazar.clear_buffers()\n",
    "\n",
    "SR = 400e6\n",
    "IF = 25e6\n",
    "IF_per = int(SR/IF)\n",
    "t_max = 8e-3\n",
    "navg = 32\n",
    "\n",
    "QPTriggerSequence.chan_map = {\n",
    "    1 : ['pulse', 'ats_trigger', 'ro_trigger'],\n",
    "    2 : [None, 'qb_trigger', None],\n",
    "}\n",
    "QPTriggerSequence.chan_settings = {\n",
    "    1 : {\n",
    "        'marker_hi' : [1.5, 1.5],\n",
    "        'marker_lo' : [-0.3, -0.3],\n",
    "        },\n",
    "    2 : {\n",
    "        'marker_hi' : [1.5, 1.5],\n",
    "        'marker_lo' : [-0.3, -0.3],\n",
    "        },\n",
    "}\n",
    "\n",
    "QPtrig_seq = QPTriggerSequence(station.awg, SR=1e7)\n",
    "QPtrig_seq.load_sequence(cycle_time=t_max+1e-3, plot=False, use_event_seq = True, ncycles = navg)\n"
   ]
  },
  {
   "cell_type": "code",
   "execution_count": null,
   "metadata": {
    "ExecuteTime": {
     "end_time": "2018-11-23T12:55:02.128712Z",
     "start_time": "2018-11-23T12:55:02.103105Z"
    },
    "scrolled": true
   },
   "outputs": [],
   "source": [
    "\n",
    "\n",
    "npoints = t_max*SR\n",
    "ts = np.arange(npoints)/npoints*t_max\n",
    "\n",
    "#station.alazar.clock_source('INTERNAL_CLOCK')\n",
    "station.alazar.clock_source('EXTERNAL_CLOCK_10MHz_REF')\n",
    "station.alazar.sample_rate(int(SR))\n",
    "#station.alazar.sync_settings_to_card()\n",
    "#station.alazar.sample_rate(SR)\n",
    "ctl = station.Qp_detector\n",
    "\n",
    "\n",
    "\n",
    "dIQ = np.exp(-2.j*np.pi*np.arange(IF_per)/IF_per)\n",
    "#\n",
    "station.alazar.channel_range1(0.4)\n",
    "station.alazar.channel_range2(0.4)\n",
    "\n",
    "awg = station.awg\n",
    "#awg_tools.trigger_awg_when_ready(awg)\n",
    "def take_data():\n",
    "    npoints = t_max*SR\n",
    "    station.alazar.clear_buffers()\n",
    "    station.Qp_detector.setup_acquisition(npoints, 1, navg)\n",
    "    station.alazar.clear_buffers_after_acquisition = False\n",
    "    \n",
    "    data = ctl.acquisition()\n",
    "    station.alazar.clear_buffers_after_acquisition = True\n",
    "    \n",
    "    return data\n",
    "#plt.plot(dIQ)\n",
    "#station.awg.force_trigger()\n",
    "\n",
    "\n",
    "#dat = take_data()\n"
   ]
  },
  {
   "cell_type": "code",
   "execution_count": null,
   "metadata": {
    "ExecuteTime": {
     "end_time": "2018-11-23T12:50:58.904703Z",
     "start_time": "2018-11-23T12:50:58.900717Z"
    }
   },
   "outputs": [],
   "source": [
    "station.TWPA.power(TWPApoints[idx][1])\n",
    "station.TWPA.frequency(TWPApoints[idx][0]*1e9)"
   ]
  },
  {
   "cell_type": "code",
   "execution_count": null,
   "metadata": {
    "ExecuteTime": {
     "end_time": "2018-11-23T13:31:56.871204Z",
     "start_time": "2018-11-23T13:31:56.439836Z"
    }
   },
   "outputs": [],
   "source": [
    "TWPApoints = np.array([(7.831, 5.84), (7.902, 5.17), (7.978, 5.34), (8.01, 4.75), (8.02, 5.78)])"
   ]
  },
  {
   "cell_type": "code",
   "execution_count": null,
   "metadata": {
    "ExecuteTime": {
     "start_time": "2018-11-23T13:33:11.265Z"
    }
   },
   "outputs": [],
   "source": [
    "idx = 4\n",
    "station.hetsrc.frequency(5.306e9)\n",
    "station.TWPA.power(TWPApoints[idx][1])\n",
    "station.TWPA.frequency(TWPApoints[idx][0]*1e9)\n",
    "station.TWPA.on()\n",
    "station.hetsrc.RF.power(-55)\n",
    "\n",
    "data = take_data()\n",
    "fake = np.cos(2*np.pi*ts*IF)\n",
    "t_dat = 1.*data[0,0,0,:,0]\n",
    "HIdat = 1.*data[0,0,0,:,0]\n",
    "HIdatl = 1.*data[0,0,0,:,1] \n",
    "fs, PSD = qpp.PSD(ts, t_dat)\n",
    "fs/=1e6\n",
    "plt.figure('A')\n",
    "plt.plot(fs[1:int(npoints/2)], PSD[1:int(npoints/2)])\n",
    "plt.yscale('log')\n",
    "t_dat = 1.*data[0,0,0,:,1]\n",
    "fs, PSD = qpp.PSD(ts, t_dat)\n",
    "fs/=1e6\n",
    "plt.figure('B')\n",
    "plt.plot(fs[1:int(npoints/2)], PSD[1:int(npoints/2)])\n",
    "plt.yscale('log')\n",
    "#plt.xscale('log')\n",
    "fs\n",
    "if 0:\n",
    "    station.TWPA.off()\n",
    "    data = take_data()\n",
    "    fake = np.cos(2*np.pi*ts*IF)\n",
    "    t_dat = 1.*data[0,0,0,:,0]\n",
    "    fs, PSD = qpp.PSD(ts, t_dat)\n",
    "    fs/=1e6\n",
    "    plt.figure('A')\n",
    "    plt.plot(fs[1:int(npoints/2)], PSD[1:int(npoints/2)])\n",
    "    plt.yscale('log')\n",
    "    t_dat = 1.*data[0,4,0,:,1]\n",
    "    fs, PSD = qpp.PSD(ts, t_dat)\n",
    "    fs/=1e6\n",
    "    plt.figure('B')\n",
    "    plt.plot(fs[1:int(npoints/2)], PSD[1:int(npoints/2)])\n",
    "    plt.yscale('log')\n",
    "    #plt.xscale('log')\n",
    "    fs\n"
   ]
  },
  {
   "cell_type": "code",
   "execution_count": null,
   "metadata": {
    "ExecuteTime": {
     "end_time": "2018-11-23T09:43:47.614538Z",
     "start_time": "2018-11-23T09:43:01.513292Z"
    }
   },
   "outputs": [],
   "source": [
    "reload(qpp)\n",
    "\n",
    "\n",
    "\n",
    "kernel = 100\n",
    "ncycles = 5000\n",
    "\n",
    "\n",
    "\n",
    "t_dat = data[0,:,0,:,0]\n",
    "ref = data[0,:,0,:,1]\n",
    "\n",
    "plt.figure('raw_ref_sig')\n",
    "plt.subplot(211)\n",
    "plt.plot(ref[0,:ncycles*16])\n",
    "plt.plot(ncycles*list(dIQ.imag/20))\n",
    "plt.subplot(212)\n",
    "plt.plot(t_dat[0,:ncycles*16])\n",
    "demod_trace = qpp.demod(t_dat, dIQ, 1, reference = ref)\n",
    "demod_ref = qpp.demod(ref, dIQ, 1)\n",
    "plt.figure('demod_sig')\n",
    "plt.subplot(211)\n",
    "plt.plot(demod_trace[0,:ncycles].real)\n",
    "plt.subplot(212)\n",
    "plt.plot(demod_trace[0,:ncycles].imag)\n",
    "\n",
    "plt.figure('demod_ref')\n",
    "plt.subplot(211)\n",
    "plt.plot(demod_ref[0,:ncycles].real)\n",
    "plt.subplot(212)\n",
    "plt.plot(demod_ref[0,:ncycles].imag)\n",
    "\n",
    "npoints = len(demod_trace[0,:])\n",
    "ts = np.arange(npoints)/npoints*t_max\n",
    "fs, PSDs = qpp.PSDs(ts/1e-6, demod_trace)\n",
    "npoints = int(len(fs)/2)\n",
    "plt.figure('psd sig')\n",
    "plt.subplot(211)\n",
    "plt.plot(fs[1:npoints], PSDs[1:npoints])\n",
    "plt.yscale('log')\n",
    "plt.xscale('log')\n",
    "plt.subplot(212)\n",
    "plt.plot(-fs[npoints:], PSDs[npoints:])\n",
    "plt.yscale('log')\n",
    "plt.xscale('log')\n",
    "plt.show()"
   ]
  },
  {
   "cell_type": "code",
   "execution_count": null,
   "metadata": {
    "ExecuteTime": {
     "end_time": "2018-11-23T10:55:54.318520Z",
     "start_time": "2018-11-23T10:55:49.265766Z"
    }
   },
   "outputs": [],
   "source": [
    "reload(qpp)\n",
    "t_dat = data[0,:,0,:,0]\n",
    "ref = data[0,:,0,:,1]\n",
    "len(dIQ)\n",
    "#t_dat = np.cos(2*np.pi*IF*ts)\n",
    "ind =15\n",
    "demod_trace = qpp.demod(t_dat[ind,:], dIQ, 20)\n",
    "plt.figure()\n",
    "plt.plot(demod_trace.real)\n",
    "plt.plot(demod_trace.imag)\n",
    "\n",
    "demod_trace = qpp.demod(t_dat[4,:], dIQ, 200, reference = ref[4,:])\n",
    "plt.plot(demod_trace.real)\n",
    "plt.plot(demod_trace.imag)\n",
    "\n",
    "plt.figure()\n",
    "plt.plot(ref[ind,:])\n",
    "plt.plot(t_dat[ind,:])"
   ]
  },
  {
   "cell_type": "code",
   "execution_count": null,
   "metadata": {},
   "outputs": [],
   "source": [
    "plt.figure()\n",
    "plt.clf()\n",
    "ind = 3\n",
    "buf = (1.*station.alazar.buffer_list[ind].buffer).flatten()\n",
    "bufA = 4.001*buf[::2]#[:int(len(buf)/2)]\n",
    "bufB = 1.*buf[1::2]#[int(len(buf)/2):]\n",
    "npoints = len(bufA)\n",
    "#bufA_prev = bufA*1.\n",
    "ts = np.arange(npoints)/npoints*t_max*1e6\n",
    "plt.plot(ts, bufA, label = 'sig %s'%ind)\n",
    "plt.plot(ts, bufB, label = 'ref %s'%ind)\n",
    "plt.plot(ts[:len(dIQ)], dIQ*5000+30000)\n",
    "\n",
    "dtrace = qpp.demod(bufB, dIQ, 1)\n",
    "dtrace_ref = qpp.demod(bufB, dIQ, 1)\n",
    "npoints = len(dtrace)\n",
    "ts = np.arange(npoints)/npoints*t_max*1e6\n",
    "plt.plot(ts, dtrace.real+-30000, label = 'ref real %s'%ind)\n",
    "plt.plot(ts, dtrace.imag+-30000, label = 'ref imag %s'%ind)\n",
    "\n",
    "ind = 8\n",
    "buf = (1.*station.alazar.buffer_list[ind].buffer).flatten()\n",
    "bufA = 4.*buf[::2]#[:int(len(buf)/2)]\n",
    "bufB = 1.*buf[1::2]#[int(len(buf)/2):]\n",
    "npoints = len(bufA)\n",
    "ts_raw = np.arange(npoints)/npoints*t_max*1e6\n",
    "plt.plot(ts_raw, bufA+50e3, label = 'sig %s'%ind)\n",
    "plt.plot(ts_raw, bufB+20e3, label = 'ref %s'%ind)\n",
    "plt.plot(ts_raw[:len(dIQ)], dIQ*5000+30000)\n",
    "\n",
    "#plt.plot(station.alazar.buffer_list[8].buffer[1::50])\n",
    "\n",
    "\n",
    "dtrace = qpp.demod(bufB, dIQ, 1)\n",
    "dtrace_ref = qpp.demod(bufB, dIQ, 1)\n",
    "npoints = len(dtrace)\n",
    "ts = np.arange(npoints)/npoints*t_max*1e6\n",
    "plt.plot(ts, dtrace.real+0*30000, label = 'ref real %s'%ind)\n",
    "plt.plot(ts, dtrace.imag+0*30000, label = 'ref imag %s'%ind)\n",
    "1024/len(dIQ)\n",
    "plt.legend()\n",
    "#plt.xlim(0,)"
   ]
  },
  {
   "cell_type": "code",
   "execution_count": null,
   "metadata": {},
   "outputs": [],
   "source": [
    "\n",
    "plt.plot(ts_raw, bufA_prev, 'g', label = 'sig %s'%ind)\n",
    "plt.legend()"
   ]
  },
  {
   "cell_type": "code",
   "execution_count": null,
   "metadata": {
    "ExecuteTime": {
     "end_time": "2018-11-22T14:14:42.874572Z",
     "start_time": "2018-11-22T14:14:40.626Z"
    }
   },
   "outputs": [],
   "source": [
    "SR = 400e6\n",
    "IF = 25e6\n",
    "IF_per = int(SR/IF)\n",
    "t_max = 1e-3\n",
    "\n",
    "#station.alazar.clock_source('INTERNAL_CLOCK')\n",
    "station.alazar.clock_source('EXTERNAL_CLOCK_10MHz_REF')\n",
    "station.alazar.sample_rate(int(SR))\n",
    "#station.alazar.sample_rate(SR)\n",
    "ctl = station.Qp_detector\n",
    "\n",
    "npoints = t_max*SR\n",
    "dIQ = np.exp(2.j*np.pi*np.arange(IF_per)/IF_per)\n",
    "#\n",
    "station.alazar.channel_range1(0.4)\n",
    "station.alazar.channel_range2(0.4)\n",
    "station.Qp_detector.setup_acquisition(npoints, 1, 32)\n",
    "\n",
    "freqs = np.linspace(5.,5.4, 201)\n",
    "def get_IQ():\n",
    "    data = take_data()\n",
    "    avg_dat = np.average(data[0,:,0,:,0], axis = 0)\n",
    "    IQ = np.average(qpp.demod(avg_dat, dIQ, 1))\n",
    "    return IQ\n",
    "    \n",
    "IQs = []\n",
    "for freq in freqs:\n",
    "    station.hetsrc.frequency(freq*1e9)\n",
    "    IQs += [get_IQ()]\n",
    "plt.figure()\n",
    "plt.subplot(211)\n",
    "plt.plot(freqs, np.abs(IQs)**2)\n",
    "plt.subplot(212)\n",
    "plt.plot(freqs, np.angle(IQs, deg = True))\n"
   ]
  },
  {
   "cell_type": "code",
   "execution_count": null,
   "metadata": {},
   "outputs": [],
   "source": [
    "from characterizations import quasiparticles as qpp\n",
    "ctl = station.softsweep_ctl\n",
    "plt.figure()\n",
    "for kk in range(10):\n",
    "    ctl.acquisition()\n",
    "    dat = ctl.data\n",
    "    plt.plot(dat[:100:2])\n",
    "    plt.plot(dat[1:100+1:2])\n",
    "IF_per = ctl.sample_rate()/25e6\n"
   ]
  },
  {
   "cell_type": "code",
   "execution_count": null,
   "metadata": {},
   "outputs": [],
   "source": [
    "from characterizations import quasiparticles as qpp\n",
    "ctl = station.softsweep_ctl\n",
    "plt.figure()\n",
    "ctl.acquisition()\n",
    "dat = ctl.data\n",
    "plt.plot(dat[:100:2])\n",
    "plt.plot(dat[1:100+1:2])\n",
    "IF_per = ctl.sample_rate()/25e6\n"
   ]
  },
  {
   "cell_type": "code",
   "execution_count": null,
   "metadata": {},
   "outputs": [],
   "source": [
    "station.hetsrc.IF(25e6)\n",
    "station.hetsrc.frequency(5*1e9)\n",
    "station.LO.frequency(5.1e9)\n"
   ]
  },
  {
   "cell_type": "code",
   "execution_count": null,
   "metadata": {},
   "outputs": [],
   "source": []
  },
  {
   "cell_type": "markdown",
   "metadata": {},
   "source": [
    "# Magnetic Field Sweeps"
   ]
  },
  {
   "cell_type": "markdown",
   "metadata": {},
   "source": [
    "## TESTING UNDER DEVELOPMENT DO NOT USE UNLESS YOU ARE SURE"
   ]
  },
  {
   "cell_type": "code",
   "execution_count": null,
   "metadata": {
    "ExecuteTime": {
     "end_time": "2018-11-22T14:14:42.875573Z",
     "start_time": "2018-11-22T14:14:40.630Z"
    }
   },
   "outputs": [],
   "source": [
    "print('Measured field = ' + station.mgnt.field_measured().repr_spherical())\n",
    "print('Measured field = ' + station.mgnt.field_measured().repr_cartesian())\n",
    "print('Target field = ' + station.mgnt.field_target().repr_spherical())\n",
    "print('Target field = ' + station.mgnt.field_target().repr_cartesian())"
   ]
  },
  {
   "cell_type": "code",
   "execution_count": null,
   "metadata": {},
   "outputs": [],
   "source": [
    "# station.mgnt.theta_target(0.751073)\n",
    "# station.mgnt.phi_target(-172.98349825527708)\n",
    "#station.mgnt.r_target(0)\n",
    "# decent 0 field alignment"
   ]
  },
  {
   "cell_type": "markdown",
   "metadata": {},
   "source": [
    "### Get resonator trace and plot"
   ]
  },
  {
   "cell_type": "code",
   "execution_count": null,
   "metadata": {
    "ExecuteTime": {
     "end_time": "2018-11-22T14:14:42.876574Z",
     "start_time": "2018-11-22T14:14:40.634Z"
    }
   },
   "outputs": [],
   "source": [
    "station.hetsrc.RF.power(-20)\n",
    "hetfreqs = np.arange(5.34e9, 5.365e9, 0.2e6)\n",
    "station.TWPA.off()\n",
    "ctl = ss.setup_soft_sweep(hetfreqs, station.hetsrc.frequency, time_bin=0.2e-3, integration_time=20e-3, setup_awg=True,\n",
    "                          post_integration_delay=0.02e-3, waiting_time_per_value=40e-3)\n",
    "ctl.settling_time = 1e-3\n",
    "testout = get_resonator_spec_and_fit(hetfreqs)\n",
    "\n",
    "plt.figure()\n",
    "plt.plot(hetfreqs,testout[0]**2,'-')\n",
    "plt.plot(hetfreqs,testout[2].best_fit)\n",
    "plt.xlabel('Frequency [GHz]')\n",
    "plt.ylabel('Magnitude**2 [a.u.]')\n",
    "plt.title('Center = %.4f GHz, FWHM = %.2f MHz, Q = %.2f' % (testout[2].params['center'].value*1e-9, 2*testout[2].params['sigma'].value*1e-6, testout[2].params['center'].value/(2*testout[2].params['sigma'].value)))"
   ]
  },
  {
   "cell_type": "markdown",
   "metadata": {},
   "source": [
    "## Manual Magnet Sweeps"
   ]
  },
  {
   "cell_type": "code",
   "execution_count": null,
   "metadata": {
    "ExecuteTime": {
     "end_time": "2018-11-22T14:14:42.877574Z",
     "start_time": "2018-11-22T14:14:40.641Z"
    },
    "scrolled": true
   },
   "outputs": [],
   "source": [
    "station.mgnt.field_ramp_rate(FieldVector(x=3e-3, y=3e-3, z=3e-3)) ##sweep r\n",
    "\n",
    "\n",
    "cur_r = station.mgnt.r_measured()\n",
    "station.hetsrc.RF.power(-20)\n",
    "spec_frequencies=np.arange(5.315e9, 5.355e9, 0.7e6)\n",
    "spec_src=station.hetsrc\n",
    "station.TWPA.off()\n",
    "\n",
    "ctl = ss.setup_soft_sweep(spec_frequencies, spec_src.frequency, time_bin=0.2e-3, integration_time=10e-3, setup_awg=True,\n",
    "                          post_integration_delay=0.02e-3, waiting_time_per_value=40e-3)\n",
    "ctl.settling_time = 1e-3\n",
    "\n",
    "\n",
    "so = sweep(set_magnet_r, np.arange(cur_r,850e-3,2.0e-3))(\n",
    "    ss.measure_soft_time_avg_spec(spec_frequencies, spec_src, setup=False, \n",
    "                                  setup_awg=False,\n",
    "                                   phase_reference_arm_delay=phase_reference_arm_delay, \n",
    "                                   phase_reference_arm=True)\n",
    ")\n",
    "\n",
    "result = do_experiment(f\"resonator_magnet_r/{SAMPLE}\", so, live_plot=False)\n",
    "\n",
    "\n"
   ]
  },
  {
   "cell_type": "code",
   "execution_count": null,
   "metadata": {
    "ExecuteTime": {
     "end_time": "2018-11-22T14:14:42.878575Z",
     "start_time": "2018-11-22T14:14:40.644Z"
    }
   },
   "outputs": [],
   "source": [
    "if station.mgnt.r_measured() > 0.015:\n",
    "    cur_theta = station.mgnt.theta_measured() ##makes sure you don't get jumps if you are not exactly @ setpoint\n",
    "else:\n",
    "    cur_theta = station.mgnt.theta_target() #makes sure theta doesn't change sign when the angles are not well defined\n",
    "\n",
    "station.hetsrc.RF.power(-20)\n",
    "spec_frequencies=np.arange(5.315e9, 5.355e9, 0.7e6)\n",
    "spec_src=station.hetsrc\n",
    "\n",
    "ctl = ss.setup_soft_sweep(spec_frequencies, spec_src.frequency, time_bin=0.2e-3, integration_time=40e-3, setup_awg=True,\n",
    "                          post_integration_delay=0.02e-3, waiting_time_per_value=30e-3)\n",
    "ctl.settling_time = 1e-3\n",
    "\n",
    "\n",
    "\n",
    "so = sweep(set_magnet_theta, np.arange(cur_theta,cur_theta-0.1, -0.01))(\n",
    "    ss.measure_soft_time_avg_spec(spec_frequencies, spec_src, setup=False, \n",
    "                                  setup_awg=False,\n",
    "                                   phase_reference_arm_delay=phase_reference_arm_delay, \n",
    "                                   phase_reference_arm=True)\n",
    ")\n",
    "\n",
    "result = do_experiment(f\"resonator_magnet_theta/{SAMPLE}\", so, live_plot=False)\n",
    "\n"
   ]
  },
  {
   "cell_type": "code",
   "execution_count": null,
   "metadata": {
    "ExecuteTime": {
     "end_time": "2018-11-22T14:14:42.879576Z",
     "start_time": "2018-11-22T14:14:40.647Z"
    }
   },
   "outputs": [],
   "source": [
    "if station.mgnt.r_measured() > 0.015:\n",
    "    cur_phi = station.mgnt.phi_measured() ##makes sure you don't get jumps if you are not exactly @ setpoint\n",
    "else:\n",
    "    cur_phi = station.mgnt.phi_target() #makes sure theta doesn't change sign when the angles are not well defined\n",
    "\n",
    "station.hetsrc.RF.power(-30)\n",
    "spec_frequencies=np.arange(5.290e9, 5.315e9, 0.5e6)\n",
    "spec_src=station.hetsrc\n",
    "\n",
    "ctl = ss.setup_soft_sweep(spec_frequencies, spec_src.frequency, integration_time=30e-3)\n",
    "\n",
    "\n",
    "so = sweep(set_magnet_phi, np.arange(cur_phi,cur_phi+6, 0.5))(\n",
    "    ss.measure_soft_time_avg_spec(spec_frequencies, spec_src.frequency, setup=False)\n",
    ")\n",
    "\n",
    "result = do_experiment(f\"resonator_magnet_phi/{SAMPLE}\", so, live_plot=True)\n",
    "\n"
   ]
  },
  {
   "cell_type": "code",
   "execution_count": null,
   "metadata": {},
   "outputs": [],
   "source": [
    "station.mgnt.field_ramp_rate(FieldVector(x=3e-3, y=3e-3, z=3e-3)) ##sweep r\n",
    "\n",
    "\n",
    "cur_y = station.mgnt.y_measured()\n",
    "station.hetsrc.RF.power(-25)\n",
    "spec_frequencies=np.arange(5.275e9, 5.316e9, 0.7e6)\n",
    "spec_src=station.hetsrc\n",
    "station.TWPA.off()\n",
    "\n",
    "ctl = ss.setup_soft_sweep(spec_frequencies, spec_src.frequency, time_bin=0.2e-3, integration_time=10e-3, setup_awg=True,\n",
    "                          post_integration_delay=0.02e-3, waiting_time_per_value=40e-3)\n",
    "ctl.settling_time = 1e-3\n",
    "\n",
    "\n",
    "so = sweep(set_magnet_y, np.arange(cur_y,50e-3,0.5e-3))(\n",
    "    ss.measure_soft_time_avg_spec(spec_frequencies, spec_src, setup=False, \n",
    "                                  setup_awg=False,\n",
    "                                   phase_reference_arm_delay=phase_reference_arm_delay, \n",
    "                                   phase_reference_arm=True)\n",
    ")\n",
    "\n",
    "result = do_experiment(f\"resonator_magnet_r/{SAMPLE}\", so, live_plot=True)\n",
    "\n",
    "\n"
   ]
  },
  {
   "cell_type": "code",
   "execution_count": null,
   "metadata": {},
   "outputs": [],
   "source": [
    "station.mgnt.field_ramp_rate(FieldVector(x=3e-3, y=3e-3, z=3e-3)) ##sweep x\n",
    "\n",
    "\n",
    "cur_x = station.mgnt.x_measured()\n",
    "station.hetsrc.RF.power(-20)\n",
    "spec_frequencies=np.arange(5.315e9, 5.355e9, 0.7e6)\n",
    "spec_src=station.hetsrc\n",
    "station.TWPA.off()\n",
    "\n",
    "ctl = ss.setup_soft_sweep(spec_frequencies, spec_src.frequency, time_bin=0.2e-3, integration_time=10e-3, setup_awg=True,\n",
    "                          post_integration_delay=0.02e-3, waiting_time_per_value=40e-3)\n",
    "ctl.settling_time = 1e-3\n",
    "\n",
    "\n",
    "so = sweep(set_magnet_x, np.arange(cur_x,cur_x-1e-3,-0.02e-3))(\n",
    "    ss.measure_soft_time_avg_spec(spec_frequencies, spec_src, setup=False, \n",
    "                                  setup_awg=False,\n",
    "                                   phase_reference_arm_delay=phase_reference_arm_delay, \n",
    "                                   phase_reference_arm=True)\n",
    ")\n",
    "\n",
    "result = do_experiment(f\"resonator_magnet_r/{SAMPLE}\", so, live_plot=False)\n",
    "\n",
    "\n"
   ]
  },
  {
   "cell_type": "code",
   "execution_count": null,
   "metadata": {},
   "outputs": [],
   "source": []
  },
  {
   "cell_type": "markdown",
   "metadata": {
    "ExecuteTime": {
     "end_time": "2018-11-01T12:33:25.214315Z",
     "start_time": "2018-11-01T12:33:25.212314Z"
    }
   },
   "source": [
    "## Automated Magnet Sweeps"
   ]
  },
  {
   "cell_type": "code",
   "execution_count": null,
   "metadata": {
    "ExecuteTime": {
     "end_time": "2018-11-22T14:14:42.879576Z",
     "start_time": "2018-11-22T14:14:40.650Z"
    }
   },
   "outputs": [],
   "source": [
    "from pytopo.field_optimization.movement import FieldOptimizationProblem ##optimize at fixed mag"
   ]
  },
  {
   "cell_type": "code",
   "execution_count": null,
   "metadata": {
    "ExecuteTime": {
     "end_time": "2018-11-22T14:14:42.880577Z",
     "start_time": "2018-11-22T14:14:40.654Z"
    }
   },
   "outputs": [],
   "source": [
    "xvals = np.arange(5.29e9,5.32e9,0.5e6)\n",
    "    \n",
    "fig = plt.figure()\n",
    "ax = fig.add_subplot(111)\n",
    "ax.set_xlabel('X values')\n",
    "ax.set_ylabel('Y values')\n",
    "line = ax.plot(xvals, np.zeros_like(xvals), '.-')[0]\n",
    "\n",
    "ctl = ss.setup_soft_sweep(xvals, station.hetsrc.frequency, integration_time=30e-3)\n",
    "\n",
    "# now we wrap the measure function such that it doesn't need arguments anymore\n",
    "# of course this requires that we have already good constant values for ax and line\n",
    "measure_trace = partial(measure_and_plot_resonator, ax, line)\n",
    "\n",
    "# now we just have to call the new function wrapper without arguments\n",
    "\n",
    "\n",
    "field_opt = FieldOptimizationProblem(station.mgnt, measure_trace, get_resonator_FWHM)\n",
    "\n",
    "\n",
    "\n",
    "cur_r = station.mgnt.r_target()\n",
    "cur_theta = station.mgnt.theta_target()\n",
    "cur_phi = station.mgnt.phi_target()\n",
    "\n",
    "with station.TWPA():\n",
    "    opt, extra = field_opt.optimize_at_fixed_magnitude(\n",
    "        cur_r, (cur_phi-3, cur_phi+3), 2,(cur_theta-0.1, cur_theta+0.1), 2,\n",
    "        plot=True, return_extra=True, verbose=True, ramp_rate=1e-3, n_steps=3\n",
    "    )\n",
    "# station.TWPA.off()"
   ]
  },
  {
   "cell_type": "code",
   "execution_count": null,
   "metadata": {
    "ExecuteTime": {
     "end_time": "2018-11-22T14:14:42.881578Z",
     "start_time": "2018-11-22T14:14:40.657Z"
    }
   },
   "outputs": [],
   "source": [
    "station.mgnt.r_measured()"
   ]
  },
  {
   "cell_type": "code",
   "execution_count": null,
   "metadata": {
    "ExecuteTime": {
     "end_time": "2018-11-22T14:14:42.881578Z",
     "start_time": "2018-11-22T14:14:40.660Z"
    },
    "scrolled": false
   },
   "outputs": [],
   "source": [
    "station.RF.power(-30)\n",
    "xvals = np.arange(5.295e9,5.317e9,0.4e6)\n",
    "    \n",
    "fig = plt.figure()\n",
    "ax = fig.add_subplot(111)\n",
    "ax.set_xlabel('X values')\n",
    "ax.set_ylabel('Y values')\n",
    "line = ax.plot(xvals, np.zeros_like(xvals), '.-')[0]\n",
    "\n",
    "ctl = ss.setup_soft_sweep(xvals, station.hetsrc.frequency, integration_time=30e-3)\n",
    "\n",
    "# now we wrap the measure function such that it doesn't need arguments anymore\n",
    "# of course this requires that we have already good constant values for ax and line\n",
    "measure_trace = partial(measure_and_plot_resonator, ax, line)\n",
    "\n",
    "# now we just have to call the new function wrapper without arguments\n",
    "\n",
    "\n",
    "field_opt = FieldOptimizationProblem(station.mgnt, measure_trace, get_resonator_FWHM)\n",
    "\n",
    "\n",
    "\n",
    "cur_r = station.mgnt.r_measured()\n",
    "cur_theta = station.mgnt.theta_measured()\n",
    "cur_phi = station.mgnt.phi_measured()\n",
    "\n",
    "\n",
    "#with station.TWPA():\n",
    "optimum, extra = field_opt.optimize_and_ramp_magnitude(\n",
    "    cur_r, 1000e-3, 300,\n",
    "    cur_phi, 0, 1,\n",
    "    cur_theta, 0.0025, 3,\n",
    "    reoptimization_threshold=4.,\n",
    "    ramp_rate=3e-3,\n",
    "    n_steps=7,\n",
    "    return_extra=True\n",
    "    )\n",
    "\n",
    "# # station.TWPA.off()"
   ]
  },
  {
   "cell_type": "code",
   "execution_count": null,
   "metadata": {
    "ExecuteTime": {
     "end_time": "2018-11-22T14:14:42.882578Z",
     "start_time": "2018-11-22T14:14:40.663Z"
    }
   },
   "outputs": [],
   "source": [
    "plt.figure()\n",
    "plt.plot(\n",
    "    [field.phi for field in extra['history']['optima']],\n",
    "    [field.theta for field in extra['history']['optima']],\n",
    "    zorder=-10\n",
    ")\n",
    "plt.scatter(\n",
    "    [field.phi for field in extra['history']['optima']],\n",
    "    [field.theta for field in extra['history']['optima']],\n",
    "    c=[field.r for field in extra['history']['optima']]\n",
    ")\n",
    "plt.colorbar()"
   ]
  },
  {
   "cell_type": "code",
   "execution_count": null,
   "metadata": {
    "ExecuteTime": {
     "end_time": "2018-11-22T14:14:42.883579Z",
     "start_time": "2018-11-22T14:14:40.666Z"
    }
   },
   "outputs": [],
   "source": [
    "plt.figure()\n",
    "plt.plot(extra['history']['objectives'])"
   ]
  },
  {
   "cell_type": "markdown",
   "metadata": {
    "heading_collapsed": true
   },
   "source": [
    "# OLD STUFF BELOW - ONLY REFERENCE"
   ]
  },
  {
   "cell_type": "code",
   "execution_count": null,
   "metadata": {
    "ExecuteTime": {
     "end_time": "2018-11-22T14:14:42.884580Z",
     "start_time": "2018-11-22T14:14:40.670Z"
    },
    "hidden": true,
    "scrolled": false
   },
   "outputs": [],
   "source": [
    "frqs, data = soft_resonator_spec(5.6e9, 5.7e9, 1e6, RF_power=-70)"
   ]
  },
  {
   "cell_type": "markdown",
   "metadata": {
    "heading_collapsed": true,
    "hidden": true
   },
   "source": [
    "## Resonator vs time"
   ]
  },
  {
   "cell_type": "code",
   "execution_count": null,
   "metadata": {
    "ExecuteTime": {
     "end_time": "2018-11-22T14:14:42.885581Z",
     "start_time": "2018-11-22T14:14:40.674Z"
    },
    "hidden": true
   },
   "outputs": [],
   "source": [
    "start, stop, step = 5.6e9, 5.7e9, 2e6\n",
    "integration_time = 10e-3\n",
    "trigger_interval = 1e-3\n",
    "\n",
    "exp = new_experiment(name='resonator_spec_vs_time', sample_name=qc.config.user.experiment.sample_name)\n",
    "\n",
    "# set basic RF stuff\n",
    "station.hetsrc.RF.power(-70)\n",
    "\n",
    "ctl = station.post_iq_acq\n",
    "ctl.average_buffers(True)\n",
    "ctl.demod_frq(station.hetsrc.IF())\n",
    "\n",
    "SR = station.alazar.sample_rate()\n",
    "t_buf = trigger_interval - 10e-6\n",
    "nbufs = int(integration_time // trigger_interval)\n",
    "\n",
    "acq_size = 2 * integration_time * SR * 1e-6 # in MB\n",
    "buf_size = 2 * t_buf * SR * 1e-6\n",
    "print(f'acquisition size: {acq_size} MB; {buf_size} MB/buffer.')  \n",
    "print(f'acquisition time/buffer: {t_buf*1e6} us; {nbufs} buffers.')\n",
    "\n",
    "ctl.setup_acquisition(\n",
    "    samples=int(t_buf * SR // 64 * 64),\n",
    "    records=1,\n",
    "    buffers=nbufs,\n",
    "    allocated_buffers=10,\n",
    ")\n",
    "\n",
    "tvals = np.arange(100)\n",
    "frqs = np.arange(start, stop+step, step)\n",
    "data = np.zeros((frqs.size, 2), dtype=np.complex64)\n",
    "\n",
    "m = acquisition_tools.AlazarMeasurement(\n",
    "    station=station, exp=exp, \n",
    "    soft_params=['iteration', station.hetsrc.frequency],\n",
    "    hard_axes=[\n",
    "        ('channel', np.array([1,2])),\n",
    "    ],\n",
    "    imag=False, real=False, mag=True, phase=True,\n",
    ")\n",
    "\n",
    "with m.run() as datasaver:\n",
    "\n",
    "    datasaver.dataset.subscribe(\n",
    "        QcodesDatasetSubscriber(datasaver.dataset), \n",
    "        state=[], min_wait=0, min_count=1,\n",
    "    )\n",
    "\n",
    "    for j, it in enumerate(tvals):\n",
    "        for i, f in enumerate(frqs):\n",
    "            print(f'Current iteration: {it}. Current frequency: {f*1e-6:.2f} MHz', end='\\r')\n",
    "            station.hetsrc.frequency(f)\n",
    "            time.sleep(0.01)\n",
    "\n",
    "            _data = ctl.acquisition()[0,0,0,:]\n",
    "            data[i,:] = _data\n",
    "            mag, phase = np.abs(_data), np.angle(_data, deg=True)\n",
    "\n",
    "            result = m.get_result(_data, (station.hetsrc.frequency, f), ('iteration', it))\n",
    "            datasaver.add_result(*result)"
   ]
  },
  {
   "cell_type": "markdown",
   "metadata": {
    "heading_collapsed": true
   },
   "source": [
    "# Gate response"
   ]
  },
  {
   "cell_type": "code",
   "execution_count": null,
   "metadata": {
    "ExecuteTime": {
     "end_time": "2018-11-22T14:14:42.885581Z",
     "start_time": "2018-11-22T14:14:40.677Z"
    },
    "hidden": true
   },
   "outputs": [],
   "source": [
    "station.hetsrc.frequency(5.647e9)\n",
    "station.hetsrc.RF.power(-70)\n",
    "SR = station.alazar.sample_rate()\n",
    "dac = station.ivvi.dac1\n",
    "dacl = station.ivvi.dac11\n",
    "dacr = station.ivvi.dac13\n",
    "\n",
    "station = qc.Station.default\n",
    "exp = new_experiment(name='gate_response', sample_name=qc.config.user.experiment.sample_name)\n",
    "\n",
    "ctl = station.post_iq_acq\n",
    "ctl.average_buffers(True)\n",
    "ctl.demod_frq(station.hetsrc.IF())\n",
    "\n",
    "ctl.setup_acquisition(\n",
    "        samples=int(980e-6 * SR // 64 * 64),\n",
    "        records=1,\n",
    "        buffers=10,\n",
    "        allocated_buffers=10,\n",
    "    )\n",
    "\n",
    "gatevals = np.arange(0, 1000, 0.5)\n",
    "\n",
    "m = acquisition_tools.AlazarMeasurement(\n",
    "        station=station, exp=exp, \n",
    "        soft_params=[dacl],\n",
    "        hard_axes=[\n",
    "            ('channel', np.array([1,2])),\n",
    "        ],\n",
    "        imag=False, real=False, mag=True, phase=True,\n",
    "    )\n",
    "\n",
    "with m.run() as datasaver:\n",
    "        \n",
    "    datasaver.dataset.subscribe(\n",
    "        QcodesDatasetSubscriber(datasaver.dataset), \n",
    "        state=[], min_wait=0, min_count=1,\n",
    "    )\n",
    "\n",
    "    for i, g in enumerate(gatevals):\n",
    "        print(f'Current gate voltage: {g} mV', end='\\r')\n",
    "        dacl(int(g))\n",
    "        dacr(int(g))\n",
    "        dac(int(g))\n",
    "\n",
    "        _data = ctl.acquisition()[0,0,0,:]\n",
    "        mag, phase = np.abs(_data), np.angle(_data, deg=True)\n",
    "\n",
    "        result = m.get_result(_data, (dacl, g))\n",
    "        datasaver.add_result(*result)"
   ]
  },
  {
   "cell_type": "code",
   "execution_count": null,
   "metadata": {
    "hidden": true
   },
   "outputs": [],
   "source": []
  },
  {
   "cell_type": "markdown",
   "metadata": {},
   "source": [
    "# Qubit spec"
   ]
  },
  {
   "cell_type": "code",
   "execution_count": null,
   "metadata": {},
   "outputs": [],
   "source": []
  },
  {
   "cell_type": "markdown",
   "metadata": {},
   "source": [
    "# Scribble"
   ]
  },
  {
   "cell_type": "code",
   "execution_count": null,
   "metadata": {},
   "outputs": [],
   "source": []
  },
  {
   "cell_type": "code",
   "execution_count": null,
   "metadata": {
    "ExecuteTime": {
     "end_time": "2018-11-22T14:14:42.886581Z",
     "start_time": "2018-11-22T14:14:40.687Z"
    }
   },
   "outputs": [],
   "source": [
    "f\"{123456:1.3e}\""
   ]
  },
  {
   "cell_type": "code",
   "execution_count": null,
   "metadata": {},
   "outputs": [],
   "source": []
  }
 ],
 "metadata": {
  "celltoolbar": "Initialization Cell",
  "kernelspec": {
   "display_name": "Python 3",
   "language": "python",
   "name": "python3"
  },
  "language_info": {
   "codemirror_mode": {
    "name": "ipython",
    "version": 3
   },
   "file_extension": ".py",
   "mimetype": "text/x-python",
   "name": "python",
   "nbconvert_exporter": "python",
   "pygments_lexer": "ipython3",
   "version": "3.6.6"
  },
  "toc": {
   "base_numbering": 1,
   "nav_menu": {},
   "number_sections": true,
   "sideBar": true,
   "skip_h1_title": false,
   "title_cell": "Table of Contents",
   "title_sidebar": "Contents",
   "toc_cell": false,
   "toc_position": {
    "height": "calc(100% - 180px)",
    "left": "10px",
    "top": "150px",
    "width": "324.74px"
   },
   "toc_section_display": true,
   "toc_window_display": true
  }
 },
 "nbformat": 4,
 "nbformat_minor": 2
}
